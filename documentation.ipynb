{
 "cells": [
  {
   "cell_type": "markdown",
   "metadata": {},
   "source": [
    "# __GRU Documentation__"
   ]
  },
  {
   "cell_type": "markdown",
   "metadata": {},
   "source": [
    "# Clip Data\n",
    "\n",
    "## Regression\n",
    "\n",
    "__Model scripts to generate the results__\n",
    "\n",
    "- `bhv_gru.py`: GRU model\n",
    "- `bhv_cpm.py`: connectome-based predictive model\n",
    "- `bhv_ff.py`: fully-connected layer model\n",
    "- `bhv_tcn.py`: temporally connected network model\n",
    "\n",
    "All of the above scripts accept the name of the behavioral measure as the `--bhv` argument. There are 7 behavioral measures and their names are as follows: \n",
    "\n",
    "1. PMAT24_A_CR\n",
    "2. PicVocab_Unadj \n",
    "3. NEOFAC_A\n",
    "4. NEOFAC_E\n",
    "5. NEOFAC_C\n",
    "6. NEOFAC_N\n",
    "7. NEOFAC_O\n",
    "\n",
    "The model scripts need to be run for each behavioral measure separately.\n",
    "\n",
    "__Plotting notebooks__\n",
    "- bhv_compare.ipynb: plots results  \n",
    "\n",
    "## Classification\n",
    "\n",
    "__Model scripts to generate the results__\n",
    "\n",
    "- `clip_gru.py`: GRU model\n",
    "- `clip_cpm.py`: connectome-based predictive model\n",
    "- `clip_ff.py`: fully-connected layer model\n",
    "- `clip_tcn.py`: temporally connected network model\n",
    "\n",
    "__GRU script to generate permutation results__\n",
    "- `clip_gru_perm`\n",
    "\n",
    "__Plotting notebooks__\n",
    "- `clip_performance_compare.ipynb`: plots preformance comparisons of different models\n",
    "- `clip_gru.ipynb`: plots results only for the GRU model. Includes cross-validation and permutation results"
   ]
  },
  {
   "cell_type": "markdown",
   "metadata": {},
   "source": [
    "# Emoprox II: rvAI Voxelwise Data\n",
    "\n",
    "Data path: `ada:/home/climbach/approach-retreat/data/processed/03a-segments_normWithinSubjRun_rAI.pkl` \n",
    "\n",
    "Data extraction script: `bswift:Pessoa_Lab/eCON/ApprRetrSeg/scripts/voxelwise_rvAI_segments.py`\n",
    "\n",
    "__Model script to generate results__\n",
    "- `emo_gru.py`\n",
    "\n",
    "__Plotting notebooks__\n",
    "- `emo_gru.ipynb`: plots cross-validation and final results\n"
   ]
  },
  {
   "cell_type": "code",
   "execution_count": null,
   "metadata": {},
   "outputs": [],
   "source": []
  }
 ],
 "metadata": {
  "kernelspec": {
   "display_name": "Python 3.6.9 (tensorflow)",
   "language": "python",
   "name": "tensorflow"
  },
  "language_info": {
   "codemirror_mode": {
    "name": "ipython",
    "version": 3
   },
   "file_extension": ".py",
   "mimetype": "text/x-python",
   "name": "python",
   "nbconvert_exporter": "python",
   "pygments_lexer": "ipython3",
   "version": "3.6.9"
  }
 },
 "nbformat": 4,
 "nbformat_minor": 4
}
