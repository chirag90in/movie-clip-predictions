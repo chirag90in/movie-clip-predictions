{
 "cells": [
  {
   "cell_type": "code",
   "execution_count": 1,
   "metadata": {},
   "outputs": [],
   "source": [
    "import numpy as np\n",
    "import pandas as pd\n",
    "import pickle\n",
    "import matplotlib.pyplot as plt\n",
    "import seaborn as sns\n",
    "sns.set_context(context='notebook',font_scale=1.5)\n",
    "from gru.cc_utils import _get_clip_labels\n",
    "%matplotlib inline"
   ]
  },
  {
   "cell_type": "markdown",
   "metadata": {},
   "source": [
    "## Cross Validation Results"
   ]
  },
  {
   "cell_type": "code",
   "execution_count": 2,
   "metadata": {},
   "outputs": [],
   "source": [
    "with open('results/clip_tcn/roi_300_net_7_nw_wb_trainsize_100_kfold_5_batch_size_32_num_epochs_50_z_1_GSCV.pkl',\"rb\") as  f:\n",
    "    results, params = pickle.load(f)"
   ]
  },
  {
   "cell_type": "code",
   "execution_count": 3,
   "metadata": {},
   "outputs": [
    {
     "data": {
      "text/plain": [
       "[{'k_hidden': 8, 'k_wind': 10},\n",
       " {'k_hidden': 8, 'k_wind': 50},\n",
       " {'k_hidden': 16, 'k_wind': 10},\n",
       " {'k_hidden': 16, 'k_wind': 50},\n",
       " {'k_hidden': 32, 'k_wind': 10},\n",
       " {'k_hidden': 32, 'k_wind': 50},\n",
       " {'k_hidden': 64, 'k_wind': 10},\n",
       " {'k_hidden': 64, 'k_wind': 50}]"
      ]
     },
     "execution_count": 3,
     "metadata": {},
     "output_type": "execute_result"
    }
   ],
   "source": [
    "params"
   ]
  },
  {
   "cell_type": "code",
   "execution_count": 4,
   "metadata": {},
   "outputs": [
    {
     "data": {
      "text/html": [
       "<div>\n",
       "<style scoped>\n",
       "    .dataframe tbody tr th:only-of-type {\n",
       "        vertical-align: middle;\n",
       "    }\n",
       "\n",
       "    .dataframe tbody tr th {\n",
       "        vertical-align: top;\n",
       "    }\n",
       "\n",
       "    .dataframe thead th {\n",
       "        text-align: right;\n",
       "    }\n",
       "</style>\n",
       "<table border=\"1\" class=\"dataframe\">\n",
       "  <thead>\n",
       "    <tr style=\"text-align: right;\">\n",
       "      <th></th>\n",
       "      <th>model</th>\n",
       "      <th>dset</th>\n",
       "      <th>fold</th>\n",
       "      <th>accuracy</th>\n",
       "    </tr>\n",
       "  </thead>\n",
       "  <tbody>\n",
       "    <tr>\n",
       "      <th>0</th>\n",
       "      <td>model00</td>\n",
       "      <td>train</td>\n",
       "      <td>0</td>\n",
       "      <td>0.148889</td>\n",
       "    </tr>\n",
       "    <tr>\n",
       "      <th>1</th>\n",
       "      <td>model00</td>\n",
       "      <td>val</td>\n",
       "      <td>0</td>\n",
       "      <td>0.135460</td>\n",
       "    </tr>\n",
       "    <tr>\n",
       "      <th>2</th>\n",
       "      <td>model01</td>\n",
       "      <td>train</td>\n",
       "      <td>0</td>\n",
       "      <td>0.325383</td>\n",
       "    </tr>\n",
       "    <tr>\n",
       "      <th>3</th>\n",
       "      <td>model01</td>\n",
       "      <td>val</td>\n",
       "      <td>0</td>\n",
       "      <td>0.259724</td>\n",
       "    </tr>\n",
       "    <tr>\n",
       "      <th>4</th>\n",
       "      <td>model02</td>\n",
       "      <td>train</td>\n",
       "      <td>0</td>\n",
       "      <td>0.162314</td>\n",
       "    </tr>\n",
       "  </tbody>\n",
       "</table>\n",
       "</div>"
      ],
      "text/plain": [
       "     model   dset fold  accuracy\n",
       "0  model00  train    0  0.148889\n",
       "1  model00    val    0  0.135460\n",
       "2  model01  train    0  0.325383\n",
       "3  model01    val    0  0.259724\n",
       "4  model02  train    0  0.162314"
      ]
     },
     "execution_count": 4,
     "metadata": {},
     "output_type": "execute_result"
    }
   ],
   "source": [
    "df = pd.DataFrame.from_dict({(i,j): results[i][j] for i in results.keys()\n",
    "                             for j in ['train','val']}).T\n",
    "\n",
    "df.index.set_names(['model','dset'],inplace=True) \n",
    "df.reset_index(inplace=True)\n",
    "df= df.melt(id_vars = ['model','dset'],var_name='fold',value_name='accuracy')\n",
    "df.head()"
   ]
  },
  {
   "cell_type": "code",
   "execution_count": 9,
   "metadata": {},
   "outputs": [
    {
     "name": "stdout",
     "output_type": "stream",
     "text": [
      "Best val accuray of: 0.285\n"
     ]
    },
    {
     "data": {
      "image/png": "[encoded data removed]",
      "text/plain": [
       "<Figure size 936x360 with 1 Axes>"
      ]
     },
     "metadata": {
      "needs_background": "light"
     },
     "output_type": "display_data"
    }
   ],
   "source": [
    "plt.figure(figsize=(13,5))\n",
    "ax = sns.barplot(x='model',y='accuracy',data=df,hue='dset')\n",
    "ax.set_xticklabels([(d['k_hidden'],d['k_wind']) for d in params])\n",
    "ax.set_xlabel('Hidden units, wind')\n",
    "acc = df[df['dset']=='val'].groupby('model').mean().sort_values(by='accuracy',ascending=False).iloc[0,0]\n",
    "opt_model = df[df['dset']=='val'].groupby('model').mean().sort_values(by='accuracy',ascending=False).head(1).index.item()\n",
    "print('Best val accuray of: %.3f' %(acc))"
   ]
  },
  {
   "cell_type": "code",
   "execution_count": 8,
   "metadata": {},
   "outputs": [
    {
     "data": {
      "text/html": [
       "<div>\n",
       "<style scoped>\n",
       "    .dataframe tbody tr th:only-of-type {\n",
       "        vertical-align: middle;\n",
       "    }\n",
       "\n",
       "    .dataframe tbody tr th {\n",
       "        vertical-align: top;\n",
       "    }\n",
       "\n",
       "    .dataframe thead th {\n",
       "        text-align: right;\n",
       "    }\n",
       "</style>\n",
       "<table border=\"1\" class=\"dataframe\">\n",
       "  <thead>\n",
       "    <tr style=\"text-align: right;\">\n",
       "      <th></th>\n",
       "      <th></th>\n",
       "      <th>mean</th>\n",
       "      <th>std</th>\n",
       "    </tr>\n",
       "    <tr>\n",
       "      <th>model</th>\n",
       "      <th>dset</th>\n",
       "      <th></th>\n",
       "      <th></th>\n",
       "    </tr>\n",
       "  </thead>\n",
       "  <tbody>\n",
       "    <tr>\n",
       "      <th>model03</th>\n",
       "      <th>train</th>\n",
       "      <td>0.384195</td>\n",
       "      <td>0.006500</td>\n",
       "    </tr>\n",
       "    <tr>\n",
       "      <th>model05</th>\n",
       "      <th>train</th>\n",
       "      <td>0.383271</td>\n",
       "      <td>0.006194</td>\n",
       "    </tr>\n",
       "    <tr>\n",
       "      <th>model07</th>\n",
       "      <th>train</th>\n",
       "      <td>0.383184</td>\n",
       "      <td>0.005386</td>\n",
       "    </tr>\n",
       "    <tr>\n",
       "      <th>model01</th>\n",
       "      <th>train</th>\n",
       "      <td>0.322667</td>\n",
       "      <td>0.004292</td>\n",
       "    </tr>\n",
       "    <tr>\n",
       "      <th>model03</th>\n",
       "      <th>val</th>\n",
       "      <td>0.285417</td>\n",
       "      <td>0.011419</td>\n",
       "    </tr>\n",
       "    <tr>\n",
       "      <th>model07</th>\n",
       "      <th>val</th>\n",
       "      <td>0.285002</td>\n",
       "      <td>0.009860</td>\n",
       "    </tr>\n",
       "    <tr>\n",
       "      <th>model05</th>\n",
       "      <th>val</th>\n",
       "      <td>0.283679</td>\n",
       "      <td>0.009927</td>\n",
       "    </tr>\n",
       "    <tr>\n",
       "      <th>model01</th>\n",
       "      <th>val</th>\n",
       "      <td>0.259362</td>\n",
       "      <td>0.010583</td>\n",
       "    </tr>\n",
       "    <tr>\n",
       "      <th>model06</th>\n",
       "      <th>train</th>\n",
       "      <td>0.169631</td>\n",
       "      <td>0.004428</td>\n",
       "    </tr>\n",
       "    <tr>\n",
       "      <th>model04</th>\n",
       "      <th>train</th>\n",
       "      <td>0.169028</td>\n",
       "      <td>0.004522</td>\n",
       "    </tr>\n",
       "    <tr>\n",
       "      <th>model02</th>\n",
       "      <th>train</th>\n",
       "      <td>0.166483</td>\n",
       "      <td>0.004461</td>\n",
       "    </tr>\n",
       "    <tr>\n",
       "      <th>model06</th>\n",
       "      <th>val</th>\n",
       "      <td>0.151177</td>\n",
       "      <td>0.005866</td>\n",
       "    </tr>\n",
       "    <tr>\n",
       "      <th>model04</th>\n",
       "      <th>val</th>\n",
       "      <td>0.150898</td>\n",
       "      <td>0.005950</td>\n",
       "    </tr>\n",
       "    <tr>\n",
       "      <th>model02</th>\n",
       "      <th>val</th>\n",
       "      <td>0.149477</td>\n",
       "      <td>0.005878</td>\n",
       "    </tr>\n",
       "    <tr>\n",
       "      <th rowspan=\"2\" valign=\"top\">model00</th>\n",
       "      <th>train</th>\n",
       "      <td>0.149344</td>\n",
       "      <td>0.003545</td>\n",
       "    </tr>\n",
       "    <tr>\n",
       "      <th>val</th>\n",
       "      <td>0.138922</td>\n",
       "      <td>0.004927</td>\n",
       "    </tr>\n",
       "  </tbody>\n",
       "</table>\n",
       "</div>"
      ],
      "text/plain": [
       "                   mean       std\n",
       "model   dset                     \n",
       "model03 train  0.384195  0.006500\n",
       "model05 train  0.383271  0.006194\n",
       "model07 train  0.383184  0.005386\n",
       "model01 train  0.322667  0.004292\n",
       "model03 val    0.285417  0.011419\n",
       "model07 val    0.285002  0.009860\n",
       "model05 val    0.283679  0.009927\n",
       "model01 val    0.259362  0.010583\n",
       "model06 train  0.169631  0.004428\n",
       "model04 train  0.169028  0.004522\n",
       "model02 train  0.166483  0.004461\n",
       "model06 val    0.151177  0.005866\n",
       "model04 val    0.150898  0.005950\n",
       "model02 val    0.149477  0.005878\n",
       "model00 train  0.149344  0.003545\n",
       "        val    0.138922  0.004927"
      ]
     },
     "execution_count": 8,
     "metadata": {},
     "output_type": "execute_result"
    }
   ],
   "source": [
    "df.groupby(['model','dset'])['accuracy'].agg([np.mean, np.std]).sort_values(by='mean',ascending=False)"
   ]
  },
  {
   "cell_type": "code",
   "execution_count": null,
   "metadata": {},
   "outputs": [],
   "source": []
  }
 ],
 "metadata": {
  "kernelspec": {
   "display_name": "Python 3.6.9 (tensorflow)",
   "language": "python",
   "name": "tensorflow"
  },
  "language_info": {
   "codemirror_mode": {
    "name": "ipython",
    "version": 3
   },
   "file_extension": ".py",
   "mimetype": "text/x-python",
   "name": "python",
   "nbconvert_exporter": "python",
   "pygments_lexer": "ipython3",
   "version": "3.6.9"
  }
 },
 "nbformat": 4,
 "nbformat_minor": 4
}
