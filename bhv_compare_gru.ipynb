{
 "cells": [
  {
   "cell_type": "code",
   "execution_count": 16,
   "metadata": {},
   "outputs": [
    {
     "data": {
      "text/html": [
       "<script>\n",
       "code_show=true; \n",
       "function code_toggle() {\n",
       " if (code_show){\n",
       " $('div.input').hide();\n",
       " } else {\n",
       " $('div.input').show();\n",
       " }\n",
       " code_show = !code_show\n",
       "} \n",
       "$( document ).ready(code_toggle);\n",
       "</script>\n",
       "<form action=\"javascript:code_toggle()\"><input type=\"submit\" value=\"Click here to toggle on/off the raw code.\"></form>"
      ],
      "text/plain": [
       "<IPython.core.display.HTML object>"
      ]
     },
     "execution_count": 16,
     "metadata": {},
     "output_type": "execute_result"
    }
   ],
   "source": [
    "from IPython.display import HTML\n",
    "\n",
    "HTML('''<script>\n",
    "code_show=true; \n",
    "function code_toggle() {\n",
    " if (code_show){\n",
    " $('div.input').hide();\n",
    " } else {\n",
    " $('div.input').show();\n",
    " }\n",
    " code_show = !code_show\n",
    "} \n",
    "$( document ).ready(code_toggle);\n",
    "</script>\n",
    "<form action=\"javascript:code_toggle()\"><input type=\"submit\" value=\"Click here to toggle on/off the raw code.\"></form>''')"
   ]
  },
  {
   "cell_type": "markdown",
   "metadata": {},
   "source": [
    "# Behavior and personality prediction using HCP movie-watching data"
   ]
  },
  {
   "cell_type": "code",
   "execution_count": 1,
   "metadata": {},
   "outputs": [
    {
     "data": {
      "text/html": [
       "        <script type=\"text/javascript\">\n",
       "        window.PlotlyConfig = {MathJaxConfig: 'local'};\n",
       "        if (window.MathJax) {MathJax.Hub.Config({SVG: {font: \"STIX-Web\"}});}\n",
       "        if (typeof require !== 'undefined') {\n",
       "        require.undef(\"plotly\");\n",
       "        requirejs.config({\n",
       "            paths: {\n",
       "                'plotly': ['https://cdn.plot.ly/plotly-latest.min']\n",
       "            }\n",
       "        });\n",
       "        require(['plotly'], function(Plotly) {\n",
       "            window._Plotly = Plotly;\n",
       "        });\n",
       "        }\n",
       "        </script>\n",
       "        "
      ]
     },
     "metadata": {},
     "output_type": "display_data"
    },
    {
     "name": "stderr",
     "output_type": "stream",
     "text": [
      "pixdim[1,2,3] should be non-zero; setting 0 dims to 1\n"
     ]
    }
   ],
   "source": [
    "%load_ext autoreload\n",
    "%autoreload 2\n",
    "\n",
    "import numpy as np\n",
    "import pandas as pd\n",
    "import pickle\n",
    "import os\n",
    "from cc_utils import _get_clip_labels\n",
    "from gru.rb_utils import (\n",
    "    _get_results, get_cv_tbest, cv_agg,\n",
    "    get_grid_acc, get_best_param,\n",
    "    get_test_tbest, get_test_predictions,\n",
    "    get_static, get_static_predictions)\n",
    "\n",
    "# plot\n",
    "import plotly.offline as py\n",
    "py.init_notebook_mode(connected=True)\n",
    "import plotly.graph_objs as go\n",
    "import plotly.express as px\n",
    "from plotly.subplots import make_subplots\n",
    "import plotly.io as pio\n",
    "pio.templates.default = 'plotly_white'\n",
    "from plot_utils import (\n",
    "    _hex_to_rgb, _plot_ts,\n",
    "    _add_box, _highlight_max)\n",
    "\n",
    "colors = px.colors.qualitative.Plotly\n",
    "ccc = {'Train': '#D55E00', \n",
    "    'Validation': '#CC79A7',\n",
    "    'Test': '#CC79A7'}"
   ]
  },
  {
   "cell_type": "markdown",
   "metadata": {},
   "source": [
    "## Important parameters for visualization"
   ]
  },
  {
   "cell_type": "code",
   "execution_count": 2,
   "metadata": {},
   "outputs": [],
   "source": [
    "\"\"\" score: accuracy measure\n",
    "    \n",
    "    options:\n",
    "        's': Spearman rank correlation\n",
    "        'p': Pearson correlation\n",
    "        'mse': mean-squared error\n",
    "\"\"\"\n",
    "score = 's'\n",
    "pretty_score = 'Spearman rank correlation'\n",
    "\n",
    "\"\"\" criteria for hyperparameter selection\n",
    "    note: predictions are made for each clip\n",
    "    \n",
    "    options:\n",
    "        'max': based on 'max/min' score across clips\n",
    "        'mean': based on 'mean' score across clips\n",
    "\"\"\"\n",
    "criteria = 'mean'"
   ]
  },
  {
   "cell_type": "markdown",
   "metadata": {},
   "source": [
    "## Model parameters and clip information"
   ]
  },
  {
   "cell_type": "code",
   "execution_count": 3,
   "metadata": {},
   "outputs": [],
   "source": [
    "roi = 300\n",
    "net = 7\n",
    "subnet = 'wb'\n",
    "\n",
    "zscore = 1\n",
    "k_fold = 5\n",
    "train_size = 100"
   ]
  },
  {
   "cell_type": "code",
   "execution_count": 4,
   "metadata": {},
   "outputs": [
    {
     "name": "stdout",
     "output_type": "stream",
     "text": [
      "Behavior / personality scores include:\n",
      "Fluid Intelligence\n",
      "Verbal IQ\n",
      "NEOFAC_A\n",
      "NEOFAC_E\n",
      "NEOFAC_C\n",
      "NEOFAC_N\n",
      "NEOFAC_O\n"
     ]
    }
   ],
   "source": [
    "clip_y = _get_clip_labels()\n",
    "clip_y['testretest'] = 0\n",
    "k_clip = len(np.unique(list(clip_y.values())))\n",
    "\n",
    "clip_names = np.zeros(k_clip).astype(str)\n",
    "clip_names[0] = 'testretest'\n",
    "for key, item in clip_y.items():\n",
    "    if item != 0:\n",
    "        clip_names[item] = key\n",
    "        \n",
    "select_bhv = ['PMAT24_A_CR', 'PicVocab_Unadj',\n",
    "              'NEOFAC_A', 'NEOFAC_E', 'NEOFAC_C',\n",
    "              'NEOFAC_N', 'NEOFAC_O']\n",
    "\n",
    "pretty_bhv = {}\n",
    "for bhv in select_bhv:\n",
    "    pretty_bhv[bhv] = bhv\n",
    "pretty_bhv['PMAT24_A_CR'] = 'Fluid Intelligence'\n",
    "pretty_bhv['PicVocab_Unadj'] = 'Verbal IQ'\n",
    "print('Behavior / personality scores include:')\n",
    "for bhv in select_bhv:\n",
    "    print(pretty_bhv[bhv])"
   ]
  },
  {
   "cell_type": "code",
   "execution_count": 5,
   "metadata": {},
   "outputs": [],
   "source": [
    "class GRU_ARGS():\n",
    "    roi = roi\n",
    "    net = net\n",
    "    subnet = subnet\n",
    "    \n",
    "    zscore = zscore\n",
    "    k_fold = k_fold\n",
    "    train_size = train_size\n",
    "    \n",
    "    # model\n",
    "    model_type = 'gru'\n",
    "    k_param = [16]\n",
    "    param_str = 'k_hidden'\n",
    "    k_layers = 3\n",
    "    batch_size = 30\n",
    "    num_epochs = [20]\n",
    "    \n",
    "    l2 = 0.0\n",
    "    dropout=0.000001\n",
    "    lr=0.001\n",
    "    \n",
    "    RES_DIR = 'results/bhv_{}'.format(model_type)\n",
    "    \n",
    "    select_bhv = select_bhv\n",
    "    clip_names = clip_names\n",
    "    clip_y = clip_y"
   ]
  },
  {
   "cell_type": "code",
   "execution_count": 6,
   "metadata": {},
   "outputs": [
    {
     "name": "stdout",
     "output_type": "stream",
     "text": [
      "Models include:\n",
      "GRU  : Gated Recurrent Unit\n"
     ]
    }
   ],
   "source": [
    "models = ['gru']\n",
    "pretty_model = {'gru': 'Gated Recurrent Unit'}\n",
    "print('Models include:')\n",
    "for model in models:\n",
    "    print(f'{model.upper():5}: {pretty_model[model]}')"
   ]
  },
  {
   "cell_type": "code",
   "execution_count": 7,
   "metadata": {},
   "outputs": [],
   "source": [
    "args = {}\n",
    "args['gru'] = GRU_ARGS()\n",
    "K_RUNS = 4"
   ]
  },
  {
   "cell_type": "markdown",
   "metadata": {},
   "source": [
    "## Find best hyperparameters for behavior prediction"
   ]
  },
  {
   "cell_type": "code",
   "execution_count": 9,
   "metadata": {},
   "outputs": [
    {
     "name": "stdout",
     "output_type": "stream",
     "text": [
      "16 20\n",
      "gru  - Fluid Intelligence  : num_epochs = 20, k_hidden   = 16\n",
      "16 20\n",
      "gru  - Verbal IQ           : num_epochs = 20, k_hidden   = 16\n",
      "16 20\n",
      "gru  - NEOFAC_A            : num_epochs = 20, k_hidden   = 16\n",
      "16 20\n",
      "gru  - NEOFAC_E            : num_epochs = 20, k_hidden   = 16\n",
      "16 20\n",
      "gru  - NEOFAC_C            : num_epochs = 20, k_hidden   = 16\n",
      "16 20\n",
      "gru  - NEOFAC_N            : num_epochs = 20, k_hidden   = 16\n",
      "16 20\n",
      "gru  - NEOFAC_O            : num_epochs = 20, k_hidden   = 16\n",
      "---\n"
     ]
    }
   ],
   "source": [
    "opt_hyperparam = {}\n",
    "for model in models:\n",
    "    opt_hyperparam[model] = {}\n",
    "    for ii, bhv in enumerate(select_bhv):\n",
    "        opt_hyperparam[model][bhv] = {}\n",
    "        if model in ['gru']:\n",
    "            num_epoch, k_param = get_best_param(\n",
    "                args[model], bhv, score = score, criteria = criteria)\n",
    "            print('{:4} - {:20}: num_epochs = {:02}, {:10} = {}'.format(\n",
    "                model, pretty_bhv[bhv], num_epoch, \n",
    "                args[model].param_str, k_param))\n",
    "            opt_hyperparam[model][bhv]['num_epochs'] = num_epoch\n",
    "            opt_hyperparam[model][bhv][args[model].param_str] = k_param\n",
    "        elif model in ['cpm', 'bbs']:\n",
    "            k_param = get_best_param(\n",
    "                args[model], bhv, score = score, criteria = criteria)\n",
    "            print('{:4} - {:20}: {} = {}'.format(\n",
    "                model, bhv, args[model].param_str, k_param))\n",
    "            opt_hyperparam[model][bhv][args[model].param_str] = k_param\n",
    "    print('---')"
   ]
  },
  {
   "cell_type": "markdown",
   "metadata": {},
   "source": [
    "## Get test score and prediction based on optimal hyperparameters"
   ]
  },
  {
   "cell_type": "code",
   "execution_count": 10,
   "metadata": {},
   "outputs": [],
   "source": [
    "def get_score_and_predictions(args, star_hyper, score):\n",
    "    \"\"\"get test accuracy and predictions at tbest\n",
    "        \n",
    "    Args:\n",
    "        bhv_measures\n",
    "        star_hyper: saved optimal hyperparameters\n",
    "        score: 'p', 's', or 'mse'\n",
    "        \n",
    "    Return:\n",
    "        test_acc: best score\n",
    "        y_hat: predictions\n",
    "        y: true scores\n",
    "    \"\"\"\n",
    "    bhv_measures = args.select_bhv\n",
    "    k_clips = len(clip_names)\n",
    "    \n",
    "    test_acc = {}\n",
    "    y_hat, y = {}, {}\n",
    "    fig = {}\n",
    "    for ii, bhv in enumerate(bhv_measures):\n",
    "        \n",
    "        if args.model_type in ['gru']:\n",
    "            num_epochs = star_hyper[bhv]['num_epochs']\n",
    "            k_param = star_hyper[bhv][args.param_str]\n",
    "            r = _get_results(args, bhv, num_epochs, k_param)\n",
    "            \n",
    "            clip_test_acc = np.zeros(len(clip_names))\n",
    "            for jj, clip in enumerate(clip_names):\n",
    "                _, V = get_test_tbest(args, clip, r, score)\n",
    "                clip_test_acc[jj] = V\n",
    "\n",
    "            if score != 'mse':\n",
    "                best_clip = clip_names[np.argmax(clip_test_acc)]\n",
    "                test_acc[bhv] = np.max(clip_test_acc)\n",
    "            else:\n",
    "                best_clip = clip_names[np.argmin(clip_test_acc)]\n",
    "                test_acc[bhv] = np.min(clip_test_acc)\n",
    "\n",
    "            y_hat[bhv], y[bhv] = get_test_predictions(args, best_clip, \n",
    "                                                      r, score)\n",
    "            \n",
    "        elif args.model_type in ['cpm', 'bbs']:\n",
    "            k_param = star_hyper[bhv][args.param_str]\n",
    "            r = _get_results(args, bhv, k_param = k_param)\n",
    "\n",
    "            c_acc = np.zeros(k_clips)\n",
    "            for jj, clip in enumerate(clip_names):\n",
    "                _, V = get_static(args, clip, r, score)\n",
    "                c_acc[jj] = V\n",
    "\n",
    "            if score != 'mse':\n",
    "                best_clip = clip_names[np.argmax(c_acc)]\n",
    "            else:\n",
    "                best_clip = clip_names[np.argmin(c_acc)]\n",
    "\n",
    "            _, test_acc[bhv] = get_static(args, best_clip, r, score,\n",
    "                                          mode='test')\n",
    "\n",
    "            y_hat[bhv], y[bhv] = get_static_predictions(args, best_clip, \n",
    "                                                        r, score)\n",
    "        \n",
    "        # df for px\n",
    "        df = pd.DataFrame({'true': y[bhv],\n",
    "                           'predicted':y_hat[bhv]})\n",
    "        fig[bhv] = px.scatter(df, x='true', \n",
    "            y='predicted', trendline='ols')\n",
    "        fig[bhv].update_layout(height=350, width=400,\n",
    "                               title_text=pretty_bhv[bhv])\n",
    "        fig[bhv].update_xaxes(dtick=0.2)\n",
    "        fig[bhv].update_yaxes(dtick=0.2)\n",
    "    \n",
    "    return test_acc, y_hat, y, fig"
   ]
  },
  {
   "cell_type": "code",
   "execution_count": 11,
   "metadata": {},
   "outputs": [],
   "source": [
    "test_acc = {}\n",
    "save_y_hat, save_y = {}, {}\n",
    "for model in models:\n",
    "    t_acc, pred, true, _ = get_score_and_predictions(\n",
    "        args[model], opt_hyperparam[model], score)\n",
    "    test_acc[model] = t_acc\n",
    "    save_y_hat[model] = pred\n",
    "    save_y[model] = true"
   ]
  },
  {
   "cell_type": "code",
   "execution_count": 12,
   "metadata": {},
   "outputs": [
    {
     "data": {
      "text/html": [
       "<div>\n",
       "<style scoped>\n",
       "    .dataframe tbody tr th:only-of-type {\n",
       "        vertical-align: middle;\n",
       "    }\n",
       "\n",
       "    .dataframe tbody tr th {\n",
       "        vertical-align: top;\n",
       "    }\n",
       "\n",
       "    .dataframe thead th {\n",
       "        text-align: right;\n",
       "    }\n",
       "</style>\n",
       "<table border=\"1\" class=\"dataframe\">\n",
       "  <thead>\n",
       "    <tr style=\"text-align: right;\">\n",
       "      <th></th>\n",
       "      <th>bhv</th>\n",
       "      <th>GRU</th>\n",
       "    </tr>\n",
       "  </thead>\n",
       "  <tbody>\n",
       "    <tr>\n",
       "      <th>0</th>\n",
       "      <td>Fluid Intelligence</td>\n",
       "      <td>0.3175</td>\n",
       "    </tr>\n",
       "    <tr>\n",
       "      <th>1</th>\n",
       "      <td>Verbal IQ</td>\n",
       "      <td>0.2567</td>\n",
       "    </tr>\n",
       "    <tr>\n",
       "      <th>2</th>\n",
       "      <td>NEOFAC_A</td>\n",
       "      <td>0.0772</td>\n",
       "    </tr>\n",
       "    <tr>\n",
       "      <th>3</th>\n",
       "      <td>NEOFAC_E</td>\n",
       "      <td>0.3847</td>\n",
       "    </tr>\n",
       "    <tr>\n",
       "      <th>4</th>\n",
       "      <td>NEOFAC_C</td>\n",
       "      <td>0.3200</td>\n",
       "    </tr>\n",
       "    <tr>\n",
       "      <th>5</th>\n",
       "      <td>NEOFAC_N</td>\n",
       "      <td>0.2307</td>\n",
       "    </tr>\n",
       "    <tr>\n",
       "      <th>6</th>\n",
       "      <td>NEOFAC_O</td>\n",
       "      <td>0.2762</td>\n",
       "    </tr>\n",
       "  </tbody>\n",
       "</table>\n",
       "</div>"
      ],
      "text/plain": [
       "                  bhv     GRU\n",
       "0  Fluid Intelligence  0.3175\n",
       "1           Verbal IQ  0.2567\n",
       "2            NEOFAC_A  0.0772\n",
       "3            NEOFAC_E  0.3847\n",
       "4            NEOFAC_C  0.3200\n",
       "5            NEOFAC_N  0.2307\n",
       "6            NEOFAC_O  0.2762"
      ]
     },
     "execution_count": 12,
     "metadata": {},
     "output_type": "execute_result"
    }
   ],
   "source": [
    "best_score = {'bhv':[]}\n",
    "for model in models:\n",
    "    best_score[model.upper()] = []\n",
    "for ii, bhv in enumerate(select_bhv):\n",
    "    best_score['bhv'].append(pretty_bhv[bhv])\n",
    "    for model in models:\n",
    "        best_score[model.upper()].append(f'{test_acc[model][bhv]:.4f}')\n",
    "df = pd.DataFrame(best_score)\n",
    "df"
   ]
  },
  {
   "cell_type": "code",
   "execution_count": 13,
   "metadata": {},
   "outputs": [
    {
     "data": {
      "application/vnd.plotly.v1+json": {
       "config": {
        "plotlyServerURL": "https://plot.ly"
       },
       "data": [
        {
         "name": "GRU",
         "type": "bar",
         "x": [
          "Fluid Intelligence",
          "Verbal IQ",
          "NEOFAC_A",
          "NEOFAC_E",
          "NEOFAC_C",
          "NEOFAC_N",
          "NEOFAC_O"
         ],
         "y": [
          0.3175263138855081,
          0.25673274094326726,
          0.07723879925717514,
          0.3846634822586772,
          0.32001333460073783,
          0.23072631756962825,
          0.27624700464301144
         ]
        }
       ],
       "layout": {
        "barmode": "group",
        "template": {
         "data": {
          "bar": [
           {
            "error_x": {
             "color": "#2a3f5f"
            },
            "error_y": {
             "color": "#2a3f5f"
            },
            "marker": {
             "line": {
              "color": "white",
              "width": 0.5
             }
            },
            "type": "bar"
           }
          ],
          "barpolar": [
           {
            "marker": {
             "line": {
              "color": "white",
              "width": 0.5
             }
            },
            "type": "barpolar"
           }
          ],
          "carpet": [
           {
            "aaxis": {
             "endlinecolor": "#2a3f5f",
             "gridcolor": "#C8D4E3",
             "linecolor": "#C8D4E3",
             "minorgridcolor": "#C8D4E3",
             "startlinecolor": "#2a3f5f"
            },
            "baxis": {
             "endlinecolor": "#2a3f5f",
             "gridcolor": "#C8D4E3",
             "linecolor": "#C8D4E3",
             "minorgridcolor": "#C8D4E3",
             "startlinecolor": "#2a3f5f"
            },
            "type": "carpet"
           }
          ],
          "choropleth": [
           {
            "colorbar": {
             "outlinewidth": 0,
             "ticks": ""
            },
            "type": "choropleth"
           }
          ],
          "contour": [
           {
            "colorbar": {
             "outlinewidth": 0,
             "ticks": ""
            },
            "colorscale": [
             [
              0,
              "#0d0887"
             ],
             [
              0.1111111111111111,
              "#46039f"
             ],
             [
              0.2222222222222222,
              "#7201a8"
             ],
             [
              0.3333333333333333,
              "#9c179e"
             ],
             [
              0.4444444444444444,
              "#bd3786"
             ],
             [
              0.5555555555555556,
              "#d8576b"
             ],
             [
              0.6666666666666666,
              "#ed7953"
             ],
             [
              0.7777777777777778,
              "#fb9f3a"
             ],
             [
              0.8888888888888888,
              "#fdca26"
             ],
             [
              1,
              "#f0f921"
             ]
            ],
            "type": "contour"
           }
          ],
          "contourcarpet": [
           {
            "colorbar": {
             "outlinewidth": 0,
             "ticks": ""
            },
            "type": "contourcarpet"
           }
          ],
          "heatmap": [
           {
            "colorbar": {
             "outlinewidth": 0,
             "ticks": ""
            },
            "colorscale": [
             [
              0,
              "#0d0887"
             ],
             [
              0.1111111111111111,
              "#46039f"
             ],
             [
              0.2222222222222222,
              "#7201a8"
             ],
             [
              0.3333333333333333,
              "#9c179e"
             ],
             [
              0.4444444444444444,
              "#bd3786"
             ],
             [
              0.5555555555555556,
              "#d8576b"
             ],
             [
              0.6666666666666666,
              "#ed7953"
             ],
             [
              0.7777777777777778,
              "#fb9f3a"
             ],
             [
              0.8888888888888888,
              "#fdca26"
             ],
             [
              1,
              "#f0f921"
             ]
            ],
            "type": "heatmap"
           }
          ],
          "heatmapgl": [
           {
            "colorbar": {
             "outlinewidth": 0,
             "ticks": ""
            },
            "colorscale": [
             [
              0,
              "#0d0887"
             ],
             [
              0.1111111111111111,
              "#46039f"
             ],
             [
              0.2222222222222222,
              "#7201a8"
             ],
             [
              0.3333333333333333,
              "#9c179e"
             ],
             [
              0.4444444444444444,
              "#bd3786"
             ],
             [
              0.5555555555555556,
              "#d8576b"
             ],
             [
              0.6666666666666666,
              "#ed7953"
             ],
             [
              0.7777777777777778,
              "#fb9f3a"
             ],
             [
              0.8888888888888888,
              "#fdca26"
             ],
             [
              1,
              "#f0f921"
             ]
            ],
            "type": "heatmapgl"
           }
          ],
          "histogram": [
           {
            "marker": {
             "colorbar": {
              "outlinewidth": 0,
              "ticks": ""
             }
            },
            "type": "histogram"
           }
          ],
          "histogram2d": [
           {
            "colorbar": {
             "outlinewidth": 0,
             "ticks": ""
            },
            "colorscale": [
             [
              0,
              "#0d0887"
             ],
             [
              0.1111111111111111,
              "#46039f"
             ],
             [
              0.2222222222222222,
              "#7201a8"
             ],
             [
              0.3333333333333333,
              "#9c179e"
             ],
             [
              0.4444444444444444,
              "#bd3786"
             ],
             [
              0.5555555555555556,
              "#d8576b"
             ],
             [
              0.6666666666666666,
              "#ed7953"
             ],
             [
              0.7777777777777778,
              "#fb9f3a"
             ],
             [
              0.8888888888888888,
              "#fdca26"
             ],
             [
              1,
              "#f0f921"
             ]
            ],
            "type": "histogram2d"
           }
          ],
          "histogram2dcontour": [
           {
            "colorbar": {
             "outlinewidth": 0,
             "ticks": ""
            },
            "colorscale": [
             [
              0,
              "#0d0887"
             ],
             [
              0.1111111111111111,
              "#46039f"
             ],
             [
              0.2222222222222222,
              "#7201a8"
             ],
             [
              0.3333333333333333,
              "#9c179e"
             ],
             [
              0.4444444444444444,
              "#bd3786"
             ],
             [
              0.5555555555555556,
              "#d8576b"
             ],
             [
              0.6666666666666666,
              "#ed7953"
             ],
             [
              0.7777777777777778,
              "#fb9f3a"
             ],
             [
              0.8888888888888888,
              "#fdca26"
             ],
             [
              1,
              "#f0f921"
             ]
            ],
            "type": "histogram2dcontour"
           }
          ],
          "mesh3d": [
           {
            "colorbar": {
             "outlinewidth": 0,
             "ticks": ""
            },
            "type": "mesh3d"
           }
          ],
          "parcoords": [
           {
            "line": {
             "colorbar": {
              "outlinewidth": 0,
              "ticks": ""
             }
            },
            "type": "parcoords"
           }
          ],
          "pie": [
           {
            "automargin": true,
            "type": "pie"
           }
          ],
          "scatter": [
           {
            "marker": {
             "colorbar": {
              "outlinewidth": 0,
              "ticks": ""
             }
            },
            "type": "scatter"
           }
          ],
          "scatter3d": [
           {
            "line": {
             "colorbar": {
              "outlinewidth": 0,
              "ticks": ""
             }
            },
            "marker": {
             "colorbar": {
              "outlinewidth": 0,
              "ticks": ""
             }
            },
            "type": "scatter3d"
           }
          ],
          "scattercarpet": [
           {
            "marker": {
             "colorbar": {
              "outlinewidth": 0,
              "ticks": ""
             }
            },
            "type": "scattercarpet"
           }
          ],
          "scattergeo": [
           {
            "marker": {
             "colorbar": {
              "outlinewidth": 0,
              "ticks": ""
             }
            },
            "type": "scattergeo"
           }
          ],
          "scattergl": [
           {
            "marker": {
             "colorbar": {
              "outlinewidth": 0,
              "ticks": ""
             }
            },
            "type": "scattergl"
           }
          ],
          "scattermapbox": [
           {
            "marker": {
             "colorbar": {
              "outlinewidth": 0,
              "ticks": ""
             }
            },
            "type": "scattermapbox"
           }
          ],
          "scatterpolar": [
           {
            "marker": {
             "colorbar": {
              "outlinewidth": 0,
              "ticks": ""
             }
            },
            "type": "scatterpolar"
           }
          ],
          "scatterpolargl": [
           {
            "marker": {
             "colorbar": {
              "outlinewidth": 0,
              "ticks": ""
             }
            },
            "type": "scatterpolargl"
           }
          ],
          "scatterternary": [
           {
            "marker": {
             "colorbar": {
              "outlinewidth": 0,
              "ticks": ""
             }
            },
            "type": "scatterternary"
           }
          ],
          "surface": [
           {
            "colorbar": {
             "outlinewidth": 0,
             "ticks": ""
            },
            "colorscale": [
             [
              0,
              "#0d0887"
             ],
             [
              0.1111111111111111,
              "#46039f"
             ],
             [
              0.2222222222222222,
              "#7201a8"
             ],
             [
              0.3333333333333333,
              "#9c179e"
             ],
             [
              0.4444444444444444,
              "#bd3786"
             ],
             [
              0.5555555555555556,
              "#d8576b"
             ],
             [
              0.6666666666666666,
              "#ed7953"
             ],
             [
              0.7777777777777778,
              "#fb9f3a"
             ],
             [
              0.8888888888888888,
              "#fdca26"
             ],
             [
              1,
              "#f0f921"
             ]
            ],
            "type": "surface"
           }
          ],
          "table": [
           {
            "cells": {
             "fill": {
              "color": "#EBF0F8"
             },
             "line": {
              "color": "white"
             }
            },
            "header": {
             "fill": {
              "color": "#C8D4E3"
             },
             "line": {
              "color": "white"
             }
            },
            "type": "table"
           }
          ]
         },
         "layout": {
          "annotationdefaults": {
           "arrowcolor": "#2a3f5f",
           "arrowhead": 0,
           "arrowwidth": 1
          },
          "coloraxis": {
           "colorbar": {
            "outlinewidth": 0,
            "ticks": ""
           }
          },
          "colorscale": {
           "diverging": [
            [
             0,
             "#8e0152"
            ],
            [
             0.1,
             "#c51b7d"
            ],
            [
             0.2,
             "#de77ae"
            ],
            [
             0.3,
             "#f1b6da"
            ],
            [
             0.4,
             "#fde0ef"
            ],
            [
             0.5,
             "#f7f7f7"
            ],
            [
             0.6,
             "#e6f5d0"
            ],
            [
             0.7,
             "#b8e186"
            ],
            [
             0.8,
             "#7fbc41"
            ],
            [
             0.9,
             "#4d9221"
            ],
            [
             1,
             "#276419"
            ]
           ],
           "sequential": [
            [
             0,
             "#0d0887"
            ],
            [
             0.1111111111111111,
             "#46039f"
            ],
            [
             0.2222222222222222,
             "#7201a8"
            ],
            [
             0.3333333333333333,
             "#9c179e"
            ],
            [
             0.4444444444444444,
             "#bd3786"
            ],
            [
             0.5555555555555556,
             "#d8576b"
            ],
            [
             0.6666666666666666,
             "#ed7953"
            ],
            [
             0.7777777777777778,
             "#fb9f3a"
            ],
            [
             0.8888888888888888,
             "#fdca26"
            ],
            [
             1,
             "#f0f921"
            ]
           ],
           "sequentialminus": [
            [
             0,
             "#0d0887"
            ],
            [
             0.1111111111111111,
             "#46039f"
            ],
            [
             0.2222222222222222,
             "#7201a8"
            ],
            [
             0.3333333333333333,
             "#9c179e"
            ],
            [
             0.4444444444444444,
             "#bd3786"
            ],
            [
             0.5555555555555556,
             "#d8576b"
            ],
            [
             0.6666666666666666,
             "#ed7953"
            ],
            [
             0.7777777777777778,
             "#fb9f3a"
            ],
            [
             0.8888888888888888,
             "#fdca26"
            ],
            [
             1,
             "#f0f921"
            ]
           ]
          },
          "colorway": [
           "#636efa",
           "#EF553B",
           "#00cc96",
           "#ab63fa",
           "#FFA15A",
           "#19d3f3",
           "#FF6692",
           "#B6E880",
           "#FF97FF",
           "#FECB52"
          ],
          "font": {
           "color": "#2a3f5f"
          },
          "geo": {
           "bgcolor": "white",
           "lakecolor": "white",
           "landcolor": "white",
           "showlakes": true,
           "showland": true,
           "subunitcolor": "#C8D4E3"
          },
          "hoverlabel": {
           "align": "left"
          },
          "hovermode": "closest",
          "mapbox": {
           "style": "light"
          },
          "paper_bgcolor": "white",
          "plot_bgcolor": "white",
          "polar": {
           "angularaxis": {
            "gridcolor": "#EBF0F8",
            "linecolor": "#EBF0F8",
            "ticks": ""
           },
           "bgcolor": "white",
           "radialaxis": {
            "gridcolor": "#EBF0F8",
            "linecolor": "#EBF0F8",
            "ticks": ""
           }
          },
          "scene": {
           "xaxis": {
            "backgroundcolor": "white",
            "gridcolor": "#DFE8F3",
            "gridwidth": 2,
            "linecolor": "#EBF0F8",
            "showbackground": true,
            "ticks": "",
            "zerolinecolor": "#EBF0F8"
           },
           "yaxis": {
            "backgroundcolor": "white",
            "gridcolor": "#DFE8F3",
            "gridwidth": 2,
            "linecolor": "#EBF0F8",
            "showbackground": true,
            "ticks": "",
            "zerolinecolor": "#EBF0F8"
           },
           "zaxis": {
            "backgroundcolor": "white",
            "gridcolor": "#DFE8F3",
            "gridwidth": 2,
            "linecolor": "#EBF0F8",
            "showbackground": true,
            "ticks": "",
            "zerolinecolor": "#EBF0F8"
           }
          },
          "shapedefaults": {
           "line": {
            "color": "#2a3f5f"
           }
          },
          "ternary": {
           "aaxis": {
            "gridcolor": "#DFE8F3",
            "linecolor": "#A2B1C6",
            "ticks": ""
           },
           "baxis": {
            "gridcolor": "#DFE8F3",
            "linecolor": "#A2B1C6",
            "ticks": ""
           },
           "bgcolor": "white",
           "caxis": {
            "gridcolor": "#DFE8F3",
            "linecolor": "#A2B1C6",
            "ticks": ""
           }
          },
          "title": {
           "x": 0.05
          },
          "xaxis": {
           "automargin": true,
           "gridcolor": "#EBF0F8",
           "linecolor": "#EBF0F8",
           "ticks": "",
           "title": {
            "standoff": 15
           },
           "zerolinecolor": "#EBF0F8",
           "zerolinewidth": 2
          },
          "yaxis": {
           "automargin": true,
           "gridcolor": "#EBF0F8",
           "linecolor": "#EBF0F8",
           "ticks": "",
           "title": {
            "standoff": 15
           },
           "zerolinecolor": "#EBF0F8",
           "zerolinewidth": 2
          }
         }
        },
        "xaxis": {
         "title": {
          "text": "Model"
         }
        },
        "yaxis": {
         "title": {
          "text": "Spearman rank correlation"
         }
        }
       }
      },
      "text/html": [
       "<div>\n",
       "        \n",
       "        \n",
       "            <div id=\"a309ba78-d45d-45e0-b222-cc3efd1c6da1\" class=\"plotly-graph-div\" style=\"height:525px; width:100%;\"></div>\n",
       "            <script type=\"text/javascript\">\n",
       "                require([\"plotly\"], function(Plotly) {\n",
       "                    window.PLOTLYENV=window.PLOTLYENV || {};\n",
       "                    \n",
       "                if (document.getElementById(\"a309ba78-d45d-45e0-b222-cc3efd1c6da1\")) {\n",
       "                    Plotly.newPlot(\n",
       "                        'a309ba78-d45d-45e0-b222-cc3efd1c6da1',\n",
       "                        [{\"name\": \"GRU\", \"type\": \"bar\", \"x\": [\"Fluid Intelligence\", \"Verbal IQ\", \"NEOFAC_A\", \"NEOFAC_E\", \"NEOFAC_C\", \"NEOFAC_N\", \"NEOFAC_O\"], \"y\": [0.3175263138855081, 0.25673274094326726, 0.07723879925717514, 0.3846634822586772, 0.32001333460073783, 0.23072631756962825, 0.27624700464301144]}],\n",
       "                        {\"barmode\": \"group\", \"template\": {\"data\": {\"bar\": [{\"error_x\": {\"color\": \"#2a3f5f\"}, \"error_y\": {\"color\": \"#2a3f5f\"}, \"marker\": {\"line\": {\"color\": \"white\", \"width\": 0.5}}, \"type\": \"bar\"}], \"barpolar\": [{\"marker\": {\"line\": {\"color\": \"white\", \"width\": 0.5}}, \"type\": \"barpolar\"}], \"carpet\": [{\"aaxis\": {\"endlinecolor\": \"#2a3f5f\", \"gridcolor\": \"#C8D4E3\", \"linecolor\": \"#C8D4E3\", \"minorgridcolor\": \"#C8D4E3\", \"startlinecolor\": \"#2a3f5f\"}, \"baxis\": {\"endlinecolor\": \"#2a3f5f\", \"gridcolor\": \"#C8D4E3\", \"linecolor\": \"#C8D4E3\", \"minorgridcolor\": \"#C8D4E3\", \"startlinecolor\": \"#2a3f5f\"}, \"type\": \"carpet\"}], \"choropleth\": [{\"colorbar\": {\"outlinewidth\": 0, \"ticks\": \"\"}, \"type\": \"choropleth\"}], \"contour\": [{\"colorbar\": {\"outlinewidth\": 0, \"ticks\": \"\"}, \"colorscale\": [[0.0, \"#0d0887\"], [0.1111111111111111, \"#46039f\"], [0.2222222222222222, \"#7201a8\"], [0.3333333333333333, \"#9c179e\"], [0.4444444444444444, \"#bd3786\"], [0.5555555555555556, \"#d8576b\"], [0.6666666666666666, \"#ed7953\"], [0.7777777777777778, \"#fb9f3a\"], [0.8888888888888888, \"#fdca26\"], [1.0, \"#f0f921\"]], \"type\": \"contour\"}], \"contourcarpet\": [{\"colorbar\": {\"outlinewidth\": 0, \"ticks\": \"\"}, \"type\": \"contourcarpet\"}], \"heatmap\": [{\"colorbar\": {\"outlinewidth\": 0, \"ticks\": \"\"}, \"colorscale\": [[0.0, \"#0d0887\"], [0.1111111111111111, \"#46039f\"], [0.2222222222222222, \"#7201a8\"], [0.3333333333333333, \"#9c179e\"], [0.4444444444444444, \"#bd3786\"], [0.5555555555555556, \"#d8576b\"], [0.6666666666666666, \"#ed7953\"], [0.7777777777777778, \"#fb9f3a\"], [0.8888888888888888, \"#fdca26\"], [1.0, \"#f0f921\"]], \"type\": \"heatmap\"}], \"heatmapgl\": [{\"colorbar\": {\"outlinewidth\": 0, \"ticks\": \"\"}, \"colorscale\": [[0.0, \"#0d0887\"], [0.1111111111111111, \"#46039f\"], [0.2222222222222222, \"#7201a8\"], [0.3333333333333333, \"#9c179e\"], [0.4444444444444444, \"#bd3786\"], [0.5555555555555556, \"#d8576b\"], [0.6666666666666666, \"#ed7953\"], [0.7777777777777778, \"#fb9f3a\"], [0.8888888888888888, \"#fdca26\"], [1.0, \"#f0f921\"]], \"type\": \"heatmapgl\"}], \"histogram\": [{\"marker\": {\"colorbar\": {\"outlinewidth\": 0, \"ticks\": \"\"}}, \"type\": \"histogram\"}], \"histogram2d\": [{\"colorbar\": {\"outlinewidth\": 0, \"ticks\": \"\"}, \"colorscale\": [[0.0, \"#0d0887\"], [0.1111111111111111, \"#46039f\"], [0.2222222222222222, \"#7201a8\"], [0.3333333333333333, \"#9c179e\"], [0.4444444444444444, \"#bd3786\"], [0.5555555555555556, \"#d8576b\"], [0.6666666666666666, \"#ed7953\"], [0.7777777777777778, \"#fb9f3a\"], [0.8888888888888888, \"#fdca26\"], [1.0, \"#f0f921\"]], \"type\": \"histogram2d\"}], \"histogram2dcontour\": [{\"colorbar\": {\"outlinewidth\": 0, \"ticks\": \"\"}, \"colorscale\": [[0.0, \"#0d0887\"], [0.1111111111111111, \"#46039f\"], [0.2222222222222222, \"#7201a8\"], [0.3333333333333333, \"#9c179e\"], [0.4444444444444444, \"#bd3786\"], [0.5555555555555556, \"#d8576b\"], [0.6666666666666666, \"#ed7953\"], [0.7777777777777778, \"#fb9f3a\"], [0.8888888888888888, \"#fdca26\"], [1.0, \"#f0f921\"]], \"type\": \"histogram2dcontour\"}], \"mesh3d\": [{\"colorbar\": {\"outlinewidth\": 0, \"ticks\": \"\"}, \"type\": \"mesh3d\"}], \"parcoords\": [{\"line\": {\"colorbar\": {\"outlinewidth\": 0, \"ticks\": \"\"}}, \"type\": \"parcoords\"}], \"pie\": [{\"automargin\": true, \"type\": \"pie\"}], \"scatter\": [{\"marker\": {\"colorbar\": {\"outlinewidth\": 0, \"ticks\": \"\"}}, \"type\": \"scatter\"}], \"scatter3d\": [{\"line\": {\"colorbar\": {\"outlinewidth\": 0, \"ticks\": \"\"}}, \"marker\": {\"colorbar\": {\"outlinewidth\": 0, \"ticks\": \"\"}}, \"type\": \"scatter3d\"}], \"scattercarpet\": [{\"marker\": {\"colorbar\": {\"outlinewidth\": 0, \"ticks\": \"\"}}, \"type\": \"scattercarpet\"}], \"scattergeo\": [{\"marker\": {\"colorbar\": {\"outlinewidth\": 0, \"ticks\": \"\"}}, \"type\": \"scattergeo\"}], \"scattergl\": [{\"marker\": {\"colorbar\": {\"outlinewidth\": 0, \"ticks\": \"\"}}, \"type\": \"scattergl\"}], \"scattermapbox\": [{\"marker\": {\"colorbar\": {\"outlinewidth\": 0, \"ticks\": \"\"}}, \"type\": \"scattermapbox\"}], \"scatterpolar\": [{\"marker\": {\"colorbar\": {\"outlinewidth\": 0, \"ticks\": \"\"}}, \"type\": \"scatterpolar\"}], \"scatterpolargl\": [{\"marker\": {\"colorbar\": {\"outlinewidth\": 0, \"ticks\": \"\"}}, \"type\": \"scatterpolargl\"}], \"scatterternary\": [{\"marker\": {\"colorbar\": {\"outlinewidth\": 0, \"ticks\": \"\"}}, \"type\": \"scatterternary\"}], \"surface\": [{\"colorbar\": {\"outlinewidth\": 0, \"ticks\": \"\"}, \"colorscale\": [[0.0, \"#0d0887\"], [0.1111111111111111, \"#46039f\"], [0.2222222222222222, \"#7201a8\"], [0.3333333333333333, \"#9c179e\"], [0.4444444444444444, \"#bd3786\"], [0.5555555555555556, \"#d8576b\"], [0.6666666666666666, \"#ed7953\"], [0.7777777777777778, \"#fb9f3a\"], [0.8888888888888888, \"#fdca26\"], [1.0, \"#f0f921\"]], \"type\": \"surface\"}], \"table\": [{\"cells\": {\"fill\": {\"color\": \"#EBF0F8\"}, \"line\": {\"color\": \"white\"}}, \"header\": {\"fill\": {\"color\": \"#C8D4E3\"}, \"line\": {\"color\": \"white\"}}, \"type\": \"table\"}]}, \"layout\": {\"annotationdefaults\": {\"arrowcolor\": \"#2a3f5f\", \"arrowhead\": 0, \"arrowwidth\": 1}, \"coloraxis\": {\"colorbar\": {\"outlinewidth\": 0, \"ticks\": \"\"}}, \"colorscale\": {\"diverging\": [[0, \"#8e0152\"], [0.1, \"#c51b7d\"], [0.2, \"#de77ae\"], [0.3, \"#f1b6da\"], [0.4, \"#fde0ef\"], [0.5, \"#f7f7f7\"], [0.6, \"#e6f5d0\"], [0.7, \"#b8e186\"], [0.8, \"#7fbc41\"], [0.9, \"#4d9221\"], [1, \"#276419\"]], \"sequential\": [[0.0, \"#0d0887\"], [0.1111111111111111, \"#46039f\"], [0.2222222222222222, \"#7201a8\"], [0.3333333333333333, \"#9c179e\"], [0.4444444444444444, \"#bd3786\"], [0.5555555555555556, \"#d8576b\"], [0.6666666666666666, \"#ed7953\"], [0.7777777777777778, \"#fb9f3a\"], [0.8888888888888888, \"#fdca26\"], [1.0, \"#f0f921\"]], \"sequentialminus\": [[0.0, \"#0d0887\"], [0.1111111111111111, \"#46039f\"], [0.2222222222222222, \"#7201a8\"], [0.3333333333333333, \"#9c179e\"], [0.4444444444444444, \"#bd3786\"], [0.5555555555555556, \"#d8576b\"], [0.6666666666666666, \"#ed7953\"], [0.7777777777777778, \"#fb9f3a\"], [0.8888888888888888, \"#fdca26\"], [1.0, \"#f0f921\"]]}, \"colorway\": [\"#636efa\", \"#EF553B\", \"#00cc96\", \"#ab63fa\", \"#FFA15A\", \"#19d3f3\", \"#FF6692\", \"#B6E880\", \"#FF97FF\", \"#FECB52\"], \"font\": {\"color\": \"#2a3f5f\"}, \"geo\": {\"bgcolor\": \"white\", \"lakecolor\": \"white\", \"landcolor\": \"white\", \"showlakes\": true, \"showland\": true, \"subunitcolor\": \"#C8D4E3\"}, \"hoverlabel\": {\"align\": \"left\"}, \"hovermode\": \"closest\", \"mapbox\": {\"style\": \"light\"}, \"paper_bgcolor\": \"white\", \"plot_bgcolor\": \"white\", \"polar\": {\"angularaxis\": {\"gridcolor\": \"#EBF0F8\", \"linecolor\": \"#EBF0F8\", \"ticks\": \"\"}, \"bgcolor\": \"white\", \"radialaxis\": {\"gridcolor\": \"#EBF0F8\", \"linecolor\": \"#EBF0F8\", \"ticks\": \"\"}}, \"scene\": {\"xaxis\": {\"backgroundcolor\": \"white\", \"gridcolor\": \"#DFE8F3\", \"gridwidth\": 2, \"linecolor\": \"#EBF0F8\", \"showbackground\": true, \"ticks\": \"\", \"zerolinecolor\": \"#EBF0F8\"}, \"yaxis\": {\"backgroundcolor\": \"white\", \"gridcolor\": \"#DFE8F3\", \"gridwidth\": 2, \"linecolor\": \"#EBF0F8\", \"showbackground\": true, \"ticks\": \"\", \"zerolinecolor\": \"#EBF0F8\"}, \"zaxis\": {\"backgroundcolor\": \"white\", \"gridcolor\": \"#DFE8F3\", \"gridwidth\": 2, \"linecolor\": \"#EBF0F8\", \"showbackground\": true, \"ticks\": \"\", \"zerolinecolor\": \"#EBF0F8\"}}, \"shapedefaults\": {\"line\": {\"color\": \"#2a3f5f\"}}, \"ternary\": {\"aaxis\": {\"gridcolor\": \"#DFE8F3\", \"linecolor\": \"#A2B1C6\", \"ticks\": \"\"}, \"baxis\": {\"gridcolor\": \"#DFE8F3\", \"linecolor\": \"#A2B1C6\", \"ticks\": \"\"}, \"bgcolor\": \"white\", \"caxis\": {\"gridcolor\": \"#DFE8F3\", \"linecolor\": \"#A2B1C6\", \"ticks\": \"\"}}, \"title\": {\"x\": 0.05}, \"xaxis\": {\"automargin\": true, \"gridcolor\": \"#EBF0F8\", \"linecolor\": \"#EBF0F8\", \"ticks\": \"\", \"title\": {\"standoff\": 15}, \"zerolinecolor\": \"#EBF0F8\", \"zerolinewidth\": 2}, \"yaxis\": {\"automargin\": true, \"gridcolor\": \"#EBF0F8\", \"linecolor\": \"#EBF0F8\", \"ticks\": \"\", \"title\": {\"standoff\": 15}, \"zerolinecolor\": \"#EBF0F8\", \"zerolinewidth\": 2}}}, \"xaxis\": {\"title\": {\"text\": \"Model\"}}, \"yaxis\": {\"title\": {\"text\": \"Spearman rank correlation\"}}},\n",
       "                        {\"responsive\": true}\n",
       "                    ).then(function(){\n",
       "                            \n",
       "var gd = document.getElementById('a309ba78-d45d-45e0-b222-cc3efd1c6da1');\n",
       "var x = new MutationObserver(function (mutations, observer) {{\n",
       "        var display = window.getComputedStyle(gd).display;\n",
       "        if (!display || display === 'none') {{\n",
       "            console.log([gd, 'removed!']);\n",
       "            Plotly.purge(gd);\n",
       "            observer.disconnect();\n",
       "        }}\n",
       "}});\n",
       "\n",
       "// Listen for the removal of the full notebook cells\n",
       "var notebookContainer = gd.closest('#notebook-container');\n",
       "if (notebookContainer) {{\n",
       "    x.observe(notebookContainer, {childList: true});\n",
       "}}\n",
       "\n",
       "// Listen for the clearing of the current output cell\n",
       "var outputEl = gd.closest('.output');\n",
       "if (outputEl) {{\n",
       "    x.observe(outputEl, {childList: true});\n",
       "}}\n",
       "\n",
       "                        })\n",
       "                };\n",
       "                });\n",
       "            </script>\n",
       "        </div>"
      ]
     },
     "metadata": {},
     "output_type": "display_data"
    }
   ],
   "source": [
    "fig = go.Figure()\n",
    "for model in models:\n",
    "    y = []\n",
    "    x = []\n",
    "    for bhv in select_bhv:\n",
    "        x.append(pretty_bhv[bhv])\n",
    "        y.append(test_acc[model][bhv])\n",
    "    bar = go.Bar(name = model.upper(),\n",
    "                 x = x, y = y)\n",
    "    fig.add_trace(bar)\n",
    "    \n",
    "fig.update_layout(barmode = 'group')\n",
    "fig.update_xaxes(title_text = 'Model')\n",
    "fig.update_yaxes(title_text = pretty_score)\n",
    "fig.show()"
   ]
  },
  {
   "cell_type": "code",
   "execution_count": 14,
   "metadata": {},
   "outputs": [
    {
     "data": {
      "application/vnd.plotly.v1+json": {
       "config": {
        "plotlyServerURL": "https://plot.ly"
       },
       "data": [
        {
         "name": "Fluid Intelligence",
         "type": "bar",
         "x": [
          "GRU"
         ],
         "y": [
          0.3175263138855081
         ]
        },
        {
         "name": "Verbal IQ",
         "type": "bar",
         "x": [
          "GRU"
         ],
         "y": [
          0.25673274094326726
         ]
        },
        {
         "name": "NEOFAC_A",
         "type": "bar",
         "x": [
          "GRU"
         ],
         "y": [
          0.07723879925717514
         ]
        },
        {
         "name": "NEOFAC_E",
         "type": "bar",
         "x": [
          "GRU"
         ],
         "y": [
          0.3846634822586772
         ]
        },
        {
         "name": "NEOFAC_C",
         "type": "bar",
         "x": [
          "GRU"
         ],
         "y": [
          0.32001333460073783
         ]
        },
        {
         "name": "NEOFAC_N",
         "type": "bar",
         "x": [
          "GRU"
         ],
         "y": [
          0.23072631756962825
         ]
        },
        {
         "name": "NEOFAC_O",
         "type": "bar",
         "x": [
          "GRU"
         ],
         "y": [
          0.27624700464301144
         ]
        }
       ],
       "layout": {
        "barmode": "group",
        "template": {
         "data": {
          "bar": [
           {
            "error_x": {
             "color": "#2a3f5f"
            },
            "error_y": {
             "color": "#2a3f5f"
            },
            "marker": {
             "line": {
              "color": "white",
              "width": 0.5
             }
            },
            "type": "bar"
           }
          ],
          "barpolar": [
           {
            "marker": {
             "line": {
              "color": "white",
              "width": 0.5
             }
            },
            "type": "barpolar"
           }
          ],
          "carpet": [
           {
            "aaxis": {
             "endlinecolor": "#2a3f5f",
             "gridcolor": "#C8D4E3",
             "linecolor": "#C8D4E3",
             "minorgridcolor": "#C8D4E3",
             "startlinecolor": "#2a3f5f"
            },
            "baxis": {
             "endlinecolor": "#2a3f5f",
             "gridcolor": "#C8D4E3",
             "linecolor": "#C8D4E3",
             "minorgridcolor": "#C8D4E3",
             "startlinecolor": "#2a3f5f"
            },
            "type": "carpet"
           }
          ],
          "choropleth": [
           {
            "colorbar": {
             "outlinewidth": 0,
             "ticks": ""
            },
            "type": "choropleth"
           }
          ],
          "contour": [
           {
            "colorbar": {
             "outlinewidth": 0,
             "ticks": ""
            },
            "colorscale": [
             [
              0,
              "#0d0887"
             ],
             [
              0.1111111111111111,
              "#46039f"
             ],
             [
              0.2222222222222222,
              "#7201a8"
             ],
             [
              0.3333333333333333,
              "#9c179e"
             ],
             [
              0.4444444444444444,
              "#bd3786"
             ],
             [
              0.5555555555555556,
              "#d8576b"
             ],
             [
              0.6666666666666666,
              "#ed7953"
             ],
             [
              0.7777777777777778,
              "#fb9f3a"
             ],
             [
              0.8888888888888888,
              "#fdca26"
             ],
             [
              1,
              "#f0f921"
             ]
            ],
            "type": "contour"
           }
          ],
          "contourcarpet": [
           {
            "colorbar": {
             "outlinewidth": 0,
             "ticks": ""
            },
            "type": "contourcarpet"
           }
          ],
          "heatmap": [
           {
            "colorbar": {
             "outlinewidth": 0,
             "ticks": ""
            },
            "colorscale": [
             [
              0,
              "#0d0887"
             ],
             [
              0.1111111111111111,
              "#46039f"
             ],
             [
              0.2222222222222222,
              "#7201a8"
             ],
             [
              0.3333333333333333,
              "#9c179e"
             ],
             [
              0.4444444444444444,
              "#bd3786"
             ],
             [
              0.5555555555555556,
              "#d8576b"
             ],
             [
              0.6666666666666666,
              "#ed7953"
             ],
             [
              0.7777777777777778,
              "#fb9f3a"
             ],
             [
              0.8888888888888888,
              "#fdca26"
             ],
             [
              1,
              "#f0f921"
             ]
            ],
            "type": "heatmap"
           }
          ],
          "heatmapgl": [
           {
            "colorbar": {
             "outlinewidth": 0,
             "ticks": ""
            },
            "colorscale": [
             [
              0,
              "#0d0887"
             ],
             [
              0.1111111111111111,
              "#46039f"
             ],
             [
              0.2222222222222222,
              "#7201a8"
             ],
             [
              0.3333333333333333,
              "#9c179e"
             ],
             [
              0.4444444444444444,
              "#bd3786"
             ],
             [
              0.5555555555555556,
              "#d8576b"
             ],
             [
              0.6666666666666666,
              "#ed7953"
             ],
             [
              0.7777777777777778,
              "#fb9f3a"
             ],
             [
              0.8888888888888888,
              "#fdca26"
             ],
             [
              1,
              "#f0f921"
             ]
            ],
            "type": "heatmapgl"
           }
          ],
          "histogram": [
           {
            "marker": {
             "colorbar": {
              "outlinewidth": 0,
              "ticks": ""
             }
            },
            "type": "histogram"
           }
          ],
          "histogram2d": [
           {
            "colorbar": {
             "outlinewidth": 0,
             "ticks": ""
            },
            "colorscale": [
             [
              0,
              "#0d0887"
             ],
             [
              0.1111111111111111,
              "#46039f"
             ],
             [
              0.2222222222222222,
              "#7201a8"
             ],
             [
              0.3333333333333333,
              "#9c179e"
             ],
             [
              0.4444444444444444,
              "#bd3786"
             ],
             [
              0.5555555555555556,
              "#d8576b"
             ],
             [
              0.6666666666666666,
              "#ed7953"
             ],
             [
              0.7777777777777778,
              "#fb9f3a"
             ],
             [
              0.8888888888888888,
              "#fdca26"
             ],
             [
              1,
              "#f0f921"
             ]
            ],
            "type": "histogram2d"
           }
          ],
          "histogram2dcontour": [
           {
            "colorbar": {
             "outlinewidth": 0,
             "ticks": ""
            },
            "colorscale": [
             [
              0,
              "#0d0887"
             ],
             [
              0.1111111111111111,
              "#46039f"
             ],
             [
              0.2222222222222222,
              "#7201a8"
             ],
             [
              0.3333333333333333,
              "#9c179e"
             ],
             [
              0.4444444444444444,
              "#bd3786"
             ],
             [
              0.5555555555555556,
              "#d8576b"
             ],
             [
              0.6666666666666666,
              "#ed7953"
             ],
             [
              0.7777777777777778,
              "#fb9f3a"
             ],
             [
              0.8888888888888888,
              "#fdca26"
             ],
             [
              1,
              "#f0f921"
             ]
            ],
            "type": "histogram2dcontour"
           }
          ],
          "mesh3d": [
           {
            "colorbar": {
             "outlinewidth": 0,
             "ticks": ""
            },
            "type": "mesh3d"
           }
          ],
          "parcoords": [
           {
            "line": {
             "colorbar": {
              "outlinewidth": 0,
              "ticks": ""
             }
            },
            "type": "parcoords"
           }
          ],
          "pie": [
           {
            "automargin": true,
            "type": "pie"
           }
          ],
          "scatter": [
           {
            "marker": {
             "colorbar": {
              "outlinewidth": 0,
              "ticks": ""
             }
            },
            "type": "scatter"
           }
          ],
          "scatter3d": [
           {
            "line": {
             "colorbar": {
              "outlinewidth": 0,
              "ticks": ""
             }
            },
            "marker": {
             "colorbar": {
              "outlinewidth": 0,
              "ticks": ""
             }
            },
            "type": "scatter3d"
           }
          ],
          "scattercarpet": [
           {
            "marker": {
             "colorbar": {
              "outlinewidth": 0,
              "ticks": ""
             }
            },
            "type": "scattercarpet"
           }
          ],
          "scattergeo": [
           {
            "marker": {
             "colorbar": {
              "outlinewidth": 0,
              "ticks": ""
             }
            },
            "type": "scattergeo"
           }
          ],
          "scattergl": [
           {
            "marker": {
             "colorbar": {
              "outlinewidth": 0,
              "ticks": ""
             }
            },
            "type": "scattergl"
           }
          ],
          "scattermapbox": [
           {
            "marker": {
             "colorbar": {
              "outlinewidth": 0,
              "ticks": ""
             }
            },
            "type": "scattermapbox"
           }
          ],
          "scatterpolar": [
           {
            "marker": {
             "colorbar": {
              "outlinewidth": 0,
              "ticks": ""
             }
            },
            "type": "scatterpolar"
           }
          ],
          "scatterpolargl": [
           {
            "marker": {
             "colorbar": {
              "outlinewidth": 0,
              "ticks": ""
             }
            },
            "type": "scatterpolargl"
           }
          ],
          "scatterternary": [
           {
            "marker": {
             "colorbar": {
              "outlinewidth": 0,
              "ticks": ""
             }
            },
            "type": "scatterternary"
           }
          ],
          "surface": [
           {
            "colorbar": {
             "outlinewidth": 0,
             "ticks": ""
            },
            "colorscale": [
             [
              0,
              "#0d0887"
             ],
             [
              0.1111111111111111,
              "#46039f"
             ],
             [
              0.2222222222222222,
              "#7201a8"
             ],
             [
              0.3333333333333333,
              "#9c179e"
             ],
             [
              0.4444444444444444,
              "#bd3786"
             ],
             [
              0.5555555555555556,
              "#d8576b"
             ],
             [
              0.6666666666666666,
              "#ed7953"
             ],
             [
              0.7777777777777778,
              "#fb9f3a"
             ],
             [
              0.8888888888888888,
              "#fdca26"
             ],
             [
              1,
              "#f0f921"
             ]
            ],
            "type": "surface"
           }
          ],
          "table": [
           {
            "cells": {
             "fill": {
              "color": "#EBF0F8"
             },
             "line": {
              "color": "white"
             }
            },
            "header": {
             "fill": {
              "color": "#C8D4E3"
             },
             "line": {
              "color": "white"
             }
            },
            "type": "table"
           }
          ]
         },
         "layout": {
          "annotationdefaults": {
           "arrowcolor": "#2a3f5f",
           "arrowhead": 0,
           "arrowwidth": 1
          },
          "coloraxis": {
           "colorbar": {
            "outlinewidth": 0,
            "ticks": ""
           }
          },
          "colorscale": {
           "diverging": [
            [
             0,
             "#8e0152"
            ],
            [
             0.1,
             "#c51b7d"
            ],
            [
             0.2,
             "#de77ae"
            ],
            [
             0.3,
             "#f1b6da"
            ],
            [
             0.4,
             "#fde0ef"
            ],
            [
             0.5,
             "#f7f7f7"
            ],
            [
             0.6,
             "#e6f5d0"
            ],
            [
             0.7,
             "#b8e186"
            ],
            [
             0.8,
             "#7fbc41"
            ],
            [
             0.9,
             "#4d9221"
            ],
            [
             1,
             "#276419"
            ]
           ],
           "sequential": [
            [
             0,
             "#0d0887"
            ],
            [
             0.1111111111111111,
             "#46039f"
            ],
            [
             0.2222222222222222,
             "#7201a8"
            ],
            [
             0.3333333333333333,
             "#9c179e"
            ],
            [
             0.4444444444444444,
             "#bd3786"
            ],
            [
             0.5555555555555556,
             "#d8576b"
            ],
            [
             0.6666666666666666,
             "#ed7953"
            ],
            [
             0.7777777777777778,
             "#fb9f3a"
            ],
            [
             0.8888888888888888,
             "#fdca26"
            ],
            [
             1,
             "#f0f921"
            ]
           ],
           "sequentialminus": [
            [
             0,
             "#0d0887"
            ],
            [
             0.1111111111111111,
             "#46039f"
            ],
            [
             0.2222222222222222,
             "#7201a8"
            ],
            [
             0.3333333333333333,
             "#9c179e"
            ],
            [
             0.4444444444444444,
             "#bd3786"
            ],
            [
             0.5555555555555556,
             "#d8576b"
            ],
            [
             0.6666666666666666,
             "#ed7953"
            ],
            [
             0.7777777777777778,
             "#fb9f3a"
            ],
            [
             0.8888888888888888,
             "#fdca26"
            ],
            [
             1,
             "#f0f921"
            ]
           ]
          },
          "colorway": [
           "#636efa",
           "#EF553B",
           "#00cc96",
           "#ab63fa",
           "#FFA15A",
           "#19d3f3",
           "#FF6692",
           "#B6E880",
           "#FF97FF",
           "#FECB52"
          ],
          "font": {
           "color": "#2a3f5f"
          },
          "geo": {
           "bgcolor": "white",
           "lakecolor": "white",
           "landcolor": "white",
           "showlakes": true,
           "showland": true,
           "subunitcolor": "#C8D4E3"
          },
          "hoverlabel": {
           "align": "left"
          },
          "hovermode": "closest",
          "mapbox": {
           "style": "light"
          },
          "paper_bgcolor": "white",
          "plot_bgcolor": "white",
          "polar": {
           "angularaxis": {
            "gridcolor": "#EBF0F8",
            "linecolor": "#EBF0F8",
            "ticks": ""
           },
           "bgcolor": "white",
           "radialaxis": {
            "gridcolor": "#EBF0F8",
            "linecolor": "#EBF0F8",
            "ticks": ""
           }
          },
          "scene": {
           "xaxis": {
            "backgroundcolor": "white",
            "gridcolor": "#DFE8F3",
            "gridwidth": 2,
            "linecolor": "#EBF0F8",
            "showbackground": true,
            "ticks": "",
            "zerolinecolor": "#EBF0F8"
           },
           "yaxis": {
            "backgroundcolor": "white",
            "gridcolor": "#DFE8F3",
            "gridwidth": 2,
            "linecolor": "#EBF0F8",
            "showbackground": true,
            "ticks": "",
            "zerolinecolor": "#EBF0F8"
           },
           "zaxis": {
            "backgroundcolor": "white",
            "gridcolor": "#DFE8F3",
            "gridwidth": 2,
            "linecolor": "#EBF0F8",
            "showbackground": true,
            "ticks": "",
            "zerolinecolor": "#EBF0F8"
           }
          },
          "shapedefaults": {
           "line": {
            "color": "#2a3f5f"
           }
          },
          "ternary": {
           "aaxis": {
            "gridcolor": "#DFE8F3",
            "linecolor": "#A2B1C6",
            "ticks": ""
           },
           "baxis": {
            "gridcolor": "#DFE8F3",
            "linecolor": "#A2B1C6",
            "ticks": ""
           },
           "bgcolor": "white",
           "caxis": {
            "gridcolor": "#DFE8F3",
            "linecolor": "#A2B1C6",
            "ticks": ""
           }
          },
          "title": {
           "x": 0.05
          },
          "xaxis": {
           "automargin": true,
           "gridcolor": "#EBF0F8",
           "linecolor": "#EBF0F8",
           "ticks": "",
           "title": {
            "standoff": 15
           },
           "zerolinecolor": "#EBF0F8",
           "zerolinewidth": 2
          },
          "yaxis": {
           "automargin": true,
           "gridcolor": "#EBF0F8",
           "linecolor": "#EBF0F8",
           "ticks": "",
           "title": {
            "standoff": 15
           },
           "zerolinecolor": "#EBF0F8",
           "zerolinewidth": 2
          }
         }
        },
        "xaxis": {
         "title": {
          "text": "Behavior/Personality score"
         }
        },
        "yaxis": {
         "title": {
          "text": "Spearman rank correlation"
         }
        }
       }
      },
      "text/html": [
       "<div>\n",
       "        \n",
       "        \n",
       "            <div id=\"27771e98-c24c-443e-9af1-222b5d3cb686\" class=\"plotly-graph-div\" style=\"height:525px; width:100%;\"></div>\n",
       "            <script type=\"text/javascript\">\n",
       "                require([\"plotly\"], function(Plotly) {\n",
       "                    window.PLOTLYENV=window.PLOTLYENV || {};\n",
       "                    \n",
       "                if (document.getElementById(\"27771e98-c24c-443e-9af1-222b5d3cb686\")) {\n",
       "                    Plotly.newPlot(\n",
       "                        '27771e98-c24c-443e-9af1-222b5d3cb686',\n",
       "                        [{\"name\": \"Fluid Intelligence\", \"type\": \"bar\", \"x\": [\"GRU\"], \"y\": [0.3175263138855081]}, {\"name\": \"Verbal IQ\", \"type\": \"bar\", \"x\": [\"GRU\"], \"y\": [0.25673274094326726]}, {\"name\": \"NEOFAC_A\", \"type\": \"bar\", \"x\": [\"GRU\"], \"y\": [0.07723879925717514]}, {\"name\": \"NEOFAC_E\", \"type\": \"bar\", \"x\": [\"GRU\"], \"y\": [0.3846634822586772]}, {\"name\": \"NEOFAC_C\", \"type\": \"bar\", \"x\": [\"GRU\"], \"y\": [0.32001333460073783]}, {\"name\": \"NEOFAC_N\", \"type\": \"bar\", \"x\": [\"GRU\"], \"y\": [0.23072631756962825]}, {\"name\": \"NEOFAC_O\", \"type\": \"bar\", \"x\": [\"GRU\"], \"y\": [0.27624700464301144]}],\n",
       "                        {\"barmode\": \"group\", \"template\": {\"data\": {\"bar\": [{\"error_x\": {\"color\": \"#2a3f5f\"}, \"error_y\": {\"color\": \"#2a3f5f\"}, \"marker\": {\"line\": {\"color\": \"white\", \"width\": 0.5}}, \"type\": \"bar\"}], \"barpolar\": [{\"marker\": {\"line\": {\"color\": \"white\", \"width\": 0.5}}, \"type\": \"barpolar\"}], \"carpet\": [{\"aaxis\": {\"endlinecolor\": \"#2a3f5f\", \"gridcolor\": \"#C8D4E3\", \"linecolor\": \"#C8D4E3\", \"minorgridcolor\": \"#C8D4E3\", \"startlinecolor\": \"#2a3f5f\"}, \"baxis\": {\"endlinecolor\": \"#2a3f5f\", \"gridcolor\": \"#C8D4E3\", \"linecolor\": \"#C8D4E3\", \"minorgridcolor\": \"#C8D4E3\", \"startlinecolor\": \"#2a3f5f\"}, \"type\": \"carpet\"}], \"choropleth\": [{\"colorbar\": {\"outlinewidth\": 0, \"ticks\": \"\"}, \"type\": \"choropleth\"}], \"contour\": [{\"colorbar\": {\"outlinewidth\": 0, \"ticks\": \"\"}, \"colorscale\": [[0.0, \"#0d0887\"], [0.1111111111111111, \"#46039f\"], [0.2222222222222222, \"#7201a8\"], [0.3333333333333333, \"#9c179e\"], [0.4444444444444444, \"#bd3786\"], [0.5555555555555556, \"#d8576b\"], [0.6666666666666666, \"#ed7953\"], [0.7777777777777778, \"#fb9f3a\"], [0.8888888888888888, \"#fdca26\"], [1.0, \"#f0f921\"]], \"type\": \"contour\"}], \"contourcarpet\": [{\"colorbar\": {\"outlinewidth\": 0, \"ticks\": \"\"}, \"type\": \"contourcarpet\"}], \"heatmap\": [{\"colorbar\": {\"outlinewidth\": 0, \"ticks\": \"\"}, \"colorscale\": [[0.0, \"#0d0887\"], [0.1111111111111111, \"#46039f\"], [0.2222222222222222, \"#7201a8\"], [0.3333333333333333, \"#9c179e\"], [0.4444444444444444, \"#bd3786\"], [0.5555555555555556, \"#d8576b\"], [0.6666666666666666, \"#ed7953\"], [0.7777777777777778, \"#fb9f3a\"], [0.8888888888888888, \"#fdca26\"], [1.0, \"#f0f921\"]], \"type\": \"heatmap\"}], \"heatmapgl\": [{\"colorbar\": {\"outlinewidth\": 0, \"ticks\": \"\"}, \"colorscale\": [[0.0, \"#0d0887\"], [0.1111111111111111, \"#46039f\"], [0.2222222222222222, \"#7201a8\"], [0.3333333333333333, \"#9c179e\"], [0.4444444444444444, \"#bd3786\"], [0.5555555555555556, \"#d8576b\"], [0.6666666666666666, \"#ed7953\"], [0.7777777777777778, \"#fb9f3a\"], [0.8888888888888888, \"#fdca26\"], [1.0, \"#f0f921\"]], \"type\": \"heatmapgl\"}], \"histogram\": [{\"marker\": {\"colorbar\": {\"outlinewidth\": 0, \"ticks\": \"\"}}, \"type\": \"histogram\"}], \"histogram2d\": [{\"colorbar\": {\"outlinewidth\": 0, \"ticks\": \"\"}, \"colorscale\": [[0.0, \"#0d0887\"], [0.1111111111111111, \"#46039f\"], [0.2222222222222222, \"#7201a8\"], [0.3333333333333333, \"#9c179e\"], [0.4444444444444444, \"#bd3786\"], [0.5555555555555556, \"#d8576b\"], [0.6666666666666666, \"#ed7953\"], [0.7777777777777778, \"#fb9f3a\"], [0.8888888888888888, \"#fdca26\"], [1.0, \"#f0f921\"]], \"type\": \"histogram2d\"}], \"histogram2dcontour\": [{\"colorbar\": {\"outlinewidth\": 0, \"ticks\": \"\"}, \"colorscale\": [[0.0, \"#0d0887\"], [0.1111111111111111, \"#46039f\"], [0.2222222222222222, \"#7201a8\"], [0.3333333333333333, \"#9c179e\"], [0.4444444444444444, \"#bd3786\"], [0.5555555555555556, \"#d8576b\"], [0.6666666666666666, \"#ed7953\"], [0.7777777777777778, \"#fb9f3a\"], [0.8888888888888888, \"#fdca26\"], [1.0, \"#f0f921\"]], \"type\": \"histogram2dcontour\"}], \"mesh3d\": [{\"colorbar\": {\"outlinewidth\": 0, \"ticks\": \"\"}, \"type\": \"mesh3d\"}], \"parcoords\": [{\"line\": {\"colorbar\": {\"outlinewidth\": 0, \"ticks\": \"\"}}, \"type\": \"parcoords\"}], \"pie\": [{\"automargin\": true, \"type\": \"pie\"}], \"scatter\": [{\"marker\": {\"colorbar\": {\"outlinewidth\": 0, \"ticks\": \"\"}}, \"type\": \"scatter\"}], \"scatter3d\": [{\"line\": {\"colorbar\": {\"outlinewidth\": 0, \"ticks\": \"\"}}, \"marker\": {\"colorbar\": {\"outlinewidth\": 0, \"ticks\": \"\"}}, \"type\": \"scatter3d\"}], \"scattercarpet\": [{\"marker\": {\"colorbar\": {\"outlinewidth\": 0, \"ticks\": \"\"}}, \"type\": \"scattercarpet\"}], \"scattergeo\": [{\"marker\": {\"colorbar\": {\"outlinewidth\": 0, \"ticks\": \"\"}}, \"type\": \"scattergeo\"}], \"scattergl\": [{\"marker\": {\"colorbar\": {\"outlinewidth\": 0, \"ticks\": \"\"}}, \"type\": \"scattergl\"}], \"scattermapbox\": [{\"marker\": {\"colorbar\": {\"outlinewidth\": 0, \"ticks\": \"\"}}, \"type\": \"scattermapbox\"}], \"scatterpolar\": [{\"marker\": {\"colorbar\": {\"outlinewidth\": 0, \"ticks\": \"\"}}, \"type\": \"scatterpolar\"}], \"scatterpolargl\": [{\"marker\": {\"colorbar\": {\"outlinewidth\": 0, \"ticks\": \"\"}}, \"type\": \"scatterpolargl\"}], \"scatterternary\": [{\"marker\": {\"colorbar\": {\"outlinewidth\": 0, \"ticks\": \"\"}}, \"type\": \"scatterternary\"}], \"surface\": [{\"colorbar\": {\"outlinewidth\": 0, \"ticks\": \"\"}, \"colorscale\": [[0.0, \"#0d0887\"], [0.1111111111111111, \"#46039f\"], [0.2222222222222222, \"#7201a8\"], [0.3333333333333333, \"#9c179e\"], [0.4444444444444444, \"#bd3786\"], [0.5555555555555556, \"#d8576b\"], [0.6666666666666666, \"#ed7953\"], [0.7777777777777778, \"#fb9f3a\"], [0.8888888888888888, \"#fdca26\"], [1.0, \"#f0f921\"]], \"type\": \"surface\"}], \"table\": [{\"cells\": {\"fill\": {\"color\": \"#EBF0F8\"}, \"line\": {\"color\": \"white\"}}, \"header\": {\"fill\": {\"color\": \"#C8D4E3\"}, \"line\": {\"color\": \"white\"}}, \"type\": \"table\"}]}, \"layout\": {\"annotationdefaults\": {\"arrowcolor\": \"#2a3f5f\", \"arrowhead\": 0, \"arrowwidth\": 1}, \"coloraxis\": {\"colorbar\": {\"outlinewidth\": 0, \"ticks\": \"\"}}, \"colorscale\": {\"diverging\": [[0, \"#8e0152\"], [0.1, \"#c51b7d\"], [0.2, \"#de77ae\"], [0.3, \"#f1b6da\"], [0.4, \"#fde0ef\"], [0.5, \"#f7f7f7\"], [0.6, \"#e6f5d0\"], [0.7, \"#b8e186\"], [0.8, \"#7fbc41\"], [0.9, \"#4d9221\"], [1, \"#276419\"]], \"sequential\": [[0.0, \"#0d0887\"], [0.1111111111111111, \"#46039f\"], [0.2222222222222222, \"#7201a8\"], [0.3333333333333333, \"#9c179e\"], [0.4444444444444444, \"#bd3786\"], [0.5555555555555556, \"#d8576b\"], [0.6666666666666666, \"#ed7953\"], [0.7777777777777778, \"#fb9f3a\"], [0.8888888888888888, \"#fdca26\"], [1.0, \"#f0f921\"]], \"sequentialminus\": [[0.0, \"#0d0887\"], [0.1111111111111111, \"#46039f\"], [0.2222222222222222, \"#7201a8\"], [0.3333333333333333, \"#9c179e\"], [0.4444444444444444, \"#bd3786\"], [0.5555555555555556, \"#d8576b\"], [0.6666666666666666, \"#ed7953\"], [0.7777777777777778, \"#fb9f3a\"], [0.8888888888888888, \"#fdca26\"], [1.0, \"#f0f921\"]]}, \"colorway\": [\"#636efa\", \"#EF553B\", \"#00cc96\", \"#ab63fa\", \"#FFA15A\", \"#19d3f3\", \"#FF6692\", \"#B6E880\", \"#FF97FF\", \"#FECB52\"], \"font\": {\"color\": \"#2a3f5f\"}, \"geo\": {\"bgcolor\": \"white\", \"lakecolor\": \"white\", \"landcolor\": \"white\", \"showlakes\": true, \"showland\": true, \"subunitcolor\": \"#C8D4E3\"}, \"hoverlabel\": {\"align\": \"left\"}, \"hovermode\": \"closest\", \"mapbox\": {\"style\": \"light\"}, \"paper_bgcolor\": \"white\", \"plot_bgcolor\": \"white\", \"polar\": {\"angularaxis\": {\"gridcolor\": \"#EBF0F8\", \"linecolor\": \"#EBF0F8\", \"ticks\": \"\"}, \"bgcolor\": \"white\", \"radialaxis\": {\"gridcolor\": \"#EBF0F8\", \"linecolor\": \"#EBF0F8\", \"ticks\": \"\"}}, \"scene\": {\"xaxis\": {\"backgroundcolor\": \"white\", \"gridcolor\": \"#DFE8F3\", \"gridwidth\": 2, \"linecolor\": \"#EBF0F8\", \"showbackground\": true, \"ticks\": \"\", \"zerolinecolor\": \"#EBF0F8\"}, \"yaxis\": {\"backgroundcolor\": \"white\", \"gridcolor\": \"#DFE8F3\", \"gridwidth\": 2, \"linecolor\": \"#EBF0F8\", \"showbackground\": true, \"ticks\": \"\", \"zerolinecolor\": \"#EBF0F8\"}, \"zaxis\": {\"backgroundcolor\": \"white\", \"gridcolor\": \"#DFE8F3\", \"gridwidth\": 2, \"linecolor\": \"#EBF0F8\", \"showbackground\": true, \"ticks\": \"\", \"zerolinecolor\": \"#EBF0F8\"}}, \"shapedefaults\": {\"line\": {\"color\": \"#2a3f5f\"}}, \"ternary\": {\"aaxis\": {\"gridcolor\": \"#DFE8F3\", \"linecolor\": \"#A2B1C6\", \"ticks\": \"\"}, \"baxis\": {\"gridcolor\": \"#DFE8F3\", \"linecolor\": \"#A2B1C6\", \"ticks\": \"\"}, \"bgcolor\": \"white\", \"caxis\": {\"gridcolor\": \"#DFE8F3\", \"linecolor\": \"#A2B1C6\", \"ticks\": \"\"}}, \"title\": {\"x\": 0.05}, \"xaxis\": {\"automargin\": true, \"gridcolor\": \"#EBF0F8\", \"linecolor\": \"#EBF0F8\", \"ticks\": \"\", \"title\": {\"standoff\": 15}, \"zerolinecolor\": \"#EBF0F8\", \"zerolinewidth\": 2}, \"yaxis\": {\"automargin\": true, \"gridcolor\": \"#EBF0F8\", \"linecolor\": \"#EBF0F8\", \"ticks\": \"\", \"title\": {\"standoff\": 15}, \"zerolinecolor\": \"#EBF0F8\", \"zerolinewidth\": 2}}}, \"xaxis\": {\"title\": {\"text\": \"Behavior/Personality score\"}}, \"yaxis\": {\"title\": {\"text\": \"Spearman rank correlation\"}}},\n",
       "                        {\"responsive\": true}\n",
       "                    ).then(function(){\n",
       "                            \n",
       "var gd = document.getElementById('27771e98-c24c-443e-9af1-222b5d3cb686');\n",
       "var x = new MutationObserver(function (mutations, observer) {{\n",
       "        var display = window.getComputedStyle(gd).display;\n",
       "        if (!display || display === 'none') {{\n",
       "            console.log([gd, 'removed!']);\n",
       "            Plotly.purge(gd);\n",
       "            observer.disconnect();\n",
       "        }}\n",
       "}});\n",
       "\n",
       "// Listen for the removal of the full notebook cells\n",
       "var notebookContainer = gd.closest('#notebook-container');\n",
       "if (notebookContainer) {{\n",
       "    x.observe(notebookContainer, {childList: true});\n",
       "}}\n",
       "\n",
       "// Listen for the clearing of the current output cell\n",
       "var outputEl = gd.closest('.output');\n",
       "if (outputEl) {{\n",
       "    x.observe(outputEl, {childList: true});\n",
       "}}\n",
       "\n",
       "                        })\n",
       "                };\n",
       "                });\n",
       "            </script>\n",
       "        </div>"
      ]
     },
     "metadata": {},
     "output_type": "display_data"
    }
   ],
   "source": [
    "fig = go.Figure()\n",
    "for bhv in select_bhv:\n",
    "    y = []\n",
    "    x = []\n",
    "    for model in models:\n",
    "        x.append(model.upper())\n",
    "        y.append(test_acc[model][bhv])\n",
    "    bar = go.Bar(name = pretty_bhv[bhv],\n",
    "                 x = x, y = y)\n",
    "    fig.add_trace(bar)\n",
    "    \n",
    "fig.update_layout(barmode = 'group')\n",
    "fig.update_xaxes(title_text = 'Behavior/Personality score')\n",
    "fig.update_yaxes(title_text = pretty_score)\n",
    "fig.show()"
   ]
  },
  {
   "cell_type": "code",
   "execution_count": 15,
   "metadata": {},
   "outputs": [
    {
     "data": {
      "application/vnd.plotly.v1+json": {
       "config": {
        "plotlyServerURL": "https://plot.ly"
       },
       "data": [
        {
         "hovertemplate": "tag=gru<br>true=%{x}<br>predicted=%{y}<extra></extra>",
         "legendgroup": "gru",
         "marker": {
          "color": "#636efa",
          "symbol": "circle"
         },
         "mode": "markers",
         "name": "gru",
         "showlegend": true,
         "type": "scatter",
         "x": [
          0.8235294222831726,
          0.23529411852359772,
          0.7647058963775635,
          0.8823529481887817,
          0.7058823704719543,
          0.7647058963775635,
          0.529411792755127,
          0.8823529481887817,
          0.29411765933036804,
          0.5882353186607361,
          0.29411765933036804,
          0.11764705926179886,
          0.4117647111415863,
          0.9411764740943909,
          0.7647058963775635,
          0.4117647111415863,
          0.7647058963775635,
          0.6470588445663452,
          0.29411765933036804,
          1,
          0.7058823704719543,
          0.529411792755127,
          0.8235294222831726,
          0.9411764740943909,
          0.23529411852359772,
          0.529411792755127,
          0.47058823704719543,
          0.7647058963775635,
          0.7647058963775635,
          1,
          0.529411792755127,
          0.1764705926179886,
          0.8823529481887817,
          0.8823529481887817,
          0.8235294222831726,
          0.7647058963775635,
          0.7058823704719543,
          1,
          0.23529411852359772,
          0.8823529481887817,
          0.5882353186607361,
          0.8823529481887817,
          0.47058823704719543,
          0.9411764740943909,
          1,
          0.9411764740943909,
          0.9411764740943909,
          0.8823529481887817,
          0.8823529481887817,
          0.8235294222831726,
          0.7647058963775635,
          0.23529411852359772,
          0.8823529481887817,
          0.8823529481887817,
          0.6470588445663452,
          0.7647058963775635,
          0.05882352963089943,
          0.7058823704719543,
          0.6470588445663452,
          0.8235294222831726,
          0.7647058963775635,
          0.47058823704719543,
          0.8235294222831726,
          0.7058823704719543,
          0.7058823704719543,
          0.8823529481887817,
          0.8823529481887817,
          0.7647058963775635,
          0.8235294222831726,
          0.9411764740943909,
          0.4117647111415863,
          0.4117647111415863,
          0.47058823704719543,
          0.47058823704719543,
          0.6470588445663452,
          0.7647058963775635
         ],
         "xaxis": "x",
         "y": [
          0.7438755035400391,
          0.5178606510162354,
          0.8766803741455078,
          0.8401280045509338,
          0.7782338857650757,
          0.7898129224777222,
          0.5125973224639893,
          0.8850921988487244,
          0.6445450782775879,
          0.46115371584892273,
          0.937886655330658,
          0.5375513434410095,
          0.4945628046989441,
          0.6780229210853577,
          0.5460358262062073,
          0.6822329759597778,
          0.8066713809967041,
          0.6455450654029846,
          0.2551502585411072,
          0.696103036403656,
          0.8219489455223083,
          0.6894274950027466,
          0.5251016616821289,
          0.8029618263244629,
          0.36848658323287964,
          0.4357706308364868,
          0.49976861476898193,
          0.29151514172554016,
          0.7027533054351807,
          0.8278400897979736,
          0.7865365147590637,
          0.5780444145202637,
          0.6897637844085693,
          0.6109681129455566,
          0.7406359910964966,
          0.684526264667511,
          0.758070170879364,
          0.6978426575660706,
          0.6920074820518494,
          0.7187513709068298,
          0.6287208795547485,
          0.5928216576576233,
          0.4016634523868561,
          0.735949695110321,
          0.6080872416496277,
          0.5585362315177917,
          0.7389084696769714,
          0.7821051478385925,
          0.7529804110527039,
          0.6312676668167114,
          0.7149240970611572,
          0.47657424211502075,
          0.5119794607162476,
          0.6391867995262146,
          0.7757182717323303,
          0.6873399615287781,
          0.7476447224617004,
          0.7440997958183289,
          0.7824283242225647,
          0.60191810131073,
          0.8322070240974426,
          0.6891370415687561,
          0.7224962115287781,
          0.6807090640068054,
          0.3128146827220917,
          0.859745442867279,
          0.7011042237281799,
          0.7780892848968506,
          0.6309715509414673,
          0.825412392616272,
          0.7104287147521973,
          0.6752901673316956,
          0.5645432472229004,
          0.779254674911499,
          0.5025971531867981,
          0.5577654838562012
         ],
         "yaxis": "y"
        },
        {
         "hovertemplate": "<b>OLS trendline</b><br>predicted = 0.193676 * true + 0.529201<br>R<sup>2</sup>=0.106155<br><br>tag=gru<br>true=%{x}<br>predicted=%{y} <b>(trend)</b><extra></extra>",
         "legendgroup": "gru",
         "marker": {
          "color": "#636efa",
          "symbol": "circle"
         },
         "mode": "lines",
         "name": "gru",
         "showlegend": false,
         "type": "scatter",
         "x": [
          0.05882352963089943,
          0.11764705926179886,
          0.1764705926179886,
          0.23529411852359772,
          0.23529411852359772,
          0.23529411852359772,
          0.23529411852359772,
          0.29411765933036804,
          0.29411765933036804,
          0.29411765933036804,
          0.4117647111415863,
          0.4117647111415863,
          0.4117647111415863,
          0.4117647111415863,
          0.47058823704719543,
          0.47058823704719543,
          0.47058823704719543,
          0.47058823704719543,
          0.47058823704719543,
          0.529411792755127,
          0.529411792755127,
          0.529411792755127,
          0.529411792755127,
          0.5882353186607361,
          0.5882353186607361,
          0.6470588445663452,
          0.6470588445663452,
          0.6470588445663452,
          0.6470588445663452,
          0.7058823704719543,
          0.7058823704719543,
          0.7058823704719543,
          0.7058823704719543,
          0.7058823704719543,
          0.7058823704719543,
          0.7647058963775635,
          0.7647058963775635,
          0.7647058963775635,
          0.7647058963775635,
          0.7647058963775635,
          0.7647058963775635,
          0.7647058963775635,
          0.7647058963775635,
          0.7647058963775635,
          0.7647058963775635,
          0.7647058963775635,
          0.7647058963775635,
          0.8235294222831726,
          0.8235294222831726,
          0.8235294222831726,
          0.8235294222831726,
          0.8235294222831726,
          0.8235294222831726,
          0.8235294222831726,
          0.8823529481887817,
          0.8823529481887817,
          0.8823529481887817,
          0.8823529481887817,
          0.8823529481887817,
          0.8823529481887817,
          0.8823529481887817,
          0.8823529481887817,
          0.8823529481887817,
          0.8823529481887817,
          0.8823529481887817,
          0.8823529481887817,
          0.9411764740943909,
          0.9411764740943909,
          0.9411764740943909,
          0.9411764740943909,
          0.9411764740943909,
          0.9411764740943909,
          1,
          1,
          1,
          1
         ],
         "xaxis": "x",
         "y": [
          0.5405936789067698,
          0.5519863751065862,
          0.5633790720279013,
          0.574771767506219,
          0.574771767506219,
          0.574771767506219,
          0.574771767506219,
          0.5861644658705315,
          0.5861644658705315,
          0.5861644658705315,
          0.608949856827167,
          0.608949856827167,
          0.608949856827167,
          0.608949856827167,
          0.6203425523054846,
          0.6203425523054846,
          0.6203425523054846,
          0.6203425523054846,
          0.6203425523054846,
          0.631735253555792,
          0.631735253555792,
          0.631735253555792,
          0.631735253555792,
          0.6431279490341097,
          0.6431279490341097,
          0.6545206445124274,
          0.6545206445124274,
          0.6545206445124274,
          0.6545206445124274,
          0.6659133399907451,
          0.6659133399907451,
          0.6659133399907451,
          0.6659133399907451,
          0.6659133399907451,
          0.6659133399907451,
          0.6773060354690628,
          0.6773060354690628,
          0.6773060354690628,
          0.6773060354690628,
          0.6773060354690628,
          0.6773060354690628,
          0.6773060354690628,
          0.6773060354690628,
          0.6773060354690628,
          0.6773060354690628,
          0.6773060354690628,
          0.6773060354690628,
          0.6886987309473804,
          0.6886987309473804,
          0.6886987309473804,
          0.6886987309473804,
          0.6886987309473804,
          0.6886987309473804,
          0.6886987309473804,
          0.7000914264256982,
          0.7000914264256982,
          0.7000914264256982,
          0.7000914264256982,
          0.7000914264256982,
          0.7000914264256982,
          0.7000914264256982,
          0.7000914264256982,
          0.7000914264256982,
          0.7000914264256982,
          0.7000914264256982,
          0.7000914264256982,
          0.7114841219040159,
          0.7114841219040159,
          0.7114841219040159,
          0.7114841219040159,
          0.7114841219040159,
          0.7114841219040159,
          0.7228768173823336,
          0.7228768173823336,
          0.7228768173823336,
          0.7228768173823336
         ],
         "yaxis": "y"
        }
       ],
       "layout": {
        "font": {
         "color": "black"
        },
        "height": 400,
        "legend": {
         "font": {
          "size": 20
         },
         "title": {
          "text": "tag"
         },
         "tracegroupgap": 0
        },
        "margin": {
         "t": 60
        },
        "template": {
         "data": {
          "bar": [
           {
            "error_x": {
             "color": "#2a3f5f"
            },
            "error_y": {
             "color": "#2a3f5f"
            },
            "marker": {
             "line": {
              "color": "white",
              "width": 0.5
             }
            },
            "type": "bar"
           }
          ],
          "barpolar": [
           {
            "marker": {
             "line": {
              "color": "white",
              "width": 0.5
             }
            },
            "type": "barpolar"
           }
          ],
          "carpet": [
           {
            "aaxis": {
             "endlinecolor": "#2a3f5f",
             "gridcolor": "#C8D4E3",
             "linecolor": "#C8D4E3",
             "minorgridcolor": "#C8D4E3",
             "startlinecolor": "#2a3f5f"
            },
            "baxis": {
             "endlinecolor": "#2a3f5f",
             "gridcolor": "#C8D4E3",
             "linecolor": "#C8D4E3",
             "minorgridcolor": "#C8D4E3",
             "startlinecolor": "#2a3f5f"
            },
            "type": "carpet"
           }
          ],
          "choropleth": [
           {
            "colorbar": {
             "outlinewidth": 0,
             "ticks": ""
            },
            "type": "choropleth"
           }
          ],
          "contour": [
           {
            "colorbar": {
             "outlinewidth": 0,
             "ticks": ""
            },
            "colorscale": [
             [
              0,
              "#0d0887"
             ],
             [
              0.1111111111111111,
              "#46039f"
             ],
             [
              0.2222222222222222,
              "#7201a8"
             ],
             [
              0.3333333333333333,
              "#9c179e"
             ],
             [
              0.4444444444444444,
              "#bd3786"
             ],
             [
              0.5555555555555556,
              "#d8576b"
             ],
             [
              0.6666666666666666,
              "#ed7953"
             ],
             [
              0.7777777777777778,
              "#fb9f3a"
             ],
             [
              0.8888888888888888,
              "#fdca26"
             ],
             [
              1,
              "#f0f921"
             ]
            ],
            "type": "contour"
           }
          ],
          "contourcarpet": [
           {
            "colorbar": {
             "outlinewidth": 0,
             "ticks": ""
            },
            "type": "contourcarpet"
           }
          ],
          "heatmap": [
           {
            "colorbar": {
             "outlinewidth": 0,
             "ticks": ""
            },
            "colorscale": [
             [
              0,
              "#0d0887"
             ],
             [
              0.1111111111111111,
              "#46039f"
             ],
             [
              0.2222222222222222,
              "#7201a8"
             ],
             [
              0.3333333333333333,
              "#9c179e"
             ],
             [
              0.4444444444444444,
              "#bd3786"
             ],
             [
              0.5555555555555556,
              "#d8576b"
             ],
             [
              0.6666666666666666,
              "#ed7953"
             ],
             [
              0.7777777777777778,
              "#fb9f3a"
             ],
             [
              0.8888888888888888,
              "#fdca26"
             ],
             [
              1,
              "#f0f921"
             ]
            ],
            "type": "heatmap"
           }
          ],
          "heatmapgl": [
           {
            "colorbar": {
             "outlinewidth": 0,
             "ticks": ""
            },
            "colorscale": [
             [
              0,
              "#0d0887"
             ],
             [
              0.1111111111111111,
              "#46039f"
             ],
             [
              0.2222222222222222,
              "#7201a8"
             ],
             [
              0.3333333333333333,
              "#9c179e"
             ],
             [
              0.4444444444444444,
              "#bd3786"
             ],
             [
              0.5555555555555556,
              "#d8576b"
             ],
             [
              0.6666666666666666,
              "#ed7953"
             ],
             [
              0.7777777777777778,
              "#fb9f3a"
             ],
             [
              0.8888888888888888,
              "#fdca26"
             ],
             [
              1,
              "#f0f921"
             ]
            ],
            "type": "heatmapgl"
           }
          ],
          "histogram": [
           {
            "marker": {
             "colorbar": {
              "outlinewidth": 0,
              "ticks": ""
             }
            },
            "type": "histogram"
           }
          ],
          "histogram2d": [
           {
            "colorbar": {
             "outlinewidth": 0,
             "ticks": ""
            },
            "colorscale": [
             [
              0,
              "#0d0887"
             ],
             [
              0.1111111111111111,
              "#46039f"
             ],
             [
              0.2222222222222222,
              "#7201a8"
             ],
             [
              0.3333333333333333,
              "#9c179e"
             ],
             [
              0.4444444444444444,
              "#bd3786"
             ],
             [
              0.5555555555555556,
              "#d8576b"
             ],
             [
              0.6666666666666666,
              "#ed7953"
             ],
             [
              0.7777777777777778,
              "#fb9f3a"
             ],
             [
              0.8888888888888888,
              "#fdca26"
             ],
             [
              1,
              "#f0f921"
             ]
            ],
            "type": "histogram2d"
           }
          ],
          "histogram2dcontour": [
           {
            "colorbar": {
             "outlinewidth": 0,
             "ticks": ""
            },
            "colorscale": [
             [
              0,
              "#0d0887"
             ],
             [
              0.1111111111111111,
              "#46039f"
             ],
             [
              0.2222222222222222,
              "#7201a8"
             ],
             [
              0.3333333333333333,
              "#9c179e"
             ],
             [
              0.4444444444444444,
              "#bd3786"
             ],
             [
              0.5555555555555556,
              "#d8576b"
             ],
             [
              0.6666666666666666,
              "#ed7953"
             ],
             [
              0.7777777777777778,
              "#fb9f3a"
             ],
             [
              0.8888888888888888,
              "#fdca26"
             ],
             [
              1,
              "#f0f921"
             ]
            ],
            "type": "histogram2dcontour"
           }
          ],
          "mesh3d": [
           {
            "colorbar": {
             "outlinewidth": 0,
             "ticks": ""
            },
            "type": "mesh3d"
           }
          ],
          "parcoords": [
           {
            "line": {
             "colorbar": {
              "outlinewidth": 0,
              "ticks": ""
             }
            },
            "type": "parcoords"
           }
          ],
          "pie": [
           {
            "automargin": true,
            "type": "pie"
           }
          ],
          "scatter": [
           {
            "marker": {
             "colorbar": {
              "outlinewidth": 0,
              "ticks": ""
             }
            },
            "type": "scatter"
           }
          ],
          "scatter3d": [
           {
            "line": {
             "colorbar": {
              "outlinewidth": 0,
              "ticks": ""
             }
            },
            "marker": {
             "colorbar": {
              "outlinewidth": 0,
              "ticks": ""
             }
            },
            "type": "scatter3d"
           }
          ],
          "scattercarpet": [
           {
            "marker": {
             "colorbar": {
              "outlinewidth": 0,
              "ticks": ""
             }
            },
            "type": "scattercarpet"
           }
          ],
          "scattergeo": [
           {
            "marker": {
             "colorbar": {
              "outlinewidth": 0,
              "ticks": ""
             }
            },
            "type": "scattergeo"
           }
          ],
          "scattergl": [
           {
            "marker": {
             "colorbar": {
              "outlinewidth": 0,
              "ticks": ""
             }
            },
            "type": "scattergl"
           }
          ],
          "scattermapbox": [
           {
            "marker": {
             "colorbar": {
              "outlinewidth": 0,
              "ticks": ""
             }
            },
            "type": "scattermapbox"
           }
          ],
          "scatterpolar": [
           {
            "marker": {
             "colorbar": {
              "outlinewidth": 0,
              "ticks": ""
             }
            },
            "type": "scatterpolar"
           }
          ],
          "scatterpolargl": [
           {
            "marker": {
             "colorbar": {
              "outlinewidth": 0,
              "ticks": ""
             }
            },
            "type": "scatterpolargl"
           }
          ],
          "scatterternary": [
           {
            "marker": {
             "colorbar": {
              "outlinewidth": 0,
              "ticks": ""
             }
            },
            "type": "scatterternary"
           }
          ],
          "surface": [
           {
            "colorbar": {
             "outlinewidth": 0,
             "ticks": ""
            },
            "colorscale": [
             [
              0,
              "#0d0887"
             ],
             [
              0.1111111111111111,
              "#46039f"
             ],
             [
              0.2222222222222222,
              "#7201a8"
             ],
             [
              0.3333333333333333,
              "#9c179e"
             ],
             [
              0.4444444444444444,
              "#bd3786"
             ],
             [
              0.5555555555555556,
              "#d8576b"
             ],
             [
              0.6666666666666666,
              "#ed7953"
             ],
             [
              0.7777777777777778,
              "#fb9f3a"
             ],
             [
              0.8888888888888888,
              "#fdca26"
             ],
             [
              1,
              "#f0f921"
             ]
            ],
            "type": "surface"
           }
          ],
          "table": [
           {
            "cells": {
             "fill": {
              "color": "#EBF0F8"
             },
             "line": {
              "color": "white"
             }
            },
            "header": {
             "fill": {
              "color": "#C8D4E3"
             },
             "line": {
              "color": "white"
             }
            },
            "type": "table"
           }
          ]
         },
         "layout": {
          "annotationdefaults": {
           "arrowcolor": "#2a3f5f",
           "arrowhead": 0,
           "arrowwidth": 1
          },
          "coloraxis": {
           "colorbar": {
            "outlinewidth": 0,
            "ticks": ""
           }
          },
          "colorscale": {
           "diverging": [
            [
             0,
             "#8e0152"
            ],
            [
             0.1,
             "#c51b7d"
            ],
            [
             0.2,
             "#de77ae"
            ],
            [
             0.3,
             "#f1b6da"
            ],
            [
             0.4,
             "#fde0ef"
            ],
            [
             0.5,
             "#f7f7f7"
            ],
            [
             0.6,
             "#e6f5d0"
            ],
            [
             0.7,
             "#b8e186"
            ],
            [
             0.8,
             "#7fbc41"
            ],
            [
             0.9,
             "#4d9221"
            ],
            [
             1,
             "#276419"
            ]
           ],
           "sequential": [
            [
             0,
             "#0d0887"
            ],
            [
             0.1111111111111111,
             "#46039f"
            ],
            [
             0.2222222222222222,
             "#7201a8"
            ],
            [
             0.3333333333333333,
             "#9c179e"
            ],
            [
             0.4444444444444444,
             "#bd3786"
            ],
            [
             0.5555555555555556,
             "#d8576b"
            ],
            [
             0.6666666666666666,
             "#ed7953"
            ],
            [
             0.7777777777777778,
             "#fb9f3a"
            ],
            [
             0.8888888888888888,
             "#fdca26"
            ],
            [
             1,
             "#f0f921"
            ]
           ],
           "sequentialminus": [
            [
             0,
             "#0d0887"
            ],
            [
             0.1111111111111111,
             "#46039f"
            ],
            [
             0.2222222222222222,
             "#7201a8"
            ],
            [
             0.3333333333333333,
             "#9c179e"
            ],
            [
             0.4444444444444444,
             "#bd3786"
            ],
            [
             0.5555555555555556,
             "#d8576b"
            ],
            [
             0.6666666666666666,
             "#ed7953"
            ],
            [
             0.7777777777777778,
             "#fb9f3a"
            ],
            [
             0.8888888888888888,
             "#fdca26"
            ],
            [
             1,
             "#f0f921"
            ]
           ]
          },
          "colorway": [
           "#636efa",
           "#EF553B",
           "#00cc96",
           "#ab63fa",
           "#FFA15A",
           "#19d3f3",
           "#FF6692",
           "#B6E880",
           "#FF97FF",
           "#FECB52"
          ],
          "font": {
           "color": "#2a3f5f"
          },
          "geo": {
           "bgcolor": "white",
           "lakecolor": "white",
           "landcolor": "white",
           "showlakes": true,
           "showland": true,
           "subunitcolor": "#C8D4E3"
          },
          "hoverlabel": {
           "align": "left"
          },
          "hovermode": "closest",
          "mapbox": {
           "style": "light"
          },
          "paper_bgcolor": "white",
          "plot_bgcolor": "white",
          "polar": {
           "angularaxis": {
            "gridcolor": "#EBF0F8",
            "linecolor": "#EBF0F8",
            "ticks": ""
           },
           "bgcolor": "white",
           "radialaxis": {
            "gridcolor": "#EBF0F8",
            "linecolor": "#EBF0F8",
            "ticks": ""
           }
          },
          "scene": {
           "xaxis": {
            "backgroundcolor": "white",
            "gridcolor": "#DFE8F3",
            "gridwidth": 2,
            "linecolor": "#EBF0F8",
            "showbackground": true,
            "ticks": "",
            "zerolinecolor": "#EBF0F8"
           },
           "yaxis": {
            "backgroundcolor": "white",
            "gridcolor": "#DFE8F3",
            "gridwidth": 2,
            "linecolor": "#EBF0F8",
            "showbackground": true,
            "ticks": "",
            "zerolinecolor": "#EBF0F8"
           },
           "zaxis": {
            "backgroundcolor": "white",
            "gridcolor": "#DFE8F3",
            "gridwidth": 2,
            "linecolor": "#EBF0F8",
            "showbackground": true,
            "ticks": "",
            "zerolinecolor": "#EBF0F8"
           }
          },
          "shapedefaults": {
           "line": {
            "color": "#2a3f5f"
           }
          },
          "ternary": {
           "aaxis": {
            "gridcolor": "#DFE8F3",
            "linecolor": "#A2B1C6",
            "ticks": ""
           },
           "baxis": {
            "gridcolor": "#DFE8F3",
            "linecolor": "#A2B1C6",
            "ticks": ""
           },
           "bgcolor": "white",
           "caxis": {
            "gridcolor": "#DFE8F3",
            "linecolor": "#A2B1C6",
            "ticks": ""
           }
          },
          "title": {
           "x": 0.05
          },
          "xaxis": {
           "automargin": true,
           "gridcolor": "#EBF0F8",
           "linecolor": "#EBF0F8",
           "ticks": "",
           "title": {
            "standoff": 15
           },
           "zerolinecolor": "#EBF0F8",
           "zerolinewidth": 2
          },
          "yaxis": {
           "automargin": true,
           "gridcolor": "#EBF0F8",
           "linecolor": "#EBF0F8",
           "ticks": "",
           "title": {
            "standoff": 15
           },
           "zerolinecolor": "#EBF0F8",
           "zerolinewidth": 2
          }
         }
        },
        "title": {
         "text": "Fluid Intelligence"
        },
        "width": 480,
        "xaxis": {
         "anchor": "y",
         "domain": [
          0,
          1
         ],
         "dtick": 0.2,
         "tickfont": {
          "size": 20
         },
         "title": {
          "font": {
           "size": 20
          },
          "text": "True"
         }
        },
        "yaxis": {
         "anchor": "x",
         "domain": [
          0,
          1
         ],
         "dtick": 0.2,
         "tickfont": {
          "size": 20
         },
         "title": {
          "font": {
           "size": 20
          },
          "text": "Predicted"
         }
        }
       }
      },
      "text/html": [
       "<div>\n",
       "        \n",
       "        \n",
       "            <div id=\"4afc9918-7d29-49f1-bfd0-adbdb33a3144\" class=\"plotly-graph-div\" style=\"height:400px; width:480px;\"></div>\n",
       "            <script type=\"text/javascript\">\n",
       "                require([\"plotly\"], function(Plotly) {\n",
       "                    window.PLOTLYENV=window.PLOTLYENV || {};\n",
       "                    \n",
       "                if (document.getElementById(\"4afc9918-7d29-49f1-bfd0-adbdb33a3144\")) {\n",
       "                    Plotly.newPlot(\n",
       "                        '4afc9918-7d29-49f1-bfd0-adbdb33a3144',\n",
       "                        [{\"hovertemplate\": \"tag=gru<br>true=%{x}<br>predicted=%{y}<extra></extra>\", \"legendgroup\": \"gru\", \"marker\": {\"color\": \"#636efa\", \"symbol\": \"circle\"}, \"mode\": \"markers\", \"name\": \"gru\", \"showlegend\": true, \"type\": \"scatter\", \"x\": [0.8235294222831726, 0.23529411852359772, 0.7647058963775635, 0.8823529481887817, 0.7058823704719543, 0.7647058963775635, 0.529411792755127, 0.8823529481887817, 0.29411765933036804, 0.5882353186607361, 0.29411765933036804, 0.11764705926179886, 0.4117647111415863, 0.9411764740943909, 0.7647058963775635, 0.4117647111415863, 0.7647058963775635, 0.6470588445663452, 0.29411765933036804, 1.0, 0.7058823704719543, 0.529411792755127, 0.8235294222831726, 0.9411764740943909, 0.23529411852359772, 0.529411792755127, 0.47058823704719543, 0.7647058963775635, 0.7647058963775635, 1.0, 0.529411792755127, 0.1764705926179886, 0.8823529481887817, 0.8823529481887817, 0.8235294222831726, 0.7647058963775635, 0.7058823704719543, 1.0, 0.23529411852359772, 0.8823529481887817, 0.5882353186607361, 0.8823529481887817, 0.47058823704719543, 0.9411764740943909, 1.0, 0.9411764740943909, 0.9411764740943909, 0.8823529481887817, 0.8823529481887817, 0.8235294222831726, 0.7647058963775635, 0.23529411852359772, 0.8823529481887817, 0.8823529481887817, 0.6470588445663452, 0.7647058963775635, 0.05882352963089943, 0.7058823704719543, 0.6470588445663452, 0.8235294222831726, 0.7647058963775635, 0.47058823704719543, 0.8235294222831726, 0.7058823704719543, 0.7058823704719543, 0.8823529481887817, 0.8823529481887817, 0.7647058963775635, 0.8235294222831726, 0.9411764740943909, 0.4117647111415863, 0.4117647111415863, 0.47058823704719543, 0.47058823704719543, 0.6470588445663452, 0.7647058963775635], \"xaxis\": \"x\", \"y\": [0.7438755035400391, 0.5178606510162354, 0.8766803741455078, 0.8401280045509338, 0.7782338857650757, 0.7898129224777222, 0.5125973224639893, 0.8850921988487244, 0.6445450782775879, 0.46115371584892273, 0.937886655330658, 0.5375513434410095, 0.4945628046989441, 0.6780229210853577, 0.5460358262062073, 0.6822329759597778, 0.8066713809967041, 0.6455450654029846, 0.2551502585411072, 0.696103036403656, 0.8219489455223083, 0.6894274950027466, 0.5251016616821289, 0.8029618263244629, 0.36848658323287964, 0.4357706308364868, 0.49976861476898193, 0.29151514172554016, 0.7027533054351807, 0.8278400897979736, 0.7865365147590637, 0.5780444145202637, 0.6897637844085693, 0.6109681129455566, 0.7406359910964966, 0.684526264667511, 0.758070170879364, 0.6978426575660706, 0.6920074820518494, 0.7187513709068298, 0.6287208795547485, 0.5928216576576233, 0.4016634523868561, 0.735949695110321, 0.6080872416496277, 0.5585362315177917, 0.7389084696769714, 0.7821051478385925, 0.7529804110527039, 0.6312676668167114, 0.7149240970611572, 0.47657424211502075, 0.5119794607162476, 0.6391867995262146, 0.7757182717323303, 0.6873399615287781, 0.7476447224617004, 0.7440997958183289, 0.7824283242225647, 0.60191810131073, 0.8322070240974426, 0.6891370415687561, 0.7224962115287781, 0.6807090640068054, 0.3128146827220917, 0.859745442867279, 0.7011042237281799, 0.7780892848968506, 0.6309715509414673, 0.825412392616272, 0.7104287147521973, 0.6752901673316956, 0.5645432472229004, 0.779254674911499, 0.5025971531867981, 0.5577654838562012], \"yaxis\": \"y\"}, {\"hovertemplate\": \"<b>OLS trendline</b><br>predicted = 0.193676 * true + 0.529201<br>R<sup>2</sup>=0.106155<br><br>tag=gru<br>true=%{x}<br>predicted=%{y} <b>(trend)</b><extra></extra>\", \"legendgroup\": \"gru\", \"marker\": {\"color\": \"#636efa\", \"symbol\": \"circle\"}, \"mode\": \"lines\", \"name\": \"gru\", \"showlegend\": false, \"type\": \"scatter\", \"x\": [0.05882352963089943, 0.11764705926179886, 0.1764705926179886, 0.23529411852359772, 0.23529411852359772, 0.23529411852359772, 0.23529411852359772, 0.29411765933036804, 0.29411765933036804, 0.29411765933036804, 0.4117647111415863, 0.4117647111415863, 0.4117647111415863, 0.4117647111415863, 0.47058823704719543, 0.47058823704719543, 0.47058823704719543, 0.47058823704719543, 0.47058823704719543, 0.529411792755127, 0.529411792755127, 0.529411792755127, 0.529411792755127, 0.5882353186607361, 0.5882353186607361, 0.6470588445663452, 0.6470588445663452, 0.6470588445663452, 0.6470588445663452, 0.7058823704719543, 0.7058823704719543, 0.7058823704719543, 0.7058823704719543, 0.7058823704719543, 0.7058823704719543, 0.7647058963775635, 0.7647058963775635, 0.7647058963775635, 0.7647058963775635, 0.7647058963775635, 0.7647058963775635, 0.7647058963775635, 0.7647058963775635, 0.7647058963775635, 0.7647058963775635, 0.7647058963775635, 0.7647058963775635, 0.8235294222831726, 0.8235294222831726, 0.8235294222831726, 0.8235294222831726, 0.8235294222831726, 0.8235294222831726, 0.8235294222831726, 0.8823529481887817, 0.8823529481887817, 0.8823529481887817, 0.8823529481887817, 0.8823529481887817, 0.8823529481887817, 0.8823529481887817, 0.8823529481887817, 0.8823529481887817, 0.8823529481887817, 0.8823529481887817, 0.8823529481887817, 0.9411764740943909, 0.9411764740943909, 0.9411764740943909, 0.9411764740943909, 0.9411764740943909, 0.9411764740943909, 1.0, 1.0, 1.0, 1.0], \"xaxis\": \"x\", \"y\": [0.5405936789067698, 0.5519863751065862, 0.5633790720279013, 0.574771767506219, 0.574771767506219, 0.574771767506219, 0.574771767506219, 0.5861644658705315, 0.5861644658705315, 0.5861644658705315, 0.608949856827167, 0.608949856827167, 0.608949856827167, 0.608949856827167, 0.6203425523054846, 0.6203425523054846, 0.6203425523054846, 0.6203425523054846, 0.6203425523054846, 0.631735253555792, 0.631735253555792, 0.631735253555792, 0.631735253555792, 0.6431279490341097, 0.6431279490341097, 0.6545206445124274, 0.6545206445124274, 0.6545206445124274, 0.6545206445124274, 0.6659133399907451, 0.6659133399907451, 0.6659133399907451, 0.6659133399907451, 0.6659133399907451, 0.6659133399907451, 0.6773060354690628, 0.6773060354690628, 0.6773060354690628, 0.6773060354690628, 0.6773060354690628, 0.6773060354690628, 0.6773060354690628, 0.6773060354690628, 0.6773060354690628, 0.6773060354690628, 0.6773060354690628, 0.6773060354690628, 0.6886987309473804, 0.6886987309473804, 0.6886987309473804, 0.6886987309473804, 0.6886987309473804, 0.6886987309473804, 0.6886987309473804, 0.7000914264256982, 0.7000914264256982, 0.7000914264256982, 0.7000914264256982, 0.7000914264256982, 0.7000914264256982, 0.7000914264256982, 0.7000914264256982, 0.7000914264256982, 0.7000914264256982, 0.7000914264256982, 0.7000914264256982, 0.7114841219040159, 0.7114841219040159, 0.7114841219040159, 0.7114841219040159, 0.7114841219040159, 0.7114841219040159, 0.7228768173823336, 0.7228768173823336, 0.7228768173823336, 0.7228768173823336], \"yaxis\": \"y\"}],\n",
       "                        {\"font\": {\"color\": \"black\"}, \"height\": 400, \"legend\": {\"font\": {\"size\": 20}, \"title\": {\"text\": \"tag\"}, \"tracegroupgap\": 0}, \"margin\": {\"t\": 60}, \"template\": {\"data\": {\"bar\": [{\"error_x\": {\"color\": \"#2a3f5f\"}, \"error_y\": {\"color\": \"#2a3f5f\"}, \"marker\": {\"line\": {\"color\": \"white\", \"width\": 0.5}}, \"type\": \"bar\"}], \"barpolar\": [{\"marker\": {\"line\": {\"color\": \"white\", \"width\": 0.5}}, \"type\": \"barpolar\"}], \"carpet\": [{\"aaxis\": {\"endlinecolor\": \"#2a3f5f\", \"gridcolor\": \"#C8D4E3\", \"linecolor\": \"#C8D4E3\", \"minorgridcolor\": \"#C8D4E3\", \"startlinecolor\": \"#2a3f5f\"}, \"baxis\": {\"endlinecolor\": \"#2a3f5f\", \"gridcolor\": \"#C8D4E3\", \"linecolor\": \"#C8D4E3\", \"minorgridcolor\": \"#C8D4E3\", \"startlinecolor\": \"#2a3f5f\"}, \"type\": \"carpet\"}], \"choropleth\": [{\"colorbar\": {\"outlinewidth\": 0, \"ticks\": \"\"}, \"type\": \"choropleth\"}], \"contour\": [{\"colorbar\": {\"outlinewidth\": 0, \"ticks\": \"\"}, \"colorscale\": [[0.0, \"#0d0887\"], [0.1111111111111111, \"#46039f\"], [0.2222222222222222, \"#7201a8\"], [0.3333333333333333, \"#9c179e\"], [0.4444444444444444, \"#bd3786\"], [0.5555555555555556, \"#d8576b\"], [0.6666666666666666, \"#ed7953\"], [0.7777777777777778, \"#fb9f3a\"], [0.8888888888888888, \"#fdca26\"], [1.0, \"#f0f921\"]], \"type\": \"contour\"}], \"contourcarpet\": [{\"colorbar\": {\"outlinewidth\": 0, \"ticks\": \"\"}, \"type\": \"contourcarpet\"}], \"heatmap\": [{\"colorbar\": {\"outlinewidth\": 0, \"ticks\": \"\"}, \"colorscale\": [[0.0, \"#0d0887\"], [0.1111111111111111, \"#46039f\"], [0.2222222222222222, \"#7201a8\"], [0.3333333333333333, \"#9c179e\"], [0.4444444444444444, \"#bd3786\"], [0.5555555555555556, \"#d8576b\"], [0.6666666666666666, \"#ed7953\"], [0.7777777777777778, \"#fb9f3a\"], [0.8888888888888888, \"#fdca26\"], [1.0, \"#f0f921\"]], \"type\": \"heatmap\"}], \"heatmapgl\": [{\"colorbar\": {\"outlinewidth\": 0, \"ticks\": \"\"}, \"colorscale\": [[0.0, \"#0d0887\"], [0.1111111111111111, \"#46039f\"], [0.2222222222222222, \"#7201a8\"], [0.3333333333333333, \"#9c179e\"], [0.4444444444444444, \"#bd3786\"], [0.5555555555555556, \"#d8576b\"], [0.6666666666666666, \"#ed7953\"], [0.7777777777777778, \"#fb9f3a\"], [0.8888888888888888, \"#fdca26\"], [1.0, \"#f0f921\"]], \"type\": \"heatmapgl\"}], \"histogram\": [{\"marker\": {\"colorbar\": {\"outlinewidth\": 0, \"ticks\": \"\"}}, \"type\": \"histogram\"}], \"histogram2d\": [{\"colorbar\": {\"outlinewidth\": 0, \"ticks\": \"\"}, \"colorscale\": [[0.0, \"#0d0887\"], [0.1111111111111111, \"#46039f\"], [0.2222222222222222, \"#7201a8\"], [0.3333333333333333, \"#9c179e\"], [0.4444444444444444, \"#bd3786\"], [0.5555555555555556, \"#d8576b\"], [0.6666666666666666, \"#ed7953\"], [0.7777777777777778, \"#fb9f3a\"], [0.8888888888888888, \"#fdca26\"], [1.0, \"#f0f921\"]], \"type\": \"histogram2d\"}], \"histogram2dcontour\": [{\"colorbar\": {\"outlinewidth\": 0, \"ticks\": \"\"}, \"colorscale\": [[0.0, \"#0d0887\"], [0.1111111111111111, \"#46039f\"], [0.2222222222222222, \"#7201a8\"], [0.3333333333333333, \"#9c179e\"], [0.4444444444444444, \"#bd3786\"], [0.5555555555555556, \"#d8576b\"], [0.6666666666666666, \"#ed7953\"], [0.7777777777777778, \"#fb9f3a\"], [0.8888888888888888, \"#fdca26\"], [1.0, \"#f0f921\"]], \"type\": \"histogram2dcontour\"}], \"mesh3d\": [{\"colorbar\": {\"outlinewidth\": 0, \"ticks\": \"\"}, \"type\": \"mesh3d\"}], \"parcoords\": [{\"line\": {\"colorbar\": {\"outlinewidth\": 0, \"ticks\": \"\"}}, \"type\": \"parcoords\"}], \"pie\": [{\"automargin\": true, \"type\": \"pie\"}], \"scatter\": [{\"marker\": {\"colorbar\": {\"outlinewidth\": 0, \"ticks\": \"\"}}, \"type\": \"scatter\"}], \"scatter3d\": [{\"line\": {\"colorbar\": {\"outlinewidth\": 0, \"ticks\": \"\"}}, \"marker\": {\"colorbar\": {\"outlinewidth\": 0, \"ticks\": \"\"}}, \"type\": \"scatter3d\"}], \"scattercarpet\": [{\"marker\": {\"colorbar\": {\"outlinewidth\": 0, \"ticks\": \"\"}}, \"type\": \"scattercarpet\"}], \"scattergeo\": [{\"marker\": {\"colorbar\": {\"outlinewidth\": 0, \"ticks\": \"\"}}, \"type\": \"scattergeo\"}], \"scattergl\": [{\"marker\": {\"colorbar\": {\"outlinewidth\": 0, \"ticks\": \"\"}}, \"type\": \"scattergl\"}], \"scattermapbox\": [{\"marker\": {\"colorbar\": {\"outlinewidth\": 0, \"ticks\": \"\"}}, \"type\": \"scattermapbox\"}], \"scatterpolar\": [{\"marker\": {\"colorbar\": {\"outlinewidth\": 0, \"ticks\": \"\"}}, \"type\": \"scatterpolar\"}], \"scatterpolargl\": [{\"marker\": {\"colorbar\": {\"outlinewidth\": 0, \"ticks\": \"\"}}, \"type\": \"scatterpolargl\"}], \"scatterternary\": [{\"marker\": {\"colorbar\": {\"outlinewidth\": 0, \"ticks\": \"\"}}, \"type\": \"scatterternary\"}], \"surface\": [{\"colorbar\": {\"outlinewidth\": 0, \"ticks\": \"\"}, \"colorscale\": [[0.0, \"#0d0887\"], [0.1111111111111111, \"#46039f\"], [0.2222222222222222, \"#7201a8\"], [0.3333333333333333, \"#9c179e\"], [0.4444444444444444, \"#bd3786\"], [0.5555555555555556, \"#d8576b\"], [0.6666666666666666, \"#ed7953\"], [0.7777777777777778, \"#fb9f3a\"], [0.8888888888888888, \"#fdca26\"], [1.0, \"#f0f921\"]], \"type\": \"surface\"}], \"table\": [{\"cells\": {\"fill\": {\"color\": \"#EBF0F8\"}, \"line\": {\"color\": \"white\"}}, \"header\": {\"fill\": {\"color\": \"#C8D4E3\"}, \"line\": {\"color\": \"white\"}}, \"type\": \"table\"}]}, \"layout\": {\"annotationdefaults\": {\"arrowcolor\": \"#2a3f5f\", \"arrowhead\": 0, \"arrowwidth\": 1}, \"coloraxis\": {\"colorbar\": {\"outlinewidth\": 0, \"ticks\": \"\"}}, \"colorscale\": {\"diverging\": [[0, \"#8e0152\"], [0.1, \"#c51b7d\"], [0.2, \"#de77ae\"], [0.3, \"#f1b6da\"], [0.4, \"#fde0ef\"], [0.5, \"#f7f7f7\"], [0.6, \"#e6f5d0\"], [0.7, \"#b8e186\"], [0.8, \"#7fbc41\"], [0.9, \"#4d9221\"], [1, \"#276419\"]], \"sequential\": [[0.0, \"#0d0887\"], [0.1111111111111111, \"#46039f\"], [0.2222222222222222, \"#7201a8\"], [0.3333333333333333, \"#9c179e\"], [0.4444444444444444, \"#bd3786\"], [0.5555555555555556, \"#d8576b\"], [0.6666666666666666, \"#ed7953\"], [0.7777777777777778, \"#fb9f3a\"], [0.8888888888888888, \"#fdca26\"], [1.0, \"#f0f921\"]], \"sequentialminus\": [[0.0, \"#0d0887\"], [0.1111111111111111, \"#46039f\"], [0.2222222222222222, \"#7201a8\"], [0.3333333333333333, \"#9c179e\"], [0.4444444444444444, \"#bd3786\"], [0.5555555555555556, \"#d8576b\"], [0.6666666666666666, \"#ed7953\"], [0.7777777777777778, \"#fb9f3a\"], [0.8888888888888888, \"#fdca26\"], [1.0, \"#f0f921\"]]}, \"colorway\": [\"#636efa\", \"#EF553B\", \"#00cc96\", \"#ab63fa\", \"#FFA15A\", \"#19d3f3\", \"#FF6692\", \"#B6E880\", \"#FF97FF\", \"#FECB52\"], \"font\": {\"color\": \"#2a3f5f\"}, \"geo\": {\"bgcolor\": \"white\", \"lakecolor\": \"white\", \"landcolor\": \"white\", \"showlakes\": true, \"showland\": true, \"subunitcolor\": \"#C8D4E3\"}, \"hoverlabel\": {\"align\": \"left\"}, \"hovermode\": \"closest\", \"mapbox\": {\"style\": \"light\"}, \"paper_bgcolor\": \"white\", \"plot_bgcolor\": \"white\", \"polar\": {\"angularaxis\": {\"gridcolor\": \"#EBF0F8\", \"linecolor\": \"#EBF0F8\", \"ticks\": \"\"}, \"bgcolor\": \"white\", \"radialaxis\": {\"gridcolor\": \"#EBF0F8\", \"linecolor\": \"#EBF0F8\", \"ticks\": \"\"}}, \"scene\": {\"xaxis\": {\"backgroundcolor\": \"white\", \"gridcolor\": \"#DFE8F3\", \"gridwidth\": 2, \"linecolor\": \"#EBF0F8\", \"showbackground\": true, \"ticks\": \"\", \"zerolinecolor\": \"#EBF0F8\"}, \"yaxis\": {\"backgroundcolor\": \"white\", \"gridcolor\": \"#DFE8F3\", \"gridwidth\": 2, \"linecolor\": \"#EBF0F8\", \"showbackground\": true, \"ticks\": \"\", \"zerolinecolor\": \"#EBF0F8\"}, \"zaxis\": {\"backgroundcolor\": \"white\", \"gridcolor\": \"#DFE8F3\", \"gridwidth\": 2, \"linecolor\": \"#EBF0F8\", \"showbackground\": true, \"ticks\": \"\", \"zerolinecolor\": \"#EBF0F8\"}}, \"shapedefaults\": {\"line\": {\"color\": \"#2a3f5f\"}}, \"ternary\": {\"aaxis\": {\"gridcolor\": \"#DFE8F3\", \"linecolor\": \"#A2B1C6\", \"ticks\": \"\"}, \"baxis\": {\"gridcolor\": \"#DFE8F3\", \"linecolor\": \"#A2B1C6\", \"ticks\": \"\"}, \"bgcolor\": \"white\", \"caxis\": {\"gridcolor\": \"#DFE8F3\", \"linecolor\": \"#A2B1C6\", \"ticks\": \"\"}}, \"title\": {\"x\": 0.05}, \"xaxis\": {\"automargin\": true, \"gridcolor\": \"#EBF0F8\", \"linecolor\": \"#EBF0F8\", \"ticks\": \"\", \"title\": {\"standoff\": 15}, \"zerolinecolor\": \"#EBF0F8\", \"zerolinewidth\": 2}, \"yaxis\": {\"automargin\": true, \"gridcolor\": \"#EBF0F8\", \"linecolor\": \"#EBF0F8\", \"ticks\": \"\", \"title\": {\"standoff\": 15}, \"zerolinecolor\": \"#EBF0F8\", \"zerolinewidth\": 2}}}, \"title\": {\"text\": \"Fluid Intelligence\"}, \"width\": 480, \"xaxis\": {\"anchor\": \"y\", \"domain\": [0.0, 1.0], \"dtick\": 0.2, \"tickfont\": {\"size\": 20}, \"title\": {\"font\": {\"size\": 20}, \"text\": \"True\"}}, \"yaxis\": {\"anchor\": \"x\", \"domain\": [0.0, 1.0], \"dtick\": 0.2, \"tickfont\": {\"size\": 20}, \"title\": {\"font\": {\"size\": 20}, \"text\": \"Predicted\"}}},\n",
       "                        {\"responsive\": true}\n",
       "                    ).then(function(){\n",
       "                            \n",
       "var gd = document.getElementById('4afc9918-7d29-49f1-bfd0-adbdb33a3144');\n",
       "var x = new MutationObserver(function (mutations, observer) {{\n",
       "        var display = window.getComputedStyle(gd).display;\n",
       "        if (!display || display === 'none') {{\n",
       "            console.log([gd, 'removed!']);\n",
       "            Plotly.purge(gd);\n",
       "            observer.disconnect();\n",
       "        }}\n",
       "}});\n",
       "\n",
       "// Listen for the removal of the full notebook cells\n",
       "var notebookContainer = gd.closest('#notebook-container');\n",
       "if (notebookContainer) {{\n",
       "    x.observe(notebookContainer, {childList: true});\n",
       "}}\n",
       "\n",
       "// Listen for the clearing of the current output cell\n",
       "var outputEl = gd.closest('.output');\n",
       "if (outputEl) {{\n",
       "    x.observe(outputEl, {childList: true});\n",
       "}}\n",
       "\n",
       "                        })\n",
       "                };\n",
       "                });\n",
       "            </script>\n",
       "        </div>"
      ]
     },
     "metadata": {},
     "output_type": "display_data"
    },
    {
     "data": {
      "application/vnd.plotly.v1+json": {
       "config": {
        "plotlyServerURL": "https://plot.ly"
       },
       "data": [
        {
         "hovertemplate": "tag=gru<br>true=%{x}<br>predicted=%{y}<extra></extra>",
         "legendgroup": "gru",
         "marker": {
          "color": "#636efa",
          "symbol": "circle"
         },
         "mode": "markers",
         "name": "gru",
         "showlegend": true,
         "type": "scatter",
         "x": [
          0.5227692127227783,
          0.43894729018211365,
          0.4961031675338745,
          0.3437322676181793,
          0.41126665472984314,
          0.45080435276031494,
          0.7275477051734924,
          0.5902186632156372,
          0.30865561962127686,
          0.5047312378883362,
          0.3601064682006836,
          0.5378773212432861,
          0.5121068954467773,
          0.48808175325393677,
          0.4699792265892029,
          0.42934200167655945,
          0.3998803496360779,
          1,
          0.5513012409210205,
          0.47360244393348694,
          0.5747536420822144,
          0.5793353915214539,
          0.27276158332824707,
          0.45120373368263245,
          0.24896588921546936,
          0.4185709059238434,
          0.44447219371795654,
          0.44270646572113037,
          0.38559308648109436,
          0.5175400376319885,
          0.504727840423584,
          0.25032883882522583,
          0.48604243993759155,
          0.49757149815559387,
          0.3530673384666443,
          0.6037394404411316,
          0.23112507164478302,
          0.6813091039657593,
          0.09432010352611542,
          0.6552022099494934,
          0.2967238128185272,
          0.5637072324752808,
          0.6422846913337708,
          0.767109215259552,
          0.6365626454353333,
          0.5135735273361206,
          0.668903112411499,
          0.3652167022228241,
          0.451071172952652,
          0.364506334066391,
          0.4054885506629944,
          0.5458171367645264,
          0.44856446981430054,
          0.6063634157180786,
          0.321875661611557,
          0.5331171751022339,
          0.38560497760772705,
          0.5805895924568176,
          0.4559621810913086,
          0.549346923828125,
          0.7130361199378967,
          0.5990319848060608,
          0.4999779164791107,
          0.4472949802875519,
          0.5520439147949219,
          0.4320594370365143,
          0.4664987623691559,
          0.5249054431915283,
          0.33166277408599854,
          0.5642391443252563,
          0.5061061382293701,
          0.3546750247478485,
          0.4906309247016907,
          0.13443508744239807,
          0.6819226145744324,
          0.2309449315071106
         ],
         "xaxis": "x",
         "y": [
          0.1719294935464859,
          0.29890313744544983,
          0.4956631362438202,
          0.3265174329280853,
          0.5011499524116516,
          0.3548550307750702,
          0.5606415867805481,
          0.35618728399276733,
          0.4795129597187042,
          0.4959122836589813,
          0.49880555272102356,
          0.7166494727134705,
          0.3584997355937958,
          0.3522210717201233,
          0.5212782025337219,
          0.5004025101661682,
          0.5879343748092651,
          0.4582829475402832,
          0.5471174716949463,
          0.41560569405555725,
          0.4903576672077179,
          0.3749115765094757,
          0.4589459002017975,
          0.32646575570106506,
          0.3043980896472931,
          0.45750561356544495,
          0.49377015233039856,
          0.5326381325721741,
          0.35590726137161255,
          0.2582796514034271,
          0.65144282579422,
          0.33481359481811523,
          0.593580424785614,
          0.5581649541854858,
          0.507504940032959,
          0.649355947971344,
          0.3024946451187134,
          0.5061009526252747,
          0.34201112389564514,
          0.5318224430084229,
          0.47985926270484924,
          0.48610568046569824,
          0.490122526884079,
          0.43083494901657104,
          0.3850678503513336,
          0.45278462767601013,
          0.5813478827476501,
          0.43126407265663147,
          0.3942180573940277,
          0.3068064749240875,
          0.6160052418708801,
          0.4738006889820099,
          0.4339090883731842,
          0.4950677454471588,
          0.5234193205833435,
          0.5706852674484253,
          0.4487621486186981,
          0.5104694962501526,
          0.4667159616947174,
          0.3614591658115387,
          0.6157839298248291,
          0.538791835308075,
          0.34082168340682983,
          0.6508750915527344,
          0.4852448105812073,
          0.5233488082885742,
          0.42573627829551697,
          0.46287381649017334,
          0.5258578658103943,
          0.5323180556297302,
          0.5423397421836853,
          0.33782610297203064,
          0.4358411729335785,
          0.5215193629264832,
          0.35787853598594666,
          0.3346916735172272
         ],
         "yaxis": "y"
        },
        {
         "hovertemplate": "<b>OLS trendline</b><br>predicted = 0.171244 * true + 0.378626<br>R<sup>2</sup>=0.057760<br><br>tag=gru<br>true=%{x}<br>predicted=%{y} <b>(trend)</b><extra></extra>",
         "legendgroup": "gru",
         "marker": {
          "color": "#636efa",
          "symbol": "circle"
         },
         "mode": "lines",
         "name": "gru",
         "showlegend": false,
         "type": "scatter",
         "x": [
          0.09432010352611542,
          0.13443508744239807,
          0.2309449315071106,
          0.23112507164478302,
          0.24896588921546936,
          0.25032883882522583,
          0.27276158332824707,
          0.2967238128185272,
          0.30865561962127686,
          0.321875661611557,
          0.33166277408599854,
          0.3437322676181793,
          0.3530673384666443,
          0.3546750247478485,
          0.3601064682006836,
          0.364506334066391,
          0.3652167022228241,
          0.38559308648109436,
          0.38560497760772705,
          0.3998803496360779,
          0.4054885506629944,
          0.41126665472984314,
          0.4185709059238434,
          0.42934200167655945,
          0.4320594370365143,
          0.43894729018211365,
          0.44270646572113037,
          0.44447219371795654,
          0.4472949802875519,
          0.44856446981430054,
          0.45080435276031494,
          0.451071172952652,
          0.45120373368263245,
          0.4559621810913086,
          0.4664987623691559,
          0.4699792265892029,
          0.47360244393348694,
          0.48604243993759155,
          0.48808175325393677,
          0.4906309247016907,
          0.4961031675338745,
          0.49757149815559387,
          0.4999779164791107,
          0.504727840423584,
          0.5047312378883362,
          0.5061061382293701,
          0.5121068954467773,
          0.5135735273361206,
          0.5175400376319885,
          0.5227692127227783,
          0.5249054431915283,
          0.5331171751022339,
          0.5378773212432861,
          0.5458171367645264,
          0.549346923828125,
          0.5513012409210205,
          0.5520439147949219,
          0.5637072324752808,
          0.5642391443252563,
          0.5747536420822144,
          0.5793353915214539,
          0.5805895924568176,
          0.5902186632156372,
          0.5990319848060608,
          0.6037394404411316,
          0.6063634157180786,
          0.6365626454353333,
          0.6422846913337708,
          0.6552022099494934,
          0.668903112411499,
          0.6813091039657593,
          0.6819226145744324,
          0.7130361199378967,
          0.7275477051734924,
          0.767109215259552,
          1
         ],
         "xaxis": "x",
         "y": [
          0.39477816408449407,
          0.40164760974754105,
          0.4181743303149792,
          0.4182051782118662,
          0.42126030911113144,
          0.4214937058963634,
          0.4253351761997822,
          0.4294385614533439,
          0.43148181039654476,
          0.433745661737105,
          0.43542164489296553,
          0.43748847184652584,
          0.43908704563850476,
          0.4393623520819775,
          0.44029245355600594,
          0.44104590367709406,
          0.4411675498794598,
          0.4446568810671195,
          0.44465891734983237,
          0.4471034875052932,
          0.4480638576328806,
          0.44905332261697445,
          0.4503041309630813,
          0.4521486152375653,
          0.45261395942384264,
          0.45379346215074107,
          0.45443719797167575,
          0.4547395680924075,
          0.4552229530290357,
          0.4554403453466297,
          0.4558239116026038,
          0.45586960292873996,
          0.4558923031430428,
          0.4567071581603746,
          0.45851148326526564,
          0.4591074914773514,
          0.45972794528892247,
          0.4618582185249048,
          0.46220743845842877,
          0.4626439684787993,
          0.463581056597023,
          0.4638324992360713,
          0.4642445836569564,
          0.46505797908317076,
          0.4650585608782316,
          0.46529400415310734,
          0.4663215971275466,
          0.4665727488690644,
          0.46725198949910546,
          0.4681474537531534,
          0.4685132701563071,
          0.4699194790252381,
          0.4707346249401003,
          0.472094269790304,
          0.4726987242377025,
          0.47303338908777515,
          0.47316056744668405,
          0.4751578392696838,
          0.47524892592096013,
          0.4770494693579559,
          0.4778340659286596,
          0.47804884016848,
          0.4796977596470815,
          0.48120698706950105,
          0.4820131100574551,
          0.48246244977609454,
          0.48763388317468426,
          0.48861374854027456,
          0.4908257946030946,
          0.4931719903586226,
          0.49529644054053124,
          0.49540150048019815,
          0.5007294979917336,
          0.5032145182143177,
          0.5099891848688383,
          0.5498703074572859
         ],
         "yaxis": "y"
        }
       ],
       "layout": {
        "font": {
         "color": "black"
        },
        "height": 400,
        "legend": {
         "font": {
          "size": 20
         },
         "title": {
          "text": "tag"
         },
         "tracegroupgap": 0
        },
        "margin": {
         "t": 60
        },
        "template": {
         "data": {
          "bar": [
           {
            "error_x": {
             "color": "#2a3f5f"
            },
            "error_y": {
             "color": "#2a3f5f"
            },
            "marker": {
             "line": {
              "color": "white",
              "width": 0.5
             }
            },
            "type": "bar"
           }
          ],
          "barpolar": [
           {
            "marker": {
             "line": {
              "color": "white",
              "width": 0.5
             }
            },
            "type": "barpolar"
           }
          ],
          "carpet": [
           {
            "aaxis": {
             "endlinecolor": "#2a3f5f",
             "gridcolor": "#C8D4E3",
             "linecolor": "#C8D4E3",
             "minorgridcolor": "#C8D4E3",
             "startlinecolor": "#2a3f5f"
            },
            "baxis": {
             "endlinecolor": "#2a3f5f",
             "gridcolor": "#C8D4E3",
             "linecolor": "#C8D4E3",
             "minorgridcolor": "#C8D4E3",
             "startlinecolor": "#2a3f5f"
            },
            "type": "carpet"
           }
          ],
          "choropleth": [
           {
            "colorbar": {
             "outlinewidth": 0,
             "ticks": ""
            },
            "type": "choropleth"
           }
          ],
          "contour": [
           {
            "colorbar": {
             "outlinewidth": 0,
             "ticks": ""
            },
            "colorscale": [
             [
              0,
              "#0d0887"
             ],
             [
              0.1111111111111111,
              "#46039f"
             ],
             [
              0.2222222222222222,
              "#7201a8"
             ],
             [
              0.3333333333333333,
              "#9c179e"
             ],
             [
              0.4444444444444444,
              "#bd3786"
             ],
             [
              0.5555555555555556,
              "#d8576b"
             ],
             [
              0.6666666666666666,
              "#ed7953"
             ],
             [
              0.7777777777777778,
              "#fb9f3a"
             ],
             [
              0.8888888888888888,
              "#fdca26"
             ],
             [
              1,
              "#f0f921"
             ]
            ],
            "type": "contour"
           }
          ],
          "contourcarpet": [
           {
            "colorbar": {
             "outlinewidth": 0,
             "ticks": ""
            },
            "type": "contourcarpet"
           }
          ],
          "heatmap": [
           {
            "colorbar": {
             "outlinewidth": 0,
             "ticks": ""
            },
            "colorscale": [
             [
              0,
              "#0d0887"
             ],
             [
              0.1111111111111111,
              "#46039f"
             ],
             [
              0.2222222222222222,
              "#7201a8"
             ],
             [
              0.3333333333333333,
              "#9c179e"
             ],
             [
              0.4444444444444444,
              "#bd3786"
             ],
             [
              0.5555555555555556,
              "#d8576b"
             ],
             [
              0.6666666666666666,
              "#ed7953"
             ],
             [
              0.7777777777777778,
              "#fb9f3a"
             ],
             [
              0.8888888888888888,
              "#fdca26"
             ],
             [
              1,
              "#f0f921"
             ]
            ],
            "type": "heatmap"
           }
          ],
          "heatmapgl": [
           {
            "colorbar": {
             "outlinewidth": 0,
             "ticks": ""
            },
            "colorscale": [
             [
              0,
              "#0d0887"
             ],
             [
              0.1111111111111111,
              "#46039f"
             ],
             [
              0.2222222222222222,
              "#7201a8"
             ],
             [
              0.3333333333333333,
              "#9c179e"
             ],
             [
              0.4444444444444444,
              "#bd3786"
             ],
             [
              0.5555555555555556,
              "#d8576b"
             ],
             [
              0.6666666666666666,
              "#ed7953"
             ],
             [
              0.7777777777777778,
              "#fb9f3a"
             ],
             [
              0.8888888888888888,
              "#fdca26"
             ],
             [
              1,
              "#f0f921"
             ]
            ],
            "type": "heatmapgl"
           }
          ],
          "histogram": [
           {
            "marker": {
             "colorbar": {
              "outlinewidth": 0,
              "ticks": ""
             }
            },
            "type": "histogram"
           }
          ],
          "histogram2d": [
           {
            "colorbar": {
             "outlinewidth": 0,
             "ticks": ""
            },
            "colorscale": [
             [
              0,
              "#0d0887"
             ],
             [
              0.1111111111111111,
              "#46039f"
             ],
             [
              0.2222222222222222,
              "#7201a8"
             ],
             [
              0.3333333333333333,
              "#9c179e"
             ],
             [
              0.4444444444444444,
              "#bd3786"
             ],
             [
              0.5555555555555556,
              "#d8576b"
             ],
             [
              0.6666666666666666,
              "#ed7953"
             ],
             [
              0.7777777777777778,
              "#fb9f3a"
             ],
             [
              0.8888888888888888,
              "#fdca26"
             ],
             [
              1,
              "#f0f921"
             ]
            ],
            "type": "histogram2d"
           }
          ],
          "histogram2dcontour": [
           {
            "colorbar": {
             "outlinewidth": 0,
             "ticks": ""
            },
            "colorscale": [
             [
              0,
              "#0d0887"
             ],
             [
              0.1111111111111111,
              "#46039f"
             ],
             [
              0.2222222222222222,
              "#7201a8"
             ],
             [
              0.3333333333333333,
              "#9c179e"
             ],
             [
              0.4444444444444444,
              "#bd3786"
             ],
             [
              0.5555555555555556,
              "#d8576b"
             ],
             [
              0.6666666666666666,
              "#ed7953"
             ],
             [
              0.7777777777777778,
              "#fb9f3a"
             ],
             [
              0.8888888888888888,
              "#fdca26"
             ],
             [
              1,
              "#f0f921"
             ]
            ],
            "type": "histogram2dcontour"
           }
          ],
          "mesh3d": [
           {
            "colorbar": {
             "outlinewidth": 0,
             "ticks": ""
            },
            "type": "mesh3d"
           }
          ],
          "parcoords": [
           {
            "line": {
             "colorbar": {
              "outlinewidth": 0,
              "ticks": ""
             }
            },
            "type": "parcoords"
           }
          ],
          "pie": [
           {
            "automargin": true,
            "type": "pie"
           }
          ],
          "scatter": [
           {
            "marker": {
             "colorbar": {
              "outlinewidth": 0,
              "ticks": ""
             }
            },
            "type": "scatter"
           }
          ],
          "scatter3d": [
           {
            "line": {
             "colorbar": {
              "outlinewidth": 0,
              "ticks": ""
             }
            },
            "marker": {
             "colorbar": {
              "outlinewidth": 0,
              "ticks": ""
             }
            },
            "type": "scatter3d"
           }
          ],
          "scattercarpet": [
           {
            "marker": {
             "colorbar": {
              "outlinewidth": 0,
              "ticks": ""
             }
            },
            "type": "scattercarpet"
           }
          ],
          "scattergeo": [
           {
            "marker": {
             "colorbar": {
              "outlinewidth": 0,
              "ticks": ""
             }
            },
            "type": "scattergeo"
           }
          ],
          "scattergl": [
           {
            "marker": {
             "colorbar": {
              "outlinewidth": 0,
              "ticks": ""
             }
            },
            "type": "scattergl"
           }
          ],
          "scattermapbox": [
           {
            "marker": {
             "colorbar": {
              "outlinewidth": 0,
              "ticks": ""
             }
            },
            "type": "scattermapbox"
           }
          ],
          "scatterpolar": [
           {
            "marker": {
             "colorbar": {
              "outlinewidth": 0,
              "ticks": ""
             }
            },
            "type": "scatterpolar"
           }
          ],
          "scatterpolargl": [
           {
            "marker": {
             "colorbar": {
              "outlinewidth": 0,
              "ticks": ""
             }
            },
            "type": "scatterpolargl"
           }
          ],
          "scatterternary": [
           {
            "marker": {
             "colorbar": {
              "outlinewidth": 0,
              "ticks": ""
             }
            },
            "type": "scatterternary"
           }
          ],
          "surface": [
           {
            "colorbar": {
             "outlinewidth": 0,
             "ticks": ""
            },
            "colorscale": [
             [
              0,
              "#0d0887"
             ],
             [
              0.1111111111111111,
              "#46039f"
             ],
             [
              0.2222222222222222,
              "#7201a8"
             ],
             [
              0.3333333333333333,
              "#9c179e"
             ],
             [
              0.4444444444444444,
              "#bd3786"
             ],
             [
              0.5555555555555556,
              "#d8576b"
             ],
             [
              0.6666666666666666,
              "#ed7953"
             ],
             [
              0.7777777777777778,
              "#fb9f3a"
             ],
             [
              0.8888888888888888,
              "#fdca26"
             ],
             [
              1,
              "#f0f921"
             ]
            ],
            "type": "surface"
           }
          ],
          "table": [
           {
            "cells": {
             "fill": {
              "color": "#EBF0F8"
             },
             "line": {
              "color": "white"
             }
            },
            "header": {
             "fill": {
              "color": "#C8D4E3"
             },
             "line": {
              "color": "white"
             }
            },
            "type": "table"
           }
          ]
         },
         "layout": {
          "annotationdefaults": {
           "arrowcolor": "#2a3f5f",
           "arrowhead": 0,
           "arrowwidth": 1
          },
          "coloraxis": {
           "colorbar": {
            "outlinewidth": 0,
            "ticks": ""
           }
          },
          "colorscale": {
           "diverging": [
            [
             0,
             "#8e0152"
            ],
            [
             0.1,
             "#c51b7d"
            ],
            [
             0.2,
             "#de77ae"
            ],
            [
             0.3,
             "#f1b6da"
            ],
            [
             0.4,
             "#fde0ef"
            ],
            [
             0.5,
             "#f7f7f7"
            ],
            [
             0.6,
             "#e6f5d0"
            ],
            [
             0.7,
             "#b8e186"
            ],
            [
             0.8,
             "#7fbc41"
            ],
            [
             0.9,
             "#4d9221"
            ],
            [
             1,
             "#276419"
            ]
           ],
           "sequential": [
            [
             0,
             "#0d0887"
            ],
            [
             0.1111111111111111,
             "#46039f"
            ],
            [
             0.2222222222222222,
             "#7201a8"
            ],
            [
             0.3333333333333333,
             "#9c179e"
            ],
            [
             0.4444444444444444,
             "#bd3786"
            ],
            [
             0.5555555555555556,
             "#d8576b"
            ],
            [
             0.6666666666666666,
             "#ed7953"
            ],
            [
             0.7777777777777778,
             "#fb9f3a"
            ],
            [
             0.8888888888888888,
             "#fdca26"
            ],
            [
             1,
             "#f0f921"
            ]
           ],
           "sequentialminus": [
            [
             0,
             "#0d0887"
            ],
            [
             0.1111111111111111,
             "#46039f"
            ],
            [
             0.2222222222222222,
             "#7201a8"
            ],
            [
             0.3333333333333333,
             "#9c179e"
            ],
            [
             0.4444444444444444,
             "#bd3786"
            ],
            [
             0.5555555555555556,
             "#d8576b"
            ],
            [
             0.6666666666666666,
             "#ed7953"
            ],
            [
             0.7777777777777778,
             "#fb9f3a"
            ],
            [
             0.8888888888888888,
             "#fdca26"
            ],
            [
             1,
             "#f0f921"
            ]
           ]
          },
          "colorway": [
           "#636efa",
           "#EF553B",
           "#00cc96",
           "#ab63fa",
           "#FFA15A",
           "#19d3f3",
           "#FF6692",
           "#B6E880",
           "#FF97FF",
           "#FECB52"
          ],
          "font": {
           "color": "#2a3f5f"
          },
          "geo": {
           "bgcolor": "white",
           "lakecolor": "white",
           "landcolor": "white",
           "showlakes": true,
           "showland": true,
           "subunitcolor": "#C8D4E3"
          },
          "hoverlabel": {
           "align": "left"
          },
          "hovermode": "closest",
          "mapbox": {
           "style": "light"
          },
          "paper_bgcolor": "white",
          "plot_bgcolor": "white",
          "polar": {
           "angularaxis": {
            "gridcolor": "#EBF0F8",
            "linecolor": "#EBF0F8",
            "ticks": ""
           },
           "bgcolor": "white",
           "radialaxis": {
            "gridcolor": "#EBF0F8",
            "linecolor": "#EBF0F8",
            "ticks": ""
           }
          },
          "scene": {
           "xaxis": {
            "backgroundcolor": "white",
            "gridcolor": "#DFE8F3",
            "gridwidth": 2,
            "linecolor": "#EBF0F8",
            "showbackground": true,
            "ticks": "",
            "zerolinecolor": "#EBF0F8"
           },
           "yaxis": {
            "backgroundcolor": "white",
            "gridcolor": "#DFE8F3",
            "gridwidth": 2,
            "linecolor": "#EBF0F8",
            "showbackground": true,
            "ticks": "",
            "zerolinecolor": "#EBF0F8"
           },
           "zaxis": {
            "backgroundcolor": "white",
            "gridcolor": "#DFE8F3",
            "gridwidth": 2,
            "linecolor": "#EBF0F8",
            "showbackground": true,
            "ticks": "",
            "zerolinecolor": "#EBF0F8"
           }
          },
          "shapedefaults": {
           "line": {
            "color": "#2a3f5f"
           }
          },
          "ternary": {
           "aaxis": {
            "gridcolor": "#DFE8F3",
            "linecolor": "#A2B1C6",
            "ticks": ""
           },
           "baxis": {
            "gridcolor": "#DFE8F3",
            "linecolor": "#A2B1C6",
            "ticks": ""
           },
           "bgcolor": "white",
           "caxis": {
            "gridcolor": "#DFE8F3",
            "linecolor": "#A2B1C6",
            "ticks": ""
           }
          },
          "title": {
           "x": 0.05
          },
          "xaxis": {
           "automargin": true,
           "gridcolor": "#EBF0F8",
           "linecolor": "#EBF0F8",
           "ticks": "",
           "title": {
            "standoff": 15
           },
           "zerolinecolor": "#EBF0F8",
           "zerolinewidth": 2
          },
          "yaxis": {
           "automargin": true,
           "gridcolor": "#EBF0F8",
           "linecolor": "#EBF0F8",
           "ticks": "",
           "title": {
            "standoff": 15
           },
           "zerolinecolor": "#EBF0F8",
           "zerolinewidth": 2
          }
         }
        },
        "title": {
         "text": "Verbal IQ"
        },
        "width": 480,
        "xaxis": {
         "anchor": "y",
         "domain": [
          0,
          1
         ],
         "dtick": 0.2,
         "tickfont": {
          "size": 20
         },
         "title": {
          "font": {
           "size": 20
          },
          "text": "True"
         }
        },
        "yaxis": {
         "anchor": "x",
         "domain": [
          0,
          1
         ],
         "dtick": 0.2,
         "tickfont": {
          "size": 20
         },
         "title": {
          "font": {
           "size": 20
          },
          "text": "Predicted"
         }
        }
       }
      },
      "text/html": [
       "<div>\n",
       "        \n",
       "        \n",
       "            <div id=\"b524173b-bcd9-4b4a-8347-67a945ae0724\" class=\"plotly-graph-div\" style=\"height:400px; width:480px;\"></div>\n",
       "            <script type=\"text/javascript\">\n",
       "                require([\"plotly\"], function(Plotly) {\n",
       "                    window.PLOTLYENV=window.PLOTLYENV || {};\n",
       "                    \n",
       "                if (document.getElementById(\"b524173b-bcd9-4b4a-8347-67a945ae0724\")) {\n",
       "                    Plotly.newPlot(\n",
       "                        'b524173b-bcd9-4b4a-8347-67a945ae0724',\n",
       "                        [{\"hovertemplate\": \"tag=gru<br>true=%{x}<br>predicted=%{y}<extra></extra>\", \"legendgroup\": \"gru\", \"marker\": {\"color\": \"#636efa\", \"symbol\": \"circle\"}, \"mode\": \"markers\", \"name\": \"gru\", \"showlegend\": true, \"type\": \"scatter\", \"x\": [0.5227692127227783, 0.43894729018211365, 0.4961031675338745, 0.3437322676181793, 0.41126665472984314, 0.45080435276031494, 0.7275477051734924, 0.5902186632156372, 0.30865561962127686, 0.5047312378883362, 0.3601064682006836, 0.5378773212432861, 0.5121068954467773, 0.48808175325393677, 0.4699792265892029, 0.42934200167655945, 0.3998803496360779, 1.0, 0.5513012409210205, 0.47360244393348694, 0.5747536420822144, 0.5793353915214539, 0.27276158332824707, 0.45120373368263245, 0.24896588921546936, 0.4185709059238434, 0.44447219371795654, 0.44270646572113037, 0.38559308648109436, 0.5175400376319885, 0.504727840423584, 0.25032883882522583, 0.48604243993759155, 0.49757149815559387, 0.3530673384666443, 0.6037394404411316, 0.23112507164478302, 0.6813091039657593, 0.09432010352611542, 0.6552022099494934, 0.2967238128185272, 0.5637072324752808, 0.6422846913337708, 0.767109215259552, 0.6365626454353333, 0.5135735273361206, 0.668903112411499, 0.3652167022228241, 0.451071172952652, 0.364506334066391, 0.4054885506629944, 0.5458171367645264, 0.44856446981430054, 0.6063634157180786, 0.321875661611557, 0.5331171751022339, 0.38560497760772705, 0.5805895924568176, 0.4559621810913086, 0.549346923828125, 0.7130361199378967, 0.5990319848060608, 0.4999779164791107, 0.4472949802875519, 0.5520439147949219, 0.4320594370365143, 0.4664987623691559, 0.5249054431915283, 0.33166277408599854, 0.5642391443252563, 0.5061061382293701, 0.3546750247478485, 0.4906309247016907, 0.13443508744239807, 0.6819226145744324, 0.2309449315071106], \"xaxis\": \"x\", \"y\": [0.1719294935464859, 0.29890313744544983, 0.4956631362438202, 0.3265174329280853, 0.5011499524116516, 0.3548550307750702, 0.5606415867805481, 0.35618728399276733, 0.4795129597187042, 0.4959122836589813, 0.49880555272102356, 0.7166494727134705, 0.3584997355937958, 0.3522210717201233, 0.5212782025337219, 0.5004025101661682, 0.5879343748092651, 0.4582829475402832, 0.5471174716949463, 0.41560569405555725, 0.4903576672077179, 0.3749115765094757, 0.4589459002017975, 0.32646575570106506, 0.3043980896472931, 0.45750561356544495, 0.49377015233039856, 0.5326381325721741, 0.35590726137161255, 0.2582796514034271, 0.65144282579422, 0.33481359481811523, 0.593580424785614, 0.5581649541854858, 0.507504940032959, 0.649355947971344, 0.3024946451187134, 0.5061009526252747, 0.34201112389564514, 0.5318224430084229, 0.47985926270484924, 0.48610568046569824, 0.490122526884079, 0.43083494901657104, 0.3850678503513336, 0.45278462767601013, 0.5813478827476501, 0.43126407265663147, 0.3942180573940277, 0.3068064749240875, 0.6160052418708801, 0.4738006889820099, 0.4339090883731842, 0.4950677454471588, 0.5234193205833435, 0.5706852674484253, 0.4487621486186981, 0.5104694962501526, 0.4667159616947174, 0.3614591658115387, 0.6157839298248291, 0.538791835308075, 0.34082168340682983, 0.6508750915527344, 0.4852448105812073, 0.5233488082885742, 0.42573627829551697, 0.46287381649017334, 0.5258578658103943, 0.5323180556297302, 0.5423397421836853, 0.33782610297203064, 0.4358411729335785, 0.5215193629264832, 0.35787853598594666, 0.3346916735172272], \"yaxis\": \"y\"}, {\"hovertemplate\": \"<b>OLS trendline</b><br>predicted = 0.171244 * true + 0.378626<br>R<sup>2</sup>=0.057760<br><br>tag=gru<br>true=%{x}<br>predicted=%{y} <b>(trend)</b><extra></extra>\", \"legendgroup\": \"gru\", \"marker\": {\"color\": \"#636efa\", \"symbol\": \"circle\"}, \"mode\": \"lines\", \"name\": \"gru\", \"showlegend\": false, \"type\": \"scatter\", \"x\": [0.09432010352611542, 0.13443508744239807, 0.2309449315071106, 0.23112507164478302, 0.24896588921546936, 0.25032883882522583, 0.27276158332824707, 0.2967238128185272, 0.30865561962127686, 0.321875661611557, 0.33166277408599854, 0.3437322676181793, 0.3530673384666443, 0.3546750247478485, 0.3601064682006836, 0.364506334066391, 0.3652167022228241, 0.38559308648109436, 0.38560497760772705, 0.3998803496360779, 0.4054885506629944, 0.41126665472984314, 0.4185709059238434, 0.42934200167655945, 0.4320594370365143, 0.43894729018211365, 0.44270646572113037, 0.44447219371795654, 0.4472949802875519, 0.44856446981430054, 0.45080435276031494, 0.451071172952652, 0.45120373368263245, 0.4559621810913086, 0.4664987623691559, 0.4699792265892029, 0.47360244393348694, 0.48604243993759155, 0.48808175325393677, 0.4906309247016907, 0.4961031675338745, 0.49757149815559387, 0.4999779164791107, 0.504727840423584, 0.5047312378883362, 0.5061061382293701, 0.5121068954467773, 0.5135735273361206, 0.5175400376319885, 0.5227692127227783, 0.5249054431915283, 0.5331171751022339, 0.5378773212432861, 0.5458171367645264, 0.549346923828125, 0.5513012409210205, 0.5520439147949219, 0.5637072324752808, 0.5642391443252563, 0.5747536420822144, 0.5793353915214539, 0.5805895924568176, 0.5902186632156372, 0.5990319848060608, 0.6037394404411316, 0.6063634157180786, 0.6365626454353333, 0.6422846913337708, 0.6552022099494934, 0.668903112411499, 0.6813091039657593, 0.6819226145744324, 0.7130361199378967, 0.7275477051734924, 0.767109215259552, 1.0], \"xaxis\": \"x\", \"y\": [0.39477816408449407, 0.40164760974754105, 0.4181743303149792, 0.4182051782118662, 0.42126030911113144, 0.4214937058963634, 0.4253351761997822, 0.4294385614533439, 0.43148181039654476, 0.433745661737105, 0.43542164489296553, 0.43748847184652584, 0.43908704563850476, 0.4393623520819775, 0.44029245355600594, 0.44104590367709406, 0.4411675498794598, 0.4446568810671195, 0.44465891734983237, 0.4471034875052932, 0.4480638576328806, 0.44905332261697445, 0.4503041309630813, 0.4521486152375653, 0.45261395942384264, 0.45379346215074107, 0.45443719797167575, 0.4547395680924075, 0.4552229530290357, 0.4554403453466297, 0.4558239116026038, 0.45586960292873996, 0.4558923031430428, 0.4567071581603746, 0.45851148326526564, 0.4591074914773514, 0.45972794528892247, 0.4618582185249048, 0.46220743845842877, 0.4626439684787993, 0.463581056597023, 0.4638324992360713, 0.4642445836569564, 0.46505797908317076, 0.4650585608782316, 0.46529400415310734, 0.4663215971275466, 0.4665727488690644, 0.46725198949910546, 0.4681474537531534, 0.4685132701563071, 0.4699194790252381, 0.4707346249401003, 0.472094269790304, 0.4726987242377025, 0.47303338908777515, 0.47316056744668405, 0.4751578392696838, 0.47524892592096013, 0.4770494693579559, 0.4778340659286596, 0.47804884016848, 0.4796977596470815, 0.48120698706950105, 0.4820131100574551, 0.48246244977609454, 0.48763388317468426, 0.48861374854027456, 0.4908257946030946, 0.4931719903586226, 0.49529644054053124, 0.49540150048019815, 0.5007294979917336, 0.5032145182143177, 0.5099891848688383, 0.5498703074572859], \"yaxis\": \"y\"}],\n",
       "                        {\"font\": {\"color\": \"black\"}, \"height\": 400, \"legend\": {\"font\": {\"size\": 20}, \"title\": {\"text\": \"tag\"}, \"tracegroupgap\": 0}, \"margin\": {\"t\": 60}, \"template\": {\"data\": {\"bar\": [{\"error_x\": {\"color\": \"#2a3f5f\"}, \"error_y\": {\"color\": \"#2a3f5f\"}, \"marker\": {\"line\": {\"color\": \"white\", \"width\": 0.5}}, \"type\": \"bar\"}], \"barpolar\": [{\"marker\": {\"line\": {\"color\": \"white\", \"width\": 0.5}}, \"type\": \"barpolar\"}], \"carpet\": [{\"aaxis\": {\"endlinecolor\": \"#2a3f5f\", \"gridcolor\": \"#C8D4E3\", \"linecolor\": \"#C8D4E3\", \"minorgridcolor\": \"#C8D4E3\", \"startlinecolor\": \"#2a3f5f\"}, \"baxis\": {\"endlinecolor\": \"#2a3f5f\", \"gridcolor\": \"#C8D4E3\", \"linecolor\": \"#C8D4E3\", \"minorgridcolor\": \"#C8D4E3\", \"startlinecolor\": \"#2a3f5f\"}, \"type\": \"carpet\"}], \"choropleth\": [{\"colorbar\": {\"outlinewidth\": 0, \"ticks\": \"\"}, \"type\": \"choropleth\"}], \"contour\": [{\"colorbar\": {\"outlinewidth\": 0, \"ticks\": \"\"}, \"colorscale\": [[0.0, \"#0d0887\"], [0.1111111111111111, \"#46039f\"], [0.2222222222222222, \"#7201a8\"], [0.3333333333333333, \"#9c179e\"], [0.4444444444444444, \"#bd3786\"], [0.5555555555555556, \"#d8576b\"], [0.6666666666666666, \"#ed7953\"], [0.7777777777777778, \"#fb9f3a\"], [0.8888888888888888, \"#fdca26\"], [1.0, \"#f0f921\"]], \"type\": \"contour\"}], \"contourcarpet\": [{\"colorbar\": {\"outlinewidth\": 0, \"ticks\": \"\"}, \"type\": \"contourcarpet\"}], \"heatmap\": [{\"colorbar\": {\"outlinewidth\": 0, \"ticks\": \"\"}, \"colorscale\": [[0.0, \"#0d0887\"], [0.1111111111111111, \"#46039f\"], [0.2222222222222222, \"#7201a8\"], [0.3333333333333333, \"#9c179e\"], [0.4444444444444444, \"#bd3786\"], [0.5555555555555556, \"#d8576b\"], [0.6666666666666666, \"#ed7953\"], [0.7777777777777778, \"#fb9f3a\"], [0.8888888888888888, \"#fdca26\"], [1.0, \"#f0f921\"]], \"type\": \"heatmap\"}], \"heatmapgl\": [{\"colorbar\": {\"outlinewidth\": 0, \"ticks\": \"\"}, \"colorscale\": [[0.0, \"#0d0887\"], [0.1111111111111111, \"#46039f\"], [0.2222222222222222, \"#7201a8\"], [0.3333333333333333, \"#9c179e\"], [0.4444444444444444, \"#bd3786\"], [0.5555555555555556, \"#d8576b\"], [0.6666666666666666, \"#ed7953\"], [0.7777777777777778, \"#fb9f3a\"], [0.8888888888888888, \"#fdca26\"], [1.0, \"#f0f921\"]], \"type\": \"heatmapgl\"}], \"histogram\": [{\"marker\": {\"colorbar\": {\"outlinewidth\": 0, \"ticks\": \"\"}}, \"type\": \"histogram\"}], \"histogram2d\": [{\"colorbar\": {\"outlinewidth\": 0, \"ticks\": \"\"}, \"colorscale\": [[0.0, \"#0d0887\"], [0.1111111111111111, \"#46039f\"], [0.2222222222222222, \"#7201a8\"], [0.3333333333333333, \"#9c179e\"], [0.4444444444444444, \"#bd3786\"], [0.5555555555555556, \"#d8576b\"], [0.6666666666666666, \"#ed7953\"], [0.7777777777777778, \"#fb9f3a\"], [0.8888888888888888, \"#fdca26\"], [1.0, \"#f0f921\"]], \"type\": \"histogram2d\"}], \"histogram2dcontour\": [{\"colorbar\": {\"outlinewidth\": 0, \"ticks\": \"\"}, \"colorscale\": [[0.0, \"#0d0887\"], [0.1111111111111111, \"#46039f\"], [0.2222222222222222, \"#7201a8\"], [0.3333333333333333, \"#9c179e\"], [0.4444444444444444, \"#bd3786\"], [0.5555555555555556, \"#d8576b\"], [0.6666666666666666, \"#ed7953\"], [0.7777777777777778, \"#fb9f3a\"], [0.8888888888888888, \"#fdca26\"], [1.0, \"#f0f921\"]], \"type\": \"histogram2dcontour\"}], \"mesh3d\": [{\"colorbar\": {\"outlinewidth\": 0, \"ticks\": \"\"}, \"type\": \"mesh3d\"}], \"parcoords\": [{\"line\": {\"colorbar\": {\"outlinewidth\": 0, \"ticks\": \"\"}}, \"type\": \"parcoords\"}], \"pie\": [{\"automargin\": true, \"type\": \"pie\"}], \"scatter\": [{\"marker\": {\"colorbar\": {\"outlinewidth\": 0, \"ticks\": \"\"}}, \"type\": \"scatter\"}], \"scatter3d\": [{\"line\": {\"colorbar\": {\"outlinewidth\": 0, \"ticks\": \"\"}}, \"marker\": {\"colorbar\": {\"outlinewidth\": 0, \"ticks\": \"\"}}, \"type\": \"scatter3d\"}], \"scattercarpet\": [{\"marker\": {\"colorbar\": {\"outlinewidth\": 0, \"ticks\": \"\"}}, \"type\": \"scattercarpet\"}], \"scattergeo\": [{\"marker\": {\"colorbar\": {\"outlinewidth\": 0, \"ticks\": \"\"}}, \"type\": \"scattergeo\"}], \"scattergl\": [{\"marker\": {\"colorbar\": {\"outlinewidth\": 0, \"ticks\": \"\"}}, \"type\": \"scattergl\"}], \"scattermapbox\": [{\"marker\": {\"colorbar\": {\"outlinewidth\": 0, \"ticks\": \"\"}}, \"type\": \"scattermapbox\"}], \"scatterpolar\": [{\"marker\": {\"colorbar\": {\"outlinewidth\": 0, \"ticks\": \"\"}}, \"type\": \"scatterpolar\"}], \"scatterpolargl\": [{\"marker\": {\"colorbar\": {\"outlinewidth\": 0, \"ticks\": \"\"}}, \"type\": \"scatterpolargl\"}], \"scatterternary\": [{\"marker\": {\"colorbar\": {\"outlinewidth\": 0, \"ticks\": \"\"}}, \"type\": \"scatterternary\"}], \"surface\": [{\"colorbar\": {\"outlinewidth\": 0, \"ticks\": \"\"}, \"colorscale\": [[0.0, \"#0d0887\"], [0.1111111111111111, \"#46039f\"], [0.2222222222222222, \"#7201a8\"], [0.3333333333333333, \"#9c179e\"], [0.4444444444444444, \"#bd3786\"], [0.5555555555555556, \"#d8576b\"], [0.6666666666666666, \"#ed7953\"], [0.7777777777777778, \"#fb9f3a\"], [0.8888888888888888, \"#fdca26\"], [1.0, \"#f0f921\"]], \"type\": \"surface\"}], \"table\": [{\"cells\": {\"fill\": {\"color\": \"#EBF0F8\"}, \"line\": {\"color\": \"white\"}}, \"header\": {\"fill\": {\"color\": \"#C8D4E3\"}, \"line\": {\"color\": \"white\"}}, \"type\": \"table\"}]}, \"layout\": {\"annotationdefaults\": {\"arrowcolor\": \"#2a3f5f\", \"arrowhead\": 0, \"arrowwidth\": 1}, \"coloraxis\": {\"colorbar\": {\"outlinewidth\": 0, \"ticks\": \"\"}}, \"colorscale\": {\"diverging\": [[0, \"#8e0152\"], [0.1, \"#c51b7d\"], [0.2, \"#de77ae\"], [0.3, \"#f1b6da\"], [0.4, \"#fde0ef\"], [0.5, \"#f7f7f7\"], [0.6, \"#e6f5d0\"], [0.7, \"#b8e186\"], [0.8, \"#7fbc41\"], [0.9, \"#4d9221\"], [1, \"#276419\"]], \"sequential\": [[0.0, \"#0d0887\"], [0.1111111111111111, \"#46039f\"], [0.2222222222222222, \"#7201a8\"], [0.3333333333333333, \"#9c179e\"], [0.4444444444444444, \"#bd3786\"], [0.5555555555555556, \"#d8576b\"], [0.6666666666666666, \"#ed7953\"], [0.7777777777777778, \"#fb9f3a\"], [0.8888888888888888, \"#fdca26\"], [1.0, \"#f0f921\"]], \"sequentialminus\": [[0.0, \"#0d0887\"], [0.1111111111111111, \"#46039f\"], [0.2222222222222222, \"#7201a8\"], [0.3333333333333333, \"#9c179e\"], [0.4444444444444444, \"#bd3786\"], [0.5555555555555556, \"#d8576b\"], [0.6666666666666666, \"#ed7953\"], [0.7777777777777778, \"#fb9f3a\"], [0.8888888888888888, \"#fdca26\"], [1.0, \"#f0f921\"]]}, \"colorway\": [\"#636efa\", \"#EF553B\", \"#00cc96\", \"#ab63fa\", \"#FFA15A\", \"#19d3f3\", \"#FF6692\", \"#B6E880\", \"#FF97FF\", \"#FECB52\"], \"font\": {\"color\": \"#2a3f5f\"}, \"geo\": {\"bgcolor\": \"white\", \"lakecolor\": \"white\", \"landcolor\": \"white\", \"showlakes\": true, \"showland\": true, \"subunitcolor\": \"#C8D4E3\"}, \"hoverlabel\": {\"align\": \"left\"}, \"hovermode\": \"closest\", \"mapbox\": {\"style\": \"light\"}, \"paper_bgcolor\": \"white\", \"plot_bgcolor\": \"white\", \"polar\": {\"angularaxis\": {\"gridcolor\": \"#EBF0F8\", \"linecolor\": \"#EBF0F8\", \"ticks\": \"\"}, \"bgcolor\": \"white\", \"radialaxis\": {\"gridcolor\": \"#EBF0F8\", \"linecolor\": \"#EBF0F8\", \"ticks\": \"\"}}, \"scene\": {\"xaxis\": {\"backgroundcolor\": \"white\", \"gridcolor\": \"#DFE8F3\", \"gridwidth\": 2, \"linecolor\": \"#EBF0F8\", \"showbackground\": true, \"ticks\": \"\", \"zerolinecolor\": \"#EBF0F8\"}, \"yaxis\": {\"backgroundcolor\": \"white\", \"gridcolor\": \"#DFE8F3\", \"gridwidth\": 2, \"linecolor\": \"#EBF0F8\", \"showbackground\": true, \"ticks\": \"\", \"zerolinecolor\": \"#EBF0F8\"}, \"zaxis\": {\"backgroundcolor\": \"white\", \"gridcolor\": \"#DFE8F3\", \"gridwidth\": 2, \"linecolor\": \"#EBF0F8\", \"showbackground\": true, \"ticks\": \"\", \"zerolinecolor\": \"#EBF0F8\"}}, \"shapedefaults\": {\"line\": {\"color\": \"#2a3f5f\"}}, \"ternary\": {\"aaxis\": {\"gridcolor\": \"#DFE8F3\", \"linecolor\": \"#A2B1C6\", \"ticks\": \"\"}, \"baxis\": {\"gridcolor\": \"#DFE8F3\", \"linecolor\": \"#A2B1C6\", \"ticks\": \"\"}, \"bgcolor\": \"white\", \"caxis\": {\"gridcolor\": \"#DFE8F3\", \"linecolor\": \"#A2B1C6\", \"ticks\": \"\"}}, \"title\": {\"x\": 0.05}, \"xaxis\": {\"automargin\": true, \"gridcolor\": \"#EBF0F8\", \"linecolor\": \"#EBF0F8\", \"ticks\": \"\", \"title\": {\"standoff\": 15}, \"zerolinecolor\": \"#EBF0F8\", \"zerolinewidth\": 2}, \"yaxis\": {\"automargin\": true, \"gridcolor\": \"#EBF0F8\", \"linecolor\": \"#EBF0F8\", \"ticks\": \"\", \"title\": {\"standoff\": 15}, \"zerolinecolor\": \"#EBF0F8\", \"zerolinewidth\": 2}}}, \"title\": {\"text\": \"Verbal IQ\"}, \"width\": 480, \"xaxis\": {\"anchor\": \"y\", \"domain\": [0.0, 1.0], \"dtick\": 0.2, \"tickfont\": {\"size\": 20}, \"title\": {\"font\": {\"size\": 20}, \"text\": \"True\"}}, \"yaxis\": {\"anchor\": \"x\", \"domain\": [0.0, 1.0], \"dtick\": 0.2, \"tickfont\": {\"size\": 20}, \"title\": {\"font\": {\"size\": 20}, \"text\": \"Predicted\"}}},\n",
       "                        {\"responsive\": true}\n",
       "                    ).then(function(){\n",
       "                            \n",
       "var gd = document.getElementById('b524173b-bcd9-4b4a-8347-67a945ae0724');\n",
       "var x = new MutationObserver(function (mutations, observer) {{\n",
       "        var display = window.getComputedStyle(gd).display;\n",
       "        if (!display || display === 'none') {{\n",
       "            console.log([gd, 'removed!']);\n",
       "            Plotly.purge(gd);\n",
       "            observer.disconnect();\n",
       "        }}\n",
       "}});\n",
       "\n",
       "// Listen for the removal of the full notebook cells\n",
       "var notebookContainer = gd.closest('#notebook-container');\n",
       "if (notebookContainer) {{\n",
       "    x.observe(notebookContainer, {childList: true});\n",
       "}}\n",
       "\n",
       "// Listen for the clearing of the current output cell\n",
       "var outputEl = gd.closest('.output');\n",
       "if (outputEl) {{\n",
       "    x.observe(outputEl, {childList: true});\n",
       "}}\n",
       "\n",
       "                        })\n",
       "                };\n",
       "                });\n",
       "            </script>\n",
       "        </div>"
      ]
     },
     "metadata": {},
     "output_type": "display_data"
    },
    {
     "data": {
      "application/vnd.plotly.v1+json": {
       "config": {
        "plotlyServerURL": "https://plot.ly"
       },
       "data": [
        {
         "hovertemplate": "tag=gru<br>true=%{x}<br>predicted=%{y}<extra></extra>",
         "legendgroup": "gru",
         "marker": {
          "color": "#636efa",
          "symbol": "circle"
         },
         "mode": "markers",
         "name": "gru",
         "showlegend": true,
         "type": "scatter",
         "x": [
          0.4166666567325592,
          0.6666666865348816,
          0.2916666567325592,
          0.8333333134651184,
          0.9166666865348816,
          0.625,
          0.875,
          0.625,
          0.4583333432674408,
          0.4166666567325592,
          0.3333333432674408,
          0.5416666865348816,
          0.3333333432674408,
          0.5,
          0.8333333134651184,
          0.5416666865348816,
          0.75,
          0.4166666567325592,
          0.7083333134651184,
          0.625,
          0.6666666865348816,
          0.5416666865348816,
          0.2916666567325592,
          0.5,
          0.3333333432674408,
          0.2083333283662796,
          0.8333333134651184,
          0.7083333134651184,
          0.4166666567325592,
          0.7916666865348816,
          0.4166666567325592,
          0.5416666865348816,
          0.75,
          0.625,
          0.5,
          0.375,
          0.5416666865348816,
          0.7916666865348816,
          0.2916666567325592,
          0.5,
          0.2916666567325592,
          1,
          0.875,
          0.2916666567325592,
          0.5416666865348816,
          0.7083333134651184,
          0.625,
          0.375,
          0.8333333134651184,
          0.1666666716337204,
          0.5833333134651184,
          0.375,
          0.5416666865348816,
          0.7083333134651184,
          0.5,
          0.5416666865348816,
          0.9166666865348816,
          0.7083333134651184,
          0.625,
          0.2083333283662796,
          0.3333333432674408,
          0.5833333134651184,
          0.4583333432674408,
          0.8333333134651184,
          0.5416666865348816,
          0.4166666567325592,
          0.4583333432674408,
          0.2916666567325592,
          0.625,
          0.5,
          0.625,
          0.7083333134651184,
          0.5,
          0.4583333432674408,
          0.4166666567325592,
          0.2083333283662796
         ],
         "xaxis": "x",
         "y": [
          0.5488294959068298,
          0.5228793025016785,
          0.6418688893318176,
          0.5422468185424805,
          0.3534942865371704,
          0.4670286178588867,
          0.2036767303943634,
          0.6042989492416382,
          0.4519164562225342,
          0.5911201238632202,
          0.5071560144424438,
          0.45245587825775146,
          0.3803024888038635,
          0.4702827036380768,
          0.4881548583507538,
          0.47642049193382263,
          0.7062399387359619,
          0.3541865348815918,
          0.6036201119422913,
          0.6582833528518677,
          0.4974856674671173,
          0.6197346448898315,
          0.41579902172088623,
          0.4524586796760559,
          0.3524225056171417,
          0.4857329726219177,
          0.5054090023040771,
          0.5679046511650085,
          0.5358520150184631,
          0.38133513927459717,
          0.5818207859992981,
          0.4947150647640228,
          0.307919979095459,
          0.660184919834137,
          0.5256948471069336,
          0.4507507085800171,
          0.5695044994354248,
          0.7457832098007202,
          0.6444316506385803,
          0.6063276529312134,
          0.36548739671707153,
          0.45763838291168213,
          0.7048667073249817,
          0.31556248664855957,
          0.5515603423118591,
          0.5540615916252136,
          0.42296165227890015,
          0.7373688220977783,
          0.3799722492694855,
          0.5316871404647827,
          0.42673033475875854,
          0.388253390789032,
          0.4128956198692322,
          0.44218528270721436,
          0.5274213552474976,
          0.6195974946022034,
          0.57454514503479,
          0.5293149352073669,
          0.8183508515357971,
          0.4327428638935089,
          0.6357105374336243,
          0.35268938541412354,
          0.5852143168449402,
          0.6194705367088318,
          0.7167432904243469,
          0.5007725358009338,
          0.44906559586524963,
          0.7061192989349365,
          0.39760881662368774,
          0.3936039209365845,
          0.5663655400276184,
          0.5216848850250244,
          0.3985676169395447,
          0.4381135106086731,
          0.6911265254020691,
          0.32879307866096497
         ],
         "yaxis": "y"
        },
        {
         "hovertemplate": "<b>OLS trendline</b><br>predicted = 0.0272067 * true + 0.497182<br>R<sup>2</sup>=0.001934<br><br>tag=gru<br>true=%{x}<br>predicted=%{y} <b>(trend)</b><extra></extra>",
         "legendgroup": "gru",
         "marker": {
          "color": "#636efa",
          "symbol": "circle"
         },
         "mode": "lines",
         "name": "gru",
         "showlegend": false,
         "type": "scatter",
         "x": [
          0.1666666716337204,
          0.2083333283662796,
          0.2083333283662796,
          0.2083333283662796,
          0.2916666567325592,
          0.2916666567325592,
          0.2916666567325592,
          0.2916666567325592,
          0.2916666567325592,
          0.2916666567325592,
          0.3333333432674408,
          0.3333333432674408,
          0.3333333432674408,
          0.3333333432674408,
          0.375,
          0.375,
          0.375,
          0.4166666567325592,
          0.4166666567325592,
          0.4166666567325592,
          0.4166666567325592,
          0.4166666567325592,
          0.4166666567325592,
          0.4166666567325592,
          0.4583333432674408,
          0.4583333432674408,
          0.4583333432674408,
          0.4583333432674408,
          0.5,
          0.5,
          0.5,
          0.5,
          0.5,
          0.5,
          0.5,
          0.5416666865348816,
          0.5416666865348816,
          0.5416666865348816,
          0.5416666865348816,
          0.5416666865348816,
          0.5416666865348816,
          0.5416666865348816,
          0.5416666865348816,
          0.5416666865348816,
          0.5833333134651184,
          0.5833333134651184,
          0.625,
          0.625,
          0.625,
          0.625,
          0.625,
          0.625,
          0.625,
          0.625,
          0.6666666865348816,
          0.6666666865348816,
          0.7083333134651184,
          0.7083333134651184,
          0.7083333134651184,
          0.7083333134651184,
          0.7083333134651184,
          0.7083333134651184,
          0.75,
          0.75,
          0.7916666865348816,
          0.7916666865348816,
          0.8333333134651184,
          0.8333333134651184,
          0.8333333134651184,
          0.8333333134651184,
          0.8333333134651184,
          0.875,
          0.875,
          0.9166666865348816,
          0.9166666865348816,
          1
         ],
         "xaxis": "x",
         "y": [
          0.5017165041125474,
          0.5028501176118341,
          0.5028501176118341,
          0.5028501176118341,
          0.5051173450158193,
          0.5051173450158193,
          0.5051173450158193,
          0.5051173450158193,
          0.5051173450158193,
          0.5051173450158193,
          0.5062509593259297,
          0.5062509593259297,
          0.5062509593259297,
          0.5062509593259297,
          0.5073845728252164,
          0.5073845728252164,
          0.5073845728252164,
          0.5085181863245031,
          0.5085181863245031,
          0.5085181863245031,
          0.5085181863245031,
          0.5085181863245031,
          0.5085181863245031,
          0.5085181863245031,
          0.5096518006346135,
          0.5096518006346135,
          0.5096518006346135,
          0.5096518006346135,
          0.5107854141339001,
          0.5107854141339001,
          0.5107854141339001,
          0.5107854141339001,
          0.5107854141339001,
          0.5107854141339001,
          0.5107854141339001,
          0.5119190284440105,
          0.5119190284440105,
          0.5119190284440105,
          0.5119190284440105,
          0.5119190284440105,
          0.5119190284440105,
          0.5119190284440105,
          0.5119190284440105,
          0.5119190284440105,
          0.5130526411324734,
          0.5130526411324734,
          0.5141862554425839,
          0.5141862554425839,
          0.5141862554425839,
          0.5141862554425839,
          0.5141862554425839,
          0.5141862554425839,
          0.5141862554425839,
          0.5141862554425839,
          0.5153198697526943,
          0.5153198697526943,
          0.5164534824411572,
          0.5164534824411572,
          0.5164534824411572,
          0.5164534824411572,
          0.5164534824411572,
          0.5164534824411572,
          0.5175870967512676,
          0.5175870967512676,
          0.518720711061378,
          0.518720711061378,
          0.5198543237498409,
          0.5198543237498409,
          0.5198543237498409,
          0.5198543237498409,
          0.5198543237498409,
          0.5209879380599514,
          0.5209879380599514,
          0.5221215523700617,
          0.5221215523700617,
          0.524388779368635
         ],
         "yaxis": "y"
        }
       ],
       "layout": {
        "font": {
         "color": "black"
        },
        "height": 400,
        "legend": {
         "font": {
          "size": 20
         },
         "title": {
          "text": "tag"
         },
         "tracegroupgap": 0
        },
        "margin": {
         "t": 60
        },
        "template": {
         "data": {
          "bar": [
           {
            "error_x": {
             "color": "#2a3f5f"
            },
            "error_y": {
             "color": "#2a3f5f"
            },
            "marker": {
             "line": {
              "color": "white",
              "width": 0.5
             }
            },
            "type": "bar"
           }
          ],
          "barpolar": [
           {
            "marker": {
             "line": {
              "color": "white",
              "width": 0.5
             }
            },
            "type": "barpolar"
           }
          ],
          "carpet": [
           {
            "aaxis": {
             "endlinecolor": "#2a3f5f",
             "gridcolor": "#C8D4E3",
             "linecolor": "#C8D4E3",
             "minorgridcolor": "#C8D4E3",
             "startlinecolor": "#2a3f5f"
            },
            "baxis": {
             "endlinecolor": "#2a3f5f",
             "gridcolor": "#C8D4E3",
             "linecolor": "#C8D4E3",
             "minorgridcolor": "#C8D4E3",
             "startlinecolor": "#2a3f5f"
            },
            "type": "carpet"
           }
          ],
          "choropleth": [
           {
            "colorbar": {
             "outlinewidth": 0,
             "ticks": ""
            },
            "type": "choropleth"
           }
          ],
          "contour": [
           {
            "colorbar": {
             "outlinewidth": 0,
             "ticks": ""
            },
            "colorscale": [
             [
              0,
              "#0d0887"
             ],
             [
              0.1111111111111111,
              "#46039f"
             ],
             [
              0.2222222222222222,
              "#7201a8"
             ],
             [
              0.3333333333333333,
              "#9c179e"
             ],
             [
              0.4444444444444444,
              "#bd3786"
             ],
             [
              0.5555555555555556,
              "#d8576b"
             ],
             [
              0.6666666666666666,
              "#ed7953"
             ],
             [
              0.7777777777777778,
              "#fb9f3a"
             ],
             [
              0.8888888888888888,
              "#fdca26"
             ],
             [
              1,
              "#f0f921"
             ]
            ],
            "type": "contour"
           }
          ],
          "contourcarpet": [
           {
            "colorbar": {
             "outlinewidth": 0,
             "ticks": ""
            },
            "type": "contourcarpet"
           }
          ],
          "heatmap": [
           {
            "colorbar": {
             "outlinewidth": 0,
             "ticks": ""
            },
            "colorscale": [
             [
              0,
              "#0d0887"
             ],
             [
              0.1111111111111111,
              "#46039f"
             ],
             [
              0.2222222222222222,
              "#7201a8"
             ],
             [
              0.3333333333333333,
              "#9c179e"
             ],
             [
              0.4444444444444444,
              "#bd3786"
             ],
             [
              0.5555555555555556,
              "#d8576b"
             ],
             [
              0.6666666666666666,
              "#ed7953"
             ],
             [
              0.7777777777777778,
              "#fb9f3a"
             ],
             [
              0.8888888888888888,
              "#fdca26"
             ],
             [
              1,
              "#f0f921"
             ]
            ],
            "type": "heatmap"
           }
          ],
          "heatmapgl": [
           {
            "colorbar": {
             "outlinewidth": 0,
             "ticks": ""
            },
            "colorscale": [
             [
              0,
              "#0d0887"
             ],
             [
              0.1111111111111111,
              "#46039f"
             ],
             [
              0.2222222222222222,
              "#7201a8"
             ],
             [
              0.3333333333333333,
              "#9c179e"
             ],
             [
              0.4444444444444444,
              "#bd3786"
             ],
             [
              0.5555555555555556,
              "#d8576b"
             ],
             [
              0.6666666666666666,
              "#ed7953"
             ],
             [
              0.7777777777777778,
              "#fb9f3a"
             ],
             [
              0.8888888888888888,
              "#fdca26"
             ],
             [
              1,
              "#f0f921"
             ]
            ],
            "type": "heatmapgl"
           }
          ],
          "histogram": [
           {
            "marker": {
             "colorbar": {
              "outlinewidth": 0,
              "ticks": ""
             }
            },
            "type": "histogram"
           }
          ],
          "histogram2d": [
           {
            "colorbar": {
             "outlinewidth": 0,
             "ticks": ""
            },
            "colorscale": [
             [
              0,
              "#0d0887"
             ],
             [
              0.1111111111111111,
              "#46039f"
             ],
             [
              0.2222222222222222,
              "#7201a8"
             ],
             [
              0.3333333333333333,
              "#9c179e"
             ],
             [
              0.4444444444444444,
              "#bd3786"
             ],
             [
              0.5555555555555556,
              "#d8576b"
             ],
             [
              0.6666666666666666,
              "#ed7953"
             ],
             [
              0.7777777777777778,
              "#fb9f3a"
             ],
             [
              0.8888888888888888,
              "#fdca26"
             ],
             [
              1,
              "#f0f921"
             ]
            ],
            "type": "histogram2d"
           }
          ],
          "histogram2dcontour": [
           {
            "colorbar": {
             "outlinewidth": 0,
             "ticks": ""
            },
            "colorscale": [
             [
              0,
              "#0d0887"
             ],
             [
              0.1111111111111111,
              "#46039f"
             ],
             [
              0.2222222222222222,
              "#7201a8"
             ],
             [
              0.3333333333333333,
              "#9c179e"
             ],
             [
              0.4444444444444444,
              "#bd3786"
             ],
             [
              0.5555555555555556,
              "#d8576b"
             ],
             [
              0.6666666666666666,
              "#ed7953"
             ],
             [
              0.7777777777777778,
              "#fb9f3a"
             ],
             [
              0.8888888888888888,
              "#fdca26"
             ],
             [
              1,
              "#f0f921"
             ]
            ],
            "type": "histogram2dcontour"
           }
          ],
          "mesh3d": [
           {
            "colorbar": {
             "outlinewidth": 0,
             "ticks": ""
            },
            "type": "mesh3d"
           }
          ],
          "parcoords": [
           {
            "line": {
             "colorbar": {
              "outlinewidth": 0,
              "ticks": ""
             }
            },
            "type": "parcoords"
           }
          ],
          "pie": [
           {
            "automargin": true,
            "type": "pie"
           }
          ],
          "scatter": [
           {
            "marker": {
             "colorbar": {
              "outlinewidth": 0,
              "ticks": ""
             }
            },
            "type": "scatter"
           }
          ],
          "scatter3d": [
           {
            "line": {
             "colorbar": {
              "outlinewidth": 0,
              "ticks": ""
             }
            },
            "marker": {
             "colorbar": {
              "outlinewidth": 0,
              "ticks": ""
             }
            },
            "type": "scatter3d"
           }
          ],
          "scattercarpet": [
           {
            "marker": {
             "colorbar": {
              "outlinewidth": 0,
              "ticks": ""
             }
            },
            "type": "scattercarpet"
           }
          ],
          "scattergeo": [
           {
            "marker": {
             "colorbar": {
              "outlinewidth": 0,
              "ticks": ""
             }
            },
            "type": "scattergeo"
           }
          ],
          "scattergl": [
           {
            "marker": {
             "colorbar": {
              "outlinewidth": 0,
              "ticks": ""
             }
            },
            "type": "scattergl"
           }
          ],
          "scattermapbox": [
           {
            "marker": {
             "colorbar": {
              "outlinewidth": 0,
              "ticks": ""
             }
            },
            "type": "scattermapbox"
           }
          ],
          "scatterpolar": [
           {
            "marker": {
             "colorbar": {
              "outlinewidth": 0,
              "ticks": ""
             }
            },
            "type": "scatterpolar"
           }
          ],
          "scatterpolargl": [
           {
            "marker": {
             "colorbar": {
              "outlinewidth": 0,
              "ticks": ""
             }
            },
            "type": "scatterpolargl"
           }
          ],
          "scatterternary": [
           {
            "marker": {
             "colorbar": {
              "outlinewidth": 0,
              "ticks": ""
             }
            },
            "type": "scatterternary"
           }
          ],
          "surface": [
           {
            "colorbar": {
             "outlinewidth": 0,
             "ticks": ""
            },
            "colorscale": [
             [
              0,
              "#0d0887"
             ],
             [
              0.1111111111111111,
              "#46039f"
             ],
             [
              0.2222222222222222,
              "#7201a8"
             ],
             [
              0.3333333333333333,
              "#9c179e"
             ],
             [
              0.4444444444444444,
              "#bd3786"
             ],
             [
              0.5555555555555556,
              "#d8576b"
             ],
             [
              0.6666666666666666,
              "#ed7953"
             ],
             [
              0.7777777777777778,
              "#fb9f3a"
             ],
             [
              0.8888888888888888,
              "#fdca26"
             ],
             [
              1,
              "#f0f921"
             ]
            ],
            "type": "surface"
           }
          ],
          "table": [
           {
            "cells": {
             "fill": {
              "color": "#EBF0F8"
             },
             "line": {
              "color": "white"
             }
            },
            "header": {
             "fill": {
              "color": "#C8D4E3"
             },
             "line": {
              "color": "white"
             }
            },
            "type": "table"
           }
          ]
         },
         "layout": {
          "annotationdefaults": {
           "arrowcolor": "#2a3f5f",
           "arrowhead": 0,
           "arrowwidth": 1
          },
          "coloraxis": {
           "colorbar": {
            "outlinewidth": 0,
            "ticks": ""
           }
          },
          "colorscale": {
           "diverging": [
            [
             0,
             "#8e0152"
            ],
            [
             0.1,
             "#c51b7d"
            ],
            [
             0.2,
             "#de77ae"
            ],
            [
             0.3,
             "#f1b6da"
            ],
            [
             0.4,
             "#fde0ef"
            ],
            [
             0.5,
             "#f7f7f7"
            ],
            [
             0.6,
             "#e6f5d0"
            ],
            [
             0.7,
             "#b8e186"
            ],
            [
             0.8,
             "#7fbc41"
            ],
            [
             0.9,
             "#4d9221"
            ],
            [
             1,
             "#276419"
            ]
           ],
           "sequential": [
            [
             0,
             "#0d0887"
            ],
            [
             0.1111111111111111,
             "#46039f"
            ],
            [
             0.2222222222222222,
             "#7201a8"
            ],
            [
             0.3333333333333333,
             "#9c179e"
            ],
            [
             0.4444444444444444,
             "#bd3786"
            ],
            [
             0.5555555555555556,
             "#d8576b"
            ],
            [
             0.6666666666666666,
             "#ed7953"
            ],
            [
             0.7777777777777778,
             "#fb9f3a"
            ],
            [
             0.8888888888888888,
             "#fdca26"
            ],
            [
             1,
             "#f0f921"
            ]
           ],
           "sequentialminus": [
            [
             0,
             "#0d0887"
            ],
            [
             0.1111111111111111,
             "#46039f"
            ],
            [
             0.2222222222222222,
             "#7201a8"
            ],
            [
             0.3333333333333333,
             "#9c179e"
            ],
            [
             0.4444444444444444,
             "#bd3786"
            ],
            [
             0.5555555555555556,
             "#d8576b"
            ],
            [
             0.6666666666666666,
             "#ed7953"
            ],
            [
             0.7777777777777778,
             "#fb9f3a"
            ],
            [
             0.8888888888888888,
             "#fdca26"
            ],
            [
             1,
             "#f0f921"
            ]
           ]
          },
          "colorway": [
           "#636efa",
           "#EF553B",
           "#00cc96",
           "#ab63fa",
           "#FFA15A",
           "#19d3f3",
           "#FF6692",
           "#B6E880",
           "#FF97FF",
           "#FECB52"
          ],
          "font": {
           "color": "#2a3f5f"
          },
          "geo": {
           "bgcolor": "white",
           "lakecolor": "white",
           "landcolor": "white",
           "showlakes": true,
           "showland": true,
           "subunitcolor": "#C8D4E3"
          },
          "hoverlabel": {
           "align": "left"
          },
          "hovermode": "closest",
          "mapbox": {
           "style": "light"
          },
          "paper_bgcolor": "white",
          "plot_bgcolor": "white",
          "polar": {
           "angularaxis": {
            "gridcolor": "#EBF0F8",
            "linecolor": "#EBF0F8",
            "ticks": ""
           },
           "bgcolor": "white",
           "radialaxis": {
            "gridcolor": "#EBF0F8",
            "linecolor": "#EBF0F8",
            "ticks": ""
           }
          },
          "scene": {
           "xaxis": {
            "backgroundcolor": "white",
            "gridcolor": "#DFE8F3",
            "gridwidth": 2,
            "linecolor": "#EBF0F8",
            "showbackground": true,
            "ticks": "",
            "zerolinecolor": "#EBF0F8"
           },
           "yaxis": {
            "backgroundcolor": "white",
            "gridcolor": "#DFE8F3",
            "gridwidth": 2,
            "linecolor": "#EBF0F8",
            "showbackground": true,
            "ticks": "",
            "zerolinecolor": "#EBF0F8"
           },
           "zaxis": {
            "backgroundcolor": "white",
            "gridcolor": "#DFE8F3",
            "gridwidth": 2,
            "linecolor": "#EBF0F8",
            "showbackground": true,
            "ticks": "",
            "zerolinecolor": "#EBF0F8"
           }
          },
          "shapedefaults": {
           "line": {
            "color": "#2a3f5f"
           }
          },
          "ternary": {
           "aaxis": {
            "gridcolor": "#DFE8F3",
            "linecolor": "#A2B1C6",
            "ticks": ""
           },
           "baxis": {
            "gridcolor": "#DFE8F3",
            "linecolor": "#A2B1C6",
            "ticks": ""
           },
           "bgcolor": "white",
           "caxis": {
            "gridcolor": "#DFE8F3",
            "linecolor": "#A2B1C6",
            "ticks": ""
           }
          },
          "title": {
           "x": 0.05
          },
          "xaxis": {
           "automargin": true,
           "gridcolor": "#EBF0F8",
           "linecolor": "#EBF0F8",
           "ticks": "",
           "title": {
            "standoff": 15
           },
           "zerolinecolor": "#EBF0F8",
           "zerolinewidth": 2
          },
          "yaxis": {
           "automargin": true,
           "gridcolor": "#EBF0F8",
           "linecolor": "#EBF0F8",
           "ticks": "",
           "title": {
            "standoff": 15
           },
           "zerolinecolor": "#EBF0F8",
           "zerolinewidth": 2
          }
         }
        },
        "title": {
         "text": "NEOFAC_A"
        },
        "width": 480,
        "xaxis": {
         "anchor": "y",
         "domain": [
          0,
          1
         ],
         "dtick": 0.2,
         "tickfont": {
          "size": 20
         },
         "title": {
          "font": {
           "size": 20
          },
          "text": "True"
         }
        },
        "yaxis": {
         "anchor": "x",
         "domain": [
          0,
          1
         ],
         "dtick": 0.2,
         "tickfont": {
          "size": 20
         },
         "title": {
          "font": {
           "size": 20
          },
          "text": "Predicted"
         }
        }
       }
      },
      "text/html": [
       "<div>\n",
       "        \n",
       "        \n",
       "            <div id=\"6b0a254e-7b41-4819-a0fa-724745a04565\" class=\"plotly-graph-div\" style=\"height:400px; width:480px;\"></div>\n",
       "            <script type=\"text/javascript\">\n",
       "                require([\"plotly\"], function(Plotly) {\n",
       "                    window.PLOTLYENV=window.PLOTLYENV || {};\n",
       "                    \n",
       "                if (document.getElementById(\"6b0a254e-7b41-4819-a0fa-724745a04565\")) {\n",
       "                    Plotly.newPlot(\n",
       "                        '6b0a254e-7b41-4819-a0fa-724745a04565',\n",
       "                        [{\"hovertemplate\": \"tag=gru<br>true=%{x}<br>predicted=%{y}<extra></extra>\", \"legendgroup\": \"gru\", \"marker\": {\"color\": \"#636efa\", \"symbol\": \"circle\"}, \"mode\": \"markers\", \"name\": \"gru\", \"showlegend\": true, \"type\": \"scatter\", \"x\": [0.4166666567325592, 0.6666666865348816, 0.2916666567325592, 0.8333333134651184, 0.9166666865348816, 0.625, 0.875, 0.625, 0.4583333432674408, 0.4166666567325592, 0.3333333432674408, 0.5416666865348816, 0.3333333432674408, 0.5, 0.8333333134651184, 0.5416666865348816, 0.75, 0.4166666567325592, 0.7083333134651184, 0.625, 0.6666666865348816, 0.5416666865348816, 0.2916666567325592, 0.5, 0.3333333432674408, 0.2083333283662796, 0.8333333134651184, 0.7083333134651184, 0.4166666567325592, 0.7916666865348816, 0.4166666567325592, 0.5416666865348816, 0.75, 0.625, 0.5, 0.375, 0.5416666865348816, 0.7916666865348816, 0.2916666567325592, 0.5, 0.2916666567325592, 1.0, 0.875, 0.2916666567325592, 0.5416666865348816, 0.7083333134651184, 0.625, 0.375, 0.8333333134651184, 0.1666666716337204, 0.5833333134651184, 0.375, 0.5416666865348816, 0.7083333134651184, 0.5, 0.5416666865348816, 0.9166666865348816, 0.7083333134651184, 0.625, 0.2083333283662796, 0.3333333432674408, 0.5833333134651184, 0.4583333432674408, 0.8333333134651184, 0.5416666865348816, 0.4166666567325592, 0.4583333432674408, 0.2916666567325592, 0.625, 0.5, 0.625, 0.7083333134651184, 0.5, 0.4583333432674408, 0.4166666567325592, 0.2083333283662796], \"xaxis\": \"x\", \"y\": [0.5488294959068298, 0.5228793025016785, 0.6418688893318176, 0.5422468185424805, 0.3534942865371704, 0.4670286178588867, 0.2036767303943634, 0.6042989492416382, 0.4519164562225342, 0.5911201238632202, 0.5071560144424438, 0.45245587825775146, 0.3803024888038635, 0.4702827036380768, 0.4881548583507538, 0.47642049193382263, 0.7062399387359619, 0.3541865348815918, 0.6036201119422913, 0.6582833528518677, 0.4974856674671173, 0.6197346448898315, 0.41579902172088623, 0.4524586796760559, 0.3524225056171417, 0.4857329726219177, 0.5054090023040771, 0.5679046511650085, 0.5358520150184631, 0.38133513927459717, 0.5818207859992981, 0.4947150647640228, 0.307919979095459, 0.660184919834137, 0.5256948471069336, 0.4507507085800171, 0.5695044994354248, 0.7457832098007202, 0.6444316506385803, 0.6063276529312134, 0.36548739671707153, 0.45763838291168213, 0.7048667073249817, 0.31556248664855957, 0.5515603423118591, 0.5540615916252136, 0.42296165227890015, 0.7373688220977783, 0.3799722492694855, 0.5316871404647827, 0.42673033475875854, 0.388253390789032, 0.4128956198692322, 0.44218528270721436, 0.5274213552474976, 0.6195974946022034, 0.57454514503479, 0.5293149352073669, 0.8183508515357971, 0.4327428638935089, 0.6357105374336243, 0.35268938541412354, 0.5852143168449402, 0.6194705367088318, 0.7167432904243469, 0.5007725358009338, 0.44906559586524963, 0.7061192989349365, 0.39760881662368774, 0.3936039209365845, 0.5663655400276184, 0.5216848850250244, 0.3985676169395447, 0.4381135106086731, 0.6911265254020691, 0.32879307866096497], \"yaxis\": \"y\"}, {\"hovertemplate\": \"<b>OLS trendline</b><br>predicted = 0.0272067 * true + 0.497182<br>R<sup>2</sup>=0.001934<br><br>tag=gru<br>true=%{x}<br>predicted=%{y} <b>(trend)</b><extra></extra>\", \"legendgroup\": \"gru\", \"marker\": {\"color\": \"#636efa\", \"symbol\": \"circle\"}, \"mode\": \"lines\", \"name\": \"gru\", \"showlegend\": false, \"type\": \"scatter\", \"x\": [0.1666666716337204, 0.2083333283662796, 0.2083333283662796, 0.2083333283662796, 0.2916666567325592, 0.2916666567325592, 0.2916666567325592, 0.2916666567325592, 0.2916666567325592, 0.2916666567325592, 0.3333333432674408, 0.3333333432674408, 0.3333333432674408, 0.3333333432674408, 0.375, 0.375, 0.375, 0.4166666567325592, 0.4166666567325592, 0.4166666567325592, 0.4166666567325592, 0.4166666567325592, 0.4166666567325592, 0.4166666567325592, 0.4583333432674408, 0.4583333432674408, 0.4583333432674408, 0.4583333432674408, 0.5, 0.5, 0.5, 0.5, 0.5, 0.5, 0.5, 0.5416666865348816, 0.5416666865348816, 0.5416666865348816, 0.5416666865348816, 0.5416666865348816, 0.5416666865348816, 0.5416666865348816, 0.5416666865348816, 0.5416666865348816, 0.5833333134651184, 0.5833333134651184, 0.625, 0.625, 0.625, 0.625, 0.625, 0.625, 0.625, 0.625, 0.6666666865348816, 0.6666666865348816, 0.7083333134651184, 0.7083333134651184, 0.7083333134651184, 0.7083333134651184, 0.7083333134651184, 0.7083333134651184, 0.75, 0.75, 0.7916666865348816, 0.7916666865348816, 0.8333333134651184, 0.8333333134651184, 0.8333333134651184, 0.8333333134651184, 0.8333333134651184, 0.875, 0.875, 0.9166666865348816, 0.9166666865348816, 1.0], \"xaxis\": \"x\", \"y\": [0.5017165041125474, 0.5028501176118341, 0.5028501176118341, 0.5028501176118341, 0.5051173450158193, 0.5051173450158193, 0.5051173450158193, 0.5051173450158193, 0.5051173450158193, 0.5051173450158193, 0.5062509593259297, 0.5062509593259297, 0.5062509593259297, 0.5062509593259297, 0.5073845728252164, 0.5073845728252164, 0.5073845728252164, 0.5085181863245031, 0.5085181863245031, 0.5085181863245031, 0.5085181863245031, 0.5085181863245031, 0.5085181863245031, 0.5085181863245031, 0.5096518006346135, 0.5096518006346135, 0.5096518006346135, 0.5096518006346135, 0.5107854141339001, 0.5107854141339001, 0.5107854141339001, 0.5107854141339001, 0.5107854141339001, 0.5107854141339001, 0.5107854141339001, 0.5119190284440105, 0.5119190284440105, 0.5119190284440105, 0.5119190284440105, 0.5119190284440105, 0.5119190284440105, 0.5119190284440105, 0.5119190284440105, 0.5119190284440105, 0.5130526411324734, 0.5130526411324734, 0.5141862554425839, 0.5141862554425839, 0.5141862554425839, 0.5141862554425839, 0.5141862554425839, 0.5141862554425839, 0.5141862554425839, 0.5141862554425839, 0.5153198697526943, 0.5153198697526943, 0.5164534824411572, 0.5164534824411572, 0.5164534824411572, 0.5164534824411572, 0.5164534824411572, 0.5164534824411572, 0.5175870967512676, 0.5175870967512676, 0.518720711061378, 0.518720711061378, 0.5198543237498409, 0.5198543237498409, 0.5198543237498409, 0.5198543237498409, 0.5198543237498409, 0.5209879380599514, 0.5209879380599514, 0.5221215523700617, 0.5221215523700617, 0.524388779368635], \"yaxis\": \"y\"}],\n",
       "                        {\"font\": {\"color\": \"black\"}, \"height\": 400, \"legend\": {\"font\": {\"size\": 20}, \"title\": {\"text\": \"tag\"}, \"tracegroupgap\": 0}, \"margin\": {\"t\": 60}, \"template\": {\"data\": {\"bar\": [{\"error_x\": {\"color\": \"#2a3f5f\"}, \"error_y\": {\"color\": \"#2a3f5f\"}, \"marker\": {\"line\": {\"color\": \"white\", \"width\": 0.5}}, \"type\": \"bar\"}], \"barpolar\": [{\"marker\": {\"line\": {\"color\": \"white\", \"width\": 0.5}}, \"type\": \"barpolar\"}], \"carpet\": [{\"aaxis\": {\"endlinecolor\": \"#2a3f5f\", \"gridcolor\": \"#C8D4E3\", \"linecolor\": \"#C8D4E3\", \"minorgridcolor\": \"#C8D4E3\", \"startlinecolor\": \"#2a3f5f\"}, \"baxis\": {\"endlinecolor\": \"#2a3f5f\", \"gridcolor\": \"#C8D4E3\", \"linecolor\": \"#C8D4E3\", \"minorgridcolor\": \"#C8D4E3\", \"startlinecolor\": \"#2a3f5f\"}, \"type\": \"carpet\"}], \"choropleth\": [{\"colorbar\": {\"outlinewidth\": 0, \"ticks\": \"\"}, \"type\": \"choropleth\"}], \"contour\": [{\"colorbar\": {\"outlinewidth\": 0, \"ticks\": \"\"}, \"colorscale\": [[0.0, \"#0d0887\"], [0.1111111111111111, \"#46039f\"], [0.2222222222222222, \"#7201a8\"], [0.3333333333333333, \"#9c179e\"], [0.4444444444444444, \"#bd3786\"], [0.5555555555555556, \"#d8576b\"], [0.6666666666666666, \"#ed7953\"], [0.7777777777777778, \"#fb9f3a\"], [0.8888888888888888, \"#fdca26\"], [1.0, \"#f0f921\"]], \"type\": \"contour\"}], \"contourcarpet\": [{\"colorbar\": {\"outlinewidth\": 0, \"ticks\": \"\"}, \"type\": \"contourcarpet\"}], \"heatmap\": [{\"colorbar\": {\"outlinewidth\": 0, \"ticks\": \"\"}, \"colorscale\": [[0.0, \"#0d0887\"], [0.1111111111111111, \"#46039f\"], [0.2222222222222222, \"#7201a8\"], [0.3333333333333333, \"#9c179e\"], [0.4444444444444444, \"#bd3786\"], [0.5555555555555556, \"#d8576b\"], [0.6666666666666666, \"#ed7953\"], [0.7777777777777778, \"#fb9f3a\"], [0.8888888888888888, \"#fdca26\"], [1.0, \"#f0f921\"]], \"type\": \"heatmap\"}], \"heatmapgl\": [{\"colorbar\": {\"outlinewidth\": 0, \"ticks\": \"\"}, \"colorscale\": [[0.0, \"#0d0887\"], [0.1111111111111111, \"#46039f\"], [0.2222222222222222, \"#7201a8\"], [0.3333333333333333, \"#9c179e\"], [0.4444444444444444, \"#bd3786\"], [0.5555555555555556, \"#d8576b\"], [0.6666666666666666, \"#ed7953\"], [0.7777777777777778, \"#fb9f3a\"], [0.8888888888888888, \"#fdca26\"], [1.0, \"#f0f921\"]], \"type\": \"heatmapgl\"}], \"histogram\": [{\"marker\": {\"colorbar\": {\"outlinewidth\": 0, \"ticks\": \"\"}}, \"type\": \"histogram\"}], \"histogram2d\": [{\"colorbar\": {\"outlinewidth\": 0, \"ticks\": \"\"}, \"colorscale\": [[0.0, \"#0d0887\"], [0.1111111111111111, \"#46039f\"], [0.2222222222222222, \"#7201a8\"], [0.3333333333333333, \"#9c179e\"], [0.4444444444444444, \"#bd3786\"], [0.5555555555555556, \"#d8576b\"], [0.6666666666666666, \"#ed7953\"], [0.7777777777777778, \"#fb9f3a\"], [0.8888888888888888, \"#fdca26\"], [1.0, \"#f0f921\"]], \"type\": \"histogram2d\"}], \"histogram2dcontour\": [{\"colorbar\": {\"outlinewidth\": 0, \"ticks\": \"\"}, \"colorscale\": [[0.0, \"#0d0887\"], [0.1111111111111111, \"#46039f\"], [0.2222222222222222, \"#7201a8\"], [0.3333333333333333, \"#9c179e\"], [0.4444444444444444, \"#bd3786\"], [0.5555555555555556, \"#d8576b\"], [0.6666666666666666, \"#ed7953\"], [0.7777777777777778, \"#fb9f3a\"], [0.8888888888888888, \"#fdca26\"], [1.0, \"#f0f921\"]], \"type\": \"histogram2dcontour\"}], \"mesh3d\": [{\"colorbar\": {\"outlinewidth\": 0, \"ticks\": \"\"}, \"type\": \"mesh3d\"}], \"parcoords\": [{\"line\": {\"colorbar\": {\"outlinewidth\": 0, \"ticks\": \"\"}}, \"type\": \"parcoords\"}], \"pie\": [{\"automargin\": true, \"type\": \"pie\"}], \"scatter\": [{\"marker\": {\"colorbar\": {\"outlinewidth\": 0, \"ticks\": \"\"}}, \"type\": \"scatter\"}], \"scatter3d\": [{\"line\": {\"colorbar\": {\"outlinewidth\": 0, \"ticks\": \"\"}}, \"marker\": {\"colorbar\": {\"outlinewidth\": 0, \"ticks\": \"\"}}, \"type\": \"scatter3d\"}], \"scattercarpet\": [{\"marker\": {\"colorbar\": {\"outlinewidth\": 0, \"ticks\": \"\"}}, \"type\": \"scattercarpet\"}], \"scattergeo\": [{\"marker\": {\"colorbar\": {\"outlinewidth\": 0, \"ticks\": \"\"}}, \"type\": \"scattergeo\"}], \"scattergl\": [{\"marker\": {\"colorbar\": {\"outlinewidth\": 0, \"ticks\": \"\"}}, \"type\": \"scattergl\"}], \"scattermapbox\": [{\"marker\": {\"colorbar\": {\"outlinewidth\": 0, \"ticks\": \"\"}}, \"type\": \"scattermapbox\"}], \"scatterpolar\": [{\"marker\": {\"colorbar\": {\"outlinewidth\": 0, \"ticks\": \"\"}}, \"type\": \"scatterpolar\"}], \"scatterpolargl\": [{\"marker\": {\"colorbar\": {\"outlinewidth\": 0, \"ticks\": \"\"}}, \"type\": \"scatterpolargl\"}], \"scatterternary\": [{\"marker\": {\"colorbar\": {\"outlinewidth\": 0, \"ticks\": \"\"}}, \"type\": \"scatterternary\"}], \"surface\": [{\"colorbar\": {\"outlinewidth\": 0, \"ticks\": \"\"}, \"colorscale\": [[0.0, \"#0d0887\"], [0.1111111111111111, \"#46039f\"], [0.2222222222222222, \"#7201a8\"], [0.3333333333333333, \"#9c179e\"], [0.4444444444444444, \"#bd3786\"], [0.5555555555555556, \"#d8576b\"], [0.6666666666666666, \"#ed7953\"], [0.7777777777777778, \"#fb9f3a\"], [0.8888888888888888, \"#fdca26\"], [1.0, \"#f0f921\"]], \"type\": \"surface\"}], \"table\": [{\"cells\": {\"fill\": {\"color\": \"#EBF0F8\"}, \"line\": {\"color\": \"white\"}}, \"header\": {\"fill\": {\"color\": \"#C8D4E3\"}, \"line\": {\"color\": \"white\"}}, \"type\": \"table\"}]}, \"layout\": {\"annotationdefaults\": {\"arrowcolor\": \"#2a3f5f\", \"arrowhead\": 0, \"arrowwidth\": 1}, \"coloraxis\": {\"colorbar\": {\"outlinewidth\": 0, \"ticks\": \"\"}}, \"colorscale\": {\"diverging\": [[0, \"#8e0152\"], [0.1, \"#c51b7d\"], [0.2, \"#de77ae\"], [0.3, \"#f1b6da\"], [0.4, \"#fde0ef\"], [0.5, \"#f7f7f7\"], [0.6, \"#e6f5d0\"], [0.7, \"#b8e186\"], [0.8, \"#7fbc41\"], [0.9, \"#4d9221\"], [1, \"#276419\"]], \"sequential\": [[0.0, \"#0d0887\"], [0.1111111111111111, \"#46039f\"], [0.2222222222222222, \"#7201a8\"], [0.3333333333333333, \"#9c179e\"], [0.4444444444444444, \"#bd3786\"], [0.5555555555555556, \"#d8576b\"], [0.6666666666666666, \"#ed7953\"], [0.7777777777777778, \"#fb9f3a\"], [0.8888888888888888, \"#fdca26\"], [1.0, \"#f0f921\"]], \"sequentialminus\": [[0.0, \"#0d0887\"], [0.1111111111111111, \"#46039f\"], [0.2222222222222222, \"#7201a8\"], [0.3333333333333333, \"#9c179e\"], [0.4444444444444444, \"#bd3786\"], [0.5555555555555556, \"#d8576b\"], [0.6666666666666666, \"#ed7953\"], [0.7777777777777778, \"#fb9f3a\"], [0.8888888888888888, \"#fdca26\"], [1.0, \"#f0f921\"]]}, \"colorway\": [\"#636efa\", \"#EF553B\", \"#00cc96\", \"#ab63fa\", \"#FFA15A\", \"#19d3f3\", \"#FF6692\", \"#B6E880\", \"#FF97FF\", \"#FECB52\"], \"font\": {\"color\": \"#2a3f5f\"}, \"geo\": {\"bgcolor\": \"white\", \"lakecolor\": \"white\", \"landcolor\": \"white\", \"showlakes\": true, \"showland\": true, \"subunitcolor\": \"#C8D4E3\"}, \"hoverlabel\": {\"align\": \"left\"}, \"hovermode\": \"closest\", \"mapbox\": {\"style\": \"light\"}, \"paper_bgcolor\": \"white\", \"plot_bgcolor\": \"white\", \"polar\": {\"angularaxis\": {\"gridcolor\": \"#EBF0F8\", \"linecolor\": \"#EBF0F8\", \"ticks\": \"\"}, \"bgcolor\": \"white\", \"radialaxis\": {\"gridcolor\": \"#EBF0F8\", \"linecolor\": \"#EBF0F8\", \"ticks\": \"\"}}, \"scene\": {\"xaxis\": {\"backgroundcolor\": \"white\", \"gridcolor\": \"#DFE8F3\", \"gridwidth\": 2, \"linecolor\": \"#EBF0F8\", \"showbackground\": true, \"ticks\": \"\", \"zerolinecolor\": \"#EBF0F8\"}, \"yaxis\": {\"backgroundcolor\": \"white\", \"gridcolor\": \"#DFE8F3\", \"gridwidth\": 2, \"linecolor\": \"#EBF0F8\", \"showbackground\": true, \"ticks\": \"\", \"zerolinecolor\": \"#EBF0F8\"}, \"zaxis\": {\"backgroundcolor\": \"white\", \"gridcolor\": \"#DFE8F3\", \"gridwidth\": 2, \"linecolor\": \"#EBF0F8\", \"showbackground\": true, \"ticks\": \"\", \"zerolinecolor\": \"#EBF0F8\"}}, \"shapedefaults\": {\"line\": {\"color\": \"#2a3f5f\"}}, \"ternary\": {\"aaxis\": {\"gridcolor\": \"#DFE8F3\", \"linecolor\": \"#A2B1C6\", \"ticks\": \"\"}, \"baxis\": {\"gridcolor\": \"#DFE8F3\", \"linecolor\": \"#A2B1C6\", \"ticks\": \"\"}, \"bgcolor\": \"white\", \"caxis\": {\"gridcolor\": \"#DFE8F3\", \"linecolor\": \"#A2B1C6\", \"ticks\": \"\"}}, \"title\": {\"x\": 0.05}, \"xaxis\": {\"automargin\": true, \"gridcolor\": \"#EBF0F8\", \"linecolor\": \"#EBF0F8\", \"ticks\": \"\", \"title\": {\"standoff\": 15}, \"zerolinecolor\": \"#EBF0F8\", \"zerolinewidth\": 2}, \"yaxis\": {\"automargin\": true, \"gridcolor\": \"#EBF0F8\", \"linecolor\": \"#EBF0F8\", \"ticks\": \"\", \"title\": {\"standoff\": 15}, \"zerolinecolor\": \"#EBF0F8\", \"zerolinewidth\": 2}}}, \"title\": {\"text\": \"NEOFAC_A\"}, \"width\": 480, \"xaxis\": {\"anchor\": \"y\", \"domain\": [0.0, 1.0], \"dtick\": 0.2, \"tickfont\": {\"size\": 20}, \"title\": {\"font\": {\"size\": 20}, \"text\": \"True\"}}, \"yaxis\": {\"anchor\": \"x\", \"domain\": [0.0, 1.0], \"dtick\": 0.2, \"tickfont\": {\"size\": 20}, \"title\": {\"font\": {\"size\": 20}, \"text\": \"Predicted\"}}},\n",
       "                        {\"responsive\": true}\n",
       "                    ).then(function(){\n",
       "                            \n",
       "var gd = document.getElementById('6b0a254e-7b41-4819-a0fa-724745a04565');\n",
       "var x = new MutationObserver(function (mutations, observer) {{\n",
       "        var display = window.getComputedStyle(gd).display;\n",
       "        if (!display || display === 'none') {{\n",
       "            console.log([gd, 'removed!']);\n",
       "            Plotly.purge(gd);\n",
       "            observer.disconnect();\n",
       "        }}\n",
       "}});\n",
       "\n",
       "// Listen for the removal of the full notebook cells\n",
       "var notebookContainer = gd.closest('#notebook-container');\n",
       "if (notebookContainer) {{\n",
       "    x.observe(notebookContainer, {childList: true});\n",
       "}}\n",
       "\n",
       "// Listen for the clearing of the current output cell\n",
       "var outputEl = gd.closest('.output');\n",
       "if (outputEl) {{\n",
       "    x.observe(outputEl, {childList: true});\n",
       "}}\n",
       "\n",
       "                        })\n",
       "                };\n",
       "                });\n",
       "            </script>\n",
       "        </div>"
      ]
     },
     "metadata": {},
     "output_type": "display_data"
    },
    {
     "data": {
      "application/vnd.plotly.v1+json": {
       "config": {
        "plotlyServerURL": "https://plot.ly"
       },
       "data": [
        {
         "hovertemplate": "tag=gru<br>true=%{x}<br>predicted=%{y}<extra></extra>",
         "legendgroup": "gru",
         "marker": {
          "color": "#636efa",
          "symbol": "circle"
         },
         "mode": "markers",
         "name": "gru",
         "showlegend": true,
         "type": "scatter",
         "x": [
          0.4193548262119293,
          0.774193525314331,
          0.6129032373428345,
          0.9354838728904724,
          0.9032257795333862,
          0.35483869910240173,
          0.5161290168762207,
          0.4838709533214569,
          0.3870967626571655,
          0.4193548262119293,
          0.4838709533214569,
          0.774193525314331,
          0.4838709533214569,
          0.35483869910240173,
          0.7419354915618896,
          0.5806451439857483,
          0.7096773982048035,
          0.4516128897666931,
          0.4193548262119293,
          0.3870967626571655,
          0.5806451439857483,
          0.4193548262119293,
          0.25806450843811035,
          0.6129032373428345,
          0.6451612710952759,
          0.29032257199287415,
          0.5483871102333069,
          0.8387096524238586,
          0.774193525314331,
          0.22580644488334656,
          0.35483869910240173,
          1,
          0.5161290168762207,
          0.5483871102333069,
          0.5806451439857483,
          0.6774193644523621,
          0.6774193644523621,
          0.5483871102333069,
          0.19354838132858276,
          0.6774193644523621,
          0.7419354915618896,
          0.16129031777381897,
          0.35483869910240173,
          0.16129031777381897,
          0.5806451439857483,
          0.6774193644523621,
          0.16129031777381897,
          0.4193548262119293,
          0.5161290168762207,
          0.3870967626571655,
          0.5806451439857483,
          0.5483871102333069,
          0.22580644488334656,
          0.06451612710952759,
          0.4838709533214569,
          0.5483871102333069,
          0.7096773982048035,
          0.5483871102333069,
          0.6451612710952759,
          0.6451612710952759,
          0.4838709533214569,
          0.4193548262119293,
          0.032258063554763794,
          0.6451612710952759,
          0.7419354915618896,
          0.4838709533214569,
          0.6451612710952759,
          0.4193548262119293,
          0.774193525314331,
          0.6451612710952759,
          0.4516128897666931,
          0.774193525314331,
          0.19354838132858276,
          0.5483871102333069,
          0.6129032373428345,
          0.6774193644523621
         ],
         "xaxis": "x",
         "y": [
          0.5085725784301758,
          0.4780037999153137,
          0.49815499782562256,
          0.36909568309783936,
          0.5216386914253235,
          0.44864535331726074,
          0.4528271555900574,
          0.44208747148513794,
          0.6144194006919861,
          0.3626612424850464,
          0.4116806983947754,
          0.3954107165336609,
          0.4972565174102783,
          0.5539236664772034,
          0.6796688437461853,
          0.598455011844635,
          0.5850503444671631,
          0.5492527484893799,
          0.42054909467697144,
          0.5709397196769714,
          0.5538185238838196,
          0.3777989149093628,
          0.268352210521698,
          0.3507615327835083,
          0.6143627166748047,
          0.33230412006378174,
          0.5749814510345459,
          0.5725436806678772,
          0.48759227991104126,
          0.4197123646736145,
          0.3893212676048279,
          0.6821392774581909,
          0.3652666211128235,
          0.4651365280151367,
          0.43842023611068726,
          0.6576811671257019,
          0.6242950558662415,
          0.5977278351783752,
          0.4491040110588074,
          0.5250630974769592,
          0.32650667428970337,
          0.359916627407074,
          0.3719099164009094,
          0.43855488300323486,
          0.32480281591415405,
          0.4748241901397705,
          0.3771470785140991,
          0.43694645166397095,
          0.5475206971168518,
          0.5449141263961792,
          0.3514634966850281,
          0.5761147141456604,
          0.33694761991500854,
          0.33929675817489624,
          0.26295819878578186,
          0.27376753091812134,
          0.7148788571357727,
          0.4635842442512512,
          0.35732215642929077,
          0.4498981833457947,
          0.4501875042915344,
          0.5278804302215576,
          0.3949877619743347,
          0.35482513904571533,
          0.7101411819458008,
          0.3704926371574402,
          0.5653288960456848,
          0.3021613359451294,
          0.5739001035690308,
          0.506367027759552,
          0.4864937663078308,
          0.6456656455993652,
          0.5541787147521973,
          0.3141268491744995,
          0.44005995988845825,
          0.5040804743766785
         ],
         "yaxis": "y"
        },
        {
         "hovertemplate": "<b>OLS trendline</b><br>predicted = 0.222973 * true + 0.353219<br>R<sup>2</sup>=0.161325<br><br>tag=gru<br>true=%{x}<br>predicted=%{y} <b>(trend)</b><extra></extra>",
         "legendgroup": "gru",
         "marker": {
          "color": "#636efa",
          "symbol": "circle"
         },
         "mode": "lines",
         "name": "gru",
         "showlegend": false,
         "type": "scatter",
         "x": [
          0.032258063554763794,
          0.06451612710952759,
          0.16129031777381897,
          0.16129031777381897,
          0.16129031777381897,
          0.19354838132858276,
          0.19354838132858276,
          0.22580644488334656,
          0.22580644488334656,
          0.25806450843811035,
          0.29032257199287415,
          0.35483869910240173,
          0.35483869910240173,
          0.35483869910240173,
          0.35483869910240173,
          0.3870967626571655,
          0.3870967626571655,
          0.3870967626571655,
          0.4193548262119293,
          0.4193548262119293,
          0.4193548262119293,
          0.4193548262119293,
          0.4193548262119293,
          0.4193548262119293,
          0.4193548262119293,
          0.4516128897666931,
          0.4516128897666931,
          0.4838709533214569,
          0.4838709533214569,
          0.4838709533214569,
          0.4838709533214569,
          0.4838709533214569,
          0.4838709533214569,
          0.5161290168762207,
          0.5161290168762207,
          0.5161290168762207,
          0.5483871102333069,
          0.5483871102333069,
          0.5483871102333069,
          0.5483871102333069,
          0.5483871102333069,
          0.5483871102333069,
          0.5483871102333069,
          0.5806451439857483,
          0.5806451439857483,
          0.5806451439857483,
          0.5806451439857483,
          0.5806451439857483,
          0.6129032373428345,
          0.6129032373428345,
          0.6129032373428345,
          0.6451612710952759,
          0.6451612710952759,
          0.6451612710952759,
          0.6451612710952759,
          0.6451612710952759,
          0.6451612710952759,
          0.6774193644523621,
          0.6774193644523621,
          0.6774193644523621,
          0.6774193644523621,
          0.6774193644523621,
          0.7096773982048035,
          0.7096773982048035,
          0.7419354915618896,
          0.7419354915618896,
          0.7419354915618896,
          0.774193525314331,
          0.774193525314331,
          0.774193525314331,
          0.774193525314331,
          0.774193525314331,
          0.8387096524238586,
          0.9032257795333862,
          0.9354838728904724,
          1
         ],
         "xaxis": "x",
         "y": [
          0.3604119678507853,
          0.36760465715012836,
          0.3891827250481576,
          0.3891827250481576,
          0.3891827250481576,
          0.3963754143475007,
          0.3963754143475007,
          0.4035681036468438,
          0.4035681036468438,
          0.4107607929461869,
          0.41795348224553,
          0.43233886084421613,
          0.43233886084421613,
          0.43233886084421613,
          0.43233886084421613,
          0.4395315501435592,
          0.4395315501435592,
          0.4395315501435592,
          0.4467242394429023,
          0.4467242394429023,
          0.4467242394429023,
          0.4467242394429023,
          0.4467242394429023,
          0.4467242394429023,
          0.4467242394429023,
          0.4539169287422454,
          0.4539169287422454,
          0.46110961804158845,
          0.46110961804158845,
          0.46110961804158845,
          0.46110961804158845,
          0.46110961804158845,
          0.46110961804158845,
          0.46830230734093153,
          0.46830230734093153,
          0.46830230734093153,
          0.47549500328539906,
          0.47549500328539906,
          0.47549500328539906,
          0.47549500328539906,
          0.47549500328539906,
          0.47549500328539906,
          0.47549500328539906,
          0.48268768593961775,
          0.48268768593961775,
          0.48268768593961775,
          0.48268768593961775,
          0.48268768593961775,
          0.4898803818840852,
          0.4898803818840852,
          0.4898803818840852,
          0.4970730645383039,
          0.4970730645383039,
          0.4970730645383039,
          0.4970730645383039,
          0.4970730645383039,
          0.4970730645383039,
          0.5042657604827714,
          0.5042657604827714,
          0.5042657604827714,
          0.5042657604827714,
          0.5042657604827714,
          0.5114584431369901,
          0.5114584431369901,
          0.5186511390814575,
          0.5186511390814575,
          0.5186511390814575,
          0.5258438217356762,
          0.5258438217356762,
          0.5258438217356762,
          0.5258438217356762,
          0.5258438217356762,
          0.5402292003343624,
          0.5546145789330486,
          0.561807274877516,
          0.5761926534762022
         ],
         "yaxis": "y"
        }
       ],
       "layout": {
        "font": {
         "color": "black"
        },
        "height": 400,
        "legend": {
         "font": {
          "size": 20
         },
         "title": {
          "text": "tag"
         },
         "tracegroupgap": 0
        },
        "margin": {
         "t": 60
        },
        "template": {
         "data": {
          "bar": [
           {
            "error_x": {
             "color": "#2a3f5f"
            },
            "error_y": {
             "color": "#2a3f5f"
            },
            "marker": {
             "line": {
              "color": "white",
              "width": 0.5
             }
            },
            "type": "bar"
           }
          ],
          "barpolar": [
           {
            "marker": {
             "line": {
              "color": "white",
              "width": 0.5
             }
            },
            "type": "barpolar"
           }
          ],
          "carpet": [
           {
            "aaxis": {
             "endlinecolor": "#2a3f5f",
             "gridcolor": "#C8D4E3",
             "linecolor": "#C8D4E3",
             "minorgridcolor": "#C8D4E3",
             "startlinecolor": "#2a3f5f"
            },
            "baxis": {
             "endlinecolor": "#2a3f5f",
             "gridcolor": "#C8D4E3",
             "linecolor": "#C8D4E3",
             "minorgridcolor": "#C8D4E3",
             "startlinecolor": "#2a3f5f"
            },
            "type": "carpet"
           }
          ],
          "choropleth": [
           {
            "colorbar": {
             "outlinewidth": 0,
             "ticks": ""
            },
            "type": "choropleth"
           }
          ],
          "contour": [
           {
            "colorbar": {
             "outlinewidth": 0,
             "ticks": ""
            },
            "colorscale": [
             [
              0,
              "#0d0887"
             ],
             [
              0.1111111111111111,
              "#46039f"
             ],
             [
              0.2222222222222222,
              "#7201a8"
             ],
             [
              0.3333333333333333,
              "#9c179e"
             ],
             [
              0.4444444444444444,
              "#bd3786"
             ],
             [
              0.5555555555555556,
              "#d8576b"
             ],
             [
              0.6666666666666666,
              "#ed7953"
             ],
             [
              0.7777777777777778,
              "#fb9f3a"
             ],
             [
              0.8888888888888888,
              "#fdca26"
             ],
             [
              1,
              "#f0f921"
             ]
            ],
            "type": "contour"
           }
          ],
          "contourcarpet": [
           {
            "colorbar": {
             "outlinewidth": 0,
             "ticks": ""
            },
            "type": "contourcarpet"
           }
          ],
          "heatmap": [
           {
            "colorbar": {
             "outlinewidth": 0,
             "ticks": ""
            },
            "colorscale": [
             [
              0,
              "#0d0887"
             ],
             [
              0.1111111111111111,
              "#46039f"
             ],
             [
              0.2222222222222222,
              "#7201a8"
             ],
             [
              0.3333333333333333,
              "#9c179e"
             ],
             [
              0.4444444444444444,
              "#bd3786"
             ],
             [
              0.5555555555555556,
              "#d8576b"
             ],
             [
              0.6666666666666666,
              "#ed7953"
             ],
             [
              0.7777777777777778,
              "#fb9f3a"
             ],
             [
              0.8888888888888888,
              "#fdca26"
             ],
             [
              1,
              "#f0f921"
             ]
            ],
            "type": "heatmap"
           }
          ],
          "heatmapgl": [
           {
            "colorbar": {
             "outlinewidth": 0,
             "ticks": ""
            },
            "colorscale": [
             [
              0,
              "#0d0887"
             ],
             [
              0.1111111111111111,
              "#46039f"
             ],
             [
              0.2222222222222222,
              "#7201a8"
             ],
             [
              0.3333333333333333,
              "#9c179e"
             ],
             [
              0.4444444444444444,
              "#bd3786"
             ],
             [
              0.5555555555555556,
              "#d8576b"
             ],
             [
              0.6666666666666666,
              "#ed7953"
             ],
             [
              0.7777777777777778,
              "#fb9f3a"
             ],
             [
              0.8888888888888888,
              "#fdca26"
             ],
             [
              1,
              "#f0f921"
             ]
            ],
            "type": "heatmapgl"
           }
          ],
          "histogram": [
           {
            "marker": {
             "colorbar": {
              "outlinewidth": 0,
              "ticks": ""
             }
            },
            "type": "histogram"
           }
          ],
          "histogram2d": [
           {
            "colorbar": {
             "outlinewidth": 0,
             "ticks": ""
            },
            "colorscale": [
             [
              0,
              "#0d0887"
             ],
             [
              0.1111111111111111,
              "#46039f"
             ],
             [
              0.2222222222222222,
              "#7201a8"
             ],
             [
              0.3333333333333333,
              "#9c179e"
             ],
             [
              0.4444444444444444,
              "#bd3786"
             ],
             [
              0.5555555555555556,
              "#d8576b"
             ],
             [
              0.6666666666666666,
              "#ed7953"
             ],
             [
              0.7777777777777778,
              "#fb9f3a"
             ],
             [
              0.8888888888888888,
              "#fdca26"
             ],
             [
              1,
              "#f0f921"
             ]
            ],
            "type": "histogram2d"
           }
          ],
          "histogram2dcontour": [
           {
            "colorbar": {
             "outlinewidth": 0,
             "ticks": ""
            },
            "colorscale": [
             [
              0,
              "#0d0887"
             ],
             [
              0.1111111111111111,
              "#46039f"
             ],
             [
              0.2222222222222222,
              "#7201a8"
             ],
             [
              0.3333333333333333,
              "#9c179e"
             ],
             [
              0.4444444444444444,
              "#bd3786"
             ],
             [
              0.5555555555555556,
              "#d8576b"
             ],
             [
              0.6666666666666666,
              "#ed7953"
             ],
             [
              0.7777777777777778,
              "#fb9f3a"
             ],
             [
              0.8888888888888888,
              "#fdca26"
             ],
             [
              1,
              "#f0f921"
             ]
            ],
            "type": "histogram2dcontour"
           }
          ],
          "mesh3d": [
           {
            "colorbar": {
             "outlinewidth": 0,
             "ticks": ""
            },
            "type": "mesh3d"
           }
          ],
          "parcoords": [
           {
            "line": {
             "colorbar": {
              "outlinewidth": 0,
              "ticks": ""
             }
            },
            "type": "parcoords"
           }
          ],
          "pie": [
           {
            "automargin": true,
            "type": "pie"
           }
          ],
          "scatter": [
           {
            "marker": {
             "colorbar": {
              "outlinewidth": 0,
              "ticks": ""
             }
            },
            "type": "scatter"
           }
          ],
          "scatter3d": [
           {
            "line": {
             "colorbar": {
              "outlinewidth": 0,
              "ticks": ""
             }
            },
            "marker": {
             "colorbar": {
              "outlinewidth": 0,
              "ticks": ""
             }
            },
            "type": "scatter3d"
           }
          ],
          "scattercarpet": [
           {
            "marker": {
             "colorbar": {
              "outlinewidth": 0,
              "ticks": ""
             }
            },
            "type": "scattercarpet"
           }
          ],
          "scattergeo": [
           {
            "marker": {
             "colorbar": {
              "outlinewidth": 0,
              "ticks": ""
             }
            },
            "type": "scattergeo"
           }
          ],
          "scattergl": [
           {
            "marker": {
             "colorbar": {
              "outlinewidth": 0,
              "ticks": ""
             }
            },
            "type": "scattergl"
           }
          ],
          "scattermapbox": [
           {
            "marker": {
             "colorbar": {
              "outlinewidth": 0,
              "ticks": ""
             }
            },
            "type": "scattermapbox"
           }
          ],
          "scatterpolar": [
           {
            "marker": {
             "colorbar": {
              "outlinewidth": 0,
              "ticks": ""
             }
            },
            "type": "scatterpolar"
           }
          ],
          "scatterpolargl": [
           {
            "marker": {
             "colorbar": {
              "outlinewidth": 0,
              "ticks": ""
             }
            },
            "type": "scatterpolargl"
           }
          ],
          "scatterternary": [
           {
            "marker": {
             "colorbar": {
              "outlinewidth": 0,
              "ticks": ""
             }
            },
            "type": "scatterternary"
           }
          ],
          "surface": [
           {
            "colorbar": {
             "outlinewidth": 0,
             "ticks": ""
            },
            "colorscale": [
             [
              0,
              "#0d0887"
             ],
             [
              0.1111111111111111,
              "#46039f"
             ],
             [
              0.2222222222222222,
              "#7201a8"
             ],
             [
              0.3333333333333333,
              "#9c179e"
             ],
             [
              0.4444444444444444,
              "#bd3786"
             ],
             [
              0.5555555555555556,
              "#d8576b"
             ],
             [
              0.6666666666666666,
              "#ed7953"
             ],
             [
              0.7777777777777778,
              "#fb9f3a"
             ],
             [
              0.8888888888888888,
              "#fdca26"
             ],
             [
              1,
              "#f0f921"
             ]
            ],
            "type": "surface"
           }
          ],
          "table": [
           {
            "cells": {
             "fill": {
              "color": "#EBF0F8"
             },
             "line": {
              "color": "white"
             }
            },
            "header": {
             "fill": {
              "color": "#C8D4E3"
             },
             "line": {
              "color": "white"
             }
            },
            "type": "table"
           }
          ]
         },
         "layout": {
          "annotationdefaults": {
           "arrowcolor": "#2a3f5f",
           "arrowhead": 0,
           "arrowwidth": 1
          },
          "coloraxis": {
           "colorbar": {
            "outlinewidth": 0,
            "ticks": ""
           }
          },
          "colorscale": {
           "diverging": [
            [
             0,
             "#8e0152"
            ],
            [
             0.1,
             "#c51b7d"
            ],
            [
             0.2,
             "#de77ae"
            ],
            [
             0.3,
             "#f1b6da"
            ],
            [
             0.4,
             "#fde0ef"
            ],
            [
             0.5,
             "#f7f7f7"
            ],
            [
             0.6,
             "#e6f5d0"
            ],
            [
             0.7,
             "#b8e186"
            ],
            [
             0.8,
             "#7fbc41"
            ],
            [
             0.9,
             "#4d9221"
            ],
            [
             1,
             "#276419"
            ]
           ],
           "sequential": [
            [
             0,
             "#0d0887"
            ],
            [
             0.1111111111111111,
             "#46039f"
            ],
            [
             0.2222222222222222,
             "#7201a8"
            ],
            [
             0.3333333333333333,
             "#9c179e"
            ],
            [
             0.4444444444444444,
             "#bd3786"
            ],
            [
             0.5555555555555556,
             "#d8576b"
            ],
            [
             0.6666666666666666,
             "#ed7953"
            ],
            [
             0.7777777777777778,
             "#fb9f3a"
            ],
            [
             0.8888888888888888,
             "#fdca26"
            ],
            [
             1,
             "#f0f921"
            ]
           ],
           "sequentialminus": [
            [
             0,
             "#0d0887"
            ],
            [
             0.1111111111111111,
             "#46039f"
            ],
            [
             0.2222222222222222,
             "#7201a8"
            ],
            [
             0.3333333333333333,
             "#9c179e"
            ],
            [
             0.4444444444444444,
             "#bd3786"
            ],
            [
             0.5555555555555556,
             "#d8576b"
            ],
            [
             0.6666666666666666,
             "#ed7953"
            ],
            [
             0.7777777777777778,
             "#fb9f3a"
            ],
            [
             0.8888888888888888,
             "#fdca26"
            ],
            [
             1,
             "#f0f921"
            ]
           ]
          },
          "colorway": [
           "#636efa",
           "#EF553B",
           "#00cc96",
           "#ab63fa",
           "#FFA15A",
           "#19d3f3",
           "#FF6692",
           "#B6E880",
           "#FF97FF",
           "#FECB52"
          ],
          "font": {
           "color": "#2a3f5f"
          },
          "geo": {
           "bgcolor": "white",
           "lakecolor": "white",
           "landcolor": "white",
           "showlakes": true,
           "showland": true,
           "subunitcolor": "#C8D4E3"
          },
          "hoverlabel": {
           "align": "left"
          },
          "hovermode": "closest",
          "mapbox": {
           "style": "light"
          },
          "paper_bgcolor": "white",
          "plot_bgcolor": "white",
          "polar": {
           "angularaxis": {
            "gridcolor": "#EBF0F8",
            "linecolor": "#EBF0F8",
            "ticks": ""
           },
           "bgcolor": "white",
           "radialaxis": {
            "gridcolor": "#EBF0F8",
            "linecolor": "#EBF0F8",
            "ticks": ""
           }
          },
          "scene": {
           "xaxis": {
            "backgroundcolor": "white",
            "gridcolor": "#DFE8F3",
            "gridwidth": 2,
            "linecolor": "#EBF0F8",
            "showbackground": true,
            "ticks": "",
            "zerolinecolor": "#EBF0F8"
           },
           "yaxis": {
            "backgroundcolor": "white",
            "gridcolor": "#DFE8F3",
            "gridwidth": 2,
            "linecolor": "#EBF0F8",
            "showbackground": true,
            "ticks": "",
            "zerolinecolor": "#EBF0F8"
           },
           "zaxis": {
            "backgroundcolor": "white",
            "gridcolor": "#DFE8F3",
            "gridwidth": 2,
            "linecolor": "#EBF0F8",
            "showbackground": true,
            "ticks": "",
            "zerolinecolor": "#EBF0F8"
           }
          },
          "shapedefaults": {
           "line": {
            "color": "#2a3f5f"
           }
          },
          "ternary": {
           "aaxis": {
            "gridcolor": "#DFE8F3",
            "linecolor": "#A2B1C6",
            "ticks": ""
           },
           "baxis": {
            "gridcolor": "#DFE8F3",
            "linecolor": "#A2B1C6",
            "ticks": ""
           },
           "bgcolor": "white",
           "caxis": {
            "gridcolor": "#DFE8F3",
            "linecolor": "#A2B1C6",
            "ticks": ""
           }
          },
          "title": {
           "x": 0.05
          },
          "xaxis": {
           "automargin": true,
           "gridcolor": "#EBF0F8",
           "linecolor": "#EBF0F8",
           "ticks": "",
           "title": {
            "standoff": 15
           },
           "zerolinecolor": "#EBF0F8",
           "zerolinewidth": 2
          },
          "yaxis": {
           "automargin": true,
           "gridcolor": "#EBF0F8",
           "linecolor": "#EBF0F8",
           "ticks": "",
           "title": {
            "standoff": 15
           },
           "zerolinecolor": "#EBF0F8",
           "zerolinewidth": 2
          }
         }
        },
        "title": {
         "text": "NEOFAC_E"
        },
        "width": 480,
        "xaxis": {
         "anchor": "y",
         "domain": [
          0,
          1
         ],
         "dtick": 0.2,
         "tickfont": {
          "size": 20
         },
         "title": {
          "font": {
           "size": 20
          },
          "text": "True"
         }
        },
        "yaxis": {
         "anchor": "x",
         "domain": [
          0,
          1
         ],
         "dtick": 0.2,
         "tickfont": {
          "size": 20
         },
         "title": {
          "font": {
           "size": 20
          },
          "text": "Predicted"
         }
        }
       }
      },
      "text/html": [
       "<div>\n",
       "        \n",
       "        \n",
       "            <div id=\"0d0e4d7c-1dcd-4bb4-a2d7-ce171bc1defe\" class=\"plotly-graph-div\" style=\"height:400px; width:480px;\"></div>\n",
       "            <script type=\"text/javascript\">\n",
       "                require([\"plotly\"], function(Plotly) {\n",
       "                    window.PLOTLYENV=window.PLOTLYENV || {};\n",
       "                    \n",
       "                if (document.getElementById(\"0d0e4d7c-1dcd-4bb4-a2d7-ce171bc1defe\")) {\n",
       "                    Plotly.newPlot(\n",
       "                        '0d0e4d7c-1dcd-4bb4-a2d7-ce171bc1defe',\n",
       "                        [{\"hovertemplate\": \"tag=gru<br>true=%{x}<br>predicted=%{y}<extra></extra>\", \"legendgroup\": \"gru\", \"marker\": {\"color\": \"#636efa\", \"symbol\": \"circle\"}, \"mode\": \"markers\", \"name\": \"gru\", \"showlegend\": true, \"type\": \"scatter\", \"x\": [0.4193548262119293, 0.774193525314331, 0.6129032373428345, 0.9354838728904724, 0.9032257795333862, 0.35483869910240173, 0.5161290168762207, 0.4838709533214569, 0.3870967626571655, 0.4193548262119293, 0.4838709533214569, 0.774193525314331, 0.4838709533214569, 0.35483869910240173, 0.7419354915618896, 0.5806451439857483, 0.7096773982048035, 0.4516128897666931, 0.4193548262119293, 0.3870967626571655, 0.5806451439857483, 0.4193548262119293, 0.25806450843811035, 0.6129032373428345, 0.6451612710952759, 0.29032257199287415, 0.5483871102333069, 0.8387096524238586, 0.774193525314331, 0.22580644488334656, 0.35483869910240173, 1.0, 0.5161290168762207, 0.5483871102333069, 0.5806451439857483, 0.6774193644523621, 0.6774193644523621, 0.5483871102333069, 0.19354838132858276, 0.6774193644523621, 0.7419354915618896, 0.16129031777381897, 0.35483869910240173, 0.16129031777381897, 0.5806451439857483, 0.6774193644523621, 0.16129031777381897, 0.4193548262119293, 0.5161290168762207, 0.3870967626571655, 0.5806451439857483, 0.5483871102333069, 0.22580644488334656, 0.06451612710952759, 0.4838709533214569, 0.5483871102333069, 0.7096773982048035, 0.5483871102333069, 0.6451612710952759, 0.6451612710952759, 0.4838709533214569, 0.4193548262119293, 0.032258063554763794, 0.6451612710952759, 0.7419354915618896, 0.4838709533214569, 0.6451612710952759, 0.4193548262119293, 0.774193525314331, 0.6451612710952759, 0.4516128897666931, 0.774193525314331, 0.19354838132858276, 0.5483871102333069, 0.6129032373428345, 0.6774193644523621], \"xaxis\": \"x\", \"y\": [0.5085725784301758, 0.4780037999153137, 0.49815499782562256, 0.36909568309783936, 0.5216386914253235, 0.44864535331726074, 0.4528271555900574, 0.44208747148513794, 0.6144194006919861, 0.3626612424850464, 0.4116806983947754, 0.3954107165336609, 0.4972565174102783, 0.5539236664772034, 0.6796688437461853, 0.598455011844635, 0.5850503444671631, 0.5492527484893799, 0.42054909467697144, 0.5709397196769714, 0.5538185238838196, 0.3777989149093628, 0.268352210521698, 0.3507615327835083, 0.6143627166748047, 0.33230412006378174, 0.5749814510345459, 0.5725436806678772, 0.48759227991104126, 0.4197123646736145, 0.3893212676048279, 0.6821392774581909, 0.3652666211128235, 0.4651365280151367, 0.43842023611068726, 0.6576811671257019, 0.6242950558662415, 0.5977278351783752, 0.4491040110588074, 0.5250630974769592, 0.32650667428970337, 0.359916627407074, 0.3719099164009094, 0.43855488300323486, 0.32480281591415405, 0.4748241901397705, 0.3771470785140991, 0.43694645166397095, 0.5475206971168518, 0.5449141263961792, 0.3514634966850281, 0.5761147141456604, 0.33694761991500854, 0.33929675817489624, 0.26295819878578186, 0.27376753091812134, 0.7148788571357727, 0.4635842442512512, 0.35732215642929077, 0.4498981833457947, 0.4501875042915344, 0.5278804302215576, 0.3949877619743347, 0.35482513904571533, 0.7101411819458008, 0.3704926371574402, 0.5653288960456848, 0.3021613359451294, 0.5739001035690308, 0.506367027759552, 0.4864937663078308, 0.6456656455993652, 0.5541787147521973, 0.3141268491744995, 0.44005995988845825, 0.5040804743766785], \"yaxis\": \"y\"}, {\"hovertemplate\": \"<b>OLS trendline</b><br>predicted = 0.222973 * true + 0.353219<br>R<sup>2</sup>=0.161325<br><br>tag=gru<br>true=%{x}<br>predicted=%{y} <b>(trend)</b><extra></extra>\", \"legendgroup\": \"gru\", \"marker\": {\"color\": \"#636efa\", \"symbol\": \"circle\"}, \"mode\": \"lines\", \"name\": \"gru\", \"showlegend\": false, \"type\": \"scatter\", \"x\": [0.032258063554763794, 0.06451612710952759, 0.16129031777381897, 0.16129031777381897, 0.16129031777381897, 0.19354838132858276, 0.19354838132858276, 0.22580644488334656, 0.22580644488334656, 0.25806450843811035, 0.29032257199287415, 0.35483869910240173, 0.35483869910240173, 0.35483869910240173, 0.35483869910240173, 0.3870967626571655, 0.3870967626571655, 0.3870967626571655, 0.4193548262119293, 0.4193548262119293, 0.4193548262119293, 0.4193548262119293, 0.4193548262119293, 0.4193548262119293, 0.4193548262119293, 0.4516128897666931, 0.4516128897666931, 0.4838709533214569, 0.4838709533214569, 0.4838709533214569, 0.4838709533214569, 0.4838709533214569, 0.4838709533214569, 0.5161290168762207, 0.5161290168762207, 0.5161290168762207, 0.5483871102333069, 0.5483871102333069, 0.5483871102333069, 0.5483871102333069, 0.5483871102333069, 0.5483871102333069, 0.5483871102333069, 0.5806451439857483, 0.5806451439857483, 0.5806451439857483, 0.5806451439857483, 0.5806451439857483, 0.6129032373428345, 0.6129032373428345, 0.6129032373428345, 0.6451612710952759, 0.6451612710952759, 0.6451612710952759, 0.6451612710952759, 0.6451612710952759, 0.6451612710952759, 0.6774193644523621, 0.6774193644523621, 0.6774193644523621, 0.6774193644523621, 0.6774193644523621, 0.7096773982048035, 0.7096773982048035, 0.7419354915618896, 0.7419354915618896, 0.7419354915618896, 0.774193525314331, 0.774193525314331, 0.774193525314331, 0.774193525314331, 0.774193525314331, 0.8387096524238586, 0.9032257795333862, 0.9354838728904724, 1.0], \"xaxis\": \"x\", \"y\": [0.3604119678507853, 0.36760465715012836, 0.3891827250481576, 0.3891827250481576, 0.3891827250481576, 0.3963754143475007, 0.3963754143475007, 0.4035681036468438, 0.4035681036468438, 0.4107607929461869, 0.41795348224553, 0.43233886084421613, 0.43233886084421613, 0.43233886084421613, 0.43233886084421613, 0.4395315501435592, 0.4395315501435592, 0.4395315501435592, 0.4467242394429023, 0.4467242394429023, 0.4467242394429023, 0.4467242394429023, 0.4467242394429023, 0.4467242394429023, 0.4467242394429023, 0.4539169287422454, 0.4539169287422454, 0.46110961804158845, 0.46110961804158845, 0.46110961804158845, 0.46110961804158845, 0.46110961804158845, 0.46110961804158845, 0.46830230734093153, 0.46830230734093153, 0.46830230734093153, 0.47549500328539906, 0.47549500328539906, 0.47549500328539906, 0.47549500328539906, 0.47549500328539906, 0.47549500328539906, 0.47549500328539906, 0.48268768593961775, 0.48268768593961775, 0.48268768593961775, 0.48268768593961775, 0.48268768593961775, 0.4898803818840852, 0.4898803818840852, 0.4898803818840852, 0.4970730645383039, 0.4970730645383039, 0.4970730645383039, 0.4970730645383039, 0.4970730645383039, 0.4970730645383039, 0.5042657604827714, 0.5042657604827714, 0.5042657604827714, 0.5042657604827714, 0.5042657604827714, 0.5114584431369901, 0.5114584431369901, 0.5186511390814575, 0.5186511390814575, 0.5186511390814575, 0.5258438217356762, 0.5258438217356762, 0.5258438217356762, 0.5258438217356762, 0.5258438217356762, 0.5402292003343624, 0.5546145789330486, 0.561807274877516, 0.5761926534762022], \"yaxis\": \"y\"}],\n",
       "                        {\"font\": {\"color\": \"black\"}, \"height\": 400, \"legend\": {\"font\": {\"size\": 20}, \"title\": {\"text\": \"tag\"}, \"tracegroupgap\": 0}, \"margin\": {\"t\": 60}, \"template\": {\"data\": {\"bar\": [{\"error_x\": {\"color\": \"#2a3f5f\"}, \"error_y\": {\"color\": \"#2a3f5f\"}, \"marker\": {\"line\": {\"color\": \"white\", \"width\": 0.5}}, \"type\": \"bar\"}], \"barpolar\": [{\"marker\": {\"line\": {\"color\": \"white\", \"width\": 0.5}}, \"type\": \"barpolar\"}], \"carpet\": [{\"aaxis\": {\"endlinecolor\": \"#2a3f5f\", \"gridcolor\": \"#C8D4E3\", \"linecolor\": \"#C8D4E3\", \"minorgridcolor\": \"#C8D4E3\", \"startlinecolor\": \"#2a3f5f\"}, \"baxis\": {\"endlinecolor\": \"#2a3f5f\", \"gridcolor\": \"#C8D4E3\", \"linecolor\": \"#C8D4E3\", \"minorgridcolor\": \"#C8D4E3\", \"startlinecolor\": \"#2a3f5f\"}, \"type\": \"carpet\"}], \"choropleth\": [{\"colorbar\": {\"outlinewidth\": 0, \"ticks\": \"\"}, \"type\": \"choropleth\"}], \"contour\": [{\"colorbar\": {\"outlinewidth\": 0, \"ticks\": \"\"}, \"colorscale\": [[0.0, \"#0d0887\"], [0.1111111111111111, \"#46039f\"], [0.2222222222222222, \"#7201a8\"], [0.3333333333333333, \"#9c179e\"], [0.4444444444444444, \"#bd3786\"], [0.5555555555555556, \"#d8576b\"], [0.6666666666666666, \"#ed7953\"], [0.7777777777777778, \"#fb9f3a\"], [0.8888888888888888, \"#fdca26\"], [1.0, \"#f0f921\"]], \"type\": \"contour\"}], \"contourcarpet\": [{\"colorbar\": {\"outlinewidth\": 0, \"ticks\": \"\"}, \"type\": \"contourcarpet\"}], \"heatmap\": [{\"colorbar\": {\"outlinewidth\": 0, \"ticks\": \"\"}, \"colorscale\": [[0.0, \"#0d0887\"], [0.1111111111111111, \"#46039f\"], [0.2222222222222222, \"#7201a8\"], [0.3333333333333333, \"#9c179e\"], [0.4444444444444444, \"#bd3786\"], [0.5555555555555556, \"#d8576b\"], [0.6666666666666666, \"#ed7953\"], [0.7777777777777778, \"#fb9f3a\"], [0.8888888888888888, \"#fdca26\"], [1.0, \"#f0f921\"]], \"type\": \"heatmap\"}], \"heatmapgl\": [{\"colorbar\": {\"outlinewidth\": 0, \"ticks\": \"\"}, \"colorscale\": [[0.0, \"#0d0887\"], [0.1111111111111111, \"#46039f\"], [0.2222222222222222, \"#7201a8\"], [0.3333333333333333, \"#9c179e\"], [0.4444444444444444, \"#bd3786\"], [0.5555555555555556, \"#d8576b\"], [0.6666666666666666, \"#ed7953\"], [0.7777777777777778, \"#fb9f3a\"], [0.8888888888888888, \"#fdca26\"], [1.0, \"#f0f921\"]], \"type\": \"heatmapgl\"}], \"histogram\": [{\"marker\": {\"colorbar\": {\"outlinewidth\": 0, \"ticks\": \"\"}}, \"type\": \"histogram\"}], \"histogram2d\": [{\"colorbar\": {\"outlinewidth\": 0, \"ticks\": \"\"}, \"colorscale\": [[0.0, \"#0d0887\"], [0.1111111111111111, \"#46039f\"], [0.2222222222222222, \"#7201a8\"], [0.3333333333333333, \"#9c179e\"], [0.4444444444444444, \"#bd3786\"], [0.5555555555555556, \"#d8576b\"], [0.6666666666666666, \"#ed7953\"], [0.7777777777777778, \"#fb9f3a\"], [0.8888888888888888, \"#fdca26\"], [1.0, \"#f0f921\"]], \"type\": \"histogram2d\"}], \"histogram2dcontour\": [{\"colorbar\": {\"outlinewidth\": 0, \"ticks\": \"\"}, \"colorscale\": [[0.0, \"#0d0887\"], [0.1111111111111111, \"#46039f\"], [0.2222222222222222, \"#7201a8\"], [0.3333333333333333, \"#9c179e\"], [0.4444444444444444, \"#bd3786\"], [0.5555555555555556, \"#d8576b\"], [0.6666666666666666, \"#ed7953\"], [0.7777777777777778, \"#fb9f3a\"], [0.8888888888888888, \"#fdca26\"], [1.0, \"#f0f921\"]], \"type\": \"histogram2dcontour\"}], \"mesh3d\": [{\"colorbar\": {\"outlinewidth\": 0, \"ticks\": \"\"}, \"type\": \"mesh3d\"}], \"parcoords\": [{\"line\": {\"colorbar\": {\"outlinewidth\": 0, \"ticks\": \"\"}}, \"type\": \"parcoords\"}], \"pie\": [{\"automargin\": true, \"type\": \"pie\"}], \"scatter\": [{\"marker\": {\"colorbar\": {\"outlinewidth\": 0, \"ticks\": \"\"}}, \"type\": \"scatter\"}], \"scatter3d\": [{\"line\": {\"colorbar\": {\"outlinewidth\": 0, \"ticks\": \"\"}}, \"marker\": {\"colorbar\": {\"outlinewidth\": 0, \"ticks\": \"\"}}, \"type\": \"scatter3d\"}], \"scattercarpet\": [{\"marker\": {\"colorbar\": {\"outlinewidth\": 0, \"ticks\": \"\"}}, \"type\": \"scattercarpet\"}], \"scattergeo\": [{\"marker\": {\"colorbar\": {\"outlinewidth\": 0, \"ticks\": \"\"}}, \"type\": \"scattergeo\"}], \"scattergl\": [{\"marker\": {\"colorbar\": {\"outlinewidth\": 0, \"ticks\": \"\"}}, \"type\": \"scattergl\"}], \"scattermapbox\": [{\"marker\": {\"colorbar\": {\"outlinewidth\": 0, \"ticks\": \"\"}}, \"type\": \"scattermapbox\"}], \"scatterpolar\": [{\"marker\": {\"colorbar\": {\"outlinewidth\": 0, \"ticks\": \"\"}}, \"type\": \"scatterpolar\"}], \"scatterpolargl\": [{\"marker\": {\"colorbar\": {\"outlinewidth\": 0, \"ticks\": \"\"}}, \"type\": \"scatterpolargl\"}], \"scatterternary\": [{\"marker\": {\"colorbar\": {\"outlinewidth\": 0, \"ticks\": \"\"}}, \"type\": \"scatterternary\"}], \"surface\": [{\"colorbar\": {\"outlinewidth\": 0, \"ticks\": \"\"}, \"colorscale\": [[0.0, \"#0d0887\"], [0.1111111111111111, \"#46039f\"], [0.2222222222222222, \"#7201a8\"], [0.3333333333333333, \"#9c179e\"], [0.4444444444444444, \"#bd3786\"], [0.5555555555555556, \"#d8576b\"], [0.6666666666666666, \"#ed7953\"], [0.7777777777777778, \"#fb9f3a\"], [0.8888888888888888, \"#fdca26\"], [1.0, \"#f0f921\"]], \"type\": \"surface\"}], \"table\": [{\"cells\": {\"fill\": {\"color\": \"#EBF0F8\"}, \"line\": {\"color\": \"white\"}}, \"header\": {\"fill\": {\"color\": \"#C8D4E3\"}, \"line\": {\"color\": \"white\"}}, \"type\": \"table\"}]}, \"layout\": {\"annotationdefaults\": {\"arrowcolor\": \"#2a3f5f\", \"arrowhead\": 0, \"arrowwidth\": 1}, \"coloraxis\": {\"colorbar\": {\"outlinewidth\": 0, \"ticks\": \"\"}}, \"colorscale\": {\"diverging\": [[0, \"#8e0152\"], [0.1, \"#c51b7d\"], [0.2, \"#de77ae\"], [0.3, \"#f1b6da\"], [0.4, \"#fde0ef\"], [0.5, \"#f7f7f7\"], [0.6, \"#e6f5d0\"], [0.7, \"#b8e186\"], [0.8, \"#7fbc41\"], [0.9, \"#4d9221\"], [1, \"#276419\"]], \"sequential\": [[0.0, \"#0d0887\"], [0.1111111111111111, \"#46039f\"], [0.2222222222222222, \"#7201a8\"], [0.3333333333333333, \"#9c179e\"], [0.4444444444444444, \"#bd3786\"], [0.5555555555555556, \"#d8576b\"], [0.6666666666666666, \"#ed7953\"], [0.7777777777777778, \"#fb9f3a\"], [0.8888888888888888, \"#fdca26\"], [1.0, \"#f0f921\"]], \"sequentialminus\": [[0.0, \"#0d0887\"], [0.1111111111111111, \"#46039f\"], [0.2222222222222222, \"#7201a8\"], [0.3333333333333333, \"#9c179e\"], [0.4444444444444444, \"#bd3786\"], [0.5555555555555556, \"#d8576b\"], [0.6666666666666666, \"#ed7953\"], [0.7777777777777778, \"#fb9f3a\"], [0.8888888888888888, \"#fdca26\"], [1.0, \"#f0f921\"]]}, \"colorway\": [\"#636efa\", \"#EF553B\", \"#00cc96\", \"#ab63fa\", \"#FFA15A\", \"#19d3f3\", \"#FF6692\", \"#B6E880\", \"#FF97FF\", \"#FECB52\"], \"font\": {\"color\": \"#2a3f5f\"}, \"geo\": {\"bgcolor\": \"white\", \"lakecolor\": \"white\", \"landcolor\": \"white\", \"showlakes\": true, \"showland\": true, \"subunitcolor\": \"#C8D4E3\"}, \"hoverlabel\": {\"align\": \"left\"}, \"hovermode\": \"closest\", \"mapbox\": {\"style\": \"light\"}, \"paper_bgcolor\": \"white\", \"plot_bgcolor\": \"white\", \"polar\": {\"angularaxis\": {\"gridcolor\": \"#EBF0F8\", \"linecolor\": \"#EBF0F8\", \"ticks\": \"\"}, \"bgcolor\": \"white\", \"radialaxis\": {\"gridcolor\": \"#EBF0F8\", \"linecolor\": \"#EBF0F8\", \"ticks\": \"\"}}, \"scene\": {\"xaxis\": {\"backgroundcolor\": \"white\", \"gridcolor\": \"#DFE8F3\", \"gridwidth\": 2, \"linecolor\": \"#EBF0F8\", \"showbackground\": true, \"ticks\": \"\", \"zerolinecolor\": \"#EBF0F8\"}, \"yaxis\": {\"backgroundcolor\": \"white\", \"gridcolor\": \"#DFE8F3\", \"gridwidth\": 2, \"linecolor\": \"#EBF0F8\", \"showbackground\": true, \"ticks\": \"\", \"zerolinecolor\": \"#EBF0F8\"}, \"zaxis\": {\"backgroundcolor\": \"white\", \"gridcolor\": \"#DFE8F3\", \"gridwidth\": 2, \"linecolor\": \"#EBF0F8\", \"showbackground\": true, \"ticks\": \"\", \"zerolinecolor\": \"#EBF0F8\"}}, \"shapedefaults\": {\"line\": {\"color\": \"#2a3f5f\"}}, \"ternary\": {\"aaxis\": {\"gridcolor\": \"#DFE8F3\", \"linecolor\": \"#A2B1C6\", \"ticks\": \"\"}, \"baxis\": {\"gridcolor\": \"#DFE8F3\", \"linecolor\": \"#A2B1C6\", \"ticks\": \"\"}, \"bgcolor\": \"white\", \"caxis\": {\"gridcolor\": \"#DFE8F3\", \"linecolor\": \"#A2B1C6\", \"ticks\": \"\"}}, \"title\": {\"x\": 0.05}, \"xaxis\": {\"automargin\": true, \"gridcolor\": \"#EBF0F8\", \"linecolor\": \"#EBF0F8\", \"ticks\": \"\", \"title\": {\"standoff\": 15}, \"zerolinecolor\": \"#EBF0F8\", \"zerolinewidth\": 2}, \"yaxis\": {\"automargin\": true, \"gridcolor\": \"#EBF0F8\", \"linecolor\": \"#EBF0F8\", \"ticks\": \"\", \"title\": {\"standoff\": 15}, \"zerolinecolor\": \"#EBF0F8\", \"zerolinewidth\": 2}}}, \"title\": {\"text\": \"NEOFAC_E\"}, \"width\": 480, \"xaxis\": {\"anchor\": \"y\", \"domain\": [0.0, 1.0], \"dtick\": 0.2, \"tickfont\": {\"size\": 20}, \"title\": {\"font\": {\"size\": 20}, \"text\": \"True\"}}, \"yaxis\": {\"anchor\": \"x\", \"domain\": [0.0, 1.0], \"dtick\": 0.2, \"tickfont\": {\"size\": 20}, \"title\": {\"font\": {\"size\": 20}, \"text\": \"Predicted\"}}},\n",
       "                        {\"responsive\": true}\n",
       "                    ).then(function(){\n",
       "                            \n",
       "var gd = document.getElementById('0d0e4d7c-1dcd-4bb4-a2d7-ce171bc1defe');\n",
       "var x = new MutationObserver(function (mutations, observer) {{\n",
       "        var display = window.getComputedStyle(gd).display;\n",
       "        if (!display || display === 'none') {{\n",
       "            console.log([gd, 'removed!']);\n",
       "            Plotly.purge(gd);\n",
       "            observer.disconnect();\n",
       "        }}\n",
       "}});\n",
       "\n",
       "// Listen for the removal of the full notebook cells\n",
       "var notebookContainer = gd.closest('#notebook-container');\n",
       "if (notebookContainer) {{\n",
       "    x.observe(notebookContainer, {childList: true});\n",
       "}}\n",
       "\n",
       "// Listen for the clearing of the current output cell\n",
       "var outputEl = gd.closest('.output');\n",
       "if (outputEl) {{\n",
       "    x.observe(outputEl, {childList: true});\n",
       "}}\n",
       "\n",
       "                        })\n",
       "                };\n",
       "                });\n",
       "            </script>\n",
       "        </div>"
      ]
     },
     "metadata": {},
     "output_type": "display_data"
    },
    {
     "data": {
      "application/vnd.plotly.v1+json": {
       "config": {
        "plotlyServerURL": "https://plot.ly"
       },
       "data": [
        {
         "hovertemplate": "tag=gru<br>true=%{x}<br>predicted=%{y}<extra></extra>",
         "legendgroup": "gru",
         "marker": {
          "color": "#636efa",
          "symbol": "circle"
         },
         "mode": "markers",
         "name": "gru",
         "showlegend": true,
         "type": "scatter",
         "x": [
          0.5161290168762207,
          0.32258063554763794,
          0.5806451439857483,
          0.8387096524238586,
          0.6774193644523621,
          0.5806451439857483,
          0.8387096524238586,
          0.4838709533214569,
          0.16129031777381897,
          0.6451612710952759,
          0.35483869910240173,
          0.5806451439857483,
          0.7419354915618896,
          0.8709677457809448,
          0.5161290168762207,
          0.5483871102333069,
          0.6451612710952759,
          0.4838709533214569,
          0.6451612710952759,
          0.29032257199287415,
          0.7419354915618896,
          0.6129032373428345,
          0.7096773982048035,
          0.8709677457809448,
          0.5806451439857483,
          0.6129032373428345,
          0.3870967626571655,
          0.3870967626571655,
          0.6129032373428345,
          0.12903225421905518,
          0.4516128897666931,
          1,
          0.19354838132858276,
          0.7096773982048035,
          0.5806451439857483,
          0.4516128897666931,
          0.774193525314331,
          0.7096773982048035,
          0.4193548262119293,
          0.5806451439857483,
          0.7419354915618896,
          0.6774193644523621,
          0.4838709533214569,
          0.4516128897666931,
          0.29032257199287415,
          0.8064516186714172,
          0.5806451439857483,
          0.4193548262119293,
          0.5806451439857483,
          0.4516128897666931,
          0.5806451439857483,
          0.5161290168762207,
          0.7096773982048035,
          0.35483869910240173,
          0.5161290168762207,
          0.5483871102333069,
          0.8064516186714172,
          0.4516128897666931,
          0.6774193644523621,
          0.5161290168762207,
          0.4838709533214569,
          0.4838709533214569,
          0.7419354915618896,
          0.6774193644523621,
          0.4516128897666931,
          0.32258063554763794,
          0.5483871102333069,
          0.4838709533214569,
          0.6774193644523621,
          0.774193525314331,
          0.5161290168762207,
          0.7419354915618896,
          0.16129031777381897,
          0.6129032373428345,
          0.6451612710952759,
          0.774193525314331
         ],
         "xaxis": "x",
         "y": [
          0.5328826904296875,
          0.7080332636833191,
          0.5413123965263367,
          0.6310799717903137,
          0.4120277464389801,
          0.7226546406745911,
          0.6029729247093201,
          0.7584335803985596,
          0.5886150002479553,
          0.23899155855178833,
          0.495869517326355,
          0.46607840061187744,
          0.7112739086151123,
          0.5788538455963135,
          0.44856056571006775,
          0.6760477423667908,
          0.7516788244247437,
          0.4455123841762543,
          0.5940806269645691,
          0.38637086749076843,
          0.5074451565742493,
          0.6261320114135742,
          0.5504000186920166,
          0.4930140972137451,
          0.6512049436569214,
          0.7026063203811646,
          0.5997292399406433,
          0.45256179571151733,
          0.6008224487304688,
          0.5951826572418213,
          0.4234684109687805,
          0.6443617939949036,
          0.5855369567871094,
          0.7276293635368347,
          0.606060802936554,
          0.4792504906654358,
          0.5937759280204773,
          0.527248740196228,
          0.4648410677909851,
          0.5831847786903381,
          0.5934493541717529,
          0.29514822363853455,
          0.37301409244537354,
          0.48106029629707336,
          0.2581152319908142,
          0.6581926941871643,
          0.3855641782283783,
          0.3816540837287903,
          0.45036938786506653,
          0.6337902545928955,
          0.6240001320838928,
          0.49487966299057007,
          0.47485560178756714,
          0.549763023853302,
          0.6028597950935364,
          0.6891977190971375,
          0.5213471055030823,
          0.5037488341331482,
          0.5438436269760132,
          0.4339599609375,
          0.5807215571403503,
          0.4495881497859955,
          0.6928573846817017,
          0.5669460892677307,
          0.5402789115905762,
          0.14165523648262024,
          0.5695472359657288,
          0.5550058484077454,
          0.5763011574745178,
          0.6410950422286987,
          0.4954865872859955,
          0.6857589483261108,
          0.5003016591072083,
          0.709459662437439,
          0.3495258688926697,
          0.6519538164138794
         ],
         "yaxis": "y"
        },
        {
         "hovertemplate": "<b>OLS trendline</b><br>predicted = 0.191008 * true + 0.435911<br>R<sup>2</sup>=0.075852<br><br>tag=gru<br>true=%{x}<br>predicted=%{y} <b>(trend)</b><extra></extra>",
         "legendgroup": "gru",
         "marker": {
          "color": "#636efa",
          "symbol": "circle"
         },
         "mode": "lines",
         "name": "gru",
         "showlegend": false,
         "type": "scatter",
         "x": [
          0.12903225421905518,
          0.16129031777381897,
          0.16129031777381897,
          0.19354838132858276,
          0.29032257199287415,
          0.29032257199287415,
          0.32258063554763794,
          0.32258063554763794,
          0.35483869910240173,
          0.35483869910240173,
          0.3870967626571655,
          0.3870967626571655,
          0.4193548262119293,
          0.4193548262119293,
          0.4516128897666931,
          0.4516128897666931,
          0.4516128897666931,
          0.4516128897666931,
          0.4516128897666931,
          0.4516128897666931,
          0.4838709533214569,
          0.4838709533214569,
          0.4838709533214569,
          0.4838709533214569,
          0.4838709533214569,
          0.4838709533214569,
          0.5161290168762207,
          0.5161290168762207,
          0.5161290168762207,
          0.5161290168762207,
          0.5161290168762207,
          0.5161290168762207,
          0.5483871102333069,
          0.5483871102333069,
          0.5483871102333069,
          0.5806451439857483,
          0.5806451439857483,
          0.5806451439857483,
          0.5806451439857483,
          0.5806451439857483,
          0.5806451439857483,
          0.5806451439857483,
          0.5806451439857483,
          0.5806451439857483,
          0.6129032373428345,
          0.6129032373428345,
          0.6129032373428345,
          0.6129032373428345,
          0.6451612710952759,
          0.6451612710952759,
          0.6451612710952759,
          0.6451612710952759,
          0.6774193644523621,
          0.6774193644523621,
          0.6774193644523621,
          0.6774193644523621,
          0.6774193644523621,
          0.7096773982048035,
          0.7096773982048035,
          0.7096773982048035,
          0.7096773982048035,
          0.7419354915618896,
          0.7419354915618896,
          0.7419354915618896,
          0.7419354915618896,
          0.7419354915618896,
          0.774193525314331,
          0.774193525314331,
          0.774193525314331,
          0.8064516186714172,
          0.8064516186714172,
          0.8387096524238586,
          0.8387096524238586,
          0.8709677457809448,
          0.8709677457809448,
          1
         ],
         "xaxis": "x",
         "y": [
          0.4605573417286563,
          0.4667188977348146,
          0.4667188977348146,
          0.47288045374097293,
          0.4913651217594479,
          0.4913651217594479,
          0.4975266777656062,
          0.4975266777656062,
          0.5036882337717645,
          0.5036882337717645,
          0.5098497897779228,
          0.5098497897779228,
          0.5160113457840811,
          0.5160113457840811,
          0.5221729017902395,
          0.5221729017902395,
          0.5221729017902395,
          0.5221729017902395,
          0.5221729017902395,
          0.5221729017902395,
          0.5283344577963978,
          0.5283344577963978,
          0.5283344577963978,
          0.5283344577963978,
          0.5283344577963978,
          0.5283344577963978,
          0.5344960138025561,
          0.5344960138025561,
          0.5344960138025561,
          0.5344960138025561,
          0.5344960138025561,
          0.5344960138025561,
          0.5406575755012036,
          0.5406575755012036,
          0.5406575755012036,
          0.5468191258148728,
          0.5468191258148728,
          0.5468191258148728,
          0.5468191258148728,
          0.5468191258148728,
          0.5468191258148728,
          0.5468191258148728,
          0.5468191258148728,
          0.5468191258148728,
          0.5529806875135203,
          0.5529806875135203,
          0.5529806875135203,
          0.5529806875135203,
          0.5591422378271894,
          0.5591422378271894,
          0.5591422378271894,
          0.5591422378271894,
          0.5653037995258369,
          0.5653037995258369,
          0.5653037995258369,
          0.5653037995258369,
          0.5653037995258369,
          0.571465349839506,
          0.571465349839506,
          0.571465349839506,
          0.571465349839506,
          0.5776269115381536,
          0.5776269115381536,
          0.5776269115381536,
          0.5776269115381536,
          0.5776269115381536,
          0.5837884618518226,
          0.5837884618518226,
          0.5837884618518226,
          0.5899500235504702,
          0.5899500235504702,
          0.5961115738641393,
          0.5961115738641393,
          0.6022731355627868,
          0.6022731355627868,
          0.6269193595874201
         ],
         "yaxis": "y"
        }
       ],
       "layout": {
        "font": {
         "color": "black"
        },
        "height": 400,
        "legend": {
         "font": {
          "size": 20
         },
         "title": {
          "text": "tag"
         },
         "tracegroupgap": 0
        },
        "margin": {
         "t": 60
        },
        "template": {
         "data": {
          "bar": [
           {
            "error_x": {
             "color": "#2a3f5f"
            },
            "error_y": {
             "color": "#2a3f5f"
            },
            "marker": {
             "line": {
              "color": "white",
              "width": 0.5
             }
            },
            "type": "bar"
           }
          ],
          "barpolar": [
           {
            "marker": {
             "line": {
              "color": "white",
              "width": 0.5
             }
            },
            "type": "barpolar"
           }
          ],
          "carpet": [
           {
            "aaxis": {
             "endlinecolor": "#2a3f5f",
             "gridcolor": "#C8D4E3",
             "linecolor": "#C8D4E3",
             "minorgridcolor": "#C8D4E3",
             "startlinecolor": "#2a3f5f"
            },
            "baxis": {
             "endlinecolor": "#2a3f5f",
             "gridcolor": "#C8D4E3",
             "linecolor": "#C8D4E3",
             "minorgridcolor": "#C8D4E3",
             "startlinecolor": "#2a3f5f"
            },
            "type": "carpet"
           }
          ],
          "choropleth": [
           {
            "colorbar": {
             "outlinewidth": 0,
             "ticks": ""
            },
            "type": "choropleth"
           }
          ],
          "contour": [
           {
            "colorbar": {
             "outlinewidth": 0,
             "ticks": ""
            },
            "colorscale": [
             [
              0,
              "#0d0887"
             ],
             [
              0.1111111111111111,
              "#46039f"
             ],
             [
              0.2222222222222222,
              "#7201a8"
             ],
             [
              0.3333333333333333,
              "#9c179e"
             ],
             [
              0.4444444444444444,
              "#bd3786"
             ],
             [
              0.5555555555555556,
              "#d8576b"
             ],
             [
              0.6666666666666666,
              "#ed7953"
             ],
             [
              0.7777777777777778,
              "#fb9f3a"
             ],
             [
              0.8888888888888888,
              "#fdca26"
             ],
             [
              1,
              "#f0f921"
             ]
            ],
            "type": "contour"
           }
          ],
          "contourcarpet": [
           {
            "colorbar": {
             "outlinewidth": 0,
             "ticks": ""
            },
            "type": "contourcarpet"
           }
          ],
          "heatmap": [
           {
            "colorbar": {
             "outlinewidth": 0,
             "ticks": ""
            },
            "colorscale": [
             [
              0,
              "#0d0887"
             ],
             [
              0.1111111111111111,
              "#46039f"
             ],
             [
              0.2222222222222222,
              "#7201a8"
             ],
             [
              0.3333333333333333,
              "#9c179e"
             ],
             [
              0.4444444444444444,
              "#bd3786"
             ],
             [
              0.5555555555555556,
              "#d8576b"
             ],
             [
              0.6666666666666666,
              "#ed7953"
             ],
             [
              0.7777777777777778,
              "#fb9f3a"
             ],
             [
              0.8888888888888888,
              "#fdca26"
             ],
             [
              1,
              "#f0f921"
             ]
            ],
            "type": "heatmap"
           }
          ],
          "heatmapgl": [
           {
            "colorbar": {
             "outlinewidth": 0,
             "ticks": ""
            },
            "colorscale": [
             [
              0,
              "#0d0887"
             ],
             [
              0.1111111111111111,
              "#46039f"
             ],
             [
              0.2222222222222222,
              "#7201a8"
             ],
             [
              0.3333333333333333,
              "#9c179e"
             ],
             [
              0.4444444444444444,
              "#bd3786"
             ],
             [
              0.5555555555555556,
              "#d8576b"
             ],
             [
              0.6666666666666666,
              "#ed7953"
             ],
             [
              0.7777777777777778,
              "#fb9f3a"
             ],
             [
              0.8888888888888888,
              "#fdca26"
             ],
             [
              1,
              "#f0f921"
             ]
            ],
            "type": "heatmapgl"
           }
          ],
          "histogram": [
           {
            "marker": {
             "colorbar": {
              "outlinewidth": 0,
              "ticks": ""
             }
            },
            "type": "histogram"
           }
          ],
          "histogram2d": [
           {
            "colorbar": {
             "outlinewidth": 0,
             "ticks": ""
            },
            "colorscale": [
             [
              0,
              "#0d0887"
             ],
             [
              0.1111111111111111,
              "#46039f"
             ],
             [
              0.2222222222222222,
              "#7201a8"
             ],
             [
              0.3333333333333333,
              "#9c179e"
             ],
             [
              0.4444444444444444,
              "#bd3786"
             ],
             [
              0.5555555555555556,
              "#d8576b"
             ],
             [
              0.6666666666666666,
              "#ed7953"
             ],
             [
              0.7777777777777778,
              "#fb9f3a"
             ],
             [
              0.8888888888888888,
              "#fdca26"
             ],
             [
              1,
              "#f0f921"
             ]
            ],
            "type": "histogram2d"
           }
          ],
          "histogram2dcontour": [
           {
            "colorbar": {
             "outlinewidth": 0,
             "ticks": ""
            },
            "colorscale": [
             [
              0,
              "#0d0887"
             ],
             [
              0.1111111111111111,
              "#46039f"
             ],
             [
              0.2222222222222222,
              "#7201a8"
             ],
             [
              0.3333333333333333,
              "#9c179e"
             ],
             [
              0.4444444444444444,
              "#bd3786"
             ],
             [
              0.5555555555555556,
              "#d8576b"
             ],
             [
              0.6666666666666666,
              "#ed7953"
             ],
             [
              0.7777777777777778,
              "#fb9f3a"
             ],
             [
              0.8888888888888888,
              "#fdca26"
             ],
             [
              1,
              "#f0f921"
             ]
            ],
            "type": "histogram2dcontour"
           }
          ],
          "mesh3d": [
           {
            "colorbar": {
             "outlinewidth": 0,
             "ticks": ""
            },
            "type": "mesh3d"
           }
          ],
          "parcoords": [
           {
            "line": {
             "colorbar": {
              "outlinewidth": 0,
              "ticks": ""
             }
            },
            "type": "parcoords"
           }
          ],
          "pie": [
           {
            "automargin": true,
            "type": "pie"
           }
          ],
          "scatter": [
           {
            "marker": {
             "colorbar": {
              "outlinewidth": 0,
              "ticks": ""
             }
            },
            "type": "scatter"
           }
          ],
          "scatter3d": [
           {
            "line": {
             "colorbar": {
              "outlinewidth": 0,
              "ticks": ""
             }
            },
            "marker": {
             "colorbar": {
              "outlinewidth": 0,
              "ticks": ""
             }
            },
            "type": "scatter3d"
           }
          ],
          "scattercarpet": [
           {
            "marker": {
             "colorbar": {
              "outlinewidth": 0,
              "ticks": ""
             }
            },
            "type": "scattercarpet"
           }
          ],
          "scattergeo": [
           {
            "marker": {
             "colorbar": {
              "outlinewidth": 0,
              "ticks": ""
             }
            },
            "type": "scattergeo"
           }
          ],
          "scattergl": [
           {
            "marker": {
             "colorbar": {
              "outlinewidth": 0,
              "ticks": ""
             }
            },
            "type": "scattergl"
           }
          ],
          "scattermapbox": [
           {
            "marker": {
             "colorbar": {
              "outlinewidth": 0,
              "ticks": ""
             }
            },
            "type": "scattermapbox"
           }
          ],
          "scatterpolar": [
           {
            "marker": {
             "colorbar": {
              "outlinewidth": 0,
              "ticks": ""
             }
            },
            "type": "scatterpolar"
           }
          ],
          "scatterpolargl": [
           {
            "marker": {
             "colorbar": {
              "outlinewidth": 0,
              "ticks": ""
             }
            },
            "type": "scatterpolargl"
           }
          ],
          "scatterternary": [
           {
            "marker": {
             "colorbar": {
              "outlinewidth": 0,
              "ticks": ""
             }
            },
            "type": "scatterternary"
           }
          ],
          "surface": [
           {
            "colorbar": {
             "outlinewidth": 0,
             "ticks": ""
            },
            "colorscale": [
             [
              0,
              "#0d0887"
             ],
             [
              0.1111111111111111,
              "#46039f"
             ],
             [
              0.2222222222222222,
              "#7201a8"
             ],
             [
              0.3333333333333333,
              "#9c179e"
             ],
             [
              0.4444444444444444,
              "#bd3786"
             ],
             [
              0.5555555555555556,
              "#d8576b"
             ],
             [
              0.6666666666666666,
              "#ed7953"
             ],
             [
              0.7777777777777778,
              "#fb9f3a"
             ],
             [
              0.8888888888888888,
              "#fdca26"
             ],
             [
              1,
              "#f0f921"
             ]
            ],
            "type": "surface"
           }
          ],
          "table": [
           {
            "cells": {
             "fill": {
              "color": "#EBF0F8"
             },
             "line": {
              "color": "white"
             }
            },
            "header": {
             "fill": {
              "color": "#C8D4E3"
             },
             "line": {
              "color": "white"
             }
            },
            "type": "table"
           }
          ]
         },
         "layout": {
          "annotationdefaults": {
           "arrowcolor": "#2a3f5f",
           "arrowhead": 0,
           "arrowwidth": 1
          },
          "coloraxis": {
           "colorbar": {
            "outlinewidth": 0,
            "ticks": ""
           }
          },
          "colorscale": {
           "diverging": [
            [
             0,
             "#8e0152"
            ],
            [
             0.1,
             "#c51b7d"
            ],
            [
             0.2,
             "#de77ae"
            ],
            [
             0.3,
             "#f1b6da"
            ],
            [
             0.4,
             "#fde0ef"
            ],
            [
             0.5,
             "#f7f7f7"
            ],
            [
             0.6,
             "#e6f5d0"
            ],
            [
             0.7,
             "#b8e186"
            ],
            [
             0.8,
             "#7fbc41"
            ],
            [
             0.9,
             "#4d9221"
            ],
            [
             1,
             "#276419"
            ]
           ],
           "sequential": [
            [
             0,
             "#0d0887"
            ],
            [
             0.1111111111111111,
             "#46039f"
            ],
            [
             0.2222222222222222,
             "#7201a8"
            ],
            [
             0.3333333333333333,
             "#9c179e"
            ],
            [
             0.4444444444444444,
             "#bd3786"
            ],
            [
             0.5555555555555556,
             "#d8576b"
            ],
            [
             0.6666666666666666,
             "#ed7953"
            ],
            [
             0.7777777777777778,
             "#fb9f3a"
            ],
            [
             0.8888888888888888,
             "#fdca26"
            ],
            [
             1,
             "#f0f921"
            ]
           ],
           "sequentialminus": [
            [
             0,
             "#0d0887"
            ],
            [
             0.1111111111111111,
             "#46039f"
            ],
            [
             0.2222222222222222,
             "#7201a8"
            ],
            [
             0.3333333333333333,
             "#9c179e"
            ],
            [
             0.4444444444444444,
             "#bd3786"
            ],
            [
             0.5555555555555556,
             "#d8576b"
            ],
            [
             0.6666666666666666,
             "#ed7953"
            ],
            [
             0.7777777777777778,
             "#fb9f3a"
            ],
            [
             0.8888888888888888,
             "#fdca26"
            ],
            [
             1,
             "#f0f921"
            ]
           ]
          },
          "colorway": [
           "#636efa",
           "#EF553B",
           "#00cc96",
           "#ab63fa",
           "#FFA15A",
           "#19d3f3",
           "#FF6692",
           "#B6E880",
           "#FF97FF",
           "#FECB52"
          ],
          "font": {
           "color": "#2a3f5f"
          },
          "geo": {
           "bgcolor": "white",
           "lakecolor": "white",
           "landcolor": "white",
           "showlakes": true,
           "showland": true,
           "subunitcolor": "#C8D4E3"
          },
          "hoverlabel": {
           "align": "left"
          },
          "hovermode": "closest",
          "mapbox": {
           "style": "light"
          },
          "paper_bgcolor": "white",
          "plot_bgcolor": "white",
          "polar": {
           "angularaxis": {
            "gridcolor": "#EBF0F8",
            "linecolor": "#EBF0F8",
            "ticks": ""
           },
           "bgcolor": "white",
           "radialaxis": {
            "gridcolor": "#EBF0F8",
            "linecolor": "#EBF0F8",
            "ticks": ""
           }
          },
          "scene": {
           "xaxis": {
            "backgroundcolor": "white",
            "gridcolor": "#DFE8F3",
            "gridwidth": 2,
            "linecolor": "#EBF0F8",
            "showbackground": true,
            "ticks": "",
            "zerolinecolor": "#EBF0F8"
           },
           "yaxis": {
            "backgroundcolor": "white",
            "gridcolor": "#DFE8F3",
            "gridwidth": 2,
            "linecolor": "#EBF0F8",
            "showbackground": true,
            "ticks": "",
            "zerolinecolor": "#EBF0F8"
           },
           "zaxis": {
            "backgroundcolor": "white",
            "gridcolor": "#DFE8F3",
            "gridwidth": 2,
            "linecolor": "#EBF0F8",
            "showbackground": true,
            "ticks": "",
            "zerolinecolor": "#EBF0F8"
           }
          },
          "shapedefaults": {
           "line": {
            "color": "#2a3f5f"
           }
          },
          "ternary": {
           "aaxis": {
            "gridcolor": "#DFE8F3",
            "linecolor": "#A2B1C6",
            "ticks": ""
           },
           "baxis": {
            "gridcolor": "#DFE8F3",
            "linecolor": "#A2B1C6",
            "ticks": ""
           },
           "bgcolor": "white",
           "caxis": {
            "gridcolor": "#DFE8F3",
            "linecolor": "#A2B1C6",
            "ticks": ""
           }
          },
          "title": {
           "x": 0.05
          },
          "xaxis": {
           "automargin": true,
           "gridcolor": "#EBF0F8",
           "linecolor": "#EBF0F8",
           "ticks": "",
           "title": {
            "standoff": 15
           },
           "zerolinecolor": "#EBF0F8",
           "zerolinewidth": 2
          },
          "yaxis": {
           "automargin": true,
           "gridcolor": "#EBF0F8",
           "linecolor": "#EBF0F8",
           "ticks": "",
           "title": {
            "standoff": 15
           },
           "zerolinecolor": "#EBF0F8",
           "zerolinewidth": 2
          }
         }
        },
        "title": {
         "text": "NEOFAC_C"
        },
        "width": 480,
        "xaxis": {
         "anchor": "y",
         "domain": [
          0,
          1
         ],
         "dtick": 0.2,
         "tickfont": {
          "size": 20
         },
         "title": {
          "font": {
           "size": 20
          },
          "text": "True"
         }
        },
        "yaxis": {
         "anchor": "x",
         "domain": [
          0,
          1
         ],
         "dtick": 0.2,
         "tickfont": {
          "size": 20
         },
         "title": {
          "font": {
           "size": 20
          },
          "text": "Predicted"
         }
        }
       }
      },
      "text/html": [
       "<div>\n",
       "        \n",
       "        \n",
       "            <div id=\"d277f890-2287-4411-9f87-7338cb625a3c\" class=\"plotly-graph-div\" style=\"height:400px; width:480px;\"></div>\n",
       "            <script type=\"text/javascript\">\n",
       "                require([\"plotly\"], function(Plotly) {\n",
       "                    window.PLOTLYENV=window.PLOTLYENV || {};\n",
       "                    \n",
       "                if (document.getElementById(\"d277f890-2287-4411-9f87-7338cb625a3c\")) {\n",
       "                    Plotly.newPlot(\n",
       "                        'd277f890-2287-4411-9f87-7338cb625a3c',\n",
       "                        [{\"hovertemplate\": \"tag=gru<br>true=%{x}<br>predicted=%{y}<extra></extra>\", \"legendgroup\": \"gru\", \"marker\": {\"color\": \"#636efa\", \"symbol\": \"circle\"}, \"mode\": \"markers\", \"name\": \"gru\", \"showlegend\": true, \"type\": \"scatter\", \"x\": [0.5161290168762207, 0.32258063554763794, 0.5806451439857483, 0.8387096524238586, 0.6774193644523621, 0.5806451439857483, 0.8387096524238586, 0.4838709533214569, 0.16129031777381897, 0.6451612710952759, 0.35483869910240173, 0.5806451439857483, 0.7419354915618896, 0.8709677457809448, 0.5161290168762207, 0.5483871102333069, 0.6451612710952759, 0.4838709533214569, 0.6451612710952759, 0.29032257199287415, 0.7419354915618896, 0.6129032373428345, 0.7096773982048035, 0.8709677457809448, 0.5806451439857483, 0.6129032373428345, 0.3870967626571655, 0.3870967626571655, 0.6129032373428345, 0.12903225421905518, 0.4516128897666931, 1.0, 0.19354838132858276, 0.7096773982048035, 0.5806451439857483, 0.4516128897666931, 0.774193525314331, 0.7096773982048035, 0.4193548262119293, 0.5806451439857483, 0.7419354915618896, 0.6774193644523621, 0.4838709533214569, 0.4516128897666931, 0.29032257199287415, 0.8064516186714172, 0.5806451439857483, 0.4193548262119293, 0.5806451439857483, 0.4516128897666931, 0.5806451439857483, 0.5161290168762207, 0.7096773982048035, 0.35483869910240173, 0.5161290168762207, 0.5483871102333069, 0.8064516186714172, 0.4516128897666931, 0.6774193644523621, 0.5161290168762207, 0.4838709533214569, 0.4838709533214569, 0.7419354915618896, 0.6774193644523621, 0.4516128897666931, 0.32258063554763794, 0.5483871102333069, 0.4838709533214569, 0.6774193644523621, 0.774193525314331, 0.5161290168762207, 0.7419354915618896, 0.16129031777381897, 0.6129032373428345, 0.6451612710952759, 0.774193525314331], \"xaxis\": \"x\", \"y\": [0.5328826904296875, 0.7080332636833191, 0.5413123965263367, 0.6310799717903137, 0.4120277464389801, 0.7226546406745911, 0.6029729247093201, 0.7584335803985596, 0.5886150002479553, 0.23899155855178833, 0.495869517326355, 0.46607840061187744, 0.7112739086151123, 0.5788538455963135, 0.44856056571006775, 0.6760477423667908, 0.7516788244247437, 0.4455123841762543, 0.5940806269645691, 0.38637086749076843, 0.5074451565742493, 0.6261320114135742, 0.5504000186920166, 0.4930140972137451, 0.6512049436569214, 0.7026063203811646, 0.5997292399406433, 0.45256179571151733, 0.6008224487304688, 0.5951826572418213, 0.4234684109687805, 0.6443617939949036, 0.5855369567871094, 0.7276293635368347, 0.606060802936554, 0.4792504906654358, 0.5937759280204773, 0.527248740196228, 0.4648410677909851, 0.5831847786903381, 0.5934493541717529, 0.29514822363853455, 0.37301409244537354, 0.48106029629707336, 0.2581152319908142, 0.6581926941871643, 0.3855641782283783, 0.3816540837287903, 0.45036938786506653, 0.6337902545928955, 0.6240001320838928, 0.49487966299057007, 0.47485560178756714, 0.549763023853302, 0.6028597950935364, 0.6891977190971375, 0.5213471055030823, 0.5037488341331482, 0.5438436269760132, 0.4339599609375, 0.5807215571403503, 0.4495881497859955, 0.6928573846817017, 0.5669460892677307, 0.5402789115905762, 0.14165523648262024, 0.5695472359657288, 0.5550058484077454, 0.5763011574745178, 0.6410950422286987, 0.4954865872859955, 0.6857589483261108, 0.5003016591072083, 0.709459662437439, 0.3495258688926697, 0.6519538164138794], \"yaxis\": \"y\"}, {\"hovertemplate\": \"<b>OLS trendline</b><br>predicted = 0.191008 * true + 0.435911<br>R<sup>2</sup>=0.075852<br><br>tag=gru<br>true=%{x}<br>predicted=%{y} <b>(trend)</b><extra></extra>\", \"legendgroup\": \"gru\", \"marker\": {\"color\": \"#636efa\", \"symbol\": \"circle\"}, \"mode\": \"lines\", \"name\": \"gru\", \"showlegend\": false, \"type\": \"scatter\", \"x\": [0.12903225421905518, 0.16129031777381897, 0.16129031777381897, 0.19354838132858276, 0.29032257199287415, 0.29032257199287415, 0.32258063554763794, 0.32258063554763794, 0.35483869910240173, 0.35483869910240173, 0.3870967626571655, 0.3870967626571655, 0.4193548262119293, 0.4193548262119293, 0.4516128897666931, 0.4516128897666931, 0.4516128897666931, 0.4516128897666931, 0.4516128897666931, 0.4516128897666931, 0.4838709533214569, 0.4838709533214569, 0.4838709533214569, 0.4838709533214569, 0.4838709533214569, 0.4838709533214569, 0.5161290168762207, 0.5161290168762207, 0.5161290168762207, 0.5161290168762207, 0.5161290168762207, 0.5161290168762207, 0.5483871102333069, 0.5483871102333069, 0.5483871102333069, 0.5806451439857483, 0.5806451439857483, 0.5806451439857483, 0.5806451439857483, 0.5806451439857483, 0.5806451439857483, 0.5806451439857483, 0.5806451439857483, 0.5806451439857483, 0.6129032373428345, 0.6129032373428345, 0.6129032373428345, 0.6129032373428345, 0.6451612710952759, 0.6451612710952759, 0.6451612710952759, 0.6451612710952759, 0.6774193644523621, 0.6774193644523621, 0.6774193644523621, 0.6774193644523621, 0.6774193644523621, 0.7096773982048035, 0.7096773982048035, 0.7096773982048035, 0.7096773982048035, 0.7419354915618896, 0.7419354915618896, 0.7419354915618896, 0.7419354915618896, 0.7419354915618896, 0.774193525314331, 0.774193525314331, 0.774193525314331, 0.8064516186714172, 0.8064516186714172, 0.8387096524238586, 0.8387096524238586, 0.8709677457809448, 0.8709677457809448, 1.0], \"xaxis\": \"x\", \"y\": [0.4605573417286563, 0.4667188977348146, 0.4667188977348146, 0.47288045374097293, 0.4913651217594479, 0.4913651217594479, 0.4975266777656062, 0.4975266777656062, 0.5036882337717645, 0.5036882337717645, 0.5098497897779228, 0.5098497897779228, 0.5160113457840811, 0.5160113457840811, 0.5221729017902395, 0.5221729017902395, 0.5221729017902395, 0.5221729017902395, 0.5221729017902395, 0.5221729017902395, 0.5283344577963978, 0.5283344577963978, 0.5283344577963978, 0.5283344577963978, 0.5283344577963978, 0.5283344577963978, 0.5344960138025561, 0.5344960138025561, 0.5344960138025561, 0.5344960138025561, 0.5344960138025561, 0.5344960138025561, 0.5406575755012036, 0.5406575755012036, 0.5406575755012036, 0.5468191258148728, 0.5468191258148728, 0.5468191258148728, 0.5468191258148728, 0.5468191258148728, 0.5468191258148728, 0.5468191258148728, 0.5468191258148728, 0.5468191258148728, 0.5529806875135203, 0.5529806875135203, 0.5529806875135203, 0.5529806875135203, 0.5591422378271894, 0.5591422378271894, 0.5591422378271894, 0.5591422378271894, 0.5653037995258369, 0.5653037995258369, 0.5653037995258369, 0.5653037995258369, 0.5653037995258369, 0.571465349839506, 0.571465349839506, 0.571465349839506, 0.571465349839506, 0.5776269115381536, 0.5776269115381536, 0.5776269115381536, 0.5776269115381536, 0.5776269115381536, 0.5837884618518226, 0.5837884618518226, 0.5837884618518226, 0.5899500235504702, 0.5899500235504702, 0.5961115738641393, 0.5961115738641393, 0.6022731355627868, 0.6022731355627868, 0.6269193595874201], \"yaxis\": \"y\"}],\n",
       "                        {\"font\": {\"color\": \"black\"}, \"height\": 400, \"legend\": {\"font\": {\"size\": 20}, \"title\": {\"text\": \"tag\"}, \"tracegroupgap\": 0}, \"margin\": {\"t\": 60}, \"template\": {\"data\": {\"bar\": [{\"error_x\": {\"color\": \"#2a3f5f\"}, \"error_y\": {\"color\": \"#2a3f5f\"}, \"marker\": {\"line\": {\"color\": \"white\", \"width\": 0.5}}, \"type\": \"bar\"}], \"barpolar\": [{\"marker\": {\"line\": {\"color\": \"white\", \"width\": 0.5}}, \"type\": \"barpolar\"}], \"carpet\": [{\"aaxis\": {\"endlinecolor\": \"#2a3f5f\", \"gridcolor\": \"#C8D4E3\", \"linecolor\": \"#C8D4E3\", \"minorgridcolor\": \"#C8D4E3\", \"startlinecolor\": \"#2a3f5f\"}, \"baxis\": {\"endlinecolor\": \"#2a3f5f\", \"gridcolor\": \"#C8D4E3\", \"linecolor\": \"#C8D4E3\", \"minorgridcolor\": \"#C8D4E3\", \"startlinecolor\": \"#2a3f5f\"}, \"type\": \"carpet\"}], \"choropleth\": [{\"colorbar\": {\"outlinewidth\": 0, \"ticks\": \"\"}, \"type\": \"choropleth\"}], \"contour\": [{\"colorbar\": {\"outlinewidth\": 0, \"ticks\": \"\"}, \"colorscale\": [[0.0, \"#0d0887\"], [0.1111111111111111, \"#46039f\"], [0.2222222222222222, \"#7201a8\"], [0.3333333333333333, \"#9c179e\"], [0.4444444444444444, \"#bd3786\"], [0.5555555555555556, \"#d8576b\"], [0.6666666666666666, \"#ed7953\"], [0.7777777777777778, \"#fb9f3a\"], [0.8888888888888888, \"#fdca26\"], [1.0, \"#f0f921\"]], \"type\": \"contour\"}], \"contourcarpet\": [{\"colorbar\": {\"outlinewidth\": 0, \"ticks\": \"\"}, \"type\": \"contourcarpet\"}], \"heatmap\": [{\"colorbar\": {\"outlinewidth\": 0, \"ticks\": \"\"}, \"colorscale\": [[0.0, \"#0d0887\"], [0.1111111111111111, \"#46039f\"], [0.2222222222222222, \"#7201a8\"], [0.3333333333333333, \"#9c179e\"], [0.4444444444444444, \"#bd3786\"], [0.5555555555555556, \"#d8576b\"], [0.6666666666666666, \"#ed7953\"], [0.7777777777777778, \"#fb9f3a\"], [0.8888888888888888, \"#fdca26\"], [1.0, \"#f0f921\"]], \"type\": \"heatmap\"}], \"heatmapgl\": [{\"colorbar\": {\"outlinewidth\": 0, \"ticks\": \"\"}, \"colorscale\": [[0.0, \"#0d0887\"], [0.1111111111111111, \"#46039f\"], [0.2222222222222222, \"#7201a8\"], [0.3333333333333333, \"#9c179e\"], [0.4444444444444444, \"#bd3786\"], [0.5555555555555556, \"#d8576b\"], [0.6666666666666666, \"#ed7953\"], [0.7777777777777778, \"#fb9f3a\"], [0.8888888888888888, \"#fdca26\"], [1.0, \"#f0f921\"]], \"type\": \"heatmapgl\"}], \"histogram\": [{\"marker\": {\"colorbar\": {\"outlinewidth\": 0, \"ticks\": \"\"}}, \"type\": \"histogram\"}], \"histogram2d\": [{\"colorbar\": {\"outlinewidth\": 0, \"ticks\": \"\"}, \"colorscale\": [[0.0, \"#0d0887\"], [0.1111111111111111, \"#46039f\"], [0.2222222222222222, \"#7201a8\"], [0.3333333333333333, \"#9c179e\"], [0.4444444444444444, \"#bd3786\"], [0.5555555555555556, \"#d8576b\"], [0.6666666666666666, \"#ed7953\"], [0.7777777777777778, \"#fb9f3a\"], [0.8888888888888888, \"#fdca26\"], [1.0, \"#f0f921\"]], \"type\": \"histogram2d\"}], \"histogram2dcontour\": [{\"colorbar\": {\"outlinewidth\": 0, \"ticks\": \"\"}, \"colorscale\": [[0.0, \"#0d0887\"], [0.1111111111111111, \"#46039f\"], [0.2222222222222222, \"#7201a8\"], [0.3333333333333333, \"#9c179e\"], [0.4444444444444444, \"#bd3786\"], [0.5555555555555556, \"#d8576b\"], [0.6666666666666666, \"#ed7953\"], [0.7777777777777778, \"#fb9f3a\"], [0.8888888888888888, \"#fdca26\"], [1.0, \"#f0f921\"]], \"type\": \"histogram2dcontour\"}], \"mesh3d\": [{\"colorbar\": {\"outlinewidth\": 0, \"ticks\": \"\"}, \"type\": \"mesh3d\"}], \"parcoords\": [{\"line\": {\"colorbar\": {\"outlinewidth\": 0, \"ticks\": \"\"}}, \"type\": \"parcoords\"}], \"pie\": [{\"automargin\": true, \"type\": \"pie\"}], \"scatter\": [{\"marker\": {\"colorbar\": {\"outlinewidth\": 0, \"ticks\": \"\"}}, \"type\": \"scatter\"}], \"scatter3d\": [{\"line\": {\"colorbar\": {\"outlinewidth\": 0, \"ticks\": \"\"}}, \"marker\": {\"colorbar\": {\"outlinewidth\": 0, \"ticks\": \"\"}}, \"type\": \"scatter3d\"}], \"scattercarpet\": [{\"marker\": {\"colorbar\": {\"outlinewidth\": 0, \"ticks\": \"\"}}, \"type\": \"scattercarpet\"}], \"scattergeo\": [{\"marker\": {\"colorbar\": {\"outlinewidth\": 0, \"ticks\": \"\"}}, \"type\": \"scattergeo\"}], \"scattergl\": [{\"marker\": {\"colorbar\": {\"outlinewidth\": 0, \"ticks\": \"\"}}, \"type\": \"scattergl\"}], \"scattermapbox\": [{\"marker\": {\"colorbar\": {\"outlinewidth\": 0, \"ticks\": \"\"}}, \"type\": \"scattermapbox\"}], \"scatterpolar\": [{\"marker\": {\"colorbar\": {\"outlinewidth\": 0, \"ticks\": \"\"}}, \"type\": \"scatterpolar\"}], \"scatterpolargl\": [{\"marker\": {\"colorbar\": {\"outlinewidth\": 0, \"ticks\": \"\"}}, \"type\": \"scatterpolargl\"}], \"scatterternary\": [{\"marker\": {\"colorbar\": {\"outlinewidth\": 0, \"ticks\": \"\"}}, \"type\": \"scatterternary\"}], \"surface\": [{\"colorbar\": {\"outlinewidth\": 0, \"ticks\": \"\"}, \"colorscale\": [[0.0, \"#0d0887\"], [0.1111111111111111, \"#46039f\"], [0.2222222222222222, \"#7201a8\"], [0.3333333333333333, \"#9c179e\"], [0.4444444444444444, \"#bd3786\"], [0.5555555555555556, \"#d8576b\"], [0.6666666666666666, \"#ed7953\"], [0.7777777777777778, \"#fb9f3a\"], [0.8888888888888888, \"#fdca26\"], [1.0, \"#f0f921\"]], \"type\": \"surface\"}], \"table\": [{\"cells\": {\"fill\": {\"color\": \"#EBF0F8\"}, \"line\": {\"color\": \"white\"}}, \"header\": {\"fill\": {\"color\": \"#C8D4E3\"}, \"line\": {\"color\": \"white\"}}, \"type\": \"table\"}]}, \"layout\": {\"annotationdefaults\": {\"arrowcolor\": \"#2a3f5f\", \"arrowhead\": 0, \"arrowwidth\": 1}, \"coloraxis\": {\"colorbar\": {\"outlinewidth\": 0, \"ticks\": \"\"}}, \"colorscale\": {\"diverging\": [[0, \"#8e0152\"], [0.1, \"#c51b7d\"], [0.2, \"#de77ae\"], [0.3, \"#f1b6da\"], [0.4, \"#fde0ef\"], [0.5, \"#f7f7f7\"], [0.6, \"#e6f5d0\"], [0.7, \"#b8e186\"], [0.8, \"#7fbc41\"], [0.9, \"#4d9221\"], [1, \"#276419\"]], \"sequential\": [[0.0, \"#0d0887\"], [0.1111111111111111, \"#46039f\"], [0.2222222222222222, \"#7201a8\"], [0.3333333333333333, \"#9c179e\"], [0.4444444444444444, \"#bd3786\"], [0.5555555555555556, \"#d8576b\"], [0.6666666666666666, \"#ed7953\"], [0.7777777777777778, \"#fb9f3a\"], [0.8888888888888888, \"#fdca26\"], [1.0, \"#f0f921\"]], \"sequentialminus\": [[0.0, \"#0d0887\"], [0.1111111111111111, \"#46039f\"], [0.2222222222222222, \"#7201a8\"], [0.3333333333333333, \"#9c179e\"], [0.4444444444444444, \"#bd3786\"], [0.5555555555555556, \"#d8576b\"], [0.6666666666666666, \"#ed7953\"], [0.7777777777777778, \"#fb9f3a\"], [0.8888888888888888, \"#fdca26\"], [1.0, \"#f0f921\"]]}, \"colorway\": [\"#636efa\", \"#EF553B\", \"#00cc96\", \"#ab63fa\", \"#FFA15A\", \"#19d3f3\", \"#FF6692\", \"#B6E880\", \"#FF97FF\", \"#FECB52\"], \"font\": {\"color\": \"#2a3f5f\"}, \"geo\": {\"bgcolor\": \"white\", \"lakecolor\": \"white\", \"landcolor\": \"white\", \"showlakes\": true, \"showland\": true, \"subunitcolor\": \"#C8D4E3\"}, \"hoverlabel\": {\"align\": \"left\"}, \"hovermode\": \"closest\", \"mapbox\": {\"style\": \"light\"}, \"paper_bgcolor\": \"white\", \"plot_bgcolor\": \"white\", \"polar\": {\"angularaxis\": {\"gridcolor\": \"#EBF0F8\", \"linecolor\": \"#EBF0F8\", \"ticks\": \"\"}, \"bgcolor\": \"white\", \"radialaxis\": {\"gridcolor\": \"#EBF0F8\", \"linecolor\": \"#EBF0F8\", \"ticks\": \"\"}}, \"scene\": {\"xaxis\": {\"backgroundcolor\": \"white\", \"gridcolor\": \"#DFE8F3\", \"gridwidth\": 2, \"linecolor\": \"#EBF0F8\", \"showbackground\": true, \"ticks\": \"\", \"zerolinecolor\": \"#EBF0F8\"}, \"yaxis\": {\"backgroundcolor\": \"white\", \"gridcolor\": \"#DFE8F3\", \"gridwidth\": 2, \"linecolor\": \"#EBF0F8\", \"showbackground\": true, \"ticks\": \"\", \"zerolinecolor\": \"#EBF0F8\"}, \"zaxis\": {\"backgroundcolor\": \"white\", \"gridcolor\": \"#DFE8F3\", \"gridwidth\": 2, \"linecolor\": \"#EBF0F8\", \"showbackground\": true, \"ticks\": \"\", \"zerolinecolor\": \"#EBF0F8\"}}, \"shapedefaults\": {\"line\": {\"color\": \"#2a3f5f\"}}, \"ternary\": {\"aaxis\": {\"gridcolor\": \"#DFE8F3\", \"linecolor\": \"#A2B1C6\", \"ticks\": \"\"}, \"baxis\": {\"gridcolor\": \"#DFE8F3\", \"linecolor\": \"#A2B1C6\", \"ticks\": \"\"}, \"bgcolor\": \"white\", \"caxis\": {\"gridcolor\": \"#DFE8F3\", \"linecolor\": \"#A2B1C6\", \"ticks\": \"\"}}, \"title\": {\"x\": 0.05}, \"xaxis\": {\"automargin\": true, \"gridcolor\": \"#EBF0F8\", \"linecolor\": \"#EBF0F8\", \"ticks\": \"\", \"title\": {\"standoff\": 15}, \"zerolinecolor\": \"#EBF0F8\", \"zerolinewidth\": 2}, \"yaxis\": {\"automargin\": true, \"gridcolor\": \"#EBF0F8\", \"linecolor\": \"#EBF0F8\", \"ticks\": \"\", \"title\": {\"standoff\": 15}, \"zerolinecolor\": \"#EBF0F8\", \"zerolinewidth\": 2}}}, \"title\": {\"text\": \"NEOFAC_C\"}, \"width\": 480, \"xaxis\": {\"anchor\": \"y\", \"domain\": [0.0, 1.0], \"dtick\": 0.2, \"tickfont\": {\"size\": 20}, \"title\": {\"font\": {\"size\": 20}, \"text\": \"True\"}}, \"yaxis\": {\"anchor\": \"x\", \"domain\": [0.0, 1.0], \"dtick\": 0.2, \"tickfont\": {\"size\": 20}, \"title\": {\"font\": {\"size\": 20}, \"text\": \"Predicted\"}}},\n",
       "                        {\"responsive\": true}\n",
       "                    ).then(function(){\n",
       "                            \n",
       "var gd = document.getElementById('d277f890-2287-4411-9f87-7338cb625a3c');\n",
       "var x = new MutationObserver(function (mutations, observer) {{\n",
       "        var display = window.getComputedStyle(gd).display;\n",
       "        if (!display || display === 'none') {{\n",
       "            console.log([gd, 'removed!']);\n",
       "            Plotly.purge(gd);\n",
       "            observer.disconnect();\n",
       "        }}\n",
       "}});\n",
       "\n",
       "// Listen for the removal of the full notebook cells\n",
       "var notebookContainer = gd.closest('#notebook-container');\n",
       "if (notebookContainer) {{\n",
       "    x.observe(notebookContainer, {childList: true});\n",
       "}}\n",
       "\n",
       "// Listen for the clearing of the current output cell\n",
       "var outputEl = gd.closest('.output');\n",
       "if (outputEl) {{\n",
       "    x.observe(outputEl, {childList: true});\n",
       "}}\n",
       "\n",
       "                        })\n",
       "                };\n",
       "                });\n",
       "            </script>\n",
       "        </div>"
      ]
     },
     "metadata": {},
     "output_type": "display_data"
    },
    {
     "data": {
      "application/vnd.plotly.v1+json": {
       "config": {
        "plotlyServerURL": "https://plot.ly"
       },
       "data": [
        {
         "hovertemplate": "tag=gru<br>true=%{x}<br>predicted=%{y}<extra></extra>",
         "legendgroup": "gru",
         "marker": {
          "color": "#636efa",
          "symbol": "circle"
         },
         "mode": "markers",
         "name": "gru",
         "showlegend": true,
         "type": "scatter",
         "x": [
          0.21621622145175934,
          0.3513513505458832,
          0.054054055362939835,
          0.3243243098258972,
          0.29729729890823364,
          0.4864864945411682,
          0.3243243098258972,
          0.21621622145175934,
          0.7837837934494019,
          0.3243243098258972,
          0.2702702581882477,
          0.29729729890823364,
          0.29729729890823364,
          0.3243243098258972,
          0.2702702581882477,
          0.4864864945411682,
          0.2702702581882477,
          0.5135135054588318,
          0.4324324429035187,
          0.4054054021835327,
          0.3513513505458832,
          0.45945945382118225,
          0.4054054021835327,
          0.5135135054588318,
          0.5405405163764954,
          0.45945945382118225,
          0.4054054021835327,
          0.1621621549129486,
          0.2702702581882477,
          0.6216216087341309,
          0.6756756901741028,
          0.3243243098258972,
          0.2702702581882477,
          0.3513513505458832,
          0.4324324429035187,
          0.29729729890823364,
          0.18918919563293457,
          0.37837839126586914,
          0.5405405163764954,
          0.3513513505458832,
          0.18918919563293457,
          0.4054054021835327,
          0.2432432472705841,
          0.3513513505458832,
          0.6756756901741028,
          0.2432432472705841,
          0.45945945382118225,
          0.4324324429035187,
          0.13513512909412384,
          0.2702702581882477,
          0.0810810774564743,
          0.4864864945411682,
          0.3513513505458832,
          0.4324324429035187,
          0.3243243098258972,
          0.3243243098258972,
          0.2432432472705841,
          0.2702702581882477,
          0.21621622145175934,
          0.4054054021835327,
          0.29729729890823364,
          0.5945945978164673,
          0.4054054021835327,
          0.3513513505458832,
          0.3243243098258972,
          0.3243243098258972,
          0.37837839126586914,
          0.3513513505458832,
          0.027027027681469917,
          0.18918919563293457,
          0.21621622145175934,
          0.4054054021835327,
          0.5405405163764954,
          0.5405405163764954,
          0.7567567825317383,
          0.4324324429035187
         ],
         "xaxis": "x",
         "y": [
          0.47455599904060364,
          0.3321620523929596,
          0.2761947512626648,
          0.5069620013237,
          0.5416742563247681,
          0.3108856976032257,
          0.5425939559936523,
          0.6008655428886414,
          0.6061954498291016,
          0.3415120840072632,
          0.712876558303833,
          0.30183929204940796,
          0.6595333218574524,
          0.4468145966529846,
          0.34824326634407043,
          0.4267643094062805,
          0.2893265187740326,
          0.7609500288963318,
          0.6455936431884766,
          0.5899930596351624,
          0.3651340901851654,
          0.34285882115364075,
          0.35086026787757874,
          0.5511713624000549,
          0.4055643677711487,
          0.4292807877063751,
          0.1870346963405609,
          0.5656569004058838,
          0.26790204644203186,
          0.432506799697876,
          0.7138563990592957,
          0.6566720008850098,
          0.37927305698394775,
          0.4609965980052948,
          0.6278136372566223,
          0.4647258520126343,
          0.21502573788166046,
          0.4625687897205353,
          0.6837422251701355,
          0.44621342420578003,
          0.52694171667099,
          0.45079925656318665,
          0.35698390007019043,
          0.5066726803779602,
          0.7085686326026917,
          0.6634162664413452,
          0.5042632818222046,
          0.5151222348213196,
          0.36159178614616394,
          0.4375576376914978,
          0.5685662627220154,
          0.46257326006889343,
          0.5908524990081787,
          0.5924292206764221,
          0.5169079899787903,
          0.43698129057884216,
          0.5394502282142639,
          0.40774857997894287,
          0.4752497673034668,
          0.6722649931907654,
          0.5576933026313782,
          0.39476898312568665,
          0.5048832893371582,
          0.45528581738471985,
          0.4443487524986267,
          0.24607780575752258,
          0.3860158324241638,
          0.5820743441581726,
          0.4927934408187866,
          0.5659467577934265,
          0.21153989434242249,
          0.45054328441619873,
          0.6216142773628235,
          0.4829326868057251,
          0.7461585998535156,
          0.5653128027915955
         ],
         "yaxis": "y"
        },
        {
         "hovertemplate": "<b>OLS trendline</b><br>predicted = 0.294738 * true + 0.376134<br>R<sup>2</sup>=0.104628<br><br>tag=gru<br>true=%{x}<br>predicted=%{y} <b>(trend)</b><extra></extra>",
         "legendgroup": "gru",
         "marker": {
          "color": "#636efa",
          "symbol": "circle"
         },
         "mode": "lines",
         "name": "gru",
         "showlegend": false,
         "type": "scatter",
         "x": [
          0.027027027681469917,
          0.054054055362939835,
          0.0810810774564743,
          0.13513512909412384,
          0.1621621549129486,
          0.18918919563293457,
          0.18918919563293457,
          0.18918919563293457,
          0.21621622145175934,
          0.21621622145175934,
          0.21621622145175934,
          0.21621622145175934,
          0.2432432472705841,
          0.2432432472705841,
          0.2432432472705841,
          0.2702702581882477,
          0.2702702581882477,
          0.2702702581882477,
          0.2702702581882477,
          0.2702702581882477,
          0.2702702581882477,
          0.2702702581882477,
          0.29729729890823364,
          0.29729729890823364,
          0.29729729890823364,
          0.29729729890823364,
          0.29729729890823364,
          0.3243243098258972,
          0.3243243098258972,
          0.3243243098258972,
          0.3243243098258972,
          0.3243243098258972,
          0.3243243098258972,
          0.3243243098258972,
          0.3243243098258972,
          0.3243243098258972,
          0.3513513505458832,
          0.3513513505458832,
          0.3513513505458832,
          0.3513513505458832,
          0.3513513505458832,
          0.3513513505458832,
          0.3513513505458832,
          0.3513513505458832,
          0.37837839126586914,
          0.37837839126586914,
          0.4054054021835327,
          0.4054054021835327,
          0.4054054021835327,
          0.4054054021835327,
          0.4054054021835327,
          0.4054054021835327,
          0.4054054021835327,
          0.4324324429035187,
          0.4324324429035187,
          0.4324324429035187,
          0.4324324429035187,
          0.4324324429035187,
          0.45945945382118225,
          0.45945945382118225,
          0.45945945382118225,
          0.4864864945411682,
          0.4864864945411682,
          0.4864864945411682,
          0.5135135054588318,
          0.5135135054588318,
          0.5405405163764954,
          0.5405405163764954,
          0.5405405163764954,
          0.5405405163764954,
          0.5945945978164673,
          0.6216216087341309,
          0.6756756901741028,
          0.6756756901741028,
          0.7567567825317383,
          0.7837837934494019
         ],
         "xaxis": "x",
         "y": [
          0.38409996765918086,
          0.39206585382077014,
          0.40003173833538375,
          0.4159635095605786,
          0.423929395173176,
          0.4318952851777086,
          0.4318952851777086,
          0.4318952851777086,
          0.439861170790306,
          0.439861170790306,
          0.439861170790306,
          0.439861170790306,
          0.44782705640290343,
          0.44782705640290343,
          0.44782705640290343,
          0.45579293762356565,
          0.45579293762356565,
          0.45579293762356565,
          0.45579293762356565,
          0.45579293762356565,
          0.45579293762356565,
          0.45579293762356565,
          0.4637588276280982,
          0.4637588276280982,
          0.4637588276280982,
          0.4637588276280982,
          0.4637588276280982,
          0.4717247088487605,
          0.4717247088487605,
          0.4717247088487605,
          0.4717247088487605,
          0.4717247088487605,
          0.4717247088487605,
          0.4717247088487605,
          0.4717247088487605,
          0.4717247088487605,
          0.47969059885329307,
          0.47969059885329307,
          0.47969059885329307,
          0.47969059885329307,
          0.47969059885329307,
          0.47969059885329307,
          0.47969059885329307,
          0.47969059885329307,
          0.48765648885782564,
          0.48765648885782564,
          0.49562237007848786,
          0.49562237007848786,
          0.49562237007848786,
          0.49562237007848786,
          0.49562237007848786,
          0.49562237007848786,
          0.49562237007848786,
          0.5035882600830205,
          0.5035882600830205,
          0.5035882600830205,
          0.5035882600830205,
          0.5035882600830205,
          0.5115541413036827,
          0.5115541413036827,
          0.5115541413036827,
          0.5195200313082153,
          0.5195200313082153,
          0.5195200313082153,
          0.5274859125288776,
          0.5274859125288776,
          0.5354517937495398,
          0.5354517937495398,
          0.5354517937495398,
          0.5354517937495398,
          0.5513835737586049,
          0.5593494549792672,
          0.5752812349883324,
          0.5752812349883324,
          0.5991788962180598,
          0.607144777438722
         ],
         "yaxis": "y"
        }
       ],
       "layout": {
        "font": {
         "color": "black"
        },
        "height": 400,
        "legend": {
         "font": {
          "size": 20
         },
         "title": {
          "text": "tag"
         },
         "tracegroupgap": 0
        },
        "margin": {
         "t": 60
        },
        "template": {
         "data": {
          "bar": [
           {
            "error_x": {
             "color": "#2a3f5f"
            },
            "error_y": {
             "color": "#2a3f5f"
            },
            "marker": {
             "line": {
              "color": "white",
              "width": 0.5
             }
            },
            "type": "bar"
           }
          ],
          "barpolar": [
           {
            "marker": {
             "line": {
              "color": "white",
              "width": 0.5
             }
            },
            "type": "barpolar"
           }
          ],
          "carpet": [
           {
            "aaxis": {
             "endlinecolor": "#2a3f5f",
             "gridcolor": "#C8D4E3",
             "linecolor": "#C8D4E3",
             "minorgridcolor": "#C8D4E3",
             "startlinecolor": "#2a3f5f"
            },
            "baxis": {
             "endlinecolor": "#2a3f5f",
             "gridcolor": "#C8D4E3",
             "linecolor": "#C8D4E3",
             "minorgridcolor": "#C8D4E3",
             "startlinecolor": "#2a3f5f"
            },
            "type": "carpet"
           }
          ],
          "choropleth": [
           {
            "colorbar": {
             "outlinewidth": 0,
             "ticks": ""
            },
            "type": "choropleth"
           }
          ],
          "contour": [
           {
            "colorbar": {
             "outlinewidth": 0,
             "ticks": ""
            },
            "colorscale": [
             [
              0,
              "#0d0887"
             ],
             [
              0.1111111111111111,
              "#46039f"
             ],
             [
              0.2222222222222222,
              "#7201a8"
             ],
             [
              0.3333333333333333,
              "#9c179e"
             ],
             [
              0.4444444444444444,
              "#bd3786"
             ],
             [
              0.5555555555555556,
              "#d8576b"
             ],
             [
              0.6666666666666666,
              "#ed7953"
             ],
             [
              0.7777777777777778,
              "#fb9f3a"
             ],
             [
              0.8888888888888888,
              "#fdca26"
             ],
             [
              1,
              "#f0f921"
             ]
            ],
            "type": "contour"
           }
          ],
          "contourcarpet": [
           {
            "colorbar": {
             "outlinewidth": 0,
             "ticks": ""
            },
            "type": "contourcarpet"
           }
          ],
          "heatmap": [
           {
            "colorbar": {
             "outlinewidth": 0,
             "ticks": ""
            },
            "colorscale": [
             [
              0,
              "#0d0887"
             ],
             [
              0.1111111111111111,
              "#46039f"
             ],
             [
              0.2222222222222222,
              "#7201a8"
             ],
             [
              0.3333333333333333,
              "#9c179e"
             ],
             [
              0.4444444444444444,
              "#bd3786"
             ],
             [
              0.5555555555555556,
              "#d8576b"
             ],
             [
              0.6666666666666666,
              "#ed7953"
             ],
             [
              0.7777777777777778,
              "#fb9f3a"
             ],
             [
              0.8888888888888888,
              "#fdca26"
             ],
             [
              1,
              "#f0f921"
             ]
            ],
            "type": "heatmap"
           }
          ],
          "heatmapgl": [
           {
            "colorbar": {
             "outlinewidth": 0,
             "ticks": ""
            },
            "colorscale": [
             [
              0,
              "#0d0887"
             ],
             [
              0.1111111111111111,
              "#46039f"
             ],
             [
              0.2222222222222222,
              "#7201a8"
             ],
             [
              0.3333333333333333,
              "#9c179e"
             ],
             [
              0.4444444444444444,
              "#bd3786"
             ],
             [
              0.5555555555555556,
              "#d8576b"
             ],
             [
              0.6666666666666666,
              "#ed7953"
             ],
             [
              0.7777777777777778,
              "#fb9f3a"
             ],
             [
              0.8888888888888888,
              "#fdca26"
             ],
             [
              1,
              "#f0f921"
             ]
            ],
            "type": "heatmapgl"
           }
          ],
          "histogram": [
           {
            "marker": {
             "colorbar": {
              "outlinewidth": 0,
              "ticks": ""
             }
            },
            "type": "histogram"
           }
          ],
          "histogram2d": [
           {
            "colorbar": {
             "outlinewidth": 0,
             "ticks": ""
            },
            "colorscale": [
             [
              0,
              "#0d0887"
             ],
             [
              0.1111111111111111,
              "#46039f"
             ],
             [
              0.2222222222222222,
              "#7201a8"
             ],
             [
              0.3333333333333333,
              "#9c179e"
             ],
             [
              0.4444444444444444,
              "#bd3786"
             ],
             [
              0.5555555555555556,
              "#d8576b"
             ],
             [
              0.6666666666666666,
              "#ed7953"
             ],
             [
              0.7777777777777778,
              "#fb9f3a"
             ],
             [
              0.8888888888888888,
              "#fdca26"
             ],
             [
              1,
              "#f0f921"
             ]
            ],
            "type": "histogram2d"
           }
          ],
          "histogram2dcontour": [
           {
            "colorbar": {
             "outlinewidth": 0,
             "ticks": ""
            },
            "colorscale": [
             [
              0,
              "#0d0887"
             ],
             [
              0.1111111111111111,
              "#46039f"
             ],
             [
              0.2222222222222222,
              "#7201a8"
             ],
             [
              0.3333333333333333,
              "#9c179e"
             ],
             [
              0.4444444444444444,
              "#bd3786"
             ],
             [
              0.5555555555555556,
              "#d8576b"
             ],
             [
              0.6666666666666666,
              "#ed7953"
             ],
             [
              0.7777777777777778,
              "#fb9f3a"
             ],
             [
              0.8888888888888888,
              "#fdca26"
             ],
             [
              1,
              "#f0f921"
             ]
            ],
            "type": "histogram2dcontour"
           }
          ],
          "mesh3d": [
           {
            "colorbar": {
             "outlinewidth": 0,
             "ticks": ""
            },
            "type": "mesh3d"
           }
          ],
          "parcoords": [
           {
            "line": {
             "colorbar": {
              "outlinewidth": 0,
              "ticks": ""
             }
            },
            "type": "parcoords"
           }
          ],
          "pie": [
           {
            "automargin": true,
            "type": "pie"
           }
          ],
          "scatter": [
           {
            "marker": {
             "colorbar": {
              "outlinewidth": 0,
              "ticks": ""
             }
            },
            "type": "scatter"
           }
          ],
          "scatter3d": [
           {
            "line": {
             "colorbar": {
              "outlinewidth": 0,
              "ticks": ""
             }
            },
            "marker": {
             "colorbar": {
              "outlinewidth": 0,
              "ticks": ""
             }
            },
            "type": "scatter3d"
           }
          ],
          "scattercarpet": [
           {
            "marker": {
             "colorbar": {
              "outlinewidth": 0,
              "ticks": ""
             }
            },
            "type": "scattercarpet"
           }
          ],
          "scattergeo": [
           {
            "marker": {
             "colorbar": {
              "outlinewidth": 0,
              "ticks": ""
             }
            },
            "type": "scattergeo"
           }
          ],
          "scattergl": [
           {
            "marker": {
             "colorbar": {
              "outlinewidth": 0,
              "ticks": ""
             }
            },
            "type": "scattergl"
           }
          ],
          "scattermapbox": [
           {
            "marker": {
             "colorbar": {
              "outlinewidth": 0,
              "ticks": ""
             }
            },
            "type": "scattermapbox"
           }
          ],
          "scatterpolar": [
           {
            "marker": {
             "colorbar": {
              "outlinewidth": 0,
              "ticks": ""
             }
            },
            "type": "scatterpolar"
           }
          ],
          "scatterpolargl": [
           {
            "marker": {
             "colorbar": {
              "outlinewidth": 0,
              "ticks": ""
             }
            },
            "type": "scatterpolargl"
           }
          ],
          "scatterternary": [
           {
            "marker": {
             "colorbar": {
              "outlinewidth": 0,
              "ticks": ""
             }
            },
            "type": "scatterternary"
           }
          ],
          "surface": [
           {
            "colorbar": {
             "outlinewidth": 0,
             "ticks": ""
            },
            "colorscale": [
             [
              0,
              "#0d0887"
             ],
             [
              0.1111111111111111,
              "#46039f"
             ],
             [
              0.2222222222222222,
              "#7201a8"
             ],
             [
              0.3333333333333333,
              "#9c179e"
             ],
             [
              0.4444444444444444,
              "#bd3786"
             ],
             [
              0.5555555555555556,
              "#d8576b"
             ],
             [
              0.6666666666666666,
              "#ed7953"
             ],
             [
              0.7777777777777778,
              "#fb9f3a"
             ],
             [
              0.8888888888888888,
              "#fdca26"
             ],
             [
              1,
              "#f0f921"
             ]
            ],
            "type": "surface"
           }
          ],
          "table": [
           {
            "cells": {
             "fill": {
              "color": "#EBF0F8"
             },
             "line": {
              "color": "white"
             }
            },
            "header": {
             "fill": {
              "color": "#C8D4E3"
             },
             "line": {
              "color": "white"
             }
            },
            "type": "table"
           }
          ]
         },
         "layout": {
          "annotationdefaults": {
           "arrowcolor": "#2a3f5f",
           "arrowhead": 0,
           "arrowwidth": 1
          },
          "coloraxis": {
           "colorbar": {
            "outlinewidth": 0,
            "ticks": ""
           }
          },
          "colorscale": {
           "diverging": [
            [
             0,
             "#8e0152"
            ],
            [
             0.1,
             "#c51b7d"
            ],
            [
             0.2,
             "#de77ae"
            ],
            [
             0.3,
             "#f1b6da"
            ],
            [
             0.4,
             "#fde0ef"
            ],
            [
             0.5,
             "#f7f7f7"
            ],
            [
             0.6,
             "#e6f5d0"
            ],
            [
             0.7,
             "#b8e186"
            ],
            [
             0.8,
             "#7fbc41"
            ],
            [
             0.9,
             "#4d9221"
            ],
            [
             1,
             "#276419"
            ]
           ],
           "sequential": [
            [
             0,
             "#0d0887"
            ],
            [
             0.1111111111111111,
             "#46039f"
            ],
            [
             0.2222222222222222,
             "#7201a8"
            ],
            [
             0.3333333333333333,
             "#9c179e"
            ],
            [
             0.4444444444444444,
             "#bd3786"
            ],
            [
             0.5555555555555556,
             "#d8576b"
            ],
            [
             0.6666666666666666,
             "#ed7953"
            ],
            [
             0.7777777777777778,
             "#fb9f3a"
            ],
            [
             0.8888888888888888,
             "#fdca26"
            ],
            [
             1,
             "#f0f921"
            ]
           ],
           "sequentialminus": [
            [
             0,
             "#0d0887"
            ],
            [
             0.1111111111111111,
             "#46039f"
            ],
            [
             0.2222222222222222,
             "#7201a8"
            ],
            [
             0.3333333333333333,
             "#9c179e"
            ],
            [
             0.4444444444444444,
             "#bd3786"
            ],
            [
             0.5555555555555556,
             "#d8576b"
            ],
            [
             0.6666666666666666,
             "#ed7953"
            ],
            [
             0.7777777777777778,
             "#fb9f3a"
            ],
            [
             0.8888888888888888,
             "#fdca26"
            ],
            [
             1,
             "#f0f921"
            ]
           ]
          },
          "colorway": [
           "#636efa",
           "#EF553B",
           "#00cc96",
           "#ab63fa",
           "#FFA15A",
           "#19d3f3",
           "#FF6692",
           "#B6E880",
           "#FF97FF",
           "#FECB52"
          ],
          "font": {
           "color": "#2a3f5f"
          },
          "geo": {
           "bgcolor": "white",
           "lakecolor": "white",
           "landcolor": "white",
           "showlakes": true,
           "showland": true,
           "subunitcolor": "#C8D4E3"
          },
          "hoverlabel": {
           "align": "left"
          },
          "hovermode": "closest",
          "mapbox": {
           "style": "light"
          },
          "paper_bgcolor": "white",
          "plot_bgcolor": "white",
          "polar": {
           "angularaxis": {
            "gridcolor": "#EBF0F8",
            "linecolor": "#EBF0F8",
            "ticks": ""
           },
           "bgcolor": "white",
           "radialaxis": {
            "gridcolor": "#EBF0F8",
            "linecolor": "#EBF0F8",
            "ticks": ""
           }
          },
          "scene": {
           "xaxis": {
            "backgroundcolor": "white",
            "gridcolor": "#DFE8F3",
            "gridwidth": 2,
            "linecolor": "#EBF0F8",
            "showbackground": true,
            "ticks": "",
            "zerolinecolor": "#EBF0F8"
           },
           "yaxis": {
            "backgroundcolor": "white",
            "gridcolor": "#DFE8F3",
            "gridwidth": 2,
            "linecolor": "#EBF0F8",
            "showbackground": true,
            "ticks": "",
            "zerolinecolor": "#EBF0F8"
           },
           "zaxis": {
            "backgroundcolor": "white",
            "gridcolor": "#DFE8F3",
            "gridwidth": 2,
            "linecolor": "#EBF0F8",
            "showbackground": true,
            "ticks": "",
            "zerolinecolor": "#EBF0F8"
           }
          },
          "shapedefaults": {
           "line": {
            "color": "#2a3f5f"
           }
          },
          "ternary": {
           "aaxis": {
            "gridcolor": "#DFE8F3",
            "linecolor": "#A2B1C6",
            "ticks": ""
           },
           "baxis": {
            "gridcolor": "#DFE8F3",
            "linecolor": "#A2B1C6",
            "ticks": ""
           },
           "bgcolor": "white",
           "caxis": {
            "gridcolor": "#DFE8F3",
            "linecolor": "#A2B1C6",
            "ticks": ""
           }
          },
          "title": {
           "x": 0.05
          },
          "xaxis": {
           "automargin": true,
           "gridcolor": "#EBF0F8",
           "linecolor": "#EBF0F8",
           "ticks": "",
           "title": {
            "standoff": 15
           },
           "zerolinecolor": "#EBF0F8",
           "zerolinewidth": 2
          },
          "yaxis": {
           "automargin": true,
           "gridcolor": "#EBF0F8",
           "linecolor": "#EBF0F8",
           "ticks": "",
           "title": {
            "standoff": 15
           },
           "zerolinecolor": "#EBF0F8",
           "zerolinewidth": 2
          }
         }
        },
        "title": {
         "text": "NEOFAC_N"
        },
        "width": 480,
        "xaxis": {
         "anchor": "y",
         "domain": [
          0,
          1
         ],
         "dtick": 0.2,
         "tickfont": {
          "size": 20
         },
         "title": {
          "font": {
           "size": 20
          },
          "text": "True"
         }
        },
        "yaxis": {
         "anchor": "x",
         "domain": [
          0,
          1
         ],
         "dtick": 0.2,
         "tickfont": {
          "size": 20
         },
         "title": {
          "font": {
           "size": 20
          },
          "text": "Predicted"
         }
        }
       }
      },
      "text/html": [
       "<div>\n",
       "        \n",
       "        \n",
       "            <div id=\"b2a293aa-4fba-454f-be74-a0f11beb9588\" class=\"plotly-graph-div\" style=\"height:400px; width:480px;\"></div>\n",
       "            <script type=\"text/javascript\">\n",
       "                require([\"plotly\"], function(Plotly) {\n",
       "                    window.PLOTLYENV=window.PLOTLYENV || {};\n",
       "                    \n",
       "                if (document.getElementById(\"b2a293aa-4fba-454f-be74-a0f11beb9588\")) {\n",
       "                    Plotly.newPlot(\n",
       "                        'b2a293aa-4fba-454f-be74-a0f11beb9588',\n",
       "                        [{\"hovertemplate\": \"tag=gru<br>true=%{x}<br>predicted=%{y}<extra></extra>\", \"legendgroup\": \"gru\", \"marker\": {\"color\": \"#636efa\", \"symbol\": \"circle\"}, \"mode\": \"markers\", \"name\": \"gru\", \"showlegend\": true, \"type\": \"scatter\", \"x\": [0.21621622145175934, 0.3513513505458832, 0.054054055362939835, 0.3243243098258972, 0.29729729890823364, 0.4864864945411682, 0.3243243098258972, 0.21621622145175934, 0.7837837934494019, 0.3243243098258972, 0.2702702581882477, 0.29729729890823364, 0.29729729890823364, 0.3243243098258972, 0.2702702581882477, 0.4864864945411682, 0.2702702581882477, 0.5135135054588318, 0.4324324429035187, 0.4054054021835327, 0.3513513505458832, 0.45945945382118225, 0.4054054021835327, 0.5135135054588318, 0.5405405163764954, 0.45945945382118225, 0.4054054021835327, 0.1621621549129486, 0.2702702581882477, 0.6216216087341309, 0.6756756901741028, 0.3243243098258972, 0.2702702581882477, 0.3513513505458832, 0.4324324429035187, 0.29729729890823364, 0.18918919563293457, 0.37837839126586914, 0.5405405163764954, 0.3513513505458832, 0.18918919563293457, 0.4054054021835327, 0.2432432472705841, 0.3513513505458832, 0.6756756901741028, 0.2432432472705841, 0.45945945382118225, 0.4324324429035187, 0.13513512909412384, 0.2702702581882477, 0.0810810774564743, 0.4864864945411682, 0.3513513505458832, 0.4324324429035187, 0.3243243098258972, 0.3243243098258972, 0.2432432472705841, 0.2702702581882477, 0.21621622145175934, 0.4054054021835327, 0.29729729890823364, 0.5945945978164673, 0.4054054021835327, 0.3513513505458832, 0.3243243098258972, 0.3243243098258972, 0.37837839126586914, 0.3513513505458832, 0.027027027681469917, 0.18918919563293457, 0.21621622145175934, 0.4054054021835327, 0.5405405163764954, 0.5405405163764954, 0.7567567825317383, 0.4324324429035187], \"xaxis\": \"x\", \"y\": [0.47455599904060364, 0.3321620523929596, 0.2761947512626648, 0.5069620013237, 0.5416742563247681, 0.3108856976032257, 0.5425939559936523, 0.6008655428886414, 0.6061954498291016, 0.3415120840072632, 0.712876558303833, 0.30183929204940796, 0.6595333218574524, 0.4468145966529846, 0.34824326634407043, 0.4267643094062805, 0.2893265187740326, 0.7609500288963318, 0.6455936431884766, 0.5899930596351624, 0.3651340901851654, 0.34285882115364075, 0.35086026787757874, 0.5511713624000549, 0.4055643677711487, 0.4292807877063751, 0.1870346963405609, 0.5656569004058838, 0.26790204644203186, 0.432506799697876, 0.7138563990592957, 0.6566720008850098, 0.37927305698394775, 0.4609965980052948, 0.6278136372566223, 0.4647258520126343, 0.21502573788166046, 0.4625687897205353, 0.6837422251701355, 0.44621342420578003, 0.52694171667099, 0.45079925656318665, 0.35698390007019043, 0.5066726803779602, 0.7085686326026917, 0.6634162664413452, 0.5042632818222046, 0.5151222348213196, 0.36159178614616394, 0.4375576376914978, 0.5685662627220154, 0.46257326006889343, 0.5908524990081787, 0.5924292206764221, 0.5169079899787903, 0.43698129057884216, 0.5394502282142639, 0.40774857997894287, 0.4752497673034668, 0.6722649931907654, 0.5576933026313782, 0.39476898312568665, 0.5048832893371582, 0.45528581738471985, 0.4443487524986267, 0.24607780575752258, 0.3860158324241638, 0.5820743441581726, 0.4927934408187866, 0.5659467577934265, 0.21153989434242249, 0.45054328441619873, 0.6216142773628235, 0.4829326868057251, 0.7461585998535156, 0.5653128027915955], \"yaxis\": \"y\"}, {\"hovertemplate\": \"<b>OLS trendline</b><br>predicted = 0.294738 * true + 0.376134<br>R<sup>2</sup>=0.104628<br><br>tag=gru<br>true=%{x}<br>predicted=%{y} <b>(trend)</b><extra></extra>\", \"legendgroup\": \"gru\", \"marker\": {\"color\": \"#636efa\", \"symbol\": \"circle\"}, \"mode\": \"lines\", \"name\": \"gru\", \"showlegend\": false, \"type\": \"scatter\", \"x\": [0.027027027681469917, 0.054054055362939835, 0.0810810774564743, 0.13513512909412384, 0.1621621549129486, 0.18918919563293457, 0.18918919563293457, 0.18918919563293457, 0.21621622145175934, 0.21621622145175934, 0.21621622145175934, 0.21621622145175934, 0.2432432472705841, 0.2432432472705841, 0.2432432472705841, 0.2702702581882477, 0.2702702581882477, 0.2702702581882477, 0.2702702581882477, 0.2702702581882477, 0.2702702581882477, 0.2702702581882477, 0.29729729890823364, 0.29729729890823364, 0.29729729890823364, 0.29729729890823364, 0.29729729890823364, 0.3243243098258972, 0.3243243098258972, 0.3243243098258972, 0.3243243098258972, 0.3243243098258972, 0.3243243098258972, 0.3243243098258972, 0.3243243098258972, 0.3243243098258972, 0.3513513505458832, 0.3513513505458832, 0.3513513505458832, 0.3513513505458832, 0.3513513505458832, 0.3513513505458832, 0.3513513505458832, 0.3513513505458832, 0.37837839126586914, 0.37837839126586914, 0.4054054021835327, 0.4054054021835327, 0.4054054021835327, 0.4054054021835327, 0.4054054021835327, 0.4054054021835327, 0.4054054021835327, 0.4324324429035187, 0.4324324429035187, 0.4324324429035187, 0.4324324429035187, 0.4324324429035187, 0.45945945382118225, 0.45945945382118225, 0.45945945382118225, 0.4864864945411682, 0.4864864945411682, 0.4864864945411682, 0.5135135054588318, 0.5135135054588318, 0.5405405163764954, 0.5405405163764954, 0.5405405163764954, 0.5405405163764954, 0.5945945978164673, 0.6216216087341309, 0.6756756901741028, 0.6756756901741028, 0.7567567825317383, 0.7837837934494019], \"xaxis\": \"x\", \"y\": [0.38409996765918086, 0.39206585382077014, 0.40003173833538375, 0.4159635095605786, 0.423929395173176, 0.4318952851777086, 0.4318952851777086, 0.4318952851777086, 0.439861170790306, 0.439861170790306, 0.439861170790306, 0.439861170790306, 0.44782705640290343, 0.44782705640290343, 0.44782705640290343, 0.45579293762356565, 0.45579293762356565, 0.45579293762356565, 0.45579293762356565, 0.45579293762356565, 0.45579293762356565, 0.45579293762356565, 0.4637588276280982, 0.4637588276280982, 0.4637588276280982, 0.4637588276280982, 0.4637588276280982, 0.4717247088487605, 0.4717247088487605, 0.4717247088487605, 0.4717247088487605, 0.4717247088487605, 0.4717247088487605, 0.4717247088487605, 0.4717247088487605, 0.4717247088487605, 0.47969059885329307, 0.47969059885329307, 0.47969059885329307, 0.47969059885329307, 0.47969059885329307, 0.47969059885329307, 0.47969059885329307, 0.47969059885329307, 0.48765648885782564, 0.48765648885782564, 0.49562237007848786, 0.49562237007848786, 0.49562237007848786, 0.49562237007848786, 0.49562237007848786, 0.49562237007848786, 0.49562237007848786, 0.5035882600830205, 0.5035882600830205, 0.5035882600830205, 0.5035882600830205, 0.5035882600830205, 0.5115541413036827, 0.5115541413036827, 0.5115541413036827, 0.5195200313082153, 0.5195200313082153, 0.5195200313082153, 0.5274859125288776, 0.5274859125288776, 0.5354517937495398, 0.5354517937495398, 0.5354517937495398, 0.5354517937495398, 0.5513835737586049, 0.5593494549792672, 0.5752812349883324, 0.5752812349883324, 0.5991788962180598, 0.607144777438722], \"yaxis\": \"y\"}],\n",
       "                        {\"font\": {\"color\": \"black\"}, \"height\": 400, \"legend\": {\"font\": {\"size\": 20}, \"title\": {\"text\": \"tag\"}, \"tracegroupgap\": 0}, \"margin\": {\"t\": 60}, \"template\": {\"data\": {\"bar\": [{\"error_x\": {\"color\": \"#2a3f5f\"}, \"error_y\": {\"color\": \"#2a3f5f\"}, \"marker\": {\"line\": {\"color\": \"white\", \"width\": 0.5}}, \"type\": \"bar\"}], \"barpolar\": [{\"marker\": {\"line\": {\"color\": \"white\", \"width\": 0.5}}, \"type\": \"barpolar\"}], \"carpet\": [{\"aaxis\": {\"endlinecolor\": \"#2a3f5f\", \"gridcolor\": \"#C8D4E3\", \"linecolor\": \"#C8D4E3\", \"minorgridcolor\": \"#C8D4E3\", \"startlinecolor\": \"#2a3f5f\"}, \"baxis\": {\"endlinecolor\": \"#2a3f5f\", \"gridcolor\": \"#C8D4E3\", \"linecolor\": \"#C8D4E3\", \"minorgridcolor\": \"#C8D4E3\", \"startlinecolor\": \"#2a3f5f\"}, \"type\": \"carpet\"}], \"choropleth\": [{\"colorbar\": {\"outlinewidth\": 0, \"ticks\": \"\"}, \"type\": \"choropleth\"}], \"contour\": [{\"colorbar\": {\"outlinewidth\": 0, \"ticks\": \"\"}, \"colorscale\": [[0.0, \"#0d0887\"], [0.1111111111111111, \"#46039f\"], [0.2222222222222222, \"#7201a8\"], [0.3333333333333333, \"#9c179e\"], [0.4444444444444444, \"#bd3786\"], [0.5555555555555556, \"#d8576b\"], [0.6666666666666666, \"#ed7953\"], [0.7777777777777778, \"#fb9f3a\"], [0.8888888888888888, \"#fdca26\"], [1.0, \"#f0f921\"]], \"type\": \"contour\"}], \"contourcarpet\": [{\"colorbar\": {\"outlinewidth\": 0, \"ticks\": \"\"}, \"type\": \"contourcarpet\"}], \"heatmap\": [{\"colorbar\": {\"outlinewidth\": 0, \"ticks\": \"\"}, \"colorscale\": [[0.0, \"#0d0887\"], [0.1111111111111111, \"#46039f\"], [0.2222222222222222, \"#7201a8\"], [0.3333333333333333, \"#9c179e\"], [0.4444444444444444, \"#bd3786\"], [0.5555555555555556, \"#d8576b\"], [0.6666666666666666, \"#ed7953\"], [0.7777777777777778, \"#fb9f3a\"], [0.8888888888888888, \"#fdca26\"], [1.0, \"#f0f921\"]], \"type\": \"heatmap\"}], \"heatmapgl\": [{\"colorbar\": {\"outlinewidth\": 0, \"ticks\": \"\"}, \"colorscale\": [[0.0, \"#0d0887\"], [0.1111111111111111, \"#46039f\"], [0.2222222222222222, \"#7201a8\"], [0.3333333333333333, \"#9c179e\"], [0.4444444444444444, \"#bd3786\"], [0.5555555555555556, \"#d8576b\"], [0.6666666666666666, \"#ed7953\"], [0.7777777777777778, \"#fb9f3a\"], [0.8888888888888888, \"#fdca26\"], [1.0, \"#f0f921\"]], \"type\": \"heatmapgl\"}], \"histogram\": [{\"marker\": {\"colorbar\": {\"outlinewidth\": 0, \"ticks\": \"\"}}, \"type\": \"histogram\"}], \"histogram2d\": [{\"colorbar\": {\"outlinewidth\": 0, \"ticks\": \"\"}, \"colorscale\": [[0.0, \"#0d0887\"], [0.1111111111111111, \"#46039f\"], [0.2222222222222222, \"#7201a8\"], [0.3333333333333333, \"#9c179e\"], [0.4444444444444444, \"#bd3786\"], [0.5555555555555556, \"#d8576b\"], [0.6666666666666666, \"#ed7953\"], [0.7777777777777778, \"#fb9f3a\"], [0.8888888888888888, \"#fdca26\"], [1.0, \"#f0f921\"]], \"type\": \"histogram2d\"}], \"histogram2dcontour\": [{\"colorbar\": {\"outlinewidth\": 0, \"ticks\": \"\"}, \"colorscale\": [[0.0, \"#0d0887\"], [0.1111111111111111, \"#46039f\"], [0.2222222222222222, \"#7201a8\"], [0.3333333333333333, \"#9c179e\"], [0.4444444444444444, \"#bd3786\"], [0.5555555555555556, \"#d8576b\"], [0.6666666666666666, \"#ed7953\"], [0.7777777777777778, \"#fb9f3a\"], [0.8888888888888888, \"#fdca26\"], [1.0, \"#f0f921\"]], \"type\": \"histogram2dcontour\"}], \"mesh3d\": [{\"colorbar\": {\"outlinewidth\": 0, \"ticks\": \"\"}, \"type\": \"mesh3d\"}], \"parcoords\": [{\"line\": {\"colorbar\": {\"outlinewidth\": 0, \"ticks\": \"\"}}, \"type\": \"parcoords\"}], \"pie\": [{\"automargin\": true, \"type\": \"pie\"}], \"scatter\": [{\"marker\": {\"colorbar\": {\"outlinewidth\": 0, \"ticks\": \"\"}}, \"type\": \"scatter\"}], \"scatter3d\": [{\"line\": {\"colorbar\": {\"outlinewidth\": 0, \"ticks\": \"\"}}, \"marker\": {\"colorbar\": {\"outlinewidth\": 0, \"ticks\": \"\"}}, \"type\": \"scatter3d\"}], \"scattercarpet\": [{\"marker\": {\"colorbar\": {\"outlinewidth\": 0, \"ticks\": \"\"}}, \"type\": \"scattercarpet\"}], \"scattergeo\": [{\"marker\": {\"colorbar\": {\"outlinewidth\": 0, \"ticks\": \"\"}}, \"type\": \"scattergeo\"}], \"scattergl\": [{\"marker\": {\"colorbar\": {\"outlinewidth\": 0, \"ticks\": \"\"}}, \"type\": \"scattergl\"}], \"scattermapbox\": [{\"marker\": {\"colorbar\": {\"outlinewidth\": 0, \"ticks\": \"\"}}, \"type\": \"scattermapbox\"}], \"scatterpolar\": [{\"marker\": {\"colorbar\": {\"outlinewidth\": 0, \"ticks\": \"\"}}, \"type\": \"scatterpolar\"}], \"scatterpolargl\": [{\"marker\": {\"colorbar\": {\"outlinewidth\": 0, \"ticks\": \"\"}}, \"type\": \"scatterpolargl\"}], \"scatterternary\": [{\"marker\": {\"colorbar\": {\"outlinewidth\": 0, \"ticks\": \"\"}}, \"type\": \"scatterternary\"}], \"surface\": [{\"colorbar\": {\"outlinewidth\": 0, \"ticks\": \"\"}, \"colorscale\": [[0.0, \"#0d0887\"], [0.1111111111111111, \"#46039f\"], [0.2222222222222222, \"#7201a8\"], [0.3333333333333333, \"#9c179e\"], [0.4444444444444444, \"#bd3786\"], [0.5555555555555556, \"#d8576b\"], [0.6666666666666666, \"#ed7953\"], [0.7777777777777778, \"#fb9f3a\"], [0.8888888888888888, \"#fdca26\"], [1.0, \"#f0f921\"]], \"type\": \"surface\"}], \"table\": [{\"cells\": {\"fill\": {\"color\": \"#EBF0F8\"}, \"line\": {\"color\": \"white\"}}, \"header\": {\"fill\": {\"color\": \"#C8D4E3\"}, \"line\": {\"color\": \"white\"}}, \"type\": \"table\"}]}, \"layout\": {\"annotationdefaults\": {\"arrowcolor\": \"#2a3f5f\", \"arrowhead\": 0, \"arrowwidth\": 1}, \"coloraxis\": {\"colorbar\": {\"outlinewidth\": 0, \"ticks\": \"\"}}, \"colorscale\": {\"diverging\": [[0, \"#8e0152\"], [0.1, \"#c51b7d\"], [0.2, \"#de77ae\"], [0.3, \"#f1b6da\"], [0.4, \"#fde0ef\"], [0.5, \"#f7f7f7\"], [0.6, \"#e6f5d0\"], [0.7, \"#b8e186\"], [0.8, \"#7fbc41\"], [0.9, \"#4d9221\"], [1, \"#276419\"]], \"sequential\": [[0.0, \"#0d0887\"], [0.1111111111111111, \"#46039f\"], [0.2222222222222222, \"#7201a8\"], [0.3333333333333333, \"#9c179e\"], [0.4444444444444444, \"#bd3786\"], [0.5555555555555556, \"#d8576b\"], [0.6666666666666666, \"#ed7953\"], [0.7777777777777778, \"#fb9f3a\"], [0.8888888888888888, \"#fdca26\"], [1.0, \"#f0f921\"]], \"sequentialminus\": [[0.0, \"#0d0887\"], [0.1111111111111111, \"#46039f\"], [0.2222222222222222, \"#7201a8\"], [0.3333333333333333, \"#9c179e\"], [0.4444444444444444, \"#bd3786\"], [0.5555555555555556, \"#d8576b\"], [0.6666666666666666, \"#ed7953\"], [0.7777777777777778, \"#fb9f3a\"], [0.8888888888888888, \"#fdca26\"], [1.0, \"#f0f921\"]]}, \"colorway\": [\"#636efa\", \"#EF553B\", \"#00cc96\", \"#ab63fa\", \"#FFA15A\", \"#19d3f3\", \"#FF6692\", \"#B6E880\", \"#FF97FF\", \"#FECB52\"], \"font\": {\"color\": \"#2a3f5f\"}, \"geo\": {\"bgcolor\": \"white\", \"lakecolor\": \"white\", \"landcolor\": \"white\", \"showlakes\": true, \"showland\": true, \"subunitcolor\": \"#C8D4E3\"}, \"hoverlabel\": {\"align\": \"left\"}, \"hovermode\": \"closest\", \"mapbox\": {\"style\": \"light\"}, \"paper_bgcolor\": \"white\", \"plot_bgcolor\": \"white\", \"polar\": {\"angularaxis\": {\"gridcolor\": \"#EBF0F8\", \"linecolor\": \"#EBF0F8\", \"ticks\": \"\"}, \"bgcolor\": \"white\", \"radialaxis\": {\"gridcolor\": \"#EBF0F8\", \"linecolor\": \"#EBF0F8\", \"ticks\": \"\"}}, \"scene\": {\"xaxis\": {\"backgroundcolor\": \"white\", \"gridcolor\": \"#DFE8F3\", \"gridwidth\": 2, \"linecolor\": \"#EBF0F8\", \"showbackground\": true, \"ticks\": \"\", \"zerolinecolor\": \"#EBF0F8\"}, \"yaxis\": {\"backgroundcolor\": \"white\", \"gridcolor\": \"#DFE8F3\", \"gridwidth\": 2, \"linecolor\": \"#EBF0F8\", \"showbackground\": true, \"ticks\": \"\", \"zerolinecolor\": \"#EBF0F8\"}, \"zaxis\": {\"backgroundcolor\": \"white\", \"gridcolor\": \"#DFE8F3\", \"gridwidth\": 2, \"linecolor\": \"#EBF0F8\", \"showbackground\": true, \"ticks\": \"\", \"zerolinecolor\": \"#EBF0F8\"}}, \"shapedefaults\": {\"line\": {\"color\": \"#2a3f5f\"}}, \"ternary\": {\"aaxis\": {\"gridcolor\": \"#DFE8F3\", \"linecolor\": \"#A2B1C6\", \"ticks\": \"\"}, \"baxis\": {\"gridcolor\": \"#DFE8F3\", \"linecolor\": \"#A2B1C6\", \"ticks\": \"\"}, \"bgcolor\": \"white\", \"caxis\": {\"gridcolor\": \"#DFE8F3\", \"linecolor\": \"#A2B1C6\", \"ticks\": \"\"}}, \"title\": {\"x\": 0.05}, \"xaxis\": {\"automargin\": true, \"gridcolor\": \"#EBF0F8\", \"linecolor\": \"#EBF0F8\", \"ticks\": \"\", \"title\": {\"standoff\": 15}, \"zerolinecolor\": \"#EBF0F8\", \"zerolinewidth\": 2}, \"yaxis\": {\"automargin\": true, \"gridcolor\": \"#EBF0F8\", \"linecolor\": \"#EBF0F8\", \"ticks\": \"\", \"title\": {\"standoff\": 15}, \"zerolinecolor\": \"#EBF0F8\", \"zerolinewidth\": 2}}}, \"title\": {\"text\": \"NEOFAC_N\"}, \"width\": 480, \"xaxis\": {\"anchor\": \"y\", \"domain\": [0.0, 1.0], \"dtick\": 0.2, \"tickfont\": {\"size\": 20}, \"title\": {\"font\": {\"size\": 20}, \"text\": \"True\"}}, \"yaxis\": {\"anchor\": \"x\", \"domain\": [0.0, 1.0], \"dtick\": 0.2, \"tickfont\": {\"size\": 20}, \"title\": {\"font\": {\"size\": 20}, \"text\": \"Predicted\"}}},\n",
       "                        {\"responsive\": true}\n",
       "                    ).then(function(){\n",
       "                            \n",
       "var gd = document.getElementById('b2a293aa-4fba-454f-be74-a0f11beb9588');\n",
       "var x = new MutationObserver(function (mutations, observer) {{\n",
       "        var display = window.getComputedStyle(gd).display;\n",
       "        if (!display || display === 'none') {{\n",
       "            console.log([gd, 'removed!']);\n",
       "            Plotly.purge(gd);\n",
       "            observer.disconnect();\n",
       "        }}\n",
       "}});\n",
       "\n",
       "// Listen for the removal of the full notebook cells\n",
       "var notebookContainer = gd.closest('#notebook-container');\n",
       "if (notebookContainer) {{\n",
       "    x.observe(notebookContainer, {childList: true});\n",
       "}}\n",
       "\n",
       "// Listen for the clearing of the current output cell\n",
       "var outputEl = gd.closest('.output');\n",
       "if (outputEl) {{\n",
       "    x.observe(outputEl, {childList: true});\n",
       "}}\n",
       "\n",
       "                        })\n",
       "                };\n",
       "                });\n",
       "            </script>\n",
       "        </div>"
      ]
     },
     "metadata": {},
     "output_type": "display_data"
    },
    {
     "data": {
      "application/vnd.plotly.v1+json": {
       "config": {
        "plotlyServerURL": "https://plot.ly"
       },
       "data": [
        {
         "hovertemplate": "tag=gru<br>true=%{x}<br>predicted=%{y}<extra></extra>",
         "legendgroup": "gru",
         "marker": {
          "color": "#636efa",
          "symbol": "circle"
         },
         "mode": "markers",
         "name": "gru",
         "showlegend": true,
         "type": "scatter",
         "x": [
          0.3448275923728943,
          0.3103448152542114,
          0.5517241358757019,
          0.5862069129943848,
          0.5517241358757019,
          0.24137930572032928,
          0.27586206793785095,
          0.24137930572032928,
          0.3448275923728943,
          0.517241358757019,
          0.7931034564971924,
          0.48275861144065857,
          0.48275861144065857,
          0.27586206793785095,
          0.48275861144065857,
          0.24137930572032928,
          0.27586206793785095,
          0.1034482792019844,
          0.6206896305084229,
          0.4482758641242981,
          0.517241358757019,
          0.48275861144065857,
          0.27586206793785095,
          0.4482758641242981,
          0.3103448152542114,
          0.3448275923728943,
          0.7931034564971924,
          0.48275861144065857,
          0.27586206793785095,
          0.6206896305084229,
          0.6206896305084229,
          0.7586206793785095,
          0.13793103396892548,
          0.3448275923728943,
          0.37931033968925476,
          0.5862069129943848,
          0.5862069129943848,
          0.8620689511299133,
          0.17241379618644714,
          0.4482758641242981,
          0.517241358757019,
          0.24137930572032928,
          0.3103448152542114,
          0.5862069129943848,
          0.6896551847457886,
          0.13793103396892548,
          0.2068965584039688,
          0.517241358757019,
          0.4482758641242981,
          0.48275861144065857,
          0.48275861144065857,
          0.4482758641242981,
          0.48275861144065857,
          0.6551724076271057,
          0.4137931168079376,
          0.517241358757019,
          0.2068965584039688,
          0.6896551847457886,
          0.6551724076271057,
          0.37931033968925476,
          0.4482758641242981,
          0.3103448152542114,
          0.17241379618644714,
          0.4482758641242981,
          0.2068965584039688,
          0.517241358757019,
          0.8620689511299133,
          0.48275861144065857,
          0.3103448152542114,
          0.517241358757019,
          0.48275861144065857,
          0.5862069129943848,
          0.48275861144065857,
          0.3448275923728943,
          0.7241379022598267,
          0.517241358757019
         ],
         "xaxis": "x",
         "y": [
          0.49641212821006775,
          0.24968622624874115,
          0.456736296415329,
          0.6380459070205688,
          0.3438737988471985,
          0.515189528465271,
          0.21507155895233154,
          0.3083581328392029,
          0.5160256624221802,
          0.5497515201568604,
          0.444552481174469,
          0.28685376048088074,
          0.39641276001930237,
          0.48890021443367004,
          0.4594970643520355,
          0.3819112181663513,
          0.3272823095321655,
          0.3896676301956177,
          0.3132088780403137,
          0.4254615902900696,
          0.5455386638641357,
          0.40823081135749817,
          0.5246932506561279,
          0.5105843544006348,
          0.41930195689201355,
          0.46421951055526733,
          0.46321746706962585,
          0.5102419853210449,
          0.4417368471622467,
          0.6463278532028198,
          0.5154001712799072,
          0.4094257652759552,
          0.29123497009277344,
          0.357220858335495,
          0.5213615894317627,
          0.5777944326400757,
          0.4706587791442871,
          0.5914002656936646,
          0.4920019507408142,
          0.6613295078277588,
          0.6000823974609375,
          0.3324511647224426,
          0.5112377405166626,
          0.30154380202293396,
          0.471996933221817,
          0.5236442685127258,
          0.42723187804222107,
          0.38683825731277466,
          0.2563633322715759,
          0.5797353982925415,
          0.5275291800498962,
          0.6083035469055176,
          0.4661889970302582,
          0.2677767872810364,
          0.42274972796440125,
          0.33003976941108704,
          0.44366148114204407,
          0.5018738508224487,
          0.4734687805175781,
          0.4107134938240051,
          0.3664915859699249,
          0.4080919027328491,
          0.43714895844459534,
          0.5381401777267456,
          0.16878534853458405,
          0.5648031234741211,
          0.492154061794281,
          0.5448164939880371,
          0.40153390169143677,
          0.4217032492160797,
          0.529991865158081,
          0.5291611552238464,
          0.5513608455657959,
          0.4272666573524475,
          0.5870202779769897,
          0.144491046667099
         ],
         "yaxis": "y"
        },
        {
         "hovertemplate": "<b>OLS trendline</b><br>predicted = 0.167048 * true + 0.372162<br>R<sup>2</sup>=0.070855<br><br>tag=gru<br>true=%{x}<br>predicted=%{y} <b>(trend)</b><extra></extra>",
         "legendgroup": "gru",
         "marker": {
          "color": "#636efa",
          "symbol": "circle"
         },
         "mode": "lines",
         "name": "gru",
         "showlegend": false,
         "type": "scatter",
         "x": [
          0.1034482792019844,
          0.13793103396892548,
          0.13793103396892548,
          0.17241379618644714,
          0.17241379618644714,
          0.2068965584039688,
          0.2068965584039688,
          0.2068965584039688,
          0.24137930572032928,
          0.24137930572032928,
          0.24137930572032928,
          0.24137930572032928,
          0.27586206793785095,
          0.27586206793785095,
          0.27586206793785095,
          0.27586206793785095,
          0.27586206793785095,
          0.3103448152542114,
          0.3103448152542114,
          0.3103448152542114,
          0.3103448152542114,
          0.3103448152542114,
          0.3448275923728943,
          0.3448275923728943,
          0.3448275923728943,
          0.3448275923728943,
          0.3448275923728943,
          0.37931033968925476,
          0.37931033968925476,
          0.4137931168079376,
          0.4482758641242981,
          0.4482758641242981,
          0.4482758641242981,
          0.4482758641242981,
          0.4482758641242981,
          0.4482758641242981,
          0.4482758641242981,
          0.48275861144065857,
          0.48275861144065857,
          0.48275861144065857,
          0.48275861144065857,
          0.48275861144065857,
          0.48275861144065857,
          0.48275861144065857,
          0.48275861144065857,
          0.48275861144065857,
          0.48275861144065857,
          0.48275861144065857,
          0.517241358757019,
          0.517241358757019,
          0.517241358757019,
          0.517241358757019,
          0.517241358757019,
          0.517241358757019,
          0.517241358757019,
          0.517241358757019,
          0.5517241358757019,
          0.5517241358757019,
          0.5862069129943848,
          0.5862069129943848,
          0.5862069129943848,
          0.5862069129943848,
          0.5862069129943848,
          0.6206896305084229,
          0.6206896305084229,
          0.6206896305084229,
          0.6551724076271057,
          0.6551724076271057,
          0.6896551847457886,
          0.6896551847457886,
          0.7241379022598267,
          0.7586206793785095,
          0.7931034564971924,
          0.7931034564971924,
          0.8620689511299133,
          0.8620689511299133
         ],
         "xaxis": "x",
         "y": [
          0.38944262257617607,
          0.39520290034815314,
          0.39520290034815314,
          0.4009631793647353,
          0.4009631793647353,
          0.4067234583813175,
          0.4067234583813175,
          0.4067234583813175,
          0.4124837349086894,
          0.4124837349086894,
          0.4124837349086894,
          0.4124837349086894,
          0.4182440139252716,
          0.4182440139252716,
          0.4182440139252716,
          0.4182440139252716,
          0.4182440139252716,
          0.4240042904526435,
          0.4240042904526435,
          0.4240042904526435,
          0.4240042904526435,
          0.4240042904526435,
          0.429764571958436,
          0.429764571958436,
          0.429764571958436,
          0.429764571958436,
          0.429764571958436,
          0.43552484848580786,
          0.43552484848580786,
          0.4412851299916003,
          0.44704540651897223,
          0.44704540651897223,
          0.44704540651897223,
          0.44704540651897223,
          0.44704540651897223,
          0.44704540651897223,
          0.44704540651897223,
          0.45280568304634417,
          0.45280568304634417,
          0.45280568304634417,
          0.45280568304634417,
          0.45280568304634417,
          0.45280568304634417,
          0.45280568304634417,
          0.45280568304634417,
          0.45280568304634417,
          0.45280568304634417,
          0.45280568304634417,
          0.45856595957371604,
          0.45856595957371604,
          0.45856595957371604,
          0.45856595957371604,
          0.45856595957371604,
          0.45856595957371604,
          0.45856595957371604,
          0.45856595957371604,
          0.4643262410795085,
          0.4643262410795085,
          0.470086522585301,
          0.470086522585301,
          0.470086522585301,
          0.470086522585301,
          0.470086522585301,
          0.47584679413425235,
          0.47584679413425235,
          0.47584679413425235,
          0.4816070756400448,
          0.4816070756400448,
          0.48736735714583723,
          0.48736735714583723,
          0.4931276286947886,
          0.4988879102005811,
          0.5046481917063735,
          0.5046481917063735,
          0.5161687447611173,
          0.5161687447611173
         ],
         "yaxis": "y"
        }
       ],
       "layout": {
        "font": {
         "color": "black"
        },
        "height": 400,
        "legend": {
         "font": {
          "size": 20
         },
         "title": {
          "text": "tag"
         },
         "tracegroupgap": 0
        },
        "margin": {
         "t": 60
        },
        "template": {
         "data": {
          "bar": [
           {
            "error_x": {
             "color": "#2a3f5f"
            },
            "error_y": {
             "color": "#2a3f5f"
            },
            "marker": {
             "line": {
              "color": "white",
              "width": 0.5
             }
            },
            "type": "bar"
           }
          ],
          "barpolar": [
           {
            "marker": {
             "line": {
              "color": "white",
              "width": 0.5
             }
            },
            "type": "barpolar"
           }
          ],
          "carpet": [
           {
            "aaxis": {
             "endlinecolor": "#2a3f5f",
             "gridcolor": "#C8D4E3",
             "linecolor": "#C8D4E3",
             "minorgridcolor": "#C8D4E3",
             "startlinecolor": "#2a3f5f"
            },
            "baxis": {
             "endlinecolor": "#2a3f5f",
             "gridcolor": "#C8D4E3",
             "linecolor": "#C8D4E3",
             "minorgridcolor": "#C8D4E3",
             "startlinecolor": "#2a3f5f"
            },
            "type": "carpet"
           }
          ],
          "choropleth": [
           {
            "colorbar": {
             "outlinewidth": 0,
             "ticks": ""
            },
            "type": "choropleth"
           }
          ],
          "contour": [
           {
            "colorbar": {
             "outlinewidth": 0,
             "ticks": ""
            },
            "colorscale": [
             [
              0,
              "#0d0887"
             ],
             [
              0.1111111111111111,
              "#46039f"
             ],
             [
              0.2222222222222222,
              "#7201a8"
             ],
             [
              0.3333333333333333,
              "#9c179e"
             ],
             [
              0.4444444444444444,
              "#bd3786"
             ],
             [
              0.5555555555555556,
              "#d8576b"
             ],
             [
              0.6666666666666666,
              "#ed7953"
             ],
             [
              0.7777777777777778,
              "#fb9f3a"
             ],
             [
              0.8888888888888888,
              "#fdca26"
             ],
             [
              1,
              "#f0f921"
             ]
            ],
            "type": "contour"
           }
          ],
          "contourcarpet": [
           {
            "colorbar": {
             "outlinewidth": 0,
             "ticks": ""
            },
            "type": "contourcarpet"
           }
          ],
          "heatmap": [
           {
            "colorbar": {
             "outlinewidth": 0,
             "ticks": ""
            },
            "colorscale": [
             [
              0,
              "#0d0887"
             ],
             [
              0.1111111111111111,
              "#46039f"
             ],
             [
              0.2222222222222222,
              "#7201a8"
             ],
             [
              0.3333333333333333,
              "#9c179e"
             ],
             [
              0.4444444444444444,
              "#bd3786"
             ],
             [
              0.5555555555555556,
              "#d8576b"
             ],
             [
              0.6666666666666666,
              "#ed7953"
             ],
             [
              0.7777777777777778,
              "#fb9f3a"
             ],
             [
              0.8888888888888888,
              "#fdca26"
             ],
             [
              1,
              "#f0f921"
             ]
            ],
            "type": "heatmap"
           }
          ],
          "heatmapgl": [
           {
            "colorbar": {
             "outlinewidth": 0,
             "ticks": ""
            },
            "colorscale": [
             [
              0,
              "#0d0887"
             ],
             [
              0.1111111111111111,
              "#46039f"
             ],
             [
              0.2222222222222222,
              "#7201a8"
             ],
             [
              0.3333333333333333,
              "#9c179e"
             ],
             [
              0.4444444444444444,
              "#bd3786"
             ],
             [
              0.5555555555555556,
              "#d8576b"
             ],
             [
              0.6666666666666666,
              "#ed7953"
             ],
             [
              0.7777777777777778,
              "#fb9f3a"
             ],
             [
              0.8888888888888888,
              "#fdca26"
             ],
             [
              1,
              "#f0f921"
             ]
            ],
            "type": "heatmapgl"
           }
          ],
          "histogram": [
           {
            "marker": {
             "colorbar": {
              "outlinewidth": 0,
              "ticks": ""
             }
            },
            "type": "histogram"
           }
          ],
          "histogram2d": [
           {
            "colorbar": {
             "outlinewidth": 0,
             "ticks": ""
            },
            "colorscale": [
             [
              0,
              "#0d0887"
             ],
             [
              0.1111111111111111,
              "#46039f"
             ],
             [
              0.2222222222222222,
              "#7201a8"
             ],
             [
              0.3333333333333333,
              "#9c179e"
             ],
             [
              0.4444444444444444,
              "#bd3786"
             ],
             [
              0.5555555555555556,
              "#d8576b"
             ],
             [
              0.6666666666666666,
              "#ed7953"
             ],
             [
              0.7777777777777778,
              "#fb9f3a"
             ],
             [
              0.8888888888888888,
              "#fdca26"
             ],
             [
              1,
              "#f0f921"
             ]
            ],
            "type": "histogram2d"
           }
          ],
          "histogram2dcontour": [
           {
            "colorbar": {
             "outlinewidth": 0,
             "ticks": ""
            },
            "colorscale": [
             [
              0,
              "#0d0887"
             ],
             [
              0.1111111111111111,
              "#46039f"
             ],
             [
              0.2222222222222222,
              "#7201a8"
             ],
             [
              0.3333333333333333,
              "#9c179e"
             ],
             [
              0.4444444444444444,
              "#bd3786"
             ],
             [
              0.5555555555555556,
              "#d8576b"
             ],
             [
              0.6666666666666666,
              "#ed7953"
             ],
             [
              0.7777777777777778,
              "#fb9f3a"
             ],
             [
              0.8888888888888888,
              "#fdca26"
             ],
             [
              1,
              "#f0f921"
             ]
            ],
            "type": "histogram2dcontour"
           }
          ],
          "mesh3d": [
           {
            "colorbar": {
             "outlinewidth": 0,
             "ticks": ""
            },
            "type": "mesh3d"
           }
          ],
          "parcoords": [
           {
            "line": {
             "colorbar": {
              "outlinewidth": 0,
              "ticks": ""
             }
            },
            "type": "parcoords"
           }
          ],
          "pie": [
           {
            "automargin": true,
            "type": "pie"
           }
          ],
          "scatter": [
           {
            "marker": {
             "colorbar": {
              "outlinewidth": 0,
              "ticks": ""
             }
            },
            "type": "scatter"
           }
          ],
          "scatter3d": [
           {
            "line": {
             "colorbar": {
              "outlinewidth": 0,
              "ticks": ""
             }
            },
            "marker": {
             "colorbar": {
              "outlinewidth": 0,
              "ticks": ""
             }
            },
            "type": "scatter3d"
           }
          ],
          "scattercarpet": [
           {
            "marker": {
             "colorbar": {
              "outlinewidth": 0,
              "ticks": ""
             }
            },
            "type": "scattercarpet"
           }
          ],
          "scattergeo": [
           {
            "marker": {
             "colorbar": {
              "outlinewidth": 0,
              "ticks": ""
             }
            },
            "type": "scattergeo"
           }
          ],
          "scattergl": [
           {
            "marker": {
             "colorbar": {
              "outlinewidth": 0,
              "ticks": ""
             }
            },
            "type": "scattergl"
           }
          ],
          "scattermapbox": [
           {
            "marker": {
             "colorbar": {
              "outlinewidth": 0,
              "ticks": ""
             }
            },
            "type": "scattermapbox"
           }
          ],
          "scatterpolar": [
           {
            "marker": {
             "colorbar": {
              "outlinewidth": 0,
              "ticks": ""
             }
            },
            "type": "scatterpolar"
           }
          ],
          "scatterpolargl": [
           {
            "marker": {
             "colorbar": {
              "outlinewidth": 0,
              "ticks": ""
             }
            },
            "type": "scatterpolargl"
           }
          ],
          "scatterternary": [
           {
            "marker": {
             "colorbar": {
              "outlinewidth": 0,
              "ticks": ""
             }
            },
            "type": "scatterternary"
           }
          ],
          "surface": [
           {
            "colorbar": {
             "outlinewidth": 0,
             "ticks": ""
            },
            "colorscale": [
             [
              0,
              "#0d0887"
             ],
             [
              0.1111111111111111,
              "#46039f"
             ],
             [
              0.2222222222222222,
              "#7201a8"
             ],
             [
              0.3333333333333333,
              "#9c179e"
             ],
             [
              0.4444444444444444,
              "#bd3786"
             ],
             [
              0.5555555555555556,
              "#d8576b"
             ],
             [
              0.6666666666666666,
              "#ed7953"
             ],
             [
              0.7777777777777778,
              "#fb9f3a"
             ],
             [
              0.8888888888888888,
              "#fdca26"
             ],
             [
              1,
              "#f0f921"
             ]
            ],
            "type": "surface"
           }
          ],
          "table": [
           {
            "cells": {
             "fill": {
              "color": "#EBF0F8"
             },
             "line": {
              "color": "white"
             }
            },
            "header": {
             "fill": {
              "color": "#C8D4E3"
             },
             "line": {
              "color": "white"
             }
            },
            "type": "table"
           }
          ]
         },
         "layout": {
          "annotationdefaults": {
           "arrowcolor": "#2a3f5f",
           "arrowhead": 0,
           "arrowwidth": 1
          },
          "coloraxis": {
           "colorbar": {
            "outlinewidth": 0,
            "ticks": ""
           }
          },
          "colorscale": {
           "diverging": [
            [
             0,
             "#8e0152"
            ],
            [
             0.1,
             "#c51b7d"
            ],
            [
             0.2,
             "#de77ae"
            ],
            [
             0.3,
             "#f1b6da"
            ],
            [
             0.4,
             "#fde0ef"
            ],
            [
             0.5,
             "#f7f7f7"
            ],
            [
             0.6,
             "#e6f5d0"
            ],
            [
             0.7,
             "#b8e186"
            ],
            [
             0.8,
             "#7fbc41"
            ],
            [
             0.9,
             "#4d9221"
            ],
            [
             1,
             "#276419"
            ]
           ],
           "sequential": [
            [
             0,
             "#0d0887"
            ],
            [
             0.1111111111111111,
             "#46039f"
            ],
            [
             0.2222222222222222,
             "#7201a8"
            ],
            [
             0.3333333333333333,
             "#9c179e"
            ],
            [
             0.4444444444444444,
             "#bd3786"
            ],
            [
             0.5555555555555556,
             "#d8576b"
            ],
            [
             0.6666666666666666,
             "#ed7953"
            ],
            [
             0.7777777777777778,
             "#fb9f3a"
            ],
            [
             0.8888888888888888,
             "#fdca26"
            ],
            [
             1,
             "#f0f921"
            ]
           ],
           "sequentialminus": [
            [
             0,
             "#0d0887"
            ],
            [
             0.1111111111111111,
             "#46039f"
            ],
            [
             0.2222222222222222,
             "#7201a8"
            ],
            [
             0.3333333333333333,
             "#9c179e"
            ],
            [
             0.4444444444444444,
             "#bd3786"
            ],
            [
             0.5555555555555556,
             "#d8576b"
            ],
            [
             0.6666666666666666,
             "#ed7953"
            ],
            [
             0.7777777777777778,
             "#fb9f3a"
            ],
            [
             0.8888888888888888,
             "#fdca26"
            ],
            [
             1,
             "#f0f921"
            ]
           ]
          },
          "colorway": [
           "#636efa",
           "#EF553B",
           "#00cc96",
           "#ab63fa",
           "#FFA15A",
           "#19d3f3",
           "#FF6692",
           "#B6E880",
           "#FF97FF",
           "#FECB52"
          ],
          "font": {
           "color": "#2a3f5f"
          },
          "geo": {
           "bgcolor": "white",
           "lakecolor": "white",
           "landcolor": "white",
           "showlakes": true,
           "showland": true,
           "subunitcolor": "#C8D4E3"
          },
          "hoverlabel": {
           "align": "left"
          },
          "hovermode": "closest",
          "mapbox": {
           "style": "light"
          },
          "paper_bgcolor": "white",
          "plot_bgcolor": "white",
          "polar": {
           "angularaxis": {
            "gridcolor": "#EBF0F8",
            "linecolor": "#EBF0F8",
            "ticks": ""
           },
           "bgcolor": "white",
           "radialaxis": {
            "gridcolor": "#EBF0F8",
            "linecolor": "#EBF0F8",
            "ticks": ""
           }
          },
          "scene": {
           "xaxis": {
            "backgroundcolor": "white",
            "gridcolor": "#DFE8F3",
            "gridwidth": 2,
            "linecolor": "#EBF0F8",
            "showbackground": true,
            "ticks": "",
            "zerolinecolor": "#EBF0F8"
           },
           "yaxis": {
            "backgroundcolor": "white",
            "gridcolor": "#DFE8F3",
            "gridwidth": 2,
            "linecolor": "#EBF0F8",
            "showbackground": true,
            "ticks": "",
            "zerolinecolor": "#EBF0F8"
           },
           "zaxis": {
            "backgroundcolor": "white",
            "gridcolor": "#DFE8F3",
            "gridwidth": 2,
            "linecolor": "#EBF0F8",
            "showbackground": true,
            "ticks": "",
            "zerolinecolor": "#EBF0F8"
           }
          },
          "shapedefaults": {
           "line": {
            "color": "#2a3f5f"
           }
          },
          "ternary": {
           "aaxis": {
            "gridcolor": "#DFE8F3",
            "linecolor": "#A2B1C6",
            "ticks": ""
           },
           "baxis": {
            "gridcolor": "#DFE8F3",
            "linecolor": "#A2B1C6",
            "ticks": ""
           },
           "bgcolor": "white",
           "caxis": {
            "gridcolor": "#DFE8F3",
            "linecolor": "#A2B1C6",
            "ticks": ""
           }
          },
          "title": {
           "x": 0.05
          },
          "xaxis": {
           "automargin": true,
           "gridcolor": "#EBF0F8",
           "linecolor": "#EBF0F8",
           "ticks": "",
           "title": {
            "standoff": 15
           },
           "zerolinecolor": "#EBF0F8",
           "zerolinewidth": 2
          },
          "yaxis": {
           "automargin": true,
           "gridcolor": "#EBF0F8",
           "linecolor": "#EBF0F8",
           "ticks": "",
           "title": {
            "standoff": 15
           },
           "zerolinecolor": "#EBF0F8",
           "zerolinewidth": 2
          }
         }
        },
        "title": {
         "text": "NEOFAC_O"
        },
        "width": 480,
        "xaxis": {
         "anchor": "y",
         "domain": [
          0,
          1
         ],
         "dtick": 0.2,
         "tickfont": {
          "size": 20
         },
         "title": {
          "font": {
           "size": 20
          },
          "text": "True"
         }
        },
        "yaxis": {
         "anchor": "x",
         "domain": [
          0,
          1
         ],
         "dtick": 0.2,
         "tickfont": {
          "size": 20
         },
         "title": {
          "font": {
           "size": 20
          },
          "text": "Predicted"
         }
        }
       }
      },
      "text/html": [
       "<div>\n",
       "        \n",
       "        \n",
       "            <div id=\"3aa09f02-bb17-4a8e-8d9b-8330d3a2251e\" class=\"plotly-graph-div\" style=\"height:400px; width:480px;\"></div>\n",
       "            <script type=\"text/javascript\">\n",
       "                require([\"plotly\"], function(Plotly) {\n",
       "                    window.PLOTLYENV=window.PLOTLYENV || {};\n",
       "                    \n",
       "                if (document.getElementById(\"3aa09f02-bb17-4a8e-8d9b-8330d3a2251e\")) {\n",
       "                    Plotly.newPlot(\n",
       "                        '3aa09f02-bb17-4a8e-8d9b-8330d3a2251e',\n",
       "                        [{\"hovertemplate\": \"tag=gru<br>true=%{x}<br>predicted=%{y}<extra></extra>\", \"legendgroup\": \"gru\", \"marker\": {\"color\": \"#636efa\", \"symbol\": \"circle\"}, \"mode\": \"markers\", \"name\": \"gru\", \"showlegend\": true, \"type\": \"scatter\", \"x\": [0.3448275923728943, 0.3103448152542114, 0.5517241358757019, 0.5862069129943848, 0.5517241358757019, 0.24137930572032928, 0.27586206793785095, 0.24137930572032928, 0.3448275923728943, 0.517241358757019, 0.7931034564971924, 0.48275861144065857, 0.48275861144065857, 0.27586206793785095, 0.48275861144065857, 0.24137930572032928, 0.27586206793785095, 0.1034482792019844, 0.6206896305084229, 0.4482758641242981, 0.517241358757019, 0.48275861144065857, 0.27586206793785095, 0.4482758641242981, 0.3103448152542114, 0.3448275923728943, 0.7931034564971924, 0.48275861144065857, 0.27586206793785095, 0.6206896305084229, 0.6206896305084229, 0.7586206793785095, 0.13793103396892548, 0.3448275923728943, 0.37931033968925476, 0.5862069129943848, 0.5862069129943848, 0.8620689511299133, 0.17241379618644714, 0.4482758641242981, 0.517241358757019, 0.24137930572032928, 0.3103448152542114, 0.5862069129943848, 0.6896551847457886, 0.13793103396892548, 0.2068965584039688, 0.517241358757019, 0.4482758641242981, 0.48275861144065857, 0.48275861144065857, 0.4482758641242981, 0.48275861144065857, 0.6551724076271057, 0.4137931168079376, 0.517241358757019, 0.2068965584039688, 0.6896551847457886, 0.6551724076271057, 0.37931033968925476, 0.4482758641242981, 0.3103448152542114, 0.17241379618644714, 0.4482758641242981, 0.2068965584039688, 0.517241358757019, 0.8620689511299133, 0.48275861144065857, 0.3103448152542114, 0.517241358757019, 0.48275861144065857, 0.5862069129943848, 0.48275861144065857, 0.3448275923728943, 0.7241379022598267, 0.517241358757019], \"xaxis\": \"x\", \"y\": [0.49641212821006775, 0.24968622624874115, 0.456736296415329, 0.6380459070205688, 0.3438737988471985, 0.515189528465271, 0.21507155895233154, 0.3083581328392029, 0.5160256624221802, 0.5497515201568604, 0.444552481174469, 0.28685376048088074, 0.39641276001930237, 0.48890021443367004, 0.4594970643520355, 0.3819112181663513, 0.3272823095321655, 0.3896676301956177, 0.3132088780403137, 0.4254615902900696, 0.5455386638641357, 0.40823081135749817, 0.5246932506561279, 0.5105843544006348, 0.41930195689201355, 0.46421951055526733, 0.46321746706962585, 0.5102419853210449, 0.4417368471622467, 0.6463278532028198, 0.5154001712799072, 0.4094257652759552, 0.29123497009277344, 0.357220858335495, 0.5213615894317627, 0.5777944326400757, 0.4706587791442871, 0.5914002656936646, 0.4920019507408142, 0.6613295078277588, 0.6000823974609375, 0.3324511647224426, 0.5112377405166626, 0.30154380202293396, 0.471996933221817, 0.5236442685127258, 0.42723187804222107, 0.38683825731277466, 0.2563633322715759, 0.5797353982925415, 0.5275291800498962, 0.6083035469055176, 0.4661889970302582, 0.2677767872810364, 0.42274972796440125, 0.33003976941108704, 0.44366148114204407, 0.5018738508224487, 0.4734687805175781, 0.4107134938240051, 0.3664915859699249, 0.4080919027328491, 0.43714895844459534, 0.5381401777267456, 0.16878534853458405, 0.5648031234741211, 0.492154061794281, 0.5448164939880371, 0.40153390169143677, 0.4217032492160797, 0.529991865158081, 0.5291611552238464, 0.5513608455657959, 0.4272666573524475, 0.5870202779769897, 0.144491046667099], \"yaxis\": \"y\"}, {\"hovertemplate\": \"<b>OLS trendline</b><br>predicted = 0.167048 * true + 0.372162<br>R<sup>2</sup>=0.070855<br><br>tag=gru<br>true=%{x}<br>predicted=%{y} <b>(trend)</b><extra></extra>\", \"legendgroup\": \"gru\", \"marker\": {\"color\": \"#636efa\", \"symbol\": \"circle\"}, \"mode\": \"lines\", \"name\": \"gru\", \"showlegend\": false, \"type\": \"scatter\", \"x\": [0.1034482792019844, 0.13793103396892548, 0.13793103396892548, 0.17241379618644714, 0.17241379618644714, 0.2068965584039688, 0.2068965584039688, 0.2068965584039688, 0.24137930572032928, 0.24137930572032928, 0.24137930572032928, 0.24137930572032928, 0.27586206793785095, 0.27586206793785095, 0.27586206793785095, 0.27586206793785095, 0.27586206793785095, 0.3103448152542114, 0.3103448152542114, 0.3103448152542114, 0.3103448152542114, 0.3103448152542114, 0.3448275923728943, 0.3448275923728943, 0.3448275923728943, 0.3448275923728943, 0.3448275923728943, 0.37931033968925476, 0.37931033968925476, 0.4137931168079376, 0.4482758641242981, 0.4482758641242981, 0.4482758641242981, 0.4482758641242981, 0.4482758641242981, 0.4482758641242981, 0.4482758641242981, 0.48275861144065857, 0.48275861144065857, 0.48275861144065857, 0.48275861144065857, 0.48275861144065857, 0.48275861144065857, 0.48275861144065857, 0.48275861144065857, 0.48275861144065857, 0.48275861144065857, 0.48275861144065857, 0.517241358757019, 0.517241358757019, 0.517241358757019, 0.517241358757019, 0.517241358757019, 0.517241358757019, 0.517241358757019, 0.517241358757019, 0.5517241358757019, 0.5517241358757019, 0.5862069129943848, 0.5862069129943848, 0.5862069129943848, 0.5862069129943848, 0.5862069129943848, 0.6206896305084229, 0.6206896305084229, 0.6206896305084229, 0.6551724076271057, 0.6551724076271057, 0.6896551847457886, 0.6896551847457886, 0.7241379022598267, 0.7586206793785095, 0.7931034564971924, 0.7931034564971924, 0.8620689511299133, 0.8620689511299133], \"xaxis\": \"x\", \"y\": [0.38944262257617607, 0.39520290034815314, 0.39520290034815314, 0.4009631793647353, 0.4009631793647353, 0.4067234583813175, 0.4067234583813175, 0.4067234583813175, 0.4124837349086894, 0.4124837349086894, 0.4124837349086894, 0.4124837349086894, 0.4182440139252716, 0.4182440139252716, 0.4182440139252716, 0.4182440139252716, 0.4182440139252716, 0.4240042904526435, 0.4240042904526435, 0.4240042904526435, 0.4240042904526435, 0.4240042904526435, 0.429764571958436, 0.429764571958436, 0.429764571958436, 0.429764571958436, 0.429764571958436, 0.43552484848580786, 0.43552484848580786, 0.4412851299916003, 0.44704540651897223, 0.44704540651897223, 0.44704540651897223, 0.44704540651897223, 0.44704540651897223, 0.44704540651897223, 0.44704540651897223, 0.45280568304634417, 0.45280568304634417, 0.45280568304634417, 0.45280568304634417, 0.45280568304634417, 0.45280568304634417, 0.45280568304634417, 0.45280568304634417, 0.45280568304634417, 0.45280568304634417, 0.45280568304634417, 0.45856595957371604, 0.45856595957371604, 0.45856595957371604, 0.45856595957371604, 0.45856595957371604, 0.45856595957371604, 0.45856595957371604, 0.45856595957371604, 0.4643262410795085, 0.4643262410795085, 0.470086522585301, 0.470086522585301, 0.470086522585301, 0.470086522585301, 0.470086522585301, 0.47584679413425235, 0.47584679413425235, 0.47584679413425235, 0.4816070756400448, 0.4816070756400448, 0.48736735714583723, 0.48736735714583723, 0.4931276286947886, 0.4988879102005811, 0.5046481917063735, 0.5046481917063735, 0.5161687447611173, 0.5161687447611173], \"yaxis\": \"y\"}],\n",
       "                        {\"font\": {\"color\": \"black\"}, \"height\": 400, \"legend\": {\"font\": {\"size\": 20}, \"title\": {\"text\": \"tag\"}, \"tracegroupgap\": 0}, \"margin\": {\"t\": 60}, \"template\": {\"data\": {\"bar\": [{\"error_x\": {\"color\": \"#2a3f5f\"}, \"error_y\": {\"color\": \"#2a3f5f\"}, \"marker\": {\"line\": {\"color\": \"white\", \"width\": 0.5}}, \"type\": \"bar\"}], \"barpolar\": [{\"marker\": {\"line\": {\"color\": \"white\", \"width\": 0.5}}, \"type\": \"barpolar\"}], \"carpet\": [{\"aaxis\": {\"endlinecolor\": \"#2a3f5f\", \"gridcolor\": \"#C8D4E3\", \"linecolor\": \"#C8D4E3\", \"minorgridcolor\": \"#C8D4E3\", \"startlinecolor\": \"#2a3f5f\"}, \"baxis\": {\"endlinecolor\": \"#2a3f5f\", \"gridcolor\": \"#C8D4E3\", \"linecolor\": \"#C8D4E3\", \"minorgridcolor\": \"#C8D4E3\", \"startlinecolor\": \"#2a3f5f\"}, \"type\": \"carpet\"}], \"choropleth\": [{\"colorbar\": {\"outlinewidth\": 0, \"ticks\": \"\"}, \"type\": \"choropleth\"}], \"contour\": [{\"colorbar\": {\"outlinewidth\": 0, \"ticks\": \"\"}, \"colorscale\": [[0.0, \"#0d0887\"], [0.1111111111111111, \"#46039f\"], [0.2222222222222222, \"#7201a8\"], [0.3333333333333333, \"#9c179e\"], [0.4444444444444444, \"#bd3786\"], [0.5555555555555556, \"#d8576b\"], [0.6666666666666666, \"#ed7953\"], [0.7777777777777778, \"#fb9f3a\"], [0.8888888888888888, \"#fdca26\"], [1.0, \"#f0f921\"]], \"type\": \"contour\"}], \"contourcarpet\": [{\"colorbar\": {\"outlinewidth\": 0, \"ticks\": \"\"}, \"type\": \"contourcarpet\"}], \"heatmap\": [{\"colorbar\": {\"outlinewidth\": 0, \"ticks\": \"\"}, \"colorscale\": [[0.0, \"#0d0887\"], [0.1111111111111111, \"#46039f\"], [0.2222222222222222, \"#7201a8\"], [0.3333333333333333, \"#9c179e\"], [0.4444444444444444, \"#bd3786\"], [0.5555555555555556, \"#d8576b\"], [0.6666666666666666, \"#ed7953\"], [0.7777777777777778, \"#fb9f3a\"], [0.8888888888888888, \"#fdca26\"], [1.0, \"#f0f921\"]], \"type\": \"heatmap\"}], \"heatmapgl\": [{\"colorbar\": {\"outlinewidth\": 0, \"ticks\": \"\"}, \"colorscale\": [[0.0, \"#0d0887\"], [0.1111111111111111, \"#46039f\"], [0.2222222222222222, \"#7201a8\"], [0.3333333333333333, \"#9c179e\"], [0.4444444444444444, \"#bd3786\"], [0.5555555555555556, \"#d8576b\"], [0.6666666666666666, \"#ed7953\"], [0.7777777777777778, \"#fb9f3a\"], [0.8888888888888888, \"#fdca26\"], [1.0, \"#f0f921\"]], \"type\": \"heatmapgl\"}], \"histogram\": [{\"marker\": {\"colorbar\": {\"outlinewidth\": 0, \"ticks\": \"\"}}, \"type\": \"histogram\"}], \"histogram2d\": [{\"colorbar\": {\"outlinewidth\": 0, \"ticks\": \"\"}, \"colorscale\": [[0.0, \"#0d0887\"], [0.1111111111111111, \"#46039f\"], [0.2222222222222222, \"#7201a8\"], [0.3333333333333333, \"#9c179e\"], [0.4444444444444444, \"#bd3786\"], [0.5555555555555556, \"#d8576b\"], [0.6666666666666666, \"#ed7953\"], [0.7777777777777778, \"#fb9f3a\"], [0.8888888888888888, \"#fdca26\"], [1.0, \"#f0f921\"]], \"type\": \"histogram2d\"}], \"histogram2dcontour\": [{\"colorbar\": {\"outlinewidth\": 0, \"ticks\": \"\"}, \"colorscale\": [[0.0, \"#0d0887\"], [0.1111111111111111, \"#46039f\"], [0.2222222222222222, \"#7201a8\"], [0.3333333333333333, \"#9c179e\"], [0.4444444444444444, \"#bd3786\"], [0.5555555555555556, \"#d8576b\"], [0.6666666666666666, \"#ed7953\"], [0.7777777777777778, \"#fb9f3a\"], [0.8888888888888888, \"#fdca26\"], [1.0, \"#f0f921\"]], \"type\": \"histogram2dcontour\"}], \"mesh3d\": [{\"colorbar\": {\"outlinewidth\": 0, \"ticks\": \"\"}, \"type\": \"mesh3d\"}], \"parcoords\": [{\"line\": {\"colorbar\": {\"outlinewidth\": 0, \"ticks\": \"\"}}, \"type\": \"parcoords\"}], \"pie\": [{\"automargin\": true, \"type\": \"pie\"}], \"scatter\": [{\"marker\": {\"colorbar\": {\"outlinewidth\": 0, \"ticks\": \"\"}}, \"type\": \"scatter\"}], \"scatter3d\": [{\"line\": {\"colorbar\": {\"outlinewidth\": 0, \"ticks\": \"\"}}, \"marker\": {\"colorbar\": {\"outlinewidth\": 0, \"ticks\": \"\"}}, \"type\": \"scatter3d\"}], \"scattercarpet\": [{\"marker\": {\"colorbar\": {\"outlinewidth\": 0, \"ticks\": \"\"}}, \"type\": \"scattercarpet\"}], \"scattergeo\": [{\"marker\": {\"colorbar\": {\"outlinewidth\": 0, \"ticks\": \"\"}}, \"type\": \"scattergeo\"}], \"scattergl\": [{\"marker\": {\"colorbar\": {\"outlinewidth\": 0, \"ticks\": \"\"}}, \"type\": \"scattergl\"}], \"scattermapbox\": [{\"marker\": {\"colorbar\": {\"outlinewidth\": 0, \"ticks\": \"\"}}, \"type\": \"scattermapbox\"}], \"scatterpolar\": [{\"marker\": {\"colorbar\": {\"outlinewidth\": 0, \"ticks\": \"\"}}, \"type\": \"scatterpolar\"}], \"scatterpolargl\": [{\"marker\": {\"colorbar\": {\"outlinewidth\": 0, \"ticks\": \"\"}}, \"type\": \"scatterpolargl\"}], \"scatterternary\": [{\"marker\": {\"colorbar\": {\"outlinewidth\": 0, \"ticks\": \"\"}}, \"type\": \"scatterternary\"}], \"surface\": [{\"colorbar\": {\"outlinewidth\": 0, \"ticks\": \"\"}, \"colorscale\": [[0.0, \"#0d0887\"], [0.1111111111111111, \"#46039f\"], [0.2222222222222222, \"#7201a8\"], [0.3333333333333333, \"#9c179e\"], [0.4444444444444444, \"#bd3786\"], [0.5555555555555556, \"#d8576b\"], [0.6666666666666666, \"#ed7953\"], [0.7777777777777778, \"#fb9f3a\"], [0.8888888888888888, \"#fdca26\"], [1.0, \"#f0f921\"]], \"type\": \"surface\"}], \"table\": [{\"cells\": {\"fill\": {\"color\": \"#EBF0F8\"}, \"line\": {\"color\": \"white\"}}, \"header\": {\"fill\": {\"color\": \"#C8D4E3\"}, \"line\": {\"color\": \"white\"}}, \"type\": \"table\"}]}, \"layout\": {\"annotationdefaults\": {\"arrowcolor\": \"#2a3f5f\", \"arrowhead\": 0, \"arrowwidth\": 1}, \"coloraxis\": {\"colorbar\": {\"outlinewidth\": 0, \"ticks\": \"\"}}, \"colorscale\": {\"diverging\": [[0, \"#8e0152\"], [0.1, \"#c51b7d\"], [0.2, \"#de77ae\"], [0.3, \"#f1b6da\"], [0.4, \"#fde0ef\"], [0.5, \"#f7f7f7\"], [0.6, \"#e6f5d0\"], [0.7, \"#b8e186\"], [0.8, \"#7fbc41\"], [0.9, \"#4d9221\"], [1, \"#276419\"]], \"sequential\": [[0.0, \"#0d0887\"], [0.1111111111111111, \"#46039f\"], [0.2222222222222222, \"#7201a8\"], [0.3333333333333333, \"#9c179e\"], [0.4444444444444444, \"#bd3786\"], [0.5555555555555556, \"#d8576b\"], [0.6666666666666666, \"#ed7953\"], [0.7777777777777778, \"#fb9f3a\"], [0.8888888888888888, \"#fdca26\"], [1.0, \"#f0f921\"]], \"sequentialminus\": [[0.0, \"#0d0887\"], [0.1111111111111111, \"#46039f\"], [0.2222222222222222, \"#7201a8\"], [0.3333333333333333, \"#9c179e\"], [0.4444444444444444, \"#bd3786\"], [0.5555555555555556, \"#d8576b\"], [0.6666666666666666, \"#ed7953\"], [0.7777777777777778, \"#fb9f3a\"], [0.8888888888888888, \"#fdca26\"], [1.0, \"#f0f921\"]]}, \"colorway\": [\"#636efa\", \"#EF553B\", \"#00cc96\", \"#ab63fa\", \"#FFA15A\", \"#19d3f3\", \"#FF6692\", \"#B6E880\", \"#FF97FF\", \"#FECB52\"], \"font\": {\"color\": \"#2a3f5f\"}, \"geo\": {\"bgcolor\": \"white\", \"lakecolor\": \"white\", \"landcolor\": \"white\", \"showlakes\": true, \"showland\": true, \"subunitcolor\": \"#C8D4E3\"}, \"hoverlabel\": {\"align\": \"left\"}, \"hovermode\": \"closest\", \"mapbox\": {\"style\": \"light\"}, \"paper_bgcolor\": \"white\", \"plot_bgcolor\": \"white\", \"polar\": {\"angularaxis\": {\"gridcolor\": \"#EBF0F8\", \"linecolor\": \"#EBF0F8\", \"ticks\": \"\"}, \"bgcolor\": \"white\", \"radialaxis\": {\"gridcolor\": \"#EBF0F8\", \"linecolor\": \"#EBF0F8\", \"ticks\": \"\"}}, \"scene\": {\"xaxis\": {\"backgroundcolor\": \"white\", \"gridcolor\": \"#DFE8F3\", \"gridwidth\": 2, \"linecolor\": \"#EBF0F8\", \"showbackground\": true, \"ticks\": \"\", \"zerolinecolor\": \"#EBF0F8\"}, \"yaxis\": {\"backgroundcolor\": \"white\", \"gridcolor\": \"#DFE8F3\", \"gridwidth\": 2, \"linecolor\": \"#EBF0F8\", \"showbackground\": true, \"ticks\": \"\", \"zerolinecolor\": \"#EBF0F8\"}, \"zaxis\": {\"backgroundcolor\": \"white\", \"gridcolor\": \"#DFE8F3\", \"gridwidth\": 2, \"linecolor\": \"#EBF0F8\", \"showbackground\": true, \"ticks\": \"\", \"zerolinecolor\": \"#EBF0F8\"}}, \"shapedefaults\": {\"line\": {\"color\": \"#2a3f5f\"}}, \"ternary\": {\"aaxis\": {\"gridcolor\": \"#DFE8F3\", \"linecolor\": \"#A2B1C6\", \"ticks\": \"\"}, \"baxis\": {\"gridcolor\": \"#DFE8F3\", \"linecolor\": \"#A2B1C6\", \"ticks\": \"\"}, \"bgcolor\": \"white\", \"caxis\": {\"gridcolor\": \"#DFE8F3\", \"linecolor\": \"#A2B1C6\", \"ticks\": \"\"}}, \"title\": {\"x\": 0.05}, \"xaxis\": {\"automargin\": true, \"gridcolor\": \"#EBF0F8\", \"linecolor\": \"#EBF0F8\", \"ticks\": \"\", \"title\": {\"standoff\": 15}, \"zerolinecolor\": \"#EBF0F8\", \"zerolinewidth\": 2}, \"yaxis\": {\"automargin\": true, \"gridcolor\": \"#EBF0F8\", \"linecolor\": \"#EBF0F8\", \"ticks\": \"\", \"title\": {\"standoff\": 15}, \"zerolinecolor\": \"#EBF0F8\", \"zerolinewidth\": 2}}}, \"title\": {\"text\": \"NEOFAC_O\"}, \"width\": 480, \"xaxis\": {\"anchor\": \"y\", \"domain\": [0.0, 1.0], \"dtick\": 0.2, \"tickfont\": {\"size\": 20}, \"title\": {\"font\": {\"size\": 20}, \"text\": \"True\"}}, \"yaxis\": {\"anchor\": \"x\", \"domain\": [0.0, 1.0], \"dtick\": 0.2, \"tickfont\": {\"size\": 20}, \"title\": {\"font\": {\"size\": 20}, \"text\": \"Predicted\"}}},\n",
       "                        {\"responsive\": true}\n",
       "                    ).then(function(){\n",
       "                            \n",
       "var gd = document.getElementById('3aa09f02-bb17-4a8e-8d9b-8330d3a2251e');\n",
       "var x = new MutationObserver(function (mutations, observer) {{\n",
       "        var display = window.getComputedStyle(gd).display;\n",
       "        if (!display || display === 'none') {{\n",
       "            console.log([gd, 'removed!']);\n",
       "            Plotly.purge(gd);\n",
       "            observer.disconnect();\n",
       "        }}\n",
       "}});\n",
       "\n",
       "// Listen for the removal of the full notebook cells\n",
       "var notebookContainer = gd.closest('#notebook-container');\n",
       "if (notebookContainer) {{\n",
       "    x.observe(notebookContainer, {childList: true});\n",
       "}}\n",
       "\n",
       "// Listen for the clearing of the current output cell\n",
       "var outputEl = gd.closest('.output');\n",
       "if (outputEl) {{\n",
       "    x.observe(outputEl, {childList: true});\n",
       "}}\n",
       "\n",
       "                        })\n",
       "                };\n",
       "                });\n",
       "            </script>\n",
       "        </div>"
      ]
     },
     "metadata": {},
     "output_type": "display_data"
    }
   ],
   "source": [
    "for bhv in select_bhv:\n",
    "    plot_y, plot_y_hat = [], []\n",
    "    plot_tag = []\n",
    "    for model in models:\n",
    "        plot_y += list(save_y[model][bhv])\n",
    "        plot_y_hat += list(save_y_hat[model][bhv])\n",
    "        k_sub = len(save_y[model][bhv])\n",
    "        plot_tag += [model]*k_sub\n",
    "\n",
    "    # df for px\n",
    "    df = pd.DataFrame(\n",
    "        {'true': plot_y, 'predicted': plot_y_hat,\n",
    "         'tag': plot_tag})\n",
    "    fig = px.scatter(df, x='true', y='predicted', \n",
    "                     color='tag', trendline='ols')\n",
    "    fig.update_layout(height=400, width=480,\n",
    "                      title_text=pretty_bhv[bhv],\n",
    "                      font_color='black',\n",
    "                      legend_font_size=20)\n",
    "    fig.update_xaxes(dtick=0.2, tickfont=dict(size=20),\n",
    "                     title=dict(text='True',\n",
    "                                font_size=20))\n",
    "    fig.update_yaxes(dtick=0.2, tickfont=dict(size=20),\n",
    "                     title=dict(text='Predicted',\n",
    "                                font_size=20))\n",
    "    fig.show()"
   ]
  },
  {
   "cell_type": "code",
   "execution_count": null,
   "metadata": {},
   "outputs": [],
   "source": []
  }
 ],
 "metadata": {
  "kernelspec": {
   "display_name": "Python 3.6.9 (tensorflow)",
   "language": "python",
   "name": "tensorflow"
  },
  "language_info": {
   "codemirror_mode": {
    "name": "ipython",
    "version": 3
   },
   "file_extension": ".py",
   "mimetype": "text/x-python",
   "name": "python",
   "nbconvert_exporter": "python",
   "pygments_lexer": "ipython3",
   "version": "3.6.9"
  }
 },
 "nbformat": 4,
 "nbformat_minor": 4
}
