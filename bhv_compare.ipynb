{
 "cells": [
  {
   "cell_type": "code",
   "execution_count": 1,
   "metadata": {},
   "outputs": [],
   "source": [
    "from IPython.display import HTML\n",
    "\n",
    "HTML('''<script>\n",
    "code_show=true; \n",
    "function code_toggle() {\n",
    " if (code_show){\n",
    " $('div.input').hide();\n",
    " } else {\n",
    " $('div.input').show();\n",
    " }\n",
    " code_show = !code_show\n",
    "} \n",
    "$( document ).ready(code_toggle);\n",
    "</script>\n",
    "<form action=\"javascript:code_toggle()\"><input type=\"submit\" value=\"Click here to toggle on/off the raw code.\"></form>''')"
   ]
  },
  {
   "cell_type": "markdown",
   "metadata": {},
   "source": [
    "# Behavior and personality prediction using HCP movie-watching data"
   ]
  },
  {
   "cell_type": "code",
   "execution_count": 2,
   "metadata": {},
   "outputs": [
    {
     "data": {
      "text/html": [
       "        <script type=\"text/javascript\">\n",
       "        window.PlotlyConfig = {MathJaxConfig: 'local'};\n",
       "        if (window.MathJax) {MathJax.Hub.Config({SVG: {font: \"STIX-Web\"}});}\n",
       "        if (typeof require !== 'undefined') {\n",
       "        require.undef(\"plotly\");\n",
       "        requirejs.config({\n",
       "            paths: {\n",
       "                'plotly': ['https://cdn.plot.ly/plotly-latest.min']\n",
       "            }\n",
       "        });\n",
       "        require(['plotly'], function(Plotly) {\n",
       "            window._Plotly = Plotly;\n",
       "        });\n",
       "        }\n",
       "        </script>\n",
       "        "
      ]
     },
     "metadata": {},
     "output_type": "display_data"
    },
    {
     "name": "stderr",
     "output_type": "stream",
     "text": [
      "pixdim[1,2,3] should be non-zero; setting 0 dims to 1\n"
     ]
    }
   ],
   "source": [
    "%load_ext autoreload\n",
    "%autoreload 2\n",
    "\n",
    "import numpy as np\n",
    "import pandas as pd\n",
    "import pickle\n",
    "import os\n",
    "from cc_utils import _get_clip_labels\n",
    "from gru.rb_utils import (\n",
    "    _get_results, get_cv_tbest, cv_agg,\n",
    "    get_grid_acc, get_best_param,\n",
    "    get_test_tbest, get_test_predictions,\n",
    "    get_static, get_static_predictions)\n",
    "\n",
    "# plot\n",
    "import plotly.offline as py\n",
    "py.init_notebook_mode(connected=True)\n",
    "import plotly.graph_objs as go\n",
    "import plotly.express as px\n",
    "from plotly.subplots import make_subplots\n",
    "import plotly.io as pio\n",
    "pio.templates.default = 'plotly_white'\n",
    "from plot_utils import (\n",
    "    _hex_to_rgb, _plot_ts,\n",
    "    _add_box, _highlight_max)\n",
    "\n",
    "colors = px.colors.qualitative.Plotly\n",
    "ccc = {'Train': '#D55E00', \n",
    "    'Validation': '#CC79A7',\n",
    "    'Test': '#CC79A7'}"
   ]
  },
  {
   "cell_type": "markdown",
   "metadata": {},
   "source": [
    "## Important parameters for visualization"
   ]
  },
  {
   "cell_type": "code",
   "execution_count": 3,
   "metadata": {},
   "outputs": [],
   "source": [
    "\"\"\" score: accuracy measure\n",
    "    \n",
    "    options:\n",
    "        's': Spearman rank correlation\n",
    "        'p': Pearson correlation\n",
    "        'mse': mean-squared error\n",
    "\"\"\"\n",
    "score = 's'\n",
    "pretty_score = 'Spearman rank correlation'\n",
    "\n",
    "\"\"\" criteria for hyperparameter selection\n",
    "    note: predictions are made for each clip\n",
    "    \n",
    "    options:\n",
    "        'max': based on 'max/min' score across clips\n",
    "        'mean': based on 'mean' score across clips\n",
    "\"\"\"\n",
    "criteria = 'mean'"
   ]
  },
  {
   "cell_type": "markdown",
   "metadata": {},
   "source": [
    "## Model parameters and clip information"
   ]
  },
  {
   "cell_type": "code",
   "execution_count": 4,
   "metadata": {},
   "outputs": [],
   "source": [
    "roi = 300\n",
    "net = 7\n",
    "subnet = 'wb'\n",
    "\n",
    "zscore = 1\n",
    "k_fold = 5\n",
    "train_size = 100"
   ]
  },
  {
   "cell_type": "code",
   "execution_count": 5,
   "metadata": {},
   "outputs": [
    {
     "name": "stdout",
     "output_type": "stream",
     "text": [
      "Behavior / personality scores include:\n",
      "Fluid Intelligence\n",
      "Verbal IQ\n",
      "NEOFAC_A\n",
      "NEOFAC_E\n",
      "NEOFAC_C\n",
      "NEOFAC_N\n",
      "NEOFAC_O\n"
     ]
    }
   ],
   "source": [
    "clip_y = _get_clip_labels()\n",
    "clip_y['testretest'] = 0\n",
    "k_clip = len(np.unique(list(clip_y.values())))\n",
    "\n",
    "clip_names = np.zeros(k_clip).astype(str)\n",
    "clip_names[0] = 'testretest'\n",
    "for key, item in clip_y.items():\n",
    "    if item != 0:\n",
    "        clip_names[item] = key\n",
    "        \n",
    "select_bhv = ['PMAT24_A_CR', 'PicVocab_Unadj',\n",
    "              'NEOFAC_A', 'NEOFAC_E', 'NEOFAC_C',\n",
    "              'NEOFAC_N', 'NEOFAC_O']\n",
    "\n",
    "pretty_bhv = {}\n",
    "for bhv in select_bhv:\n",
    "    pretty_bhv[bhv] = bhv\n",
    "pretty_bhv['PMAT24_A_CR'] = 'Fluid Intelligence'\n",
    "pretty_bhv['PicVocab_Unadj'] = 'Verbal IQ'\n",
    "print('Behavior / personality scores include:')\n",
    "for bhv in select_bhv:\n",
    "    print(pretty_bhv[bhv])"
   ]
  },
  {
   "cell_type": "code",
   "execution_count": 6,
   "metadata": {},
   "outputs": [],
   "source": [
    "class GRU_ARGS():\n",
    "    roi = roi\n",
    "    net = net\n",
    "    subnet = subnet\n",
    "    \n",
    "    zscore = zscore\n",
    "    k_fold = k_fold\n",
    "    train_size = train_size\n",
    "    \n",
    "    # model\n",
    "    model_type = 'gru'\n",
    "    k_param = [32]\n",
    "    param_str = 'k_hidden'\n",
    "    k_layers = 1\n",
    "    batch_size = 30\n",
    "    num_epochs = [20]\n",
    "    \n",
    "    l2 = 0.0\n",
    "    dropout=0.000001\n",
    "    lr=0.001\n",
    "    \n",
    "    RES_DIR = 'results/bhv_{}'.format(model_type)\n",
    "    \n",
    "    select_bhv = select_bhv\n",
    "    clip_names = clip_names\n",
    "    clip_y = clip_y"
   ]
  },
  {
   "cell_type": "code",
   "execution_count": 7,
   "metadata": {},
   "outputs": [],
   "source": [
    "class FF_ARGS():\n",
    "    roi = roi\n",
    "    net = net\n",
    "    subnet = subnet\n",
    "    \n",
    "    zscore = zscore\n",
    "    k_fold = k_fold\n",
    "    train_size = train_size\n",
    "    \n",
    "    # model\n",
    "    model_type = 'ff'\n",
    "    k_param = [1]\n",
    "    param_str = 'k_layers'\n",
    "    k_hidden = 103\n",
    "    batch_size = 30\n",
    "    num_epochs = [20]\n",
    "    \n",
    "    RES_DIR = 'results/bhv_{}'.format(model_type)\n",
    "    \n",
    "    select_bhv = select_bhv\n",
    "    clip_names = clip_names\n",
    "    clip_y = clip_y"
   ]
  },
  {
   "cell_type": "code",
   "execution_count": 8,
   "metadata": {},
   "outputs": [],
   "source": [
    "class TCN_ARGS():\n",
    "    roi = roi\n",
    "    net = net\n",
    "    subnet = subnet\n",
    "    \n",
    "    zscore = zscore\n",
    "    k_fold = k_fold\n",
    "    train_size = train_size\n",
    "    \n",
    "    # model\n",
    "    model_type = 'tcn'\n",
    "    k_param = [5]\n",
    "    param_str = 'k_wind'\n",
    "    k_hidden = 25\n",
    "    batch_size = 30\n",
    "    num_epochs = [20]\n",
    "    \n",
    "    RES_DIR = 'results/bhv_{}'.format(model_type)\n",
    "    \n",
    "    select_bhv = select_bhv\n",
    "    clip_names = clip_names\n",
    "    clip_y = clip_y"
   ]
  },
  {
   "cell_type": "code",
   "execution_count": 9,
   "metadata": {},
   "outputs": [],
   "source": [
    "class CPM_ARGS():\n",
    "    roi = roi\n",
    "    net = net\n",
    "    subnet = subnet\n",
    "    \n",
    "    zscore = zscore\n",
    "    k_fold = k_fold\n",
    "    train_size = train_size\n",
    "    \n",
    "    # cpm\n",
    "    model_type = 'cpm'\n",
    "    k_param = [0.2]\n",
    "    param_str = 'corr_thresh'\n",
    "    \n",
    "    RES_DIR = 'results/bhv_{}'.format(model_type)\n",
    "    \n",
    "    select_bhv = select_bhv\n",
    "    clip_names = clip_names\n",
    "    clip_y = clip_y"
   ]
  },
  {
   "cell_type": "code",
   "execution_count": 10,
   "metadata": {},
   "outputs": [
    {
     "name": "stdout",
     "output_type": "stream",
     "text": [
      "Models include:\n",
      "GRU  : Gated Recurrent Unit\n",
      "FF   : Feedforward Neural Network\n",
      "TCN  : Temporal Convolutional Network\n",
      "CPM  : Connectome-based Predictive Modeling\n"
     ]
    }
   ],
   "source": [
    "models = ['gru','ff','tcn','cpm']\n",
    "pretty_model = {'gru': 'Gated Recurrent Unit',\n",
    "                'ff': 'Feedforward Neural Network',\n",
    "                'tcn': 'Temporal Convolutional Network',\n",
    "                'cpm': 'Connectome-based Predictive Modeling'}\n",
    "print('Models include:')\n",
    "for model in models:\n",
    "    print(f'{model.upper():5}: {pretty_model[model]}')"
   ]
  },
  {
   "cell_type": "code",
   "execution_count": 11,
   "metadata": {},
   "outputs": [],
   "source": [
    "args = {}\n",
    "args['gru'] = GRU_ARGS()\n",
    "args['ff'] = FF_ARGS()\n",
    "args['tcn'] = TCN_ARGS()\n",
    "args['cpm'] = CPM_ARGS()\n",
    "\n",
    "K_RUNS = 4"
   ]
  },
  {
   "cell_type": "markdown",
   "metadata": {},
   "source": [
    "## Find best hyperparameters for behavior prediction"
   ]
  },
  {
   "cell_type": "code",
   "execution_count": 15,
   "metadata": {
    "scrolled": true
   },
   "outputs": [
    {
     "name": "stdout",
     "output_type": "stream",
     "text": [
      "32 20\n",
      "gru  - Fluid Intelligence  : num_epochs = 20, k_hidden   = 32\n",
      "32 20\n",
      "gru  - Verbal IQ           : num_epochs = 20, k_hidden   = 32\n",
      "32 20\n",
      "gru  - NEOFAC_A            : num_epochs = 20, k_hidden   = 32\n",
      "32 20\n",
      "gru  - NEOFAC_E            : num_epochs = 20, k_hidden   = 32\n",
      "32 20\n",
      "gru  - NEOFAC_C            : num_epochs = 20, k_hidden   = 32\n",
      "32 20\n",
      "gru  - NEOFAC_N            : num_epochs = 20, k_hidden   = 32\n",
      "32 20\n",
      "gru  - NEOFAC_O            : num_epochs = 20, k_hidden   = 32\n",
      "---\n",
      "1 20\n",
      "ff   - Fluid Intelligence  : num_epochs = 20, k_layers   = 1\n",
      "1 20\n",
      "ff   - Verbal IQ           : num_epochs = 20, k_layers   = 1\n",
      "1 20\n",
      "ff   - NEOFAC_A            : num_epochs = 20, k_layers   = 1\n",
      "1 20\n",
      "ff   - NEOFAC_E            : num_epochs = 20, k_layers   = 1\n",
      "1 20\n",
      "ff   - NEOFAC_C            : num_epochs = 20, k_layers   = 1\n",
      "1 20\n",
      "ff   - NEOFAC_N            : num_epochs = 20, k_layers   = 1\n",
      "1 20\n",
      "ff   - NEOFAC_O            : num_epochs = 20, k_layers   = 1\n",
      "---\n",
      "5 20\n",
      "tcn  - Fluid Intelligence  : num_epochs = 20, k_wind     = 5\n",
      "5 20\n",
      "tcn  - Verbal IQ           : num_epochs = 20, k_wind     = 5\n",
      "5 20\n",
      "tcn  - NEOFAC_A            : num_epochs = 20, k_wind     = 5\n",
      "5 20\n",
      "tcn  - NEOFAC_E            : num_epochs = 20, k_wind     = 5\n",
      "5 20\n",
      "tcn  - NEOFAC_C            : num_epochs = 20, k_wind     = 5\n",
      "5 20\n",
      "tcn  - NEOFAC_N            : num_epochs = 20, k_wind     = 5\n",
      "5 20\n",
      "tcn  - NEOFAC_O            : num_epochs = 20, k_wind     = 5\n",
      "---\n",
      "cpm  - PMAT24_A_CR         : corr_thresh = 0.2\n",
      "cpm  - PicVocab_Unadj      : corr_thresh = 0.2\n",
      "cpm  - NEOFAC_A            : corr_thresh = 0.2\n",
      "cpm  - NEOFAC_E            : corr_thresh = 0.2\n",
      "cpm  - NEOFAC_C            : corr_thresh = 0.2\n",
      "cpm  - NEOFAC_N            : corr_thresh = 0.2\n",
      "cpm  - NEOFAC_O            : corr_thresh = 0.2\n",
      "---\n"
     ]
    }
   ],
   "source": [
    "opt_hyperparam = {}\n",
    "for model in models:\n",
    "    opt_hyperparam[model] = {}\n",
    "    for ii, bhv in enumerate(select_bhv):\n",
    "        opt_hyperparam[model][bhv] = {}\n",
    "        if model in ['gru','ff','tcn']:\n",
    "            num_epoch, k_param = get_best_param(\n",
    "                args[model], bhv, score = score, criteria = criteria)\n",
    "            print('{:4} - {:20}: num_epochs = {:02}, {:10} = {}'.format(\n",
    "                model, pretty_bhv[bhv], num_epoch, \n",
    "                args[model].param_str, k_param))\n",
    "            opt_hyperparam[model][bhv]['num_epochs'] = num_epoch\n",
    "            opt_hyperparam[model][bhv][args[model].param_str] = k_param\n",
    "        elif model in ['cpm', 'bbs']:\n",
    "            k_param = get_best_param(\n",
    "                args[model], bhv, score = score, criteria = criteria)\n",
    "            print('{:4} - {:20}: {} = {}'.format(\n",
    "                model, bhv, args[model].param_str, k_param))\n",
    "            opt_hyperparam[model][bhv][args[model].param_str] = k_param\n",
    "    print('---')"
   ]
  },
  {
   "cell_type": "markdown",
   "metadata": {},
   "source": [
    "## Get test score and prediction based on optimal hyperparameters"
   ]
  },
  {
   "cell_type": "code",
   "execution_count": 16,
   "metadata": {},
   "outputs": [],
   "source": [
    "def get_score_and_predictions(args, star_hyper, score):\n",
    "    \"\"\"get test accuracy and predictions at tbest\n",
    "        \n",
    "    Args:\n",
    "        bhv_measures\n",
    "        star_hyper: saved optimal hyperparameters\n",
    "        score: 'p', 's', or 'mse'\n",
    "        \n",
    "    Return:\n",
    "        test_acc: best score\n",
    "        y_hat: predictions\n",
    "        y: true scores\n",
    "    \"\"\"\n",
    "    bhv_measures = args.select_bhv\n",
    "    k_clips = len(clip_names)\n",
    "    \n",
    "    test_acc = {}\n",
    "    y_hat, y = {}, {}\n",
    "    fig = {}\n",
    "    for ii, bhv in enumerate(bhv_measures):\n",
    "        \n",
    "        if args.model_type in ['gru','ff','tcn']:\n",
    "            num_epochs = star_hyper[bhv]['num_epochs']\n",
    "            k_param = star_hyper[bhv][args.param_str]\n",
    "            r = _get_results(args, bhv, num_epochs, k_param)\n",
    "            \n",
    "            clip_test_acc = np.zeros(len(clip_names))\n",
    "            for jj, clip in enumerate(clip_names):\n",
    "                _, V = get_test_tbest(args, clip, r, score)\n",
    "                clip_test_acc[jj] = V\n",
    "\n",
    "            if score != 'mse':\n",
    "                best_clip = clip_names[np.argmax(clip_test_acc)]\n",
    "                test_acc[bhv] = np.max(clip_test_acc)\n",
    "            else:\n",
    "                best_clip = clip_names[np.argmin(clip_test_acc)]\n",
    "                test_acc[bhv] = np.min(clip_test_acc)\n",
    "\n",
    "            y_hat[bhv], y[bhv] = get_test_predictions(args, best_clip, \n",
    "                                                      r, score)\n",
    "            \n",
    "        elif args.model_type in ['cpm', 'bbs']:\n",
    "            k_param = star_hyper[bhv][args.param_str]\n",
    "            r = _get_results(args, bhv, k_param = k_param)\n",
    "\n",
    "            c_acc = np.zeros(k_clips)\n",
    "            for jj, clip in enumerate(clip_names):\n",
    "                _, V = get_static(args, clip, r, score)\n",
    "                c_acc[jj] = V\n",
    "\n",
    "            if score != 'mse':\n",
    "                best_clip = clip_names[np.argmax(c_acc)]\n",
    "            else:\n",
    "                best_clip = clip_names[np.argmin(c_acc)]\n",
    "\n",
    "            _, test_acc[bhv] = get_static(args, best_clip, r, score,\n",
    "                                          mode='test')\n",
    "\n",
    "            y_hat[bhv], y[bhv] = get_static_predictions(args, best_clip, \n",
    "                                                        r, score)\n",
    "        \n",
    "        # df for px\n",
    "        df = pd.DataFrame({'true': y[bhv],\n",
    "                           'predicted':y_hat[bhv]})\n",
    "        fig[bhv] = px.scatter(df, x='true', \n",
    "            y='predicted', trendline='ols')\n",
    "        fig[bhv].update_layout(height=350, width=400,\n",
    "                               title_text=pretty_bhv[bhv])\n",
    "        fig[bhv].update_xaxes(dtick=0.2)\n",
    "        fig[bhv].update_yaxes(dtick=0.2)\n",
    "    \n",
    "    return test_acc, y_hat, y, fig"
   ]
  },
  {
   "cell_type": "code",
   "execution_count": 17,
   "metadata": {},
   "outputs": [],
   "source": [
    "test_acc = {}\n",
    "save_y_hat, save_y = {}, {}\n",
    "for model in models:\n",
    "    t_acc, pred, true, _ = get_score_and_predictions(\n",
    "        args[model], opt_hyperparam[model], score)\n",
    "    test_acc[model] = t_acc\n",
    "    save_y_hat[model] = pred\n",
    "    save_y[model] = true"
   ]
  },
  {
   "cell_type": "code",
   "execution_count": 18,
   "metadata": {},
   "outputs": [
    {
     "data": {
      "text/html": [
       "<div>\n",
       "<style scoped>\n",
       "    .dataframe tbody tr th:only-of-type {\n",
       "        vertical-align: middle;\n",
       "    }\n",
       "\n",
       "    .dataframe tbody tr th {\n",
       "        vertical-align: top;\n",
       "    }\n",
       "\n",
       "    .dataframe thead th {\n",
       "        text-align: right;\n",
       "    }\n",
       "</style>\n",
       "<table border=\"1\" class=\"dataframe\">\n",
       "  <thead>\n",
       "    <tr style=\"text-align: right;\">\n",
       "      <th></th>\n",
       "      <th>bhv</th>\n",
       "      <th>GRU</th>\n",
       "      <th>FF</th>\n",
       "      <th>TCN</th>\n",
       "      <th>CPM</th>\n",
       "    </tr>\n",
       "  </thead>\n",
       "  <tbody>\n",
       "    <tr>\n",
       "      <th>0</th>\n",
       "      <td>Fluid Intelligence</td>\n",
       "      <td>0.3442</td>\n",
       "      <td>0.2231</td>\n",
       "      <td>0.2816</td>\n",
       "      <td>0.0655</td>\n",
       "    </tr>\n",
       "    <tr>\n",
       "      <th>1</th>\n",
       "      <td>Verbal IQ</td>\n",
       "      <td>0.2579</td>\n",
       "      <td>0.1738</td>\n",
       "      <td>0.2563</td>\n",
       "      <td>-0.0193</td>\n",
       "    </tr>\n",
       "    <tr>\n",
       "      <th>2</th>\n",
       "      <td>NEOFAC_A</td>\n",
       "      <td>0.1502</td>\n",
       "      <td>0.2503</td>\n",
       "      <td>0.1495</td>\n",
       "      <td>-0.0143</td>\n",
       "    </tr>\n",
       "    <tr>\n",
       "      <th>3</th>\n",
       "      <td>NEOFAC_E</td>\n",
       "      <td>0.2452</td>\n",
       "      <td>0.3578</td>\n",
       "      <td>0.3153</td>\n",
       "      <td>0.0899</td>\n",
       "    </tr>\n",
       "    <tr>\n",
       "      <th>4</th>\n",
       "      <td>NEOFAC_C</td>\n",
       "      <td>0.2552</td>\n",
       "      <td>0.2635</td>\n",
       "      <td>0.3065</td>\n",
       "      <td>0.1006</td>\n",
       "    </tr>\n",
       "    <tr>\n",
       "      <th>5</th>\n",
       "      <td>NEOFAC_N</td>\n",
       "      <td>0.1572</td>\n",
       "      <td>0.1205</td>\n",
       "      <td>0.2033</td>\n",
       "      <td>0.0633</td>\n",
       "    </tr>\n",
       "    <tr>\n",
       "      <th>6</th>\n",
       "      <td>NEOFAC_O</td>\n",
       "      <td>0.1910</td>\n",
       "      <td>0.1990</td>\n",
       "      <td>0.3204</td>\n",
       "      <td>0.1623</td>\n",
       "    </tr>\n",
       "  </tbody>\n",
       "</table>\n",
       "</div>"
      ],
      "text/plain": [
       "                  bhv     GRU      FF     TCN      CPM\n",
       "0  Fluid Intelligence  0.3442  0.2231  0.2816   0.0655\n",
       "1           Verbal IQ  0.2579  0.1738  0.2563  -0.0193\n",
       "2            NEOFAC_A  0.1502  0.2503  0.1495  -0.0143\n",
       "3            NEOFAC_E  0.2452  0.3578  0.3153   0.0899\n",
       "4            NEOFAC_C  0.2552  0.2635  0.3065   0.1006\n",
       "5            NEOFAC_N  0.1572  0.1205  0.2033   0.0633\n",
       "6            NEOFAC_O  0.1910  0.1990  0.3204   0.1623"
      ]
     },
     "execution_count": 18,
     "metadata": {},
     "output_type": "execute_result"
    }
   ],
   "source": [
    "best_score = {'bhv':[]}\n",
    "for model in models:\n",
    "    best_score[model.upper()] = []\n",
    "for ii, bhv in enumerate(select_bhv):\n",
    "    best_score['bhv'].append(pretty_bhv[bhv])\n",
    "    for model in models:\n",
    "        best_score[model.upper()].append(f'{test_acc[model][bhv]:.4f}')\n",
    "df = pd.DataFrame(best_score)\n",
    "df"
   ]
  },
  {
   "cell_type": "code",
   "execution_count": 19,
   "metadata": {},
   "outputs": [
    {
     "data": {
      "application/vnd.plotly.v1+json": {
       "config": {
        "plotlyServerURL": "https://plot.ly"
       },
       "data": [
        {
         "name": "GRU",
         "type": "bar",
         "x": [
          "Fluid Intelligence",
          "Verbal IQ",
          "NEOFAC_A",
          "NEOFAC_E",
          "NEOFAC_C",
          "NEOFAC_N",
          "NEOFAC_O"
         ],
         "y": [
          0.3441884091477088,
          0.2578537252221462,
          0.15022692786465663,
          0.24517225349516306,
          0.255240739626968,
          0.15721246056357333,
          0.19104010200452515
         ]
        },
        {
         "name": "FF",
         "type": "bar",
         "x": [
          "Fluid Intelligence",
          "Verbal IQ",
          "NEOFAC_A",
          "NEOFAC_E",
          "NEOFAC_C",
          "NEOFAC_N",
          "NEOFAC_O"
         ],
         "y": [
          0.2231369993180882,
          0.1737799043062201,
          0.2503096539037337,
          0.3578322285024106,
          0.2635291110227233,
          0.12053092385870609,
          0.19904924913809602
         ]
        },
        {
         "name": "TCN",
         "type": "bar",
         "x": [
          "Fluid Intelligence",
          "Verbal IQ",
          "NEOFAC_A",
          "NEOFAC_E",
          "NEOFAC_C",
          "NEOFAC_N",
          "NEOFAC_O"
         ],
         "y": [
          0.2816286887180502,
          0.25626794258373203,
          0.14950020030196706,
          0.3152912003416325,
          0.30649164440634047,
          0.2032562878399743,
          0.32043445680802074
         ]
        },
        {
         "name": "CPM",
         "type": "bar",
         "x": [
          "Fluid Intelligence",
          "Verbal IQ",
          "NEOFAC_A",
          "NEOFAC_E",
          "NEOFAC_C",
          "NEOFAC_N",
          "NEOFAC_O"
         ],
         "y": [
          0.06551454026541799,
          -0.019330143540669857,
          -0.01430144996009829,
          0.08991688663087827,
          0.10057013953097377,
          0.06326057245626392,
          0.16234980097125398
         ]
        }
       ],
       "layout": {
        "barmode": "group",
        "template": {
         "data": {
          "bar": [
           {
            "error_x": {
             "color": "#2a3f5f"
            },
            "error_y": {
             "color": "#2a3f5f"
            },
            "marker": {
             "line": {
              "color": "white",
              "width": 0.5
             }
            },
            "type": "bar"
           }
          ],
          "barpolar": [
           {
            "marker": {
             "line": {
              "color": "white",
              "width": 0.5
             }
            },
            "type": "barpolar"
           }
          ],
          "carpet": [
           {
            "aaxis": {
             "endlinecolor": "#2a3f5f",
             "gridcolor": "#C8D4E3",
             "linecolor": "#C8D4E3",
             "minorgridcolor": "#C8D4E3",
             "startlinecolor": "#2a3f5f"
            },
            "baxis": {
             "endlinecolor": "#2a3f5f",
             "gridcolor": "#C8D4E3",
             "linecolor": "#C8D4E3",
             "minorgridcolor": "#C8D4E3",
             "startlinecolor": "#2a3f5f"
            },
            "type": "carpet"
           }
          ],
          "choropleth": [
           {
            "colorbar": {
             "outlinewidth": 0,
             "ticks": ""
            },
            "type": "choropleth"
           }
          ],
          "contour": [
           {
            "colorbar": {
             "outlinewidth": 0,
             "ticks": ""
            },
            "colorscale": [
             [
              0,
              "#0d0887"
             ],
             [
              0.1111111111111111,
              "#46039f"
             ],
             [
              0.2222222222222222,
              "#7201a8"
             ],
             [
              0.3333333333333333,
              "#9c179e"
             ],
             [
              0.4444444444444444,
              "#bd3786"
             ],
             [
              0.5555555555555556,
              "#d8576b"
             ],
             [
              0.6666666666666666,
              "#ed7953"
             ],
             [
              0.7777777777777778,
              "#fb9f3a"
             ],
             [
              0.8888888888888888,
              "#fdca26"
             ],
             [
              1,
              "#f0f921"
             ]
            ],
            "type": "contour"
           }
          ],
          "contourcarpet": [
           {
            "colorbar": {
             "outlinewidth": 0,
             "ticks": ""
            },
            "type": "contourcarpet"
           }
          ],
          "heatmap": [
           {
            "colorbar": {
             "outlinewidth": 0,
             "ticks": ""
            },
            "colorscale": [
             [
              0,
              "#0d0887"
             ],
             [
              0.1111111111111111,
              "#46039f"
             ],
             [
              0.2222222222222222,
              "#7201a8"
             ],
             [
              0.3333333333333333,
              "#9c179e"
             ],
             [
              0.4444444444444444,
              "#bd3786"
             ],
             [
              0.5555555555555556,
              "#d8576b"
             ],
             [
              0.6666666666666666,
              "#ed7953"
             ],
             [
              0.7777777777777778,
              "#fb9f3a"
             ],
             [
              0.8888888888888888,
              "#fdca26"
             ],
             [
              1,
              "#f0f921"
             ]
            ],
            "type": "heatmap"
           }
          ],
          "heatmapgl": [
           {
            "colorbar": {
             "outlinewidth": 0,
             "ticks": ""
            },
            "colorscale": [
             [
              0,
              "#0d0887"
             ],
             [
              0.1111111111111111,
              "#46039f"
             ],
             [
              0.2222222222222222,
              "#7201a8"
             ],
             [
              0.3333333333333333,
              "#9c179e"
             ],
             [
              0.4444444444444444,
              "#bd3786"
             ],
             [
              0.5555555555555556,
              "#d8576b"
             ],
             [
              0.6666666666666666,
              "#ed7953"
             ],
             [
              0.7777777777777778,
              "#fb9f3a"
             ],
             [
              0.8888888888888888,
              "#fdca26"
             ],
             [
              1,
              "#f0f921"
             ]
            ],
            "type": "heatmapgl"
           }
          ],
          "histogram": [
           {
            "marker": {
             "colorbar": {
              "outlinewidth": 0,
              "ticks": ""
             }
            },
            "type": "histogram"
           }
          ],
          "histogram2d": [
           {
            "colorbar": {
             "outlinewidth": 0,
             "ticks": ""
            },
            "colorscale": [
             [
              0,
              "#0d0887"
             ],
             [
              0.1111111111111111,
              "#46039f"
             ],
             [
              0.2222222222222222,
              "#7201a8"
             ],
             [
              0.3333333333333333,
              "#9c179e"
             ],
             [
              0.4444444444444444,
              "#bd3786"
             ],
             [
              0.5555555555555556,
              "#d8576b"
             ],
             [
              0.6666666666666666,
              "#ed7953"
             ],
             [
              0.7777777777777778,
              "#fb9f3a"
             ],
             [
              0.8888888888888888,
              "#fdca26"
             ],
             [
              1,
              "#f0f921"
             ]
            ],
            "type": "histogram2d"
           }
          ],
          "histogram2dcontour": [
           {
            "colorbar": {
             "outlinewidth": 0,
             "ticks": ""
            },
            "colorscale": [
             [
              0,
              "#0d0887"
             ],
             [
              0.1111111111111111,
              "#46039f"
             ],
             [
              0.2222222222222222,
              "#7201a8"
             ],
             [
              0.3333333333333333,
              "#9c179e"
             ],
             [
              0.4444444444444444,
              "#bd3786"
             ],
             [
              0.5555555555555556,
              "#d8576b"
             ],
             [
              0.6666666666666666,
              "#ed7953"
             ],
             [
              0.7777777777777778,
              "#fb9f3a"
             ],
             [
              0.8888888888888888,
              "#fdca26"
             ],
             [
              1,
              "#f0f921"
             ]
            ],
            "type": "histogram2dcontour"
           }
          ],
          "mesh3d": [
           {
            "colorbar": {
             "outlinewidth": 0,
             "ticks": ""
            },
            "type": "mesh3d"
           }
          ],
          "parcoords": [
           {
            "line": {
             "colorbar": {
              "outlinewidth": 0,
              "ticks": ""
             }
            },
            "type": "parcoords"
           }
          ],
          "pie": [
           {
            "automargin": true,
            "type": "pie"
           }
          ],
          "scatter": [
           {
            "marker": {
             "colorbar": {
              "outlinewidth": 0,
              "ticks": ""
             }
            },
            "type": "scatter"
           }
          ],
          "scatter3d": [
           {
            "line": {
             "colorbar": {
              "outlinewidth": 0,
              "ticks": ""
             }
            },
            "marker": {
             "colorbar": {
              "outlinewidth": 0,
              "ticks": ""
             }
            },
            "type": "scatter3d"
           }
          ],
          "scattercarpet": [
           {
            "marker": {
             "colorbar": {
              "outlinewidth": 0,
              "ticks": ""
             }
            },
            "type": "scattercarpet"
           }
          ],
          "scattergeo": [
           {
            "marker": {
             "colorbar": {
              "outlinewidth": 0,
              "ticks": ""
             }
            },
            "type": "scattergeo"
           }
          ],
          "scattergl": [
           {
            "marker": {
             "colorbar": {
              "outlinewidth": 0,
              "ticks": ""
             }
            },
            "type": "scattergl"
           }
          ],
          "scattermapbox": [
           {
            "marker": {
             "colorbar": {
              "outlinewidth": 0,
              "ticks": ""
             }
            },
            "type": "scattermapbox"
           }
          ],
          "scatterpolar": [
           {
            "marker": {
             "colorbar": {
              "outlinewidth": 0,
              "ticks": ""
             }
            },
            "type": "scatterpolar"
           }
          ],
          "scatterpolargl": [
           {
            "marker": {
             "colorbar": {
              "outlinewidth": 0,
              "ticks": ""
             }
            },
            "type": "scatterpolargl"
           }
          ],
          "scatterternary": [
           {
            "marker": {
             "colorbar": {
              "outlinewidth": 0,
              "ticks": ""
             }
            },
            "type": "scatterternary"
           }
          ],
          "surface": [
           {
            "colorbar": {
             "outlinewidth": 0,
             "ticks": ""
            },
            "colorscale": [
             [
              0,
              "#0d0887"
             ],
             [
              0.1111111111111111,
              "#46039f"
             ],
             [
              0.2222222222222222,
              "#7201a8"
             ],
             [
              0.3333333333333333,
              "#9c179e"
             ],
             [
              0.4444444444444444,
              "#bd3786"
             ],
             [
              0.5555555555555556,
              "#d8576b"
             ],
             [
              0.6666666666666666,
              "#ed7953"
             ],
             [
              0.7777777777777778,
              "#fb9f3a"
             ],
             [
              0.8888888888888888,
              "#fdca26"
             ],
             [
              1,
              "#f0f921"
             ]
            ],
            "type": "surface"
           }
          ],
          "table": [
           {
            "cells": {
             "fill": {
              "color": "#EBF0F8"
             },
             "line": {
              "color": "white"
             }
            },
            "header": {
             "fill": {
              "color": "#C8D4E3"
             },
             "line": {
              "color": "white"
             }
            },
            "type": "table"
           }
          ]
         },
         "layout": {
          "annotationdefaults": {
           "arrowcolor": "#2a3f5f",
           "arrowhead": 0,
           "arrowwidth": 1
          },
          "coloraxis": {
           "colorbar": {
            "outlinewidth": 0,
            "ticks": ""
           }
          },
          "colorscale": {
           "diverging": [
            [
             0,
             "#8e0152"
            ],
            [
             0.1,
             "#c51b7d"
            ],
            [
             0.2,
             "#de77ae"
            ],
            [
             0.3,
             "#f1b6da"
            ],
            [
             0.4,
             "#fde0ef"
            ],
            [
             0.5,
             "#f7f7f7"
            ],
            [
             0.6,
             "#e6f5d0"
            ],
            [
             0.7,
             "#b8e186"
            ],
            [
             0.8,
             "#7fbc41"
            ],
            [
             0.9,
             "#4d9221"
            ],
            [
             1,
             "#276419"
            ]
           ],
           "sequential": [
            [
             0,
             "#0d0887"
            ],
            [
             0.1111111111111111,
             "#46039f"
            ],
            [
             0.2222222222222222,
             "#7201a8"
            ],
            [
             0.3333333333333333,
             "#9c179e"
            ],
            [
             0.4444444444444444,
             "#bd3786"
            ],
            [
             0.5555555555555556,
             "#d8576b"
            ],
            [
             0.6666666666666666,
             "#ed7953"
            ],
            [
             0.7777777777777778,
             "#fb9f3a"
            ],
            [
             0.8888888888888888,
             "#fdca26"
            ],
            [
             1,
             "#f0f921"
            ]
           ],
           "sequentialminus": [
            [
             0,
             "#0d0887"
            ],
            [
             0.1111111111111111,
             "#46039f"
            ],
            [
             0.2222222222222222,
             "#7201a8"
            ],
            [
             0.3333333333333333,
             "#9c179e"
            ],
            [
             0.4444444444444444,
             "#bd3786"
            ],
            [
             0.5555555555555556,
             "#d8576b"
            ],
            [
             0.6666666666666666,
             "#ed7953"
            ],
            [
             0.7777777777777778,
             "#fb9f3a"
            ],
            [
             0.8888888888888888,
             "#fdca26"
            ],
            [
             1,
             "#f0f921"
            ]
           ]
          },
          "colorway": [
           "#636efa",
           "#EF553B",
           "#00cc96",
           "#ab63fa",
           "#FFA15A",
           "#19d3f3",
           "#FF6692",
           "#B6E880",
           "#FF97FF",
           "#FECB52"
          ],
          "font": {
           "color": "#2a3f5f"
          },
          "geo": {
           "bgcolor": "white",
           "lakecolor": "white",
           "landcolor": "white",
           "showlakes": true,
           "showland": true,
           "subunitcolor": "#C8D4E3"
          },
          "hoverlabel": {
           "align": "left"
          },
          "hovermode": "closest",
          "mapbox": {
           "style": "light"
          },
          "paper_bgcolor": "white",
          "plot_bgcolor": "white",
          "polar": {
           "angularaxis": {
            "gridcolor": "#EBF0F8",
            "linecolor": "#EBF0F8",
            "ticks": ""
           },
           "bgcolor": "white",
           "radialaxis": {
            "gridcolor": "#EBF0F8",
            "linecolor": "#EBF0F8",
            "ticks": ""
           }
          },
          "scene": {
           "xaxis": {
            "backgroundcolor": "white",
            "gridcolor": "#DFE8F3",
            "gridwidth": 2,
            "linecolor": "#EBF0F8",
            "showbackground": true,
            "ticks": "",
            "zerolinecolor": "#EBF0F8"
           },
           "yaxis": {
            "backgroundcolor": "white",
            "gridcolor": "#DFE8F3",
            "gridwidth": 2,
            "linecolor": "#EBF0F8",
            "showbackground": true,
            "ticks": "",
            "zerolinecolor": "#EBF0F8"
           },
           "zaxis": {
            "backgroundcolor": "white",
            "gridcolor": "#DFE8F3",
            "gridwidth": 2,
            "linecolor": "#EBF0F8",
            "showbackground": true,
            "ticks": "",
            "zerolinecolor": "#EBF0F8"
           }
          },
          "shapedefaults": {
           "line": {
            "color": "#2a3f5f"
           }
          },
          "ternary": {
           "aaxis": {
            "gridcolor": "#DFE8F3",
            "linecolor": "#A2B1C6",
            "ticks": ""
           },
           "baxis": {
            "gridcolor": "#DFE8F3",
            "linecolor": "#A2B1C6",
            "ticks": ""
           },
           "bgcolor": "white",
           "caxis": {
            "gridcolor": "#DFE8F3",
            "linecolor": "#A2B1C6",
            "ticks": ""
           }
          },
          "title": {
           "x": 0.05
          },
          "xaxis": {
           "automargin": true,
           "gridcolor": "#EBF0F8",
           "linecolor": "#EBF0F8",
           "ticks": "",
           "title": {
            "standoff": 15
           },
           "zerolinecolor": "#EBF0F8",
           "zerolinewidth": 2
          },
          "yaxis": {
           "automargin": true,
           "gridcolor": "#EBF0F8",
           "linecolor": "#EBF0F8",
           "ticks": "",
           "title": {
            "standoff": 15
           },
           "zerolinecolor": "#EBF0F8",
           "zerolinewidth": 2
          }
         }
        },
        "xaxis": {
         "title": {
          "text": "Model"
         }
        },
        "yaxis": {
         "title": {
          "text": "Spearman rank correlation"
         }
        }
       }
      },
      "text/html": [
       "<div>\n",
       "        \n",
       "        \n",
       "            <div id=\"7d80560d-63e8-4176-afa0-dd0f9860d526\" class=\"plotly-graph-div\" style=\"height:525px; width:100%;\"></div>\n",
       "            <script type=\"text/javascript\">\n",
       "                require([\"plotly\"], function(Plotly) {\n",
       "                    window.PLOTLYENV=window.PLOTLYENV || {};\n",
       "                    \n",
       "                if (document.getElementById(\"7d80560d-63e8-4176-afa0-dd0f9860d526\")) {\n",
       "                    Plotly.newPlot(\n",
       "                        '7d80560d-63e8-4176-afa0-dd0f9860d526',\n",
       "                        [{\"name\": \"GRU\", \"type\": \"bar\", \"x\": [\"Fluid Intelligence\", \"Verbal IQ\", \"NEOFAC_A\", \"NEOFAC_E\", \"NEOFAC_C\", \"NEOFAC_N\", \"NEOFAC_O\"], \"y\": [0.3441884091477088, 0.2578537252221462, 0.15022692786465663, 0.24517225349516306, 0.255240739626968, 0.15721246056357333, 0.19104010200452515]}, {\"name\": \"FF\", \"type\": \"bar\", \"x\": [\"Fluid Intelligence\", \"Verbal IQ\", \"NEOFAC_A\", \"NEOFAC_E\", \"NEOFAC_C\", \"NEOFAC_N\", \"NEOFAC_O\"], \"y\": [0.2231369993180882, 0.1737799043062201, 0.2503096539037337, 0.3578322285024106, 0.2635291110227233, 0.12053092385870609, 0.19904924913809602]}, {\"name\": \"TCN\", \"type\": \"bar\", \"x\": [\"Fluid Intelligence\", \"Verbal IQ\", \"NEOFAC_A\", \"NEOFAC_E\", \"NEOFAC_C\", \"NEOFAC_N\", \"NEOFAC_O\"], \"y\": [0.2816286887180502, 0.25626794258373203, 0.14950020030196706, 0.3152912003416325, 0.30649164440634047, 0.2032562878399743, 0.32043445680802074]}, {\"name\": \"CPM\", \"type\": \"bar\", \"x\": [\"Fluid Intelligence\", \"Verbal IQ\", \"NEOFAC_A\", \"NEOFAC_E\", \"NEOFAC_C\", \"NEOFAC_N\", \"NEOFAC_O\"], \"y\": [0.06551454026541799, -0.019330143540669857, -0.01430144996009829, 0.08991688663087827, 0.10057013953097377, 0.06326057245626392, 0.16234980097125398]}],\n",
       "                        {\"barmode\": \"group\", \"template\": {\"data\": {\"bar\": [{\"error_x\": {\"color\": \"#2a3f5f\"}, \"error_y\": {\"color\": \"#2a3f5f\"}, \"marker\": {\"line\": {\"color\": \"white\", \"width\": 0.5}}, \"type\": \"bar\"}], \"barpolar\": [{\"marker\": {\"line\": {\"color\": \"white\", \"width\": 0.5}}, \"type\": \"barpolar\"}], \"carpet\": [{\"aaxis\": {\"endlinecolor\": \"#2a3f5f\", \"gridcolor\": \"#C8D4E3\", \"linecolor\": \"#C8D4E3\", \"minorgridcolor\": \"#C8D4E3\", \"startlinecolor\": \"#2a3f5f\"}, \"baxis\": {\"endlinecolor\": \"#2a3f5f\", \"gridcolor\": \"#C8D4E3\", \"linecolor\": \"#C8D4E3\", \"minorgridcolor\": \"#C8D4E3\", \"startlinecolor\": \"#2a3f5f\"}, \"type\": \"carpet\"}], \"choropleth\": [{\"colorbar\": {\"outlinewidth\": 0, \"ticks\": \"\"}, \"type\": \"choropleth\"}], \"contour\": [{\"colorbar\": {\"outlinewidth\": 0, \"ticks\": \"\"}, \"colorscale\": [[0.0, \"#0d0887\"], [0.1111111111111111, \"#46039f\"], [0.2222222222222222, \"#7201a8\"], [0.3333333333333333, \"#9c179e\"], [0.4444444444444444, \"#bd3786\"], [0.5555555555555556, \"#d8576b\"], [0.6666666666666666, \"#ed7953\"], [0.7777777777777778, \"#fb9f3a\"], [0.8888888888888888, \"#fdca26\"], [1.0, \"#f0f921\"]], \"type\": \"contour\"}], \"contourcarpet\": [{\"colorbar\": {\"outlinewidth\": 0, \"ticks\": \"\"}, \"type\": \"contourcarpet\"}], \"heatmap\": [{\"colorbar\": {\"outlinewidth\": 0, \"ticks\": \"\"}, \"colorscale\": [[0.0, \"#0d0887\"], [0.1111111111111111, \"#46039f\"], [0.2222222222222222, \"#7201a8\"], [0.3333333333333333, \"#9c179e\"], [0.4444444444444444, \"#bd3786\"], [0.5555555555555556, \"#d8576b\"], [0.6666666666666666, \"#ed7953\"], [0.7777777777777778, \"#fb9f3a\"], [0.8888888888888888, \"#fdca26\"], [1.0, \"#f0f921\"]], \"type\": \"heatmap\"}], \"heatmapgl\": [{\"colorbar\": {\"outlinewidth\": 0, \"ticks\": \"\"}, \"colorscale\": [[0.0, \"#0d0887\"], [0.1111111111111111, \"#46039f\"], [0.2222222222222222, \"#7201a8\"], [0.3333333333333333, \"#9c179e\"], [0.4444444444444444, \"#bd3786\"], [0.5555555555555556, \"#d8576b\"], [0.6666666666666666, \"#ed7953\"], [0.7777777777777778, \"#fb9f3a\"], [0.8888888888888888, \"#fdca26\"], [1.0, \"#f0f921\"]], \"type\": \"heatmapgl\"}], \"histogram\": [{\"marker\": {\"colorbar\": {\"outlinewidth\": 0, \"ticks\": \"\"}}, \"type\": \"histogram\"}], \"histogram2d\": [{\"colorbar\": {\"outlinewidth\": 0, \"ticks\": \"\"}, \"colorscale\": [[0.0, \"#0d0887\"], [0.1111111111111111, \"#46039f\"], [0.2222222222222222, \"#7201a8\"], [0.3333333333333333, \"#9c179e\"], [0.4444444444444444, \"#bd3786\"], [0.5555555555555556, \"#d8576b\"], [0.6666666666666666, \"#ed7953\"], [0.7777777777777778, \"#fb9f3a\"], [0.8888888888888888, \"#fdca26\"], [1.0, \"#f0f921\"]], \"type\": \"histogram2d\"}], \"histogram2dcontour\": [{\"colorbar\": {\"outlinewidth\": 0, \"ticks\": \"\"}, \"colorscale\": [[0.0, \"#0d0887\"], [0.1111111111111111, \"#46039f\"], [0.2222222222222222, \"#7201a8\"], [0.3333333333333333, \"#9c179e\"], [0.4444444444444444, \"#bd3786\"], [0.5555555555555556, \"#d8576b\"], [0.6666666666666666, \"#ed7953\"], [0.7777777777777778, \"#fb9f3a\"], [0.8888888888888888, \"#fdca26\"], [1.0, \"#f0f921\"]], \"type\": \"histogram2dcontour\"}], \"mesh3d\": [{\"colorbar\": {\"outlinewidth\": 0, \"ticks\": \"\"}, \"type\": \"mesh3d\"}], \"parcoords\": [{\"line\": {\"colorbar\": {\"outlinewidth\": 0, \"ticks\": \"\"}}, \"type\": \"parcoords\"}], \"pie\": [{\"automargin\": true, \"type\": \"pie\"}], \"scatter\": [{\"marker\": {\"colorbar\": {\"outlinewidth\": 0, \"ticks\": \"\"}}, \"type\": \"scatter\"}], \"scatter3d\": [{\"line\": {\"colorbar\": {\"outlinewidth\": 0, \"ticks\": \"\"}}, \"marker\": {\"colorbar\": {\"outlinewidth\": 0, \"ticks\": \"\"}}, \"type\": \"scatter3d\"}], \"scattercarpet\": [{\"marker\": {\"colorbar\": {\"outlinewidth\": 0, \"ticks\": \"\"}}, \"type\": \"scattercarpet\"}], \"scattergeo\": [{\"marker\": {\"colorbar\": {\"outlinewidth\": 0, \"ticks\": \"\"}}, \"type\": \"scattergeo\"}], \"scattergl\": [{\"marker\": {\"colorbar\": {\"outlinewidth\": 0, \"ticks\": \"\"}}, \"type\": \"scattergl\"}], \"scattermapbox\": [{\"marker\": {\"colorbar\": {\"outlinewidth\": 0, \"ticks\": \"\"}}, \"type\": \"scattermapbox\"}], \"scatterpolar\": [{\"marker\": {\"colorbar\": {\"outlinewidth\": 0, \"ticks\": \"\"}}, \"type\": \"scatterpolar\"}], \"scatterpolargl\": [{\"marker\": {\"colorbar\": {\"outlinewidth\": 0, \"ticks\": \"\"}}, \"type\": \"scatterpolargl\"}], \"scatterternary\": [{\"marker\": {\"colorbar\": {\"outlinewidth\": 0, \"ticks\": \"\"}}, \"type\": \"scatterternary\"}], \"surface\": [{\"colorbar\": {\"outlinewidth\": 0, \"ticks\": \"\"}, \"colorscale\": [[0.0, \"#0d0887\"], [0.1111111111111111, \"#46039f\"], [0.2222222222222222, \"#7201a8\"], [0.3333333333333333, \"#9c179e\"], [0.4444444444444444, \"#bd3786\"], [0.5555555555555556, \"#d8576b\"], [0.6666666666666666, \"#ed7953\"], [0.7777777777777778, \"#fb9f3a\"], [0.8888888888888888, \"#fdca26\"], [1.0, \"#f0f921\"]], \"type\": \"surface\"}], \"table\": [{\"cells\": {\"fill\": {\"color\": \"#EBF0F8\"}, \"line\": {\"color\": \"white\"}}, \"header\": {\"fill\": {\"color\": \"#C8D4E3\"}, \"line\": {\"color\": \"white\"}}, \"type\": \"table\"}]}, \"layout\": {\"annotationdefaults\": {\"arrowcolor\": \"#2a3f5f\", \"arrowhead\": 0, \"arrowwidth\": 1}, \"coloraxis\": {\"colorbar\": {\"outlinewidth\": 0, \"ticks\": \"\"}}, \"colorscale\": {\"diverging\": [[0, \"#8e0152\"], [0.1, \"#c51b7d\"], [0.2, \"#de77ae\"], [0.3, \"#f1b6da\"], [0.4, \"#fde0ef\"], [0.5, \"#f7f7f7\"], [0.6, \"#e6f5d0\"], [0.7, \"#b8e186\"], [0.8, \"#7fbc41\"], [0.9, \"#4d9221\"], [1, \"#276419\"]], \"sequential\": [[0.0, \"#0d0887\"], [0.1111111111111111, \"#46039f\"], [0.2222222222222222, \"#7201a8\"], [0.3333333333333333, \"#9c179e\"], [0.4444444444444444, \"#bd3786\"], [0.5555555555555556, \"#d8576b\"], [0.6666666666666666, \"#ed7953\"], [0.7777777777777778, \"#fb9f3a\"], [0.8888888888888888, \"#fdca26\"], [1.0, \"#f0f921\"]], \"sequentialminus\": [[0.0, \"#0d0887\"], [0.1111111111111111, \"#46039f\"], [0.2222222222222222, \"#7201a8\"], [0.3333333333333333, \"#9c179e\"], [0.4444444444444444, \"#bd3786\"], [0.5555555555555556, \"#d8576b\"], [0.6666666666666666, \"#ed7953\"], [0.7777777777777778, \"#fb9f3a\"], [0.8888888888888888, \"#fdca26\"], [1.0, \"#f0f921\"]]}, \"colorway\": [\"#636efa\", \"#EF553B\", \"#00cc96\", \"#ab63fa\", \"#FFA15A\", \"#19d3f3\", \"#FF6692\", \"#B6E880\", \"#FF97FF\", \"#FECB52\"], \"font\": {\"color\": \"#2a3f5f\"}, \"geo\": {\"bgcolor\": \"white\", \"lakecolor\": \"white\", \"landcolor\": \"white\", \"showlakes\": true, \"showland\": true, \"subunitcolor\": \"#C8D4E3\"}, \"hoverlabel\": {\"align\": \"left\"}, \"hovermode\": \"closest\", \"mapbox\": {\"style\": \"light\"}, \"paper_bgcolor\": \"white\", \"plot_bgcolor\": \"white\", \"polar\": {\"angularaxis\": {\"gridcolor\": \"#EBF0F8\", \"linecolor\": \"#EBF0F8\", \"ticks\": \"\"}, \"bgcolor\": \"white\", \"radialaxis\": {\"gridcolor\": \"#EBF0F8\", \"linecolor\": \"#EBF0F8\", \"ticks\": \"\"}}, \"scene\": {\"xaxis\": {\"backgroundcolor\": \"white\", \"gridcolor\": \"#DFE8F3\", \"gridwidth\": 2, \"linecolor\": \"#EBF0F8\", \"showbackground\": true, \"ticks\": \"\", \"zerolinecolor\": \"#EBF0F8\"}, \"yaxis\": {\"backgroundcolor\": \"white\", \"gridcolor\": \"#DFE8F3\", \"gridwidth\": 2, \"linecolor\": \"#EBF0F8\", \"showbackground\": true, \"ticks\": \"\", \"zerolinecolor\": \"#EBF0F8\"}, \"zaxis\": {\"backgroundcolor\": \"white\", \"gridcolor\": \"#DFE8F3\", \"gridwidth\": 2, \"linecolor\": \"#EBF0F8\", \"showbackground\": true, \"ticks\": \"\", \"zerolinecolor\": \"#EBF0F8\"}}, \"shapedefaults\": {\"line\": {\"color\": \"#2a3f5f\"}}, \"ternary\": {\"aaxis\": {\"gridcolor\": \"#DFE8F3\", \"linecolor\": \"#A2B1C6\", \"ticks\": \"\"}, \"baxis\": {\"gridcolor\": \"#DFE8F3\", \"linecolor\": \"#A2B1C6\", \"ticks\": \"\"}, \"bgcolor\": \"white\", \"caxis\": {\"gridcolor\": \"#DFE8F3\", \"linecolor\": \"#A2B1C6\", \"ticks\": \"\"}}, \"title\": {\"x\": 0.05}, \"xaxis\": {\"automargin\": true, \"gridcolor\": \"#EBF0F8\", \"linecolor\": \"#EBF0F8\", \"ticks\": \"\", \"title\": {\"standoff\": 15}, \"zerolinecolor\": \"#EBF0F8\", \"zerolinewidth\": 2}, \"yaxis\": {\"automargin\": true, \"gridcolor\": \"#EBF0F8\", \"linecolor\": \"#EBF0F8\", \"ticks\": \"\", \"title\": {\"standoff\": 15}, \"zerolinecolor\": \"#EBF0F8\", \"zerolinewidth\": 2}}}, \"xaxis\": {\"title\": {\"text\": \"Model\"}}, \"yaxis\": {\"title\": {\"text\": \"Spearman rank correlation\"}}},\n",
       "                        {\"responsive\": true}\n",
       "                    ).then(function(){\n",
       "                            \n",
       "var gd = document.getElementById('7d80560d-63e8-4176-afa0-dd0f9860d526');\n",
       "var x = new MutationObserver(function (mutations, observer) {{\n",
       "        var display = window.getComputedStyle(gd).display;\n",
       "        if (!display || display === 'none') {{\n",
       "            console.log([gd, 'removed!']);\n",
       "            Plotly.purge(gd);\n",
       "            observer.disconnect();\n",
       "        }}\n",
       "}});\n",
       "\n",
       "// Listen for the removal of the full notebook cells\n",
       "var notebookContainer = gd.closest('#notebook-container');\n",
       "if (notebookContainer) {{\n",
       "    x.observe(notebookContainer, {childList: true});\n",
       "}}\n",
       "\n",
       "// Listen for the clearing of the current output cell\n",
       "var outputEl = gd.closest('.output');\n",
       "if (outputEl) {{\n",
       "    x.observe(outputEl, {childList: true});\n",
       "}}\n",
       "\n",
       "                        })\n",
       "                };\n",
       "                });\n",
       "            </script>\n",
       "        </div>"
      ]
     },
     "metadata": {},
     "output_type": "display_data"
    }
   ],
   "source": [
    "fig = go.Figure()\n",
    "for model in models:\n",
    "    y = []\n",
    "    x = []\n",
    "    for bhv in select_bhv:\n",
    "        x.append(pretty_bhv[bhv])\n",
    "        y.append(test_acc[model][bhv])\n",
    "    bar = go.Bar(name = model.upper(),\n",
    "                 x = x, y = y)\n",
    "    fig.add_trace(bar)\n",
    "    \n",
    "fig.update_layout(barmode = 'group')\n",
    "fig.update_xaxes(title_text = 'Model')\n",
    "fig.update_yaxes(title_text = pretty_score)\n",
    "fig.show()"
   ]
  },
  {
   "cell_type": "code",
   "execution_count": 20,
   "metadata": {},
   "outputs": [
    {
     "data": {
      "application/vnd.plotly.v1+json": {
       "config": {
        "plotlyServerURL": "https://plot.ly"
       },
       "data": [
        {
         "name": "Fluid Intelligence",
         "type": "bar",
         "x": [
          "GRU",
          "FF",
          "TCN",
          "CPM"
         ],
         "y": [
          0.3441884091477088,
          0.2231369993180882,
          0.2816286887180502,
          0.06551454026541799
         ]
        },
        {
         "name": "Verbal IQ",
         "type": "bar",
         "x": [
          "GRU",
          "FF",
          "TCN",
          "CPM"
         ],
         "y": [
          0.2578537252221462,
          0.1737799043062201,
          0.25626794258373203,
          -0.019330143540669857
         ]
        },
        {
         "name": "NEOFAC_A",
         "type": "bar",
         "x": [
          "GRU",
          "FF",
          "TCN",
          "CPM"
         ],
         "y": [
          0.15022692786465663,
          0.2503096539037337,
          0.14950020030196706,
          -0.01430144996009829
         ]
        },
        {
         "name": "NEOFAC_E",
         "type": "bar",
         "x": [
          "GRU",
          "FF",
          "TCN",
          "CPM"
         ],
         "y": [
          0.24517225349516306,
          0.3578322285024106,
          0.3152912003416325,
          0.08991688663087827
         ]
        },
        {
         "name": "NEOFAC_C",
         "type": "bar",
         "x": [
          "GRU",
          "FF",
          "TCN",
          "CPM"
         ],
         "y": [
          0.255240739626968,
          0.2635291110227233,
          0.30649164440634047,
          0.10057013953097377
         ]
        },
        {
         "name": "NEOFAC_N",
         "type": "bar",
         "x": [
          "GRU",
          "FF",
          "TCN",
          "CPM"
         ],
         "y": [
          0.15721246056357333,
          0.12053092385870609,
          0.2032562878399743,
          0.06326057245626392
         ]
        },
        {
         "name": "NEOFAC_O",
         "type": "bar",
         "x": [
          "GRU",
          "FF",
          "TCN",
          "CPM"
         ],
         "y": [
          0.19104010200452515,
          0.19904924913809602,
          0.32043445680802074,
          0.16234980097125398
         ]
        }
       ],
       "layout": {
        "barmode": "group",
        "template": {
         "data": {
          "bar": [
           {
            "error_x": {
             "color": "#2a3f5f"
            },
            "error_y": {
             "color": "#2a3f5f"
            },
            "marker": {
             "line": {
              "color": "white",
              "width": 0.5
             }
            },
            "type": "bar"
           }
          ],
          "barpolar": [
           {
            "marker": {
             "line": {
              "color": "white",
              "width": 0.5
             }
            },
            "type": "barpolar"
           }
          ],
          "carpet": [
           {
            "aaxis": {
             "endlinecolor": "#2a3f5f",
             "gridcolor": "#C8D4E3",
             "linecolor": "#C8D4E3",
             "minorgridcolor": "#C8D4E3",
             "startlinecolor": "#2a3f5f"
            },
            "baxis": {
             "endlinecolor": "#2a3f5f",
             "gridcolor": "#C8D4E3",
             "linecolor": "#C8D4E3",
             "minorgridcolor": "#C8D4E3",
             "startlinecolor": "#2a3f5f"
            },
            "type": "carpet"
           }
          ],
          "choropleth": [
           {
            "colorbar": {
             "outlinewidth": 0,
             "ticks": ""
            },
            "type": "choropleth"
           }
          ],
          "contour": [
           {
            "colorbar": {
             "outlinewidth": 0,
             "ticks": ""
            },
            "colorscale": [
             [
              0,
              "#0d0887"
             ],
             [
              0.1111111111111111,
              "#46039f"
             ],
             [
              0.2222222222222222,
              "#7201a8"
             ],
             [
              0.3333333333333333,
              "#9c179e"
             ],
             [
              0.4444444444444444,
              "#bd3786"
             ],
             [
              0.5555555555555556,
              "#d8576b"
             ],
             [
              0.6666666666666666,
              "#ed7953"
             ],
             [
              0.7777777777777778,
              "#fb9f3a"
             ],
             [
              0.8888888888888888,
              "#fdca26"
             ],
             [
              1,
              "#f0f921"
             ]
            ],
            "type": "contour"
           }
          ],
          "contourcarpet": [
           {
            "colorbar": {
             "outlinewidth": 0,
             "ticks": ""
            },
            "type": "contourcarpet"
           }
          ],
          "heatmap": [
           {
            "colorbar": {
             "outlinewidth": 0,
             "ticks": ""
            },
            "colorscale": [
             [
              0,
              "#0d0887"
             ],
             [
              0.1111111111111111,
              "#46039f"
             ],
             [
              0.2222222222222222,
              "#7201a8"
             ],
             [
              0.3333333333333333,
              "#9c179e"
             ],
             [
              0.4444444444444444,
              "#bd3786"
             ],
             [
              0.5555555555555556,
              "#d8576b"
             ],
             [
              0.6666666666666666,
              "#ed7953"
             ],
             [
              0.7777777777777778,
              "#fb9f3a"
             ],
             [
              0.8888888888888888,
              "#fdca26"
             ],
             [
              1,
              "#f0f921"
             ]
            ],
            "type": "heatmap"
           }
          ],
          "heatmapgl": [
           {
            "colorbar": {
             "outlinewidth": 0,
             "ticks": ""
            },
            "colorscale": [
             [
              0,
              "#0d0887"
             ],
             [
              0.1111111111111111,
              "#46039f"
             ],
             [
              0.2222222222222222,
              "#7201a8"
             ],
             [
              0.3333333333333333,
              "#9c179e"
             ],
             [
              0.4444444444444444,
              "#bd3786"
             ],
             [
              0.5555555555555556,
              "#d8576b"
             ],
             [
              0.6666666666666666,
              "#ed7953"
             ],
             [
              0.7777777777777778,
              "#fb9f3a"
             ],
             [
              0.8888888888888888,
              "#fdca26"
             ],
             [
              1,
              "#f0f921"
             ]
            ],
            "type": "heatmapgl"
           }
          ],
          "histogram": [
           {
            "marker": {
             "colorbar": {
              "outlinewidth": 0,
              "ticks": ""
             }
            },
            "type": "histogram"
           }
          ],
          "histogram2d": [
           {
            "colorbar": {
             "outlinewidth": 0,
             "ticks": ""
            },
            "colorscale": [
             [
              0,
              "#0d0887"
             ],
             [
              0.1111111111111111,
              "#46039f"
             ],
             [
              0.2222222222222222,
              "#7201a8"
             ],
             [
              0.3333333333333333,
              "#9c179e"
             ],
             [
              0.4444444444444444,
              "#bd3786"
             ],
             [
              0.5555555555555556,
              "#d8576b"
             ],
             [
              0.6666666666666666,
              "#ed7953"
             ],
             [
              0.7777777777777778,
              "#fb9f3a"
             ],
             [
              0.8888888888888888,
              "#fdca26"
             ],
             [
              1,
              "#f0f921"
             ]
            ],
            "type": "histogram2d"
           }
          ],
          "histogram2dcontour": [
           {
            "colorbar": {
             "outlinewidth": 0,
             "ticks": ""
            },
            "colorscale": [
             [
              0,
              "#0d0887"
             ],
             [
              0.1111111111111111,
              "#46039f"
             ],
             [
              0.2222222222222222,
              "#7201a8"
             ],
             [
              0.3333333333333333,
              "#9c179e"
             ],
             [
              0.4444444444444444,
              "#bd3786"
             ],
             [
              0.5555555555555556,
              "#d8576b"
             ],
             [
              0.6666666666666666,
              "#ed7953"
             ],
             [
              0.7777777777777778,
              "#fb9f3a"
             ],
             [
              0.8888888888888888,
              "#fdca26"
             ],
             [
              1,
              "#f0f921"
             ]
            ],
            "type": "histogram2dcontour"
           }
          ],
          "mesh3d": [
           {
            "colorbar": {
             "outlinewidth": 0,
             "ticks": ""
            },
            "type": "mesh3d"
           }
          ],
          "parcoords": [
           {
            "line": {
             "colorbar": {
              "outlinewidth": 0,
              "ticks": ""
             }
            },
            "type": "parcoords"
           }
          ],
          "pie": [
           {
            "automargin": true,
            "type": "pie"
           }
          ],
          "scatter": [
           {
            "marker": {
             "colorbar": {
              "outlinewidth": 0,
              "ticks": ""
             }
            },
            "type": "scatter"
           }
          ],
          "scatter3d": [
           {
            "line": {
             "colorbar": {
              "outlinewidth": 0,
              "ticks": ""
             }
            },
            "marker": {
             "colorbar": {
              "outlinewidth": 0,
              "ticks": ""
             }
            },
            "type": "scatter3d"
           }
          ],
          "scattercarpet": [
           {
            "marker": {
             "colorbar": {
              "outlinewidth": 0,
              "ticks": ""
             }
            },
            "type": "scattercarpet"
           }
          ],
          "scattergeo": [
           {
            "marker": {
             "colorbar": {
              "outlinewidth": 0,
              "ticks": ""
             }
            },
            "type": "scattergeo"
           }
          ],
          "scattergl": [
           {
            "marker": {
             "colorbar": {
              "outlinewidth": 0,
              "ticks": ""
             }
            },
            "type": "scattergl"
           }
          ],
          "scattermapbox": [
           {
            "marker": {
             "colorbar": {
              "outlinewidth": 0,
              "ticks": ""
             }
            },
            "type": "scattermapbox"
           }
          ],
          "scatterpolar": [
           {
            "marker": {
             "colorbar": {
              "outlinewidth": 0,
              "ticks": ""
             }
            },
            "type": "scatterpolar"
           }
          ],
          "scatterpolargl": [
           {
            "marker": {
             "colorbar": {
              "outlinewidth": 0,
              "ticks": ""
             }
            },
            "type": "scatterpolargl"
           }
          ],
          "scatterternary": [
           {
            "marker": {
             "colorbar": {
              "outlinewidth": 0,
              "ticks": ""
             }
            },
            "type": "scatterternary"
           }
          ],
          "surface": [
           {
            "colorbar": {
             "outlinewidth": 0,
             "ticks": ""
            },
            "colorscale": [
             [
              0,
              "#0d0887"
             ],
             [
              0.1111111111111111,
              "#46039f"
             ],
             [
              0.2222222222222222,
              "#7201a8"
             ],
             [
              0.3333333333333333,
              "#9c179e"
             ],
             [
              0.4444444444444444,
              "#bd3786"
             ],
             [
              0.5555555555555556,
              "#d8576b"
             ],
             [
              0.6666666666666666,
              "#ed7953"
             ],
             [
              0.7777777777777778,
              "#fb9f3a"
             ],
             [
              0.8888888888888888,
              "#fdca26"
             ],
             [
              1,
              "#f0f921"
             ]
            ],
            "type": "surface"
           }
          ],
          "table": [
           {
            "cells": {
             "fill": {
              "color": "#EBF0F8"
             },
             "line": {
              "color": "white"
             }
            },
            "header": {
             "fill": {
              "color": "#C8D4E3"
             },
             "line": {
              "color": "white"
             }
            },
            "type": "table"
           }
          ]
         },
         "layout": {
          "annotationdefaults": {
           "arrowcolor": "#2a3f5f",
           "arrowhead": 0,
           "arrowwidth": 1
          },
          "coloraxis": {
           "colorbar": {
            "outlinewidth": 0,
            "ticks": ""
           }
          },
          "colorscale": {
           "diverging": [
            [
             0,
             "#8e0152"
            ],
            [
             0.1,
             "#c51b7d"
            ],
            [
             0.2,
             "#de77ae"
            ],
            [
             0.3,
             "#f1b6da"
            ],
            [
             0.4,
             "#fde0ef"
            ],
            [
             0.5,
             "#f7f7f7"
            ],
            [
             0.6,
             "#e6f5d0"
            ],
            [
             0.7,
             "#b8e186"
            ],
            [
             0.8,
             "#7fbc41"
            ],
            [
             0.9,
             "#4d9221"
            ],
            [
             1,
             "#276419"
            ]
           ],
           "sequential": [
            [
             0,
             "#0d0887"
            ],
            [
             0.1111111111111111,
             "#46039f"
            ],
            [
             0.2222222222222222,
             "#7201a8"
            ],
            [
             0.3333333333333333,
             "#9c179e"
            ],
            [
             0.4444444444444444,
             "#bd3786"
            ],
            [
             0.5555555555555556,
             "#d8576b"
            ],
            [
             0.6666666666666666,
             "#ed7953"
            ],
            [
             0.7777777777777778,
             "#fb9f3a"
            ],
            [
             0.8888888888888888,
             "#fdca26"
            ],
            [
             1,
             "#f0f921"
            ]
           ],
           "sequentialminus": [
            [
             0,
             "#0d0887"
            ],
            [
             0.1111111111111111,
             "#46039f"
            ],
            [
             0.2222222222222222,
             "#7201a8"
            ],
            [
             0.3333333333333333,
             "#9c179e"
            ],
            [
             0.4444444444444444,
             "#bd3786"
            ],
            [
             0.5555555555555556,
             "#d8576b"
            ],
            [
             0.6666666666666666,
             "#ed7953"
            ],
            [
             0.7777777777777778,
             "#fb9f3a"
            ],
            [
             0.8888888888888888,
             "#fdca26"
            ],
            [
             1,
             "#f0f921"
            ]
           ]
          },
          "colorway": [
           "#636efa",
           "#EF553B",
           "#00cc96",
           "#ab63fa",
           "#FFA15A",
           "#19d3f3",
           "#FF6692",
           "#B6E880",
           "#FF97FF",
           "#FECB52"
          ],
          "font": {
           "color": "#2a3f5f"
          },
          "geo": {
           "bgcolor": "white",
           "lakecolor": "white",
           "landcolor": "white",
           "showlakes": true,
           "showland": true,
           "subunitcolor": "#C8D4E3"
          },
          "hoverlabel": {
           "align": "left"
          },
          "hovermode": "closest",
          "mapbox": {
           "style": "light"
          },
          "paper_bgcolor": "white",
          "plot_bgcolor": "white",
          "polar": {
           "angularaxis": {
            "gridcolor": "#EBF0F8",
            "linecolor": "#EBF0F8",
            "ticks": ""
           },
           "bgcolor": "white",
           "radialaxis": {
            "gridcolor": "#EBF0F8",
            "linecolor": "#EBF0F8",
            "ticks": ""
           }
          },
          "scene": {
           "xaxis": {
            "backgroundcolor": "white",
            "gridcolor": "#DFE8F3",
            "gridwidth": 2,
            "linecolor": "#EBF0F8",
            "showbackground": true,
            "ticks": "",
            "zerolinecolor": "#EBF0F8"
           },
           "yaxis": {
            "backgroundcolor": "white",
            "gridcolor": "#DFE8F3",
            "gridwidth": 2,
            "linecolor": "#EBF0F8",
            "showbackground": true,
            "ticks": "",
            "zerolinecolor": "#EBF0F8"
           },
           "zaxis": {
            "backgroundcolor": "white",
            "gridcolor": "#DFE8F3",
            "gridwidth": 2,
            "linecolor": "#EBF0F8",
            "showbackground": true,
            "ticks": "",
            "zerolinecolor": "#EBF0F8"
           }
          },
          "shapedefaults": {
           "line": {
            "color": "#2a3f5f"
           }
          },
          "ternary": {
           "aaxis": {
            "gridcolor": "#DFE8F3",
            "linecolor": "#A2B1C6",
            "ticks": ""
           },
           "baxis": {
            "gridcolor": "#DFE8F3",
            "linecolor": "#A2B1C6",
            "ticks": ""
           },
           "bgcolor": "white",
           "caxis": {
            "gridcolor": "#DFE8F3",
            "linecolor": "#A2B1C6",
            "ticks": ""
           }
          },
          "title": {
           "x": 0.05
          },
          "xaxis": {
           "automargin": true,
           "gridcolor": "#EBF0F8",
           "linecolor": "#EBF0F8",
           "ticks": "",
           "title": {
            "standoff": 15
           },
           "zerolinecolor": "#EBF0F8",
           "zerolinewidth": 2
          },
          "yaxis": {
           "automargin": true,
           "gridcolor": "#EBF0F8",
           "linecolor": "#EBF0F8",
           "ticks": "",
           "title": {
            "standoff": 15
           },
           "zerolinecolor": "#EBF0F8",
           "zerolinewidth": 2
          }
         }
        },
        "xaxis": {
         "title": {
          "text": "Behavior/Personality score"
         }
        },
        "yaxis": {
         "title": {
          "text": "Spearman rank correlation"
         }
        }
       }
      },
      "text/html": [
       "<div>\n",
       "        \n",
       "        \n",
       "            <div id=\"4ac25c63-79e6-4955-825b-c4add3faf540\" class=\"plotly-graph-div\" style=\"height:525px; width:100%;\"></div>\n",
       "            <script type=\"text/javascript\">\n",
       "                require([\"plotly\"], function(Plotly) {\n",
       "                    window.PLOTLYENV=window.PLOTLYENV || {};\n",
       "                    \n",
       "                if (document.getElementById(\"4ac25c63-79e6-4955-825b-c4add3faf540\")) {\n",
       "                    Plotly.newPlot(\n",
       "                        '4ac25c63-79e6-4955-825b-c4add3faf540',\n",
       "                        [{\"name\": \"Fluid Intelligence\", \"type\": \"bar\", \"x\": [\"GRU\", \"FF\", \"TCN\", \"CPM\"], \"y\": [0.3441884091477088, 0.2231369993180882, 0.2816286887180502, 0.06551454026541799]}, {\"name\": \"Verbal IQ\", \"type\": \"bar\", \"x\": [\"GRU\", \"FF\", \"TCN\", \"CPM\"], \"y\": [0.2578537252221462, 0.1737799043062201, 0.25626794258373203, -0.019330143540669857]}, {\"name\": \"NEOFAC_A\", \"type\": \"bar\", \"x\": [\"GRU\", \"FF\", \"TCN\", \"CPM\"], \"y\": [0.15022692786465663, 0.2503096539037337, 0.14950020030196706, -0.01430144996009829]}, {\"name\": \"NEOFAC_E\", \"type\": \"bar\", \"x\": [\"GRU\", \"FF\", \"TCN\", \"CPM\"], \"y\": [0.24517225349516306, 0.3578322285024106, 0.3152912003416325, 0.08991688663087827]}, {\"name\": \"NEOFAC_C\", \"type\": \"bar\", \"x\": [\"GRU\", \"FF\", \"TCN\", \"CPM\"], \"y\": [0.255240739626968, 0.2635291110227233, 0.30649164440634047, 0.10057013953097377]}, {\"name\": \"NEOFAC_N\", \"type\": \"bar\", \"x\": [\"GRU\", \"FF\", \"TCN\", \"CPM\"], \"y\": [0.15721246056357333, 0.12053092385870609, 0.2032562878399743, 0.06326057245626392]}, {\"name\": \"NEOFAC_O\", \"type\": \"bar\", \"x\": [\"GRU\", \"FF\", \"TCN\", \"CPM\"], \"y\": [0.19104010200452515, 0.19904924913809602, 0.32043445680802074, 0.16234980097125398]}],\n",
       "                        {\"barmode\": \"group\", \"template\": {\"data\": {\"bar\": [{\"error_x\": {\"color\": \"#2a3f5f\"}, \"error_y\": {\"color\": \"#2a3f5f\"}, \"marker\": {\"line\": {\"color\": \"white\", \"width\": 0.5}}, \"type\": \"bar\"}], \"barpolar\": [{\"marker\": {\"line\": {\"color\": \"white\", \"width\": 0.5}}, \"type\": \"barpolar\"}], \"carpet\": [{\"aaxis\": {\"endlinecolor\": \"#2a3f5f\", \"gridcolor\": \"#C8D4E3\", \"linecolor\": \"#C8D4E3\", \"minorgridcolor\": \"#C8D4E3\", \"startlinecolor\": \"#2a3f5f\"}, \"baxis\": {\"endlinecolor\": \"#2a3f5f\", \"gridcolor\": \"#C8D4E3\", \"linecolor\": \"#C8D4E3\", \"minorgridcolor\": \"#C8D4E3\", \"startlinecolor\": \"#2a3f5f\"}, \"type\": \"carpet\"}], \"choropleth\": [{\"colorbar\": {\"outlinewidth\": 0, \"ticks\": \"\"}, \"type\": \"choropleth\"}], \"contour\": [{\"colorbar\": {\"outlinewidth\": 0, \"ticks\": \"\"}, \"colorscale\": [[0.0, \"#0d0887\"], [0.1111111111111111, \"#46039f\"], [0.2222222222222222, \"#7201a8\"], [0.3333333333333333, \"#9c179e\"], [0.4444444444444444, \"#bd3786\"], [0.5555555555555556, \"#d8576b\"], [0.6666666666666666, \"#ed7953\"], [0.7777777777777778, \"#fb9f3a\"], [0.8888888888888888, \"#fdca26\"], [1.0, \"#f0f921\"]], \"type\": \"contour\"}], \"contourcarpet\": [{\"colorbar\": {\"outlinewidth\": 0, \"ticks\": \"\"}, \"type\": \"contourcarpet\"}], \"heatmap\": [{\"colorbar\": {\"outlinewidth\": 0, \"ticks\": \"\"}, \"colorscale\": [[0.0, \"#0d0887\"], [0.1111111111111111, \"#46039f\"], [0.2222222222222222, \"#7201a8\"], [0.3333333333333333, \"#9c179e\"], [0.4444444444444444, \"#bd3786\"], [0.5555555555555556, \"#d8576b\"], [0.6666666666666666, \"#ed7953\"], [0.7777777777777778, \"#fb9f3a\"], [0.8888888888888888, \"#fdca26\"], [1.0, \"#f0f921\"]], \"type\": \"heatmap\"}], \"heatmapgl\": [{\"colorbar\": {\"outlinewidth\": 0, \"ticks\": \"\"}, \"colorscale\": [[0.0, \"#0d0887\"], [0.1111111111111111, \"#46039f\"], [0.2222222222222222, \"#7201a8\"], [0.3333333333333333, \"#9c179e\"], [0.4444444444444444, \"#bd3786\"], [0.5555555555555556, \"#d8576b\"], [0.6666666666666666, \"#ed7953\"], [0.7777777777777778, \"#fb9f3a\"], [0.8888888888888888, \"#fdca26\"], [1.0, \"#f0f921\"]], \"type\": \"heatmapgl\"}], \"histogram\": [{\"marker\": {\"colorbar\": {\"outlinewidth\": 0, \"ticks\": \"\"}}, \"type\": \"histogram\"}], \"histogram2d\": [{\"colorbar\": {\"outlinewidth\": 0, \"ticks\": \"\"}, \"colorscale\": [[0.0, \"#0d0887\"], [0.1111111111111111, \"#46039f\"], [0.2222222222222222, \"#7201a8\"], [0.3333333333333333, \"#9c179e\"], [0.4444444444444444, \"#bd3786\"], [0.5555555555555556, \"#d8576b\"], [0.6666666666666666, \"#ed7953\"], [0.7777777777777778, \"#fb9f3a\"], [0.8888888888888888, \"#fdca26\"], [1.0, \"#f0f921\"]], \"type\": \"histogram2d\"}], \"histogram2dcontour\": [{\"colorbar\": {\"outlinewidth\": 0, \"ticks\": \"\"}, \"colorscale\": [[0.0, \"#0d0887\"], [0.1111111111111111, \"#46039f\"], [0.2222222222222222, \"#7201a8\"], [0.3333333333333333, \"#9c179e\"], [0.4444444444444444, \"#bd3786\"], [0.5555555555555556, \"#d8576b\"], [0.6666666666666666, \"#ed7953\"], [0.7777777777777778, \"#fb9f3a\"], [0.8888888888888888, \"#fdca26\"], [1.0, \"#f0f921\"]], \"type\": \"histogram2dcontour\"}], \"mesh3d\": [{\"colorbar\": {\"outlinewidth\": 0, \"ticks\": \"\"}, \"type\": \"mesh3d\"}], \"parcoords\": [{\"line\": {\"colorbar\": {\"outlinewidth\": 0, \"ticks\": \"\"}}, \"type\": \"parcoords\"}], \"pie\": [{\"automargin\": true, \"type\": \"pie\"}], \"scatter\": [{\"marker\": {\"colorbar\": {\"outlinewidth\": 0, \"ticks\": \"\"}}, \"type\": \"scatter\"}], \"scatter3d\": [{\"line\": {\"colorbar\": {\"outlinewidth\": 0, \"ticks\": \"\"}}, \"marker\": {\"colorbar\": {\"outlinewidth\": 0, \"ticks\": \"\"}}, \"type\": \"scatter3d\"}], \"scattercarpet\": [{\"marker\": {\"colorbar\": {\"outlinewidth\": 0, \"ticks\": \"\"}}, \"type\": \"scattercarpet\"}], \"scattergeo\": [{\"marker\": {\"colorbar\": {\"outlinewidth\": 0, \"ticks\": \"\"}}, \"type\": \"scattergeo\"}], \"scattergl\": [{\"marker\": {\"colorbar\": {\"outlinewidth\": 0, \"ticks\": \"\"}}, \"type\": \"scattergl\"}], \"scattermapbox\": [{\"marker\": {\"colorbar\": {\"outlinewidth\": 0, \"ticks\": \"\"}}, \"type\": \"scattermapbox\"}], \"scatterpolar\": [{\"marker\": {\"colorbar\": {\"outlinewidth\": 0, \"ticks\": \"\"}}, \"type\": \"scatterpolar\"}], \"scatterpolargl\": [{\"marker\": {\"colorbar\": {\"outlinewidth\": 0, \"ticks\": \"\"}}, \"type\": \"scatterpolargl\"}], \"scatterternary\": [{\"marker\": {\"colorbar\": {\"outlinewidth\": 0, \"ticks\": \"\"}}, \"type\": \"scatterternary\"}], \"surface\": [{\"colorbar\": {\"outlinewidth\": 0, \"ticks\": \"\"}, \"colorscale\": [[0.0, \"#0d0887\"], [0.1111111111111111, \"#46039f\"], [0.2222222222222222, \"#7201a8\"], [0.3333333333333333, \"#9c179e\"], [0.4444444444444444, \"#bd3786\"], [0.5555555555555556, \"#d8576b\"], [0.6666666666666666, \"#ed7953\"], [0.7777777777777778, \"#fb9f3a\"], [0.8888888888888888, \"#fdca26\"], [1.0, \"#f0f921\"]], \"type\": \"surface\"}], \"table\": [{\"cells\": {\"fill\": {\"color\": \"#EBF0F8\"}, \"line\": {\"color\": \"white\"}}, \"header\": {\"fill\": {\"color\": \"#C8D4E3\"}, \"line\": {\"color\": \"white\"}}, \"type\": \"table\"}]}, \"layout\": {\"annotationdefaults\": {\"arrowcolor\": \"#2a3f5f\", \"arrowhead\": 0, \"arrowwidth\": 1}, \"coloraxis\": {\"colorbar\": {\"outlinewidth\": 0, \"ticks\": \"\"}}, \"colorscale\": {\"diverging\": [[0, \"#8e0152\"], [0.1, \"#c51b7d\"], [0.2, \"#de77ae\"], [0.3, \"#f1b6da\"], [0.4, \"#fde0ef\"], [0.5, \"#f7f7f7\"], [0.6, \"#e6f5d0\"], [0.7, \"#b8e186\"], [0.8, \"#7fbc41\"], [0.9, \"#4d9221\"], [1, \"#276419\"]], \"sequential\": [[0.0, \"#0d0887\"], [0.1111111111111111, \"#46039f\"], [0.2222222222222222, \"#7201a8\"], [0.3333333333333333, \"#9c179e\"], [0.4444444444444444, \"#bd3786\"], [0.5555555555555556, \"#d8576b\"], [0.6666666666666666, \"#ed7953\"], [0.7777777777777778, \"#fb9f3a\"], [0.8888888888888888, \"#fdca26\"], [1.0, \"#f0f921\"]], \"sequentialminus\": [[0.0, \"#0d0887\"], [0.1111111111111111, \"#46039f\"], [0.2222222222222222, \"#7201a8\"], [0.3333333333333333, \"#9c179e\"], [0.4444444444444444, \"#bd3786\"], [0.5555555555555556, \"#d8576b\"], [0.6666666666666666, \"#ed7953\"], [0.7777777777777778, \"#fb9f3a\"], [0.8888888888888888, \"#fdca26\"], [1.0, \"#f0f921\"]]}, \"colorway\": [\"#636efa\", \"#EF553B\", \"#00cc96\", \"#ab63fa\", \"#FFA15A\", \"#19d3f3\", \"#FF6692\", \"#B6E880\", \"#FF97FF\", \"#FECB52\"], \"font\": {\"color\": \"#2a3f5f\"}, \"geo\": {\"bgcolor\": \"white\", \"lakecolor\": \"white\", \"landcolor\": \"white\", \"showlakes\": true, \"showland\": true, \"subunitcolor\": \"#C8D4E3\"}, \"hoverlabel\": {\"align\": \"left\"}, \"hovermode\": \"closest\", \"mapbox\": {\"style\": \"light\"}, \"paper_bgcolor\": \"white\", \"plot_bgcolor\": \"white\", \"polar\": {\"angularaxis\": {\"gridcolor\": \"#EBF0F8\", \"linecolor\": \"#EBF0F8\", \"ticks\": \"\"}, \"bgcolor\": \"white\", \"radialaxis\": {\"gridcolor\": \"#EBF0F8\", \"linecolor\": \"#EBF0F8\", \"ticks\": \"\"}}, \"scene\": {\"xaxis\": {\"backgroundcolor\": \"white\", \"gridcolor\": \"#DFE8F3\", \"gridwidth\": 2, \"linecolor\": \"#EBF0F8\", \"showbackground\": true, \"ticks\": \"\", \"zerolinecolor\": \"#EBF0F8\"}, \"yaxis\": {\"backgroundcolor\": \"white\", \"gridcolor\": \"#DFE8F3\", \"gridwidth\": 2, \"linecolor\": \"#EBF0F8\", \"showbackground\": true, \"ticks\": \"\", \"zerolinecolor\": \"#EBF0F8\"}, \"zaxis\": {\"backgroundcolor\": \"white\", \"gridcolor\": \"#DFE8F3\", \"gridwidth\": 2, \"linecolor\": \"#EBF0F8\", \"showbackground\": true, \"ticks\": \"\", \"zerolinecolor\": \"#EBF0F8\"}}, \"shapedefaults\": {\"line\": {\"color\": \"#2a3f5f\"}}, \"ternary\": {\"aaxis\": {\"gridcolor\": \"#DFE8F3\", \"linecolor\": \"#A2B1C6\", \"ticks\": \"\"}, \"baxis\": {\"gridcolor\": \"#DFE8F3\", \"linecolor\": \"#A2B1C6\", \"ticks\": \"\"}, \"bgcolor\": \"white\", \"caxis\": {\"gridcolor\": \"#DFE8F3\", \"linecolor\": \"#A2B1C6\", \"ticks\": \"\"}}, \"title\": {\"x\": 0.05}, \"xaxis\": {\"automargin\": true, \"gridcolor\": \"#EBF0F8\", \"linecolor\": \"#EBF0F8\", \"ticks\": \"\", \"title\": {\"standoff\": 15}, \"zerolinecolor\": \"#EBF0F8\", \"zerolinewidth\": 2}, \"yaxis\": {\"automargin\": true, \"gridcolor\": \"#EBF0F8\", \"linecolor\": \"#EBF0F8\", \"ticks\": \"\", \"title\": {\"standoff\": 15}, \"zerolinecolor\": \"#EBF0F8\", \"zerolinewidth\": 2}}}, \"xaxis\": {\"title\": {\"text\": \"Behavior/Personality score\"}}, \"yaxis\": {\"title\": {\"text\": \"Spearman rank correlation\"}}},\n",
       "                        {\"responsive\": true}\n",
       "                    ).then(function(){\n",
       "                            \n",
       "var gd = document.getElementById('4ac25c63-79e6-4955-825b-c4add3faf540');\n",
       "var x = new MutationObserver(function (mutations, observer) {{\n",
       "        var display = window.getComputedStyle(gd).display;\n",
       "        if (!display || display === 'none') {{\n",
       "            console.log([gd, 'removed!']);\n",
       "            Plotly.purge(gd);\n",
       "            observer.disconnect();\n",
       "        }}\n",
       "}});\n",
       "\n",
       "// Listen for the removal of the full notebook cells\n",
       "var notebookContainer = gd.closest('#notebook-container');\n",
       "if (notebookContainer) {{\n",
       "    x.observe(notebookContainer, {childList: true});\n",
       "}}\n",
       "\n",
       "// Listen for the clearing of the current output cell\n",
       "var outputEl = gd.closest('.output');\n",
       "if (outputEl) {{\n",
       "    x.observe(outputEl, {childList: true});\n",
       "}}\n",
       "\n",
       "                        })\n",
       "                };\n",
       "                });\n",
       "            </script>\n",
       "        </div>"
      ]
     },
     "metadata": {},
     "output_type": "display_data"
    }
   ],
   "source": [
    "fig = go.Figure()\n",
    "for bhv in select_bhv:\n",
    "    y = []\n",
    "    x = []\n",
    "    for model in models:\n",
    "        x.append(model.upper())\n",
    "        y.append(test_acc[model][bhv])\n",
    "    bar = go.Bar(name = pretty_bhv[bhv],\n",
    "                 x = x, y = y)\n",
    "    fig.add_trace(bar)\n",
    "    \n",
    "fig.update_layout(barmode = 'group')\n",
    "fig.update_xaxes(title_text = 'Behavior/Personality score')\n",
    "fig.update_yaxes(title_text = pretty_score)\n",
    "fig.show()"
   ]
  },
  {
   "cell_type": "code",
   "execution_count": 21,
   "metadata": {},
   "outputs": [
    {
     "data": {
      "application/vnd.plotly.v1+json": {
       "config": {
        "plotlyServerURL": "https://plot.ly"
       },
       "data": [
        {
         "hovertemplate": "tag=gru<br>true=%{x}<br>predicted=%{y}<extra></extra>",
         "legendgroup": "gru",
         "marker": {
          "color": "#636efa",
          "symbol": "circle"
         },
         "mode": "markers",
         "name": "gru",
         "showlegend": true,
         "type": "scatter",
         "x": [
          0.8235294222831726,
          0.23529411852359772,
          0.7647058963775635,
          0.8823529481887817,
          0.7058823704719543,
          0.7647058963775635,
          0.529411792755127,
          0.8823529481887817,
          0.29411765933036804,
          0.5882353186607361,
          0.29411765933036804,
          0.11764705926179886,
          0.4117647111415863,
          0.9411764740943909,
          0.7647058963775635,
          0.4117647111415863,
          0.7647058963775635,
          0.6470588445663452,
          0.29411765933036804,
          1,
          0.7058823704719543,
          0.529411792755127,
          0.8235294222831726,
          0.9411764740943909,
          0.23529411852359772,
          0.529411792755127,
          0.47058823704719543,
          0.7647058963775635,
          0.7647058963775635,
          1,
          0.529411792755127,
          0.1764705926179886,
          0.8823529481887817,
          0.8823529481887817,
          0.8235294222831726,
          0.7647058963775635,
          0.7058823704719543,
          1,
          0.23529411852359772,
          0.8823529481887817,
          0.5882353186607361,
          0.8823529481887817,
          0.47058823704719543,
          0.9411764740943909,
          1,
          0.9411764740943909,
          0.9411764740943909,
          0.8823529481887817,
          0.8823529481887817,
          0.8235294222831726,
          0.7647058963775635,
          0.23529411852359772,
          0.8823529481887817,
          0.8823529481887817,
          0.6470588445663452,
          0.7647058963775635,
          0.05882352963089943,
          0.7058823704719543,
          0.6470588445663452,
          0.8235294222831726,
          0.7647058963775635,
          0.47058823704719543,
          0.8235294222831726,
          0.7058823704719543,
          0.7058823704719543,
          0.8823529481887817,
          0.8823529481887817,
          0.7647058963775635,
          0.8235294222831726,
          0.9411764740943909,
          0.4117647111415863,
          0.4117647111415863,
          0.47058823704719543,
          0.47058823704719543,
          0.6470588445663452,
          0.7647058963775635
         ],
         "xaxis": "x",
         "y": [
          0.37041014432907104,
          0.6537076830863953,
          0.7744597792625427,
          0.8257057070732117,
          0.6159366965293884,
          0.7973746657371521,
          0.5609708428382874,
          0.8007146120071411,
          0.8190118670463562,
          0.8572705984115601,
          0.835732638835907,
          0.4904094338417053,
          0.2968893051147461,
          0.7856550812721252,
          0.8650617599487305,
          0.551263689994812,
          0.4421982765197754,
          0.7679113149642944,
          0.423748254776001,
          0.7522861361503601,
          0.7900851368904114,
          0.5621967315673828,
          0.6116935014724731,
          0.7812196612358093,
          0.27003389596939087,
          0.6071071624755859,
          0.8157588243484497,
          0.3579530119895935,
          0.6760912537574768,
          0.8207601308822632,
          0.5863551497459412,
          0.37380450963974,
          0.765566349029541,
          0.7959892153739929,
          0.774989664554596,
          0.7171483635902405,
          0.4708406925201416,
          0.6507514119148254,
          0.6230438351631165,
          0.7475224137306213,
          0.6999481916427612,
          0.7060866355895996,
          0.40555423498153687,
          0.8134998679161072,
          0.7571972608566284,
          0.4265720248222351,
          0.7610335946083069,
          0.6641427874565125,
          0.7008807063102722,
          0.6266852021217346,
          0.642629861831665,
          0.48951756954193115,
          0.717032790184021,
          0.9094488024711609,
          0.5120696425437927,
          0.43966078758239746,
          0.6262242794036865,
          0.8756275773048401,
          0.7122583389282227,
          0.7137463092803955,
          0.6378611326217651,
          0.8243085741996765,
          0.387079656124115,
          0.6969619393348694,
          0.46836423873901367,
          0.6898980736732483,
          0.8400752544403076,
          0.6510290503501892,
          0.7245913147926331,
          0.7121585607528687,
          0.6532559394836426,
          0.8864001631736755,
          0.35538458824157715,
          0.6788659691810608,
          0.39531266689300537,
          0.5311118960380554
         ],
         "yaxis": "y"
        },
        {
         "hovertemplate": "<b>OLS trendline</b><br>predicted = 0.227084 * true + 0.496447<br>R<sup>2</sup>=0.116173<br><br>tag=gru<br>true=%{x}<br>predicted=%{y} <b>(trend)</b><extra></extra>",
         "legendgroup": "gru",
         "marker": {
          "color": "#636efa",
          "symbol": "circle"
         },
         "mode": "lines",
         "name": "gru",
         "showlegend": false,
         "type": "scatter",
         "x": [
          0.05882352963089943,
          0.11764705926179886,
          0.1764705926179886,
          0.23529411852359772,
          0.23529411852359772,
          0.23529411852359772,
          0.23529411852359772,
          0.29411765933036804,
          0.29411765933036804,
          0.29411765933036804,
          0.4117647111415863,
          0.4117647111415863,
          0.4117647111415863,
          0.4117647111415863,
          0.47058823704719543,
          0.47058823704719543,
          0.47058823704719543,
          0.47058823704719543,
          0.47058823704719543,
          0.529411792755127,
          0.529411792755127,
          0.529411792755127,
          0.529411792755127,
          0.5882353186607361,
          0.5882353186607361,
          0.6470588445663452,
          0.6470588445663452,
          0.6470588445663452,
          0.6470588445663452,
          0.7058823704719543,
          0.7058823704719543,
          0.7058823704719543,
          0.7058823704719543,
          0.7058823704719543,
          0.7058823704719543,
          0.7647058963775635,
          0.7647058963775635,
          0.7647058963775635,
          0.7647058963775635,
          0.7647058963775635,
          0.7647058963775635,
          0.7647058963775635,
          0.7647058963775635,
          0.7647058963775635,
          0.7647058963775635,
          0.7647058963775635,
          0.7647058963775635,
          0.8235294222831726,
          0.8235294222831726,
          0.8235294222831726,
          0.8235294222831726,
          0.8235294222831726,
          0.8235294222831726,
          0.8235294222831726,
          0.8823529481887817,
          0.8823529481887817,
          0.8823529481887817,
          0.8823529481887817,
          0.8823529481887817,
          0.8823529481887817,
          0.8823529481887817,
          0.8823529481887817,
          0.8823529481887817,
          0.8823529481887817,
          0.8823529481887817,
          0.8823529481887817,
          0.9411764740943909,
          0.9411764740943909,
          0.9411764740943909,
          0.9411764740943909,
          0.9411764740943909,
          0.9411764740943909,
          1,
          1,
          1,
          1
         ],
         "xaxis": "x",
         "y": [
          0.5098045375199487,
          0.523162434770917,
          0.53652033286784,
          0.5498782292728533,
          0.5498782292728533,
          0.5498782292728533,
          0.5498782292728533,
          0.5632361290616859,
          0.5632361290616859,
          0.5632361290616859,
          0.5899519218717129,
          0.5899519218717129,
          0.5899519218717129,
          0.5899519218717129,
          0.6033098182767263,
          0.6033098182767263,
          0.6033098182767263,
          0.6033098182767263,
          0.6033098182767263,
          0.6166677214493779,
          0.6166677214493779,
          0.6166677214493779,
          0.6166677214493779,
          0.6300256178543913,
          0.6300256178543913,
          0.6433835142594048,
          0.6433835142594048,
          0.6433835142594048,
          0.6433835142594048,
          0.6567414106644183,
          0.6567414106644183,
          0.6567414106644183,
          0.6567414106644183,
          0.6567414106644183,
          0.6567414106644183,
          0.6700993070694317,
          0.6700993070694317,
          0.6700993070694317,
          0.6700993070694317,
          0.6700993070694317,
          0.6700993070694317,
          0.6700993070694317,
          0.6700993070694317,
          0.6700993070694317,
          0.6700993070694317,
          0.6700993070694317,
          0.6700993070694317,
          0.6834572034744452,
          0.6834572034744452,
          0.6834572034744452,
          0.6834572034744452,
          0.6834572034744452,
          0.6834572034744452,
          0.6834572034744452,
          0.6968150998794586,
          0.6968150998794586,
          0.6968150998794586,
          0.6968150998794586,
          0.6968150998794586,
          0.6968150998794586,
          0.6968150998794586,
          0.6968150998794586,
          0.6968150998794586,
          0.6968150998794586,
          0.6968150998794586,
          0.6968150998794586,
          0.7101729962844721,
          0.7101729962844721,
          0.7101729962844721,
          0.7101729962844721,
          0.7101729962844721,
          0.7101729962844721,
          0.7235308926894854,
          0.7235308926894854,
          0.7235308926894854,
          0.7235308926894854
         ],
         "yaxis": "y"
        },
        {
         "hovertemplate": "tag=ff<br>true=%{x}<br>predicted=%{y}<extra></extra>",
         "legendgroup": "ff",
         "marker": {
          "color": "#EF553B",
          "symbol": "circle"
         },
         "mode": "markers",
         "name": "ff",
         "showlegend": true,
         "type": "scatter",
         "x": [
          0.8235294222831726,
          0.23529411852359772,
          0.7647058963775635,
          0.8823529481887817,
          0.7058823704719543,
          0.7647058963775635,
          0.529411792755127,
          0.8823529481887817,
          0.29411765933036804,
          0.5882353186607361,
          0.29411765933036804,
          0.11764705926179886,
          0.4117647111415863,
          0.9411764740943909,
          0.7647058963775635,
          0.4117647111415863,
          0.7647058963775635,
          0.6470588445663452,
          0.29411765933036804,
          1,
          0.7058823704719543,
          0.529411792755127,
          0.8235294222831726,
          0.9411764740943909,
          0.23529411852359772,
          0.529411792755127,
          0.47058823704719543,
          0.7647058963775635,
          0.7647058963775635,
          1,
          0.529411792755127,
          0.1764705926179886,
          0.8823529481887817,
          0.8823529481887817,
          0.8235294222831726,
          0.7647058963775635,
          0.7058823704719543,
          1,
          0.23529411852359772,
          0.8823529481887817,
          0.5882353186607361,
          0.8823529481887817,
          0.47058823704719543,
          0.9411764740943909,
          1,
          0.9411764740943909,
          0.9411764740943909,
          0.8823529481887817,
          0.8823529481887817,
          0.8235294222831726,
          0.7647058963775635,
          0.23529411852359772,
          0.8823529481887817,
          0.8823529481887817,
          0.6470588445663452,
          0.7647058963775635,
          0.05882352963089943,
          0.7058823704719543,
          0.6470588445663452,
          0.8235294222831726,
          0.7647058963775635,
          0.47058823704719543,
          0.8235294222831726,
          0.7058823704719543,
          0.7058823704719543,
          0.8823529481887817,
          0.8823529481887817,
          0.7647058963775635,
          0.8235294222831726,
          0.9411764740943909,
          0.4117647111415863,
          0.4117647111415863,
          0.47058823704719543,
          0.47058823704719543,
          0.6470588445663452,
          0.7647058963775635
         ],
         "xaxis": "x",
         "y": [
          0.8746997117996216,
          0.5026143193244934,
          0.902146577835083,
          1.1080262660980225,
          0.91731196641922,
          0.5024769306182861,
          0.2983860671520233,
          0.5143669247627258,
          0.5446023941040039,
          0.6857365369796753,
          0.7203800678253174,
          0.6897420287132263,
          0.663077712059021,
          0.5377699136734009,
          0.5232987403869629,
          0.6294777989387512,
          0.6918947100639343,
          0.5852149128913879,
          0.4075755476951599,
          0.8528826236724854,
          0.8175855278968811,
          0.5167312026023865,
          0.666856050491333,
          0.8566647171974182,
          0.42121315002441406,
          0.6000469326972961,
          0.18123532831668854,
          0.5078251361846924,
          0.4034470319747925,
          0.7449787259101868,
          0.7337195873260498,
          0.573736846446991,
          0.8188914060592651,
          0.417255699634552,
          0.6823869347572327,
          0.838238000869751,
          0.43505358695983887,
          0.8037963509559631,
          0.5638635158538818,
          0.557870090007782,
          0.7796853184700012,
          0.3653208017349243,
          0.6919370293617249,
          0.3679935932159424,
          0.6835011839866638,
          0.5887381434440613,
          0.34402310848236084,
          0.9236563444137573,
          0.936061680316925,
          0.8139099478721619,
          0.4166678190231323,
          0.4656110405921936,
          0.5753445625305176,
          0.7424382567405701,
          0.6369656920433044,
          0.405215859413147,
          0.6228699684143066,
          0.5935395956039429,
          0.42453205585479736,
          0.4458690285682678,
          0.6966052651405334,
          0.5073204636573792,
          0.6176857352256775,
          0.9078670740127563,
          0.7843552231788635,
          0.7126485705375671,
          0.7207465171813965,
          0.7083645462989807,
          0.692393958568573,
          0.7566524147987366,
          0.4173373579978943,
          0.8659623265266418,
          0.7136604189872742,
          0.6918197870254517,
          0.6837276816368103,
          0.7900358438491821
         ],
         "yaxis": "y"
        },
        {
         "hovertemplate": "<b>OLS trendline</b><br>predicted = 0.175028 * true + 0.518096<br>R<sup>2</sup>=0.056222<br><br>tag=ff<br>true=%{x}<br>predicted=%{y} <b>(trend)</b><extra></extra>",
         "legendgroup": "ff",
         "marker": {
          "color": "#EF553B",
          "symbol": "circle"
         },
         "mode": "lines",
         "name": "ff",
         "showlegend": false,
         "type": "scatter",
         "x": [
          0.05882352963089943,
          0.11764705926179886,
          0.1764705926179886,
          0.23529411852359772,
          0.23529411852359772,
          0.23529411852359772,
          0.23529411852359772,
          0.29411765933036804,
          0.29411765933036804,
          0.29411765933036804,
          0.4117647111415863,
          0.4117647111415863,
          0.4117647111415863,
          0.4117647111415863,
          0.47058823704719543,
          0.47058823704719543,
          0.47058823704719543,
          0.47058823704719543,
          0.47058823704719543,
          0.529411792755127,
          0.529411792755127,
          0.529411792755127,
          0.529411792755127,
          0.5882353186607361,
          0.5882353186607361,
          0.6470588445663452,
          0.6470588445663452,
          0.6470588445663452,
          0.6470588445663452,
          0.7058823704719543,
          0.7058823704719543,
          0.7058823704719543,
          0.7058823704719543,
          0.7058823704719543,
          0.7058823704719543,
          0.7647058963775635,
          0.7647058963775635,
          0.7647058963775635,
          0.7647058963775635,
          0.7647058963775635,
          0.7647058963775635,
          0.7647058963775635,
          0.7647058963775635,
          0.7647058963775635,
          0.7647058963775635,
          0.7647058963775635,
          0.7647058963775635,
          0.8235294222831726,
          0.8235294222831726,
          0.8235294222831726,
          0.8235294222831726,
          0.8235294222831726,
          0.8235294222831726,
          0.8235294222831726,
          0.8823529481887817,
          0.8823529481887817,
          0.8823529481887817,
          0.8823529481887817,
          0.8823529481887817,
          0.8823529481887817,
          0.8823529481887817,
          0.8823529481887817,
          0.8823529481887817,
          0.8823529481887817,
          0.8823529481887817,
          0.8823529481887817,
          0.9411764740943909,
          0.9411764740943909,
          0.9411764740943909,
          0.9411764740943909,
          0.9411764740943909,
          0.9411764740943909,
          1,
          1,
          1,
          1
         ],
         "xaxis": "x",
         "y": [
          0.5283922729711804,
          0.5386880538727574,
          0.5489838354263655,
          0.5592796156759114,
          0.5592796156759114,
          0.5592796156759114,
          0.5592796156759114,
          0.5695753985335819,
          0.5695753985335819,
          0.5695753985335819,
          0.5901669590326736,
          0.5901669590326736,
          0.5901669590326736,
          0.5901669590326736,
          0.6004627392822195,
          0.6004627392822195,
          0.6004627392822195,
          0.6004627392822195,
          0.6004627392822195,
          0.6107585247480144,
          0.6107585247480144,
          0.6107585247480144,
          0.6107585247480144,
          0.6210543049975603,
          0.6210543049975603,
          0.6313500852471062,
          0.6313500852471062,
          0.6313500852471062,
          0.6313500852471062,
          0.641645865496652,
          0.641645865496652,
          0.641645865496652,
          0.641645865496652,
          0.641645865496652,
          0.641645865496652,
          0.651941645746198,
          0.651941645746198,
          0.651941645746198,
          0.651941645746198,
          0.651941645746198,
          0.651941645746198,
          0.651941645746198,
          0.651941645746198,
          0.651941645746198,
          0.651941645746198,
          0.651941645746198,
          0.651941645746198,
          0.6622374259957438,
          0.6622374259957438,
          0.6622374259957438,
          0.6622374259957438,
          0.6622374259957438,
          0.6622374259957438,
          0.6622374259957438,
          0.6725332062452897,
          0.6725332062452897,
          0.6725332062452897,
          0.6725332062452897,
          0.6725332062452897,
          0.6725332062452897,
          0.6725332062452897,
          0.6725332062452897,
          0.6725332062452897,
          0.6725332062452897,
          0.6725332062452897,
          0.6725332062452897,
          0.6828289864948356,
          0.6828289864948356,
          0.6828289864948356,
          0.6828289864948356,
          0.6828289864948356,
          0.6828289864948356,
          0.6931247667443814,
          0.6931247667443814,
          0.6931247667443814,
          0.6931247667443814
         ],
         "yaxis": "y"
        },
        {
         "hovertemplate": "tag=tcn<br>true=%{x}<br>predicted=%{y}<extra></extra>",
         "legendgroup": "tcn",
         "marker": {
          "color": "#00cc96",
          "symbol": "circle"
         },
         "mode": "markers",
         "name": "tcn",
         "showlegend": true,
         "type": "scatter",
         "x": [
          0.8235294222831726,
          0.23529411852359772,
          0.7647058963775635,
          0.8823529481887817,
          0.7058823704719543,
          0.7647058963775635,
          0.529411792755127,
          0.8823529481887817,
          0.29411765933036804,
          0.5882353186607361,
          0.29411765933036804,
          0.11764705926179886,
          0.4117647111415863,
          0.9411764740943909,
          0.7647058963775635,
          0.4117647111415863,
          0.7647058963775635,
          0.6470588445663452,
          0.29411765933036804,
          1,
          0.7058823704719543,
          0.529411792755127,
          0.8235294222831726,
          0.9411764740943909,
          0.23529411852359772,
          0.529411792755127,
          0.47058823704719543,
          0.7647058963775635,
          0.7647058963775635,
          1,
          0.529411792755127,
          0.1764705926179886,
          0.8823529481887817,
          0.8823529481887817,
          0.8235294222831726,
          0.7647058963775635,
          0.7058823704719543,
          1,
          0.23529411852359772,
          0.8823529481887817,
          0.5882353186607361,
          0.8823529481887817,
          0.47058823704719543,
          0.9411764740943909,
          1,
          0.9411764740943909,
          0.9411764740943909,
          0.8823529481887817,
          0.8823529481887817,
          0.8235294222831726,
          0.7647058963775635,
          0.23529411852359772,
          0.8823529481887817,
          0.8823529481887817,
          0.6470588445663452,
          0.7647058963775635,
          0.05882352963089943,
          0.7058823704719543,
          0.6470588445663452,
          0.8235294222831726,
          0.7647058963775635,
          0.47058823704719543,
          0.8235294222831726,
          0.7058823704719543,
          0.7058823704719543,
          0.8823529481887817,
          0.8823529481887817,
          0.7647058963775635,
          0.8235294222831726,
          0.9411764740943909,
          0.4117647111415863,
          0.4117647111415863,
          0.47058823704719543,
          0.47058823704719543,
          0.6470588445663452,
          0.7647058963775635
         ],
         "xaxis": "x",
         "y": [
          0.39878135919570923,
          0.44988012313842773,
          0.659698486328125,
          0.9009681940078735,
          0.6397225260734558,
          0.310653418302536,
          0.4347270131111145,
          0.5045161247253418,
          0.6306163668632507,
          0.8055611848831177,
          0.6259114742279053,
          0.8651270270347595,
          0.4420468211174011,
          0.7930954694747925,
          0.5891942381858826,
          0.762508749961853,
          0.25720182061195374,
          0.5788098573684692,
          0.7097673416137695,
          0.7941547632217407,
          0.9499298334121704,
          0.6713647246360779,
          0.7631794810295105,
          0.5757655501365662,
          0.630203127861023,
          0.5802602767944336,
          0.3251803517341614,
          0.8114747405052185,
          0.6824979782104492,
          0.6000864505767822,
          0.5144070386886597,
          0.5557991862297058,
          0.8894674777984619,
          0.5141066908836365,
          0.5542235374450684,
          0.8488017320632935,
          0.7089351415634155,
          0.6791725754737854,
          0.32919225096702576,
          0.97612065076828,
          0.7007967829704285,
          0.46505606174468994,
          0.5256000757217407,
          0.7207460403442383,
          0.6713472008705139,
          0.9538206458091736,
          0.9219173192977905,
          0.6370389461517334,
          0.7978000640869141,
          0.9252343773841858,
          0.7055412530899048,
          0.8355650901794434,
          0.6768726110458374,
          0.6997692584991455,
          0.3935125768184662,
          0.7427852153778076,
          0.6246429681777954,
          0.6337285041809082,
          0.42209815979003906,
          0.5231271982192993,
          0.471293181180954,
          0.5206323266029358,
          0.4690352976322174,
          0.6863173246383667,
          1.0808435678482056,
          0.634210467338562,
          0.8460534811019897,
          0.7460348010063171,
          0.6121850609779358,
          0.9579727053642273,
          0.5922374725341797,
          0.6013749837875366,
          0.781460165977478,
          0.5471212863922119,
          0.5717860460281372,
          0.6614940166473389
         ],
         "yaxis": "y"
        },
        {
         "hovertemplate": "<b>OLS trendline</b><br>predicted = 0.169913 * true + 0.538482<br>R<sup>2</sup>=0.055751<br><br>tag=tcn<br>true=%{x}<br>predicted=%{y} <b>(trend)</b><extra></extra>",
         "legendgroup": "tcn",
         "marker": {
          "color": "#00cc96",
          "symbol": "circle"
         },
         "mode": "lines",
         "name": "tcn",
         "showlegend": false,
         "type": "scatter",
         "x": [
          0.05882352963089943,
          0.11764705926179886,
          0.1764705926179886,
          0.23529411852359772,
          0.23529411852359772,
          0.23529411852359772,
          0.23529411852359772,
          0.29411765933036804,
          0.29411765933036804,
          0.29411765933036804,
          0.4117647111415863,
          0.4117647111415863,
          0.4117647111415863,
          0.4117647111415863,
          0.47058823704719543,
          0.47058823704719543,
          0.47058823704719543,
          0.47058823704719543,
          0.47058823704719543,
          0.529411792755127,
          0.529411792755127,
          0.529411792755127,
          0.529411792755127,
          0.5882353186607361,
          0.5882353186607361,
          0.6470588445663452,
          0.6470588445663452,
          0.6470588445663452,
          0.6470588445663452,
          0.7058823704719543,
          0.7058823704719543,
          0.7058823704719543,
          0.7058823704719543,
          0.7058823704719543,
          0.7058823704719543,
          0.7647058963775635,
          0.7647058963775635,
          0.7647058963775635,
          0.7647058963775635,
          0.7647058963775635,
          0.7647058963775635,
          0.7647058963775635,
          0.7647058963775635,
          0.7647058963775635,
          0.7647058963775635,
          0.7647058963775635,
          0.7647058963775635,
          0.8235294222831726,
          0.8235294222831726,
          0.8235294222831726,
          0.8235294222831726,
          0.8235294222831726,
          0.8235294222831726,
          0.8235294222831726,
          0.8823529481887817,
          0.8823529481887817,
          0.8823529481887817,
          0.8823529481887817,
          0.8823529481887817,
          0.8823529481887817,
          0.8823529481887817,
          0.8823529481887817,
          0.8823529481887817,
          0.8823529481887817,
          0.8823529481887817,
          0.8823529481887817,
          0.9411764740943909,
          0.9411764740943909,
          0.9411764740943909,
          0.9411764740943909,
          0.9411764740943909,
          0.9411764740943909,
          1,
          1,
          1,
          1
         ],
         "xaxis": "x",
         "y": [
          0.5484771938902511,
          0.5584720585418665,
          0.5684669238264562,
          0.5784617878450976,
          0.5784617878450976,
          0.5784617878450976,
          0.5784617878450976,
          0.5884566543956354,
          0.5884566543956354,
          0.5884566543956354,
          0.6084463824329183,
          0.6084463824329183,
          0.6084463824329183,
          0.6084463824329183,
          0.6184412464515596,
          0.6184412464515596,
          0.6184412464515596,
          0.6184412464515596,
          0.6184412464515596,
          0.6284361155339939,
          0.6284361155339939,
          0.6284361155339939,
          0.6284361155339939,
          0.6384309795526354,
          0.6384309795526354,
          0.6484258435712767,
          0.6484258435712767,
          0.6484258435712767,
          0.6484258435712767,
          0.6584207075899181,
          0.6584207075899181,
          0.6584207075899181,
          0.6584207075899181,
          0.6584207075899181,
          0.6584207075899181,
          0.6684155716085595,
          0.6684155716085595,
          0.6684155716085595,
          0.6684155716085595,
          0.6684155716085595,
          0.6684155716085595,
          0.6684155716085595,
          0.6684155716085595,
          0.6684155716085595,
          0.6684155716085595,
          0.6684155716085595,
          0.6684155716085595,
          0.6784104356272008,
          0.6784104356272008,
          0.6784104356272008,
          0.6784104356272008,
          0.6784104356272008,
          0.6784104356272008,
          0.6784104356272008,
          0.6884052996458422,
          0.6884052996458422,
          0.6884052996458422,
          0.6884052996458422,
          0.6884052996458422,
          0.6884052996458422,
          0.6884052996458422,
          0.6884052996458422,
          0.6884052996458422,
          0.6884052996458422,
          0.6884052996458422,
          0.6884052996458422,
          0.6984001636644835,
          0.6984001636644835,
          0.6984001636644835,
          0.6984001636644835,
          0.6984001636644835,
          0.6984001636644835,
          0.708395027683125,
          0.708395027683125,
          0.708395027683125,
          0.708395027683125
         ],
         "yaxis": "y"
        },
        {
         "hovertemplate": "tag=cpm<br>true=%{x}<br>predicted=%{y}<extra></extra>",
         "legendgroup": "cpm",
         "marker": {
          "color": "#ab63fa",
          "symbol": "circle"
         },
         "mode": "markers",
         "name": "cpm",
         "showlegend": true,
         "type": "scatter",
         "x": [
          0.8235294117647058,
          0.23529411764705882,
          0.7647058823529411,
          0.8823529411764706,
          0.7058823529411765,
          0.7647058823529411,
          0.5294117647058824,
          0.8823529411764706,
          0.29411764705882354,
          0.5882352941176471,
          0.29411764705882354,
          0.11764705882352941,
          0.4117647058823529,
          0.9411764705882353,
          0.7647058823529411,
          0.4117647058823529,
          0.7647058823529411,
          0.6470588235294118,
          0.29411764705882354,
          1,
          0.7058823529411765,
          0.5294117647058824,
          0.8235294117647058,
          0.9411764705882353,
          0.23529411764705882,
          0.5294117647058824,
          0.47058823529411764,
          0.7647058823529411,
          0.7647058823529411,
          1,
          0.5294117647058824,
          0.17647058823529413,
          0.8823529411764706,
          0.8823529411764706,
          0.8235294117647058,
          0.7647058823529411,
          0.7058823529411765,
          1,
          0.23529411764705882,
          0.8823529411764706,
          0.5882352941176471,
          0.8823529411764706,
          0.47058823529411764,
          0.9411764705882353,
          1,
          0.9411764705882353,
          0.9411764705882353,
          0.8823529411764706,
          0.8823529411764706,
          0.8235294117647058,
          0.7647058823529411,
          0.23529411764705882,
          0.8823529411764706,
          0.8823529411764706,
          0.6470588235294118,
          0.7647058823529411,
          0.058823529411764705,
          0.7058823529411765,
          0.6470588235294118,
          0.8235294117647058,
          0.7647058823529411,
          0.47058823529411764,
          0.8235294117647058,
          0.7058823529411765,
          0.7058823529411765,
          0.8823529411764706,
          0.8823529411764706,
          0.7647058823529411,
          0.8235294117647058,
          0.9411764705882353,
          0.4117647058823529,
          0.4117647058823529,
          0.47058823529411764,
          0.47058823529411764,
          0.6470588235294118,
          0.7647058823529411
         ],
         "xaxis": "x",
         "y": [
          0.47304292902770195,
          0.47762049539777246,
          0.6031390588457818,
          0.600990414227262,
          0.7799861288295491,
          0.6013383824360938,
          0.6882811191185538,
          0.7980493384246975,
          0.5306001517819047,
          0.5438446763622251,
          0.7584474001536965,
          0.40980111748480164,
          0.4781406498129526,
          0.6185476158351901,
          0.706409966562092,
          0.5439989684829627,
          0.6484587143507441,
          0.8396255089584665,
          0.587109664830094,
          0.7018595259957188,
          0.5404147547691015,
          0.7760314724027788,
          0.5002653737365766,
          0.749990592035257,
          0.5336074211377977,
          0.7501667013388515,
          0.630656876667838,
          0.5453140773528034,
          0.6536797220484959,
          0.6794458838472409,
          0.5313380038786927,
          0.6187098570902072,
          0.6364908688126832,
          0.514289248302366,
          0.6233438628485253,
          0.6084123857405138,
          0.5700802326257768,
          0.6198636789263502,
          0.6613668333223086,
          0.6002693031027406,
          0.5762510234926443,
          0.5644199790372333,
          0.6130475381240378,
          0.6653234241326964,
          0.5673580892227754,
          0.41205638672533096,
          0.6484959396260617,
          0.4609810079985157,
          0.7562321620919914,
          0.4963005116425509,
          0.6099647844387266,
          0.5919994130291402,
          0.6255065115565208,
          0.5995648792955833,
          0.6440647498199802,
          0.4421421573701616,
          0.6148173859723409,
          0.7374819273640252,
          0.6839241804107707,
          0.6626575448027465,
          0.6020276554478059,
          0.5625304687928365,
          0.39838772438984404,
          0.6708322404309783,
          0.4735469017777626,
          0.7285446446765971,
          0.6402179708481506,
          0.7843428631252765,
          0.6455980007042412,
          0.5804910718898245,
          0.529531806878768,
          0.7126766406634011,
          0.7246021409928475,
          0.7123576463875333,
          0.6427752074997067,
          0.5102791080680171
         ],
         "yaxis": "y"
        },
        {
         "hovertemplate": "<b>OLS trendline</b><br>predicted = 0.0333594 * true + 0.590886<br>R<sup>2</sup>=0.006705<br><br>tag=cpm<br>true=%{x}<br>predicted=%{y} <b>(trend)</b><extra></extra>",
         "legendgroup": "cpm",
         "marker": {
          "color": "#ab63fa",
          "symbol": "circle"
         },
         "mode": "lines",
         "name": "cpm",
         "showlegend": false,
         "type": "scatter",
         "x": [
          0.058823529411764705,
          0.11764705882352941,
          0.17647058823529413,
          0.23529411764705882,
          0.23529411764705882,
          0.23529411764705882,
          0.23529411764705882,
          0.29411764705882354,
          0.29411764705882354,
          0.29411764705882354,
          0.4117647058823529,
          0.4117647058823529,
          0.4117647058823529,
          0.4117647058823529,
          0.47058823529411764,
          0.47058823529411764,
          0.47058823529411764,
          0.47058823529411764,
          0.47058823529411764,
          0.5294117647058824,
          0.5294117647058824,
          0.5294117647058824,
          0.5294117647058824,
          0.5882352941176471,
          0.5882352941176471,
          0.6470588235294118,
          0.6470588235294118,
          0.6470588235294118,
          0.6470588235294118,
          0.7058823529411765,
          0.7058823529411765,
          0.7058823529411765,
          0.7058823529411765,
          0.7058823529411765,
          0.7058823529411765,
          0.7647058823529411,
          0.7647058823529411,
          0.7647058823529411,
          0.7647058823529411,
          0.7647058823529411,
          0.7647058823529411,
          0.7647058823529411,
          0.7647058823529411,
          0.7647058823529411,
          0.7647058823529411,
          0.7647058823529411,
          0.7647058823529411,
          0.8235294117647058,
          0.8235294117647058,
          0.8235294117647058,
          0.8235294117647058,
          0.8235294117647058,
          0.8235294117647058,
          0.8235294117647058,
          0.8823529411764706,
          0.8823529411764706,
          0.8823529411764706,
          0.8823529411764706,
          0.8823529411764706,
          0.8823529411764706,
          0.8823529411764706,
          0.8823529411764706,
          0.8823529411764706,
          0.8823529411764706,
          0.8823529411764706,
          0.8823529411764706,
          0.9411764705882353,
          0.9411764705882353,
          0.9411764705882353,
          0.9411764705882353,
          0.9411764705882353,
          0.9411764705882353,
          1,
          1,
          1,
          1
         ],
         "xaxis": "x",
         "y": [
          0.5928482856789892,
          0.5948106022672612,
          0.5967729188555333,
          0.5987352354438054,
          0.5987352354438054,
          0.5987352354438054,
          0.5987352354438054,
          0.6006975520320774,
          0.6006975520320774,
          0.6006975520320774,
          0.6046221852086214,
          0.6046221852086214,
          0.6046221852086214,
          0.6046221852086214,
          0.6065845017968935,
          0.6065845017968935,
          0.6065845017968935,
          0.6065845017968935,
          0.6065845017968935,
          0.6085468183851656,
          0.6085468183851656,
          0.6085468183851656,
          0.6085468183851656,
          0.6105091349734376,
          0.6105091349734376,
          0.6124714515617097,
          0.6124714515617097,
          0.6124714515617097,
          0.6124714515617097,
          0.6144337681499817,
          0.6144337681499817,
          0.6144337681499817,
          0.6144337681499817,
          0.6144337681499817,
          0.6144337681499817,
          0.6163960847382538,
          0.6163960847382538,
          0.6163960847382538,
          0.6163960847382538,
          0.6163960847382538,
          0.6163960847382538,
          0.6163960847382538,
          0.6163960847382538,
          0.6163960847382538,
          0.6163960847382538,
          0.6163960847382538,
          0.6163960847382538,
          0.6183584013265259,
          0.6183584013265259,
          0.6183584013265259,
          0.6183584013265259,
          0.6183584013265259,
          0.6183584013265259,
          0.6183584013265259,
          0.6203207179147979,
          0.6203207179147979,
          0.6203207179147979,
          0.6203207179147979,
          0.6203207179147979,
          0.6203207179147979,
          0.6203207179147979,
          0.6203207179147979,
          0.6203207179147979,
          0.6203207179147979,
          0.6203207179147979,
          0.6203207179147979,
          0.62228303450307,
          0.62228303450307,
          0.62228303450307,
          0.62228303450307,
          0.62228303450307,
          0.62228303450307,
          0.6242453510913419,
          0.6242453510913419,
          0.6242453510913419,
          0.6242453510913419
         ],
         "yaxis": "y"
        }
       ],
       "layout": {
        "font": {
         "color": "black"
        },
        "height": 400,
        "legend": {
         "font": {
          "size": 20
         },
         "title": {
          "text": "tag"
         },
         "tracegroupgap": 0
        },
        "margin": {
         "t": 60
        },
        "template": {
         "data": {
          "bar": [
           {
            "error_x": {
             "color": "#2a3f5f"
            },
            "error_y": {
             "color": "#2a3f5f"
            },
            "marker": {
             "line": {
              "color": "white",
              "width": 0.5
             }
            },
            "type": "bar"
           }
          ],
          "barpolar": [
           {
            "marker": {
             "line": {
              "color": "white",
              "width": 0.5
             }
            },
            "type": "barpolar"
           }
          ],
          "carpet": [
           {
            "aaxis": {
             "endlinecolor": "#2a3f5f",
             "gridcolor": "#C8D4E3",
             "linecolor": "#C8D4E3",
             "minorgridcolor": "#C8D4E3",
             "startlinecolor": "#2a3f5f"
            },
            "baxis": {
             "endlinecolor": "#2a3f5f",
             "gridcolor": "#C8D4E3",
             "linecolor": "#C8D4E3",
             "minorgridcolor": "#C8D4E3",
             "startlinecolor": "#2a3f5f"
            },
            "type": "carpet"
           }
          ],
          "choropleth": [
           {
            "colorbar": {
             "outlinewidth": 0,
             "ticks": ""
            },
            "type": "choropleth"
           }
          ],
          "contour": [
           {
            "colorbar": {
             "outlinewidth": 0,
             "ticks": ""
            },
            "colorscale": [
             [
              0,
              "#0d0887"
             ],
             [
              0.1111111111111111,
              "#46039f"
             ],
             [
              0.2222222222222222,
              "#7201a8"
             ],
             [
              0.3333333333333333,
              "#9c179e"
             ],
             [
              0.4444444444444444,
              "#bd3786"
             ],
             [
              0.5555555555555556,
              "#d8576b"
             ],
             [
              0.6666666666666666,
              "#ed7953"
             ],
             [
              0.7777777777777778,
              "#fb9f3a"
             ],
             [
              0.8888888888888888,
              "#fdca26"
             ],
             [
              1,
              "#f0f921"
             ]
            ],
            "type": "contour"
           }
          ],
          "contourcarpet": [
           {
            "colorbar": {
             "outlinewidth": 0,
             "ticks": ""
            },
            "type": "contourcarpet"
           }
          ],
          "heatmap": [
           {
            "colorbar": {
             "outlinewidth": 0,
             "ticks": ""
            },
            "colorscale": [
             [
              0,
              "#0d0887"
             ],
             [
              0.1111111111111111,
              "#46039f"
             ],
             [
              0.2222222222222222,
              "#7201a8"
             ],
             [
              0.3333333333333333,
              "#9c179e"
             ],
             [
              0.4444444444444444,
              "#bd3786"
             ],
             [
              0.5555555555555556,
              "#d8576b"
             ],
             [
              0.6666666666666666,
              "#ed7953"
             ],
             [
              0.7777777777777778,
              "#fb9f3a"
             ],
             [
              0.8888888888888888,
              "#fdca26"
             ],
             [
              1,
              "#f0f921"
             ]
            ],
            "type": "heatmap"
           }
          ],
          "heatmapgl": [
           {
            "colorbar": {
             "outlinewidth": 0,
             "ticks": ""
            },
            "colorscale": [
             [
              0,
              "#0d0887"
             ],
             [
              0.1111111111111111,
              "#46039f"
             ],
             [
              0.2222222222222222,
              "#7201a8"
             ],
             [
              0.3333333333333333,
              "#9c179e"
             ],
             [
              0.4444444444444444,
              "#bd3786"
             ],
             [
              0.5555555555555556,
              "#d8576b"
             ],
             [
              0.6666666666666666,
              "#ed7953"
             ],
             [
              0.7777777777777778,
              "#fb9f3a"
             ],
             [
              0.8888888888888888,
              "#fdca26"
             ],
             [
              1,
              "#f0f921"
             ]
            ],
            "type": "heatmapgl"
           }
          ],
          "histogram": [
           {
            "marker": {
             "colorbar": {
              "outlinewidth": 0,
              "ticks": ""
             }
            },
            "type": "histogram"
           }
          ],
          "histogram2d": [
           {
            "colorbar": {
             "outlinewidth": 0,
             "ticks": ""
            },
            "colorscale": [
             [
              0,
              "#0d0887"
             ],
             [
              0.1111111111111111,
              "#46039f"
             ],
             [
              0.2222222222222222,
              "#7201a8"
             ],
             [
              0.3333333333333333,
              "#9c179e"
             ],
             [
              0.4444444444444444,
              "#bd3786"
             ],
             [
              0.5555555555555556,
              "#d8576b"
             ],
             [
              0.6666666666666666,
              "#ed7953"
             ],
             [
              0.7777777777777778,
              "#fb9f3a"
             ],
             [
              0.8888888888888888,
              "#fdca26"
             ],
             [
              1,
              "#f0f921"
             ]
            ],
            "type": "histogram2d"
           }
          ],
          "histogram2dcontour": [
           {
            "colorbar": {
             "outlinewidth": 0,
             "ticks": ""
            },
            "colorscale": [
             [
              0,
              "#0d0887"
             ],
             [
              0.1111111111111111,
              "#46039f"
             ],
             [
              0.2222222222222222,
              "#7201a8"
             ],
             [
              0.3333333333333333,
              "#9c179e"
             ],
             [
              0.4444444444444444,
              "#bd3786"
             ],
             [
              0.5555555555555556,
              "#d8576b"
             ],
             [
              0.6666666666666666,
              "#ed7953"
             ],
             [
              0.7777777777777778,
              "#fb9f3a"
             ],
             [
              0.8888888888888888,
              "#fdca26"
             ],
             [
              1,
              "#f0f921"
             ]
            ],
            "type": "histogram2dcontour"
           }
          ],
          "mesh3d": [
           {
            "colorbar": {
             "outlinewidth": 0,
             "ticks": ""
            },
            "type": "mesh3d"
           }
          ],
          "parcoords": [
           {
            "line": {
             "colorbar": {
              "outlinewidth": 0,
              "ticks": ""
             }
            },
            "type": "parcoords"
           }
          ],
          "pie": [
           {
            "automargin": true,
            "type": "pie"
           }
          ],
          "scatter": [
           {
            "marker": {
             "colorbar": {
              "outlinewidth": 0,
              "ticks": ""
             }
            },
            "type": "scatter"
           }
          ],
          "scatter3d": [
           {
            "line": {
             "colorbar": {
              "outlinewidth": 0,
              "ticks": ""
             }
            },
            "marker": {
             "colorbar": {
              "outlinewidth": 0,
              "ticks": ""
             }
            },
            "type": "scatter3d"
           }
          ],
          "scattercarpet": [
           {
            "marker": {
             "colorbar": {
              "outlinewidth": 0,
              "ticks": ""
             }
            },
            "type": "scattercarpet"
           }
          ],
          "scattergeo": [
           {
            "marker": {
             "colorbar": {
              "outlinewidth": 0,
              "ticks": ""
             }
            },
            "type": "scattergeo"
           }
          ],
          "scattergl": [
           {
            "marker": {
             "colorbar": {
              "outlinewidth": 0,
              "ticks": ""
             }
            },
            "type": "scattergl"
           }
          ],
          "scattermapbox": [
           {
            "marker": {
             "colorbar": {
              "outlinewidth": 0,
              "ticks": ""
             }
            },
            "type": "scattermapbox"
           }
          ],
          "scatterpolar": [
           {
            "marker": {
             "colorbar": {
              "outlinewidth": 0,
              "ticks": ""
             }
            },
            "type": "scatterpolar"
           }
          ],
          "scatterpolargl": [
           {
            "marker": {
             "colorbar": {
              "outlinewidth": 0,
              "ticks": ""
             }
            },
            "type": "scatterpolargl"
           }
          ],
          "scatterternary": [
           {
            "marker": {
             "colorbar": {
              "outlinewidth": 0,
              "ticks": ""
             }
            },
            "type": "scatterternary"
           }
          ],
          "surface": [
           {
            "colorbar": {
             "outlinewidth": 0,
             "ticks": ""
            },
            "colorscale": [
             [
              0,
              "#0d0887"
             ],
             [
              0.1111111111111111,
              "#46039f"
             ],
             [
              0.2222222222222222,
              "#7201a8"
             ],
             [
              0.3333333333333333,
              "#9c179e"
             ],
             [
              0.4444444444444444,
              "#bd3786"
             ],
             [
              0.5555555555555556,
              "#d8576b"
             ],
             [
              0.6666666666666666,
              "#ed7953"
             ],
             [
              0.7777777777777778,
              "#fb9f3a"
             ],
             [
              0.8888888888888888,
              "#fdca26"
             ],
             [
              1,
              "#f0f921"
             ]
            ],
            "type": "surface"
           }
          ],
          "table": [
           {
            "cells": {
             "fill": {
              "color": "#EBF0F8"
             },
             "line": {
              "color": "white"
             }
            },
            "header": {
             "fill": {
              "color": "#C8D4E3"
             },
             "line": {
              "color": "white"
             }
            },
            "type": "table"
           }
          ]
         },
         "layout": {
          "annotationdefaults": {
           "arrowcolor": "#2a3f5f",
           "arrowhead": 0,
           "arrowwidth": 1
          },
          "coloraxis": {
           "colorbar": {
            "outlinewidth": 0,
            "ticks": ""
           }
          },
          "colorscale": {
           "diverging": [
            [
             0,
             "#8e0152"
            ],
            [
             0.1,
             "#c51b7d"
            ],
            [
             0.2,
             "#de77ae"
            ],
            [
             0.3,
             "#f1b6da"
            ],
            [
             0.4,
             "#fde0ef"
            ],
            [
             0.5,
             "#f7f7f7"
            ],
            [
             0.6,
             "#e6f5d0"
            ],
            [
             0.7,
             "#b8e186"
            ],
            [
             0.8,
             "#7fbc41"
            ],
            [
             0.9,
             "#4d9221"
            ],
            [
             1,
             "#276419"
            ]
           ],
           "sequential": [
            [
             0,
             "#0d0887"
            ],
            [
             0.1111111111111111,
             "#46039f"
            ],
            [
             0.2222222222222222,
             "#7201a8"
            ],
            [
             0.3333333333333333,
             "#9c179e"
            ],
            [
             0.4444444444444444,
             "#bd3786"
            ],
            [
             0.5555555555555556,
             "#d8576b"
            ],
            [
             0.6666666666666666,
             "#ed7953"
            ],
            [
             0.7777777777777778,
             "#fb9f3a"
            ],
            [
             0.8888888888888888,
             "#fdca26"
            ],
            [
             1,
             "#f0f921"
            ]
           ],
           "sequentialminus": [
            [
             0,
             "#0d0887"
            ],
            [
             0.1111111111111111,
             "#46039f"
            ],
            [
             0.2222222222222222,
             "#7201a8"
            ],
            [
             0.3333333333333333,
             "#9c179e"
            ],
            [
             0.4444444444444444,
             "#bd3786"
            ],
            [
             0.5555555555555556,
             "#d8576b"
            ],
            [
             0.6666666666666666,
             "#ed7953"
            ],
            [
             0.7777777777777778,
             "#fb9f3a"
            ],
            [
             0.8888888888888888,
             "#fdca26"
            ],
            [
             1,
             "#f0f921"
            ]
           ]
          },
          "colorway": [
           "#636efa",
           "#EF553B",
           "#00cc96",
           "#ab63fa",
           "#FFA15A",
           "#19d3f3",
           "#FF6692",
           "#B6E880",
           "#FF97FF",
           "#FECB52"
          ],
          "font": {
           "color": "#2a3f5f"
          },
          "geo": {
           "bgcolor": "white",
           "lakecolor": "white",
           "landcolor": "white",
           "showlakes": true,
           "showland": true,
           "subunitcolor": "#C8D4E3"
          },
          "hoverlabel": {
           "align": "left"
          },
          "hovermode": "closest",
          "mapbox": {
           "style": "light"
          },
          "paper_bgcolor": "white",
          "plot_bgcolor": "white",
          "polar": {
           "angularaxis": {
            "gridcolor": "#EBF0F8",
            "linecolor": "#EBF0F8",
            "ticks": ""
           },
           "bgcolor": "white",
           "radialaxis": {
            "gridcolor": "#EBF0F8",
            "linecolor": "#EBF0F8",
            "ticks": ""
           }
          },
          "scene": {
           "xaxis": {
            "backgroundcolor": "white",
            "gridcolor": "#DFE8F3",
            "gridwidth": 2,
            "linecolor": "#EBF0F8",
            "showbackground": true,
            "ticks": "",
            "zerolinecolor": "#EBF0F8"
           },
           "yaxis": {
            "backgroundcolor": "white",
            "gridcolor": "#DFE8F3",
            "gridwidth": 2,
            "linecolor": "#EBF0F8",
            "showbackground": true,
            "ticks": "",
            "zerolinecolor": "#EBF0F8"
           },
           "zaxis": {
            "backgroundcolor": "white",
            "gridcolor": "#DFE8F3",
            "gridwidth": 2,
            "linecolor": "#EBF0F8",
            "showbackground": true,
            "ticks": "",
            "zerolinecolor": "#EBF0F8"
           }
          },
          "shapedefaults": {
           "line": {
            "color": "#2a3f5f"
           }
          },
          "ternary": {
           "aaxis": {
            "gridcolor": "#DFE8F3",
            "linecolor": "#A2B1C6",
            "ticks": ""
           },
           "baxis": {
            "gridcolor": "#DFE8F3",
            "linecolor": "#A2B1C6",
            "ticks": ""
           },
           "bgcolor": "white",
           "caxis": {
            "gridcolor": "#DFE8F3",
            "linecolor": "#A2B1C6",
            "ticks": ""
           }
          },
          "title": {
           "x": 0.05
          },
          "xaxis": {
           "automargin": true,
           "gridcolor": "#EBF0F8",
           "linecolor": "#EBF0F8",
           "ticks": "",
           "title": {
            "standoff": 15
           },
           "zerolinecolor": "#EBF0F8",
           "zerolinewidth": 2
          },
          "yaxis": {
           "automargin": true,
           "gridcolor": "#EBF0F8",
           "linecolor": "#EBF0F8",
           "ticks": "",
           "title": {
            "standoff": 15
           },
           "zerolinecolor": "#EBF0F8",
           "zerolinewidth": 2
          }
         }
        },
        "title": {
         "text": "Fluid Intelligence"
        },
        "width": 480,
        "xaxis": {
         "anchor": "y",
         "domain": [
          0,
          1
         ],
         "dtick": 0.2,
         "tickfont": {
          "size": 20
         },
         "title": {
          "font": {
           "size": 20
          },
          "text": "True"
         }
        },
        "yaxis": {
         "anchor": "x",
         "domain": [
          0,
          1
         ],
         "dtick": 0.2,
         "tickfont": {
          "size": 20
         },
         "title": {
          "font": {
           "size": 20
          },
          "text": "Predicted"
         }
        }
       }
      },
      "text/html": [
       "<div>\n",
       "        \n",
       "        \n",
       "            <div id=\"118d9f34-4ff6-41f0-93de-de3c8257445c\" class=\"plotly-graph-div\" style=\"height:400px; width:480px;\"></div>\n",
       "            <script type=\"text/javascript\">\n",
       "                require([\"plotly\"], function(Plotly) {\n",
       "                    window.PLOTLYENV=window.PLOTLYENV || {};\n",
       "                    \n",
       "                if (document.getElementById(\"118d9f34-4ff6-41f0-93de-de3c8257445c\")) {\n",
       "                    Plotly.newPlot(\n",
       "                        '118d9f34-4ff6-41f0-93de-de3c8257445c',\n",
       "                        [{\"hovertemplate\": \"tag=gru<br>true=%{x}<br>predicted=%{y}<extra></extra>\", \"legendgroup\": \"gru\", \"marker\": {\"color\": \"#636efa\", \"symbol\": \"circle\"}, \"mode\": \"markers\", \"name\": \"gru\", \"showlegend\": true, \"type\": \"scatter\", \"x\": [0.8235294222831726, 0.23529411852359772, 0.7647058963775635, 0.8823529481887817, 0.7058823704719543, 0.7647058963775635, 0.529411792755127, 0.8823529481887817, 0.29411765933036804, 0.5882353186607361, 0.29411765933036804, 0.11764705926179886, 0.4117647111415863, 0.9411764740943909, 0.7647058963775635, 0.4117647111415863, 0.7647058963775635, 0.6470588445663452, 0.29411765933036804, 1.0, 0.7058823704719543, 0.529411792755127, 0.8235294222831726, 0.9411764740943909, 0.23529411852359772, 0.529411792755127, 0.47058823704719543, 0.7647058963775635, 0.7647058963775635, 1.0, 0.529411792755127, 0.1764705926179886, 0.8823529481887817, 0.8823529481887817, 0.8235294222831726, 0.7647058963775635, 0.7058823704719543, 1.0, 0.23529411852359772, 0.8823529481887817, 0.5882353186607361, 0.8823529481887817, 0.47058823704719543, 0.9411764740943909, 1.0, 0.9411764740943909, 0.9411764740943909, 0.8823529481887817, 0.8823529481887817, 0.8235294222831726, 0.7647058963775635, 0.23529411852359772, 0.8823529481887817, 0.8823529481887817, 0.6470588445663452, 0.7647058963775635, 0.05882352963089943, 0.7058823704719543, 0.6470588445663452, 0.8235294222831726, 0.7647058963775635, 0.47058823704719543, 0.8235294222831726, 0.7058823704719543, 0.7058823704719543, 0.8823529481887817, 0.8823529481887817, 0.7647058963775635, 0.8235294222831726, 0.9411764740943909, 0.4117647111415863, 0.4117647111415863, 0.47058823704719543, 0.47058823704719543, 0.6470588445663452, 0.7647058963775635], \"xaxis\": \"x\", \"y\": [0.37041014432907104, 0.6537076830863953, 0.7744597792625427, 0.8257057070732117, 0.6159366965293884, 0.7973746657371521, 0.5609708428382874, 0.8007146120071411, 0.8190118670463562, 0.8572705984115601, 0.835732638835907, 0.4904094338417053, 0.2968893051147461, 0.7856550812721252, 0.8650617599487305, 0.551263689994812, 0.4421982765197754, 0.7679113149642944, 0.423748254776001, 0.7522861361503601, 0.7900851368904114, 0.5621967315673828, 0.6116935014724731, 0.7812196612358093, 0.27003389596939087, 0.6071071624755859, 0.8157588243484497, 0.3579530119895935, 0.6760912537574768, 0.8207601308822632, 0.5863551497459412, 0.37380450963974, 0.765566349029541, 0.7959892153739929, 0.774989664554596, 0.7171483635902405, 0.4708406925201416, 0.6507514119148254, 0.6230438351631165, 0.7475224137306213, 0.6999481916427612, 0.7060866355895996, 0.40555423498153687, 0.8134998679161072, 0.7571972608566284, 0.4265720248222351, 0.7610335946083069, 0.6641427874565125, 0.7008807063102722, 0.6266852021217346, 0.642629861831665, 0.48951756954193115, 0.717032790184021, 0.9094488024711609, 0.5120696425437927, 0.43966078758239746, 0.6262242794036865, 0.8756275773048401, 0.7122583389282227, 0.7137463092803955, 0.6378611326217651, 0.8243085741996765, 0.387079656124115, 0.6969619393348694, 0.46836423873901367, 0.6898980736732483, 0.8400752544403076, 0.6510290503501892, 0.7245913147926331, 0.7121585607528687, 0.6532559394836426, 0.8864001631736755, 0.35538458824157715, 0.6788659691810608, 0.39531266689300537, 0.5311118960380554], \"yaxis\": \"y\"}, {\"hovertemplate\": \"<b>OLS trendline</b><br>predicted = 0.227084 * true + 0.496447<br>R<sup>2</sup>=0.116173<br><br>tag=gru<br>true=%{x}<br>predicted=%{y} <b>(trend)</b><extra></extra>\", \"legendgroup\": \"gru\", \"marker\": {\"color\": \"#636efa\", \"symbol\": \"circle\"}, \"mode\": \"lines\", \"name\": \"gru\", \"showlegend\": false, \"type\": \"scatter\", \"x\": [0.05882352963089943, 0.11764705926179886, 0.1764705926179886, 0.23529411852359772, 0.23529411852359772, 0.23529411852359772, 0.23529411852359772, 0.29411765933036804, 0.29411765933036804, 0.29411765933036804, 0.4117647111415863, 0.4117647111415863, 0.4117647111415863, 0.4117647111415863, 0.47058823704719543, 0.47058823704719543, 0.47058823704719543, 0.47058823704719543, 0.47058823704719543, 0.529411792755127, 0.529411792755127, 0.529411792755127, 0.529411792755127, 0.5882353186607361, 0.5882353186607361, 0.6470588445663452, 0.6470588445663452, 0.6470588445663452, 0.6470588445663452, 0.7058823704719543, 0.7058823704719543, 0.7058823704719543, 0.7058823704719543, 0.7058823704719543, 0.7058823704719543, 0.7647058963775635, 0.7647058963775635, 0.7647058963775635, 0.7647058963775635, 0.7647058963775635, 0.7647058963775635, 0.7647058963775635, 0.7647058963775635, 0.7647058963775635, 0.7647058963775635, 0.7647058963775635, 0.7647058963775635, 0.8235294222831726, 0.8235294222831726, 0.8235294222831726, 0.8235294222831726, 0.8235294222831726, 0.8235294222831726, 0.8235294222831726, 0.8823529481887817, 0.8823529481887817, 0.8823529481887817, 0.8823529481887817, 0.8823529481887817, 0.8823529481887817, 0.8823529481887817, 0.8823529481887817, 0.8823529481887817, 0.8823529481887817, 0.8823529481887817, 0.8823529481887817, 0.9411764740943909, 0.9411764740943909, 0.9411764740943909, 0.9411764740943909, 0.9411764740943909, 0.9411764740943909, 1.0, 1.0, 1.0, 1.0], \"xaxis\": \"x\", \"y\": [0.5098045375199487, 0.523162434770917, 0.53652033286784, 0.5498782292728533, 0.5498782292728533, 0.5498782292728533, 0.5498782292728533, 0.5632361290616859, 0.5632361290616859, 0.5632361290616859, 0.5899519218717129, 0.5899519218717129, 0.5899519218717129, 0.5899519218717129, 0.6033098182767263, 0.6033098182767263, 0.6033098182767263, 0.6033098182767263, 0.6033098182767263, 0.6166677214493779, 0.6166677214493779, 0.6166677214493779, 0.6166677214493779, 0.6300256178543913, 0.6300256178543913, 0.6433835142594048, 0.6433835142594048, 0.6433835142594048, 0.6433835142594048, 0.6567414106644183, 0.6567414106644183, 0.6567414106644183, 0.6567414106644183, 0.6567414106644183, 0.6567414106644183, 0.6700993070694317, 0.6700993070694317, 0.6700993070694317, 0.6700993070694317, 0.6700993070694317, 0.6700993070694317, 0.6700993070694317, 0.6700993070694317, 0.6700993070694317, 0.6700993070694317, 0.6700993070694317, 0.6700993070694317, 0.6834572034744452, 0.6834572034744452, 0.6834572034744452, 0.6834572034744452, 0.6834572034744452, 0.6834572034744452, 0.6834572034744452, 0.6968150998794586, 0.6968150998794586, 0.6968150998794586, 0.6968150998794586, 0.6968150998794586, 0.6968150998794586, 0.6968150998794586, 0.6968150998794586, 0.6968150998794586, 0.6968150998794586, 0.6968150998794586, 0.6968150998794586, 0.7101729962844721, 0.7101729962844721, 0.7101729962844721, 0.7101729962844721, 0.7101729962844721, 0.7101729962844721, 0.7235308926894854, 0.7235308926894854, 0.7235308926894854, 0.7235308926894854], \"yaxis\": \"y\"}, {\"hovertemplate\": \"tag=ff<br>true=%{x}<br>predicted=%{y}<extra></extra>\", \"legendgroup\": \"ff\", \"marker\": {\"color\": \"#EF553B\", \"symbol\": \"circle\"}, \"mode\": \"markers\", \"name\": \"ff\", \"showlegend\": true, \"type\": \"scatter\", \"x\": [0.8235294222831726, 0.23529411852359772, 0.7647058963775635, 0.8823529481887817, 0.7058823704719543, 0.7647058963775635, 0.529411792755127, 0.8823529481887817, 0.29411765933036804, 0.5882353186607361, 0.29411765933036804, 0.11764705926179886, 0.4117647111415863, 0.9411764740943909, 0.7647058963775635, 0.4117647111415863, 0.7647058963775635, 0.6470588445663452, 0.29411765933036804, 1.0, 0.7058823704719543, 0.529411792755127, 0.8235294222831726, 0.9411764740943909, 0.23529411852359772, 0.529411792755127, 0.47058823704719543, 0.7647058963775635, 0.7647058963775635, 1.0, 0.529411792755127, 0.1764705926179886, 0.8823529481887817, 0.8823529481887817, 0.8235294222831726, 0.7647058963775635, 0.7058823704719543, 1.0, 0.23529411852359772, 0.8823529481887817, 0.5882353186607361, 0.8823529481887817, 0.47058823704719543, 0.9411764740943909, 1.0, 0.9411764740943909, 0.9411764740943909, 0.8823529481887817, 0.8823529481887817, 0.8235294222831726, 0.7647058963775635, 0.23529411852359772, 0.8823529481887817, 0.8823529481887817, 0.6470588445663452, 0.7647058963775635, 0.05882352963089943, 0.7058823704719543, 0.6470588445663452, 0.8235294222831726, 0.7647058963775635, 0.47058823704719543, 0.8235294222831726, 0.7058823704719543, 0.7058823704719543, 0.8823529481887817, 0.8823529481887817, 0.7647058963775635, 0.8235294222831726, 0.9411764740943909, 0.4117647111415863, 0.4117647111415863, 0.47058823704719543, 0.47058823704719543, 0.6470588445663452, 0.7647058963775635], \"xaxis\": \"x\", \"y\": [0.8746997117996216, 0.5026143193244934, 0.902146577835083, 1.1080262660980225, 0.91731196641922, 0.5024769306182861, 0.2983860671520233, 0.5143669247627258, 0.5446023941040039, 0.6857365369796753, 0.7203800678253174, 0.6897420287132263, 0.663077712059021, 0.5377699136734009, 0.5232987403869629, 0.6294777989387512, 0.6918947100639343, 0.5852149128913879, 0.4075755476951599, 0.8528826236724854, 0.8175855278968811, 0.5167312026023865, 0.666856050491333, 0.8566647171974182, 0.42121315002441406, 0.6000469326972961, 0.18123532831668854, 0.5078251361846924, 0.4034470319747925, 0.7449787259101868, 0.7337195873260498, 0.573736846446991, 0.8188914060592651, 0.417255699634552, 0.6823869347572327, 0.838238000869751, 0.43505358695983887, 0.8037963509559631, 0.5638635158538818, 0.557870090007782, 0.7796853184700012, 0.3653208017349243, 0.6919370293617249, 0.3679935932159424, 0.6835011839866638, 0.5887381434440613, 0.34402310848236084, 0.9236563444137573, 0.936061680316925, 0.8139099478721619, 0.4166678190231323, 0.4656110405921936, 0.5753445625305176, 0.7424382567405701, 0.6369656920433044, 0.405215859413147, 0.6228699684143066, 0.5935395956039429, 0.42453205585479736, 0.4458690285682678, 0.6966052651405334, 0.5073204636573792, 0.6176857352256775, 0.9078670740127563, 0.7843552231788635, 0.7126485705375671, 0.7207465171813965, 0.7083645462989807, 0.692393958568573, 0.7566524147987366, 0.4173373579978943, 0.8659623265266418, 0.7136604189872742, 0.6918197870254517, 0.6837276816368103, 0.7900358438491821], \"yaxis\": \"y\"}, {\"hovertemplate\": \"<b>OLS trendline</b><br>predicted = 0.175028 * true + 0.518096<br>R<sup>2</sup>=0.056222<br><br>tag=ff<br>true=%{x}<br>predicted=%{y} <b>(trend)</b><extra></extra>\", \"legendgroup\": \"ff\", \"marker\": {\"color\": \"#EF553B\", \"symbol\": \"circle\"}, \"mode\": \"lines\", \"name\": \"ff\", \"showlegend\": false, \"type\": \"scatter\", \"x\": [0.05882352963089943, 0.11764705926179886, 0.1764705926179886, 0.23529411852359772, 0.23529411852359772, 0.23529411852359772, 0.23529411852359772, 0.29411765933036804, 0.29411765933036804, 0.29411765933036804, 0.4117647111415863, 0.4117647111415863, 0.4117647111415863, 0.4117647111415863, 0.47058823704719543, 0.47058823704719543, 0.47058823704719543, 0.47058823704719543, 0.47058823704719543, 0.529411792755127, 0.529411792755127, 0.529411792755127, 0.529411792755127, 0.5882353186607361, 0.5882353186607361, 0.6470588445663452, 0.6470588445663452, 0.6470588445663452, 0.6470588445663452, 0.7058823704719543, 0.7058823704719543, 0.7058823704719543, 0.7058823704719543, 0.7058823704719543, 0.7058823704719543, 0.7647058963775635, 0.7647058963775635, 0.7647058963775635, 0.7647058963775635, 0.7647058963775635, 0.7647058963775635, 0.7647058963775635, 0.7647058963775635, 0.7647058963775635, 0.7647058963775635, 0.7647058963775635, 0.7647058963775635, 0.8235294222831726, 0.8235294222831726, 0.8235294222831726, 0.8235294222831726, 0.8235294222831726, 0.8235294222831726, 0.8235294222831726, 0.8823529481887817, 0.8823529481887817, 0.8823529481887817, 0.8823529481887817, 0.8823529481887817, 0.8823529481887817, 0.8823529481887817, 0.8823529481887817, 0.8823529481887817, 0.8823529481887817, 0.8823529481887817, 0.8823529481887817, 0.9411764740943909, 0.9411764740943909, 0.9411764740943909, 0.9411764740943909, 0.9411764740943909, 0.9411764740943909, 1.0, 1.0, 1.0, 1.0], \"xaxis\": \"x\", \"y\": [0.5283922729711804, 0.5386880538727574, 0.5489838354263655, 0.5592796156759114, 0.5592796156759114, 0.5592796156759114, 0.5592796156759114, 0.5695753985335819, 0.5695753985335819, 0.5695753985335819, 0.5901669590326736, 0.5901669590326736, 0.5901669590326736, 0.5901669590326736, 0.6004627392822195, 0.6004627392822195, 0.6004627392822195, 0.6004627392822195, 0.6004627392822195, 0.6107585247480144, 0.6107585247480144, 0.6107585247480144, 0.6107585247480144, 0.6210543049975603, 0.6210543049975603, 0.6313500852471062, 0.6313500852471062, 0.6313500852471062, 0.6313500852471062, 0.641645865496652, 0.641645865496652, 0.641645865496652, 0.641645865496652, 0.641645865496652, 0.641645865496652, 0.651941645746198, 0.651941645746198, 0.651941645746198, 0.651941645746198, 0.651941645746198, 0.651941645746198, 0.651941645746198, 0.651941645746198, 0.651941645746198, 0.651941645746198, 0.651941645746198, 0.651941645746198, 0.6622374259957438, 0.6622374259957438, 0.6622374259957438, 0.6622374259957438, 0.6622374259957438, 0.6622374259957438, 0.6622374259957438, 0.6725332062452897, 0.6725332062452897, 0.6725332062452897, 0.6725332062452897, 0.6725332062452897, 0.6725332062452897, 0.6725332062452897, 0.6725332062452897, 0.6725332062452897, 0.6725332062452897, 0.6725332062452897, 0.6725332062452897, 0.6828289864948356, 0.6828289864948356, 0.6828289864948356, 0.6828289864948356, 0.6828289864948356, 0.6828289864948356, 0.6931247667443814, 0.6931247667443814, 0.6931247667443814, 0.6931247667443814], \"yaxis\": \"y\"}, {\"hovertemplate\": \"tag=tcn<br>true=%{x}<br>predicted=%{y}<extra></extra>\", \"legendgroup\": \"tcn\", \"marker\": {\"color\": \"#00cc96\", \"symbol\": \"circle\"}, \"mode\": \"markers\", \"name\": \"tcn\", \"showlegend\": true, \"type\": \"scatter\", \"x\": [0.8235294222831726, 0.23529411852359772, 0.7647058963775635, 0.8823529481887817, 0.7058823704719543, 0.7647058963775635, 0.529411792755127, 0.8823529481887817, 0.29411765933036804, 0.5882353186607361, 0.29411765933036804, 0.11764705926179886, 0.4117647111415863, 0.9411764740943909, 0.7647058963775635, 0.4117647111415863, 0.7647058963775635, 0.6470588445663452, 0.29411765933036804, 1.0, 0.7058823704719543, 0.529411792755127, 0.8235294222831726, 0.9411764740943909, 0.23529411852359772, 0.529411792755127, 0.47058823704719543, 0.7647058963775635, 0.7647058963775635, 1.0, 0.529411792755127, 0.1764705926179886, 0.8823529481887817, 0.8823529481887817, 0.8235294222831726, 0.7647058963775635, 0.7058823704719543, 1.0, 0.23529411852359772, 0.8823529481887817, 0.5882353186607361, 0.8823529481887817, 0.47058823704719543, 0.9411764740943909, 1.0, 0.9411764740943909, 0.9411764740943909, 0.8823529481887817, 0.8823529481887817, 0.8235294222831726, 0.7647058963775635, 0.23529411852359772, 0.8823529481887817, 0.8823529481887817, 0.6470588445663452, 0.7647058963775635, 0.05882352963089943, 0.7058823704719543, 0.6470588445663452, 0.8235294222831726, 0.7647058963775635, 0.47058823704719543, 0.8235294222831726, 0.7058823704719543, 0.7058823704719543, 0.8823529481887817, 0.8823529481887817, 0.7647058963775635, 0.8235294222831726, 0.9411764740943909, 0.4117647111415863, 0.4117647111415863, 0.47058823704719543, 0.47058823704719543, 0.6470588445663452, 0.7647058963775635], \"xaxis\": \"x\", \"y\": [0.39878135919570923, 0.44988012313842773, 0.659698486328125, 0.9009681940078735, 0.6397225260734558, 0.310653418302536, 0.4347270131111145, 0.5045161247253418, 0.6306163668632507, 0.8055611848831177, 0.6259114742279053, 0.8651270270347595, 0.4420468211174011, 0.7930954694747925, 0.5891942381858826, 0.762508749961853, 0.25720182061195374, 0.5788098573684692, 0.7097673416137695, 0.7941547632217407, 0.9499298334121704, 0.6713647246360779, 0.7631794810295105, 0.5757655501365662, 0.630203127861023, 0.5802602767944336, 0.3251803517341614, 0.8114747405052185, 0.6824979782104492, 0.6000864505767822, 0.5144070386886597, 0.5557991862297058, 0.8894674777984619, 0.5141066908836365, 0.5542235374450684, 0.8488017320632935, 0.7089351415634155, 0.6791725754737854, 0.32919225096702576, 0.97612065076828, 0.7007967829704285, 0.46505606174468994, 0.5256000757217407, 0.7207460403442383, 0.6713472008705139, 0.9538206458091736, 0.9219173192977905, 0.6370389461517334, 0.7978000640869141, 0.9252343773841858, 0.7055412530899048, 0.8355650901794434, 0.6768726110458374, 0.6997692584991455, 0.3935125768184662, 0.7427852153778076, 0.6246429681777954, 0.6337285041809082, 0.42209815979003906, 0.5231271982192993, 0.471293181180954, 0.5206323266029358, 0.4690352976322174, 0.6863173246383667, 1.0808435678482056, 0.634210467338562, 0.8460534811019897, 0.7460348010063171, 0.6121850609779358, 0.9579727053642273, 0.5922374725341797, 0.6013749837875366, 0.781460165977478, 0.5471212863922119, 0.5717860460281372, 0.6614940166473389], \"yaxis\": \"y\"}, {\"hovertemplate\": \"<b>OLS trendline</b><br>predicted = 0.169913 * true + 0.538482<br>R<sup>2</sup>=0.055751<br><br>tag=tcn<br>true=%{x}<br>predicted=%{y} <b>(trend)</b><extra></extra>\", \"legendgroup\": \"tcn\", \"marker\": {\"color\": \"#00cc96\", \"symbol\": \"circle\"}, \"mode\": \"lines\", \"name\": \"tcn\", \"showlegend\": false, \"type\": \"scatter\", \"x\": [0.05882352963089943, 0.11764705926179886, 0.1764705926179886, 0.23529411852359772, 0.23529411852359772, 0.23529411852359772, 0.23529411852359772, 0.29411765933036804, 0.29411765933036804, 0.29411765933036804, 0.4117647111415863, 0.4117647111415863, 0.4117647111415863, 0.4117647111415863, 0.47058823704719543, 0.47058823704719543, 0.47058823704719543, 0.47058823704719543, 0.47058823704719543, 0.529411792755127, 0.529411792755127, 0.529411792755127, 0.529411792755127, 0.5882353186607361, 0.5882353186607361, 0.6470588445663452, 0.6470588445663452, 0.6470588445663452, 0.6470588445663452, 0.7058823704719543, 0.7058823704719543, 0.7058823704719543, 0.7058823704719543, 0.7058823704719543, 0.7058823704719543, 0.7647058963775635, 0.7647058963775635, 0.7647058963775635, 0.7647058963775635, 0.7647058963775635, 0.7647058963775635, 0.7647058963775635, 0.7647058963775635, 0.7647058963775635, 0.7647058963775635, 0.7647058963775635, 0.7647058963775635, 0.8235294222831726, 0.8235294222831726, 0.8235294222831726, 0.8235294222831726, 0.8235294222831726, 0.8235294222831726, 0.8235294222831726, 0.8823529481887817, 0.8823529481887817, 0.8823529481887817, 0.8823529481887817, 0.8823529481887817, 0.8823529481887817, 0.8823529481887817, 0.8823529481887817, 0.8823529481887817, 0.8823529481887817, 0.8823529481887817, 0.8823529481887817, 0.9411764740943909, 0.9411764740943909, 0.9411764740943909, 0.9411764740943909, 0.9411764740943909, 0.9411764740943909, 1.0, 1.0, 1.0, 1.0], \"xaxis\": \"x\", \"y\": [0.5484771938902511, 0.5584720585418665, 0.5684669238264562, 0.5784617878450976, 0.5784617878450976, 0.5784617878450976, 0.5784617878450976, 0.5884566543956354, 0.5884566543956354, 0.5884566543956354, 0.6084463824329183, 0.6084463824329183, 0.6084463824329183, 0.6084463824329183, 0.6184412464515596, 0.6184412464515596, 0.6184412464515596, 0.6184412464515596, 0.6184412464515596, 0.6284361155339939, 0.6284361155339939, 0.6284361155339939, 0.6284361155339939, 0.6384309795526354, 0.6384309795526354, 0.6484258435712767, 0.6484258435712767, 0.6484258435712767, 0.6484258435712767, 0.6584207075899181, 0.6584207075899181, 0.6584207075899181, 0.6584207075899181, 0.6584207075899181, 0.6584207075899181, 0.6684155716085595, 0.6684155716085595, 0.6684155716085595, 0.6684155716085595, 0.6684155716085595, 0.6684155716085595, 0.6684155716085595, 0.6684155716085595, 0.6684155716085595, 0.6684155716085595, 0.6684155716085595, 0.6684155716085595, 0.6784104356272008, 0.6784104356272008, 0.6784104356272008, 0.6784104356272008, 0.6784104356272008, 0.6784104356272008, 0.6784104356272008, 0.6884052996458422, 0.6884052996458422, 0.6884052996458422, 0.6884052996458422, 0.6884052996458422, 0.6884052996458422, 0.6884052996458422, 0.6884052996458422, 0.6884052996458422, 0.6884052996458422, 0.6884052996458422, 0.6884052996458422, 0.6984001636644835, 0.6984001636644835, 0.6984001636644835, 0.6984001636644835, 0.6984001636644835, 0.6984001636644835, 0.708395027683125, 0.708395027683125, 0.708395027683125, 0.708395027683125], \"yaxis\": \"y\"}, {\"hovertemplate\": \"tag=cpm<br>true=%{x}<br>predicted=%{y}<extra></extra>\", \"legendgroup\": \"cpm\", \"marker\": {\"color\": \"#ab63fa\", \"symbol\": \"circle\"}, \"mode\": \"markers\", \"name\": \"cpm\", \"showlegend\": true, \"type\": \"scatter\", \"x\": [0.8235294117647058, 0.23529411764705882, 0.7647058823529411, 0.8823529411764706, 0.7058823529411765, 0.7647058823529411, 0.5294117647058824, 0.8823529411764706, 0.29411764705882354, 0.5882352941176471, 0.29411764705882354, 0.11764705882352941, 0.4117647058823529, 0.9411764705882353, 0.7647058823529411, 0.4117647058823529, 0.7647058823529411, 0.6470588235294118, 0.29411764705882354, 1.0, 0.7058823529411765, 0.5294117647058824, 0.8235294117647058, 0.9411764705882353, 0.23529411764705882, 0.5294117647058824, 0.47058823529411764, 0.7647058823529411, 0.7647058823529411, 1.0, 0.5294117647058824, 0.17647058823529413, 0.8823529411764706, 0.8823529411764706, 0.8235294117647058, 0.7647058823529411, 0.7058823529411765, 1.0, 0.23529411764705882, 0.8823529411764706, 0.5882352941176471, 0.8823529411764706, 0.47058823529411764, 0.9411764705882353, 1.0, 0.9411764705882353, 0.9411764705882353, 0.8823529411764706, 0.8823529411764706, 0.8235294117647058, 0.7647058823529411, 0.23529411764705882, 0.8823529411764706, 0.8823529411764706, 0.6470588235294118, 0.7647058823529411, 0.058823529411764705, 0.7058823529411765, 0.6470588235294118, 0.8235294117647058, 0.7647058823529411, 0.47058823529411764, 0.8235294117647058, 0.7058823529411765, 0.7058823529411765, 0.8823529411764706, 0.8823529411764706, 0.7647058823529411, 0.8235294117647058, 0.9411764705882353, 0.4117647058823529, 0.4117647058823529, 0.47058823529411764, 0.47058823529411764, 0.6470588235294118, 0.7647058823529411], \"xaxis\": \"x\", \"y\": [0.47304292902770195, 0.47762049539777246, 0.6031390588457818, 0.600990414227262, 0.7799861288295491, 0.6013383824360938, 0.6882811191185538, 0.7980493384246975, 0.5306001517819047, 0.5438446763622251, 0.7584474001536965, 0.40980111748480164, 0.4781406498129526, 0.6185476158351901, 0.706409966562092, 0.5439989684829627, 0.6484587143507441, 0.8396255089584665, 0.587109664830094, 0.7018595259957188, 0.5404147547691015, 0.7760314724027788, 0.5002653737365766, 0.749990592035257, 0.5336074211377977, 0.7501667013388515, 0.630656876667838, 0.5453140773528034, 0.6536797220484959, 0.6794458838472409, 0.5313380038786927, 0.6187098570902072, 0.6364908688126832, 0.514289248302366, 0.6233438628485253, 0.6084123857405138, 0.5700802326257768, 0.6198636789263502, 0.6613668333223086, 0.6002693031027406, 0.5762510234926443, 0.5644199790372333, 0.6130475381240378, 0.6653234241326964, 0.5673580892227754, 0.41205638672533096, 0.6484959396260617, 0.4609810079985157, 0.7562321620919914, 0.4963005116425509, 0.6099647844387266, 0.5919994130291402, 0.6255065115565208, 0.5995648792955833, 0.6440647498199802, 0.4421421573701616, 0.6148173859723409, 0.7374819273640252, 0.6839241804107707, 0.6626575448027465, 0.6020276554478059, 0.5625304687928365, 0.39838772438984404, 0.6708322404309783, 0.4735469017777626, 0.7285446446765971, 0.6402179708481506, 0.7843428631252765, 0.6455980007042412, 0.5804910718898245, 0.529531806878768, 0.7126766406634011, 0.7246021409928475, 0.7123576463875333, 0.6427752074997067, 0.5102791080680171], \"yaxis\": \"y\"}, {\"hovertemplate\": \"<b>OLS trendline</b><br>predicted = 0.0333594 * true + 0.590886<br>R<sup>2</sup>=0.006705<br><br>tag=cpm<br>true=%{x}<br>predicted=%{y} <b>(trend)</b><extra></extra>\", \"legendgroup\": \"cpm\", \"marker\": {\"color\": \"#ab63fa\", \"symbol\": \"circle\"}, \"mode\": \"lines\", \"name\": \"cpm\", \"showlegend\": false, \"type\": \"scatter\", \"x\": [0.058823529411764705, 0.11764705882352941, 0.17647058823529413, 0.23529411764705882, 0.23529411764705882, 0.23529411764705882, 0.23529411764705882, 0.29411764705882354, 0.29411764705882354, 0.29411764705882354, 0.4117647058823529, 0.4117647058823529, 0.4117647058823529, 0.4117647058823529, 0.47058823529411764, 0.47058823529411764, 0.47058823529411764, 0.47058823529411764, 0.47058823529411764, 0.5294117647058824, 0.5294117647058824, 0.5294117647058824, 0.5294117647058824, 0.5882352941176471, 0.5882352941176471, 0.6470588235294118, 0.6470588235294118, 0.6470588235294118, 0.6470588235294118, 0.7058823529411765, 0.7058823529411765, 0.7058823529411765, 0.7058823529411765, 0.7058823529411765, 0.7058823529411765, 0.7647058823529411, 0.7647058823529411, 0.7647058823529411, 0.7647058823529411, 0.7647058823529411, 0.7647058823529411, 0.7647058823529411, 0.7647058823529411, 0.7647058823529411, 0.7647058823529411, 0.7647058823529411, 0.7647058823529411, 0.8235294117647058, 0.8235294117647058, 0.8235294117647058, 0.8235294117647058, 0.8235294117647058, 0.8235294117647058, 0.8235294117647058, 0.8823529411764706, 0.8823529411764706, 0.8823529411764706, 0.8823529411764706, 0.8823529411764706, 0.8823529411764706, 0.8823529411764706, 0.8823529411764706, 0.8823529411764706, 0.8823529411764706, 0.8823529411764706, 0.8823529411764706, 0.9411764705882353, 0.9411764705882353, 0.9411764705882353, 0.9411764705882353, 0.9411764705882353, 0.9411764705882353, 1.0, 1.0, 1.0, 1.0], \"xaxis\": \"x\", \"y\": [0.5928482856789892, 0.5948106022672612, 0.5967729188555333, 0.5987352354438054, 0.5987352354438054, 0.5987352354438054, 0.5987352354438054, 0.6006975520320774, 0.6006975520320774, 0.6006975520320774, 0.6046221852086214, 0.6046221852086214, 0.6046221852086214, 0.6046221852086214, 0.6065845017968935, 0.6065845017968935, 0.6065845017968935, 0.6065845017968935, 0.6065845017968935, 0.6085468183851656, 0.6085468183851656, 0.6085468183851656, 0.6085468183851656, 0.6105091349734376, 0.6105091349734376, 0.6124714515617097, 0.6124714515617097, 0.6124714515617097, 0.6124714515617097, 0.6144337681499817, 0.6144337681499817, 0.6144337681499817, 0.6144337681499817, 0.6144337681499817, 0.6144337681499817, 0.6163960847382538, 0.6163960847382538, 0.6163960847382538, 0.6163960847382538, 0.6163960847382538, 0.6163960847382538, 0.6163960847382538, 0.6163960847382538, 0.6163960847382538, 0.6163960847382538, 0.6163960847382538, 0.6163960847382538, 0.6183584013265259, 0.6183584013265259, 0.6183584013265259, 0.6183584013265259, 0.6183584013265259, 0.6183584013265259, 0.6183584013265259, 0.6203207179147979, 0.6203207179147979, 0.6203207179147979, 0.6203207179147979, 0.6203207179147979, 0.6203207179147979, 0.6203207179147979, 0.6203207179147979, 0.6203207179147979, 0.6203207179147979, 0.6203207179147979, 0.6203207179147979, 0.62228303450307, 0.62228303450307, 0.62228303450307, 0.62228303450307, 0.62228303450307, 0.62228303450307, 0.6242453510913419, 0.6242453510913419, 0.6242453510913419, 0.6242453510913419], \"yaxis\": \"y\"}],\n",
       "                        {\"font\": {\"color\": \"black\"}, \"height\": 400, \"legend\": {\"font\": {\"size\": 20}, \"title\": {\"text\": \"tag\"}, \"tracegroupgap\": 0}, \"margin\": {\"t\": 60}, \"template\": {\"data\": {\"bar\": [{\"error_x\": {\"color\": \"#2a3f5f\"}, \"error_y\": {\"color\": \"#2a3f5f\"}, \"marker\": {\"line\": {\"color\": \"white\", \"width\": 0.5}}, \"type\": \"bar\"}], \"barpolar\": [{\"marker\": {\"line\": {\"color\": \"white\", \"width\": 0.5}}, \"type\": \"barpolar\"}], \"carpet\": [{\"aaxis\": {\"endlinecolor\": \"#2a3f5f\", \"gridcolor\": \"#C8D4E3\", \"linecolor\": \"#C8D4E3\", \"minorgridcolor\": \"#C8D4E3\", \"startlinecolor\": \"#2a3f5f\"}, \"baxis\": {\"endlinecolor\": \"#2a3f5f\", \"gridcolor\": \"#C8D4E3\", \"linecolor\": \"#C8D4E3\", \"minorgridcolor\": \"#C8D4E3\", \"startlinecolor\": \"#2a3f5f\"}, \"type\": \"carpet\"}], \"choropleth\": [{\"colorbar\": {\"outlinewidth\": 0, \"ticks\": \"\"}, \"type\": \"choropleth\"}], \"contour\": [{\"colorbar\": {\"outlinewidth\": 0, \"ticks\": \"\"}, \"colorscale\": [[0.0, \"#0d0887\"], [0.1111111111111111, \"#46039f\"], [0.2222222222222222, \"#7201a8\"], [0.3333333333333333, \"#9c179e\"], [0.4444444444444444, \"#bd3786\"], [0.5555555555555556, \"#d8576b\"], [0.6666666666666666, \"#ed7953\"], [0.7777777777777778, \"#fb9f3a\"], [0.8888888888888888, \"#fdca26\"], [1.0, \"#f0f921\"]], \"type\": \"contour\"}], \"contourcarpet\": [{\"colorbar\": {\"outlinewidth\": 0, \"ticks\": \"\"}, \"type\": \"contourcarpet\"}], \"heatmap\": [{\"colorbar\": {\"outlinewidth\": 0, \"ticks\": \"\"}, \"colorscale\": [[0.0, \"#0d0887\"], [0.1111111111111111, \"#46039f\"], [0.2222222222222222, \"#7201a8\"], [0.3333333333333333, \"#9c179e\"], [0.4444444444444444, \"#bd3786\"], [0.5555555555555556, \"#d8576b\"], [0.6666666666666666, \"#ed7953\"], [0.7777777777777778, \"#fb9f3a\"], [0.8888888888888888, \"#fdca26\"], [1.0, \"#f0f921\"]], \"type\": \"heatmap\"}], \"heatmapgl\": [{\"colorbar\": {\"outlinewidth\": 0, \"ticks\": \"\"}, \"colorscale\": [[0.0, \"#0d0887\"], [0.1111111111111111, \"#46039f\"], [0.2222222222222222, \"#7201a8\"], [0.3333333333333333, \"#9c179e\"], [0.4444444444444444, \"#bd3786\"], [0.5555555555555556, \"#d8576b\"], [0.6666666666666666, \"#ed7953\"], [0.7777777777777778, \"#fb9f3a\"], [0.8888888888888888, \"#fdca26\"], [1.0, \"#f0f921\"]], \"type\": \"heatmapgl\"}], \"histogram\": [{\"marker\": {\"colorbar\": {\"outlinewidth\": 0, \"ticks\": \"\"}}, \"type\": \"histogram\"}], \"histogram2d\": [{\"colorbar\": {\"outlinewidth\": 0, \"ticks\": \"\"}, \"colorscale\": [[0.0, \"#0d0887\"], [0.1111111111111111, \"#46039f\"], [0.2222222222222222, \"#7201a8\"], [0.3333333333333333, \"#9c179e\"], [0.4444444444444444, \"#bd3786\"], [0.5555555555555556, \"#d8576b\"], [0.6666666666666666, \"#ed7953\"], [0.7777777777777778, \"#fb9f3a\"], [0.8888888888888888, \"#fdca26\"], [1.0, \"#f0f921\"]], \"type\": \"histogram2d\"}], \"histogram2dcontour\": [{\"colorbar\": {\"outlinewidth\": 0, \"ticks\": \"\"}, \"colorscale\": [[0.0, \"#0d0887\"], [0.1111111111111111, \"#46039f\"], [0.2222222222222222, \"#7201a8\"], [0.3333333333333333, \"#9c179e\"], [0.4444444444444444, \"#bd3786\"], [0.5555555555555556, \"#d8576b\"], [0.6666666666666666, \"#ed7953\"], [0.7777777777777778, \"#fb9f3a\"], [0.8888888888888888, \"#fdca26\"], [1.0, \"#f0f921\"]], \"type\": \"histogram2dcontour\"}], \"mesh3d\": [{\"colorbar\": {\"outlinewidth\": 0, \"ticks\": \"\"}, \"type\": \"mesh3d\"}], \"parcoords\": [{\"line\": {\"colorbar\": {\"outlinewidth\": 0, \"ticks\": \"\"}}, \"type\": \"parcoords\"}], \"pie\": [{\"automargin\": true, \"type\": \"pie\"}], \"scatter\": [{\"marker\": {\"colorbar\": {\"outlinewidth\": 0, \"ticks\": \"\"}}, \"type\": \"scatter\"}], \"scatter3d\": [{\"line\": {\"colorbar\": {\"outlinewidth\": 0, \"ticks\": \"\"}}, \"marker\": {\"colorbar\": {\"outlinewidth\": 0, \"ticks\": \"\"}}, \"type\": \"scatter3d\"}], \"scattercarpet\": [{\"marker\": {\"colorbar\": {\"outlinewidth\": 0, \"ticks\": \"\"}}, \"type\": \"scattercarpet\"}], \"scattergeo\": [{\"marker\": {\"colorbar\": {\"outlinewidth\": 0, \"ticks\": \"\"}}, \"type\": \"scattergeo\"}], \"scattergl\": [{\"marker\": {\"colorbar\": {\"outlinewidth\": 0, \"ticks\": \"\"}}, \"type\": \"scattergl\"}], \"scattermapbox\": [{\"marker\": {\"colorbar\": {\"outlinewidth\": 0, \"ticks\": \"\"}}, \"type\": \"scattermapbox\"}], \"scatterpolar\": [{\"marker\": {\"colorbar\": {\"outlinewidth\": 0, \"ticks\": \"\"}}, \"type\": \"scatterpolar\"}], \"scatterpolargl\": [{\"marker\": {\"colorbar\": {\"outlinewidth\": 0, \"ticks\": \"\"}}, \"type\": \"scatterpolargl\"}], \"scatterternary\": [{\"marker\": {\"colorbar\": {\"outlinewidth\": 0, \"ticks\": \"\"}}, \"type\": \"scatterternary\"}], \"surface\": [{\"colorbar\": {\"outlinewidth\": 0, \"ticks\": \"\"}, \"colorscale\": [[0.0, \"#0d0887\"], [0.1111111111111111, \"#46039f\"], [0.2222222222222222, \"#7201a8\"], [0.3333333333333333, \"#9c179e\"], [0.4444444444444444, \"#bd3786\"], [0.5555555555555556, \"#d8576b\"], [0.6666666666666666, \"#ed7953\"], [0.7777777777777778, \"#fb9f3a\"], [0.8888888888888888, \"#fdca26\"], [1.0, \"#f0f921\"]], \"type\": \"surface\"}], \"table\": [{\"cells\": {\"fill\": {\"color\": \"#EBF0F8\"}, \"line\": {\"color\": \"white\"}}, \"header\": {\"fill\": {\"color\": \"#C8D4E3\"}, \"line\": {\"color\": \"white\"}}, \"type\": \"table\"}]}, \"layout\": {\"annotationdefaults\": {\"arrowcolor\": \"#2a3f5f\", \"arrowhead\": 0, \"arrowwidth\": 1}, \"coloraxis\": {\"colorbar\": {\"outlinewidth\": 0, \"ticks\": \"\"}}, \"colorscale\": {\"diverging\": [[0, \"#8e0152\"], [0.1, \"#c51b7d\"], [0.2, \"#de77ae\"], [0.3, \"#f1b6da\"], [0.4, \"#fde0ef\"], [0.5, \"#f7f7f7\"], [0.6, \"#e6f5d0\"], [0.7, \"#b8e186\"], [0.8, \"#7fbc41\"], [0.9, \"#4d9221\"], [1, \"#276419\"]], \"sequential\": [[0.0, \"#0d0887\"], [0.1111111111111111, \"#46039f\"], [0.2222222222222222, \"#7201a8\"], [0.3333333333333333, \"#9c179e\"], [0.4444444444444444, \"#bd3786\"], [0.5555555555555556, \"#d8576b\"], [0.6666666666666666, \"#ed7953\"], [0.7777777777777778, \"#fb9f3a\"], [0.8888888888888888, \"#fdca26\"], [1.0, \"#f0f921\"]], \"sequentialminus\": [[0.0, \"#0d0887\"], [0.1111111111111111, \"#46039f\"], [0.2222222222222222, \"#7201a8\"], [0.3333333333333333, \"#9c179e\"], [0.4444444444444444, \"#bd3786\"], [0.5555555555555556, \"#d8576b\"], [0.6666666666666666, \"#ed7953\"], [0.7777777777777778, \"#fb9f3a\"], [0.8888888888888888, \"#fdca26\"], [1.0, \"#f0f921\"]]}, \"colorway\": [\"#636efa\", \"#EF553B\", \"#00cc96\", \"#ab63fa\", \"#FFA15A\", \"#19d3f3\", \"#FF6692\", \"#B6E880\", \"#FF97FF\", \"#FECB52\"], \"font\": {\"color\": \"#2a3f5f\"}, \"geo\": {\"bgcolor\": \"white\", \"lakecolor\": \"white\", \"landcolor\": \"white\", \"showlakes\": true, \"showland\": true, \"subunitcolor\": \"#C8D4E3\"}, \"hoverlabel\": {\"align\": \"left\"}, \"hovermode\": \"closest\", \"mapbox\": {\"style\": \"light\"}, \"paper_bgcolor\": \"white\", \"plot_bgcolor\": \"white\", \"polar\": {\"angularaxis\": {\"gridcolor\": \"#EBF0F8\", \"linecolor\": \"#EBF0F8\", \"ticks\": \"\"}, \"bgcolor\": \"white\", \"radialaxis\": {\"gridcolor\": \"#EBF0F8\", \"linecolor\": \"#EBF0F8\", \"ticks\": \"\"}}, \"scene\": {\"xaxis\": {\"backgroundcolor\": \"white\", \"gridcolor\": \"#DFE8F3\", \"gridwidth\": 2, \"linecolor\": \"#EBF0F8\", \"showbackground\": true, \"ticks\": \"\", \"zerolinecolor\": \"#EBF0F8\"}, \"yaxis\": {\"backgroundcolor\": \"white\", \"gridcolor\": \"#DFE8F3\", \"gridwidth\": 2, \"linecolor\": \"#EBF0F8\", \"showbackground\": true, \"ticks\": \"\", \"zerolinecolor\": \"#EBF0F8\"}, \"zaxis\": {\"backgroundcolor\": \"white\", \"gridcolor\": \"#DFE8F3\", \"gridwidth\": 2, \"linecolor\": \"#EBF0F8\", \"showbackground\": true, \"ticks\": \"\", \"zerolinecolor\": \"#EBF0F8\"}}, \"shapedefaults\": {\"line\": {\"color\": \"#2a3f5f\"}}, \"ternary\": {\"aaxis\": {\"gridcolor\": \"#DFE8F3\", \"linecolor\": \"#A2B1C6\", \"ticks\": \"\"}, \"baxis\": {\"gridcolor\": \"#DFE8F3\", \"linecolor\": \"#A2B1C6\", \"ticks\": \"\"}, \"bgcolor\": \"white\", \"caxis\": {\"gridcolor\": \"#DFE8F3\", \"linecolor\": \"#A2B1C6\", \"ticks\": \"\"}}, \"title\": {\"x\": 0.05}, \"xaxis\": {\"automargin\": true, \"gridcolor\": \"#EBF0F8\", \"linecolor\": \"#EBF0F8\", \"ticks\": \"\", \"title\": {\"standoff\": 15}, \"zerolinecolor\": \"#EBF0F8\", \"zerolinewidth\": 2}, \"yaxis\": {\"automargin\": true, \"gridcolor\": \"#EBF0F8\", \"linecolor\": \"#EBF0F8\", \"ticks\": \"\", \"title\": {\"standoff\": 15}, \"zerolinecolor\": \"#EBF0F8\", \"zerolinewidth\": 2}}}, \"title\": {\"text\": \"Fluid Intelligence\"}, \"width\": 480, \"xaxis\": {\"anchor\": \"y\", \"domain\": [0.0, 1.0], \"dtick\": 0.2, \"tickfont\": {\"size\": 20}, \"title\": {\"font\": {\"size\": 20}, \"text\": \"True\"}}, \"yaxis\": {\"anchor\": \"x\", \"domain\": [0.0, 1.0], \"dtick\": 0.2, \"tickfont\": {\"size\": 20}, \"title\": {\"font\": {\"size\": 20}, \"text\": \"Predicted\"}}},\n",
       "                        {\"responsive\": true}\n",
       "                    ).then(function(){\n",
       "                            \n",
       "var gd = document.getElementById('118d9f34-4ff6-41f0-93de-de3c8257445c');\n",
       "var x = new MutationObserver(function (mutations, observer) {{\n",
       "        var display = window.getComputedStyle(gd).display;\n",
       "        if (!display || display === 'none') {{\n",
       "            console.log([gd, 'removed!']);\n",
       "            Plotly.purge(gd);\n",
       "            observer.disconnect();\n",
       "        }}\n",
       "}});\n",
       "\n",
       "// Listen for the removal of the full notebook cells\n",
       "var notebookContainer = gd.closest('#notebook-container');\n",
       "if (notebookContainer) {{\n",
       "    x.observe(notebookContainer, {childList: true});\n",
       "}}\n",
       "\n",
       "// Listen for the clearing of the current output cell\n",
       "var outputEl = gd.closest('.output');\n",
       "if (outputEl) {{\n",
       "    x.observe(outputEl, {childList: true});\n",
       "}}\n",
       "\n",
       "                        })\n",
       "                };\n",
       "                });\n",
       "            </script>\n",
       "        </div>"
      ]
     },
     "metadata": {},
     "output_type": "display_data"
    },
    {
     "data": {
      "application/vnd.plotly.v1+json": {
       "config": {
        "plotlyServerURL": "https://plot.ly"
       },
       "data": [
        {
         "hovertemplate": "tag=gru<br>true=%{x}<br>predicted=%{y}<extra></extra>",
         "legendgroup": "gru",
         "marker": {
          "color": "#636efa",
          "symbol": "circle"
         },
         "mode": "markers",
         "name": "gru",
         "showlegend": true,
         "type": "scatter",
         "x": [
          0.5227692127227783,
          0.43894729018211365,
          0.4961031675338745,
          0.3437322676181793,
          0.41126665472984314,
          0.45080435276031494,
          0.7275477051734924,
          0.5902186632156372,
          0.30865561962127686,
          0.5047312378883362,
          0.3601064682006836,
          0.5378773212432861,
          0.5121068954467773,
          0.48808175325393677,
          0.4699792265892029,
          0.42934200167655945,
          0.3998803496360779,
          1,
          0.5513012409210205,
          0.47360244393348694,
          0.5747536420822144,
          0.5793353915214539,
          0.27276158332824707,
          0.45120373368263245,
          0.24896588921546936,
          0.4185709059238434,
          0.44447219371795654,
          0.44270646572113037,
          0.38559308648109436,
          0.5175400376319885,
          0.504727840423584,
          0.25032883882522583,
          0.48604243993759155,
          0.49757149815559387,
          0.3530673384666443,
          0.6037394404411316,
          0.23112507164478302,
          0.6813091039657593,
          0.09432010352611542,
          0.6552022099494934,
          0.2967238128185272,
          0.5637072324752808,
          0.6422846913337708,
          0.767109215259552,
          0.6365626454353333,
          0.5135735273361206,
          0.668903112411499,
          0.3652167022228241,
          0.451071172952652,
          0.364506334066391,
          0.4054885506629944,
          0.5458171367645264,
          0.44856446981430054,
          0.6063634157180786,
          0.321875661611557,
          0.5331171751022339,
          0.38560497760772705,
          0.5805895924568176,
          0.4559621810913086,
          0.549346923828125,
          0.7130361199378967,
          0.5990319848060608,
          0.4999779164791107,
          0.4472949802875519,
          0.5520439147949219,
          0.4320594370365143,
          0.4664987623691559,
          0.5249054431915283,
          0.33166277408599854,
          0.5642391443252563,
          0.5061061382293701,
          0.3546750247478485,
          0.4906309247016907,
          0.13443508744239807,
          0.6819226145744324,
          0.2309449315071106
         ],
         "xaxis": "x",
         "y": [
          0.4986927807331085,
          0.5929852724075317,
          0.5089743733406067,
          0.4456768333911896,
          0.41222286224365234,
          0.2544582784175873,
          0.419933021068573,
          0.6858786940574646,
          0.5078215003013611,
          0.5279628038406372,
          0.47169291973114014,
          0.6715440154075623,
          0.38747039437294006,
          0.41987714171409607,
          0.33041995763778687,
          0.5257283449172974,
          0.40496939420700073,
          0.5462624430656433,
          0.25561559200286865,
          0.5471051335334778,
          0.3442542552947998,
          0.4860736131668091,
          0.5945454239845276,
          0.4278063178062439,
          0.3888452351093292,
          0.6069833040237427,
          0.44669803977012634,
          0.5531941652297974,
          0.42163825035095215,
          0.5840601325035095,
          0.6025927066802979,
          0.4013861417770386,
          0.47861403226852417,
          0.5141138434410095,
          0.4508024752140045,
          0.5279088616371155,
          0.3825758099555969,
          0.53166264295578,
          0.4183136820793152,
          0.40995723009109497,
          0.3986576497554779,
          0.29931697249412537,
          0.3650311827659607,
          0.6037410497665405,
          0.5400821566581726,
          0.40932655334472656,
          0.5804471969604492,
          0.48724207282066345,
          0.39582037925720215,
          0.4608502686023712,
          0.5111913084983826,
          0.5114291906356812,
          0.5048668384552002,
          0.5997524261474609,
          0.4390628933906555,
          0.4314350485801697,
          0.46859151124954224,
          0.38207849860191345,
          0.5194235444068909,
          0.447019100189209,
          0.5739917159080505,
          0.5209144949913025,
          0.5523077845573425,
          0.4368346333503723,
          0.4594539999961853,
          0.39467552304267883,
          0.347500205039978,
          0.4436989426612854,
          0.40013769268989563,
          0.47910845279693604,
          0.4768165051937103,
          0.4823228120803833,
          0.5286899209022522,
          0.47701311111450195,
          0.48725637793540955,
          0.39364326000213623
         ],
         "yaxis": "y"
        },
        {
         "hovertemplate": "<b>OLS trendline</b><br>predicted = 0.145285 * true + 0.40154<br>R<sup>2</sup>=0.059689<br><br>tag=gru<br>true=%{x}<br>predicted=%{y} <b>(trend)</b><extra></extra>",
         "legendgroup": "gru",
         "marker": {
          "color": "#636efa",
          "symbol": "circle"
         },
         "mode": "lines",
         "name": "gru",
         "showlegend": false,
         "type": "scatter",
         "x": [
          0.09432010352611542,
          0.13443508744239807,
          0.2309449315071106,
          0.23112507164478302,
          0.24896588921546936,
          0.25032883882522583,
          0.27276158332824707,
          0.2967238128185272,
          0.30865561962127686,
          0.321875661611557,
          0.33166277408599854,
          0.3437322676181793,
          0.3530673384666443,
          0.3546750247478485,
          0.3601064682006836,
          0.364506334066391,
          0.3652167022228241,
          0.38559308648109436,
          0.38560497760772705,
          0.3998803496360779,
          0.4054885506629944,
          0.41126665472984314,
          0.4185709059238434,
          0.42934200167655945,
          0.4320594370365143,
          0.43894729018211365,
          0.44270646572113037,
          0.44447219371795654,
          0.4472949802875519,
          0.44856446981430054,
          0.45080435276031494,
          0.451071172952652,
          0.45120373368263245,
          0.4559621810913086,
          0.4664987623691559,
          0.4699792265892029,
          0.47360244393348694,
          0.48604243993759155,
          0.48808175325393677,
          0.4906309247016907,
          0.4961031675338745,
          0.49757149815559387,
          0.4999779164791107,
          0.504727840423584,
          0.5047312378883362,
          0.5061061382293701,
          0.5121068954467773,
          0.5135735273361206,
          0.5175400376319885,
          0.5227692127227783,
          0.5249054431915283,
          0.5331171751022339,
          0.5378773212432861,
          0.5458171367645264,
          0.549346923828125,
          0.5513012409210205,
          0.5520439147949219,
          0.5637072324752808,
          0.5642391443252563,
          0.5747536420822144,
          0.5793353915214539,
          0.5805895924568176,
          0.5902186632156372,
          0.5990319848060608,
          0.6037394404411316,
          0.6063634157180786,
          0.6365626454353333,
          0.6422846913337708,
          0.6552022099494934,
          0.668903112411499,
          0.6813091039657593,
          0.6819226145744324,
          0.7130361199378967,
          0.7275477051734924,
          0.767109215259552,
          1
         ],
         "xaxis": "x",
         "y": [
          0.4152436613321522,
          0.42107176466331186,
          0.43509319228888654,
          0.4351193639393261,
          0.43771136618295964,
          0.43790938224542153,
          0.4411685223522195,
          0.4446498736050522,
          0.44638338552964835,
          0.4483040586357978,
          0.44972597875756,
          0.4514794944914093,
          0.45283573976928576,
          0.4530693123862037,
          0.4538584193629517,
          0.4544976536441395,
          0.4546008594444334,
          0.45756124136108706,
          0.4575629689627953,
          0.4596369656380926,
          0.4604517528297065,
          0.4612912243755525,
          0.4623524221266028,
          0.46391730020726346,
          0.4643121026607959,
          0.4653128040432565,
          0.4658589556639845,
          0.4661154893632551,
          0.4665255977617464,
          0.4667100354809577,
          0.46703545675711516,
          0.4670742217147436,
          0.4670934807934358,
          0.46778481157525864,
          0.4693156182327563,
          0.4698212772941477,
          0.47034767623569546,
          0.47215502040171686,
          0.47245130192976315,
          0.4728216581696499,
          0.47361669268208356,
          0.47383001901933314,
          0.4741796353790635,
          0.4748697278298373,
          0.47487022143032537,
          0.47506997375415316,
          0.47594179345128274,
          0.4761548729882883,
          0.4767311472282748,
          0.4774908676566676,
          0.4778012297881103,
          0.47899427082741997,
          0.47968584840948686,
          0.48083938409043603,
          0.481352209018562,
          0.481636141874749,
          0.4817440412095084,
          0.48343854570606093,
          0.4835158244912449,
          0.48504342274557016,
          0.48570908197218476,
          0.48589129848919976,
          0.4872902575286092,
          0.48857070049293705,
          0.4892546229376101,
          0.4896358470478919,
          0.4940233405510901,
          0.494854667688883,
          0.4967313887024505,
          0.4987219235969764,
          0.5005243274282883,
          0.5006134612848436,
          0.5051337852772773,
          0.5072421001759815,
          0.5129897920907895,
          0.5468253175187646
         ],
         "yaxis": "y"
        },
        {
         "hovertemplate": "tag=ff<br>true=%{x}<br>predicted=%{y}<extra></extra>",
         "legendgroup": "ff",
         "marker": {
          "color": "#EF553B",
          "symbol": "circle"
         },
         "mode": "markers",
         "name": "ff",
         "showlegend": true,
         "type": "scatter",
         "x": [
          0.5227692127227783,
          0.43894729018211365,
          0.4961031675338745,
          0.3437322676181793,
          0.41126665472984314,
          0.45080435276031494,
          0.7275477051734924,
          0.5902186632156372,
          0.30865561962127686,
          0.5047312378883362,
          0.3601064682006836,
          0.5378773212432861,
          0.5121068954467773,
          0.48808175325393677,
          0.4699792265892029,
          0.42934200167655945,
          0.3998803496360779,
          1,
          0.5513012409210205,
          0.47360244393348694,
          0.5747536420822144,
          0.5793353915214539,
          0.27276158332824707,
          0.45120373368263245,
          0.24896588921546936,
          0.4185709059238434,
          0.44447219371795654,
          0.44270646572113037,
          0.38559308648109436,
          0.5175400376319885,
          0.504727840423584,
          0.25032883882522583,
          0.48604243993759155,
          0.49757149815559387,
          0.3530673384666443,
          0.6037394404411316,
          0.23112507164478302,
          0.6813091039657593,
          0.09432010352611542,
          0.6552022099494934,
          0.2967238128185272,
          0.5637072324752808,
          0.6422846913337708,
          0.767109215259552,
          0.6365626454353333,
          0.5135735273361206,
          0.668903112411499,
          0.3652167022228241,
          0.451071172952652,
          0.364506334066391,
          0.4054885506629944,
          0.5458171367645264,
          0.44856446981430054,
          0.6063634157180786,
          0.321875661611557,
          0.5331171751022339,
          0.38560497760772705,
          0.5805895924568176,
          0.4559621810913086,
          0.549346923828125,
          0.7130361199378967,
          0.5990319848060608,
          0.4999779164791107,
          0.4472949802875519,
          0.5520439147949219,
          0.4320594370365143,
          0.4664987623691559,
          0.5249054431915283,
          0.33166277408599854,
          0.5642391443252563,
          0.5061061382293701,
          0.3546750247478485,
          0.4906309247016907,
          0.13443508744239807,
          0.6819226145744324,
          0.2309449315071106
         ],
         "xaxis": "x",
         "y": [
          0.556961178779602,
          0.7486897110939026,
          0.4775439500808716,
          0.19441008567810059,
          0.33329886198043823,
          0.4828071892261505,
          0.41442644596099854,
          0.46639350056648254,
          0.4518964886665344,
          0.46775054931640625,
          0.5219355821609497,
          0.5197720527648926,
          0.5268641710281372,
          0.44029903411865234,
          0.43610644340515137,
          0.6728634238243103,
          0.302127480506897,
          0.5294822454452515,
          0.3553904891014099,
          0.3690786063671112,
          0.6667587161064148,
          0.48716601729393005,
          0.4169020652770996,
          0.5662406086921692,
          0.5152783989906311,
          0.4241550862789154,
          0.36279940605163574,
          0.3494037389755249,
          0.410122811794281,
          0.3089565336704254,
          0.5565222501754761,
          0.27073532342910767,
          0.4584164023399353,
          0.1294536292552948,
          0.3591684103012085,
          0.548923671245575,
          0.1868833601474762,
          0.44233113527297974,
          0.47533297538757324,
          0.3087841868400574,
          0.2178136706352234,
          0.49621453881263733,
          0.45292928814888,
          0.528145968914032,
          0.543560266494751,
          0.3309767544269562,
          0.7712987065315247,
          0.4860757291316986,
          0.45703214406967163,
          0.4709888994693756,
          0.5233398079872131,
          0.37815940380096436,
          0.5438191890716553,
          0.532254159450531,
          0.5419725179672241,
          0.32509711384773254,
          0.32292404770851135,
          0.2899313271045685,
          0.5549175143241882,
          0.3709641396999359,
          0.5236693620681763,
          0.31537193059921265,
          0.40454912185668945,
          0.8106284141540527,
          0.5808473229408264,
          0.4463929533958435,
          0.45624712109565735,
          0.6126412153244019,
          0.5449540019035339,
          0.6167193651199341,
          0.4903709590435028,
          0.5493003726005554,
          0.6125422120094299,
          0.45978599786758423,
          0.47670990228652954,
          0.47481751441955566
         ],
         "yaxis": "y"
        },
        {
         "hovertemplate": "<b>OLS trendline</b><br>predicted = 0.164566 * true + 0.38218<br>R<sup>2</sup>=0.035493<br><br>tag=ff<br>true=%{x}<br>predicted=%{y} <b>(trend)</b><extra></extra>",
         "legendgroup": "ff",
         "marker": {
          "color": "#EF553B",
          "symbol": "circle"
         },
         "mode": "lines",
         "name": "ff",
         "showlegend": false,
         "type": "scatter",
         "x": [
          0.09432010352611542,
          0.13443508744239807,
          0.2309449315071106,
          0.23112507164478302,
          0.24896588921546936,
          0.25032883882522583,
          0.27276158332824707,
          0.2967238128185272,
          0.30865561962127686,
          0.321875661611557,
          0.33166277408599854,
          0.3437322676181793,
          0.3530673384666443,
          0.3546750247478485,
          0.3601064682006836,
          0.364506334066391,
          0.3652167022228241,
          0.38559308648109436,
          0.38560497760772705,
          0.3998803496360779,
          0.4054885506629944,
          0.41126665472984314,
          0.4185709059238434,
          0.42934200167655945,
          0.4320594370365143,
          0.43894729018211365,
          0.44270646572113037,
          0.44447219371795654,
          0.4472949802875519,
          0.44856446981430054,
          0.45080435276031494,
          0.451071172952652,
          0.45120373368263245,
          0.4559621810913086,
          0.4664987623691559,
          0.4699792265892029,
          0.47360244393348694,
          0.48604243993759155,
          0.48808175325393677,
          0.4906309247016907,
          0.4961031675338745,
          0.49757149815559387,
          0.4999779164791107,
          0.504727840423584,
          0.5047312378883362,
          0.5061061382293701,
          0.5121068954467773,
          0.5135735273361206,
          0.5175400376319885,
          0.5227692127227783,
          0.5249054431915283,
          0.5331171751022339,
          0.5378773212432861,
          0.5458171367645264,
          0.549346923828125,
          0.5513012409210205,
          0.5520439147949219,
          0.5637072324752808,
          0.5642391443252563,
          0.5747536420822144,
          0.5793353915214539,
          0.5805895924568176,
          0.5902186632156372,
          0.5990319848060608,
          0.6037394404411316,
          0.6063634157180786,
          0.6365626454353333,
          0.6422846913337708,
          0.6552022099494934,
          0.668903112411499,
          0.6813091039657593,
          0.6819226145744324,
          0.7130361199378967,
          0.7275477051734924,
          0.767109215259552,
          1
         ],
         "xaxis": "x",
         "y": [
          0.39770192579107105,
          0.4043035075685777,
          0.4201857930820714,
          0.42021543811079026,
          0.4231514386939204,
          0.42337573451630456,
          0.42706741236016615,
          0.4310107921676115,
          0.4329743676367217,
          0.4351499434385976,
          0.4367605741071906,
          0.43874680819697764,
          0.44028304796547835,
          0.44054761924089236,
          0.4414414527819608,
          0.4421655232286334,
          0.44228242601704326,
          0.44563569588975704,
          0.4456376527706337,
          0.4479869005241953,
          0.4489098224373924,
          0.4498607046961477,
          0.45106273961859145,
          0.4528353009536104,
          0.45328249973078727,
          0.4544160094913053,
          0.45503464378488023,
          0.4553252234294392,
          0.45578975948455813,
          0.4559986749098768,
          0.4563672845663337,
          0.45641119422670595,
          0.45643300927968666,
          0.4572160902293861,
          0.45895005834230407,
          0.4595228260946302,
          0.46011908622640263,
          0.46216629260455644,
          0.46250189522266805,
          0.462921403399771,
          0.46382195115116553,
          0.46406358915595514,
          0.46445960495361166,
          0.46524128322679303,
          0.46524184233561494,
          0.4654681048478024,
          0.46645562835224524,
          0.4666969868026239,
          0.46734974144772456,
          0.4682102883960368,
          0.46856184032896253,
          0.46991321616041287,
          0.47069657666452325,
          0.47200320417236846,
          0.47258408881153874,
          0.4729057039001763,
          0.4730279231268575,
          0.4749473142856478,
          0.47503484914751803,
          0.47676518305309373,
          0.4775191854395912,
          0.4777255848752113,
          0.4793102071746594,
          0.4807605845032922,
          0.4815352739161998,
          0.4819670922963112,
          0.4869368732891746,
          0.48787853025236855,
          0.4900043208467789,
          0.4922590301648066,
          0.4943006405502781,
          0.4944016038328005,
          0.4995218439523143,
          0.5019099644823878,
          0.5084204630187905,
          0.54674648014746
         ],
         "yaxis": "y"
        },
        {
         "hovertemplate": "tag=tcn<br>true=%{x}<br>predicted=%{y}<extra></extra>",
         "legendgroup": "tcn",
         "marker": {
          "color": "#00cc96",
          "symbol": "circle"
         },
         "mode": "markers",
         "name": "tcn",
         "showlegend": true,
         "type": "scatter",
         "x": [
          0.5227692127227783,
          0.43894729018211365,
          0.4961031675338745,
          0.3437322676181793,
          0.41126665472984314,
          0.45080435276031494,
          0.7275477051734924,
          0.5902186632156372,
          0.30865561962127686,
          0.5047312378883362,
          0.3601064682006836,
          0.5378773212432861,
          0.5121068954467773,
          0.48808175325393677,
          0.4699792265892029,
          0.42934200167655945,
          0.3998803496360779,
          1,
          0.5513012409210205,
          0.47360244393348694,
          0.5747536420822144,
          0.5793353915214539,
          0.27276158332824707,
          0.45120373368263245,
          0.24896588921546936,
          0.4185709059238434,
          0.44447219371795654,
          0.44270646572113037,
          0.38559308648109436,
          0.5175400376319885,
          0.504727840423584,
          0.25032883882522583,
          0.48604243993759155,
          0.49757149815559387,
          0.3530673384666443,
          0.6037394404411316,
          0.23112507164478302,
          0.6813091039657593,
          0.09432010352611542,
          0.6552022099494934,
          0.2967238128185272,
          0.5637072324752808,
          0.6422846913337708,
          0.767109215259552,
          0.6365626454353333,
          0.5135735273361206,
          0.668903112411499,
          0.3652167022228241,
          0.451071172952652,
          0.364506334066391,
          0.4054885506629944,
          0.5458171367645264,
          0.44856446981430054,
          0.6063634157180786,
          0.321875661611557,
          0.5331171751022339,
          0.38560497760772705,
          0.5805895924568176,
          0.4559621810913086,
          0.549346923828125,
          0.7130361199378967,
          0.5990319848060608,
          0.4999779164791107,
          0.4472949802875519,
          0.5520439147949219,
          0.4320594370365143,
          0.4664987623691559,
          0.5249054431915283,
          0.33166277408599854,
          0.5642391443252563,
          0.5061061382293701,
          0.3546750247478485,
          0.4906309247016907,
          0.13443508744239807,
          0.6819226145744324,
          0.2309449315071106
         ],
         "xaxis": "x",
         "y": [
          0.31986236572265625,
          0.41362398862838745,
          0.42987629771232605,
          0.3969228267669678,
          0.46614187955856323,
          0.3021877408027649,
          0.4645807147026062,
          0.5334959030151367,
          0.19782833755016327,
          0.4193897843360901,
          0.423925518989563,
          0.2842075824737549,
          0.38447195291519165,
          0.27736496925354004,
          0.6648948788642883,
          0.5073109269142151,
          0.1540914624929428,
          0.4928348958492279,
          0.5101251602172852,
          0.354299396276474,
          0.5555795431137085,
          0.3264649212360382,
          0.30914226174354553,
          0.397321492433548,
          0.2590039372444153,
          0.47652149200439453,
          0.3651654124259949,
          0.37247955799102783,
          0.2515859007835388,
          0.6429819464683533,
          0.32767370343208313,
          0.6069930791854858,
          0.37903425097465515,
          0.4610495865345001,
          0.1968517005443573,
          0.4541441798210144,
          0.16476327180862427,
          0.1153181865811348,
          0.3314804136753082,
          0.3776170611381531,
          0.18794049322605133,
          0.2773562967777252,
          0.43922320008277893,
          0.30159565806388855,
          0.5729482769966125,
          0.25408071279525757,
          0.3976536691188812,
          0.1440749168395996,
          0.36111339926719666,
          0.4838843047618866,
          0.3577303886413574,
          0.4042416214942932,
          0.478547066450119,
          0.405758261680603,
          0.3278576731681824,
          0.26819777488708496,
          0.22317969799041748,
          0.7016180753707886,
          0.42047035694122314,
          0.41409462690353394,
          0.5846244692802429,
          0.20685000717639923,
          0.5189478993415833,
          0.40179088711738586,
          0.22103121876716614,
          0.48883429169654846,
          0.7191109657287598,
          0.41348177194595337,
          0.5517787337303162,
          0.5538254380226135,
          0.5850878357887268,
          0.4842657148838043,
          0.3910169303417206,
          0.41110751032829285,
          0.7552294135093689,
          0.2774251103401184
         ],
         "yaxis": "y"
        },
        {
         "hovertemplate": "<b>OLS trendline</b><br>predicted = 0.245672 * true + 0.281925<br>R<sup>2</sup>=0.065624<br><br>tag=tcn<br>true=%{x}<br>predicted=%{y} <b>(trend)</b><extra></extra>",
         "legendgroup": "tcn",
         "marker": {
          "color": "#00cc96",
          "symbol": "circle"
         },
         "mode": "lines",
         "name": "tcn",
         "showlegend": false,
         "type": "scatter",
         "x": [
          0.09432010352611542,
          0.13443508744239807,
          0.2309449315071106,
          0.23112507164478302,
          0.24896588921546936,
          0.25032883882522583,
          0.27276158332824707,
          0.2967238128185272,
          0.30865561962127686,
          0.321875661611557,
          0.33166277408599854,
          0.3437322676181793,
          0.3530673384666443,
          0.3546750247478485,
          0.3601064682006836,
          0.364506334066391,
          0.3652167022228241,
          0.38559308648109436,
          0.38560497760772705,
          0.3998803496360779,
          0.4054885506629944,
          0.41126665472984314,
          0.4185709059238434,
          0.42934200167655945,
          0.4320594370365143,
          0.43894729018211365,
          0.44270646572113037,
          0.44447219371795654,
          0.4472949802875519,
          0.44856446981430054,
          0.45080435276031494,
          0.451071172952652,
          0.45120373368263245,
          0.4559621810913086,
          0.4664987623691559,
          0.4699792265892029,
          0.47360244393348694,
          0.48604243993759155,
          0.48808175325393677,
          0.4906309247016907,
          0.4961031675338745,
          0.49757149815559387,
          0.4999779164791107,
          0.504727840423584,
          0.5047312378883362,
          0.5061061382293701,
          0.5121068954467773,
          0.5135735273361206,
          0.5175400376319885,
          0.5227692127227783,
          0.5249054431915283,
          0.5331171751022339,
          0.5378773212432861,
          0.5458171367645264,
          0.549346923828125,
          0.5513012409210205,
          0.5520439147949219,
          0.5637072324752808,
          0.5642391443252563,
          0.5747536420822144,
          0.5793353915214539,
          0.5805895924568176,
          0.5902186632156372,
          0.5990319848060608,
          0.6037394404411316,
          0.6063634157180786,
          0.6365626454353333,
          0.6422846913337708,
          0.6552022099494934,
          0.668903112411499,
          0.6813091039657593,
          0.6819226145744324,
          0.7130361199378967,
          0.7275477051734924,
          0.767109215259552,
          1
         ],
         "xaxis": "x",
         "y": [
          0.3050970193977659,
          0.3149521411965816,
          0.3386618918978998,
          0.3387061472564791,
          0.3430891336865995,
          0.3434239720212684,
          0.34893506557724147,
          0.35482191052003675,
          0.3577532194186378,
          0.3610010114225325,
          0.36340542932522,
          0.3663705639756013,
          0.36866392798153463,
          0.36905889122391355,
          0.3703932439157351,
          0.37147416704649067,
          0.37164868449658506,
          0.37665458825324133,
          0.3766575095681678,
          0.3801645664413902,
          0.3815423434911791,
          0.38296186093293766,
          0.3847563097432935,
          0.3874024646257497,
          0.3880700619631599,
          0.3897622134999498,
          0.39068573706105736,
          0.3911195267020707,
          0.39181300586470674,
          0.3921248836890763,
          0.3926751598475843,
          0.39274071005444344,
          0.39277327649252114,
          0.3939422930097315,
          0.39653083429029173,
          0.39738588632961364,
          0.3982760087912359,
          0.40133216546458983,
          0.40183316731368623,
          0.402459426946648,
          0.4038038028969516,
          0.4041645303784377,
          0.40475571958909906,
          0.4059226421311992,
          0.40592347679260676,
          0.40626125108538474,
          0.4077354681357041,
          0.4080957782864864,
          0.4090702381582294,
          0.4103548992099356,
          0.4108797108739215,
          0.41289710213919323,
          0.4140665359871074,
          0.4160171250534086,
          0.4168842943263228,
          0.41736441499704746,
          0.41754686905210503,
          0.42041221773473436,
          0.42054289349615764,
          0.4231260094775686,
          0.42425161627999425,
          0.4245597381280297,
          0.42692532963208274,
          0.4290905145392242,
          0.4302470038137297,
          0.43089164064084057,
          0.4383107408881463,
          0.43971648641668004,
          0.4428899569473448,
          0.4462558828267754,
          0.4493036855644624,
          0.44945440784284985,
          0.4570981198678866,
          0.46066320767370883,
          0.47038235653979965,
          0.5275970634988938
         ],
         "yaxis": "y"
        },
        {
         "hovertemplate": "tag=cpm<br>true=%{x}<br>predicted=%{y}<extra></extra>",
         "legendgroup": "cpm",
         "marker": {
          "color": "#ab63fa",
          "symbol": "circle"
         },
         "mode": "markers",
         "name": "cpm",
         "showlegend": true,
         "type": "scatter",
         "x": [
          0.5227692182194532,
          0.4389472932875162,
          0.4961031633544406,
          0.3437322620006594,
          0.4112666673464463,
          0.4508043492299796,
          0.7275477290262496,
          0.5902186511133091,
          0.3086556338435078,
          0.5047312661235228,
          0.3601064534877792,
          0.5378773201728001,
          0.5121068749511409,
          0.48808176389214614,
          0.46997923273274816,
          0.42934200732122635,
          0.399880358787681,
          1,
          0.5513012681288726,
          0.4736024580830893,
          0.5747536648618519,
          0.5793353794699758,
          0.2727615706987794,
          0.45120371975405565,
          0.2489658852599987,
          0.4185708993144423,
          0.44447220211207533,
          0.44270647456094725,
          0.3855930907199886,
          0.5175400135276144,
          0.5047278672254455,
          0.2503288433889733,
          0.48604242504580025,
          0.4975714873238097,
          0.35306733556980835,
          0.6037394676645831,
          0.23112506925254844,
          0.6813091195834311,
          0.09432010142311878,
          0.6552021834521247,
          0.29672380214334526,
          0.5637072461108109,
          0.6422846713095615,
          0.7671092031963237,
          0.6365626263965226,
          0.5135734994714712,
          0.668903141601493,
          0.3652166967469147,
          0.45107116272904335,
          0.3645063270487707,
          0.4054885406151325,
          0.5458171460812404,
          0.4485644753970762,
          0.6063634169802151,
          0.3218756479149459,
          0.5331171634156207,
          0.38560498686325884,
          0.5805895728604785,
          0.4559621770621964,
          0.5493469017344577,
          0.7130361336854589,
          0.599031993827601,
          0.4999779071624979,
          0.44729498696522596,
          0.5520439273587502,
          0.4320594263339826,
          0.46649876110165084,
          0.5249054256610008,
          0.3316627749283682,
          0.5642391736598995,
          0.5061061203957677,
          0.35467501436034443,
          0.49063093745007874,
          0.1344350861450718,
          0.6819226206863735,
          0.23094492765445437
         ],
         "xaxis": "x",
         "y": [
          0.5599966459338128,
          0.4950168754036782,
          0.528614869802535,
          0.5795149506066134,
          0.49632097313038853,
          0.3508538673496072,
          0.45839265638333626,
          0.5288629970600067,
          0.4523725526096615,
          0.4922775275583742,
          0.5955165513989754,
          0.3831631115415089,
          0.40545349092414196,
          0.46941247806722153,
          0.47376114104838324,
          0.5907193285271995,
          0.4673715715253449,
          0.39909938691245816,
          0.421564893239034,
          0.5530413648703547,
          0.47805531993398453,
          0.4416784574117524,
          0.40771834597762546,
          0.5246462899254003,
          0.5759874555177307,
          0.31224842225812166,
          0.3533698769567545,
          0.580478516300103,
          0.5296578369147684,
          0.5231902615986989,
          0.41523340329818037,
          0.5037208859524617,
          0.6081931398743212,
          0.5512836373195866,
          0.4334679109673395,
          0.5224098968685995,
          0.5364816438304948,
          0.6642379113464967,
          0.41564188970533883,
          0.4873158259929289,
          0.5378802807132461,
          0.5582747329481634,
          0.3839774668582387,
          0.44252309918197663,
          0.4762051077877978,
          0.5264083422371165,
          0.5717389400063815,
          0.47095139346036957,
          0.6194842399209862,
          0.5571479055978844,
          0.48244700882827296,
          0.49175192322127215,
          0.432098665224701,
          0.5513148412912674,
          0.4336840412799611,
          0.2717333860132316,
          0.49942184577907817,
          0.4535146940890564,
          0.5325718004816753,
          0.5604709148620792,
          0.4924877534117554,
          0.5142681045034333,
          0.35273338862829307,
          0.5685029144433376,
          0.37926833035254315,
          0.49125542402854994,
          0.42431770629770693,
          0.49827886236933716,
          0.5149518759206679,
          0.5032194125878482,
          0.5263598155982103,
          0.5001187484014497,
          0.5709955923266548,
          0.4362091853638066,
          0.560055903302451,
          0.4181999858412323
         ],
         "yaxis": "y"
        },
        {
         "hovertemplate": "<b>OLS trendline</b><br>predicted = -0.00110181 * true + 0.489621<br>R<sup>2</sup>=0.000005<br><br>tag=cpm<br>true=%{x}<br>predicted=%{y} <b>(trend)</b><extra></extra>",
         "legendgroup": "cpm",
         "marker": {
          "color": "#ab63fa",
          "symbol": "circle"
         },
         "mode": "lines",
         "name": "cpm",
         "showlegend": false,
         "type": "scatter",
         "x": [
          0.09432010142311878,
          0.1344350861450718,
          0.23094492765445437,
          0.23112506925254844,
          0.2489658852599987,
          0.2503288433889733,
          0.2727615706987794,
          0.29672380214334526,
          0.3086556338435078,
          0.3218756479149459,
          0.3316627749283682,
          0.3437322620006594,
          0.35306733556980835,
          0.35467501436034443,
          0.3601064534877792,
          0.3645063270487707,
          0.3652166967469147,
          0.3855930907199886,
          0.38560498686325884,
          0.399880358787681,
          0.4054885406151325,
          0.4112666673464463,
          0.4185708993144423,
          0.42934200732122635,
          0.4320594263339826,
          0.4389472932875162,
          0.44270647456094725,
          0.44447220211207533,
          0.44729498696522596,
          0.4485644753970762,
          0.4508043492299796,
          0.45107116272904335,
          0.45120371975405565,
          0.4559621770621964,
          0.46649876110165084,
          0.46997923273274816,
          0.4736024580830893,
          0.48604242504580025,
          0.48808176389214614,
          0.49063093745007874,
          0.4961031633544406,
          0.4975714873238097,
          0.4999779071624979,
          0.5047278672254455,
          0.5047312661235228,
          0.5061061203957677,
          0.5121068749511409,
          0.5135734994714712,
          0.5175400135276144,
          0.5227692182194532,
          0.5249054256610008,
          0.5331171634156207,
          0.5378773201728001,
          0.5458171460812404,
          0.5493469017344577,
          0.5513012681288726,
          0.5520439273587502,
          0.5637072461108109,
          0.5642391736598995,
          0.5747536648618519,
          0.5793353794699758,
          0.5805895728604785,
          0.5902186511133091,
          0.599031993827601,
          0.6037394676645831,
          0.6063634169802151,
          0.6365626263965226,
          0.6422846713095615,
          0.6552021834521247,
          0.668903141601493,
          0.6813091195834311,
          0.6819226206863735,
          0.7130361336854589,
          0.7275477290262496,
          0.7671092031963237,
          1
         ],
         "xaxis": "x",
         "y": [
          0.4895172602504744,
          0.4894730613366897,
          0.48936672625532773,
          0.4893665277743107,
          0.4893468706637814,
          0.4893453689489172,
          0.4893206524449177,
          0.48929425072473637,
          0.489281104166056,
          0.48926653828085814,
          0.48925575476975713,
          0.4892424565416204,
          0.48923217110552425,
          0.48923039975607097,
          0.4892244153661632,
          0.4892195675609469,
          0.4892187848716536,
          0.4891963340471874,
          0.4891963209399504,
          0.4891805922555871,
          0.4891744131295872,
          0.4891680467573449,
          0.48915999891384565,
          0.489148131247001,
          0.48914513717958474,
          0.4891375480893794,
          0.48913340620249707,
          0.4891314607140383,
          0.4891283505539517,
          0.4891269518245208,
          0.4891244839190457,
          0.4891241899424451,
          0.48912404389037606,
          0.48911880099558824,
          0.48910719172855815,
          0.48910335692551343,
          0.489099364835625,
          0.4890856584106798,
          0.4890834114557708,
          0.48908060276213444,
          0.4890745734331285,
          0.489072955625594,
          0.4890703042188013,
          0.48906507068632565,
          0.48906506694140084,
          0.48906355211929964,
          0.4890569404544798,
          0.4890553245194077,
          0.4890509541921096,
          0.4890451926252303,
          0.4890428389399631,
          0.4890337912015293,
          0.4890285464342791,
          0.4890197982898332,
          0.48901590918537813,
          0.4890137558535903,
          0.4890129375875109,
          0.4890000868778936,
          0.4889995007971548,
          0.48898791587213625,
          0.48898286771344057,
          0.4889814858361715,
          0.48897087646407594,
          0.48896116587394406,
          0.48895597915302896,
          0.488953088071046,
          0.48891981441376786,
          0.4889135098327856,
          0.48889927724589916,
          0.4888841814538352,
          0.4888705124781385,
          0.4888698365192034,
          0.488835555477141,
          0.48881956652050074,
          0.4887759774677276,
          0.4885193770895768
         ],
         "yaxis": "y"
        }
       ],
       "layout": {
        "font": {
         "color": "black"
        },
        "height": 400,
        "legend": {
         "font": {
          "size": 20
         },
         "title": {
          "text": "tag"
         },
         "tracegroupgap": 0
        },
        "margin": {
         "t": 60
        },
        "template": {
         "data": {
          "bar": [
           {
            "error_x": {
             "color": "#2a3f5f"
            },
            "error_y": {
             "color": "#2a3f5f"
            },
            "marker": {
             "line": {
              "color": "white",
              "width": 0.5
             }
            },
            "type": "bar"
           }
          ],
          "barpolar": [
           {
            "marker": {
             "line": {
              "color": "white",
              "width": 0.5
             }
            },
            "type": "barpolar"
           }
          ],
          "carpet": [
           {
            "aaxis": {
             "endlinecolor": "#2a3f5f",
             "gridcolor": "#C8D4E3",
             "linecolor": "#C8D4E3",
             "minorgridcolor": "#C8D4E3",
             "startlinecolor": "#2a3f5f"
            },
            "baxis": {
             "endlinecolor": "#2a3f5f",
             "gridcolor": "#C8D4E3",
             "linecolor": "#C8D4E3",
             "minorgridcolor": "#C8D4E3",
             "startlinecolor": "#2a3f5f"
            },
            "type": "carpet"
           }
          ],
          "choropleth": [
           {
            "colorbar": {
             "outlinewidth": 0,
             "ticks": ""
            },
            "type": "choropleth"
           }
          ],
          "contour": [
           {
            "colorbar": {
             "outlinewidth": 0,
             "ticks": ""
            },
            "colorscale": [
             [
              0,
              "#0d0887"
             ],
             [
              0.1111111111111111,
              "#46039f"
             ],
             [
              0.2222222222222222,
              "#7201a8"
             ],
             [
              0.3333333333333333,
              "#9c179e"
             ],
             [
              0.4444444444444444,
              "#bd3786"
             ],
             [
              0.5555555555555556,
              "#d8576b"
             ],
             [
              0.6666666666666666,
              "#ed7953"
             ],
             [
              0.7777777777777778,
              "#fb9f3a"
             ],
             [
              0.8888888888888888,
              "#fdca26"
             ],
             [
              1,
              "#f0f921"
             ]
            ],
            "type": "contour"
           }
          ],
          "contourcarpet": [
           {
            "colorbar": {
             "outlinewidth": 0,
             "ticks": ""
            },
            "type": "contourcarpet"
           }
          ],
          "heatmap": [
           {
            "colorbar": {
             "outlinewidth": 0,
             "ticks": ""
            },
            "colorscale": [
             [
              0,
              "#0d0887"
             ],
             [
              0.1111111111111111,
              "#46039f"
             ],
             [
              0.2222222222222222,
              "#7201a8"
             ],
             [
              0.3333333333333333,
              "#9c179e"
             ],
             [
              0.4444444444444444,
              "#bd3786"
             ],
             [
              0.5555555555555556,
              "#d8576b"
             ],
             [
              0.6666666666666666,
              "#ed7953"
             ],
             [
              0.7777777777777778,
              "#fb9f3a"
             ],
             [
              0.8888888888888888,
              "#fdca26"
             ],
             [
              1,
              "#f0f921"
             ]
            ],
            "type": "heatmap"
           }
          ],
          "heatmapgl": [
           {
            "colorbar": {
             "outlinewidth": 0,
             "ticks": ""
            },
            "colorscale": [
             [
              0,
              "#0d0887"
             ],
             [
              0.1111111111111111,
              "#46039f"
             ],
             [
              0.2222222222222222,
              "#7201a8"
             ],
             [
              0.3333333333333333,
              "#9c179e"
             ],
             [
              0.4444444444444444,
              "#bd3786"
             ],
             [
              0.5555555555555556,
              "#d8576b"
             ],
             [
              0.6666666666666666,
              "#ed7953"
             ],
             [
              0.7777777777777778,
              "#fb9f3a"
             ],
             [
              0.8888888888888888,
              "#fdca26"
             ],
             [
              1,
              "#f0f921"
             ]
            ],
            "type": "heatmapgl"
           }
          ],
          "histogram": [
           {
            "marker": {
             "colorbar": {
              "outlinewidth": 0,
              "ticks": ""
             }
            },
            "type": "histogram"
           }
          ],
          "histogram2d": [
           {
            "colorbar": {
             "outlinewidth": 0,
             "ticks": ""
            },
            "colorscale": [
             [
              0,
              "#0d0887"
             ],
             [
              0.1111111111111111,
              "#46039f"
             ],
             [
              0.2222222222222222,
              "#7201a8"
             ],
             [
              0.3333333333333333,
              "#9c179e"
             ],
             [
              0.4444444444444444,
              "#bd3786"
             ],
             [
              0.5555555555555556,
              "#d8576b"
             ],
             [
              0.6666666666666666,
              "#ed7953"
             ],
             [
              0.7777777777777778,
              "#fb9f3a"
             ],
             [
              0.8888888888888888,
              "#fdca26"
             ],
             [
              1,
              "#f0f921"
             ]
            ],
            "type": "histogram2d"
           }
          ],
          "histogram2dcontour": [
           {
            "colorbar": {
             "outlinewidth": 0,
             "ticks": ""
            },
            "colorscale": [
             [
              0,
              "#0d0887"
             ],
             [
              0.1111111111111111,
              "#46039f"
             ],
             [
              0.2222222222222222,
              "#7201a8"
             ],
             [
              0.3333333333333333,
              "#9c179e"
             ],
             [
              0.4444444444444444,
              "#bd3786"
             ],
             [
              0.5555555555555556,
              "#d8576b"
             ],
             [
              0.6666666666666666,
              "#ed7953"
             ],
             [
              0.7777777777777778,
              "#fb9f3a"
             ],
             [
              0.8888888888888888,
              "#fdca26"
             ],
             [
              1,
              "#f0f921"
             ]
            ],
            "type": "histogram2dcontour"
           }
          ],
          "mesh3d": [
           {
            "colorbar": {
             "outlinewidth": 0,
             "ticks": ""
            },
            "type": "mesh3d"
           }
          ],
          "parcoords": [
           {
            "line": {
             "colorbar": {
              "outlinewidth": 0,
              "ticks": ""
             }
            },
            "type": "parcoords"
           }
          ],
          "pie": [
           {
            "automargin": true,
            "type": "pie"
           }
          ],
          "scatter": [
           {
            "marker": {
             "colorbar": {
              "outlinewidth": 0,
              "ticks": ""
             }
            },
            "type": "scatter"
           }
          ],
          "scatter3d": [
           {
            "line": {
             "colorbar": {
              "outlinewidth": 0,
              "ticks": ""
             }
            },
            "marker": {
             "colorbar": {
              "outlinewidth": 0,
              "ticks": ""
             }
            },
            "type": "scatter3d"
           }
          ],
          "scattercarpet": [
           {
            "marker": {
             "colorbar": {
              "outlinewidth": 0,
              "ticks": ""
             }
            },
            "type": "scattercarpet"
           }
          ],
          "scattergeo": [
           {
            "marker": {
             "colorbar": {
              "outlinewidth": 0,
              "ticks": ""
             }
            },
            "type": "scattergeo"
           }
          ],
          "scattergl": [
           {
            "marker": {
             "colorbar": {
              "outlinewidth": 0,
              "ticks": ""
             }
            },
            "type": "scattergl"
           }
          ],
          "scattermapbox": [
           {
            "marker": {
             "colorbar": {
              "outlinewidth": 0,
              "ticks": ""
             }
            },
            "type": "scattermapbox"
           }
          ],
          "scatterpolar": [
           {
            "marker": {
             "colorbar": {
              "outlinewidth": 0,
              "ticks": ""
             }
            },
            "type": "scatterpolar"
           }
          ],
          "scatterpolargl": [
           {
            "marker": {
             "colorbar": {
              "outlinewidth": 0,
              "ticks": ""
             }
            },
            "type": "scatterpolargl"
           }
          ],
          "scatterternary": [
           {
            "marker": {
             "colorbar": {
              "outlinewidth": 0,
              "ticks": ""
             }
            },
            "type": "scatterternary"
           }
          ],
          "surface": [
           {
            "colorbar": {
             "outlinewidth": 0,
             "ticks": ""
            },
            "colorscale": [
             [
              0,
              "#0d0887"
             ],
             [
              0.1111111111111111,
              "#46039f"
             ],
             [
              0.2222222222222222,
              "#7201a8"
             ],
             [
              0.3333333333333333,
              "#9c179e"
             ],
             [
              0.4444444444444444,
              "#bd3786"
             ],
             [
              0.5555555555555556,
              "#d8576b"
             ],
             [
              0.6666666666666666,
              "#ed7953"
             ],
             [
              0.7777777777777778,
              "#fb9f3a"
             ],
             [
              0.8888888888888888,
              "#fdca26"
             ],
             [
              1,
              "#f0f921"
             ]
            ],
            "type": "surface"
           }
          ],
          "table": [
           {
            "cells": {
             "fill": {
              "color": "#EBF0F8"
             },
             "line": {
              "color": "white"
             }
            },
            "header": {
             "fill": {
              "color": "#C8D4E3"
             },
             "line": {
              "color": "white"
             }
            },
            "type": "table"
           }
          ]
         },
         "layout": {
          "annotationdefaults": {
           "arrowcolor": "#2a3f5f",
           "arrowhead": 0,
           "arrowwidth": 1
          },
          "coloraxis": {
           "colorbar": {
            "outlinewidth": 0,
            "ticks": ""
           }
          },
          "colorscale": {
           "diverging": [
            [
             0,
             "#8e0152"
            ],
            [
             0.1,
             "#c51b7d"
            ],
            [
             0.2,
             "#de77ae"
            ],
            [
             0.3,
             "#f1b6da"
            ],
            [
             0.4,
             "#fde0ef"
            ],
            [
             0.5,
             "#f7f7f7"
            ],
            [
             0.6,
             "#e6f5d0"
            ],
            [
             0.7,
             "#b8e186"
            ],
            [
             0.8,
             "#7fbc41"
            ],
            [
             0.9,
             "#4d9221"
            ],
            [
             1,
             "#276419"
            ]
           ],
           "sequential": [
            [
             0,
             "#0d0887"
            ],
            [
             0.1111111111111111,
             "#46039f"
            ],
            [
             0.2222222222222222,
             "#7201a8"
            ],
            [
             0.3333333333333333,
             "#9c179e"
            ],
            [
             0.4444444444444444,
             "#bd3786"
            ],
            [
             0.5555555555555556,
             "#d8576b"
            ],
            [
             0.6666666666666666,
             "#ed7953"
            ],
            [
             0.7777777777777778,
             "#fb9f3a"
            ],
            [
             0.8888888888888888,
             "#fdca26"
            ],
            [
             1,
             "#f0f921"
            ]
           ],
           "sequentialminus": [
            [
             0,
             "#0d0887"
            ],
            [
             0.1111111111111111,
             "#46039f"
            ],
            [
             0.2222222222222222,
             "#7201a8"
            ],
            [
             0.3333333333333333,
             "#9c179e"
            ],
            [
             0.4444444444444444,
             "#bd3786"
            ],
            [
             0.5555555555555556,
             "#d8576b"
            ],
            [
             0.6666666666666666,
             "#ed7953"
            ],
            [
             0.7777777777777778,
             "#fb9f3a"
            ],
            [
             0.8888888888888888,
             "#fdca26"
            ],
            [
             1,
             "#f0f921"
            ]
           ]
          },
          "colorway": [
           "#636efa",
           "#EF553B",
           "#00cc96",
           "#ab63fa",
           "#FFA15A",
           "#19d3f3",
           "#FF6692",
           "#B6E880",
           "#FF97FF",
           "#FECB52"
          ],
          "font": {
           "color": "#2a3f5f"
          },
          "geo": {
           "bgcolor": "white",
           "lakecolor": "white",
           "landcolor": "white",
           "showlakes": true,
           "showland": true,
           "subunitcolor": "#C8D4E3"
          },
          "hoverlabel": {
           "align": "left"
          },
          "hovermode": "closest",
          "mapbox": {
           "style": "light"
          },
          "paper_bgcolor": "white",
          "plot_bgcolor": "white",
          "polar": {
           "angularaxis": {
            "gridcolor": "#EBF0F8",
            "linecolor": "#EBF0F8",
            "ticks": ""
           },
           "bgcolor": "white",
           "radialaxis": {
            "gridcolor": "#EBF0F8",
            "linecolor": "#EBF0F8",
            "ticks": ""
           }
          },
          "scene": {
           "xaxis": {
            "backgroundcolor": "white",
            "gridcolor": "#DFE8F3",
            "gridwidth": 2,
            "linecolor": "#EBF0F8",
            "showbackground": true,
            "ticks": "",
            "zerolinecolor": "#EBF0F8"
           },
           "yaxis": {
            "backgroundcolor": "white",
            "gridcolor": "#DFE8F3",
            "gridwidth": 2,
            "linecolor": "#EBF0F8",
            "showbackground": true,
            "ticks": "",
            "zerolinecolor": "#EBF0F8"
           },
           "zaxis": {
            "backgroundcolor": "white",
            "gridcolor": "#DFE8F3",
            "gridwidth": 2,
            "linecolor": "#EBF0F8",
            "showbackground": true,
            "ticks": "",
            "zerolinecolor": "#EBF0F8"
           }
          },
          "shapedefaults": {
           "line": {
            "color": "#2a3f5f"
           }
          },
          "ternary": {
           "aaxis": {
            "gridcolor": "#DFE8F3",
            "linecolor": "#A2B1C6",
            "ticks": ""
           },
           "baxis": {
            "gridcolor": "#DFE8F3",
            "linecolor": "#A2B1C6",
            "ticks": ""
           },
           "bgcolor": "white",
           "caxis": {
            "gridcolor": "#DFE8F3",
            "linecolor": "#A2B1C6",
            "ticks": ""
           }
          },
          "title": {
           "x": 0.05
          },
          "xaxis": {
           "automargin": true,
           "gridcolor": "#EBF0F8",
           "linecolor": "#EBF0F8",
           "ticks": "",
           "title": {
            "standoff": 15
           },
           "zerolinecolor": "#EBF0F8",
           "zerolinewidth": 2
          },
          "yaxis": {
           "automargin": true,
           "gridcolor": "#EBF0F8",
           "linecolor": "#EBF0F8",
           "ticks": "",
           "title": {
            "standoff": 15
           },
           "zerolinecolor": "#EBF0F8",
           "zerolinewidth": 2
          }
         }
        },
        "title": {
         "text": "Verbal IQ"
        },
        "width": 480,
        "xaxis": {
         "anchor": "y",
         "domain": [
          0,
          1
         ],
         "dtick": 0.2,
         "tickfont": {
          "size": 20
         },
         "title": {
          "font": {
           "size": 20
          },
          "text": "True"
         }
        },
        "yaxis": {
         "anchor": "x",
         "domain": [
          0,
          1
         ],
         "dtick": 0.2,
         "tickfont": {
          "size": 20
         },
         "title": {
          "font": {
           "size": 20
          },
          "text": "Predicted"
         }
        }
       }
      },
      "text/html": [
       "<div>\n",
       "        \n",
       "        \n",
       "            <div id=\"47b83a5b-763d-4dc2-bc9b-dd56b6f72f48\" class=\"plotly-graph-div\" style=\"height:400px; width:480px;\"></div>\n",
       "            <script type=\"text/javascript\">\n",
       "                require([\"plotly\"], function(Plotly) {\n",
       "                    window.PLOTLYENV=window.PLOTLYENV || {};\n",
       "                    \n",
       "                if (document.getElementById(\"47b83a5b-763d-4dc2-bc9b-dd56b6f72f48\")) {\n",
       "                    Plotly.newPlot(\n",
       "                        '47b83a5b-763d-4dc2-bc9b-dd56b6f72f48',\n",
       "                        [{\"hovertemplate\": \"tag=gru<br>true=%{x}<br>predicted=%{y}<extra></extra>\", \"legendgroup\": \"gru\", \"marker\": {\"color\": \"#636efa\", \"symbol\": \"circle\"}, \"mode\": \"markers\", \"name\": \"gru\", \"showlegend\": true, \"type\": \"scatter\", \"x\": [0.5227692127227783, 0.43894729018211365, 0.4961031675338745, 0.3437322676181793, 0.41126665472984314, 0.45080435276031494, 0.7275477051734924, 0.5902186632156372, 0.30865561962127686, 0.5047312378883362, 0.3601064682006836, 0.5378773212432861, 0.5121068954467773, 0.48808175325393677, 0.4699792265892029, 0.42934200167655945, 0.3998803496360779, 1.0, 0.5513012409210205, 0.47360244393348694, 0.5747536420822144, 0.5793353915214539, 0.27276158332824707, 0.45120373368263245, 0.24896588921546936, 0.4185709059238434, 0.44447219371795654, 0.44270646572113037, 0.38559308648109436, 0.5175400376319885, 0.504727840423584, 0.25032883882522583, 0.48604243993759155, 0.49757149815559387, 0.3530673384666443, 0.6037394404411316, 0.23112507164478302, 0.6813091039657593, 0.09432010352611542, 0.6552022099494934, 0.2967238128185272, 0.5637072324752808, 0.6422846913337708, 0.767109215259552, 0.6365626454353333, 0.5135735273361206, 0.668903112411499, 0.3652167022228241, 0.451071172952652, 0.364506334066391, 0.4054885506629944, 0.5458171367645264, 0.44856446981430054, 0.6063634157180786, 0.321875661611557, 0.5331171751022339, 0.38560497760772705, 0.5805895924568176, 0.4559621810913086, 0.549346923828125, 0.7130361199378967, 0.5990319848060608, 0.4999779164791107, 0.4472949802875519, 0.5520439147949219, 0.4320594370365143, 0.4664987623691559, 0.5249054431915283, 0.33166277408599854, 0.5642391443252563, 0.5061061382293701, 0.3546750247478485, 0.4906309247016907, 0.13443508744239807, 0.6819226145744324, 0.2309449315071106], \"xaxis\": \"x\", \"y\": [0.4986927807331085, 0.5929852724075317, 0.5089743733406067, 0.4456768333911896, 0.41222286224365234, 0.2544582784175873, 0.419933021068573, 0.6858786940574646, 0.5078215003013611, 0.5279628038406372, 0.47169291973114014, 0.6715440154075623, 0.38747039437294006, 0.41987714171409607, 0.33041995763778687, 0.5257283449172974, 0.40496939420700073, 0.5462624430656433, 0.25561559200286865, 0.5471051335334778, 0.3442542552947998, 0.4860736131668091, 0.5945454239845276, 0.4278063178062439, 0.3888452351093292, 0.6069833040237427, 0.44669803977012634, 0.5531941652297974, 0.42163825035095215, 0.5840601325035095, 0.6025927066802979, 0.4013861417770386, 0.47861403226852417, 0.5141138434410095, 0.4508024752140045, 0.5279088616371155, 0.3825758099555969, 0.53166264295578, 0.4183136820793152, 0.40995723009109497, 0.3986576497554779, 0.29931697249412537, 0.3650311827659607, 0.6037410497665405, 0.5400821566581726, 0.40932655334472656, 0.5804471969604492, 0.48724207282066345, 0.39582037925720215, 0.4608502686023712, 0.5111913084983826, 0.5114291906356812, 0.5048668384552002, 0.5997524261474609, 0.4390628933906555, 0.4314350485801697, 0.46859151124954224, 0.38207849860191345, 0.5194235444068909, 0.447019100189209, 0.5739917159080505, 0.5209144949913025, 0.5523077845573425, 0.4368346333503723, 0.4594539999961853, 0.39467552304267883, 0.347500205039978, 0.4436989426612854, 0.40013769268989563, 0.47910845279693604, 0.4768165051937103, 0.4823228120803833, 0.5286899209022522, 0.47701311111450195, 0.48725637793540955, 0.39364326000213623], \"yaxis\": \"y\"}, {\"hovertemplate\": \"<b>OLS trendline</b><br>predicted = 0.145285 * true + 0.40154<br>R<sup>2</sup>=0.059689<br><br>tag=gru<br>true=%{x}<br>predicted=%{y} <b>(trend)</b><extra></extra>\", \"legendgroup\": \"gru\", \"marker\": {\"color\": \"#636efa\", \"symbol\": \"circle\"}, \"mode\": \"lines\", \"name\": \"gru\", \"showlegend\": false, \"type\": \"scatter\", \"x\": [0.09432010352611542, 0.13443508744239807, 0.2309449315071106, 0.23112507164478302, 0.24896588921546936, 0.25032883882522583, 0.27276158332824707, 0.2967238128185272, 0.30865561962127686, 0.321875661611557, 0.33166277408599854, 0.3437322676181793, 0.3530673384666443, 0.3546750247478485, 0.3601064682006836, 0.364506334066391, 0.3652167022228241, 0.38559308648109436, 0.38560497760772705, 0.3998803496360779, 0.4054885506629944, 0.41126665472984314, 0.4185709059238434, 0.42934200167655945, 0.4320594370365143, 0.43894729018211365, 0.44270646572113037, 0.44447219371795654, 0.4472949802875519, 0.44856446981430054, 0.45080435276031494, 0.451071172952652, 0.45120373368263245, 0.4559621810913086, 0.4664987623691559, 0.4699792265892029, 0.47360244393348694, 0.48604243993759155, 0.48808175325393677, 0.4906309247016907, 0.4961031675338745, 0.49757149815559387, 0.4999779164791107, 0.504727840423584, 0.5047312378883362, 0.5061061382293701, 0.5121068954467773, 0.5135735273361206, 0.5175400376319885, 0.5227692127227783, 0.5249054431915283, 0.5331171751022339, 0.5378773212432861, 0.5458171367645264, 0.549346923828125, 0.5513012409210205, 0.5520439147949219, 0.5637072324752808, 0.5642391443252563, 0.5747536420822144, 0.5793353915214539, 0.5805895924568176, 0.5902186632156372, 0.5990319848060608, 0.6037394404411316, 0.6063634157180786, 0.6365626454353333, 0.6422846913337708, 0.6552022099494934, 0.668903112411499, 0.6813091039657593, 0.6819226145744324, 0.7130361199378967, 0.7275477051734924, 0.767109215259552, 1.0], \"xaxis\": \"x\", \"y\": [0.4152436613321522, 0.42107176466331186, 0.43509319228888654, 0.4351193639393261, 0.43771136618295964, 0.43790938224542153, 0.4411685223522195, 0.4446498736050522, 0.44638338552964835, 0.4483040586357978, 0.44972597875756, 0.4514794944914093, 0.45283573976928576, 0.4530693123862037, 0.4538584193629517, 0.4544976536441395, 0.4546008594444334, 0.45756124136108706, 0.4575629689627953, 0.4596369656380926, 0.4604517528297065, 0.4612912243755525, 0.4623524221266028, 0.46391730020726346, 0.4643121026607959, 0.4653128040432565, 0.4658589556639845, 0.4661154893632551, 0.4665255977617464, 0.4667100354809577, 0.46703545675711516, 0.4670742217147436, 0.4670934807934358, 0.46778481157525864, 0.4693156182327563, 0.4698212772941477, 0.47034767623569546, 0.47215502040171686, 0.47245130192976315, 0.4728216581696499, 0.47361669268208356, 0.47383001901933314, 0.4741796353790635, 0.4748697278298373, 0.47487022143032537, 0.47506997375415316, 0.47594179345128274, 0.4761548729882883, 0.4767311472282748, 0.4774908676566676, 0.4778012297881103, 0.47899427082741997, 0.47968584840948686, 0.48083938409043603, 0.481352209018562, 0.481636141874749, 0.4817440412095084, 0.48343854570606093, 0.4835158244912449, 0.48504342274557016, 0.48570908197218476, 0.48589129848919976, 0.4872902575286092, 0.48857070049293705, 0.4892546229376101, 0.4896358470478919, 0.4940233405510901, 0.494854667688883, 0.4967313887024505, 0.4987219235969764, 0.5005243274282883, 0.5006134612848436, 0.5051337852772773, 0.5072421001759815, 0.5129897920907895, 0.5468253175187646], \"yaxis\": \"y\"}, {\"hovertemplate\": \"tag=ff<br>true=%{x}<br>predicted=%{y}<extra></extra>\", \"legendgroup\": \"ff\", \"marker\": {\"color\": \"#EF553B\", \"symbol\": \"circle\"}, \"mode\": \"markers\", \"name\": \"ff\", \"showlegend\": true, \"type\": \"scatter\", \"x\": [0.5227692127227783, 0.43894729018211365, 0.4961031675338745, 0.3437322676181793, 0.41126665472984314, 0.45080435276031494, 0.7275477051734924, 0.5902186632156372, 0.30865561962127686, 0.5047312378883362, 0.3601064682006836, 0.5378773212432861, 0.5121068954467773, 0.48808175325393677, 0.4699792265892029, 0.42934200167655945, 0.3998803496360779, 1.0, 0.5513012409210205, 0.47360244393348694, 0.5747536420822144, 0.5793353915214539, 0.27276158332824707, 0.45120373368263245, 0.24896588921546936, 0.4185709059238434, 0.44447219371795654, 0.44270646572113037, 0.38559308648109436, 0.5175400376319885, 0.504727840423584, 0.25032883882522583, 0.48604243993759155, 0.49757149815559387, 0.3530673384666443, 0.6037394404411316, 0.23112507164478302, 0.6813091039657593, 0.09432010352611542, 0.6552022099494934, 0.2967238128185272, 0.5637072324752808, 0.6422846913337708, 0.767109215259552, 0.6365626454353333, 0.5135735273361206, 0.668903112411499, 0.3652167022228241, 0.451071172952652, 0.364506334066391, 0.4054885506629944, 0.5458171367645264, 0.44856446981430054, 0.6063634157180786, 0.321875661611557, 0.5331171751022339, 0.38560497760772705, 0.5805895924568176, 0.4559621810913086, 0.549346923828125, 0.7130361199378967, 0.5990319848060608, 0.4999779164791107, 0.4472949802875519, 0.5520439147949219, 0.4320594370365143, 0.4664987623691559, 0.5249054431915283, 0.33166277408599854, 0.5642391443252563, 0.5061061382293701, 0.3546750247478485, 0.4906309247016907, 0.13443508744239807, 0.6819226145744324, 0.2309449315071106], \"xaxis\": \"x\", \"y\": [0.556961178779602, 0.7486897110939026, 0.4775439500808716, 0.19441008567810059, 0.33329886198043823, 0.4828071892261505, 0.41442644596099854, 0.46639350056648254, 0.4518964886665344, 0.46775054931640625, 0.5219355821609497, 0.5197720527648926, 0.5268641710281372, 0.44029903411865234, 0.43610644340515137, 0.6728634238243103, 0.302127480506897, 0.5294822454452515, 0.3553904891014099, 0.3690786063671112, 0.6667587161064148, 0.48716601729393005, 0.4169020652770996, 0.5662406086921692, 0.5152783989906311, 0.4241550862789154, 0.36279940605163574, 0.3494037389755249, 0.410122811794281, 0.3089565336704254, 0.5565222501754761, 0.27073532342910767, 0.4584164023399353, 0.1294536292552948, 0.3591684103012085, 0.548923671245575, 0.1868833601474762, 0.44233113527297974, 0.47533297538757324, 0.3087841868400574, 0.2178136706352234, 0.49621453881263733, 0.45292928814888, 0.528145968914032, 0.543560266494751, 0.3309767544269562, 0.7712987065315247, 0.4860757291316986, 0.45703214406967163, 0.4709888994693756, 0.5233398079872131, 0.37815940380096436, 0.5438191890716553, 0.532254159450531, 0.5419725179672241, 0.32509711384773254, 0.32292404770851135, 0.2899313271045685, 0.5549175143241882, 0.3709641396999359, 0.5236693620681763, 0.31537193059921265, 0.40454912185668945, 0.8106284141540527, 0.5808473229408264, 0.4463929533958435, 0.45624712109565735, 0.6126412153244019, 0.5449540019035339, 0.6167193651199341, 0.4903709590435028, 0.5493003726005554, 0.6125422120094299, 0.45978599786758423, 0.47670990228652954, 0.47481751441955566], \"yaxis\": \"y\"}, {\"hovertemplate\": \"<b>OLS trendline</b><br>predicted = 0.164566 * true + 0.38218<br>R<sup>2</sup>=0.035493<br><br>tag=ff<br>true=%{x}<br>predicted=%{y} <b>(trend)</b><extra></extra>\", \"legendgroup\": \"ff\", \"marker\": {\"color\": \"#EF553B\", \"symbol\": \"circle\"}, \"mode\": \"lines\", \"name\": \"ff\", \"showlegend\": false, \"type\": \"scatter\", \"x\": [0.09432010352611542, 0.13443508744239807, 0.2309449315071106, 0.23112507164478302, 0.24896588921546936, 0.25032883882522583, 0.27276158332824707, 0.2967238128185272, 0.30865561962127686, 0.321875661611557, 0.33166277408599854, 0.3437322676181793, 0.3530673384666443, 0.3546750247478485, 0.3601064682006836, 0.364506334066391, 0.3652167022228241, 0.38559308648109436, 0.38560497760772705, 0.3998803496360779, 0.4054885506629944, 0.41126665472984314, 0.4185709059238434, 0.42934200167655945, 0.4320594370365143, 0.43894729018211365, 0.44270646572113037, 0.44447219371795654, 0.4472949802875519, 0.44856446981430054, 0.45080435276031494, 0.451071172952652, 0.45120373368263245, 0.4559621810913086, 0.4664987623691559, 0.4699792265892029, 0.47360244393348694, 0.48604243993759155, 0.48808175325393677, 0.4906309247016907, 0.4961031675338745, 0.49757149815559387, 0.4999779164791107, 0.504727840423584, 0.5047312378883362, 0.5061061382293701, 0.5121068954467773, 0.5135735273361206, 0.5175400376319885, 0.5227692127227783, 0.5249054431915283, 0.5331171751022339, 0.5378773212432861, 0.5458171367645264, 0.549346923828125, 0.5513012409210205, 0.5520439147949219, 0.5637072324752808, 0.5642391443252563, 0.5747536420822144, 0.5793353915214539, 0.5805895924568176, 0.5902186632156372, 0.5990319848060608, 0.6037394404411316, 0.6063634157180786, 0.6365626454353333, 0.6422846913337708, 0.6552022099494934, 0.668903112411499, 0.6813091039657593, 0.6819226145744324, 0.7130361199378967, 0.7275477051734924, 0.767109215259552, 1.0], \"xaxis\": \"x\", \"y\": [0.39770192579107105, 0.4043035075685777, 0.4201857930820714, 0.42021543811079026, 0.4231514386939204, 0.42337573451630456, 0.42706741236016615, 0.4310107921676115, 0.4329743676367217, 0.4351499434385976, 0.4367605741071906, 0.43874680819697764, 0.44028304796547835, 0.44054761924089236, 0.4414414527819608, 0.4421655232286334, 0.44228242601704326, 0.44563569588975704, 0.4456376527706337, 0.4479869005241953, 0.4489098224373924, 0.4498607046961477, 0.45106273961859145, 0.4528353009536104, 0.45328249973078727, 0.4544160094913053, 0.45503464378488023, 0.4553252234294392, 0.45578975948455813, 0.4559986749098768, 0.4563672845663337, 0.45641119422670595, 0.45643300927968666, 0.4572160902293861, 0.45895005834230407, 0.4595228260946302, 0.46011908622640263, 0.46216629260455644, 0.46250189522266805, 0.462921403399771, 0.46382195115116553, 0.46406358915595514, 0.46445960495361166, 0.46524128322679303, 0.46524184233561494, 0.4654681048478024, 0.46645562835224524, 0.4666969868026239, 0.46734974144772456, 0.4682102883960368, 0.46856184032896253, 0.46991321616041287, 0.47069657666452325, 0.47200320417236846, 0.47258408881153874, 0.4729057039001763, 0.4730279231268575, 0.4749473142856478, 0.47503484914751803, 0.47676518305309373, 0.4775191854395912, 0.4777255848752113, 0.4793102071746594, 0.4807605845032922, 0.4815352739161998, 0.4819670922963112, 0.4869368732891746, 0.48787853025236855, 0.4900043208467789, 0.4922590301648066, 0.4943006405502781, 0.4944016038328005, 0.4995218439523143, 0.5019099644823878, 0.5084204630187905, 0.54674648014746], \"yaxis\": \"y\"}, {\"hovertemplate\": \"tag=tcn<br>true=%{x}<br>predicted=%{y}<extra></extra>\", \"legendgroup\": \"tcn\", \"marker\": {\"color\": \"#00cc96\", \"symbol\": \"circle\"}, \"mode\": \"markers\", \"name\": \"tcn\", \"showlegend\": true, \"type\": \"scatter\", \"x\": [0.5227692127227783, 0.43894729018211365, 0.4961031675338745, 0.3437322676181793, 0.41126665472984314, 0.45080435276031494, 0.7275477051734924, 0.5902186632156372, 0.30865561962127686, 0.5047312378883362, 0.3601064682006836, 0.5378773212432861, 0.5121068954467773, 0.48808175325393677, 0.4699792265892029, 0.42934200167655945, 0.3998803496360779, 1.0, 0.5513012409210205, 0.47360244393348694, 0.5747536420822144, 0.5793353915214539, 0.27276158332824707, 0.45120373368263245, 0.24896588921546936, 0.4185709059238434, 0.44447219371795654, 0.44270646572113037, 0.38559308648109436, 0.5175400376319885, 0.504727840423584, 0.25032883882522583, 0.48604243993759155, 0.49757149815559387, 0.3530673384666443, 0.6037394404411316, 0.23112507164478302, 0.6813091039657593, 0.09432010352611542, 0.6552022099494934, 0.2967238128185272, 0.5637072324752808, 0.6422846913337708, 0.767109215259552, 0.6365626454353333, 0.5135735273361206, 0.668903112411499, 0.3652167022228241, 0.451071172952652, 0.364506334066391, 0.4054885506629944, 0.5458171367645264, 0.44856446981430054, 0.6063634157180786, 0.321875661611557, 0.5331171751022339, 0.38560497760772705, 0.5805895924568176, 0.4559621810913086, 0.549346923828125, 0.7130361199378967, 0.5990319848060608, 0.4999779164791107, 0.4472949802875519, 0.5520439147949219, 0.4320594370365143, 0.4664987623691559, 0.5249054431915283, 0.33166277408599854, 0.5642391443252563, 0.5061061382293701, 0.3546750247478485, 0.4906309247016907, 0.13443508744239807, 0.6819226145744324, 0.2309449315071106], \"xaxis\": \"x\", \"y\": [0.31986236572265625, 0.41362398862838745, 0.42987629771232605, 0.3969228267669678, 0.46614187955856323, 0.3021877408027649, 0.4645807147026062, 0.5334959030151367, 0.19782833755016327, 0.4193897843360901, 0.423925518989563, 0.2842075824737549, 0.38447195291519165, 0.27736496925354004, 0.6648948788642883, 0.5073109269142151, 0.1540914624929428, 0.4928348958492279, 0.5101251602172852, 0.354299396276474, 0.5555795431137085, 0.3264649212360382, 0.30914226174354553, 0.397321492433548, 0.2590039372444153, 0.47652149200439453, 0.3651654124259949, 0.37247955799102783, 0.2515859007835388, 0.6429819464683533, 0.32767370343208313, 0.6069930791854858, 0.37903425097465515, 0.4610495865345001, 0.1968517005443573, 0.4541441798210144, 0.16476327180862427, 0.1153181865811348, 0.3314804136753082, 0.3776170611381531, 0.18794049322605133, 0.2773562967777252, 0.43922320008277893, 0.30159565806388855, 0.5729482769966125, 0.25408071279525757, 0.3976536691188812, 0.1440749168395996, 0.36111339926719666, 0.4838843047618866, 0.3577303886413574, 0.4042416214942932, 0.478547066450119, 0.405758261680603, 0.3278576731681824, 0.26819777488708496, 0.22317969799041748, 0.7016180753707886, 0.42047035694122314, 0.41409462690353394, 0.5846244692802429, 0.20685000717639923, 0.5189478993415833, 0.40179088711738586, 0.22103121876716614, 0.48883429169654846, 0.7191109657287598, 0.41348177194595337, 0.5517787337303162, 0.5538254380226135, 0.5850878357887268, 0.4842657148838043, 0.3910169303417206, 0.41110751032829285, 0.7552294135093689, 0.2774251103401184], \"yaxis\": \"y\"}, {\"hovertemplate\": \"<b>OLS trendline</b><br>predicted = 0.245672 * true + 0.281925<br>R<sup>2</sup>=0.065624<br><br>tag=tcn<br>true=%{x}<br>predicted=%{y} <b>(trend)</b><extra></extra>\", \"legendgroup\": \"tcn\", \"marker\": {\"color\": \"#00cc96\", \"symbol\": \"circle\"}, \"mode\": \"lines\", \"name\": \"tcn\", \"showlegend\": false, \"type\": \"scatter\", \"x\": [0.09432010352611542, 0.13443508744239807, 0.2309449315071106, 0.23112507164478302, 0.24896588921546936, 0.25032883882522583, 0.27276158332824707, 0.2967238128185272, 0.30865561962127686, 0.321875661611557, 0.33166277408599854, 0.3437322676181793, 0.3530673384666443, 0.3546750247478485, 0.3601064682006836, 0.364506334066391, 0.3652167022228241, 0.38559308648109436, 0.38560497760772705, 0.3998803496360779, 0.4054885506629944, 0.41126665472984314, 0.4185709059238434, 0.42934200167655945, 0.4320594370365143, 0.43894729018211365, 0.44270646572113037, 0.44447219371795654, 0.4472949802875519, 0.44856446981430054, 0.45080435276031494, 0.451071172952652, 0.45120373368263245, 0.4559621810913086, 0.4664987623691559, 0.4699792265892029, 0.47360244393348694, 0.48604243993759155, 0.48808175325393677, 0.4906309247016907, 0.4961031675338745, 0.49757149815559387, 0.4999779164791107, 0.504727840423584, 0.5047312378883362, 0.5061061382293701, 0.5121068954467773, 0.5135735273361206, 0.5175400376319885, 0.5227692127227783, 0.5249054431915283, 0.5331171751022339, 0.5378773212432861, 0.5458171367645264, 0.549346923828125, 0.5513012409210205, 0.5520439147949219, 0.5637072324752808, 0.5642391443252563, 0.5747536420822144, 0.5793353915214539, 0.5805895924568176, 0.5902186632156372, 0.5990319848060608, 0.6037394404411316, 0.6063634157180786, 0.6365626454353333, 0.6422846913337708, 0.6552022099494934, 0.668903112411499, 0.6813091039657593, 0.6819226145744324, 0.7130361199378967, 0.7275477051734924, 0.767109215259552, 1.0], \"xaxis\": \"x\", \"y\": [0.3050970193977659, 0.3149521411965816, 0.3386618918978998, 0.3387061472564791, 0.3430891336865995, 0.3434239720212684, 0.34893506557724147, 0.35482191052003675, 0.3577532194186378, 0.3610010114225325, 0.36340542932522, 0.3663705639756013, 0.36866392798153463, 0.36905889122391355, 0.3703932439157351, 0.37147416704649067, 0.37164868449658506, 0.37665458825324133, 0.3766575095681678, 0.3801645664413902, 0.3815423434911791, 0.38296186093293766, 0.3847563097432935, 0.3874024646257497, 0.3880700619631599, 0.3897622134999498, 0.39068573706105736, 0.3911195267020707, 0.39181300586470674, 0.3921248836890763, 0.3926751598475843, 0.39274071005444344, 0.39277327649252114, 0.3939422930097315, 0.39653083429029173, 0.39738588632961364, 0.3982760087912359, 0.40133216546458983, 0.40183316731368623, 0.402459426946648, 0.4038038028969516, 0.4041645303784377, 0.40475571958909906, 0.4059226421311992, 0.40592347679260676, 0.40626125108538474, 0.4077354681357041, 0.4080957782864864, 0.4090702381582294, 0.4103548992099356, 0.4108797108739215, 0.41289710213919323, 0.4140665359871074, 0.4160171250534086, 0.4168842943263228, 0.41736441499704746, 0.41754686905210503, 0.42041221773473436, 0.42054289349615764, 0.4231260094775686, 0.42425161627999425, 0.4245597381280297, 0.42692532963208274, 0.4290905145392242, 0.4302470038137297, 0.43089164064084057, 0.4383107408881463, 0.43971648641668004, 0.4428899569473448, 0.4462558828267754, 0.4493036855644624, 0.44945440784284985, 0.4570981198678866, 0.46066320767370883, 0.47038235653979965, 0.5275970634988938], \"yaxis\": \"y\"}, {\"hovertemplate\": \"tag=cpm<br>true=%{x}<br>predicted=%{y}<extra></extra>\", \"legendgroup\": \"cpm\", \"marker\": {\"color\": \"#ab63fa\", \"symbol\": \"circle\"}, \"mode\": \"markers\", \"name\": \"cpm\", \"showlegend\": true, \"type\": \"scatter\", \"x\": [0.5227692182194532, 0.4389472932875162, 0.4961031633544406, 0.3437322620006594, 0.4112666673464463, 0.4508043492299796, 0.7275477290262496, 0.5902186511133091, 0.3086556338435078, 0.5047312661235228, 0.3601064534877792, 0.5378773201728001, 0.5121068749511409, 0.48808176389214614, 0.46997923273274816, 0.42934200732122635, 0.399880358787681, 1.0, 0.5513012681288726, 0.4736024580830893, 0.5747536648618519, 0.5793353794699758, 0.2727615706987794, 0.45120371975405565, 0.2489658852599987, 0.4185708993144423, 0.44447220211207533, 0.44270647456094725, 0.3855930907199886, 0.5175400135276144, 0.5047278672254455, 0.2503288433889733, 0.48604242504580025, 0.4975714873238097, 0.35306733556980835, 0.6037394676645831, 0.23112506925254844, 0.6813091195834311, 0.09432010142311878, 0.6552021834521247, 0.29672380214334526, 0.5637072461108109, 0.6422846713095615, 0.7671092031963237, 0.6365626263965226, 0.5135734994714712, 0.668903141601493, 0.3652166967469147, 0.45107116272904335, 0.3645063270487707, 0.4054885406151325, 0.5458171460812404, 0.4485644753970762, 0.6063634169802151, 0.3218756479149459, 0.5331171634156207, 0.38560498686325884, 0.5805895728604785, 0.4559621770621964, 0.5493469017344577, 0.7130361336854589, 0.599031993827601, 0.4999779071624979, 0.44729498696522596, 0.5520439273587502, 0.4320594263339826, 0.46649876110165084, 0.5249054256610008, 0.3316627749283682, 0.5642391736598995, 0.5061061203957677, 0.35467501436034443, 0.49063093745007874, 0.1344350861450718, 0.6819226206863735, 0.23094492765445437], \"xaxis\": \"x\", \"y\": [0.5599966459338128, 0.4950168754036782, 0.528614869802535, 0.5795149506066134, 0.49632097313038853, 0.3508538673496072, 0.45839265638333626, 0.5288629970600067, 0.4523725526096615, 0.4922775275583742, 0.5955165513989754, 0.3831631115415089, 0.40545349092414196, 0.46941247806722153, 0.47376114104838324, 0.5907193285271995, 0.4673715715253449, 0.39909938691245816, 0.421564893239034, 0.5530413648703547, 0.47805531993398453, 0.4416784574117524, 0.40771834597762546, 0.5246462899254003, 0.5759874555177307, 0.31224842225812166, 0.3533698769567545, 0.580478516300103, 0.5296578369147684, 0.5231902615986989, 0.41523340329818037, 0.5037208859524617, 0.6081931398743212, 0.5512836373195866, 0.4334679109673395, 0.5224098968685995, 0.5364816438304948, 0.6642379113464967, 0.41564188970533883, 0.4873158259929289, 0.5378802807132461, 0.5582747329481634, 0.3839774668582387, 0.44252309918197663, 0.4762051077877978, 0.5264083422371165, 0.5717389400063815, 0.47095139346036957, 0.6194842399209862, 0.5571479055978844, 0.48244700882827296, 0.49175192322127215, 0.432098665224701, 0.5513148412912674, 0.4336840412799611, 0.2717333860132316, 0.49942184577907817, 0.4535146940890564, 0.5325718004816753, 0.5604709148620792, 0.4924877534117554, 0.5142681045034333, 0.35273338862829307, 0.5685029144433376, 0.37926833035254315, 0.49125542402854994, 0.42431770629770693, 0.49827886236933716, 0.5149518759206679, 0.5032194125878482, 0.5263598155982103, 0.5001187484014497, 0.5709955923266548, 0.4362091853638066, 0.560055903302451, 0.4181999858412323], \"yaxis\": \"y\"}, {\"hovertemplate\": \"<b>OLS trendline</b><br>predicted = -0.00110181 * true + 0.489621<br>R<sup>2</sup>=0.000005<br><br>tag=cpm<br>true=%{x}<br>predicted=%{y} <b>(trend)</b><extra></extra>\", \"legendgroup\": \"cpm\", \"marker\": {\"color\": \"#ab63fa\", \"symbol\": \"circle\"}, \"mode\": \"lines\", \"name\": \"cpm\", \"showlegend\": false, \"type\": \"scatter\", \"x\": [0.09432010142311878, 0.1344350861450718, 0.23094492765445437, 0.23112506925254844, 0.2489658852599987, 0.2503288433889733, 0.2727615706987794, 0.29672380214334526, 0.3086556338435078, 0.3218756479149459, 0.3316627749283682, 0.3437322620006594, 0.35306733556980835, 0.35467501436034443, 0.3601064534877792, 0.3645063270487707, 0.3652166967469147, 0.3855930907199886, 0.38560498686325884, 0.399880358787681, 0.4054885406151325, 0.4112666673464463, 0.4185708993144423, 0.42934200732122635, 0.4320594263339826, 0.4389472932875162, 0.44270647456094725, 0.44447220211207533, 0.44729498696522596, 0.4485644753970762, 0.4508043492299796, 0.45107116272904335, 0.45120371975405565, 0.4559621770621964, 0.46649876110165084, 0.46997923273274816, 0.4736024580830893, 0.48604242504580025, 0.48808176389214614, 0.49063093745007874, 0.4961031633544406, 0.4975714873238097, 0.4999779071624979, 0.5047278672254455, 0.5047312661235228, 0.5061061203957677, 0.5121068749511409, 0.5135734994714712, 0.5175400135276144, 0.5227692182194532, 0.5249054256610008, 0.5331171634156207, 0.5378773201728001, 0.5458171460812404, 0.5493469017344577, 0.5513012681288726, 0.5520439273587502, 0.5637072461108109, 0.5642391736598995, 0.5747536648618519, 0.5793353794699758, 0.5805895728604785, 0.5902186511133091, 0.599031993827601, 0.6037394676645831, 0.6063634169802151, 0.6365626263965226, 0.6422846713095615, 0.6552021834521247, 0.668903141601493, 0.6813091195834311, 0.6819226206863735, 0.7130361336854589, 0.7275477290262496, 0.7671092031963237, 1.0], \"xaxis\": \"x\", \"y\": [0.4895172602504744, 0.4894730613366897, 0.48936672625532773, 0.4893665277743107, 0.4893468706637814, 0.4893453689489172, 0.4893206524449177, 0.48929425072473637, 0.489281104166056, 0.48926653828085814, 0.48925575476975713, 0.4892424565416204, 0.48923217110552425, 0.48923039975607097, 0.4892244153661632, 0.4892195675609469, 0.4892187848716536, 0.4891963340471874, 0.4891963209399504, 0.4891805922555871, 0.4891744131295872, 0.4891680467573449, 0.48915999891384565, 0.489148131247001, 0.48914513717958474, 0.4891375480893794, 0.48913340620249707, 0.4891314607140383, 0.4891283505539517, 0.4891269518245208, 0.4891244839190457, 0.4891241899424451, 0.48912404389037606, 0.48911880099558824, 0.48910719172855815, 0.48910335692551343, 0.489099364835625, 0.4890856584106798, 0.4890834114557708, 0.48908060276213444, 0.4890745734331285, 0.489072955625594, 0.4890703042188013, 0.48906507068632565, 0.48906506694140084, 0.48906355211929964, 0.4890569404544798, 0.4890553245194077, 0.4890509541921096, 0.4890451926252303, 0.4890428389399631, 0.4890337912015293, 0.4890285464342791, 0.4890197982898332, 0.48901590918537813, 0.4890137558535903, 0.4890129375875109, 0.4890000868778936, 0.4889995007971548, 0.48898791587213625, 0.48898286771344057, 0.4889814858361715, 0.48897087646407594, 0.48896116587394406, 0.48895597915302896, 0.488953088071046, 0.48891981441376786, 0.4889135098327856, 0.48889927724589916, 0.4888841814538352, 0.4888705124781385, 0.4888698365192034, 0.488835555477141, 0.48881956652050074, 0.4887759774677276, 0.4885193770895768], \"yaxis\": \"y\"}],\n",
       "                        {\"font\": {\"color\": \"black\"}, \"height\": 400, \"legend\": {\"font\": {\"size\": 20}, \"title\": {\"text\": \"tag\"}, \"tracegroupgap\": 0}, \"margin\": {\"t\": 60}, \"template\": {\"data\": {\"bar\": [{\"error_x\": {\"color\": \"#2a3f5f\"}, \"error_y\": {\"color\": \"#2a3f5f\"}, \"marker\": {\"line\": {\"color\": \"white\", \"width\": 0.5}}, \"type\": \"bar\"}], \"barpolar\": [{\"marker\": {\"line\": {\"color\": \"white\", \"width\": 0.5}}, \"type\": \"barpolar\"}], \"carpet\": [{\"aaxis\": {\"endlinecolor\": \"#2a3f5f\", \"gridcolor\": \"#C8D4E3\", \"linecolor\": \"#C8D4E3\", \"minorgridcolor\": \"#C8D4E3\", \"startlinecolor\": \"#2a3f5f\"}, \"baxis\": {\"endlinecolor\": \"#2a3f5f\", \"gridcolor\": \"#C8D4E3\", \"linecolor\": \"#C8D4E3\", \"minorgridcolor\": \"#C8D4E3\", \"startlinecolor\": \"#2a3f5f\"}, \"type\": \"carpet\"}], \"choropleth\": [{\"colorbar\": {\"outlinewidth\": 0, \"ticks\": \"\"}, \"type\": \"choropleth\"}], \"contour\": [{\"colorbar\": {\"outlinewidth\": 0, \"ticks\": \"\"}, \"colorscale\": [[0.0, \"#0d0887\"], [0.1111111111111111, \"#46039f\"], [0.2222222222222222, \"#7201a8\"], [0.3333333333333333, \"#9c179e\"], [0.4444444444444444, \"#bd3786\"], [0.5555555555555556, \"#d8576b\"], [0.6666666666666666, \"#ed7953\"], [0.7777777777777778, \"#fb9f3a\"], [0.8888888888888888, \"#fdca26\"], [1.0, \"#f0f921\"]], \"type\": \"contour\"}], \"contourcarpet\": [{\"colorbar\": {\"outlinewidth\": 0, \"ticks\": \"\"}, \"type\": \"contourcarpet\"}], \"heatmap\": [{\"colorbar\": {\"outlinewidth\": 0, \"ticks\": \"\"}, \"colorscale\": [[0.0, \"#0d0887\"], [0.1111111111111111, \"#46039f\"], [0.2222222222222222, \"#7201a8\"], [0.3333333333333333, \"#9c179e\"], [0.4444444444444444, \"#bd3786\"], [0.5555555555555556, \"#d8576b\"], [0.6666666666666666, \"#ed7953\"], [0.7777777777777778, \"#fb9f3a\"], [0.8888888888888888, \"#fdca26\"], [1.0, \"#f0f921\"]], \"type\": \"heatmap\"}], \"heatmapgl\": [{\"colorbar\": {\"outlinewidth\": 0, \"ticks\": \"\"}, \"colorscale\": [[0.0, \"#0d0887\"], [0.1111111111111111, \"#46039f\"], [0.2222222222222222, \"#7201a8\"], [0.3333333333333333, \"#9c179e\"], [0.4444444444444444, \"#bd3786\"], [0.5555555555555556, \"#d8576b\"], [0.6666666666666666, \"#ed7953\"], [0.7777777777777778, \"#fb9f3a\"], [0.8888888888888888, \"#fdca26\"], [1.0, \"#f0f921\"]], \"type\": \"heatmapgl\"}], \"histogram\": [{\"marker\": {\"colorbar\": {\"outlinewidth\": 0, \"ticks\": \"\"}}, \"type\": \"histogram\"}], \"histogram2d\": [{\"colorbar\": {\"outlinewidth\": 0, \"ticks\": \"\"}, \"colorscale\": [[0.0, \"#0d0887\"], [0.1111111111111111, \"#46039f\"], [0.2222222222222222, \"#7201a8\"], [0.3333333333333333, \"#9c179e\"], [0.4444444444444444, \"#bd3786\"], [0.5555555555555556, \"#d8576b\"], [0.6666666666666666, \"#ed7953\"], [0.7777777777777778, \"#fb9f3a\"], [0.8888888888888888, \"#fdca26\"], [1.0, \"#f0f921\"]], \"type\": \"histogram2d\"}], \"histogram2dcontour\": [{\"colorbar\": {\"outlinewidth\": 0, \"ticks\": \"\"}, \"colorscale\": [[0.0, \"#0d0887\"], [0.1111111111111111, \"#46039f\"], [0.2222222222222222, \"#7201a8\"], [0.3333333333333333, \"#9c179e\"], [0.4444444444444444, \"#bd3786\"], [0.5555555555555556, \"#d8576b\"], [0.6666666666666666, \"#ed7953\"], [0.7777777777777778, \"#fb9f3a\"], [0.8888888888888888, \"#fdca26\"], [1.0, \"#f0f921\"]], \"type\": \"histogram2dcontour\"}], \"mesh3d\": [{\"colorbar\": {\"outlinewidth\": 0, \"ticks\": \"\"}, \"type\": \"mesh3d\"}], \"parcoords\": [{\"line\": {\"colorbar\": {\"outlinewidth\": 0, \"ticks\": \"\"}}, \"type\": \"parcoords\"}], \"pie\": [{\"automargin\": true, \"type\": \"pie\"}], \"scatter\": [{\"marker\": {\"colorbar\": {\"outlinewidth\": 0, \"ticks\": \"\"}}, \"type\": \"scatter\"}], \"scatter3d\": [{\"line\": {\"colorbar\": {\"outlinewidth\": 0, \"ticks\": \"\"}}, \"marker\": {\"colorbar\": {\"outlinewidth\": 0, \"ticks\": \"\"}}, \"type\": \"scatter3d\"}], \"scattercarpet\": [{\"marker\": {\"colorbar\": {\"outlinewidth\": 0, \"ticks\": \"\"}}, \"type\": \"scattercarpet\"}], \"scattergeo\": [{\"marker\": {\"colorbar\": {\"outlinewidth\": 0, \"ticks\": \"\"}}, \"type\": \"scattergeo\"}], \"scattergl\": [{\"marker\": {\"colorbar\": {\"outlinewidth\": 0, \"ticks\": \"\"}}, \"type\": \"scattergl\"}], \"scattermapbox\": [{\"marker\": {\"colorbar\": {\"outlinewidth\": 0, \"ticks\": \"\"}}, \"type\": \"scattermapbox\"}], \"scatterpolar\": [{\"marker\": {\"colorbar\": {\"outlinewidth\": 0, \"ticks\": \"\"}}, \"type\": \"scatterpolar\"}], \"scatterpolargl\": [{\"marker\": {\"colorbar\": {\"outlinewidth\": 0, \"ticks\": \"\"}}, \"type\": \"scatterpolargl\"}], \"scatterternary\": [{\"marker\": {\"colorbar\": {\"outlinewidth\": 0, \"ticks\": \"\"}}, \"type\": \"scatterternary\"}], \"surface\": [{\"colorbar\": {\"outlinewidth\": 0, \"ticks\": \"\"}, \"colorscale\": [[0.0, \"#0d0887\"], [0.1111111111111111, \"#46039f\"], [0.2222222222222222, \"#7201a8\"], [0.3333333333333333, \"#9c179e\"], [0.4444444444444444, \"#bd3786\"], [0.5555555555555556, \"#d8576b\"], [0.6666666666666666, \"#ed7953\"], [0.7777777777777778, \"#fb9f3a\"], [0.8888888888888888, \"#fdca26\"], [1.0, \"#f0f921\"]], \"type\": \"surface\"}], \"table\": [{\"cells\": {\"fill\": {\"color\": \"#EBF0F8\"}, \"line\": {\"color\": \"white\"}}, \"header\": {\"fill\": {\"color\": \"#C8D4E3\"}, \"line\": {\"color\": \"white\"}}, \"type\": \"table\"}]}, \"layout\": {\"annotationdefaults\": {\"arrowcolor\": \"#2a3f5f\", \"arrowhead\": 0, \"arrowwidth\": 1}, \"coloraxis\": {\"colorbar\": {\"outlinewidth\": 0, \"ticks\": \"\"}}, \"colorscale\": {\"diverging\": [[0, \"#8e0152\"], [0.1, \"#c51b7d\"], [0.2, \"#de77ae\"], [0.3, \"#f1b6da\"], [0.4, \"#fde0ef\"], [0.5, \"#f7f7f7\"], [0.6, \"#e6f5d0\"], [0.7, \"#b8e186\"], [0.8, \"#7fbc41\"], [0.9, \"#4d9221\"], [1, \"#276419\"]], \"sequential\": [[0.0, \"#0d0887\"], [0.1111111111111111, \"#46039f\"], [0.2222222222222222, \"#7201a8\"], [0.3333333333333333, \"#9c179e\"], [0.4444444444444444, \"#bd3786\"], [0.5555555555555556, \"#d8576b\"], [0.6666666666666666, \"#ed7953\"], [0.7777777777777778, \"#fb9f3a\"], [0.8888888888888888, \"#fdca26\"], [1.0, \"#f0f921\"]], \"sequentialminus\": [[0.0, \"#0d0887\"], [0.1111111111111111, \"#46039f\"], [0.2222222222222222, \"#7201a8\"], [0.3333333333333333, \"#9c179e\"], [0.4444444444444444, \"#bd3786\"], [0.5555555555555556, \"#d8576b\"], [0.6666666666666666, \"#ed7953\"], [0.7777777777777778, \"#fb9f3a\"], [0.8888888888888888, \"#fdca26\"], [1.0, \"#f0f921\"]]}, \"colorway\": [\"#636efa\", \"#EF553B\", \"#00cc96\", \"#ab63fa\", \"#FFA15A\", \"#19d3f3\", \"#FF6692\", \"#B6E880\", \"#FF97FF\", \"#FECB52\"], \"font\": {\"color\": \"#2a3f5f\"}, \"geo\": {\"bgcolor\": \"white\", \"lakecolor\": \"white\", \"landcolor\": \"white\", \"showlakes\": true, \"showland\": true, \"subunitcolor\": \"#C8D4E3\"}, \"hoverlabel\": {\"align\": \"left\"}, \"hovermode\": \"closest\", \"mapbox\": {\"style\": \"light\"}, \"paper_bgcolor\": \"white\", \"plot_bgcolor\": \"white\", \"polar\": {\"angularaxis\": {\"gridcolor\": \"#EBF0F8\", \"linecolor\": \"#EBF0F8\", \"ticks\": \"\"}, \"bgcolor\": \"white\", \"radialaxis\": {\"gridcolor\": \"#EBF0F8\", \"linecolor\": \"#EBF0F8\", \"ticks\": \"\"}}, \"scene\": {\"xaxis\": {\"backgroundcolor\": \"white\", \"gridcolor\": \"#DFE8F3\", \"gridwidth\": 2, \"linecolor\": \"#EBF0F8\", \"showbackground\": true, \"ticks\": \"\", \"zerolinecolor\": \"#EBF0F8\"}, \"yaxis\": {\"backgroundcolor\": \"white\", \"gridcolor\": \"#DFE8F3\", \"gridwidth\": 2, \"linecolor\": \"#EBF0F8\", \"showbackground\": true, \"ticks\": \"\", \"zerolinecolor\": \"#EBF0F8\"}, \"zaxis\": {\"backgroundcolor\": \"white\", \"gridcolor\": \"#DFE8F3\", \"gridwidth\": 2, \"linecolor\": \"#EBF0F8\", \"showbackground\": true, \"ticks\": \"\", \"zerolinecolor\": \"#EBF0F8\"}}, \"shapedefaults\": {\"line\": {\"color\": \"#2a3f5f\"}}, \"ternary\": {\"aaxis\": {\"gridcolor\": \"#DFE8F3\", \"linecolor\": \"#A2B1C6\", \"ticks\": \"\"}, \"baxis\": {\"gridcolor\": \"#DFE8F3\", \"linecolor\": \"#A2B1C6\", \"ticks\": \"\"}, \"bgcolor\": \"white\", \"caxis\": {\"gridcolor\": \"#DFE8F3\", \"linecolor\": \"#A2B1C6\", \"ticks\": \"\"}}, \"title\": {\"x\": 0.05}, \"xaxis\": {\"automargin\": true, \"gridcolor\": \"#EBF0F8\", \"linecolor\": \"#EBF0F8\", \"ticks\": \"\", \"title\": {\"standoff\": 15}, \"zerolinecolor\": \"#EBF0F8\", \"zerolinewidth\": 2}, \"yaxis\": {\"automargin\": true, \"gridcolor\": \"#EBF0F8\", \"linecolor\": \"#EBF0F8\", \"ticks\": \"\", \"title\": {\"standoff\": 15}, \"zerolinecolor\": \"#EBF0F8\", \"zerolinewidth\": 2}}}, \"title\": {\"text\": \"Verbal IQ\"}, \"width\": 480, \"xaxis\": {\"anchor\": \"y\", \"domain\": [0.0, 1.0], \"dtick\": 0.2, \"tickfont\": {\"size\": 20}, \"title\": {\"font\": {\"size\": 20}, \"text\": \"True\"}}, \"yaxis\": {\"anchor\": \"x\", \"domain\": [0.0, 1.0], \"dtick\": 0.2, \"tickfont\": {\"size\": 20}, \"title\": {\"font\": {\"size\": 20}, \"text\": \"Predicted\"}}},\n",
       "                        {\"responsive\": true}\n",
       "                    ).then(function(){\n",
       "                            \n",
       "var gd = document.getElementById('47b83a5b-763d-4dc2-bc9b-dd56b6f72f48');\n",
       "var x = new MutationObserver(function (mutations, observer) {{\n",
       "        var display = window.getComputedStyle(gd).display;\n",
       "        if (!display || display === 'none') {{\n",
       "            console.log([gd, 'removed!']);\n",
       "            Plotly.purge(gd);\n",
       "            observer.disconnect();\n",
       "        }}\n",
       "}});\n",
       "\n",
       "// Listen for the removal of the full notebook cells\n",
       "var notebookContainer = gd.closest('#notebook-container');\n",
       "if (notebookContainer) {{\n",
       "    x.observe(notebookContainer, {childList: true});\n",
       "}}\n",
       "\n",
       "// Listen for the clearing of the current output cell\n",
       "var outputEl = gd.closest('.output');\n",
       "if (outputEl) {{\n",
       "    x.observe(outputEl, {childList: true});\n",
       "}}\n",
       "\n",
       "                        })\n",
       "                };\n",
       "                });\n",
       "            </script>\n",
       "        </div>"
      ]
     },
     "metadata": {},
     "output_type": "display_data"
    },
    {
     "data": {
      "application/vnd.plotly.v1+json": {
       "config": {
        "plotlyServerURL": "https://plot.ly"
       },
       "data": [
        {
         "hovertemplate": "tag=gru<br>true=%{x}<br>predicted=%{y}<extra></extra>",
         "legendgroup": "gru",
         "marker": {
          "color": "#636efa",
          "symbol": "circle"
         },
         "mode": "markers",
         "name": "gru",
         "showlegend": true,
         "type": "scatter",
         "x": [
          0.4166666567325592,
          0.6666666865348816,
          0.2916666567325592,
          0.8333333134651184,
          0.9166666865348816,
          0.625,
          0.875,
          0.625,
          0.4583333432674408,
          0.4166666567325592,
          0.3333333432674408,
          0.5416666865348816,
          0.3333333432674408,
          0.5,
          0.8333333134651184,
          0.5416666865348816,
          0.75,
          0.4166666567325592,
          0.7083333134651184,
          0.625,
          0.6666666865348816,
          0.5416666865348816,
          0.2916666567325592,
          0.5,
          0.3333333432674408,
          0.2083333283662796,
          0.8333333134651184,
          0.7083333134651184,
          0.4166666567325592,
          0.7916666865348816,
          0.4166666567325592,
          0.5416666865348816,
          0.75,
          0.625,
          0.5,
          0.375,
          0.5416666865348816,
          0.7916666865348816,
          0.2916666567325592,
          0.5,
          0.2916666567325592,
          1,
          0.875,
          0.2916666567325592,
          0.5416666865348816,
          0.7083333134651184,
          0.625,
          0.375,
          0.8333333134651184,
          0.1666666716337204,
          0.5833333134651184,
          0.375,
          0.5416666865348816,
          0.7083333134651184,
          0.5,
          0.5416666865348816,
          0.9166666865348816,
          0.7083333134651184,
          0.625,
          0.2083333283662796,
          0.3333333432674408,
          0.5833333134651184,
          0.4583333432674408,
          0.8333333134651184,
          0.5416666865348816,
          0.4166666567325592,
          0.4583333432674408,
          0.2916666567325592,
          0.625,
          0.5,
          0.625,
          0.7083333134651184,
          0.5,
          0.4583333432674408,
          0.4166666567325592,
          0.2083333283662796
         ],
         "xaxis": "x",
         "y": [
          0.40761297941207886,
          0.6492600440979004,
          0.23824429512023926,
          0.36283397674560547,
          0.46654069423675537,
          0.5606423616409302,
          0.46794718503952026,
          0.3535342514514923,
          0.5039741396903992,
          0.42159029841423035,
          0.1728658378124237,
          0.5950556993484497,
          0.5293905735015869,
          0.6020632982254028,
          0.5442074537277222,
          0.5110369920730591,
          0.7909777164459229,
          0.15980032086372375,
          0.6356743574142456,
          0.6710288524627686,
          0.6243930459022522,
          0.6836144328117371,
          0.4768938422203064,
          0.19674399495124817,
          0.39747220277786255,
          0.3550538122653961,
          0.5327717065811157,
          0.43574750423431396,
          0.6108437180519104,
          0.7117494344711304,
          0.5241007804870605,
          0.38109448552131653,
          0.5776875019073486,
          0.605898916721344,
          0.5028191208839417,
          0.23734289407730103,
          0.6617693901062012,
          0.4342237114906311,
          0.6205062866210938,
          0.5067790746688843,
          0.7159802317619324,
          0.5426405668258667,
          0.6600625514984131,
          0.40213948488235474,
          0.4311692714691162,
          0.5387279987335205,
          0.1849292516708374,
          0.45803070068359375,
          0.4899386763572693,
          0.3632933795452118,
          0.5775864124298096,
          0.6951438188552856,
          0.511879563331604,
          0.3826169967651367,
          0.6216802000999451,
          0.31994131207466125,
          0.6627843976020813,
          0.4490703046321869,
          0.6140817403793335,
          0.6256076097488403,
          0.557176947593689,
          0.6304655075073242,
          0.3833129405975342,
          0.3688415586948395,
          0.5984988212585449,
          0.5534054040908813,
          0.35853004455566406,
          0.6930433511734009,
          0.4529123306274414,
          0.44370269775390625,
          0.2963760495185852,
          0.7596850395202637,
          0.5521008968353271,
          0.34738555550575256,
          0.44449108839035034,
          0.7306081056594849
         ],
         "yaxis": "y"
        },
        {
         "hovertemplate": "<b>OLS trendline</b><br>predicted = 0.117922 * true + 0.437122<br>R<sup>2</sup>=0.024837<br><br>tag=gru<br>true=%{x}<br>predicted=%{y} <b>(trend)</b><extra></extra>",
         "legendgroup": "gru",
         "marker": {
          "color": "#636efa",
          "symbol": "circle"
         },
         "mode": "lines",
         "name": "gru",
         "showlegend": false,
         "type": "scatter",
         "x": [
          0.1666666716337204,
          0.2083333283662796,
          0.2083333283662796,
          0.2083333283662796,
          0.2916666567325592,
          0.2916666567325592,
          0.2916666567325592,
          0.2916666567325592,
          0.2916666567325592,
          0.2916666567325592,
          0.3333333432674408,
          0.3333333432674408,
          0.3333333432674408,
          0.3333333432674408,
          0.375,
          0.375,
          0.375,
          0.4166666567325592,
          0.4166666567325592,
          0.4166666567325592,
          0.4166666567325592,
          0.4166666567325592,
          0.4166666567325592,
          0.4166666567325592,
          0.4583333432674408,
          0.4583333432674408,
          0.4583333432674408,
          0.4583333432674408,
          0.5,
          0.5,
          0.5,
          0.5,
          0.5,
          0.5,
          0.5,
          0.5416666865348816,
          0.5416666865348816,
          0.5416666865348816,
          0.5416666865348816,
          0.5416666865348816,
          0.5416666865348816,
          0.5416666865348816,
          0.5416666865348816,
          0.5416666865348816,
          0.5833333134651184,
          0.5833333134651184,
          0.625,
          0.625,
          0.625,
          0.625,
          0.625,
          0.625,
          0.625,
          0.625,
          0.6666666865348816,
          0.6666666865348816,
          0.7083333134651184,
          0.7083333134651184,
          0.7083333134651184,
          0.7083333134651184,
          0.7083333134651184,
          0.7083333134651184,
          0.75,
          0.75,
          0.7916666865348816,
          0.7916666865348816,
          0.8333333134651184,
          0.8333333134651184,
          0.8333333134651184,
          0.8333333134651184,
          0.8333333134651184,
          0.875,
          0.875,
          0.9166666865348816,
          0.9166666865348816,
          1
         ],
         "xaxis": "x",
         "y": [
          0.4567758591952824,
          0.46168929093792266,
          0.46168929093792266,
          0.46168929093792266,
          0.47151615618038384,
          0.47151615618038384,
          0.47151615618038384,
          0.47151615618038384,
          0.47151615618038384,
          0.47151615618038384,
          0.4764295914373852,
          0.4764295914373852,
          0.4764295914373852,
          0.4764295914373852,
          0.48134302318002553,
          0.48134302318002553,
          0.48134302318002553,
          0.48625645492266584,
          0.48625645492266584,
          0.48625645492266584,
          0.48625645492266584,
          0.48625645492266584,
          0.48625645492266584,
          0.48625645492266584,
          0.4911698901796672,
          0.4911698901796672,
          0.4911698901796672,
          0.4911698901796672,
          0.49608332192230753,
          0.49608332192230753,
          0.49608332192230753,
          0.49608332192230753,
          0.49608332192230753,
          0.49608332192230753,
          0.49608332192230753,
          0.5009967571793089,
          0.5009967571793089,
          0.5009967571793089,
          0.5009967571793089,
          0.5009967571793089,
          0.5009967571793089,
          0.5009967571793089,
          0.5009967571793089,
          0.5009967571793089,
          0.5059101854075881,
          0.5059101854075881,
          0.5108236206645895,
          0.5108236206645895,
          0.5108236206645895,
          0.5108236206645895,
          0.5108236206645895,
          0.5108236206645895,
          0.5108236206645895,
          0.5108236206645895,
          0.5157370559215909,
          0.5157370559215909,
          0.5206504841498701,
          0.5206504841498701,
          0.5206504841498701,
          0.5206504841498701,
          0.5206504841498701,
          0.5206504841498701,
          0.5255639194068715,
          0.5255639194068715,
          0.5304773546638729,
          0.5304773546638729,
          0.5353907828921521,
          0.5353907828921521,
          0.5353907828921521,
          0.5353907828921521,
          0.5353907828921521,
          0.5403042181491535,
          0.5403042181491535,
          0.5452176534061549,
          0.5452176534061549,
          0.5550445168914355
         ],
         "yaxis": "y"
        },
        {
         "hovertemplate": "tag=ff<br>true=%{x}<br>predicted=%{y}<extra></extra>",
         "legendgroup": "ff",
         "marker": {
          "color": "#EF553B",
          "symbol": "circle"
         },
         "mode": "markers",
         "name": "ff",
         "showlegend": true,
         "type": "scatter",
         "x": [
          0.4166666567325592,
          0.6666666865348816,
          0.2916666567325592,
          0.8333333134651184,
          0.9166666865348816,
          0.625,
          0.875,
          0.625,
          0.4583333432674408,
          0.4166666567325592,
          0.3333333432674408,
          0.5416666865348816,
          0.3333333432674408,
          0.5,
          0.8333333134651184,
          0.5416666865348816,
          0.75,
          0.4166666567325592,
          0.7083333134651184,
          0.625,
          0.6666666865348816,
          0.5416666865348816,
          0.2916666567325592,
          0.5,
          0.3333333432674408,
          0.2083333283662796,
          0.8333333134651184,
          0.7083333134651184,
          0.4166666567325592,
          0.7916666865348816,
          0.4166666567325592,
          0.5416666865348816,
          0.75,
          0.625,
          0.5,
          0.375,
          0.5416666865348816,
          0.7916666865348816,
          0.2916666567325592,
          0.5,
          0.2916666567325592,
          1,
          0.875,
          0.2916666567325592,
          0.5416666865348816,
          0.7083333134651184,
          0.625,
          0.375,
          0.8333333134651184,
          0.1666666716337204,
          0.5833333134651184,
          0.375,
          0.5416666865348816,
          0.7083333134651184,
          0.5,
          0.5416666865348816,
          0.9166666865348816,
          0.7083333134651184,
          0.625,
          0.2083333283662796,
          0.3333333432674408,
          0.5833333134651184,
          0.4583333432674408,
          0.8333333134651184,
          0.5416666865348816,
          0.4166666567325592,
          0.4583333432674408,
          0.2916666567325592,
          0.625,
          0.5,
          0.625,
          0.7083333134651184,
          0.5,
          0.4583333432674408,
          0.4166666567325592,
          0.2083333283662796
         ],
         "xaxis": "x",
         "y": [
          0.42163312435150146,
          0.4621308743953705,
          0.5965685844421387,
          0.18450263142585754,
          0.5832155346870422,
          0.5751844644546509,
          0.45078736543655396,
          0.45606815814971924,
          0.31101784110069275,
          0.36361241340637207,
          0.16975030303001404,
          0.40565910935401917,
          0.5280010104179382,
          0.4319843053817749,
          0.5700609087944031,
          0.5871368646621704,
          0.5427144765853882,
          0.38531896471977234,
          0.600962221622467,
          0.57414311170578,
          0.5122312307357788,
          0.35467758774757385,
          0.5149601101875305,
          0.6271058917045593,
          0.4274137020111084,
          0.13042610883712769,
          0.5402349829673767,
          0.6019309163093567,
          0.7500725388526917,
          0.4846174418926239,
          0.4236213266849518,
          0.3961876630783081,
          0.3731354773044586,
          0.5216208696365356,
          0.7982368469238281,
          0.5092911124229431,
          0.4994746148586273,
          0.4964344799518585,
          0.590067982673645,
          0.161781907081604,
          0.36005261540412903,
          0.5045304298400879,
          0.5988092422485352,
          0.36368727684020996,
          0.5452893376350403,
          0.3724204897880554,
          0.3265441656112671,
          0.44381195306777954,
          0.2765510380268097,
          0.35512080788612366,
          0.3888588845729828,
          0.1513238549232483,
          0.689875602722168,
          0.7248200178146362,
          0.49412664771080017,
          0.3884492516517639,
          0.5850346684455872,
          0.1682492196559906,
          0.7023257613182068,
          0.12991070747375488,
          0.5567606091499329,
          0.37973135709762573,
          0.8325457572937012,
          0.5972434878349304,
          0.6285744905471802,
          0.56352698802948,
          0.40404632687568665,
          0.3666398525238037,
          0.5720797777175903,
          0.29112422466278076,
          0.5618034601211548,
          0.6393470764160156,
          0.32704728841781616,
          0.48740413784980774,
          0.5112829804420471,
          0.5601445436477661
         ],
         "yaxis": "y"
        },
        {
         "hovertemplate": "<b>OLS trendline</b><br>predicted = 0.173336 * true + 0.375441<br>R<sup>2</sup>=0.048334<br><br>tag=ff<br>true=%{x}<br>predicted=%{y} <b>(trend)</b><extra></extra>",
         "legendgroup": "ff",
         "marker": {
          "color": "#EF553B",
          "symbol": "circle"
         },
         "mode": "lines",
         "name": "ff",
         "showlegend": false,
         "type": "scatter",
         "x": [
          0.1666666716337204,
          0.2083333283662796,
          0.2083333283662796,
          0.2083333283662796,
          0.2916666567325592,
          0.2916666567325592,
          0.2916666567325592,
          0.2916666567325592,
          0.2916666567325592,
          0.2916666567325592,
          0.3333333432674408,
          0.3333333432674408,
          0.3333333432674408,
          0.3333333432674408,
          0.375,
          0.375,
          0.375,
          0.4166666567325592,
          0.4166666567325592,
          0.4166666567325592,
          0.4166666567325592,
          0.4166666567325592,
          0.4166666567325592,
          0.4166666567325592,
          0.4583333432674408,
          0.4583333432674408,
          0.4583333432674408,
          0.4583333432674408,
          0.5,
          0.5,
          0.5,
          0.5,
          0.5,
          0.5,
          0.5,
          0.5416666865348816,
          0.5416666865348816,
          0.5416666865348816,
          0.5416666865348816,
          0.5416666865348816,
          0.5416666865348816,
          0.5416666865348816,
          0.5416666865348816,
          0.5416666865348816,
          0.5833333134651184,
          0.5833333134651184,
          0.625,
          0.625,
          0.625,
          0.625,
          0.625,
          0.625,
          0.625,
          0.625,
          0.6666666865348816,
          0.6666666865348816,
          0.7083333134651184,
          0.7083333134651184,
          0.7083333134651184,
          0.7083333134651184,
          0.7083333134651184,
          0.7083333134651184,
          0.75,
          0.75,
          0.7916666865348816,
          0.7916666865348816,
          0.8333333134651184,
          0.8333333134651184,
          0.8333333134651184,
          0.8333333134651184,
          0.8333333134651184,
          0.875,
          0.875,
          0.9166666865348816,
          0.9166666865348816,
          1
         ],
         "xaxis": "x",
         "y": [
          0.4043302990275871,
          0.41155263121387164,
          0.41155263121387164,
          0.41155263121387164,
          0.4259972981693486,
          0.4259972981693486,
          0.4259972981693486,
          0.4259972981693486,
          0.4259972981693486,
          0.4259972981693486,
          0.43321963552144893,
          0.43321963552144893,
          0.43321963552144893,
          0.43321963552144893,
          0.4404419677077335,
          0.4404419677077335,
          0.4404419677077335,
          0.447664299894018,
          0.447664299894018,
          0.447664299894018,
          0.447664299894018,
          0.447664299894018,
          0.447664299894018,
          0.447664299894018,
          0.45488663724611833,
          0.45488663724611833,
          0.45488663724611833,
          0.45488663724611833,
          0.46210896943240287,
          0.46210896943240287,
          0.46210896943240287,
          0.46210896943240287,
          0.46210896943240287,
          0.46210896943240287,
          0.46210896943240287,
          0.4693313067845032,
          0.4693313067845032,
          0.4693313067845032,
          0.4693313067845032,
          0.4693313067845032,
          0.4693313067845032,
          0.4693313067845032,
          0.4693313067845032,
          0.4693313067845032,
          0.47655363380497195,
          0.47655363380497195,
          0.48377597115707227,
          0.48377597115707227,
          0.48377597115707227,
          0.48377597115707227,
          0.48377597115707227,
          0.48377597115707227,
          0.48377597115707227,
          0.48377597115707227,
          0.4909983085091726,
          0.4909983085091726,
          0.49822063552964135,
          0.49822063552964135,
          0.49822063552964135,
          0.49822063552964135,
          0.49822063552964135,
          0.49822063552964135,
          0.5054429728817417,
          0.5054429728817417,
          0.512665310233842,
          0.512665310233842,
          0.5198876372543108,
          0.5198876372543108,
          0.5198876372543108,
          0.5198876372543108,
          0.5198876372543108,
          0.5271099746064111,
          0.5271099746064111,
          0.5343323119585114,
          0.5343323119585114,
          0.5487769763310805
         ],
         "yaxis": "y"
        },
        {
         "hovertemplate": "tag=tcn<br>true=%{x}<br>predicted=%{y}<extra></extra>",
         "legendgroup": "tcn",
         "marker": {
          "color": "#00cc96",
          "symbol": "circle"
         },
         "mode": "markers",
         "name": "tcn",
         "showlegend": true,
         "type": "scatter",
         "x": [
          0.4166666567325592,
          0.6666666865348816,
          0.2916666567325592,
          0.8333333134651184,
          0.9166666865348816,
          0.625,
          0.875,
          0.625,
          0.4583333432674408,
          0.4166666567325592,
          0.3333333432674408,
          0.5416666865348816,
          0.3333333432674408,
          0.5,
          0.8333333134651184,
          0.5416666865348816,
          0.75,
          0.4166666567325592,
          0.7083333134651184,
          0.625,
          0.6666666865348816,
          0.5416666865348816,
          0.2916666567325592,
          0.5,
          0.3333333432674408,
          0.2083333283662796,
          0.8333333134651184,
          0.7083333134651184,
          0.4166666567325592,
          0.7916666865348816,
          0.4166666567325592,
          0.5416666865348816,
          0.75,
          0.625,
          0.5,
          0.375,
          0.5416666865348816,
          0.7916666865348816,
          0.2916666567325592,
          0.5,
          0.2916666567325592,
          1,
          0.875,
          0.2916666567325592,
          0.5416666865348816,
          0.7083333134651184,
          0.625,
          0.375,
          0.8333333134651184,
          0.1666666716337204,
          0.5833333134651184,
          0.375,
          0.5416666865348816,
          0.7083333134651184,
          0.5,
          0.5416666865348816,
          0.9166666865348816,
          0.7083333134651184,
          0.625,
          0.2083333283662796,
          0.3333333432674408,
          0.5833333134651184,
          0.4583333432674408,
          0.8333333134651184,
          0.5416666865348816,
          0.4166666567325592,
          0.4583333432674408,
          0.2916666567325592,
          0.625,
          0.5,
          0.625,
          0.7083333134651184,
          0.5,
          0.4583333432674408,
          0.4166666567325592,
          0.2083333283662796
         ],
         "xaxis": "x",
         "y": [
          0.5337427854537964,
          0.4631415009498596,
          0.22461974620819092,
          0.6717754006385803,
          0.4858909845352173,
          0.564948320388794,
          0.4508638381958008,
          0.32930976152420044,
          0.6923831105232239,
          0.6550648212432861,
          0.567067563533783,
          0.6776613593101501,
          0.3270180821418762,
          0.40635305643081665,
          0.6734550595283508,
          0.5137563347816467,
          0.622769296169281,
          0.6658796072006226,
          0.7381567358970642,
          0.5750399827957153,
          0.7295189499855042,
          0.660954475402832,
          0.4284942150115967,
          0.7977665662765503,
          0.6718140244483948,
          0.5038763284683228,
          0.5761390328407288,
          0.7124793529510498,
          0.5211113095283508,
          0.5314063429832458,
          0.6312963366508484,
          0.7284222841262817,
          0.9563664197921753,
          0.576459527015686,
          0.4461418390274048,
          0.5980674624443054,
          0.4806058406829834,
          0.7561862468719482,
          0.7306526899337769,
          0.77296382188797,
          0.4497809410095215,
          0.4926995038986206,
          0.5393213033676147,
          0.43466728925704956,
          0.614397406578064,
          0.7504206299781799,
          0.608020544052124,
          0.6535483002662659,
          0.43852245807647705,
          0.46442341804504395,
          0.34586793184280396,
          0.4375608563423157,
          0.6477856636047363,
          0.6848934292793274,
          0.5617251396179199,
          0.3460233211517334,
          0.8714818954467773,
          0.4984052777290344,
          0.567789614200592,
          0.7243920564651489,
          0.5861143469810486,
          0.3528176546096802,
          0.6577638387680054,
          0.5439621806144714,
          0.44732218980789185,
          0.5143547058105469,
          0.6121406555175781,
          0.6146076321601868,
          0.6011278629302979,
          0.695305347442627,
          0.32636958360671997,
          0.5232503414154053,
          0.2338593751192093,
          0.5841628313064575,
          0.5608365535736084,
          0.4160115122795105
         ],
         "yaxis": "y"
        },
        {
         "hovertemplate": "<b>OLS trendline</b><br>predicted = 0.130368 * true + 0.49492<br>R<sup>2</sup>=0.032306<br><br>tag=tcn<br>true=%{x}<br>predicted=%{y} <b>(trend)</b><extra></extra>",
         "legendgroup": "tcn",
         "marker": {
          "color": "#00cc96",
          "symbol": "circle"
         },
         "mode": "lines",
         "name": "tcn",
         "showlegend": false,
         "type": "scatter",
         "x": [
          0.1666666716337204,
          0.2083333283662796,
          0.2083333283662796,
          0.2083333283662796,
          0.2916666567325592,
          0.2916666567325592,
          0.2916666567325592,
          0.2916666567325592,
          0.2916666567325592,
          0.2916666567325592,
          0.3333333432674408,
          0.3333333432674408,
          0.3333333432674408,
          0.3333333432674408,
          0.375,
          0.375,
          0.375,
          0.4166666567325592,
          0.4166666567325592,
          0.4166666567325592,
          0.4166666567325592,
          0.4166666567325592,
          0.4166666567325592,
          0.4166666567325592,
          0.4583333432674408,
          0.4583333432674408,
          0.4583333432674408,
          0.4583333432674408,
          0.5,
          0.5,
          0.5,
          0.5,
          0.5,
          0.5,
          0.5,
          0.5416666865348816,
          0.5416666865348816,
          0.5416666865348816,
          0.5416666865348816,
          0.5416666865348816,
          0.5416666865348816,
          0.5416666865348816,
          0.5416666865348816,
          0.5416666865348816,
          0.5833333134651184,
          0.5833333134651184,
          0.625,
          0.625,
          0.625,
          0.625,
          0.625,
          0.625,
          0.625,
          0.625,
          0.6666666865348816,
          0.6666666865348816,
          0.7083333134651184,
          0.7083333134651184,
          0.7083333134651184,
          0.7083333134651184,
          0.7083333134651184,
          0.7083333134651184,
          0.75,
          0.75,
          0.7916666865348816,
          0.7916666865348816,
          0.8333333134651184,
          0.8333333134651184,
          0.8333333134651184,
          0.8333333134651184,
          0.8333333134651184,
          0.875,
          0.875,
          0.9166666865348816,
          0.9166666865348816,
          1
         ],
         "xaxis": "x",
         "y": [
          0.5166480658009421,
          0.5220800602832777,
          0.5220800602832777,
          0.5220800602832777,
          0.5329440511905819,
          0.5329440511905819,
          0.5329440511905819,
          0.5329440511905819,
          0.5329440511905819,
          0.5329440511905819,
          0.5383760495581835,
          0.5383760495581835,
          0.5383760495581835,
          0.5383760495581835,
          0.5438080440405191,
          0.5438080440405191,
          0.5438080440405191,
          0.5492400385228546,
          0.5492400385228546,
          0.5492400385228546,
          0.5492400385228546,
          0.5492400385228546,
          0.5492400385228546,
          0.5492400385228546,
          0.5546720368904563,
          0.5546720368904563,
          0.5546720368904563,
          0.5546720368904563,
          0.5601040313727919,
          0.5601040313727919,
          0.5601040313727919,
          0.5601040313727919,
          0.5601040313727919,
          0.5601040313727919,
          0.5601040313727919,
          0.5655360297403935,
          0.5655360297403935,
          0.5655360297403935,
          0.5655360297403935,
          0.5655360297403935,
          0.5655360297403935,
          0.5655360297403935,
          0.5655360297403935,
          0.5655360297403935,
          0.570968020337463,
          0.570968020337463,
          0.5764000187050646,
          0.5764000187050646,
          0.5764000187050646,
          0.5764000187050646,
          0.5764000187050646,
          0.5764000187050646,
          0.5764000187050646,
          0.5764000187050646,
          0.5818320170726663,
          0.5818320170726663,
          0.5872640076697357,
          0.5872640076697357,
          0.5872640076697357,
          0.5872640076697357,
          0.5872640076697357,
          0.5872640076697357,
          0.5926960060373374,
          0.5926960060373374,
          0.5981280044049392,
          0.5981280044049392,
          0.6035599950020085,
          0.6035599950020085,
          0.6035599950020085,
          0.6035599950020085,
          0.6035599950020085,
          0.6089919933696102,
          0.6089919933696102,
          0.614423991737212,
          0.614423991737212,
          0.625287980701883
         ],
         "yaxis": "y"
        },
        {
         "hovertemplate": "tag=cpm<br>true=%{x}<br>predicted=%{y}<extra></extra>",
         "legendgroup": "cpm",
         "marker": {
          "color": "#ab63fa",
          "symbol": "circle"
         },
         "mode": "markers",
         "name": "cpm",
         "showlegend": true,
         "type": "scatter",
         "x": [
          0.4166666666666667,
          0.6666666666666666,
          0.2916666666666667,
          0.8333333333333334,
          0.9166666666666666,
          0.625,
          0.875,
          0.625,
          0.4583333333333333,
          0.4166666666666667,
          0.3333333333333333,
          0.5416666666666666,
          0.3333333333333333,
          0.5,
          0.8333333333333334,
          0.5416666666666666,
          0.75,
          0.4166666666666667,
          0.7083333333333334,
          0.625,
          0.6666666666666666,
          0.5416666666666666,
          0.2916666666666667,
          0.5,
          0.3333333333333333,
          0.20833333333333334,
          0.8333333333333334,
          0.7083333333333334,
          0.4166666666666667,
          0.7916666666666666,
          0.4166666666666667,
          0.5416666666666666,
          0.75,
          0.625,
          0.5,
          0.375,
          0.5416666666666666,
          0.7916666666666666,
          0.2916666666666667,
          0.5,
          0.2916666666666667,
          1,
          0.875,
          0.2916666666666667,
          0.5416666666666666,
          0.7083333333333334,
          0.625,
          0.375,
          0.8333333333333334,
          0.16666666666666666,
          0.5833333333333334,
          0.375,
          0.5416666666666666,
          0.7083333333333334,
          0.5,
          0.5416666666666666,
          0.9166666666666666,
          0.7083333333333334,
          0.625,
          0.20833333333333334,
          0.3333333333333333,
          0.5833333333333334,
          0.4583333333333333,
          0.8333333333333334,
          0.5416666666666666,
          0.4166666666666667,
          0.4583333333333333,
          0.2916666666666667,
          0.625,
          0.5,
          0.625,
          0.7083333333333334,
          0.5,
          0.4583333333333333,
          0.4166666666666667,
          0.20833333333333334
         ],
         "xaxis": "x",
         "y": [
          0.3716471164413827,
          0.5011447720328269,
          0.4391141182918606,
          0.447424693742731,
          0.4198655004163392,
          0.4370524232044404,
          0.3702145226466215,
          0.41415226385542847,
          0.5690163687731462,
          0.5706262381034193,
          0.4447256432838105,
          0.48323910120087354,
          0.37969766389911436,
          0.49734438367906586,
          0.4745399132105341,
          0.5162483831757745,
          0.36490620586716266,
          0.5340526451791185,
          0.491295359045601,
          0.5909709799092554,
          0.48432074300871386,
          0.39495738517863843,
          0.4784187982745914,
          0.4331863423240202,
          0.5028757985225651,
          0.47470435601151273,
          0.529575964980997,
          0.48898427327652827,
          0.47606492144441587,
          0.3829313928167513,
          0.37911979686889535,
          0.5424922012655293,
          0.43880715326508535,
          0.42706843452370935,
          0.33948541772137236,
          0.44710586921613765,
          0.4768174172995083,
          0.3656715743003454,
          0.47101891707764465,
          0.4648613327553397,
          0.47432727272280517,
          0.5600312931208161,
          0.5114786122240881,
          0.4057783405996324,
          0.3998558280558091,
          0.5162262523441417,
          0.4062687299289559,
          0.4163838460583712,
          0.3689255841953868,
          0.5112710787525124,
          0.4762197278115865,
          0.5051983259780247,
          0.45340950389660895,
          0.46699042326293205,
          0.3600336428749067,
          0.457256832632453,
          0.5155614797441541,
          0.4222644449627736,
          0.5133534617078883,
          0.44595685544980296,
          0.49431980795527797,
          0.5597942856488928,
          0.5189237459280696,
          0.4761004500395181,
          0.5967743951258111,
          0.46143116873537693,
          0.3942952979141636,
          0.40716964441370357,
          0.4587626056081646,
          0.4368213173218657,
          0.5113652333259722,
          0.34463295338611943,
          0.5164740600292628,
          0.4016295626847579,
          0.5218818420318304,
          0.48374011999302835
         ],
         "yaxis": "y"
        },
        {
         "hovertemplate": "<b>OLS trendline</b><br>predicted = -0.00853559 * true + 0.466351<br>R<sup>2</sup>=0.000754<br><br>tag=cpm<br>true=%{x}<br>predicted=%{y} <b>(trend)</b><extra></extra>",
         "legendgroup": "cpm",
         "marker": {
          "color": "#ab63fa",
          "symbol": "circle"
         },
         "mode": "lines",
         "name": "cpm",
         "showlegend": false,
         "type": "scatter",
         "x": [
          0.16666666666666666,
          0.20833333333333334,
          0.20833333333333334,
          0.20833333333333334,
          0.2916666666666667,
          0.2916666666666667,
          0.2916666666666667,
          0.2916666666666667,
          0.2916666666666667,
          0.2916666666666667,
          0.3333333333333333,
          0.3333333333333333,
          0.3333333333333333,
          0.3333333333333333,
          0.375,
          0.375,
          0.375,
          0.4166666666666667,
          0.4166666666666667,
          0.4166666666666667,
          0.4166666666666667,
          0.4166666666666667,
          0.4166666666666667,
          0.4166666666666667,
          0.4583333333333333,
          0.4583333333333333,
          0.4583333333333333,
          0.4583333333333333,
          0.5,
          0.5,
          0.5,
          0.5,
          0.5,
          0.5,
          0.5,
          0.5416666666666666,
          0.5416666666666666,
          0.5416666666666666,
          0.5416666666666666,
          0.5416666666666666,
          0.5416666666666666,
          0.5416666666666666,
          0.5416666666666666,
          0.5416666666666666,
          0.5833333333333334,
          0.5833333333333334,
          0.625,
          0.625,
          0.625,
          0.625,
          0.625,
          0.625,
          0.625,
          0.625,
          0.6666666666666666,
          0.6666666666666666,
          0.7083333333333334,
          0.7083333333333334,
          0.7083333333333334,
          0.7083333333333334,
          0.7083333333333334,
          0.7083333333333334,
          0.75,
          0.75,
          0.7916666666666666,
          0.7916666666666666,
          0.8333333333333334,
          0.8333333333333334,
          0.8333333333333334,
          0.8333333333333334,
          0.8333333333333334,
          0.875,
          0.875,
          0.9166666666666666,
          0.9166666666666666,
          1
         ],
         "xaxis": "x",
         "y": [
          0.4649281860390438,
          0.4645725365033034,
          0.4645725365033034,
          0.4645725365033034,
          0.46386123743182256,
          0.46386123743182256,
          0.46386123743182256,
          0.46386123743182256,
          0.46386123743182256,
          0.46386123743182256,
          0.46350558789608215,
          0.46350558789608215,
          0.46350558789608215,
          0.46350558789608215,
          0.4631499383603418,
          0.4631499383603418,
          0.4631499383603418,
          0.4627942888246014,
          0.4627942888246014,
          0.4627942888246014,
          0.4627942888246014,
          0.4627942888246014,
          0.4627942888246014,
          0.4627942888246014,
          0.462438639288861,
          0.462438639288861,
          0.462438639288861,
          0.462438639288861,
          0.46208298975312057,
          0.46208298975312057,
          0.46208298975312057,
          0.46208298975312057,
          0.46208298975312057,
          0.46208298975312057,
          0.46208298975312057,
          0.46172734021738016,
          0.46172734021738016,
          0.46172734021738016,
          0.46172734021738016,
          0.46172734021738016,
          0.46172734021738016,
          0.46172734021738016,
          0.46172734021738016,
          0.46172734021738016,
          0.46137169068163975,
          0.46137169068163975,
          0.4610160411458994,
          0.4610160411458994,
          0.4610160411458994,
          0.4610160411458994,
          0.4610160411458994,
          0.4610160411458994,
          0.4610160411458994,
          0.4610160411458994,
          0.460660391610159,
          0.460660391610159,
          0.46030474207441857,
          0.46030474207441857,
          0.46030474207441857,
          0.46030474207441857,
          0.46030474207441857,
          0.46030474207441857,
          0.45994909253867816,
          0.45994909253867816,
          0.45959344300293775,
          0.45959344300293775,
          0.4592377934671974,
          0.4592377934671974,
          0.4592377934671974,
          0.4592377934671974,
          0.4592377934671974,
          0.458882143931457,
          0.458882143931457,
          0.4585264943957166,
          0.4585264943957166,
          0.45781519532423576
         ],
         "yaxis": "y"
        }
       ],
       "layout": {
        "font": {
         "color": "black"
        },
        "height": 400,
        "legend": {
         "font": {
          "size": 20
         },
         "title": {
          "text": "tag"
         },
         "tracegroupgap": 0
        },
        "margin": {
         "t": 60
        },
        "template": {
         "data": {
          "bar": [
           {
            "error_x": {
             "color": "#2a3f5f"
            },
            "error_y": {
             "color": "#2a3f5f"
            },
            "marker": {
             "line": {
              "color": "white",
              "width": 0.5
             }
            },
            "type": "bar"
           }
          ],
          "barpolar": [
           {
            "marker": {
             "line": {
              "color": "white",
              "width": 0.5
             }
            },
            "type": "barpolar"
           }
          ],
          "carpet": [
           {
            "aaxis": {
             "endlinecolor": "#2a3f5f",
             "gridcolor": "#C8D4E3",
             "linecolor": "#C8D4E3",
             "minorgridcolor": "#C8D4E3",
             "startlinecolor": "#2a3f5f"
            },
            "baxis": {
             "endlinecolor": "#2a3f5f",
             "gridcolor": "#C8D4E3",
             "linecolor": "#C8D4E3",
             "minorgridcolor": "#C8D4E3",
             "startlinecolor": "#2a3f5f"
            },
            "type": "carpet"
           }
          ],
          "choropleth": [
           {
            "colorbar": {
             "outlinewidth": 0,
             "ticks": ""
            },
            "type": "choropleth"
           }
          ],
          "contour": [
           {
            "colorbar": {
             "outlinewidth": 0,
             "ticks": ""
            },
            "colorscale": [
             [
              0,
              "#0d0887"
             ],
             [
              0.1111111111111111,
              "#46039f"
             ],
             [
              0.2222222222222222,
              "#7201a8"
             ],
             [
              0.3333333333333333,
              "#9c179e"
             ],
             [
              0.4444444444444444,
              "#bd3786"
             ],
             [
              0.5555555555555556,
              "#d8576b"
             ],
             [
              0.6666666666666666,
              "#ed7953"
             ],
             [
              0.7777777777777778,
              "#fb9f3a"
             ],
             [
              0.8888888888888888,
              "#fdca26"
             ],
             [
              1,
              "#f0f921"
             ]
            ],
            "type": "contour"
           }
          ],
          "contourcarpet": [
           {
            "colorbar": {
             "outlinewidth": 0,
             "ticks": ""
            },
            "type": "contourcarpet"
           }
          ],
          "heatmap": [
           {
            "colorbar": {
             "outlinewidth": 0,
             "ticks": ""
            },
            "colorscale": [
             [
              0,
              "#0d0887"
             ],
             [
              0.1111111111111111,
              "#46039f"
             ],
             [
              0.2222222222222222,
              "#7201a8"
             ],
             [
              0.3333333333333333,
              "#9c179e"
             ],
             [
              0.4444444444444444,
              "#bd3786"
             ],
             [
              0.5555555555555556,
              "#d8576b"
             ],
             [
              0.6666666666666666,
              "#ed7953"
             ],
             [
              0.7777777777777778,
              "#fb9f3a"
             ],
             [
              0.8888888888888888,
              "#fdca26"
             ],
             [
              1,
              "#f0f921"
             ]
            ],
            "type": "heatmap"
           }
          ],
          "heatmapgl": [
           {
            "colorbar": {
             "outlinewidth": 0,
             "ticks": ""
            },
            "colorscale": [
             [
              0,
              "#0d0887"
             ],
             [
              0.1111111111111111,
              "#46039f"
             ],
             [
              0.2222222222222222,
              "#7201a8"
             ],
             [
              0.3333333333333333,
              "#9c179e"
             ],
             [
              0.4444444444444444,
              "#bd3786"
             ],
             [
              0.5555555555555556,
              "#d8576b"
             ],
             [
              0.6666666666666666,
              "#ed7953"
             ],
             [
              0.7777777777777778,
              "#fb9f3a"
             ],
             [
              0.8888888888888888,
              "#fdca26"
             ],
             [
              1,
              "#f0f921"
             ]
            ],
            "type": "heatmapgl"
           }
          ],
          "histogram": [
           {
            "marker": {
             "colorbar": {
              "outlinewidth": 0,
              "ticks": ""
             }
            },
            "type": "histogram"
           }
          ],
          "histogram2d": [
           {
            "colorbar": {
             "outlinewidth": 0,
             "ticks": ""
            },
            "colorscale": [
             [
              0,
              "#0d0887"
             ],
             [
              0.1111111111111111,
              "#46039f"
             ],
             [
              0.2222222222222222,
              "#7201a8"
             ],
             [
              0.3333333333333333,
              "#9c179e"
             ],
             [
              0.4444444444444444,
              "#bd3786"
             ],
             [
              0.5555555555555556,
              "#d8576b"
             ],
             [
              0.6666666666666666,
              "#ed7953"
             ],
             [
              0.7777777777777778,
              "#fb9f3a"
             ],
             [
              0.8888888888888888,
              "#fdca26"
             ],
             [
              1,
              "#f0f921"
             ]
            ],
            "type": "histogram2d"
           }
          ],
          "histogram2dcontour": [
           {
            "colorbar": {
             "outlinewidth": 0,
             "ticks": ""
            },
            "colorscale": [
             [
              0,
              "#0d0887"
             ],
             [
              0.1111111111111111,
              "#46039f"
             ],
             [
              0.2222222222222222,
              "#7201a8"
             ],
             [
              0.3333333333333333,
              "#9c179e"
             ],
             [
              0.4444444444444444,
              "#bd3786"
             ],
             [
              0.5555555555555556,
              "#d8576b"
             ],
             [
              0.6666666666666666,
              "#ed7953"
             ],
             [
              0.7777777777777778,
              "#fb9f3a"
             ],
             [
              0.8888888888888888,
              "#fdca26"
             ],
             [
              1,
              "#f0f921"
             ]
            ],
            "type": "histogram2dcontour"
           }
          ],
          "mesh3d": [
           {
            "colorbar": {
             "outlinewidth": 0,
             "ticks": ""
            },
            "type": "mesh3d"
           }
          ],
          "parcoords": [
           {
            "line": {
             "colorbar": {
              "outlinewidth": 0,
              "ticks": ""
             }
            },
            "type": "parcoords"
           }
          ],
          "pie": [
           {
            "automargin": true,
            "type": "pie"
           }
          ],
          "scatter": [
           {
            "marker": {
             "colorbar": {
              "outlinewidth": 0,
              "ticks": ""
             }
            },
            "type": "scatter"
           }
          ],
          "scatter3d": [
           {
            "line": {
             "colorbar": {
              "outlinewidth": 0,
              "ticks": ""
             }
            },
            "marker": {
             "colorbar": {
              "outlinewidth": 0,
              "ticks": ""
             }
            },
            "type": "scatter3d"
           }
          ],
          "scattercarpet": [
           {
            "marker": {
             "colorbar": {
              "outlinewidth": 0,
              "ticks": ""
             }
            },
            "type": "scattercarpet"
           }
          ],
          "scattergeo": [
           {
            "marker": {
             "colorbar": {
              "outlinewidth": 0,
              "ticks": ""
             }
            },
            "type": "scattergeo"
           }
          ],
          "scattergl": [
           {
            "marker": {
             "colorbar": {
              "outlinewidth": 0,
              "ticks": ""
             }
            },
            "type": "scattergl"
           }
          ],
          "scattermapbox": [
           {
            "marker": {
             "colorbar": {
              "outlinewidth": 0,
              "ticks": ""
             }
            },
            "type": "scattermapbox"
           }
          ],
          "scatterpolar": [
           {
            "marker": {
             "colorbar": {
              "outlinewidth": 0,
              "ticks": ""
             }
            },
            "type": "scatterpolar"
           }
          ],
          "scatterpolargl": [
           {
            "marker": {
             "colorbar": {
              "outlinewidth": 0,
              "ticks": ""
             }
            },
            "type": "scatterpolargl"
           }
          ],
          "scatterternary": [
           {
            "marker": {
             "colorbar": {
              "outlinewidth": 0,
              "ticks": ""
             }
            },
            "type": "scatterternary"
           }
          ],
          "surface": [
           {
            "colorbar": {
             "outlinewidth": 0,
             "ticks": ""
            },
            "colorscale": [
             [
              0,
              "#0d0887"
             ],
             [
              0.1111111111111111,
              "#46039f"
             ],
             [
              0.2222222222222222,
              "#7201a8"
             ],
             [
              0.3333333333333333,
              "#9c179e"
             ],
             [
              0.4444444444444444,
              "#bd3786"
             ],
             [
              0.5555555555555556,
              "#d8576b"
             ],
             [
              0.6666666666666666,
              "#ed7953"
             ],
             [
              0.7777777777777778,
              "#fb9f3a"
             ],
             [
              0.8888888888888888,
              "#fdca26"
             ],
             [
              1,
              "#f0f921"
             ]
            ],
            "type": "surface"
           }
          ],
          "table": [
           {
            "cells": {
             "fill": {
              "color": "#EBF0F8"
             },
             "line": {
              "color": "white"
             }
            },
            "header": {
             "fill": {
              "color": "#C8D4E3"
             },
             "line": {
              "color": "white"
             }
            },
            "type": "table"
           }
          ]
         },
         "layout": {
          "annotationdefaults": {
           "arrowcolor": "#2a3f5f",
           "arrowhead": 0,
           "arrowwidth": 1
          },
          "coloraxis": {
           "colorbar": {
            "outlinewidth": 0,
            "ticks": ""
           }
          },
          "colorscale": {
           "diverging": [
            [
             0,
             "#8e0152"
            ],
            [
             0.1,
             "#c51b7d"
            ],
            [
             0.2,
             "#de77ae"
            ],
            [
             0.3,
             "#f1b6da"
            ],
            [
             0.4,
             "#fde0ef"
            ],
            [
             0.5,
             "#f7f7f7"
            ],
            [
             0.6,
             "#e6f5d0"
            ],
            [
             0.7,
             "#b8e186"
            ],
            [
             0.8,
             "#7fbc41"
            ],
            [
             0.9,
             "#4d9221"
            ],
            [
             1,
             "#276419"
            ]
           ],
           "sequential": [
            [
             0,
             "#0d0887"
            ],
            [
             0.1111111111111111,
             "#46039f"
            ],
            [
             0.2222222222222222,
             "#7201a8"
            ],
            [
             0.3333333333333333,
             "#9c179e"
            ],
            [
             0.4444444444444444,
             "#bd3786"
            ],
            [
             0.5555555555555556,
             "#d8576b"
            ],
            [
             0.6666666666666666,
             "#ed7953"
            ],
            [
             0.7777777777777778,
             "#fb9f3a"
            ],
            [
             0.8888888888888888,
             "#fdca26"
            ],
            [
             1,
             "#f0f921"
            ]
           ],
           "sequentialminus": [
            [
             0,
             "#0d0887"
            ],
            [
             0.1111111111111111,
             "#46039f"
            ],
            [
             0.2222222222222222,
             "#7201a8"
            ],
            [
             0.3333333333333333,
             "#9c179e"
            ],
            [
             0.4444444444444444,
             "#bd3786"
            ],
            [
             0.5555555555555556,
             "#d8576b"
            ],
            [
             0.6666666666666666,
             "#ed7953"
            ],
            [
             0.7777777777777778,
             "#fb9f3a"
            ],
            [
             0.8888888888888888,
             "#fdca26"
            ],
            [
             1,
             "#f0f921"
            ]
           ]
          },
          "colorway": [
           "#636efa",
           "#EF553B",
           "#00cc96",
           "#ab63fa",
           "#FFA15A",
           "#19d3f3",
           "#FF6692",
           "#B6E880",
           "#FF97FF",
           "#FECB52"
          ],
          "font": {
           "color": "#2a3f5f"
          },
          "geo": {
           "bgcolor": "white",
           "lakecolor": "white",
           "landcolor": "white",
           "showlakes": true,
           "showland": true,
           "subunitcolor": "#C8D4E3"
          },
          "hoverlabel": {
           "align": "left"
          },
          "hovermode": "closest",
          "mapbox": {
           "style": "light"
          },
          "paper_bgcolor": "white",
          "plot_bgcolor": "white",
          "polar": {
           "angularaxis": {
            "gridcolor": "#EBF0F8",
            "linecolor": "#EBF0F8",
            "ticks": ""
           },
           "bgcolor": "white",
           "radialaxis": {
            "gridcolor": "#EBF0F8",
            "linecolor": "#EBF0F8",
            "ticks": ""
           }
          },
          "scene": {
           "xaxis": {
            "backgroundcolor": "white",
            "gridcolor": "#DFE8F3",
            "gridwidth": 2,
            "linecolor": "#EBF0F8",
            "showbackground": true,
            "ticks": "",
            "zerolinecolor": "#EBF0F8"
           },
           "yaxis": {
            "backgroundcolor": "white",
            "gridcolor": "#DFE8F3",
            "gridwidth": 2,
            "linecolor": "#EBF0F8",
            "showbackground": true,
            "ticks": "",
            "zerolinecolor": "#EBF0F8"
           },
           "zaxis": {
            "backgroundcolor": "white",
            "gridcolor": "#DFE8F3",
            "gridwidth": 2,
            "linecolor": "#EBF0F8",
            "showbackground": true,
            "ticks": "",
            "zerolinecolor": "#EBF0F8"
           }
          },
          "shapedefaults": {
           "line": {
            "color": "#2a3f5f"
           }
          },
          "ternary": {
           "aaxis": {
            "gridcolor": "#DFE8F3",
            "linecolor": "#A2B1C6",
            "ticks": ""
           },
           "baxis": {
            "gridcolor": "#DFE8F3",
            "linecolor": "#A2B1C6",
            "ticks": ""
           },
           "bgcolor": "white",
           "caxis": {
            "gridcolor": "#DFE8F3",
            "linecolor": "#A2B1C6",
            "ticks": ""
           }
          },
          "title": {
           "x": 0.05
          },
          "xaxis": {
           "automargin": true,
           "gridcolor": "#EBF0F8",
           "linecolor": "#EBF0F8",
           "ticks": "",
           "title": {
            "standoff": 15
           },
           "zerolinecolor": "#EBF0F8",
           "zerolinewidth": 2
          },
          "yaxis": {
           "automargin": true,
           "gridcolor": "#EBF0F8",
           "linecolor": "#EBF0F8",
           "ticks": "",
           "title": {
            "standoff": 15
           },
           "zerolinecolor": "#EBF0F8",
           "zerolinewidth": 2
          }
         }
        },
        "title": {
         "text": "NEOFAC_A"
        },
        "width": 480,
        "xaxis": {
         "anchor": "y",
         "domain": [
          0,
          1
         ],
         "dtick": 0.2,
         "tickfont": {
          "size": 20
         },
         "title": {
          "font": {
           "size": 20
          },
          "text": "True"
         }
        },
        "yaxis": {
         "anchor": "x",
         "domain": [
          0,
          1
         ],
         "dtick": 0.2,
         "tickfont": {
          "size": 20
         },
         "title": {
          "font": {
           "size": 20
          },
          "text": "Predicted"
         }
        }
       }
      },
      "text/html": [
       "<div>\n",
       "        \n",
       "        \n",
       "            <div id=\"3085f086-e61f-4d40-a28b-46fb52f8d40e\" class=\"plotly-graph-div\" style=\"height:400px; width:480px;\"></div>\n",
       "            <script type=\"text/javascript\">\n",
       "                require([\"plotly\"], function(Plotly) {\n",
       "                    window.PLOTLYENV=window.PLOTLYENV || {};\n",
       "                    \n",
       "                if (document.getElementById(\"3085f086-e61f-4d40-a28b-46fb52f8d40e\")) {\n",
       "                    Plotly.newPlot(\n",
       "                        '3085f086-e61f-4d40-a28b-46fb52f8d40e',\n",
       "                        [{\"hovertemplate\": \"tag=gru<br>true=%{x}<br>predicted=%{y}<extra></extra>\", \"legendgroup\": \"gru\", \"marker\": {\"color\": \"#636efa\", \"symbol\": \"circle\"}, \"mode\": \"markers\", \"name\": \"gru\", \"showlegend\": true, \"type\": \"scatter\", \"x\": [0.4166666567325592, 0.6666666865348816, 0.2916666567325592, 0.8333333134651184, 0.9166666865348816, 0.625, 0.875, 0.625, 0.4583333432674408, 0.4166666567325592, 0.3333333432674408, 0.5416666865348816, 0.3333333432674408, 0.5, 0.8333333134651184, 0.5416666865348816, 0.75, 0.4166666567325592, 0.7083333134651184, 0.625, 0.6666666865348816, 0.5416666865348816, 0.2916666567325592, 0.5, 0.3333333432674408, 0.2083333283662796, 0.8333333134651184, 0.7083333134651184, 0.4166666567325592, 0.7916666865348816, 0.4166666567325592, 0.5416666865348816, 0.75, 0.625, 0.5, 0.375, 0.5416666865348816, 0.7916666865348816, 0.2916666567325592, 0.5, 0.2916666567325592, 1.0, 0.875, 0.2916666567325592, 0.5416666865348816, 0.7083333134651184, 0.625, 0.375, 0.8333333134651184, 0.1666666716337204, 0.5833333134651184, 0.375, 0.5416666865348816, 0.7083333134651184, 0.5, 0.5416666865348816, 0.9166666865348816, 0.7083333134651184, 0.625, 0.2083333283662796, 0.3333333432674408, 0.5833333134651184, 0.4583333432674408, 0.8333333134651184, 0.5416666865348816, 0.4166666567325592, 0.4583333432674408, 0.2916666567325592, 0.625, 0.5, 0.625, 0.7083333134651184, 0.5, 0.4583333432674408, 0.4166666567325592, 0.2083333283662796], \"xaxis\": \"x\", \"y\": [0.40761297941207886, 0.6492600440979004, 0.23824429512023926, 0.36283397674560547, 0.46654069423675537, 0.5606423616409302, 0.46794718503952026, 0.3535342514514923, 0.5039741396903992, 0.42159029841423035, 0.1728658378124237, 0.5950556993484497, 0.5293905735015869, 0.6020632982254028, 0.5442074537277222, 0.5110369920730591, 0.7909777164459229, 0.15980032086372375, 0.6356743574142456, 0.6710288524627686, 0.6243930459022522, 0.6836144328117371, 0.4768938422203064, 0.19674399495124817, 0.39747220277786255, 0.3550538122653961, 0.5327717065811157, 0.43574750423431396, 0.6108437180519104, 0.7117494344711304, 0.5241007804870605, 0.38109448552131653, 0.5776875019073486, 0.605898916721344, 0.5028191208839417, 0.23734289407730103, 0.6617693901062012, 0.4342237114906311, 0.6205062866210938, 0.5067790746688843, 0.7159802317619324, 0.5426405668258667, 0.6600625514984131, 0.40213948488235474, 0.4311692714691162, 0.5387279987335205, 0.1849292516708374, 0.45803070068359375, 0.4899386763572693, 0.3632933795452118, 0.5775864124298096, 0.6951438188552856, 0.511879563331604, 0.3826169967651367, 0.6216802000999451, 0.31994131207466125, 0.6627843976020813, 0.4490703046321869, 0.6140817403793335, 0.6256076097488403, 0.557176947593689, 0.6304655075073242, 0.3833129405975342, 0.3688415586948395, 0.5984988212585449, 0.5534054040908813, 0.35853004455566406, 0.6930433511734009, 0.4529123306274414, 0.44370269775390625, 0.2963760495185852, 0.7596850395202637, 0.5521008968353271, 0.34738555550575256, 0.44449108839035034, 0.7306081056594849], \"yaxis\": \"y\"}, {\"hovertemplate\": \"<b>OLS trendline</b><br>predicted = 0.117922 * true + 0.437122<br>R<sup>2</sup>=0.024837<br><br>tag=gru<br>true=%{x}<br>predicted=%{y} <b>(trend)</b><extra></extra>\", \"legendgroup\": \"gru\", \"marker\": {\"color\": \"#636efa\", \"symbol\": \"circle\"}, \"mode\": \"lines\", \"name\": \"gru\", \"showlegend\": false, \"type\": \"scatter\", \"x\": [0.1666666716337204, 0.2083333283662796, 0.2083333283662796, 0.2083333283662796, 0.2916666567325592, 0.2916666567325592, 0.2916666567325592, 0.2916666567325592, 0.2916666567325592, 0.2916666567325592, 0.3333333432674408, 0.3333333432674408, 0.3333333432674408, 0.3333333432674408, 0.375, 0.375, 0.375, 0.4166666567325592, 0.4166666567325592, 0.4166666567325592, 0.4166666567325592, 0.4166666567325592, 0.4166666567325592, 0.4166666567325592, 0.4583333432674408, 0.4583333432674408, 0.4583333432674408, 0.4583333432674408, 0.5, 0.5, 0.5, 0.5, 0.5, 0.5, 0.5, 0.5416666865348816, 0.5416666865348816, 0.5416666865348816, 0.5416666865348816, 0.5416666865348816, 0.5416666865348816, 0.5416666865348816, 0.5416666865348816, 0.5416666865348816, 0.5833333134651184, 0.5833333134651184, 0.625, 0.625, 0.625, 0.625, 0.625, 0.625, 0.625, 0.625, 0.6666666865348816, 0.6666666865348816, 0.7083333134651184, 0.7083333134651184, 0.7083333134651184, 0.7083333134651184, 0.7083333134651184, 0.7083333134651184, 0.75, 0.75, 0.7916666865348816, 0.7916666865348816, 0.8333333134651184, 0.8333333134651184, 0.8333333134651184, 0.8333333134651184, 0.8333333134651184, 0.875, 0.875, 0.9166666865348816, 0.9166666865348816, 1.0], \"xaxis\": \"x\", \"y\": [0.4567758591952824, 0.46168929093792266, 0.46168929093792266, 0.46168929093792266, 0.47151615618038384, 0.47151615618038384, 0.47151615618038384, 0.47151615618038384, 0.47151615618038384, 0.47151615618038384, 0.4764295914373852, 0.4764295914373852, 0.4764295914373852, 0.4764295914373852, 0.48134302318002553, 0.48134302318002553, 0.48134302318002553, 0.48625645492266584, 0.48625645492266584, 0.48625645492266584, 0.48625645492266584, 0.48625645492266584, 0.48625645492266584, 0.48625645492266584, 0.4911698901796672, 0.4911698901796672, 0.4911698901796672, 0.4911698901796672, 0.49608332192230753, 0.49608332192230753, 0.49608332192230753, 0.49608332192230753, 0.49608332192230753, 0.49608332192230753, 0.49608332192230753, 0.5009967571793089, 0.5009967571793089, 0.5009967571793089, 0.5009967571793089, 0.5009967571793089, 0.5009967571793089, 0.5009967571793089, 0.5009967571793089, 0.5009967571793089, 0.5059101854075881, 0.5059101854075881, 0.5108236206645895, 0.5108236206645895, 0.5108236206645895, 0.5108236206645895, 0.5108236206645895, 0.5108236206645895, 0.5108236206645895, 0.5108236206645895, 0.5157370559215909, 0.5157370559215909, 0.5206504841498701, 0.5206504841498701, 0.5206504841498701, 0.5206504841498701, 0.5206504841498701, 0.5206504841498701, 0.5255639194068715, 0.5255639194068715, 0.5304773546638729, 0.5304773546638729, 0.5353907828921521, 0.5353907828921521, 0.5353907828921521, 0.5353907828921521, 0.5353907828921521, 0.5403042181491535, 0.5403042181491535, 0.5452176534061549, 0.5452176534061549, 0.5550445168914355], \"yaxis\": \"y\"}, {\"hovertemplate\": \"tag=ff<br>true=%{x}<br>predicted=%{y}<extra></extra>\", \"legendgroup\": \"ff\", \"marker\": {\"color\": \"#EF553B\", \"symbol\": \"circle\"}, \"mode\": \"markers\", \"name\": \"ff\", \"showlegend\": true, \"type\": \"scatter\", \"x\": [0.4166666567325592, 0.6666666865348816, 0.2916666567325592, 0.8333333134651184, 0.9166666865348816, 0.625, 0.875, 0.625, 0.4583333432674408, 0.4166666567325592, 0.3333333432674408, 0.5416666865348816, 0.3333333432674408, 0.5, 0.8333333134651184, 0.5416666865348816, 0.75, 0.4166666567325592, 0.7083333134651184, 0.625, 0.6666666865348816, 0.5416666865348816, 0.2916666567325592, 0.5, 0.3333333432674408, 0.2083333283662796, 0.8333333134651184, 0.7083333134651184, 0.4166666567325592, 0.7916666865348816, 0.4166666567325592, 0.5416666865348816, 0.75, 0.625, 0.5, 0.375, 0.5416666865348816, 0.7916666865348816, 0.2916666567325592, 0.5, 0.2916666567325592, 1.0, 0.875, 0.2916666567325592, 0.5416666865348816, 0.7083333134651184, 0.625, 0.375, 0.8333333134651184, 0.1666666716337204, 0.5833333134651184, 0.375, 0.5416666865348816, 0.7083333134651184, 0.5, 0.5416666865348816, 0.9166666865348816, 0.7083333134651184, 0.625, 0.2083333283662796, 0.3333333432674408, 0.5833333134651184, 0.4583333432674408, 0.8333333134651184, 0.5416666865348816, 0.4166666567325592, 0.4583333432674408, 0.2916666567325592, 0.625, 0.5, 0.625, 0.7083333134651184, 0.5, 0.4583333432674408, 0.4166666567325592, 0.2083333283662796], \"xaxis\": \"x\", \"y\": [0.42163312435150146, 0.4621308743953705, 0.5965685844421387, 0.18450263142585754, 0.5832155346870422, 0.5751844644546509, 0.45078736543655396, 0.45606815814971924, 0.31101784110069275, 0.36361241340637207, 0.16975030303001404, 0.40565910935401917, 0.5280010104179382, 0.4319843053817749, 0.5700609087944031, 0.5871368646621704, 0.5427144765853882, 0.38531896471977234, 0.600962221622467, 0.57414311170578, 0.5122312307357788, 0.35467758774757385, 0.5149601101875305, 0.6271058917045593, 0.4274137020111084, 0.13042610883712769, 0.5402349829673767, 0.6019309163093567, 0.7500725388526917, 0.4846174418926239, 0.4236213266849518, 0.3961876630783081, 0.3731354773044586, 0.5216208696365356, 0.7982368469238281, 0.5092911124229431, 0.4994746148586273, 0.4964344799518585, 0.590067982673645, 0.161781907081604, 0.36005261540412903, 0.5045304298400879, 0.5988092422485352, 0.36368727684020996, 0.5452893376350403, 0.3724204897880554, 0.3265441656112671, 0.44381195306777954, 0.2765510380268097, 0.35512080788612366, 0.3888588845729828, 0.1513238549232483, 0.689875602722168, 0.7248200178146362, 0.49412664771080017, 0.3884492516517639, 0.5850346684455872, 0.1682492196559906, 0.7023257613182068, 0.12991070747375488, 0.5567606091499329, 0.37973135709762573, 0.8325457572937012, 0.5972434878349304, 0.6285744905471802, 0.56352698802948, 0.40404632687568665, 0.3666398525238037, 0.5720797777175903, 0.29112422466278076, 0.5618034601211548, 0.6393470764160156, 0.32704728841781616, 0.48740413784980774, 0.5112829804420471, 0.5601445436477661], \"yaxis\": \"y\"}, {\"hovertemplate\": \"<b>OLS trendline</b><br>predicted = 0.173336 * true + 0.375441<br>R<sup>2</sup>=0.048334<br><br>tag=ff<br>true=%{x}<br>predicted=%{y} <b>(trend)</b><extra></extra>\", \"legendgroup\": \"ff\", \"marker\": {\"color\": \"#EF553B\", \"symbol\": \"circle\"}, \"mode\": \"lines\", \"name\": \"ff\", \"showlegend\": false, \"type\": \"scatter\", \"x\": [0.1666666716337204, 0.2083333283662796, 0.2083333283662796, 0.2083333283662796, 0.2916666567325592, 0.2916666567325592, 0.2916666567325592, 0.2916666567325592, 0.2916666567325592, 0.2916666567325592, 0.3333333432674408, 0.3333333432674408, 0.3333333432674408, 0.3333333432674408, 0.375, 0.375, 0.375, 0.4166666567325592, 0.4166666567325592, 0.4166666567325592, 0.4166666567325592, 0.4166666567325592, 0.4166666567325592, 0.4166666567325592, 0.4583333432674408, 0.4583333432674408, 0.4583333432674408, 0.4583333432674408, 0.5, 0.5, 0.5, 0.5, 0.5, 0.5, 0.5, 0.5416666865348816, 0.5416666865348816, 0.5416666865348816, 0.5416666865348816, 0.5416666865348816, 0.5416666865348816, 0.5416666865348816, 0.5416666865348816, 0.5416666865348816, 0.5833333134651184, 0.5833333134651184, 0.625, 0.625, 0.625, 0.625, 0.625, 0.625, 0.625, 0.625, 0.6666666865348816, 0.6666666865348816, 0.7083333134651184, 0.7083333134651184, 0.7083333134651184, 0.7083333134651184, 0.7083333134651184, 0.7083333134651184, 0.75, 0.75, 0.7916666865348816, 0.7916666865348816, 0.8333333134651184, 0.8333333134651184, 0.8333333134651184, 0.8333333134651184, 0.8333333134651184, 0.875, 0.875, 0.9166666865348816, 0.9166666865348816, 1.0], \"xaxis\": \"x\", \"y\": [0.4043302990275871, 0.41155263121387164, 0.41155263121387164, 0.41155263121387164, 0.4259972981693486, 0.4259972981693486, 0.4259972981693486, 0.4259972981693486, 0.4259972981693486, 0.4259972981693486, 0.43321963552144893, 0.43321963552144893, 0.43321963552144893, 0.43321963552144893, 0.4404419677077335, 0.4404419677077335, 0.4404419677077335, 0.447664299894018, 0.447664299894018, 0.447664299894018, 0.447664299894018, 0.447664299894018, 0.447664299894018, 0.447664299894018, 0.45488663724611833, 0.45488663724611833, 0.45488663724611833, 0.45488663724611833, 0.46210896943240287, 0.46210896943240287, 0.46210896943240287, 0.46210896943240287, 0.46210896943240287, 0.46210896943240287, 0.46210896943240287, 0.4693313067845032, 0.4693313067845032, 0.4693313067845032, 0.4693313067845032, 0.4693313067845032, 0.4693313067845032, 0.4693313067845032, 0.4693313067845032, 0.4693313067845032, 0.47655363380497195, 0.47655363380497195, 0.48377597115707227, 0.48377597115707227, 0.48377597115707227, 0.48377597115707227, 0.48377597115707227, 0.48377597115707227, 0.48377597115707227, 0.48377597115707227, 0.4909983085091726, 0.4909983085091726, 0.49822063552964135, 0.49822063552964135, 0.49822063552964135, 0.49822063552964135, 0.49822063552964135, 0.49822063552964135, 0.5054429728817417, 0.5054429728817417, 0.512665310233842, 0.512665310233842, 0.5198876372543108, 0.5198876372543108, 0.5198876372543108, 0.5198876372543108, 0.5198876372543108, 0.5271099746064111, 0.5271099746064111, 0.5343323119585114, 0.5343323119585114, 0.5487769763310805], \"yaxis\": \"y\"}, {\"hovertemplate\": \"tag=tcn<br>true=%{x}<br>predicted=%{y}<extra></extra>\", \"legendgroup\": \"tcn\", \"marker\": {\"color\": \"#00cc96\", \"symbol\": \"circle\"}, \"mode\": \"markers\", \"name\": \"tcn\", \"showlegend\": true, \"type\": \"scatter\", \"x\": [0.4166666567325592, 0.6666666865348816, 0.2916666567325592, 0.8333333134651184, 0.9166666865348816, 0.625, 0.875, 0.625, 0.4583333432674408, 0.4166666567325592, 0.3333333432674408, 0.5416666865348816, 0.3333333432674408, 0.5, 0.8333333134651184, 0.5416666865348816, 0.75, 0.4166666567325592, 0.7083333134651184, 0.625, 0.6666666865348816, 0.5416666865348816, 0.2916666567325592, 0.5, 0.3333333432674408, 0.2083333283662796, 0.8333333134651184, 0.7083333134651184, 0.4166666567325592, 0.7916666865348816, 0.4166666567325592, 0.5416666865348816, 0.75, 0.625, 0.5, 0.375, 0.5416666865348816, 0.7916666865348816, 0.2916666567325592, 0.5, 0.2916666567325592, 1.0, 0.875, 0.2916666567325592, 0.5416666865348816, 0.7083333134651184, 0.625, 0.375, 0.8333333134651184, 0.1666666716337204, 0.5833333134651184, 0.375, 0.5416666865348816, 0.7083333134651184, 0.5, 0.5416666865348816, 0.9166666865348816, 0.7083333134651184, 0.625, 0.2083333283662796, 0.3333333432674408, 0.5833333134651184, 0.4583333432674408, 0.8333333134651184, 0.5416666865348816, 0.4166666567325592, 0.4583333432674408, 0.2916666567325592, 0.625, 0.5, 0.625, 0.7083333134651184, 0.5, 0.4583333432674408, 0.4166666567325592, 0.2083333283662796], \"xaxis\": \"x\", \"y\": [0.5337427854537964, 0.4631415009498596, 0.22461974620819092, 0.6717754006385803, 0.4858909845352173, 0.564948320388794, 0.4508638381958008, 0.32930976152420044, 0.6923831105232239, 0.6550648212432861, 0.567067563533783, 0.6776613593101501, 0.3270180821418762, 0.40635305643081665, 0.6734550595283508, 0.5137563347816467, 0.622769296169281, 0.6658796072006226, 0.7381567358970642, 0.5750399827957153, 0.7295189499855042, 0.660954475402832, 0.4284942150115967, 0.7977665662765503, 0.6718140244483948, 0.5038763284683228, 0.5761390328407288, 0.7124793529510498, 0.5211113095283508, 0.5314063429832458, 0.6312963366508484, 0.7284222841262817, 0.9563664197921753, 0.576459527015686, 0.4461418390274048, 0.5980674624443054, 0.4806058406829834, 0.7561862468719482, 0.7306526899337769, 0.77296382188797, 0.4497809410095215, 0.4926995038986206, 0.5393213033676147, 0.43466728925704956, 0.614397406578064, 0.7504206299781799, 0.608020544052124, 0.6535483002662659, 0.43852245807647705, 0.46442341804504395, 0.34586793184280396, 0.4375608563423157, 0.6477856636047363, 0.6848934292793274, 0.5617251396179199, 0.3460233211517334, 0.8714818954467773, 0.4984052777290344, 0.567789614200592, 0.7243920564651489, 0.5861143469810486, 0.3528176546096802, 0.6577638387680054, 0.5439621806144714, 0.44732218980789185, 0.5143547058105469, 0.6121406555175781, 0.6146076321601868, 0.6011278629302979, 0.695305347442627, 0.32636958360671997, 0.5232503414154053, 0.2338593751192093, 0.5841628313064575, 0.5608365535736084, 0.4160115122795105], \"yaxis\": \"y\"}, {\"hovertemplate\": \"<b>OLS trendline</b><br>predicted = 0.130368 * true + 0.49492<br>R<sup>2</sup>=0.032306<br><br>tag=tcn<br>true=%{x}<br>predicted=%{y} <b>(trend)</b><extra></extra>\", \"legendgroup\": \"tcn\", \"marker\": {\"color\": \"#00cc96\", \"symbol\": \"circle\"}, \"mode\": \"lines\", \"name\": \"tcn\", \"showlegend\": false, \"type\": \"scatter\", \"x\": [0.1666666716337204, 0.2083333283662796, 0.2083333283662796, 0.2083333283662796, 0.2916666567325592, 0.2916666567325592, 0.2916666567325592, 0.2916666567325592, 0.2916666567325592, 0.2916666567325592, 0.3333333432674408, 0.3333333432674408, 0.3333333432674408, 0.3333333432674408, 0.375, 0.375, 0.375, 0.4166666567325592, 0.4166666567325592, 0.4166666567325592, 0.4166666567325592, 0.4166666567325592, 0.4166666567325592, 0.4166666567325592, 0.4583333432674408, 0.4583333432674408, 0.4583333432674408, 0.4583333432674408, 0.5, 0.5, 0.5, 0.5, 0.5, 0.5, 0.5, 0.5416666865348816, 0.5416666865348816, 0.5416666865348816, 0.5416666865348816, 0.5416666865348816, 0.5416666865348816, 0.5416666865348816, 0.5416666865348816, 0.5416666865348816, 0.5833333134651184, 0.5833333134651184, 0.625, 0.625, 0.625, 0.625, 0.625, 0.625, 0.625, 0.625, 0.6666666865348816, 0.6666666865348816, 0.7083333134651184, 0.7083333134651184, 0.7083333134651184, 0.7083333134651184, 0.7083333134651184, 0.7083333134651184, 0.75, 0.75, 0.7916666865348816, 0.7916666865348816, 0.8333333134651184, 0.8333333134651184, 0.8333333134651184, 0.8333333134651184, 0.8333333134651184, 0.875, 0.875, 0.9166666865348816, 0.9166666865348816, 1.0], \"xaxis\": \"x\", \"y\": [0.5166480658009421, 0.5220800602832777, 0.5220800602832777, 0.5220800602832777, 0.5329440511905819, 0.5329440511905819, 0.5329440511905819, 0.5329440511905819, 0.5329440511905819, 0.5329440511905819, 0.5383760495581835, 0.5383760495581835, 0.5383760495581835, 0.5383760495581835, 0.5438080440405191, 0.5438080440405191, 0.5438080440405191, 0.5492400385228546, 0.5492400385228546, 0.5492400385228546, 0.5492400385228546, 0.5492400385228546, 0.5492400385228546, 0.5492400385228546, 0.5546720368904563, 0.5546720368904563, 0.5546720368904563, 0.5546720368904563, 0.5601040313727919, 0.5601040313727919, 0.5601040313727919, 0.5601040313727919, 0.5601040313727919, 0.5601040313727919, 0.5601040313727919, 0.5655360297403935, 0.5655360297403935, 0.5655360297403935, 0.5655360297403935, 0.5655360297403935, 0.5655360297403935, 0.5655360297403935, 0.5655360297403935, 0.5655360297403935, 0.570968020337463, 0.570968020337463, 0.5764000187050646, 0.5764000187050646, 0.5764000187050646, 0.5764000187050646, 0.5764000187050646, 0.5764000187050646, 0.5764000187050646, 0.5764000187050646, 0.5818320170726663, 0.5818320170726663, 0.5872640076697357, 0.5872640076697357, 0.5872640076697357, 0.5872640076697357, 0.5872640076697357, 0.5872640076697357, 0.5926960060373374, 0.5926960060373374, 0.5981280044049392, 0.5981280044049392, 0.6035599950020085, 0.6035599950020085, 0.6035599950020085, 0.6035599950020085, 0.6035599950020085, 0.6089919933696102, 0.6089919933696102, 0.614423991737212, 0.614423991737212, 0.625287980701883], \"yaxis\": \"y\"}, {\"hovertemplate\": \"tag=cpm<br>true=%{x}<br>predicted=%{y}<extra></extra>\", \"legendgroup\": \"cpm\", \"marker\": {\"color\": \"#ab63fa\", \"symbol\": \"circle\"}, \"mode\": \"markers\", \"name\": \"cpm\", \"showlegend\": true, \"type\": \"scatter\", \"x\": [0.4166666666666667, 0.6666666666666666, 0.2916666666666667, 0.8333333333333334, 0.9166666666666666, 0.625, 0.875, 0.625, 0.4583333333333333, 0.4166666666666667, 0.3333333333333333, 0.5416666666666666, 0.3333333333333333, 0.5, 0.8333333333333334, 0.5416666666666666, 0.75, 0.4166666666666667, 0.7083333333333334, 0.625, 0.6666666666666666, 0.5416666666666666, 0.2916666666666667, 0.5, 0.3333333333333333, 0.20833333333333334, 0.8333333333333334, 0.7083333333333334, 0.4166666666666667, 0.7916666666666666, 0.4166666666666667, 0.5416666666666666, 0.75, 0.625, 0.5, 0.375, 0.5416666666666666, 0.7916666666666666, 0.2916666666666667, 0.5, 0.2916666666666667, 1.0, 0.875, 0.2916666666666667, 0.5416666666666666, 0.7083333333333334, 0.625, 0.375, 0.8333333333333334, 0.16666666666666666, 0.5833333333333334, 0.375, 0.5416666666666666, 0.7083333333333334, 0.5, 0.5416666666666666, 0.9166666666666666, 0.7083333333333334, 0.625, 0.20833333333333334, 0.3333333333333333, 0.5833333333333334, 0.4583333333333333, 0.8333333333333334, 0.5416666666666666, 0.4166666666666667, 0.4583333333333333, 0.2916666666666667, 0.625, 0.5, 0.625, 0.7083333333333334, 0.5, 0.4583333333333333, 0.4166666666666667, 0.20833333333333334], \"xaxis\": \"x\", \"y\": [0.3716471164413827, 0.5011447720328269, 0.4391141182918606, 0.447424693742731, 0.4198655004163392, 0.4370524232044404, 0.3702145226466215, 0.41415226385542847, 0.5690163687731462, 0.5706262381034193, 0.4447256432838105, 0.48323910120087354, 0.37969766389911436, 0.49734438367906586, 0.4745399132105341, 0.5162483831757745, 0.36490620586716266, 0.5340526451791185, 0.491295359045601, 0.5909709799092554, 0.48432074300871386, 0.39495738517863843, 0.4784187982745914, 0.4331863423240202, 0.5028757985225651, 0.47470435601151273, 0.529575964980997, 0.48898427327652827, 0.47606492144441587, 0.3829313928167513, 0.37911979686889535, 0.5424922012655293, 0.43880715326508535, 0.42706843452370935, 0.33948541772137236, 0.44710586921613765, 0.4768174172995083, 0.3656715743003454, 0.47101891707764465, 0.4648613327553397, 0.47432727272280517, 0.5600312931208161, 0.5114786122240881, 0.4057783405996324, 0.3998558280558091, 0.5162262523441417, 0.4062687299289559, 0.4163838460583712, 0.3689255841953868, 0.5112710787525124, 0.4762197278115865, 0.5051983259780247, 0.45340950389660895, 0.46699042326293205, 0.3600336428749067, 0.457256832632453, 0.5155614797441541, 0.4222644449627736, 0.5133534617078883, 0.44595685544980296, 0.49431980795527797, 0.5597942856488928, 0.5189237459280696, 0.4761004500395181, 0.5967743951258111, 0.46143116873537693, 0.3942952979141636, 0.40716964441370357, 0.4587626056081646, 0.4368213173218657, 0.5113652333259722, 0.34463295338611943, 0.5164740600292628, 0.4016295626847579, 0.5218818420318304, 0.48374011999302835], \"yaxis\": \"y\"}, {\"hovertemplate\": \"<b>OLS trendline</b><br>predicted = -0.00853559 * true + 0.466351<br>R<sup>2</sup>=0.000754<br><br>tag=cpm<br>true=%{x}<br>predicted=%{y} <b>(trend)</b><extra></extra>\", \"legendgroup\": \"cpm\", \"marker\": {\"color\": \"#ab63fa\", \"symbol\": \"circle\"}, \"mode\": \"lines\", \"name\": \"cpm\", \"showlegend\": false, \"type\": \"scatter\", \"x\": [0.16666666666666666, 0.20833333333333334, 0.20833333333333334, 0.20833333333333334, 0.2916666666666667, 0.2916666666666667, 0.2916666666666667, 0.2916666666666667, 0.2916666666666667, 0.2916666666666667, 0.3333333333333333, 0.3333333333333333, 0.3333333333333333, 0.3333333333333333, 0.375, 0.375, 0.375, 0.4166666666666667, 0.4166666666666667, 0.4166666666666667, 0.4166666666666667, 0.4166666666666667, 0.4166666666666667, 0.4166666666666667, 0.4583333333333333, 0.4583333333333333, 0.4583333333333333, 0.4583333333333333, 0.5, 0.5, 0.5, 0.5, 0.5, 0.5, 0.5, 0.5416666666666666, 0.5416666666666666, 0.5416666666666666, 0.5416666666666666, 0.5416666666666666, 0.5416666666666666, 0.5416666666666666, 0.5416666666666666, 0.5416666666666666, 0.5833333333333334, 0.5833333333333334, 0.625, 0.625, 0.625, 0.625, 0.625, 0.625, 0.625, 0.625, 0.6666666666666666, 0.6666666666666666, 0.7083333333333334, 0.7083333333333334, 0.7083333333333334, 0.7083333333333334, 0.7083333333333334, 0.7083333333333334, 0.75, 0.75, 0.7916666666666666, 0.7916666666666666, 0.8333333333333334, 0.8333333333333334, 0.8333333333333334, 0.8333333333333334, 0.8333333333333334, 0.875, 0.875, 0.9166666666666666, 0.9166666666666666, 1.0], \"xaxis\": \"x\", \"y\": [0.4649281860390438, 0.4645725365033034, 0.4645725365033034, 0.4645725365033034, 0.46386123743182256, 0.46386123743182256, 0.46386123743182256, 0.46386123743182256, 0.46386123743182256, 0.46386123743182256, 0.46350558789608215, 0.46350558789608215, 0.46350558789608215, 0.46350558789608215, 0.4631499383603418, 0.4631499383603418, 0.4631499383603418, 0.4627942888246014, 0.4627942888246014, 0.4627942888246014, 0.4627942888246014, 0.4627942888246014, 0.4627942888246014, 0.4627942888246014, 0.462438639288861, 0.462438639288861, 0.462438639288861, 0.462438639288861, 0.46208298975312057, 0.46208298975312057, 0.46208298975312057, 0.46208298975312057, 0.46208298975312057, 0.46208298975312057, 0.46208298975312057, 0.46172734021738016, 0.46172734021738016, 0.46172734021738016, 0.46172734021738016, 0.46172734021738016, 0.46172734021738016, 0.46172734021738016, 0.46172734021738016, 0.46172734021738016, 0.46137169068163975, 0.46137169068163975, 0.4610160411458994, 0.4610160411458994, 0.4610160411458994, 0.4610160411458994, 0.4610160411458994, 0.4610160411458994, 0.4610160411458994, 0.4610160411458994, 0.460660391610159, 0.460660391610159, 0.46030474207441857, 0.46030474207441857, 0.46030474207441857, 0.46030474207441857, 0.46030474207441857, 0.46030474207441857, 0.45994909253867816, 0.45994909253867816, 0.45959344300293775, 0.45959344300293775, 0.4592377934671974, 0.4592377934671974, 0.4592377934671974, 0.4592377934671974, 0.4592377934671974, 0.458882143931457, 0.458882143931457, 0.4585264943957166, 0.4585264943957166, 0.45781519532423576], \"yaxis\": \"y\"}],\n",
       "                        {\"font\": {\"color\": \"black\"}, \"height\": 400, \"legend\": {\"font\": {\"size\": 20}, \"title\": {\"text\": \"tag\"}, \"tracegroupgap\": 0}, \"margin\": {\"t\": 60}, \"template\": {\"data\": {\"bar\": [{\"error_x\": {\"color\": \"#2a3f5f\"}, \"error_y\": {\"color\": \"#2a3f5f\"}, \"marker\": {\"line\": {\"color\": \"white\", \"width\": 0.5}}, \"type\": \"bar\"}], \"barpolar\": [{\"marker\": {\"line\": {\"color\": \"white\", \"width\": 0.5}}, \"type\": \"barpolar\"}], \"carpet\": [{\"aaxis\": {\"endlinecolor\": \"#2a3f5f\", \"gridcolor\": \"#C8D4E3\", \"linecolor\": \"#C8D4E3\", \"minorgridcolor\": \"#C8D4E3\", \"startlinecolor\": \"#2a3f5f\"}, \"baxis\": {\"endlinecolor\": \"#2a3f5f\", \"gridcolor\": \"#C8D4E3\", \"linecolor\": \"#C8D4E3\", \"minorgridcolor\": \"#C8D4E3\", \"startlinecolor\": \"#2a3f5f\"}, \"type\": \"carpet\"}], \"choropleth\": [{\"colorbar\": {\"outlinewidth\": 0, \"ticks\": \"\"}, \"type\": \"choropleth\"}], \"contour\": [{\"colorbar\": {\"outlinewidth\": 0, \"ticks\": \"\"}, \"colorscale\": [[0.0, \"#0d0887\"], [0.1111111111111111, \"#46039f\"], [0.2222222222222222, \"#7201a8\"], [0.3333333333333333, \"#9c179e\"], [0.4444444444444444, \"#bd3786\"], [0.5555555555555556, \"#d8576b\"], [0.6666666666666666, \"#ed7953\"], [0.7777777777777778, \"#fb9f3a\"], [0.8888888888888888, \"#fdca26\"], [1.0, \"#f0f921\"]], \"type\": \"contour\"}], \"contourcarpet\": [{\"colorbar\": {\"outlinewidth\": 0, \"ticks\": \"\"}, \"type\": \"contourcarpet\"}], \"heatmap\": [{\"colorbar\": {\"outlinewidth\": 0, \"ticks\": \"\"}, \"colorscale\": [[0.0, \"#0d0887\"], [0.1111111111111111, \"#46039f\"], [0.2222222222222222, \"#7201a8\"], [0.3333333333333333, \"#9c179e\"], [0.4444444444444444, \"#bd3786\"], [0.5555555555555556, \"#d8576b\"], [0.6666666666666666, \"#ed7953\"], [0.7777777777777778, \"#fb9f3a\"], [0.8888888888888888, \"#fdca26\"], [1.0, \"#f0f921\"]], \"type\": \"heatmap\"}], \"heatmapgl\": [{\"colorbar\": {\"outlinewidth\": 0, \"ticks\": \"\"}, \"colorscale\": [[0.0, \"#0d0887\"], [0.1111111111111111, \"#46039f\"], [0.2222222222222222, \"#7201a8\"], [0.3333333333333333, \"#9c179e\"], [0.4444444444444444, \"#bd3786\"], [0.5555555555555556, \"#d8576b\"], [0.6666666666666666, \"#ed7953\"], [0.7777777777777778, \"#fb9f3a\"], [0.8888888888888888, \"#fdca26\"], [1.0, \"#f0f921\"]], \"type\": \"heatmapgl\"}], \"histogram\": [{\"marker\": {\"colorbar\": {\"outlinewidth\": 0, \"ticks\": \"\"}}, \"type\": \"histogram\"}], \"histogram2d\": [{\"colorbar\": {\"outlinewidth\": 0, \"ticks\": \"\"}, \"colorscale\": [[0.0, \"#0d0887\"], [0.1111111111111111, \"#46039f\"], [0.2222222222222222, \"#7201a8\"], [0.3333333333333333, \"#9c179e\"], [0.4444444444444444, \"#bd3786\"], [0.5555555555555556, \"#d8576b\"], [0.6666666666666666, \"#ed7953\"], [0.7777777777777778, \"#fb9f3a\"], [0.8888888888888888, \"#fdca26\"], [1.0, \"#f0f921\"]], \"type\": \"histogram2d\"}], \"histogram2dcontour\": [{\"colorbar\": {\"outlinewidth\": 0, \"ticks\": \"\"}, \"colorscale\": [[0.0, \"#0d0887\"], [0.1111111111111111, \"#46039f\"], [0.2222222222222222, \"#7201a8\"], [0.3333333333333333, \"#9c179e\"], [0.4444444444444444, \"#bd3786\"], [0.5555555555555556, \"#d8576b\"], [0.6666666666666666, \"#ed7953\"], [0.7777777777777778, \"#fb9f3a\"], [0.8888888888888888, \"#fdca26\"], [1.0, \"#f0f921\"]], \"type\": \"histogram2dcontour\"}], \"mesh3d\": [{\"colorbar\": {\"outlinewidth\": 0, \"ticks\": \"\"}, \"type\": \"mesh3d\"}], \"parcoords\": [{\"line\": {\"colorbar\": {\"outlinewidth\": 0, \"ticks\": \"\"}}, \"type\": \"parcoords\"}], \"pie\": [{\"automargin\": true, \"type\": \"pie\"}], \"scatter\": [{\"marker\": {\"colorbar\": {\"outlinewidth\": 0, \"ticks\": \"\"}}, \"type\": \"scatter\"}], \"scatter3d\": [{\"line\": {\"colorbar\": {\"outlinewidth\": 0, \"ticks\": \"\"}}, \"marker\": {\"colorbar\": {\"outlinewidth\": 0, \"ticks\": \"\"}}, \"type\": \"scatter3d\"}], \"scattercarpet\": [{\"marker\": {\"colorbar\": {\"outlinewidth\": 0, \"ticks\": \"\"}}, \"type\": \"scattercarpet\"}], \"scattergeo\": [{\"marker\": {\"colorbar\": {\"outlinewidth\": 0, \"ticks\": \"\"}}, \"type\": \"scattergeo\"}], \"scattergl\": [{\"marker\": {\"colorbar\": {\"outlinewidth\": 0, \"ticks\": \"\"}}, \"type\": \"scattergl\"}], \"scattermapbox\": [{\"marker\": {\"colorbar\": {\"outlinewidth\": 0, \"ticks\": \"\"}}, \"type\": \"scattermapbox\"}], \"scatterpolar\": [{\"marker\": {\"colorbar\": {\"outlinewidth\": 0, \"ticks\": \"\"}}, \"type\": \"scatterpolar\"}], \"scatterpolargl\": [{\"marker\": {\"colorbar\": {\"outlinewidth\": 0, \"ticks\": \"\"}}, \"type\": \"scatterpolargl\"}], \"scatterternary\": [{\"marker\": {\"colorbar\": {\"outlinewidth\": 0, \"ticks\": \"\"}}, \"type\": \"scatterternary\"}], \"surface\": [{\"colorbar\": {\"outlinewidth\": 0, \"ticks\": \"\"}, \"colorscale\": [[0.0, \"#0d0887\"], [0.1111111111111111, \"#46039f\"], [0.2222222222222222, \"#7201a8\"], [0.3333333333333333, \"#9c179e\"], [0.4444444444444444, \"#bd3786\"], [0.5555555555555556, \"#d8576b\"], [0.6666666666666666, \"#ed7953\"], [0.7777777777777778, \"#fb9f3a\"], [0.8888888888888888, \"#fdca26\"], [1.0, \"#f0f921\"]], \"type\": \"surface\"}], \"table\": [{\"cells\": {\"fill\": {\"color\": \"#EBF0F8\"}, \"line\": {\"color\": \"white\"}}, \"header\": {\"fill\": {\"color\": \"#C8D4E3\"}, \"line\": {\"color\": \"white\"}}, \"type\": \"table\"}]}, \"layout\": {\"annotationdefaults\": {\"arrowcolor\": \"#2a3f5f\", \"arrowhead\": 0, \"arrowwidth\": 1}, \"coloraxis\": {\"colorbar\": {\"outlinewidth\": 0, \"ticks\": \"\"}}, \"colorscale\": {\"diverging\": [[0, \"#8e0152\"], [0.1, \"#c51b7d\"], [0.2, \"#de77ae\"], [0.3, \"#f1b6da\"], [0.4, \"#fde0ef\"], [0.5, \"#f7f7f7\"], [0.6, \"#e6f5d0\"], [0.7, \"#b8e186\"], [0.8, \"#7fbc41\"], [0.9, \"#4d9221\"], [1, \"#276419\"]], \"sequential\": [[0.0, \"#0d0887\"], [0.1111111111111111, \"#46039f\"], [0.2222222222222222, \"#7201a8\"], [0.3333333333333333, \"#9c179e\"], [0.4444444444444444, \"#bd3786\"], [0.5555555555555556, \"#d8576b\"], [0.6666666666666666, \"#ed7953\"], [0.7777777777777778, \"#fb9f3a\"], [0.8888888888888888, \"#fdca26\"], [1.0, \"#f0f921\"]], \"sequentialminus\": [[0.0, \"#0d0887\"], [0.1111111111111111, \"#46039f\"], [0.2222222222222222, \"#7201a8\"], [0.3333333333333333, \"#9c179e\"], [0.4444444444444444, \"#bd3786\"], [0.5555555555555556, \"#d8576b\"], [0.6666666666666666, \"#ed7953\"], [0.7777777777777778, \"#fb9f3a\"], [0.8888888888888888, \"#fdca26\"], [1.0, \"#f0f921\"]]}, \"colorway\": [\"#636efa\", \"#EF553B\", \"#00cc96\", \"#ab63fa\", \"#FFA15A\", \"#19d3f3\", \"#FF6692\", \"#B6E880\", \"#FF97FF\", \"#FECB52\"], \"font\": {\"color\": \"#2a3f5f\"}, \"geo\": {\"bgcolor\": \"white\", \"lakecolor\": \"white\", \"landcolor\": \"white\", \"showlakes\": true, \"showland\": true, \"subunitcolor\": \"#C8D4E3\"}, \"hoverlabel\": {\"align\": \"left\"}, \"hovermode\": \"closest\", \"mapbox\": {\"style\": \"light\"}, \"paper_bgcolor\": \"white\", \"plot_bgcolor\": \"white\", \"polar\": {\"angularaxis\": {\"gridcolor\": \"#EBF0F8\", \"linecolor\": \"#EBF0F8\", \"ticks\": \"\"}, \"bgcolor\": \"white\", \"radialaxis\": {\"gridcolor\": \"#EBF0F8\", \"linecolor\": \"#EBF0F8\", \"ticks\": \"\"}}, \"scene\": {\"xaxis\": {\"backgroundcolor\": \"white\", \"gridcolor\": \"#DFE8F3\", \"gridwidth\": 2, \"linecolor\": \"#EBF0F8\", \"showbackground\": true, \"ticks\": \"\", \"zerolinecolor\": \"#EBF0F8\"}, \"yaxis\": {\"backgroundcolor\": \"white\", \"gridcolor\": \"#DFE8F3\", \"gridwidth\": 2, \"linecolor\": \"#EBF0F8\", \"showbackground\": true, \"ticks\": \"\", \"zerolinecolor\": \"#EBF0F8\"}, \"zaxis\": {\"backgroundcolor\": \"white\", \"gridcolor\": \"#DFE8F3\", \"gridwidth\": 2, \"linecolor\": \"#EBF0F8\", \"showbackground\": true, \"ticks\": \"\", \"zerolinecolor\": \"#EBF0F8\"}}, \"shapedefaults\": {\"line\": {\"color\": \"#2a3f5f\"}}, \"ternary\": {\"aaxis\": {\"gridcolor\": \"#DFE8F3\", \"linecolor\": \"#A2B1C6\", \"ticks\": \"\"}, \"baxis\": {\"gridcolor\": \"#DFE8F3\", \"linecolor\": \"#A2B1C6\", \"ticks\": \"\"}, \"bgcolor\": \"white\", \"caxis\": {\"gridcolor\": \"#DFE8F3\", \"linecolor\": \"#A2B1C6\", \"ticks\": \"\"}}, \"title\": {\"x\": 0.05}, \"xaxis\": {\"automargin\": true, \"gridcolor\": \"#EBF0F8\", \"linecolor\": \"#EBF0F8\", \"ticks\": \"\", \"title\": {\"standoff\": 15}, \"zerolinecolor\": \"#EBF0F8\", \"zerolinewidth\": 2}, \"yaxis\": {\"automargin\": true, \"gridcolor\": \"#EBF0F8\", \"linecolor\": \"#EBF0F8\", \"ticks\": \"\", \"title\": {\"standoff\": 15}, \"zerolinecolor\": \"#EBF0F8\", \"zerolinewidth\": 2}}}, \"title\": {\"text\": \"NEOFAC_A\"}, \"width\": 480, \"xaxis\": {\"anchor\": \"y\", \"domain\": [0.0, 1.0], \"dtick\": 0.2, \"tickfont\": {\"size\": 20}, \"title\": {\"font\": {\"size\": 20}, \"text\": \"True\"}}, \"yaxis\": {\"anchor\": \"x\", \"domain\": [0.0, 1.0], \"dtick\": 0.2, \"tickfont\": {\"size\": 20}, \"title\": {\"font\": {\"size\": 20}, \"text\": \"Predicted\"}}},\n",
       "                        {\"responsive\": true}\n",
       "                    ).then(function(){\n",
       "                            \n",
       "var gd = document.getElementById('3085f086-e61f-4d40-a28b-46fb52f8d40e');\n",
       "var x = new MutationObserver(function (mutations, observer) {{\n",
       "        var display = window.getComputedStyle(gd).display;\n",
       "        if (!display || display === 'none') {{\n",
       "            console.log([gd, 'removed!']);\n",
       "            Plotly.purge(gd);\n",
       "            observer.disconnect();\n",
       "        }}\n",
       "}});\n",
       "\n",
       "// Listen for the removal of the full notebook cells\n",
       "var notebookContainer = gd.closest('#notebook-container');\n",
       "if (notebookContainer) {{\n",
       "    x.observe(notebookContainer, {childList: true});\n",
       "}}\n",
       "\n",
       "// Listen for the clearing of the current output cell\n",
       "var outputEl = gd.closest('.output');\n",
       "if (outputEl) {{\n",
       "    x.observe(outputEl, {childList: true});\n",
       "}}\n",
       "\n",
       "                        })\n",
       "                };\n",
       "                });\n",
       "            </script>\n",
       "        </div>"
      ]
     },
     "metadata": {},
     "output_type": "display_data"
    },
    {
     "data": {
      "application/vnd.plotly.v1+json": {
       "config": {
        "plotlyServerURL": "https://plot.ly"
       },
       "data": [
        {
         "hovertemplate": "tag=gru<br>true=%{x}<br>predicted=%{y}<extra></extra>",
         "legendgroup": "gru",
         "marker": {
          "color": "#636efa",
          "symbol": "circle"
         },
         "mode": "markers",
         "name": "gru",
         "showlegend": true,
         "type": "scatter",
         "x": [
          0.4193548262119293,
          0.4193548262119293,
          0.4193548262119293,
          0.4193548262119293,
          0.774193525314331,
          0.774193525314331,
          0.774193525314331,
          0.774193525314331,
          0.6129032373428345,
          0.6129032373428345,
          0.6129032373428345,
          0.6129032373428345,
          0.9354838728904724,
          0.9354838728904724,
          0.9354838728904724,
          0.9354838728904724,
          0.9032257795333862,
          0.9032257795333862,
          0.9032257795333862,
          0.9032257795333862,
          0.35483869910240173,
          0.35483869910240173,
          0.35483869910240173,
          0.35483869910240173,
          0.5161290168762207,
          0.5161290168762207,
          0.5161290168762207,
          0.5161290168762207,
          0.4838709533214569,
          0.4838709533214569,
          0.4838709533214569,
          0.4838709533214569,
          0.3870967626571655,
          0.3870967626571655,
          0.3870967626571655,
          0.3870967626571655,
          0.4193548262119293,
          0.4193548262119293,
          0.4193548262119293,
          0.4193548262119293,
          0.4838709533214569,
          0.4838709533214569,
          0.4838709533214569,
          0.4838709533214569,
          0.774193525314331,
          0.774193525314331,
          0.774193525314331,
          0.774193525314331,
          0.4838709533214569,
          0.4838709533214569,
          0.4838709533214569,
          0.4838709533214569,
          0.35483869910240173,
          0.35483869910240173,
          0.35483869910240173,
          0.35483869910240173,
          0.7419354915618896,
          0.7419354915618896,
          0.7419354915618896,
          0.7419354915618896,
          0.5806451439857483,
          0.5806451439857483,
          0.5806451439857483,
          0.5806451439857483,
          0.7096773982048035,
          0.7096773982048035,
          0.7096773982048035,
          0.7096773982048035,
          0.4516128897666931,
          0.4516128897666931,
          0.4516128897666931,
          0.4516128897666931,
          0.4193548262119293,
          0.4193548262119293,
          0.4193548262119293,
          0.4193548262119293,
          0.3870967626571655,
          0.3870967626571655,
          0.3870967626571655,
          0.3870967626571655,
          0.5806451439857483,
          0.5806451439857483,
          0.5806451439857483,
          0.5806451439857483,
          0.4193548262119293,
          0.4193548262119293,
          0.4193548262119293,
          0.4193548262119293,
          0.25806450843811035,
          0.25806450843811035,
          0.25806450843811035,
          0.25806450843811035,
          0.6129032373428345,
          0.6129032373428345,
          0.6129032373428345,
          0.6129032373428345,
          0.6451612710952759,
          0.6451612710952759,
          0.6451612710952759,
          0.6451612710952759,
          0.29032257199287415,
          0.29032257199287415,
          0.29032257199287415,
          0.29032257199287415,
          0.5483871102333069,
          0.5483871102333069,
          0.5483871102333069,
          0.5483871102333069,
          0.8387096524238586,
          0.8387096524238586,
          0.8387096524238586,
          0.8387096524238586,
          0.774193525314331,
          0.774193525314331,
          0.774193525314331,
          0.774193525314331,
          0.22580644488334656,
          0.22580644488334656,
          0.22580644488334656,
          0.22580644488334656,
          0.35483869910240173,
          0.35483869910240173,
          0.35483869910240173,
          0.35483869910240173,
          1,
          1,
          1,
          1,
          0.5161290168762207,
          0.5161290168762207,
          0.5161290168762207,
          0.5161290168762207,
          0.5483871102333069,
          0.5483871102333069,
          0.5483871102333069,
          0.5483871102333069,
          0.5806451439857483,
          0.5806451439857483,
          0.5806451439857483,
          0.5806451439857483,
          0.6774193644523621,
          0.6774193644523621,
          0.6774193644523621,
          0.6774193644523621,
          0.6774193644523621,
          0.6774193644523621,
          0.6774193644523621,
          0.6774193644523621,
          0.5483871102333069,
          0.5483871102333069,
          0.5483871102333069,
          0.5483871102333069,
          0.19354838132858276,
          0.19354838132858276,
          0.19354838132858276,
          0.19354838132858276,
          0.6774193644523621,
          0.6774193644523621,
          0.6774193644523621,
          0.6774193644523621,
          0.7419354915618896,
          0.7419354915618896,
          0.7419354915618896,
          0.7419354915618896,
          0.16129031777381897,
          0.16129031777381897,
          0.16129031777381897,
          0.16129031777381897,
          0.35483869910240173,
          0.35483869910240173,
          0.35483869910240173,
          0.35483869910240173,
          0.16129031777381897,
          0.16129031777381897,
          0.16129031777381897,
          0.16129031777381897,
          0.5806451439857483,
          0.5806451439857483,
          0.5806451439857483,
          0.5806451439857483,
          0.6774193644523621,
          0.6774193644523621,
          0.6774193644523621,
          0.6774193644523621,
          0.16129031777381897,
          0.16129031777381897,
          0.16129031777381897,
          0.16129031777381897,
          0.4193548262119293,
          0.4193548262119293,
          0.4193548262119293,
          0.4193548262119293,
          0.5161290168762207,
          0.5161290168762207,
          0.5161290168762207,
          0.5161290168762207,
          0.3870967626571655,
          0.3870967626571655,
          0.3870967626571655,
          0.3870967626571655,
          0.5806451439857483,
          0.5806451439857483,
          0.5806451439857483,
          0.5806451439857483,
          0.5483871102333069,
          0.5483871102333069,
          0.5483871102333069,
          0.5483871102333069,
          0.22580644488334656,
          0.22580644488334656,
          0.22580644488334656,
          0.22580644488334656,
          0.06451612710952759,
          0.06451612710952759,
          0.06451612710952759,
          0.06451612710952759,
          0.4838709533214569,
          0.4838709533214569,
          0.4838709533214569,
          0.4838709533214569,
          0.5483871102333069,
          0.5483871102333069,
          0.5483871102333069,
          0.5483871102333069,
          0.7096773982048035,
          0.7096773982048035,
          0.7096773982048035,
          0.7096773982048035,
          0.5483871102333069,
          0.5483871102333069,
          0.5483871102333069,
          0.5483871102333069,
          0.6451612710952759,
          0.6451612710952759,
          0.6451612710952759,
          0.6451612710952759,
          0.6451612710952759,
          0.6451612710952759,
          0.6451612710952759,
          0.6451612710952759,
          0.4838709533214569,
          0.4838709533214569,
          0.4838709533214569,
          0.4838709533214569,
          0.4193548262119293,
          0.4193548262119293,
          0.4193548262119293,
          0.4193548262119293,
          0.032258063554763794,
          0.032258063554763794,
          0.032258063554763794,
          0.032258063554763794,
          0.6451612710952759,
          0.6451612710952759,
          0.6451612710952759,
          0.6451612710952759,
          0.7419354915618896,
          0.7419354915618896,
          0.7419354915618896,
          0.7419354915618896,
          0.4838709533214569,
          0.4838709533214569,
          0.4838709533214569,
          0.4838709533214569,
          0.6451612710952759,
          0.6451612710952759,
          0.6451612710952759,
          0.6451612710952759,
          0.4193548262119293,
          0.4193548262119293,
          0.4193548262119293,
          0.4193548262119293,
          0.774193525314331,
          0.774193525314331,
          0.774193525314331,
          0.774193525314331,
          0.6451612710952759,
          0.6451612710952759,
          0.6451612710952759,
          0.6451612710952759,
          0.4516128897666931,
          0.4516128897666931,
          0.4516128897666931,
          0.4516128897666931,
          0.774193525314331,
          0.774193525314331,
          0.774193525314331,
          0.774193525314331,
          0.19354838132858276,
          0.19354838132858276,
          0.19354838132858276,
          0.19354838132858276,
          0.5483871102333069,
          0.5483871102333069,
          0.5483871102333069,
          0.5483871102333069,
          0.6129032373428345,
          0.6129032373428345,
          0.6129032373428345,
          0.6129032373428345,
          0.6774193644523621,
          0.6774193644523621,
          0.6774193644523621,
          0.6774193644523621
         ],
         "xaxis": "x",
         "y": [
          0.5802668333053589,
          0.3804352879524231,
          0.39573246240615845,
          0.36280620098114014,
          0.41755935549736023,
          0.5434857606887817,
          0.5405949950218201,
          0.5734335780143738,
          0.3642449975013733,
          0.42738842964172363,
          0.5072834491729736,
          0.3722073435783386,
          0.5226972103118896,
          0.40228018164634705,
          0.5745472311973572,
          0.46820664405822754,
          0.31449413299560547,
          0.5260351300239563,
          0.4764189124107361,
          0.4695794880390167,
          0.3083095848560333,
          0.5303573608398438,
          0.34359732270240784,
          0.2215672731399536,
          0.5336723923683167,
          0.5950875878334045,
          0.48477083444595337,
          0.5923166871070862,
          0.37528446316719055,
          0.4972773790359497,
          0.4227043688297272,
          0.36135250329971313,
          0.6032878160476685,
          0.43695950508117676,
          0.43777674436569214,
          0.48980021476745605,
          0.5557459592819214,
          0.5157509446144104,
          0.5955169796943665,
          0.4599027633666992,
          0.5036932229995728,
          0.5028600096702576,
          0.5387328863143921,
          0.5831311941146851,
          0.5239225029945374,
          0.41886138916015625,
          0.4857501983642578,
          0.5152291059494019,
          0.4559594392776489,
          0.42505696415901184,
          0.6013586521148682,
          0.4338371455669403,
          0.42308130860328674,
          0.47411400079727173,
          0.2826559543609619,
          0.6242747902870178,
          0.5744730234146118,
          0.6434173583984375,
          0.6007859110832214,
          0.6767844557762146,
          0.4214773178100586,
          0.5842609405517578,
          0.29438576102256775,
          0.5222911834716797,
          0.5013391375541687,
          0.3813552260398865,
          0.5152013301849365,
          0.6022423505783081,
          0.4036681056022644,
          0.5314697623252869,
          0.38298386335372925,
          0.32662758231163025,
          0.5112442374229431,
          0.5847199559211731,
          0.15713834762573242,
          0.3635852634906769,
          0.5893315076828003,
          0.5371302962303162,
          0.5401124954223633,
          0.5335329174995422,
          0.5524595379829407,
          0.598842203617096,
          0.3697942793369293,
          0.6346572041511536,
          0.44968360662460327,
          0.3413311541080475,
          0.4059070646762848,
          0.5691892504692078,
          0.4894769787788391,
          0.39643511176109314,
          0.32275646924972534,
          0.3453688621520996,
          0.2819923162460327,
          0.4950733482837677,
          0.39895206689834595,
          0.4390329420566559,
          0.4734737277030945,
          0.7159345746040344,
          0.3075215220451355,
          0.418521523475647,
          0.3550598621368408,
          0.39216578006744385,
          0.46787089109420776,
          0.7118697762489319,
          0.5617591738700867,
          0.44067907333374023,
          0.40624356269836426,
          0.4034899175167084,
          0.48961514234542847,
          0.6674936413764954,
          0.5305078625679016,
          0.47981709241867065,
          0.5056812763214111,
          0.626538097858429,
          0.5400153398513794,
          0.4904893934726715,
          0.3862363398075104,
          0.36589598655700684,
          0.3096337914466858,
          0.47885051369667053,
          0.5584484934806824,
          0.52232426404953,
          0.38077834248542786,
          0.4292444586753845,
          0.41866636276245117,
          0.4272814393043518,
          0.6519666314125061,
          0.5205297470092773,
          0.44721558690071106,
          0.5327650308609009,
          0.21947318315505981,
          0.5286877155303955,
          0.5182211995124817,
          0.46118754148483276,
          0.5276281833648682,
          0.33908611536026,
          0.42154523730278015,
          0.4768068194389343,
          0.28359732031822205,
          0.39435797929763794,
          0.4085170030593872,
          0.4876822531223297,
          0.3962108790874481,
          0.5966015458106995,
          0.48480892181396484,
          0.6552836298942566,
          0.6047564744949341,
          0.5677746534347534,
          0.38717666268348694,
          0.6090371012687683,
          0.4869799017906189,
          0.418891578912735,
          0.443910151720047,
          0.48059654235839844,
          0.36949074268341064,
          0.7936031222343445,
          0.49958622455596924,
          0.4968551695346832,
          0.48373425006866455,
          0.33047401905059814,
          0.4549650251865387,
          0.3641980290412903,
          0.3983815312385559,
          0.665544331073761,
          0.38064056634902954,
          0.388793021440506,
          0.278766006231308,
          0.4386545419692993,
          0.1938621997833252,
          0.5677739381790161,
          0.41637706756591797,
          0.5200286507606506,
          0.29231777787208557,
          0.125732421875,
          0.21865889430046082,
          0.14511138200759888,
          0.6003676056861877,
          0.5300027132034302,
          0.5724670886993408,
          0.518633246421814,
          0.33533039689064026,
          0.30142828822135925,
          0.4385727345943451,
          0.5092912912368774,
          0.22148138284683228,
          0.22793856263160706,
          0.3493587076663971,
          0.29300886392593384,
          0.47368061542510986,
          0.38810983300209045,
          0.3982113003730774,
          0.41226425766944885,
          0.6229599714279175,
          0.6327965259552002,
          0.5848089456558228,
          0.8141338229179382,
          0.49034541845321655,
          0.5310884118080139,
          0.5790613293647766,
          0.4169577658176422,
          0.5098326802253723,
          0.23748669028282166,
          0.3406776487827301,
          0.5812669992446899,
          0.4024735689163208,
          0.5477285981178284,
          0.5776054859161377,
          0.6069619655609131,
          0.5619034171104431,
          0.43926429748535156,
          0.5409627556800842,
          0.4197900593280792,
          0.4143142104148865,
          0.31311360001564026,
          0.38690638542175293,
          0.5128358602523804,
          0.38528668880462646,
          0.43334856629371643,
          0.37463143467903137,
          0.3926582336425781,
          0.4027371406555176,
          0.3541693687438965,
          0.40379080176353455,
          0.38578546047210693,
          0.7455481886863708,
          0.7075833678245544,
          0.38542234897613525,
          0.452365905046463,
          0.5190570950508118,
          0.35274118185043335,
          0.43381598591804504,
          0.290054053068161,
          0.5653678178787231,
          0.3917856216430664,
          0.4647197723388672,
          0.310811847448349,
          0.46540704369544983,
          0.4204263985157013,
          0.5003978610038757,
          0.38149189949035645,
          0.4612887501716614,
          0.5229893326759338,
          0.4147084355354309,
          0.4765545427799225,
          0.39287206530570984,
          0.5291053652763367,
          0.388287216424942,
          0.44112271070480347,
          0.46531882882118225,
          0.5297983288764954,
          0.5105296969413757,
          0.6941830515861511,
          0.3942197859287262,
          0.4133422374725342,
          0.5000208616256714,
          0.4613804519176483,
          0.706600546836853,
          0.5003361105918884,
          0.7596578598022461,
          0.5219404101371765,
          0.4222933351993561,
          0.4713664650917053,
          0.5500696897506714,
          0.3947070837020874,
          0.3706769347190857,
          0.2962551414966583,
          0.5017638802528381,
          0.5720105171203613,
          0.35974547266960144,
          0.32567113637924194,
          0.47633934020996094,
          0.30942782759666443,
          0.5439216494560242,
          0.445981502532959,
          0.4040522575378418,
          0.5453574657440186,
          0.41008520126342773,
          0.4279771149158478,
          0.5222728252410889,
          0.24793368577957153,
          0.530327320098877,
          0.39992791414260864,
          0.5070317387580872,
          0.3630096912384033,
          0.47608494758605957,
          0.49704357981681824,
          0.6561662554740906,
          0.3413080871105194,
          0.47203299403190613,
          0.32696089148521423,
          0.3122023046016693,
          0.5005913376808167,
          0.558427631855011,
          0.3767467737197876,
          0.32019853591918945,
          0.3839055895805359,
          0.3756241202354431,
          0.4918893575668335,
          0.49608632922172546,
          0.367177814245224,
          0.489938884973526,
          0.6256383061408997,
          0.5658198595046997,
          0.5653561949729919
         ],
         "yaxis": "y"
        },
        {
         "hovertemplate": "<b>OLS trendline</b><br>predicted = 0.143172 * true + 0.387117<br>R<sup>2</sup>=0.065049<br><br>tag=gru<br>true=%{x}<br>predicted=%{y} <b>(trend)</b><extra></extra>",
         "legendgroup": "gru",
         "marker": {
          "color": "#636efa",
          "symbol": "circle"
         },
         "mode": "lines",
         "name": "gru",
         "showlegend": false,
         "type": "scatter",
         "x": [
          0.032258063554763794,
          0.032258063554763794,
          0.032258063554763794,
          0.032258063554763794,
          0.06451612710952759,
          0.06451612710952759,
          0.06451612710952759,
          0.06451612710952759,
          0.16129031777381897,
          0.16129031777381897,
          0.16129031777381897,
          0.16129031777381897,
          0.16129031777381897,
          0.16129031777381897,
          0.16129031777381897,
          0.16129031777381897,
          0.16129031777381897,
          0.16129031777381897,
          0.16129031777381897,
          0.16129031777381897,
          0.19354838132858276,
          0.19354838132858276,
          0.19354838132858276,
          0.19354838132858276,
          0.19354838132858276,
          0.19354838132858276,
          0.19354838132858276,
          0.19354838132858276,
          0.22580644488334656,
          0.22580644488334656,
          0.22580644488334656,
          0.22580644488334656,
          0.22580644488334656,
          0.22580644488334656,
          0.22580644488334656,
          0.22580644488334656,
          0.25806450843811035,
          0.25806450843811035,
          0.25806450843811035,
          0.25806450843811035,
          0.29032257199287415,
          0.29032257199287415,
          0.29032257199287415,
          0.29032257199287415,
          0.35483869910240173,
          0.35483869910240173,
          0.35483869910240173,
          0.35483869910240173,
          0.35483869910240173,
          0.35483869910240173,
          0.35483869910240173,
          0.35483869910240173,
          0.35483869910240173,
          0.35483869910240173,
          0.35483869910240173,
          0.35483869910240173,
          0.35483869910240173,
          0.35483869910240173,
          0.35483869910240173,
          0.35483869910240173,
          0.3870967626571655,
          0.3870967626571655,
          0.3870967626571655,
          0.3870967626571655,
          0.3870967626571655,
          0.3870967626571655,
          0.3870967626571655,
          0.3870967626571655,
          0.3870967626571655,
          0.3870967626571655,
          0.3870967626571655,
          0.3870967626571655,
          0.4193548262119293,
          0.4193548262119293,
          0.4193548262119293,
          0.4193548262119293,
          0.4193548262119293,
          0.4193548262119293,
          0.4193548262119293,
          0.4193548262119293,
          0.4193548262119293,
          0.4193548262119293,
          0.4193548262119293,
          0.4193548262119293,
          0.4193548262119293,
          0.4193548262119293,
          0.4193548262119293,
          0.4193548262119293,
          0.4193548262119293,
          0.4193548262119293,
          0.4193548262119293,
          0.4193548262119293,
          0.4193548262119293,
          0.4193548262119293,
          0.4193548262119293,
          0.4193548262119293,
          0.4193548262119293,
          0.4193548262119293,
          0.4193548262119293,
          0.4193548262119293,
          0.4516128897666931,
          0.4516128897666931,
          0.4516128897666931,
          0.4516128897666931,
          0.4516128897666931,
          0.4516128897666931,
          0.4516128897666931,
          0.4516128897666931,
          0.4838709533214569,
          0.4838709533214569,
          0.4838709533214569,
          0.4838709533214569,
          0.4838709533214569,
          0.4838709533214569,
          0.4838709533214569,
          0.4838709533214569,
          0.4838709533214569,
          0.4838709533214569,
          0.4838709533214569,
          0.4838709533214569,
          0.4838709533214569,
          0.4838709533214569,
          0.4838709533214569,
          0.4838709533214569,
          0.4838709533214569,
          0.4838709533214569,
          0.4838709533214569,
          0.4838709533214569,
          0.4838709533214569,
          0.4838709533214569,
          0.4838709533214569,
          0.4838709533214569,
          0.5161290168762207,
          0.5161290168762207,
          0.5161290168762207,
          0.5161290168762207,
          0.5161290168762207,
          0.5161290168762207,
          0.5161290168762207,
          0.5161290168762207,
          0.5161290168762207,
          0.5161290168762207,
          0.5161290168762207,
          0.5161290168762207,
          0.5483871102333069,
          0.5483871102333069,
          0.5483871102333069,
          0.5483871102333069,
          0.5483871102333069,
          0.5483871102333069,
          0.5483871102333069,
          0.5483871102333069,
          0.5483871102333069,
          0.5483871102333069,
          0.5483871102333069,
          0.5483871102333069,
          0.5483871102333069,
          0.5483871102333069,
          0.5483871102333069,
          0.5483871102333069,
          0.5483871102333069,
          0.5483871102333069,
          0.5483871102333069,
          0.5483871102333069,
          0.5483871102333069,
          0.5483871102333069,
          0.5483871102333069,
          0.5483871102333069,
          0.5483871102333069,
          0.5483871102333069,
          0.5483871102333069,
          0.5483871102333069,
          0.5806451439857483,
          0.5806451439857483,
          0.5806451439857483,
          0.5806451439857483,
          0.5806451439857483,
          0.5806451439857483,
          0.5806451439857483,
          0.5806451439857483,
          0.5806451439857483,
          0.5806451439857483,
          0.5806451439857483,
          0.5806451439857483,
          0.5806451439857483,
          0.5806451439857483,
          0.5806451439857483,
          0.5806451439857483,
          0.5806451439857483,
          0.5806451439857483,
          0.5806451439857483,
          0.5806451439857483,
          0.6129032373428345,
          0.6129032373428345,
          0.6129032373428345,
          0.6129032373428345,
          0.6129032373428345,
          0.6129032373428345,
          0.6129032373428345,
          0.6129032373428345,
          0.6129032373428345,
          0.6129032373428345,
          0.6129032373428345,
          0.6129032373428345,
          0.6451612710952759,
          0.6451612710952759,
          0.6451612710952759,
          0.6451612710952759,
          0.6451612710952759,
          0.6451612710952759,
          0.6451612710952759,
          0.6451612710952759,
          0.6451612710952759,
          0.6451612710952759,
          0.6451612710952759,
          0.6451612710952759,
          0.6451612710952759,
          0.6451612710952759,
          0.6451612710952759,
          0.6451612710952759,
          0.6451612710952759,
          0.6451612710952759,
          0.6451612710952759,
          0.6451612710952759,
          0.6451612710952759,
          0.6451612710952759,
          0.6451612710952759,
          0.6451612710952759,
          0.6774193644523621,
          0.6774193644523621,
          0.6774193644523621,
          0.6774193644523621,
          0.6774193644523621,
          0.6774193644523621,
          0.6774193644523621,
          0.6774193644523621,
          0.6774193644523621,
          0.6774193644523621,
          0.6774193644523621,
          0.6774193644523621,
          0.6774193644523621,
          0.6774193644523621,
          0.6774193644523621,
          0.6774193644523621,
          0.6774193644523621,
          0.6774193644523621,
          0.6774193644523621,
          0.6774193644523621,
          0.7096773982048035,
          0.7096773982048035,
          0.7096773982048035,
          0.7096773982048035,
          0.7096773982048035,
          0.7096773982048035,
          0.7096773982048035,
          0.7096773982048035,
          0.7419354915618896,
          0.7419354915618896,
          0.7419354915618896,
          0.7419354915618896,
          0.7419354915618896,
          0.7419354915618896,
          0.7419354915618896,
          0.7419354915618896,
          0.7419354915618896,
          0.7419354915618896,
          0.7419354915618896,
          0.7419354915618896,
          0.774193525314331,
          0.774193525314331,
          0.774193525314331,
          0.774193525314331,
          0.774193525314331,
          0.774193525314331,
          0.774193525314331,
          0.774193525314331,
          0.774193525314331,
          0.774193525314331,
          0.774193525314331,
          0.774193525314331,
          0.774193525314331,
          0.774193525314331,
          0.774193525314331,
          0.774193525314331,
          0.774193525314331,
          0.774193525314331,
          0.774193525314331,
          0.774193525314331,
          0.8387096524238586,
          0.8387096524238586,
          0.8387096524238586,
          0.8387096524238586,
          0.9032257795333862,
          0.9032257795333862,
          0.9032257795333862,
          0.9032257795333862,
          0.9354838728904724,
          0.9354838728904724,
          0.9354838728904724,
          0.9354838728904724,
          1,
          1,
          1,
          1
         ],
         "xaxis": "x",
         "y": [
          0.39173544271893246,
          0.39173544271893246,
          0.39173544271893246,
          0.39173544271893246,
          0.39635389779697894,
          0.39635389779697894,
          0.39635389779697894,
          0.39635389779697894,
          0.4102092630311182,
          0.4102092630311182,
          0.4102092630311182,
          0.4102092630311182,
          0.4102092630311182,
          0.4102092630311182,
          0.4102092630311182,
          0.4102092630311182,
          0.4102092630311182,
          0.4102092630311182,
          0.4102092630311182,
          0.4102092630311182,
          0.41482771810916463,
          0.41482771810916463,
          0.41482771810916463,
          0.41482771810916463,
          0.41482771810916463,
          0.41482771810916463,
          0.41482771810916463,
          0.41482771810916463,
          0.4194461731872111,
          0.4194461731872111,
          0.4194461731872111,
          0.4194461731872111,
          0.4194461731872111,
          0.4194461731872111,
          0.4194461731872111,
          0.4194461731872111,
          0.42406462826525754,
          0.42406462826525754,
          0.42406462826525754,
          0.42406462826525754,
          0.42868308334330396,
          0.42868308334330396,
          0.42868308334330396,
          0.42868308334330396,
          0.43791999349939686,
          0.43791999349939686,
          0.43791999349939686,
          0.43791999349939686,
          0.43791999349939686,
          0.43791999349939686,
          0.43791999349939686,
          0.43791999349939686,
          0.43791999349939686,
          0.43791999349939686,
          0.43791999349939686,
          0.43791999349939686,
          0.43791999349939686,
          0.43791999349939686,
          0.43791999349939686,
          0.43791999349939686,
          0.4425384485774433,
          0.4425384485774433,
          0.4425384485774433,
          0.4425384485774433,
          0.4425384485774433,
          0.4425384485774433,
          0.4425384485774433,
          0.4425384485774433,
          0.4425384485774433,
          0.4425384485774433,
          0.4425384485774433,
          0.4425384485774433,
          0.4471569036554897,
          0.4471569036554897,
          0.4471569036554897,
          0.4471569036554897,
          0.4471569036554897,
          0.4471569036554897,
          0.4471569036554897,
          0.4471569036554897,
          0.4471569036554897,
          0.4471569036554897,
          0.4471569036554897,
          0.4471569036554897,
          0.4471569036554897,
          0.4471569036554897,
          0.4471569036554897,
          0.4471569036554897,
          0.4471569036554897,
          0.4471569036554897,
          0.4471569036554897,
          0.4471569036554897,
          0.4471569036554897,
          0.4471569036554897,
          0.4471569036554897,
          0.4471569036554897,
          0.4471569036554897,
          0.4471569036554897,
          0.4471569036554897,
          0.4471569036554897,
          0.45177535873353614,
          0.45177535873353614,
          0.45177535873353614,
          0.45177535873353614,
          0.45177535873353614,
          0.45177535873353614,
          0.45177535873353614,
          0.45177535873353614,
          0.4563938138115826,
          0.4563938138115826,
          0.4563938138115826,
          0.4563938138115826,
          0.4563938138115826,
          0.4563938138115826,
          0.4563938138115826,
          0.4563938138115826,
          0.4563938138115826,
          0.4563938138115826,
          0.4563938138115826,
          0.4563938138115826,
          0.4563938138115826,
          0.4563938138115826,
          0.4563938138115826,
          0.4563938138115826,
          0.4563938138115826,
          0.4563938138115826,
          0.4563938138115826,
          0.4563938138115826,
          0.4563938138115826,
          0.4563938138115826,
          0.4563938138115826,
          0.4563938138115826,
          0.46101226888962904,
          0.46101226888962904,
          0.46101226888962904,
          0.46101226888962904,
          0.46101226888962904,
          0.46101226888962904,
          0.46101226888962904,
          0.46101226888962904,
          0.46101226888962904,
          0.46101226888962904,
          0.46101226888962904,
          0.46101226888962904,
          0.4656307282345369,
          0.4656307282345369,
          0.4656307282345369,
          0.4656307282345369,
          0.4656307282345369,
          0.4656307282345369,
          0.4656307282345369,
          0.4656307282345369,
          0.4656307282345369,
          0.4656307282345369,
          0.4656307282345369,
          0.4656307282345369,
          0.4656307282345369,
          0.4656307282345369,
          0.4656307282345369,
          0.4656307282345369,
          0.4656307282345369,
          0.4656307282345369,
          0.4656307282345369,
          0.4656307282345369,
          0.4656307282345369,
          0.4656307282345369,
          0.4656307282345369,
          0.4656307282345369,
          0.4656307282345369,
          0.4656307282345369,
          0.4656307282345369,
          0.4656307282345369,
          0.47024917904572194,
          0.47024917904572194,
          0.47024917904572194,
          0.47024917904572194,
          0.47024917904572194,
          0.47024917904572194,
          0.47024917904572194,
          0.47024917904572194,
          0.47024917904572194,
          0.47024917904572194,
          0.47024917904572194,
          0.47024917904572194,
          0.47024917904572194,
          0.47024917904572194,
          0.47024917904572194,
          0.47024917904572194,
          0.47024917904572194,
          0.47024917904572194,
          0.47024917904572194,
          0.47024917904572194,
          0.4748676383906298,
          0.4748676383906298,
          0.4748676383906298,
          0.4748676383906298,
          0.4748676383906298,
          0.4748676383906298,
          0.4748676383906298,
          0.4748676383906298,
          0.4748676383906298,
          0.4748676383906298,
          0.4748676383906298,
          0.4748676383906298,
          0.4794860892018148,
          0.4794860892018148,
          0.4794860892018148,
          0.4794860892018148,
          0.4794860892018148,
          0.4794860892018148,
          0.4794860892018148,
          0.4794860892018148,
          0.4794860892018148,
          0.4794860892018148,
          0.4794860892018148,
          0.4794860892018148,
          0.4794860892018148,
          0.4794860892018148,
          0.4794860892018148,
          0.4794860892018148,
          0.4794860892018148,
          0.4794860892018148,
          0.4794860892018148,
          0.4794860892018148,
          0.4794860892018148,
          0.4794860892018148,
          0.4794860892018148,
          0.4794860892018148,
          0.4841045485467227,
          0.4841045485467227,
          0.4841045485467227,
          0.4841045485467227,
          0.4841045485467227,
          0.4841045485467227,
          0.4841045485467227,
          0.4841045485467227,
          0.4841045485467227,
          0.4841045485467227,
          0.4841045485467227,
          0.4841045485467227,
          0.4841045485467227,
          0.4841045485467227,
          0.4841045485467227,
          0.4841045485467227,
          0.4841045485467227,
          0.4841045485467227,
          0.4841045485467227,
          0.4841045485467227,
          0.48872299935790764,
          0.48872299935790764,
          0.48872299935790764,
          0.48872299935790764,
          0.48872299935790764,
          0.48872299935790764,
          0.48872299935790764,
          0.48872299935790764,
          0.49334145870281554,
          0.49334145870281554,
          0.49334145870281554,
          0.49334145870281554,
          0.49334145870281554,
          0.49334145870281554,
          0.49334145870281554,
          0.49334145870281554,
          0.49334145870281554,
          0.49334145870281554,
          0.49334145870281554,
          0.49334145870281554,
          0.49795990951400054,
          0.49795990951400054,
          0.49795990951400054,
          0.49795990951400054,
          0.49795990951400054,
          0.49795990951400054,
          0.49795990951400054,
          0.49795990951400054,
          0.49795990951400054,
          0.49795990951400054,
          0.49795990951400054,
          0.49795990951400054,
          0.49795990951400054,
          0.49795990951400054,
          0.49795990951400054,
          0.49795990951400054,
          0.49795990951400054,
          0.49795990951400054,
          0.49795990951400054,
          0.49795990951400054,
          0.5071968196700934,
          0.5071968196700934,
          0.5071968196700934,
          0.5071968196700934,
          0.5164337298261863,
          0.5164337298261863,
          0.5164337298261863,
          0.5164337298261863,
          0.5210521891710942,
          0.5210521891710942,
          0.5210521891710942,
          0.5210521891710942,
          0.530289099327187,
          0.530289099327187,
          0.530289099327187,
          0.530289099327187
         ],
         "yaxis": "y"
        },
        {
         "hovertemplate": "tag=ff<br>true=%{x}<br>predicted=%{y}<extra></extra>",
         "legendgroup": "ff",
         "marker": {
          "color": "#EF553B",
          "symbol": "circle"
         },
         "mode": "markers",
         "name": "ff",
         "showlegend": true,
         "type": "scatter",
         "x": [
          0.4193548262119293,
          0.774193525314331,
          0.6129032373428345,
          0.9354838728904724,
          0.9032257795333862,
          0.35483869910240173,
          0.5161290168762207,
          0.4838709533214569,
          0.3870967626571655,
          0.4193548262119293,
          0.4838709533214569,
          0.774193525314331,
          0.4838709533214569,
          0.35483869910240173,
          0.7419354915618896,
          0.5806451439857483,
          0.7096773982048035,
          0.4516128897666931,
          0.4193548262119293,
          0.3870967626571655,
          0.5806451439857483,
          0.4193548262119293,
          0.25806450843811035,
          0.6129032373428345,
          0.6451612710952759,
          0.29032257199287415,
          0.5483871102333069,
          0.8387096524238586,
          0.774193525314331,
          0.22580644488334656,
          0.35483869910240173,
          1,
          0.5161290168762207,
          0.5483871102333069,
          0.5806451439857483,
          0.6774193644523621,
          0.6774193644523621,
          0.5483871102333069,
          0.19354838132858276,
          0.6774193644523621,
          0.7419354915618896,
          0.16129031777381897,
          0.35483869910240173,
          0.16129031777381897,
          0.5806451439857483,
          0.6774193644523621,
          0.16129031777381897,
          0.4193548262119293,
          0.5161290168762207,
          0.3870967626571655,
          0.5806451439857483,
          0.5483871102333069,
          0.22580644488334656,
          0.06451612710952759,
          0.4838709533214569,
          0.5483871102333069,
          0.7096773982048035,
          0.5483871102333069,
          0.6451612710952759,
          0.6451612710952759,
          0.4838709533214569,
          0.4193548262119293,
          0.032258063554763794,
          0.6451612710952759,
          0.7419354915618896,
          0.4838709533214569,
          0.6451612710952759,
          0.4193548262119293,
          0.774193525314331,
          0.6451612710952759,
          0.4516128897666931,
          0.774193525314331,
          0.19354838132858276,
          0.5483871102333069,
          0.6129032373428345,
          0.6774193644523621
         ],
         "xaxis": "x",
         "y": [
          0.5526312589645386,
          0.4771586060523987,
          0.6402584910392761,
          0.8030794262886047,
          0.20143213868141174,
          0.42813265323638916,
          0.5952473878860474,
          0.44012436270713806,
          0.4135519862174988,
          0.5892371535301208,
          0.46827882528305054,
          0.507470965385437,
          0.37855619192123413,
          0.4594106078147888,
          0.6819478273391724,
          0.5387641787528992,
          0.3816415071487427,
          0.5575951933860779,
          0.4557293653488159,
          0.46515288949012756,
          0.4708094000816345,
          0.394294410943985,
          0.21753814816474915,
          0.3615241050720215,
          0.5959974527359009,
          0.4690690338611603,
          0.39647001028060913,
          0.6479352116584778,
          0.5662298202514648,
          0.5096182823181152,
          0.4655351936817169,
          0.5760316848754883,
          0.513945460319519,
          0.6279355883598328,
          0.4339137375354767,
          0.44081974029541016,
          0.3900632858276367,
          0.49248310923576355,
          0.33403536677360535,
          0.4771433472633362,
          0.39266514778137207,
          0.4263820946216583,
          0.25831106305122375,
          0.2694059908390045,
          0.7105786204338074,
          0.47843626141548157,
          0.5406190752983093,
          0.12149600684642792,
          0.2812068462371826,
          0.4929395914077759,
          0.4897804260253906,
          0.5143879055976868,
          0.276589572429657,
          0.5003255605697632,
          0.4085158705711365,
          0.5795115232467651,
          0.49869048595428467,
          0.48723262548446655,
          0.30350008606910706,
          0.25470033288002014,
          0.4479271173477173,
          0.3813477158546448,
          0.4631631672382355,
          0.48369336128234863,
          0.5867370963096619,
          0.3974105417728424,
          0.6806725263595581,
          0.27252280712127686,
          0.5714059472084045,
          0.44544875621795654,
          0.3541719317436218,
          0.6079437136650085,
          0.3617124855518341,
          0.2991400957107544,
          0.4371626675128937,
          0.5145190358161926
         ],
         "yaxis": "y"
        },
        {
         "hovertemplate": "<b>OLS trendline</b><br>predicted = 0.214313 * true + 0.348186<br>R<sup>2</sup>=0.118980<br><br>tag=ff<br>true=%{x}<br>predicted=%{y} <b>(trend)</b><extra></extra>",
         "legendgroup": "ff",
         "marker": {
          "color": "#EF553B",
          "symbol": "circle"
         },
         "mode": "lines",
         "name": "ff",
         "showlegend": false,
         "type": "scatter",
         "x": [
          0.032258063554763794,
          0.06451612710952759,
          0.16129031777381897,
          0.16129031777381897,
          0.16129031777381897,
          0.19354838132858276,
          0.19354838132858276,
          0.22580644488334656,
          0.22580644488334656,
          0.25806450843811035,
          0.29032257199287415,
          0.35483869910240173,
          0.35483869910240173,
          0.35483869910240173,
          0.35483869910240173,
          0.3870967626571655,
          0.3870967626571655,
          0.3870967626571655,
          0.4193548262119293,
          0.4193548262119293,
          0.4193548262119293,
          0.4193548262119293,
          0.4193548262119293,
          0.4193548262119293,
          0.4193548262119293,
          0.4516128897666931,
          0.4516128897666931,
          0.4838709533214569,
          0.4838709533214569,
          0.4838709533214569,
          0.4838709533214569,
          0.4838709533214569,
          0.4838709533214569,
          0.5161290168762207,
          0.5161290168762207,
          0.5161290168762207,
          0.5483871102333069,
          0.5483871102333069,
          0.5483871102333069,
          0.5483871102333069,
          0.5483871102333069,
          0.5483871102333069,
          0.5483871102333069,
          0.5806451439857483,
          0.5806451439857483,
          0.5806451439857483,
          0.5806451439857483,
          0.5806451439857483,
          0.6129032373428345,
          0.6129032373428345,
          0.6129032373428345,
          0.6451612710952759,
          0.6451612710952759,
          0.6451612710952759,
          0.6451612710952759,
          0.6451612710952759,
          0.6451612710952759,
          0.6774193644523621,
          0.6774193644523621,
          0.6774193644523621,
          0.6774193644523621,
          0.6774193644523621,
          0.7096773982048035,
          0.7096773982048035,
          0.7419354915618896,
          0.7419354915618896,
          0.7419354915618896,
          0.774193525314331,
          0.774193525314331,
          0.774193525314331,
          0.774193525314331,
          0.774193525314331,
          0.8387096524238586,
          0.9032257795333862,
          0.9354838728904724,
          1
         ],
         "xaxis": "x",
         "y": [
          0.3550997668139567,
          0.36201309875695825,
          0.3827530945859627,
          0.3827530945859627,
          0.3827530945859627,
          0.3896664265289642,
          0.3896664265289642,
          0.3965797584719657,
          0.3965797584719657,
          0.40349309041496717,
          0.41040642235796865,
          0.42423308624397166,
          0.42423308624397166,
          0.42423308624397166,
          0.42423308624397166,
          0.43114641818697313,
          0.43114641818697313,
          0.43114641818697313,
          0.43805975012997467,
          0.43805975012997467,
          0.43805975012997467,
          0.43805975012997467,
          0.43805975012997467,
          0.43805975012997467,
          0.43805975012997467,
          0.44497308207297614,
          0.44497308207297614,
          0.4518864140159776,
          0.4518864140159776,
          0.4518864140159776,
          0.4518864140159776,
          0.4518864140159776,
          0.4518864140159776,
          0.4587997459589791,
          0.4587997459589791,
          0.4587997459589791,
          0.4657130842890146,
          0.4657130842890146,
          0.4657130842890146,
          0.4657130842890146,
          0.4657130842890146,
          0.4657130842890146,
          0.4657130842890146,
          0.4726264098449821,
          0.4726264098449821,
          0.4726264098449821,
          0.4726264098449821,
          0.4726264098449821,
          0.47953974817501754,
          0.47953974817501754,
          0.47953974817501754,
          0.4864530737309851,
          0.4864530737309851,
          0.4864530737309851,
          0.4864530737309851,
          0.4864530737309851,
          0.4864530737309851,
          0.49336641206102055,
          0.49336641206102055,
          0.49336641206102055,
          0.49336641206102055,
          0.49336641206102055,
          0.5002797376169881,
          0.5002797376169881,
          0.5071930759470236,
          0.5071930759470236,
          0.5071930759470236,
          0.514106401502991,
          0.514106401502991,
          0.514106401502991,
          0.514106401502991,
          0.514106401502991,
          0.527933065388994,
          0.541759729274997,
          0.5486730676050324,
          0.5624997314910355
         ],
         "yaxis": "y"
        },
        {
         "hovertemplate": "tag=tcn<br>true=%{x}<br>predicted=%{y}<extra></extra>",
         "legendgroup": "tcn",
         "marker": {
          "color": "#00cc96",
          "symbol": "circle"
         },
         "mode": "markers",
         "name": "tcn",
         "showlegend": true,
         "type": "scatter",
         "x": [
          0.4193548262119293,
          0.774193525314331,
          0.6129032373428345,
          0.9354838728904724,
          0.9032257795333862,
          0.35483869910240173,
          0.5161290168762207,
          0.4838709533214569,
          0.3870967626571655,
          0.4193548262119293,
          0.4838709533214569,
          0.774193525314331,
          0.4838709533214569,
          0.35483869910240173,
          0.7419354915618896,
          0.5806451439857483,
          0.7096773982048035,
          0.4516128897666931,
          0.4193548262119293,
          0.3870967626571655,
          0.5806451439857483,
          0.4193548262119293,
          0.25806450843811035,
          0.6129032373428345,
          0.6451612710952759,
          0.29032257199287415,
          0.5483871102333069,
          0.8387096524238586,
          0.774193525314331,
          0.22580644488334656,
          0.35483869910240173,
          1,
          0.5161290168762207,
          0.5483871102333069,
          0.5806451439857483,
          0.6774193644523621,
          0.6774193644523621,
          0.5483871102333069,
          0.19354838132858276,
          0.6774193644523621,
          0.7419354915618896,
          0.16129031777381897,
          0.35483869910240173,
          0.16129031777381897,
          0.5806451439857483,
          0.6774193644523621,
          0.16129031777381897,
          0.4193548262119293,
          0.5161290168762207,
          0.3870967626571655,
          0.5806451439857483,
          0.5483871102333069,
          0.22580644488334656,
          0.06451612710952759,
          0.4838709533214569,
          0.5483871102333069,
          0.7096773982048035,
          0.5483871102333069,
          0.6451612710952759,
          0.6451612710952759,
          0.4838709533214569,
          0.4193548262119293,
          0.032258063554763794,
          0.6451612710952759,
          0.7419354915618896,
          0.4838709533214569,
          0.6451612710952759,
          0.4193548262119293,
          0.774193525314331,
          0.6451612710952759,
          0.4516128897666931,
          0.774193525314331,
          0.19354838132858276,
          0.5483871102333069,
          0.6129032373428345,
          0.6774193644523621
         ],
         "xaxis": "x",
         "y": [
          0.5723270177841187,
          0.6666133403778076,
          0.2955104112625122,
          0.6189286708831787,
          0.4534224569797516,
          0.3198988735675812,
          0.45814046263694763,
          0.38635703921318054,
          0.5669578909873962,
          0.29596105217933655,
          0.3503563106060028,
          0.7045212984085083,
          0.5894197821617126,
          0.35219812393188477,
          0.46585655212402344,
          0.6219637989997864,
          0.5732038021087646,
          0.2956068515777588,
          0.7524992227554321,
          0.2349417805671692,
          0.3573688566684723,
          0.6728441119194031,
          0.4481927752494812,
          0.3999122977256775,
          0.5727797150611877,
          0.2695804536342621,
          0.16295790672302246,
          0.4343808889389038,
          0.5665987730026245,
          0.42649203538894653,
          0.6724625825881958,
          0.559057354927063,
          0.3798937201499939,
          0.48015347123146057,
          0.432420551776886,
          0.40757977962493896,
          0.5395415425300598,
          0.5687915086746216,
          0.5184675455093384,
          0.6759422421455383,
          0.5395978093147278,
          0.43621543049812317,
          0.4598362445831299,
          0.5341348648071289,
          0.5712254643440247,
          0.446118026971817,
          0.33081361651420593,
          0.4711647927761078,
          0.4900267422199249,
          0.49865347146987915,
          0.26729851961135864,
          0.45173877477645874,
          0.8154789209365845,
          0.3184918463230133,
          0.532472550868988,
          0.46967366337776184,
          0.6220568418502808,
          0.49795767664909363,
          0.5847452282905579,
          0.4285053610801697,
          0.3151623606681824,
          0.5894343256950378,
          0.408787339925766,
          0.4716450870037079,
          0.8941745162010193,
          0.7133094072341919,
          0.7172479033470154,
          0.37711742520332336,
          0.7672372460365295,
          0.5222057104110718,
          0.38900837302207947,
          0.48267197608947754,
          0.5509088635444641,
          0.5817641019821167,
          0.5072519183158875,
          0.7722839117050171
         ],
         "yaxis": "y"
        },
        {
         "hovertemplate": "<b>OLS trendline</b><br>predicted = 0.200934 * true + 0.393883<br>R<sup>2</sup>=0.078432<br><br>tag=tcn<br>true=%{x}<br>predicted=%{y} <b>(trend)</b><extra></extra>",
         "legendgroup": "tcn",
         "marker": {
          "color": "#00cc96",
          "symbol": "circle"
         },
         "mode": "lines",
         "name": "tcn",
         "showlegend": false,
         "type": "scatter",
         "x": [
          0.032258063554763794,
          0.06451612710952759,
          0.16129031777381897,
          0.16129031777381897,
          0.16129031777381897,
          0.19354838132858276,
          0.19354838132858276,
          0.22580644488334656,
          0.22580644488334656,
          0.25806450843811035,
          0.29032257199287415,
          0.35483869910240173,
          0.35483869910240173,
          0.35483869910240173,
          0.35483869910240173,
          0.3870967626571655,
          0.3870967626571655,
          0.3870967626571655,
          0.4193548262119293,
          0.4193548262119293,
          0.4193548262119293,
          0.4193548262119293,
          0.4193548262119293,
          0.4193548262119293,
          0.4193548262119293,
          0.4516128897666931,
          0.4516128897666931,
          0.4838709533214569,
          0.4838709533214569,
          0.4838709533214569,
          0.4838709533214569,
          0.4838709533214569,
          0.4838709533214569,
          0.5161290168762207,
          0.5161290168762207,
          0.5161290168762207,
          0.5483871102333069,
          0.5483871102333069,
          0.5483871102333069,
          0.5483871102333069,
          0.5483871102333069,
          0.5483871102333069,
          0.5483871102333069,
          0.5806451439857483,
          0.5806451439857483,
          0.5806451439857483,
          0.5806451439857483,
          0.5806451439857483,
          0.6129032373428345,
          0.6129032373428345,
          0.6129032373428345,
          0.6451612710952759,
          0.6451612710952759,
          0.6451612710952759,
          0.6451612710952759,
          0.6451612710952759,
          0.6451612710952759,
          0.6774193644523621,
          0.6774193644523621,
          0.6774193644523621,
          0.6774193644523621,
          0.6774193644523621,
          0.7096773982048035,
          0.7096773982048035,
          0.7419354915618896,
          0.7419354915618896,
          0.7419354915618896,
          0.774193525314331,
          0.774193525314331,
          0.774193525314331,
          0.774193525314331,
          0.774193525314331,
          0.8387096524238586,
          0.9032257795333862,
          0.9354838728904724,
          1
         ],
         "xaxis": "x",
         "y": [
          0.4003643473024667,
          0.4068460961399474,
          0.42629134265238927,
          0.42629134265238927,
          0.42629134265238927,
          0.4327730914898699,
          0.4327730914898699,
          0.43925484032735057,
          0.43925484032735057,
          0.44573658916483117,
          0.4522183380023118,
          0.4651818356772731,
          0.4651818356772731,
          0.4651818356772731,
          0.4651818356772731,
          0.47166358451475376,
          0.47166358451475376,
          0.47166358451475376,
          0.4781453333522344,
          0.4781453333522344,
          0.4781453333522344,
          0.4781453333522344,
          0.4781453333522344,
          0.4781453333522344,
          0.4781453333522344,
          0.484627082189715,
          0.484627082189715,
          0.49110883102719566,
          0.49110883102719566,
          0.49110883102719566,
          0.49110883102719566,
          0.49110883102719566,
          0.49110883102719566,
          0.4975905798646763,
          0.4975905798646763,
          0.4975905798646763,
          0.5040723346904633,
          0.5040723346904633,
          0.5040723346904633,
          0.5040723346904633,
          0.5040723346904633,
          0.5040723346904633,
          0.5040723346904633,
          0.5105540775396376,
          0.5105540775396376,
          0.5105540775396376,
          0.5105540775396376,
          0.5105540775396376,
          0.5170358323654246,
          0.5170358323654246,
          0.5170358323654246,
          0.5235175752145989,
          0.5235175752145989,
          0.5235175752145989,
          0.5235175752145989,
          0.5235175752145989,
          0.5235175752145989,
          0.5299993300403859,
          0.5299993300403859,
          0.5299993300403859,
          0.5299993300403859,
          0.5299993300403859,
          0.5364810728895602,
          0.5364810728895602,
          0.5429628277153472,
          0.5429628277153472,
          0.5429628277153472,
          0.5494445705645215,
          0.5494445705645215,
          0.5494445705645215,
          0.5494445705645215,
          0.5494445705645215,
          0.5624080682394828,
          0.5753715659144439,
          0.581853320740231,
          0.5948168184151923
         ],
         "yaxis": "y"
        },
        {
         "hovertemplate": "tag=cpm<br>true=%{x}<br>predicted=%{y}<extra></extra>",
         "legendgroup": "cpm",
         "marker": {
          "color": "#ab63fa",
          "symbol": "circle"
         },
         "mode": "markers",
         "name": "cpm",
         "showlegend": true,
         "type": "scatter",
         "x": [
          0.41935483870967744,
          0.7741935483870968,
          0.6129032258064516,
          0.9354838709677419,
          0.9032258064516129,
          0.3548387096774194,
          0.5161290322580645,
          0.4838709677419355,
          0.3870967741935484,
          0.41935483870967744,
          0.4838709677419355,
          0.7741935483870968,
          0.4838709677419355,
          0.3548387096774194,
          0.7419354838709677,
          0.5806451612903226,
          0.7096774193548387,
          0.45161290322580644,
          0.41935483870967744,
          0.3870967741935484,
          0.5806451612903226,
          0.41935483870967744,
          0.25806451612903225,
          0.6129032258064516,
          0.6451612903225806,
          0.2903225806451613,
          0.5483870967741935,
          0.8387096774193549,
          0.7741935483870968,
          0.22580645161290322,
          0.3548387096774194,
          1,
          0.5161290322580645,
          0.5483870967741935,
          0.5806451612903226,
          0.6774193548387096,
          0.6774193548387096,
          0.5483870967741935,
          0.1935483870967742,
          0.6774193548387096,
          0.7419354838709677,
          0.16129032258064516,
          0.3548387096774194,
          0.16129032258064516,
          0.5806451612903226,
          0.6774193548387096,
          0.16129032258064516,
          0.41935483870967744,
          0.5161290322580645,
          0.3870967741935484,
          0.5806451612903226,
          0.5483870967741935,
          0.22580645161290322,
          0.06451612903225806,
          0.4838709677419355,
          0.5483870967741935,
          0.7096774193548387,
          0.5483870967741935,
          0.6451612903225806,
          0.6451612903225806,
          0.4838709677419355,
          0.41935483870967744,
          0.03225806451612903,
          0.6451612903225806,
          0.7419354838709677,
          0.4838709677419355,
          0.6451612903225806,
          0.41935483870967744,
          0.7741935483870968,
          0.6451612903225806,
          0.45161290322580644,
          0.7741935483870968,
          0.1935483870967742,
          0.5483870967741935,
          0.6129032258064516,
          0.6774193548387096
         ],
         "xaxis": "x",
         "y": [
          0.3709685501860454,
          0.5546287790260527,
          0.37165075688653504,
          0.5942636125513395,
          0.4586648784850538,
          0.5145796691163299,
          0.3902819010426542,
          0.42394276087426297,
          0.5979176328270214,
          0.5995808988901594,
          0.4352989693735146,
          0.5286610077354301,
          0.3524964678660483,
          0.47476155900826894,
          0.5879883304840641,
          0.5020624030802803,
          0.4036216690901589,
          0.4953362849578741,
          0.473666637153336,
          0.4946205312098685,
          0.44756275137075974,
          0.3790792770961253,
          0.4541878309627561,
          0.47576221151013837,
          0.4771428801410205,
          0.4936758256919423,
          0.5739627104271486,
          0.46707132318761624,
          0.5014455999252349,
          0.38863721310985344,
          0.35028558639527185,
          0.44304479887370113,
          0.4779180162135404,
          0.3508234940517008,
          0.3563828437197247,
          0.43111273560832075,
          0.4992085223240395,
          0.37800530782694053,
          0.5717737313313296,
          0.4751895397827379,
          0.4094553744748715,
          0.46843353969479795,
          0.46314448198804165,
          0.39858628098082033,
          0.4112058419368512,
          0.5007259910078722,
          0.31919837411184815,
          0.43444280378276673,
          0.3198304615240229,
          0.5120631013537742,
          0.4028049667199451,
          0.47067933632894776,
          0.4838513736805101,
          0.38792473089650475,
          0.44711143162003586,
          0.39969844512764147,
          0.5449491008153047,
          0.45058439594277133,
          0.44251007368966644,
          0.44649880187283825,
          0.42571961618633003,
          0.48943222298335554,
          0.4848035014881876,
          0.5392710826088161,
          0.6125189533389539,
          0.44929509405761203,
          0.4300198457409997,
          0.4178343821927278,
          0.42066761951704496,
          0.4424007792456006,
          0.48871466547283793,
          0.37561981660125143,
          0.5251407699053544,
          0.3886605755208672,
          0.41454905429341254,
          0.4101979955783626
         ],
         "yaxis": "y"
        },
        {
         "hovertemplate": "<b>OLS trendline</b><br>predicted = 0.0431383 * true + 0.433235<br>R<sup>2</sup>=0.016298<br><br>tag=cpm<br>true=%{x}<br>predicted=%{y} <b>(trend)</b><extra></extra>",
         "legendgroup": "cpm",
         "marker": {
          "color": "#ab63fa",
          "symbol": "circle"
         },
         "mode": "lines",
         "name": "cpm",
         "showlegend": false,
         "type": "scatter",
         "x": [
          0.03225806451612903,
          0.06451612903225806,
          0.16129032258064516,
          0.16129032258064516,
          0.16129032258064516,
          0.1935483870967742,
          0.1935483870967742,
          0.22580645161290322,
          0.22580645161290322,
          0.25806451612903225,
          0.2903225806451613,
          0.3548387096774194,
          0.3548387096774194,
          0.3548387096774194,
          0.3548387096774194,
          0.3870967741935484,
          0.3870967741935484,
          0.3870967741935484,
          0.41935483870967744,
          0.41935483870967744,
          0.41935483870967744,
          0.41935483870967744,
          0.41935483870967744,
          0.41935483870967744,
          0.41935483870967744,
          0.45161290322580644,
          0.45161290322580644,
          0.4838709677419355,
          0.4838709677419355,
          0.4838709677419355,
          0.4838709677419355,
          0.4838709677419355,
          0.4838709677419355,
          0.5161290322580645,
          0.5161290322580645,
          0.5161290322580645,
          0.5483870967741935,
          0.5483870967741935,
          0.5483870967741935,
          0.5483870967741935,
          0.5483870967741935,
          0.5483870967741935,
          0.5483870967741935,
          0.5806451612903226,
          0.5806451612903226,
          0.5806451612903226,
          0.5806451612903226,
          0.5806451612903226,
          0.6129032258064516,
          0.6129032258064516,
          0.6129032258064516,
          0.6451612903225806,
          0.6451612903225806,
          0.6451612903225806,
          0.6451612903225806,
          0.6451612903225806,
          0.6451612903225806,
          0.6774193548387096,
          0.6774193548387096,
          0.6774193548387096,
          0.6774193548387096,
          0.6774193548387096,
          0.7096774193548387,
          0.7096774193548387,
          0.7419354838709677,
          0.7419354838709677,
          0.7419354838709677,
          0.7741935483870968,
          0.7741935483870968,
          0.7741935483870968,
          0.7741935483870968,
          0.7741935483870968,
          0.8387096774193549,
          0.9032258064516129,
          0.9354838709677419,
          1
         ],
         "xaxis": "x",
         "y": [
          0.4346263737289066,
          0.43601793060673316,
          0.4401926012402129,
          0.4401926012402129,
          0.4401926012402129,
          0.4415841581180395,
          0.4415841581180395,
          0.4429757149958661,
          0.4429757149958661,
          0.4443672718736927,
          0.4457588287515193,
          0.44854194250717244,
          0.44854194250717244,
          0.44854194250717244,
          0.44854194250717244,
          0.44993349938499905,
          0.44993349938499905,
          0.44993349938499905,
          0.4513250562628256,
          0.4513250562628256,
          0.4513250562628256,
          0.4513250562628256,
          0.4513250562628256,
          0.4513250562628256,
          0.4513250562628256,
          0.4527166131406522,
          0.4527166131406522,
          0.4541081700184788,
          0.4541081700184788,
          0.4541081700184788,
          0.4541081700184788,
          0.4541081700184788,
          0.4541081700184788,
          0.45549972689630536,
          0.45549972689630536,
          0.45549972689630536,
          0.45689128377413196,
          0.45689128377413196,
          0.45689128377413196,
          0.45689128377413196,
          0.45689128377413196,
          0.45689128377413196,
          0.45689128377413196,
          0.45828284065195857,
          0.45828284065195857,
          0.45828284065195857,
          0.45828284065195857,
          0.45828284065195857,
          0.4596743975297851,
          0.4596743975297851,
          0.4596743975297851,
          0.4610659544076117,
          0.4610659544076117,
          0.4610659544076117,
          0.4610659544076117,
          0.4610659544076117,
          0.4610659544076117,
          0.46245751128543827,
          0.46245751128543827,
          0.46245751128543827,
          0.46245751128543827,
          0.46245751128543827,
          0.4638490681632649,
          0.4638490681632649,
          0.4652406250410915,
          0.4652406250410915,
          0.4652406250410915,
          0.46663218191891803,
          0.46663218191891803,
          0.46663218191891803,
          0.46663218191891803,
          0.46663218191891803,
          0.46941529567457124,
          0.4721984094302244,
          0.47358996630805095,
          0.47637308006370416
         ],
         "yaxis": "y"
        }
       ],
       "layout": {
        "font": {
         "color": "black"
        },
        "height": 400,
        "legend": {
         "font": {
          "size": 20
         },
         "title": {
          "text": "tag"
         },
         "tracegroupgap": 0
        },
        "margin": {
         "t": 60
        },
        "template": {
         "data": {
          "bar": [
           {
            "error_x": {
             "color": "#2a3f5f"
            },
            "error_y": {
             "color": "#2a3f5f"
            },
            "marker": {
             "line": {
              "color": "white",
              "width": 0.5
             }
            },
            "type": "bar"
           }
          ],
          "barpolar": [
           {
            "marker": {
             "line": {
              "color": "white",
              "width": 0.5
             }
            },
            "type": "barpolar"
           }
          ],
          "carpet": [
           {
            "aaxis": {
             "endlinecolor": "#2a3f5f",
             "gridcolor": "#C8D4E3",
             "linecolor": "#C8D4E3",
             "minorgridcolor": "#C8D4E3",
             "startlinecolor": "#2a3f5f"
            },
            "baxis": {
             "endlinecolor": "#2a3f5f",
             "gridcolor": "#C8D4E3",
             "linecolor": "#C8D4E3",
             "minorgridcolor": "#C8D4E3",
             "startlinecolor": "#2a3f5f"
            },
            "type": "carpet"
           }
          ],
          "choropleth": [
           {
            "colorbar": {
             "outlinewidth": 0,
             "ticks": ""
            },
            "type": "choropleth"
           }
          ],
          "contour": [
           {
            "colorbar": {
             "outlinewidth": 0,
             "ticks": ""
            },
            "colorscale": [
             [
              0,
              "#0d0887"
             ],
             [
              0.1111111111111111,
              "#46039f"
             ],
             [
              0.2222222222222222,
              "#7201a8"
             ],
             [
              0.3333333333333333,
              "#9c179e"
             ],
             [
              0.4444444444444444,
              "#bd3786"
             ],
             [
              0.5555555555555556,
              "#d8576b"
             ],
             [
              0.6666666666666666,
              "#ed7953"
             ],
             [
              0.7777777777777778,
              "#fb9f3a"
             ],
             [
              0.8888888888888888,
              "#fdca26"
             ],
             [
              1,
              "#f0f921"
             ]
            ],
            "type": "contour"
           }
          ],
          "contourcarpet": [
           {
            "colorbar": {
             "outlinewidth": 0,
             "ticks": ""
            },
            "type": "contourcarpet"
           }
          ],
          "heatmap": [
           {
            "colorbar": {
             "outlinewidth": 0,
             "ticks": ""
            },
            "colorscale": [
             [
              0,
              "#0d0887"
             ],
             [
              0.1111111111111111,
              "#46039f"
             ],
             [
              0.2222222222222222,
              "#7201a8"
             ],
             [
              0.3333333333333333,
              "#9c179e"
             ],
             [
              0.4444444444444444,
              "#bd3786"
             ],
             [
              0.5555555555555556,
              "#d8576b"
             ],
             [
              0.6666666666666666,
              "#ed7953"
             ],
             [
              0.7777777777777778,
              "#fb9f3a"
             ],
             [
              0.8888888888888888,
              "#fdca26"
             ],
             [
              1,
              "#f0f921"
             ]
            ],
            "type": "heatmap"
           }
          ],
          "heatmapgl": [
           {
            "colorbar": {
             "outlinewidth": 0,
             "ticks": ""
            },
            "colorscale": [
             [
              0,
              "#0d0887"
             ],
             [
              0.1111111111111111,
              "#46039f"
             ],
             [
              0.2222222222222222,
              "#7201a8"
             ],
             [
              0.3333333333333333,
              "#9c179e"
             ],
             [
              0.4444444444444444,
              "#bd3786"
             ],
             [
              0.5555555555555556,
              "#d8576b"
             ],
             [
              0.6666666666666666,
              "#ed7953"
             ],
             [
              0.7777777777777778,
              "#fb9f3a"
             ],
             [
              0.8888888888888888,
              "#fdca26"
             ],
             [
              1,
              "#f0f921"
             ]
            ],
            "type": "heatmapgl"
           }
          ],
          "histogram": [
           {
            "marker": {
             "colorbar": {
              "outlinewidth": 0,
              "ticks": ""
             }
            },
            "type": "histogram"
           }
          ],
          "histogram2d": [
           {
            "colorbar": {
             "outlinewidth": 0,
             "ticks": ""
            },
            "colorscale": [
             [
              0,
              "#0d0887"
             ],
             [
              0.1111111111111111,
              "#46039f"
             ],
             [
              0.2222222222222222,
              "#7201a8"
             ],
             [
              0.3333333333333333,
              "#9c179e"
             ],
             [
              0.4444444444444444,
              "#bd3786"
             ],
             [
              0.5555555555555556,
              "#d8576b"
             ],
             [
              0.6666666666666666,
              "#ed7953"
             ],
             [
              0.7777777777777778,
              "#fb9f3a"
             ],
             [
              0.8888888888888888,
              "#fdca26"
             ],
             [
              1,
              "#f0f921"
             ]
            ],
            "type": "histogram2d"
           }
          ],
          "histogram2dcontour": [
           {
            "colorbar": {
             "outlinewidth": 0,
             "ticks": ""
            },
            "colorscale": [
             [
              0,
              "#0d0887"
             ],
             [
              0.1111111111111111,
              "#46039f"
             ],
             [
              0.2222222222222222,
              "#7201a8"
             ],
             [
              0.3333333333333333,
              "#9c179e"
             ],
             [
              0.4444444444444444,
              "#bd3786"
             ],
             [
              0.5555555555555556,
              "#d8576b"
             ],
             [
              0.6666666666666666,
              "#ed7953"
             ],
             [
              0.7777777777777778,
              "#fb9f3a"
             ],
             [
              0.8888888888888888,
              "#fdca26"
             ],
             [
              1,
              "#f0f921"
             ]
            ],
            "type": "histogram2dcontour"
           }
          ],
          "mesh3d": [
           {
            "colorbar": {
             "outlinewidth": 0,
             "ticks": ""
            },
            "type": "mesh3d"
           }
          ],
          "parcoords": [
           {
            "line": {
             "colorbar": {
              "outlinewidth": 0,
              "ticks": ""
             }
            },
            "type": "parcoords"
           }
          ],
          "pie": [
           {
            "automargin": true,
            "type": "pie"
           }
          ],
          "scatter": [
           {
            "marker": {
             "colorbar": {
              "outlinewidth": 0,
              "ticks": ""
             }
            },
            "type": "scatter"
           }
          ],
          "scatter3d": [
           {
            "line": {
             "colorbar": {
              "outlinewidth": 0,
              "ticks": ""
             }
            },
            "marker": {
             "colorbar": {
              "outlinewidth": 0,
              "ticks": ""
             }
            },
            "type": "scatter3d"
           }
          ],
          "scattercarpet": [
           {
            "marker": {
             "colorbar": {
              "outlinewidth": 0,
              "ticks": ""
             }
            },
            "type": "scattercarpet"
           }
          ],
          "scattergeo": [
           {
            "marker": {
             "colorbar": {
              "outlinewidth": 0,
              "ticks": ""
             }
            },
            "type": "scattergeo"
           }
          ],
          "scattergl": [
           {
            "marker": {
             "colorbar": {
              "outlinewidth": 0,
              "ticks": ""
             }
            },
            "type": "scattergl"
           }
          ],
          "scattermapbox": [
           {
            "marker": {
             "colorbar": {
              "outlinewidth": 0,
              "ticks": ""
             }
            },
            "type": "scattermapbox"
           }
          ],
          "scatterpolar": [
           {
            "marker": {
             "colorbar": {
              "outlinewidth": 0,
              "ticks": ""
             }
            },
            "type": "scatterpolar"
           }
          ],
          "scatterpolargl": [
           {
            "marker": {
             "colorbar": {
              "outlinewidth": 0,
              "ticks": ""
             }
            },
            "type": "scatterpolargl"
           }
          ],
          "scatterternary": [
           {
            "marker": {
             "colorbar": {
              "outlinewidth": 0,
              "ticks": ""
             }
            },
            "type": "scatterternary"
           }
          ],
          "surface": [
           {
            "colorbar": {
             "outlinewidth": 0,
             "ticks": ""
            },
            "colorscale": [
             [
              0,
              "#0d0887"
             ],
             [
              0.1111111111111111,
              "#46039f"
             ],
             [
              0.2222222222222222,
              "#7201a8"
             ],
             [
              0.3333333333333333,
              "#9c179e"
             ],
             [
              0.4444444444444444,
              "#bd3786"
             ],
             [
              0.5555555555555556,
              "#d8576b"
             ],
             [
              0.6666666666666666,
              "#ed7953"
             ],
             [
              0.7777777777777778,
              "#fb9f3a"
             ],
             [
              0.8888888888888888,
              "#fdca26"
             ],
             [
              1,
              "#f0f921"
             ]
            ],
            "type": "surface"
           }
          ],
          "table": [
           {
            "cells": {
             "fill": {
              "color": "#EBF0F8"
             },
             "line": {
              "color": "white"
             }
            },
            "header": {
             "fill": {
              "color": "#C8D4E3"
             },
             "line": {
              "color": "white"
             }
            },
            "type": "table"
           }
          ]
         },
         "layout": {
          "annotationdefaults": {
           "arrowcolor": "#2a3f5f",
           "arrowhead": 0,
           "arrowwidth": 1
          },
          "coloraxis": {
           "colorbar": {
            "outlinewidth": 0,
            "ticks": ""
           }
          },
          "colorscale": {
           "diverging": [
            [
             0,
             "#8e0152"
            ],
            [
             0.1,
             "#c51b7d"
            ],
            [
             0.2,
             "#de77ae"
            ],
            [
             0.3,
             "#f1b6da"
            ],
            [
             0.4,
             "#fde0ef"
            ],
            [
             0.5,
             "#f7f7f7"
            ],
            [
             0.6,
             "#e6f5d0"
            ],
            [
             0.7,
             "#b8e186"
            ],
            [
             0.8,
             "#7fbc41"
            ],
            [
             0.9,
             "#4d9221"
            ],
            [
             1,
             "#276419"
            ]
           ],
           "sequential": [
            [
             0,
             "#0d0887"
            ],
            [
             0.1111111111111111,
             "#46039f"
            ],
            [
             0.2222222222222222,
             "#7201a8"
            ],
            [
             0.3333333333333333,
             "#9c179e"
            ],
            [
             0.4444444444444444,
             "#bd3786"
            ],
            [
             0.5555555555555556,
             "#d8576b"
            ],
            [
             0.6666666666666666,
             "#ed7953"
            ],
            [
             0.7777777777777778,
             "#fb9f3a"
            ],
            [
             0.8888888888888888,
             "#fdca26"
            ],
            [
             1,
             "#f0f921"
            ]
           ],
           "sequentialminus": [
            [
             0,
             "#0d0887"
            ],
            [
             0.1111111111111111,
             "#46039f"
            ],
            [
             0.2222222222222222,
             "#7201a8"
            ],
            [
             0.3333333333333333,
             "#9c179e"
            ],
            [
             0.4444444444444444,
             "#bd3786"
            ],
            [
             0.5555555555555556,
             "#d8576b"
            ],
            [
             0.6666666666666666,
             "#ed7953"
            ],
            [
             0.7777777777777778,
             "#fb9f3a"
            ],
            [
             0.8888888888888888,
             "#fdca26"
            ],
            [
             1,
             "#f0f921"
            ]
           ]
          },
          "colorway": [
           "#636efa",
           "#EF553B",
           "#00cc96",
           "#ab63fa",
           "#FFA15A",
           "#19d3f3",
           "#FF6692",
           "#B6E880",
           "#FF97FF",
           "#FECB52"
          ],
          "font": {
           "color": "#2a3f5f"
          },
          "geo": {
           "bgcolor": "white",
           "lakecolor": "white",
           "landcolor": "white",
           "showlakes": true,
           "showland": true,
           "subunitcolor": "#C8D4E3"
          },
          "hoverlabel": {
           "align": "left"
          },
          "hovermode": "closest",
          "mapbox": {
           "style": "light"
          },
          "paper_bgcolor": "white",
          "plot_bgcolor": "white",
          "polar": {
           "angularaxis": {
            "gridcolor": "#EBF0F8",
            "linecolor": "#EBF0F8",
            "ticks": ""
           },
           "bgcolor": "white",
           "radialaxis": {
            "gridcolor": "#EBF0F8",
            "linecolor": "#EBF0F8",
            "ticks": ""
           }
          },
          "scene": {
           "xaxis": {
            "backgroundcolor": "white",
            "gridcolor": "#DFE8F3",
            "gridwidth": 2,
            "linecolor": "#EBF0F8",
            "showbackground": true,
            "ticks": "",
            "zerolinecolor": "#EBF0F8"
           },
           "yaxis": {
            "backgroundcolor": "white",
            "gridcolor": "#DFE8F3",
            "gridwidth": 2,
            "linecolor": "#EBF0F8",
            "showbackground": true,
            "ticks": "",
            "zerolinecolor": "#EBF0F8"
           },
           "zaxis": {
            "backgroundcolor": "white",
            "gridcolor": "#DFE8F3",
            "gridwidth": 2,
            "linecolor": "#EBF0F8",
            "showbackground": true,
            "ticks": "",
            "zerolinecolor": "#EBF0F8"
           }
          },
          "shapedefaults": {
           "line": {
            "color": "#2a3f5f"
           }
          },
          "ternary": {
           "aaxis": {
            "gridcolor": "#DFE8F3",
            "linecolor": "#A2B1C6",
            "ticks": ""
           },
           "baxis": {
            "gridcolor": "#DFE8F3",
            "linecolor": "#A2B1C6",
            "ticks": ""
           },
           "bgcolor": "white",
           "caxis": {
            "gridcolor": "#DFE8F3",
            "linecolor": "#A2B1C6",
            "ticks": ""
           }
          },
          "title": {
           "x": 0.05
          },
          "xaxis": {
           "automargin": true,
           "gridcolor": "#EBF0F8",
           "linecolor": "#EBF0F8",
           "ticks": "",
           "title": {
            "standoff": 15
           },
           "zerolinecolor": "#EBF0F8",
           "zerolinewidth": 2
          },
          "yaxis": {
           "automargin": true,
           "gridcolor": "#EBF0F8",
           "linecolor": "#EBF0F8",
           "ticks": "",
           "title": {
            "standoff": 15
           },
           "zerolinecolor": "#EBF0F8",
           "zerolinewidth": 2
          }
         }
        },
        "title": {
         "text": "NEOFAC_E"
        },
        "width": 480,
        "xaxis": {
         "anchor": "y",
         "domain": [
          0,
          1
         ],
         "dtick": 0.2,
         "tickfont": {
          "size": 20
         },
         "title": {
          "font": {
           "size": 20
          },
          "text": "True"
         }
        },
        "yaxis": {
         "anchor": "x",
         "domain": [
          0,
          1
         ],
         "dtick": 0.2,
         "tickfont": {
          "size": 20
         },
         "title": {
          "font": {
           "size": 20
          },
          "text": "Predicted"
         }
        }
       }
      },
      "text/html": [
       "<div>\n",
       "        \n",
       "        \n",
       "            <div id=\"dcb4fc0a-504f-4ffa-8404-733d10cc21d3\" class=\"plotly-graph-div\" style=\"height:400px; width:480px;\"></div>\n",
       "            <script type=\"text/javascript\">\n",
       "                require([\"plotly\"], function(Plotly) {\n",
       "                    window.PLOTLYENV=window.PLOTLYENV || {};\n",
       "                    \n",
       "                if (document.getElementById(\"dcb4fc0a-504f-4ffa-8404-733d10cc21d3\")) {\n",
       "                    Plotly.newPlot(\n",
       "                        'dcb4fc0a-504f-4ffa-8404-733d10cc21d3',\n",
       "                        [{\"hovertemplate\": \"tag=gru<br>true=%{x}<br>predicted=%{y}<extra></extra>\", \"legendgroup\": \"gru\", \"marker\": {\"color\": \"#636efa\", \"symbol\": \"circle\"}, \"mode\": \"markers\", \"name\": \"gru\", \"showlegend\": true, \"type\": \"scatter\", \"x\": [0.4193548262119293, 0.4193548262119293, 0.4193548262119293, 0.4193548262119293, 0.774193525314331, 0.774193525314331, 0.774193525314331, 0.774193525314331, 0.6129032373428345, 0.6129032373428345, 0.6129032373428345, 0.6129032373428345, 0.9354838728904724, 0.9354838728904724, 0.9354838728904724, 0.9354838728904724, 0.9032257795333862, 0.9032257795333862, 0.9032257795333862, 0.9032257795333862, 0.35483869910240173, 0.35483869910240173, 0.35483869910240173, 0.35483869910240173, 0.5161290168762207, 0.5161290168762207, 0.5161290168762207, 0.5161290168762207, 0.4838709533214569, 0.4838709533214569, 0.4838709533214569, 0.4838709533214569, 0.3870967626571655, 0.3870967626571655, 0.3870967626571655, 0.3870967626571655, 0.4193548262119293, 0.4193548262119293, 0.4193548262119293, 0.4193548262119293, 0.4838709533214569, 0.4838709533214569, 0.4838709533214569, 0.4838709533214569, 0.774193525314331, 0.774193525314331, 0.774193525314331, 0.774193525314331, 0.4838709533214569, 0.4838709533214569, 0.4838709533214569, 0.4838709533214569, 0.35483869910240173, 0.35483869910240173, 0.35483869910240173, 0.35483869910240173, 0.7419354915618896, 0.7419354915618896, 0.7419354915618896, 0.7419354915618896, 0.5806451439857483, 0.5806451439857483, 0.5806451439857483, 0.5806451439857483, 0.7096773982048035, 0.7096773982048035, 0.7096773982048035, 0.7096773982048035, 0.4516128897666931, 0.4516128897666931, 0.4516128897666931, 0.4516128897666931, 0.4193548262119293, 0.4193548262119293, 0.4193548262119293, 0.4193548262119293, 0.3870967626571655, 0.3870967626571655, 0.3870967626571655, 0.3870967626571655, 0.5806451439857483, 0.5806451439857483, 0.5806451439857483, 0.5806451439857483, 0.4193548262119293, 0.4193548262119293, 0.4193548262119293, 0.4193548262119293, 0.25806450843811035, 0.25806450843811035, 0.25806450843811035, 0.25806450843811035, 0.6129032373428345, 0.6129032373428345, 0.6129032373428345, 0.6129032373428345, 0.6451612710952759, 0.6451612710952759, 0.6451612710952759, 0.6451612710952759, 0.29032257199287415, 0.29032257199287415, 0.29032257199287415, 0.29032257199287415, 0.5483871102333069, 0.5483871102333069, 0.5483871102333069, 0.5483871102333069, 0.8387096524238586, 0.8387096524238586, 0.8387096524238586, 0.8387096524238586, 0.774193525314331, 0.774193525314331, 0.774193525314331, 0.774193525314331, 0.22580644488334656, 0.22580644488334656, 0.22580644488334656, 0.22580644488334656, 0.35483869910240173, 0.35483869910240173, 0.35483869910240173, 0.35483869910240173, 1.0, 1.0, 1.0, 1.0, 0.5161290168762207, 0.5161290168762207, 0.5161290168762207, 0.5161290168762207, 0.5483871102333069, 0.5483871102333069, 0.5483871102333069, 0.5483871102333069, 0.5806451439857483, 0.5806451439857483, 0.5806451439857483, 0.5806451439857483, 0.6774193644523621, 0.6774193644523621, 0.6774193644523621, 0.6774193644523621, 0.6774193644523621, 0.6774193644523621, 0.6774193644523621, 0.6774193644523621, 0.5483871102333069, 0.5483871102333069, 0.5483871102333069, 0.5483871102333069, 0.19354838132858276, 0.19354838132858276, 0.19354838132858276, 0.19354838132858276, 0.6774193644523621, 0.6774193644523621, 0.6774193644523621, 0.6774193644523621, 0.7419354915618896, 0.7419354915618896, 0.7419354915618896, 0.7419354915618896, 0.16129031777381897, 0.16129031777381897, 0.16129031777381897, 0.16129031777381897, 0.35483869910240173, 0.35483869910240173, 0.35483869910240173, 0.35483869910240173, 0.16129031777381897, 0.16129031777381897, 0.16129031777381897, 0.16129031777381897, 0.5806451439857483, 0.5806451439857483, 0.5806451439857483, 0.5806451439857483, 0.6774193644523621, 0.6774193644523621, 0.6774193644523621, 0.6774193644523621, 0.16129031777381897, 0.16129031777381897, 0.16129031777381897, 0.16129031777381897, 0.4193548262119293, 0.4193548262119293, 0.4193548262119293, 0.4193548262119293, 0.5161290168762207, 0.5161290168762207, 0.5161290168762207, 0.5161290168762207, 0.3870967626571655, 0.3870967626571655, 0.3870967626571655, 0.3870967626571655, 0.5806451439857483, 0.5806451439857483, 0.5806451439857483, 0.5806451439857483, 0.5483871102333069, 0.5483871102333069, 0.5483871102333069, 0.5483871102333069, 0.22580644488334656, 0.22580644488334656, 0.22580644488334656, 0.22580644488334656, 0.06451612710952759, 0.06451612710952759, 0.06451612710952759, 0.06451612710952759, 0.4838709533214569, 0.4838709533214569, 0.4838709533214569, 0.4838709533214569, 0.5483871102333069, 0.5483871102333069, 0.5483871102333069, 0.5483871102333069, 0.7096773982048035, 0.7096773982048035, 0.7096773982048035, 0.7096773982048035, 0.5483871102333069, 0.5483871102333069, 0.5483871102333069, 0.5483871102333069, 0.6451612710952759, 0.6451612710952759, 0.6451612710952759, 0.6451612710952759, 0.6451612710952759, 0.6451612710952759, 0.6451612710952759, 0.6451612710952759, 0.4838709533214569, 0.4838709533214569, 0.4838709533214569, 0.4838709533214569, 0.4193548262119293, 0.4193548262119293, 0.4193548262119293, 0.4193548262119293, 0.032258063554763794, 0.032258063554763794, 0.032258063554763794, 0.032258063554763794, 0.6451612710952759, 0.6451612710952759, 0.6451612710952759, 0.6451612710952759, 0.7419354915618896, 0.7419354915618896, 0.7419354915618896, 0.7419354915618896, 0.4838709533214569, 0.4838709533214569, 0.4838709533214569, 0.4838709533214569, 0.6451612710952759, 0.6451612710952759, 0.6451612710952759, 0.6451612710952759, 0.4193548262119293, 0.4193548262119293, 0.4193548262119293, 0.4193548262119293, 0.774193525314331, 0.774193525314331, 0.774193525314331, 0.774193525314331, 0.6451612710952759, 0.6451612710952759, 0.6451612710952759, 0.6451612710952759, 0.4516128897666931, 0.4516128897666931, 0.4516128897666931, 0.4516128897666931, 0.774193525314331, 0.774193525314331, 0.774193525314331, 0.774193525314331, 0.19354838132858276, 0.19354838132858276, 0.19354838132858276, 0.19354838132858276, 0.5483871102333069, 0.5483871102333069, 0.5483871102333069, 0.5483871102333069, 0.6129032373428345, 0.6129032373428345, 0.6129032373428345, 0.6129032373428345, 0.6774193644523621, 0.6774193644523621, 0.6774193644523621, 0.6774193644523621], \"xaxis\": \"x\", \"y\": [0.5802668333053589, 0.3804352879524231, 0.39573246240615845, 0.36280620098114014, 0.41755935549736023, 0.5434857606887817, 0.5405949950218201, 0.5734335780143738, 0.3642449975013733, 0.42738842964172363, 0.5072834491729736, 0.3722073435783386, 0.5226972103118896, 0.40228018164634705, 0.5745472311973572, 0.46820664405822754, 0.31449413299560547, 0.5260351300239563, 0.4764189124107361, 0.4695794880390167, 0.3083095848560333, 0.5303573608398438, 0.34359732270240784, 0.2215672731399536, 0.5336723923683167, 0.5950875878334045, 0.48477083444595337, 0.5923166871070862, 0.37528446316719055, 0.4972773790359497, 0.4227043688297272, 0.36135250329971313, 0.6032878160476685, 0.43695950508117676, 0.43777674436569214, 0.48980021476745605, 0.5557459592819214, 0.5157509446144104, 0.5955169796943665, 0.4599027633666992, 0.5036932229995728, 0.5028600096702576, 0.5387328863143921, 0.5831311941146851, 0.5239225029945374, 0.41886138916015625, 0.4857501983642578, 0.5152291059494019, 0.4559594392776489, 0.42505696415901184, 0.6013586521148682, 0.4338371455669403, 0.42308130860328674, 0.47411400079727173, 0.2826559543609619, 0.6242747902870178, 0.5744730234146118, 0.6434173583984375, 0.6007859110832214, 0.6767844557762146, 0.4214773178100586, 0.5842609405517578, 0.29438576102256775, 0.5222911834716797, 0.5013391375541687, 0.3813552260398865, 0.5152013301849365, 0.6022423505783081, 0.4036681056022644, 0.5314697623252869, 0.38298386335372925, 0.32662758231163025, 0.5112442374229431, 0.5847199559211731, 0.15713834762573242, 0.3635852634906769, 0.5893315076828003, 0.5371302962303162, 0.5401124954223633, 0.5335329174995422, 0.5524595379829407, 0.598842203617096, 0.3697942793369293, 0.6346572041511536, 0.44968360662460327, 0.3413311541080475, 0.4059070646762848, 0.5691892504692078, 0.4894769787788391, 0.39643511176109314, 0.32275646924972534, 0.3453688621520996, 0.2819923162460327, 0.4950733482837677, 0.39895206689834595, 0.4390329420566559, 0.4734737277030945, 0.7159345746040344, 0.3075215220451355, 0.418521523475647, 0.3550598621368408, 0.39216578006744385, 0.46787089109420776, 0.7118697762489319, 0.5617591738700867, 0.44067907333374023, 0.40624356269836426, 0.4034899175167084, 0.48961514234542847, 0.6674936413764954, 0.5305078625679016, 0.47981709241867065, 0.5056812763214111, 0.626538097858429, 0.5400153398513794, 0.4904893934726715, 0.3862363398075104, 0.36589598655700684, 0.3096337914466858, 0.47885051369667053, 0.5584484934806824, 0.52232426404953, 0.38077834248542786, 0.4292444586753845, 0.41866636276245117, 0.4272814393043518, 0.6519666314125061, 0.5205297470092773, 0.44721558690071106, 0.5327650308609009, 0.21947318315505981, 0.5286877155303955, 0.5182211995124817, 0.46118754148483276, 0.5276281833648682, 0.33908611536026, 0.42154523730278015, 0.4768068194389343, 0.28359732031822205, 0.39435797929763794, 0.4085170030593872, 0.4876822531223297, 0.3962108790874481, 0.5966015458106995, 0.48480892181396484, 0.6552836298942566, 0.6047564744949341, 0.5677746534347534, 0.38717666268348694, 0.6090371012687683, 0.4869799017906189, 0.418891578912735, 0.443910151720047, 0.48059654235839844, 0.36949074268341064, 0.7936031222343445, 0.49958622455596924, 0.4968551695346832, 0.48373425006866455, 0.33047401905059814, 0.4549650251865387, 0.3641980290412903, 0.3983815312385559, 0.665544331073761, 0.38064056634902954, 0.388793021440506, 0.278766006231308, 0.4386545419692993, 0.1938621997833252, 0.5677739381790161, 0.41637706756591797, 0.5200286507606506, 0.29231777787208557, 0.125732421875, 0.21865889430046082, 0.14511138200759888, 0.6003676056861877, 0.5300027132034302, 0.5724670886993408, 0.518633246421814, 0.33533039689064026, 0.30142828822135925, 0.4385727345943451, 0.5092912912368774, 0.22148138284683228, 0.22793856263160706, 0.3493587076663971, 0.29300886392593384, 0.47368061542510986, 0.38810983300209045, 0.3982113003730774, 0.41226425766944885, 0.6229599714279175, 0.6327965259552002, 0.5848089456558228, 0.8141338229179382, 0.49034541845321655, 0.5310884118080139, 0.5790613293647766, 0.4169577658176422, 0.5098326802253723, 0.23748669028282166, 0.3406776487827301, 0.5812669992446899, 0.4024735689163208, 0.5477285981178284, 0.5776054859161377, 0.6069619655609131, 0.5619034171104431, 0.43926429748535156, 0.5409627556800842, 0.4197900593280792, 0.4143142104148865, 0.31311360001564026, 0.38690638542175293, 0.5128358602523804, 0.38528668880462646, 0.43334856629371643, 0.37463143467903137, 0.3926582336425781, 0.4027371406555176, 0.3541693687438965, 0.40379080176353455, 0.38578546047210693, 0.7455481886863708, 0.7075833678245544, 0.38542234897613525, 0.452365905046463, 0.5190570950508118, 0.35274118185043335, 0.43381598591804504, 0.290054053068161, 0.5653678178787231, 0.3917856216430664, 0.4647197723388672, 0.310811847448349, 0.46540704369544983, 0.4204263985157013, 0.5003978610038757, 0.38149189949035645, 0.4612887501716614, 0.5229893326759338, 0.4147084355354309, 0.4765545427799225, 0.39287206530570984, 0.5291053652763367, 0.388287216424942, 0.44112271070480347, 0.46531882882118225, 0.5297983288764954, 0.5105296969413757, 0.6941830515861511, 0.3942197859287262, 0.4133422374725342, 0.5000208616256714, 0.4613804519176483, 0.706600546836853, 0.5003361105918884, 0.7596578598022461, 0.5219404101371765, 0.4222933351993561, 0.4713664650917053, 0.5500696897506714, 0.3947070837020874, 0.3706769347190857, 0.2962551414966583, 0.5017638802528381, 0.5720105171203613, 0.35974547266960144, 0.32567113637924194, 0.47633934020996094, 0.30942782759666443, 0.5439216494560242, 0.445981502532959, 0.4040522575378418, 0.5453574657440186, 0.41008520126342773, 0.4279771149158478, 0.5222728252410889, 0.24793368577957153, 0.530327320098877, 0.39992791414260864, 0.5070317387580872, 0.3630096912384033, 0.47608494758605957, 0.49704357981681824, 0.6561662554740906, 0.3413080871105194, 0.47203299403190613, 0.32696089148521423, 0.3122023046016693, 0.5005913376808167, 0.558427631855011, 0.3767467737197876, 0.32019853591918945, 0.3839055895805359, 0.3756241202354431, 0.4918893575668335, 0.49608632922172546, 0.367177814245224, 0.489938884973526, 0.6256383061408997, 0.5658198595046997, 0.5653561949729919], \"yaxis\": \"y\"}, {\"hovertemplate\": \"<b>OLS trendline</b><br>predicted = 0.143172 * true + 0.387117<br>R<sup>2</sup>=0.065049<br><br>tag=gru<br>true=%{x}<br>predicted=%{y} <b>(trend)</b><extra></extra>\", \"legendgroup\": \"gru\", \"marker\": {\"color\": \"#636efa\", \"symbol\": \"circle\"}, \"mode\": \"lines\", \"name\": \"gru\", \"showlegend\": false, \"type\": \"scatter\", \"x\": [0.032258063554763794, 0.032258063554763794, 0.032258063554763794, 0.032258063554763794, 0.06451612710952759, 0.06451612710952759, 0.06451612710952759, 0.06451612710952759, 0.16129031777381897, 0.16129031777381897, 0.16129031777381897, 0.16129031777381897, 0.16129031777381897, 0.16129031777381897, 0.16129031777381897, 0.16129031777381897, 0.16129031777381897, 0.16129031777381897, 0.16129031777381897, 0.16129031777381897, 0.19354838132858276, 0.19354838132858276, 0.19354838132858276, 0.19354838132858276, 0.19354838132858276, 0.19354838132858276, 0.19354838132858276, 0.19354838132858276, 0.22580644488334656, 0.22580644488334656, 0.22580644488334656, 0.22580644488334656, 0.22580644488334656, 0.22580644488334656, 0.22580644488334656, 0.22580644488334656, 0.25806450843811035, 0.25806450843811035, 0.25806450843811035, 0.25806450843811035, 0.29032257199287415, 0.29032257199287415, 0.29032257199287415, 0.29032257199287415, 0.35483869910240173, 0.35483869910240173, 0.35483869910240173, 0.35483869910240173, 0.35483869910240173, 0.35483869910240173, 0.35483869910240173, 0.35483869910240173, 0.35483869910240173, 0.35483869910240173, 0.35483869910240173, 0.35483869910240173, 0.35483869910240173, 0.35483869910240173, 0.35483869910240173, 0.35483869910240173, 0.3870967626571655, 0.3870967626571655, 0.3870967626571655, 0.3870967626571655, 0.3870967626571655, 0.3870967626571655, 0.3870967626571655, 0.3870967626571655, 0.3870967626571655, 0.3870967626571655, 0.3870967626571655, 0.3870967626571655, 0.4193548262119293, 0.4193548262119293, 0.4193548262119293, 0.4193548262119293, 0.4193548262119293, 0.4193548262119293, 0.4193548262119293, 0.4193548262119293, 0.4193548262119293, 0.4193548262119293, 0.4193548262119293, 0.4193548262119293, 0.4193548262119293, 0.4193548262119293, 0.4193548262119293, 0.4193548262119293, 0.4193548262119293, 0.4193548262119293, 0.4193548262119293, 0.4193548262119293, 0.4193548262119293, 0.4193548262119293, 0.4193548262119293, 0.4193548262119293, 0.4193548262119293, 0.4193548262119293, 0.4193548262119293, 0.4193548262119293, 0.4516128897666931, 0.4516128897666931, 0.4516128897666931, 0.4516128897666931, 0.4516128897666931, 0.4516128897666931, 0.4516128897666931, 0.4516128897666931, 0.4838709533214569, 0.4838709533214569, 0.4838709533214569, 0.4838709533214569, 0.4838709533214569, 0.4838709533214569, 0.4838709533214569, 0.4838709533214569, 0.4838709533214569, 0.4838709533214569, 0.4838709533214569, 0.4838709533214569, 0.4838709533214569, 0.4838709533214569, 0.4838709533214569, 0.4838709533214569, 0.4838709533214569, 0.4838709533214569, 0.4838709533214569, 0.4838709533214569, 0.4838709533214569, 0.4838709533214569, 0.4838709533214569, 0.4838709533214569, 0.5161290168762207, 0.5161290168762207, 0.5161290168762207, 0.5161290168762207, 0.5161290168762207, 0.5161290168762207, 0.5161290168762207, 0.5161290168762207, 0.5161290168762207, 0.5161290168762207, 0.5161290168762207, 0.5161290168762207, 0.5483871102333069, 0.5483871102333069, 0.5483871102333069, 0.5483871102333069, 0.5483871102333069, 0.5483871102333069, 0.5483871102333069, 0.5483871102333069, 0.5483871102333069, 0.5483871102333069, 0.5483871102333069, 0.5483871102333069, 0.5483871102333069, 0.5483871102333069, 0.5483871102333069, 0.5483871102333069, 0.5483871102333069, 0.5483871102333069, 0.5483871102333069, 0.5483871102333069, 0.5483871102333069, 0.5483871102333069, 0.5483871102333069, 0.5483871102333069, 0.5483871102333069, 0.5483871102333069, 0.5483871102333069, 0.5483871102333069, 0.5806451439857483, 0.5806451439857483, 0.5806451439857483, 0.5806451439857483, 0.5806451439857483, 0.5806451439857483, 0.5806451439857483, 0.5806451439857483, 0.5806451439857483, 0.5806451439857483, 0.5806451439857483, 0.5806451439857483, 0.5806451439857483, 0.5806451439857483, 0.5806451439857483, 0.5806451439857483, 0.5806451439857483, 0.5806451439857483, 0.5806451439857483, 0.5806451439857483, 0.6129032373428345, 0.6129032373428345, 0.6129032373428345, 0.6129032373428345, 0.6129032373428345, 0.6129032373428345, 0.6129032373428345, 0.6129032373428345, 0.6129032373428345, 0.6129032373428345, 0.6129032373428345, 0.6129032373428345, 0.6451612710952759, 0.6451612710952759, 0.6451612710952759, 0.6451612710952759, 0.6451612710952759, 0.6451612710952759, 0.6451612710952759, 0.6451612710952759, 0.6451612710952759, 0.6451612710952759, 0.6451612710952759, 0.6451612710952759, 0.6451612710952759, 0.6451612710952759, 0.6451612710952759, 0.6451612710952759, 0.6451612710952759, 0.6451612710952759, 0.6451612710952759, 0.6451612710952759, 0.6451612710952759, 0.6451612710952759, 0.6451612710952759, 0.6451612710952759, 0.6774193644523621, 0.6774193644523621, 0.6774193644523621, 0.6774193644523621, 0.6774193644523621, 0.6774193644523621, 0.6774193644523621, 0.6774193644523621, 0.6774193644523621, 0.6774193644523621, 0.6774193644523621, 0.6774193644523621, 0.6774193644523621, 0.6774193644523621, 0.6774193644523621, 0.6774193644523621, 0.6774193644523621, 0.6774193644523621, 0.6774193644523621, 0.6774193644523621, 0.7096773982048035, 0.7096773982048035, 0.7096773982048035, 0.7096773982048035, 0.7096773982048035, 0.7096773982048035, 0.7096773982048035, 0.7096773982048035, 0.7419354915618896, 0.7419354915618896, 0.7419354915618896, 0.7419354915618896, 0.7419354915618896, 0.7419354915618896, 0.7419354915618896, 0.7419354915618896, 0.7419354915618896, 0.7419354915618896, 0.7419354915618896, 0.7419354915618896, 0.774193525314331, 0.774193525314331, 0.774193525314331, 0.774193525314331, 0.774193525314331, 0.774193525314331, 0.774193525314331, 0.774193525314331, 0.774193525314331, 0.774193525314331, 0.774193525314331, 0.774193525314331, 0.774193525314331, 0.774193525314331, 0.774193525314331, 0.774193525314331, 0.774193525314331, 0.774193525314331, 0.774193525314331, 0.774193525314331, 0.8387096524238586, 0.8387096524238586, 0.8387096524238586, 0.8387096524238586, 0.9032257795333862, 0.9032257795333862, 0.9032257795333862, 0.9032257795333862, 0.9354838728904724, 0.9354838728904724, 0.9354838728904724, 0.9354838728904724, 1.0, 1.0, 1.0, 1.0], \"xaxis\": \"x\", \"y\": [0.39173544271893246, 0.39173544271893246, 0.39173544271893246, 0.39173544271893246, 0.39635389779697894, 0.39635389779697894, 0.39635389779697894, 0.39635389779697894, 0.4102092630311182, 0.4102092630311182, 0.4102092630311182, 0.4102092630311182, 0.4102092630311182, 0.4102092630311182, 0.4102092630311182, 0.4102092630311182, 0.4102092630311182, 0.4102092630311182, 0.4102092630311182, 0.4102092630311182, 0.41482771810916463, 0.41482771810916463, 0.41482771810916463, 0.41482771810916463, 0.41482771810916463, 0.41482771810916463, 0.41482771810916463, 0.41482771810916463, 0.4194461731872111, 0.4194461731872111, 0.4194461731872111, 0.4194461731872111, 0.4194461731872111, 0.4194461731872111, 0.4194461731872111, 0.4194461731872111, 0.42406462826525754, 0.42406462826525754, 0.42406462826525754, 0.42406462826525754, 0.42868308334330396, 0.42868308334330396, 0.42868308334330396, 0.42868308334330396, 0.43791999349939686, 0.43791999349939686, 0.43791999349939686, 0.43791999349939686, 0.43791999349939686, 0.43791999349939686, 0.43791999349939686, 0.43791999349939686, 0.43791999349939686, 0.43791999349939686, 0.43791999349939686, 0.43791999349939686, 0.43791999349939686, 0.43791999349939686, 0.43791999349939686, 0.43791999349939686, 0.4425384485774433, 0.4425384485774433, 0.4425384485774433, 0.4425384485774433, 0.4425384485774433, 0.4425384485774433, 0.4425384485774433, 0.4425384485774433, 0.4425384485774433, 0.4425384485774433, 0.4425384485774433, 0.4425384485774433, 0.4471569036554897, 0.4471569036554897, 0.4471569036554897, 0.4471569036554897, 0.4471569036554897, 0.4471569036554897, 0.4471569036554897, 0.4471569036554897, 0.4471569036554897, 0.4471569036554897, 0.4471569036554897, 0.4471569036554897, 0.4471569036554897, 0.4471569036554897, 0.4471569036554897, 0.4471569036554897, 0.4471569036554897, 0.4471569036554897, 0.4471569036554897, 0.4471569036554897, 0.4471569036554897, 0.4471569036554897, 0.4471569036554897, 0.4471569036554897, 0.4471569036554897, 0.4471569036554897, 0.4471569036554897, 0.4471569036554897, 0.45177535873353614, 0.45177535873353614, 0.45177535873353614, 0.45177535873353614, 0.45177535873353614, 0.45177535873353614, 0.45177535873353614, 0.45177535873353614, 0.4563938138115826, 0.4563938138115826, 0.4563938138115826, 0.4563938138115826, 0.4563938138115826, 0.4563938138115826, 0.4563938138115826, 0.4563938138115826, 0.4563938138115826, 0.4563938138115826, 0.4563938138115826, 0.4563938138115826, 0.4563938138115826, 0.4563938138115826, 0.4563938138115826, 0.4563938138115826, 0.4563938138115826, 0.4563938138115826, 0.4563938138115826, 0.4563938138115826, 0.4563938138115826, 0.4563938138115826, 0.4563938138115826, 0.4563938138115826, 0.46101226888962904, 0.46101226888962904, 0.46101226888962904, 0.46101226888962904, 0.46101226888962904, 0.46101226888962904, 0.46101226888962904, 0.46101226888962904, 0.46101226888962904, 0.46101226888962904, 0.46101226888962904, 0.46101226888962904, 0.4656307282345369, 0.4656307282345369, 0.4656307282345369, 0.4656307282345369, 0.4656307282345369, 0.4656307282345369, 0.4656307282345369, 0.4656307282345369, 0.4656307282345369, 0.4656307282345369, 0.4656307282345369, 0.4656307282345369, 0.4656307282345369, 0.4656307282345369, 0.4656307282345369, 0.4656307282345369, 0.4656307282345369, 0.4656307282345369, 0.4656307282345369, 0.4656307282345369, 0.4656307282345369, 0.4656307282345369, 0.4656307282345369, 0.4656307282345369, 0.4656307282345369, 0.4656307282345369, 0.4656307282345369, 0.4656307282345369, 0.47024917904572194, 0.47024917904572194, 0.47024917904572194, 0.47024917904572194, 0.47024917904572194, 0.47024917904572194, 0.47024917904572194, 0.47024917904572194, 0.47024917904572194, 0.47024917904572194, 0.47024917904572194, 0.47024917904572194, 0.47024917904572194, 0.47024917904572194, 0.47024917904572194, 0.47024917904572194, 0.47024917904572194, 0.47024917904572194, 0.47024917904572194, 0.47024917904572194, 0.4748676383906298, 0.4748676383906298, 0.4748676383906298, 0.4748676383906298, 0.4748676383906298, 0.4748676383906298, 0.4748676383906298, 0.4748676383906298, 0.4748676383906298, 0.4748676383906298, 0.4748676383906298, 0.4748676383906298, 0.4794860892018148, 0.4794860892018148, 0.4794860892018148, 0.4794860892018148, 0.4794860892018148, 0.4794860892018148, 0.4794860892018148, 0.4794860892018148, 0.4794860892018148, 0.4794860892018148, 0.4794860892018148, 0.4794860892018148, 0.4794860892018148, 0.4794860892018148, 0.4794860892018148, 0.4794860892018148, 0.4794860892018148, 0.4794860892018148, 0.4794860892018148, 0.4794860892018148, 0.4794860892018148, 0.4794860892018148, 0.4794860892018148, 0.4794860892018148, 0.4841045485467227, 0.4841045485467227, 0.4841045485467227, 0.4841045485467227, 0.4841045485467227, 0.4841045485467227, 0.4841045485467227, 0.4841045485467227, 0.4841045485467227, 0.4841045485467227, 0.4841045485467227, 0.4841045485467227, 0.4841045485467227, 0.4841045485467227, 0.4841045485467227, 0.4841045485467227, 0.4841045485467227, 0.4841045485467227, 0.4841045485467227, 0.4841045485467227, 0.48872299935790764, 0.48872299935790764, 0.48872299935790764, 0.48872299935790764, 0.48872299935790764, 0.48872299935790764, 0.48872299935790764, 0.48872299935790764, 0.49334145870281554, 0.49334145870281554, 0.49334145870281554, 0.49334145870281554, 0.49334145870281554, 0.49334145870281554, 0.49334145870281554, 0.49334145870281554, 0.49334145870281554, 0.49334145870281554, 0.49334145870281554, 0.49334145870281554, 0.49795990951400054, 0.49795990951400054, 0.49795990951400054, 0.49795990951400054, 0.49795990951400054, 0.49795990951400054, 0.49795990951400054, 0.49795990951400054, 0.49795990951400054, 0.49795990951400054, 0.49795990951400054, 0.49795990951400054, 0.49795990951400054, 0.49795990951400054, 0.49795990951400054, 0.49795990951400054, 0.49795990951400054, 0.49795990951400054, 0.49795990951400054, 0.49795990951400054, 0.5071968196700934, 0.5071968196700934, 0.5071968196700934, 0.5071968196700934, 0.5164337298261863, 0.5164337298261863, 0.5164337298261863, 0.5164337298261863, 0.5210521891710942, 0.5210521891710942, 0.5210521891710942, 0.5210521891710942, 0.530289099327187, 0.530289099327187, 0.530289099327187, 0.530289099327187], \"yaxis\": \"y\"}, {\"hovertemplate\": \"tag=ff<br>true=%{x}<br>predicted=%{y}<extra></extra>\", \"legendgroup\": \"ff\", \"marker\": {\"color\": \"#EF553B\", \"symbol\": \"circle\"}, \"mode\": \"markers\", \"name\": \"ff\", \"showlegend\": true, \"type\": \"scatter\", \"x\": [0.4193548262119293, 0.774193525314331, 0.6129032373428345, 0.9354838728904724, 0.9032257795333862, 0.35483869910240173, 0.5161290168762207, 0.4838709533214569, 0.3870967626571655, 0.4193548262119293, 0.4838709533214569, 0.774193525314331, 0.4838709533214569, 0.35483869910240173, 0.7419354915618896, 0.5806451439857483, 0.7096773982048035, 0.4516128897666931, 0.4193548262119293, 0.3870967626571655, 0.5806451439857483, 0.4193548262119293, 0.25806450843811035, 0.6129032373428345, 0.6451612710952759, 0.29032257199287415, 0.5483871102333069, 0.8387096524238586, 0.774193525314331, 0.22580644488334656, 0.35483869910240173, 1.0, 0.5161290168762207, 0.5483871102333069, 0.5806451439857483, 0.6774193644523621, 0.6774193644523621, 0.5483871102333069, 0.19354838132858276, 0.6774193644523621, 0.7419354915618896, 0.16129031777381897, 0.35483869910240173, 0.16129031777381897, 0.5806451439857483, 0.6774193644523621, 0.16129031777381897, 0.4193548262119293, 0.5161290168762207, 0.3870967626571655, 0.5806451439857483, 0.5483871102333069, 0.22580644488334656, 0.06451612710952759, 0.4838709533214569, 0.5483871102333069, 0.7096773982048035, 0.5483871102333069, 0.6451612710952759, 0.6451612710952759, 0.4838709533214569, 0.4193548262119293, 0.032258063554763794, 0.6451612710952759, 0.7419354915618896, 0.4838709533214569, 0.6451612710952759, 0.4193548262119293, 0.774193525314331, 0.6451612710952759, 0.4516128897666931, 0.774193525314331, 0.19354838132858276, 0.5483871102333069, 0.6129032373428345, 0.6774193644523621], \"xaxis\": \"x\", \"y\": [0.5526312589645386, 0.4771586060523987, 0.6402584910392761, 0.8030794262886047, 0.20143213868141174, 0.42813265323638916, 0.5952473878860474, 0.44012436270713806, 0.4135519862174988, 0.5892371535301208, 0.46827882528305054, 0.507470965385437, 0.37855619192123413, 0.4594106078147888, 0.6819478273391724, 0.5387641787528992, 0.3816415071487427, 0.5575951933860779, 0.4557293653488159, 0.46515288949012756, 0.4708094000816345, 0.394294410943985, 0.21753814816474915, 0.3615241050720215, 0.5959974527359009, 0.4690690338611603, 0.39647001028060913, 0.6479352116584778, 0.5662298202514648, 0.5096182823181152, 0.4655351936817169, 0.5760316848754883, 0.513945460319519, 0.6279355883598328, 0.4339137375354767, 0.44081974029541016, 0.3900632858276367, 0.49248310923576355, 0.33403536677360535, 0.4771433472633362, 0.39266514778137207, 0.4263820946216583, 0.25831106305122375, 0.2694059908390045, 0.7105786204338074, 0.47843626141548157, 0.5406190752983093, 0.12149600684642792, 0.2812068462371826, 0.4929395914077759, 0.4897804260253906, 0.5143879055976868, 0.276589572429657, 0.5003255605697632, 0.4085158705711365, 0.5795115232467651, 0.49869048595428467, 0.48723262548446655, 0.30350008606910706, 0.25470033288002014, 0.4479271173477173, 0.3813477158546448, 0.4631631672382355, 0.48369336128234863, 0.5867370963096619, 0.3974105417728424, 0.6806725263595581, 0.27252280712127686, 0.5714059472084045, 0.44544875621795654, 0.3541719317436218, 0.6079437136650085, 0.3617124855518341, 0.2991400957107544, 0.4371626675128937, 0.5145190358161926], \"yaxis\": \"y\"}, {\"hovertemplate\": \"<b>OLS trendline</b><br>predicted = 0.214313 * true + 0.348186<br>R<sup>2</sup>=0.118980<br><br>tag=ff<br>true=%{x}<br>predicted=%{y} <b>(trend)</b><extra></extra>\", \"legendgroup\": \"ff\", \"marker\": {\"color\": \"#EF553B\", \"symbol\": \"circle\"}, \"mode\": \"lines\", \"name\": \"ff\", \"showlegend\": false, \"type\": \"scatter\", \"x\": [0.032258063554763794, 0.06451612710952759, 0.16129031777381897, 0.16129031777381897, 0.16129031777381897, 0.19354838132858276, 0.19354838132858276, 0.22580644488334656, 0.22580644488334656, 0.25806450843811035, 0.29032257199287415, 0.35483869910240173, 0.35483869910240173, 0.35483869910240173, 0.35483869910240173, 0.3870967626571655, 0.3870967626571655, 0.3870967626571655, 0.4193548262119293, 0.4193548262119293, 0.4193548262119293, 0.4193548262119293, 0.4193548262119293, 0.4193548262119293, 0.4193548262119293, 0.4516128897666931, 0.4516128897666931, 0.4838709533214569, 0.4838709533214569, 0.4838709533214569, 0.4838709533214569, 0.4838709533214569, 0.4838709533214569, 0.5161290168762207, 0.5161290168762207, 0.5161290168762207, 0.5483871102333069, 0.5483871102333069, 0.5483871102333069, 0.5483871102333069, 0.5483871102333069, 0.5483871102333069, 0.5483871102333069, 0.5806451439857483, 0.5806451439857483, 0.5806451439857483, 0.5806451439857483, 0.5806451439857483, 0.6129032373428345, 0.6129032373428345, 0.6129032373428345, 0.6451612710952759, 0.6451612710952759, 0.6451612710952759, 0.6451612710952759, 0.6451612710952759, 0.6451612710952759, 0.6774193644523621, 0.6774193644523621, 0.6774193644523621, 0.6774193644523621, 0.6774193644523621, 0.7096773982048035, 0.7096773982048035, 0.7419354915618896, 0.7419354915618896, 0.7419354915618896, 0.774193525314331, 0.774193525314331, 0.774193525314331, 0.774193525314331, 0.774193525314331, 0.8387096524238586, 0.9032257795333862, 0.9354838728904724, 1.0], \"xaxis\": \"x\", \"y\": [0.3550997668139567, 0.36201309875695825, 0.3827530945859627, 0.3827530945859627, 0.3827530945859627, 0.3896664265289642, 0.3896664265289642, 0.3965797584719657, 0.3965797584719657, 0.40349309041496717, 0.41040642235796865, 0.42423308624397166, 0.42423308624397166, 0.42423308624397166, 0.42423308624397166, 0.43114641818697313, 0.43114641818697313, 0.43114641818697313, 0.43805975012997467, 0.43805975012997467, 0.43805975012997467, 0.43805975012997467, 0.43805975012997467, 0.43805975012997467, 0.43805975012997467, 0.44497308207297614, 0.44497308207297614, 0.4518864140159776, 0.4518864140159776, 0.4518864140159776, 0.4518864140159776, 0.4518864140159776, 0.4518864140159776, 0.4587997459589791, 0.4587997459589791, 0.4587997459589791, 0.4657130842890146, 0.4657130842890146, 0.4657130842890146, 0.4657130842890146, 0.4657130842890146, 0.4657130842890146, 0.4657130842890146, 0.4726264098449821, 0.4726264098449821, 0.4726264098449821, 0.4726264098449821, 0.4726264098449821, 0.47953974817501754, 0.47953974817501754, 0.47953974817501754, 0.4864530737309851, 0.4864530737309851, 0.4864530737309851, 0.4864530737309851, 0.4864530737309851, 0.4864530737309851, 0.49336641206102055, 0.49336641206102055, 0.49336641206102055, 0.49336641206102055, 0.49336641206102055, 0.5002797376169881, 0.5002797376169881, 0.5071930759470236, 0.5071930759470236, 0.5071930759470236, 0.514106401502991, 0.514106401502991, 0.514106401502991, 0.514106401502991, 0.514106401502991, 0.527933065388994, 0.541759729274997, 0.5486730676050324, 0.5624997314910355], \"yaxis\": \"y\"}, {\"hovertemplate\": \"tag=tcn<br>true=%{x}<br>predicted=%{y}<extra></extra>\", \"legendgroup\": \"tcn\", \"marker\": {\"color\": \"#00cc96\", \"symbol\": \"circle\"}, \"mode\": \"markers\", \"name\": \"tcn\", \"showlegend\": true, \"type\": \"scatter\", \"x\": [0.4193548262119293, 0.774193525314331, 0.6129032373428345, 0.9354838728904724, 0.9032257795333862, 0.35483869910240173, 0.5161290168762207, 0.4838709533214569, 0.3870967626571655, 0.4193548262119293, 0.4838709533214569, 0.774193525314331, 0.4838709533214569, 0.35483869910240173, 0.7419354915618896, 0.5806451439857483, 0.7096773982048035, 0.4516128897666931, 0.4193548262119293, 0.3870967626571655, 0.5806451439857483, 0.4193548262119293, 0.25806450843811035, 0.6129032373428345, 0.6451612710952759, 0.29032257199287415, 0.5483871102333069, 0.8387096524238586, 0.774193525314331, 0.22580644488334656, 0.35483869910240173, 1.0, 0.5161290168762207, 0.5483871102333069, 0.5806451439857483, 0.6774193644523621, 0.6774193644523621, 0.5483871102333069, 0.19354838132858276, 0.6774193644523621, 0.7419354915618896, 0.16129031777381897, 0.35483869910240173, 0.16129031777381897, 0.5806451439857483, 0.6774193644523621, 0.16129031777381897, 0.4193548262119293, 0.5161290168762207, 0.3870967626571655, 0.5806451439857483, 0.5483871102333069, 0.22580644488334656, 0.06451612710952759, 0.4838709533214569, 0.5483871102333069, 0.7096773982048035, 0.5483871102333069, 0.6451612710952759, 0.6451612710952759, 0.4838709533214569, 0.4193548262119293, 0.032258063554763794, 0.6451612710952759, 0.7419354915618896, 0.4838709533214569, 0.6451612710952759, 0.4193548262119293, 0.774193525314331, 0.6451612710952759, 0.4516128897666931, 0.774193525314331, 0.19354838132858276, 0.5483871102333069, 0.6129032373428345, 0.6774193644523621], \"xaxis\": \"x\", \"y\": [0.5723270177841187, 0.6666133403778076, 0.2955104112625122, 0.6189286708831787, 0.4534224569797516, 0.3198988735675812, 0.45814046263694763, 0.38635703921318054, 0.5669578909873962, 0.29596105217933655, 0.3503563106060028, 0.7045212984085083, 0.5894197821617126, 0.35219812393188477, 0.46585655212402344, 0.6219637989997864, 0.5732038021087646, 0.2956068515777588, 0.7524992227554321, 0.2349417805671692, 0.3573688566684723, 0.6728441119194031, 0.4481927752494812, 0.3999122977256775, 0.5727797150611877, 0.2695804536342621, 0.16295790672302246, 0.4343808889389038, 0.5665987730026245, 0.42649203538894653, 0.6724625825881958, 0.559057354927063, 0.3798937201499939, 0.48015347123146057, 0.432420551776886, 0.40757977962493896, 0.5395415425300598, 0.5687915086746216, 0.5184675455093384, 0.6759422421455383, 0.5395978093147278, 0.43621543049812317, 0.4598362445831299, 0.5341348648071289, 0.5712254643440247, 0.446118026971817, 0.33081361651420593, 0.4711647927761078, 0.4900267422199249, 0.49865347146987915, 0.26729851961135864, 0.45173877477645874, 0.8154789209365845, 0.3184918463230133, 0.532472550868988, 0.46967366337776184, 0.6220568418502808, 0.49795767664909363, 0.5847452282905579, 0.4285053610801697, 0.3151623606681824, 0.5894343256950378, 0.408787339925766, 0.4716450870037079, 0.8941745162010193, 0.7133094072341919, 0.7172479033470154, 0.37711742520332336, 0.7672372460365295, 0.5222057104110718, 0.38900837302207947, 0.48267197608947754, 0.5509088635444641, 0.5817641019821167, 0.5072519183158875, 0.7722839117050171], \"yaxis\": \"y\"}, {\"hovertemplate\": \"<b>OLS trendline</b><br>predicted = 0.200934 * true + 0.393883<br>R<sup>2</sup>=0.078432<br><br>tag=tcn<br>true=%{x}<br>predicted=%{y} <b>(trend)</b><extra></extra>\", \"legendgroup\": \"tcn\", \"marker\": {\"color\": \"#00cc96\", \"symbol\": \"circle\"}, \"mode\": \"lines\", \"name\": \"tcn\", \"showlegend\": false, \"type\": \"scatter\", \"x\": [0.032258063554763794, 0.06451612710952759, 0.16129031777381897, 0.16129031777381897, 0.16129031777381897, 0.19354838132858276, 0.19354838132858276, 0.22580644488334656, 0.22580644488334656, 0.25806450843811035, 0.29032257199287415, 0.35483869910240173, 0.35483869910240173, 0.35483869910240173, 0.35483869910240173, 0.3870967626571655, 0.3870967626571655, 0.3870967626571655, 0.4193548262119293, 0.4193548262119293, 0.4193548262119293, 0.4193548262119293, 0.4193548262119293, 0.4193548262119293, 0.4193548262119293, 0.4516128897666931, 0.4516128897666931, 0.4838709533214569, 0.4838709533214569, 0.4838709533214569, 0.4838709533214569, 0.4838709533214569, 0.4838709533214569, 0.5161290168762207, 0.5161290168762207, 0.5161290168762207, 0.5483871102333069, 0.5483871102333069, 0.5483871102333069, 0.5483871102333069, 0.5483871102333069, 0.5483871102333069, 0.5483871102333069, 0.5806451439857483, 0.5806451439857483, 0.5806451439857483, 0.5806451439857483, 0.5806451439857483, 0.6129032373428345, 0.6129032373428345, 0.6129032373428345, 0.6451612710952759, 0.6451612710952759, 0.6451612710952759, 0.6451612710952759, 0.6451612710952759, 0.6451612710952759, 0.6774193644523621, 0.6774193644523621, 0.6774193644523621, 0.6774193644523621, 0.6774193644523621, 0.7096773982048035, 0.7096773982048035, 0.7419354915618896, 0.7419354915618896, 0.7419354915618896, 0.774193525314331, 0.774193525314331, 0.774193525314331, 0.774193525314331, 0.774193525314331, 0.8387096524238586, 0.9032257795333862, 0.9354838728904724, 1.0], \"xaxis\": \"x\", \"y\": [0.4003643473024667, 0.4068460961399474, 0.42629134265238927, 0.42629134265238927, 0.42629134265238927, 0.4327730914898699, 0.4327730914898699, 0.43925484032735057, 0.43925484032735057, 0.44573658916483117, 0.4522183380023118, 0.4651818356772731, 0.4651818356772731, 0.4651818356772731, 0.4651818356772731, 0.47166358451475376, 0.47166358451475376, 0.47166358451475376, 0.4781453333522344, 0.4781453333522344, 0.4781453333522344, 0.4781453333522344, 0.4781453333522344, 0.4781453333522344, 0.4781453333522344, 0.484627082189715, 0.484627082189715, 0.49110883102719566, 0.49110883102719566, 0.49110883102719566, 0.49110883102719566, 0.49110883102719566, 0.49110883102719566, 0.4975905798646763, 0.4975905798646763, 0.4975905798646763, 0.5040723346904633, 0.5040723346904633, 0.5040723346904633, 0.5040723346904633, 0.5040723346904633, 0.5040723346904633, 0.5040723346904633, 0.5105540775396376, 0.5105540775396376, 0.5105540775396376, 0.5105540775396376, 0.5105540775396376, 0.5170358323654246, 0.5170358323654246, 0.5170358323654246, 0.5235175752145989, 0.5235175752145989, 0.5235175752145989, 0.5235175752145989, 0.5235175752145989, 0.5235175752145989, 0.5299993300403859, 0.5299993300403859, 0.5299993300403859, 0.5299993300403859, 0.5299993300403859, 0.5364810728895602, 0.5364810728895602, 0.5429628277153472, 0.5429628277153472, 0.5429628277153472, 0.5494445705645215, 0.5494445705645215, 0.5494445705645215, 0.5494445705645215, 0.5494445705645215, 0.5624080682394828, 0.5753715659144439, 0.581853320740231, 0.5948168184151923], \"yaxis\": \"y\"}, {\"hovertemplate\": \"tag=cpm<br>true=%{x}<br>predicted=%{y}<extra></extra>\", \"legendgroup\": \"cpm\", \"marker\": {\"color\": \"#ab63fa\", \"symbol\": \"circle\"}, \"mode\": \"markers\", \"name\": \"cpm\", \"showlegend\": true, \"type\": \"scatter\", \"x\": [0.41935483870967744, 0.7741935483870968, 0.6129032258064516, 0.9354838709677419, 0.9032258064516129, 0.3548387096774194, 0.5161290322580645, 0.4838709677419355, 0.3870967741935484, 0.41935483870967744, 0.4838709677419355, 0.7741935483870968, 0.4838709677419355, 0.3548387096774194, 0.7419354838709677, 0.5806451612903226, 0.7096774193548387, 0.45161290322580644, 0.41935483870967744, 0.3870967741935484, 0.5806451612903226, 0.41935483870967744, 0.25806451612903225, 0.6129032258064516, 0.6451612903225806, 0.2903225806451613, 0.5483870967741935, 0.8387096774193549, 0.7741935483870968, 0.22580645161290322, 0.3548387096774194, 1.0, 0.5161290322580645, 0.5483870967741935, 0.5806451612903226, 0.6774193548387096, 0.6774193548387096, 0.5483870967741935, 0.1935483870967742, 0.6774193548387096, 0.7419354838709677, 0.16129032258064516, 0.3548387096774194, 0.16129032258064516, 0.5806451612903226, 0.6774193548387096, 0.16129032258064516, 0.41935483870967744, 0.5161290322580645, 0.3870967741935484, 0.5806451612903226, 0.5483870967741935, 0.22580645161290322, 0.06451612903225806, 0.4838709677419355, 0.5483870967741935, 0.7096774193548387, 0.5483870967741935, 0.6451612903225806, 0.6451612903225806, 0.4838709677419355, 0.41935483870967744, 0.03225806451612903, 0.6451612903225806, 0.7419354838709677, 0.4838709677419355, 0.6451612903225806, 0.41935483870967744, 0.7741935483870968, 0.6451612903225806, 0.45161290322580644, 0.7741935483870968, 0.1935483870967742, 0.5483870967741935, 0.6129032258064516, 0.6774193548387096], \"xaxis\": \"x\", \"y\": [0.3709685501860454, 0.5546287790260527, 0.37165075688653504, 0.5942636125513395, 0.4586648784850538, 0.5145796691163299, 0.3902819010426542, 0.42394276087426297, 0.5979176328270214, 0.5995808988901594, 0.4352989693735146, 0.5286610077354301, 0.3524964678660483, 0.47476155900826894, 0.5879883304840641, 0.5020624030802803, 0.4036216690901589, 0.4953362849578741, 0.473666637153336, 0.4946205312098685, 0.44756275137075974, 0.3790792770961253, 0.4541878309627561, 0.47576221151013837, 0.4771428801410205, 0.4936758256919423, 0.5739627104271486, 0.46707132318761624, 0.5014455999252349, 0.38863721310985344, 0.35028558639527185, 0.44304479887370113, 0.4779180162135404, 0.3508234940517008, 0.3563828437197247, 0.43111273560832075, 0.4992085223240395, 0.37800530782694053, 0.5717737313313296, 0.4751895397827379, 0.4094553744748715, 0.46843353969479795, 0.46314448198804165, 0.39858628098082033, 0.4112058419368512, 0.5007259910078722, 0.31919837411184815, 0.43444280378276673, 0.3198304615240229, 0.5120631013537742, 0.4028049667199451, 0.47067933632894776, 0.4838513736805101, 0.38792473089650475, 0.44711143162003586, 0.39969844512764147, 0.5449491008153047, 0.45058439594277133, 0.44251007368966644, 0.44649880187283825, 0.42571961618633003, 0.48943222298335554, 0.4848035014881876, 0.5392710826088161, 0.6125189533389539, 0.44929509405761203, 0.4300198457409997, 0.4178343821927278, 0.42066761951704496, 0.4424007792456006, 0.48871466547283793, 0.37561981660125143, 0.5251407699053544, 0.3886605755208672, 0.41454905429341254, 0.4101979955783626], \"yaxis\": \"y\"}, {\"hovertemplate\": \"<b>OLS trendline</b><br>predicted = 0.0431383 * true + 0.433235<br>R<sup>2</sup>=0.016298<br><br>tag=cpm<br>true=%{x}<br>predicted=%{y} <b>(trend)</b><extra></extra>\", \"legendgroup\": \"cpm\", \"marker\": {\"color\": \"#ab63fa\", \"symbol\": \"circle\"}, \"mode\": \"lines\", \"name\": \"cpm\", \"showlegend\": false, \"type\": \"scatter\", \"x\": [0.03225806451612903, 0.06451612903225806, 0.16129032258064516, 0.16129032258064516, 0.16129032258064516, 0.1935483870967742, 0.1935483870967742, 0.22580645161290322, 0.22580645161290322, 0.25806451612903225, 0.2903225806451613, 0.3548387096774194, 0.3548387096774194, 0.3548387096774194, 0.3548387096774194, 0.3870967741935484, 0.3870967741935484, 0.3870967741935484, 0.41935483870967744, 0.41935483870967744, 0.41935483870967744, 0.41935483870967744, 0.41935483870967744, 0.41935483870967744, 0.41935483870967744, 0.45161290322580644, 0.45161290322580644, 0.4838709677419355, 0.4838709677419355, 0.4838709677419355, 0.4838709677419355, 0.4838709677419355, 0.4838709677419355, 0.5161290322580645, 0.5161290322580645, 0.5161290322580645, 0.5483870967741935, 0.5483870967741935, 0.5483870967741935, 0.5483870967741935, 0.5483870967741935, 0.5483870967741935, 0.5483870967741935, 0.5806451612903226, 0.5806451612903226, 0.5806451612903226, 0.5806451612903226, 0.5806451612903226, 0.6129032258064516, 0.6129032258064516, 0.6129032258064516, 0.6451612903225806, 0.6451612903225806, 0.6451612903225806, 0.6451612903225806, 0.6451612903225806, 0.6451612903225806, 0.6774193548387096, 0.6774193548387096, 0.6774193548387096, 0.6774193548387096, 0.6774193548387096, 0.7096774193548387, 0.7096774193548387, 0.7419354838709677, 0.7419354838709677, 0.7419354838709677, 0.7741935483870968, 0.7741935483870968, 0.7741935483870968, 0.7741935483870968, 0.7741935483870968, 0.8387096774193549, 0.9032258064516129, 0.9354838709677419, 1.0], \"xaxis\": \"x\", \"y\": [0.4346263737289066, 0.43601793060673316, 0.4401926012402129, 0.4401926012402129, 0.4401926012402129, 0.4415841581180395, 0.4415841581180395, 0.4429757149958661, 0.4429757149958661, 0.4443672718736927, 0.4457588287515193, 0.44854194250717244, 0.44854194250717244, 0.44854194250717244, 0.44854194250717244, 0.44993349938499905, 0.44993349938499905, 0.44993349938499905, 0.4513250562628256, 0.4513250562628256, 0.4513250562628256, 0.4513250562628256, 0.4513250562628256, 0.4513250562628256, 0.4513250562628256, 0.4527166131406522, 0.4527166131406522, 0.4541081700184788, 0.4541081700184788, 0.4541081700184788, 0.4541081700184788, 0.4541081700184788, 0.4541081700184788, 0.45549972689630536, 0.45549972689630536, 0.45549972689630536, 0.45689128377413196, 0.45689128377413196, 0.45689128377413196, 0.45689128377413196, 0.45689128377413196, 0.45689128377413196, 0.45689128377413196, 0.45828284065195857, 0.45828284065195857, 0.45828284065195857, 0.45828284065195857, 0.45828284065195857, 0.4596743975297851, 0.4596743975297851, 0.4596743975297851, 0.4610659544076117, 0.4610659544076117, 0.4610659544076117, 0.4610659544076117, 0.4610659544076117, 0.4610659544076117, 0.46245751128543827, 0.46245751128543827, 0.46245751128543827, 0.46245751128543827, 0.46245751128543827, 0.4638490681632649, 0.4638490681632649, 0.4652406250410915, 0.4652406250410915, 0.4652406250410915, 0.46663218191891803, 0.46663218191891803, 0.46663218191891803, 0.46663218191891803, 0.46663218191891803, 0.46941529567457124, 0.4721984094302244, 0.47358996630805095, 0.47637308006370416], \"yaxis\": \"y\"}],\n",
       "                        {\"font\": {\"color\": \"black\"}, \"height\": 400, \"legend\": {\"font\": {\"size\": 20}, \"title\": {\"text\": \"tag\"}, \"tracegroupgap\": 0}, \"margin\": {\"t\": 60}, \"template\": {\"data\": {\"bar\": [{\"error_x\": {\"color\": \"#2a3f5f\"}, \"error_y\": {\"color\": \"#2a3f5f\"}, \"marker\": {\"line\": {\"color\": \"white\", \"width\": 0.5}}, \"type\": \"bar\"}], \"barpolar\": [{\"marker\": {\"line\": {\"color\": \"white\", \"width\": 0.5}}, \"type\": \"barpolar\"}], \"carpet\": [{\"aaxis\": {\"endlinecolor\": \"#2a3f5f\", \"gridcolor\": \"#C8D4E3\", \"linecolor\": \"#C8D4E3\", \"minorgridcolor\": \"#C8D4E3\", \"startlinecolor\": \"#2a3f5f\"}, \"baxis\": {\"endlinecolor\": \"#2a3f5f\", \"gridcolor\": \"#C8D4E3\", \"linecolor\": \"#C8D4E3\", \"minorgridcolor\": \"#C8D4E3\", \"startlinecolor\": \"#2a3f5f\"}, \"type\": \"carpet\"}], \"choropleth\": [{\"colorbar\": {\"outlinewidth\": 0, \"ticks\": \"\"}, \"type\": \"choropleth\"}], \"contour\": [{\"colorbar\": {\"outlinewidth\": 0, \"ticks\": \"\"}, \"colorscale\": [[0.0, \"#0d0887\"], [0.1111111111111111, \"#46039f\"], [0.2222222222222222, \"#7201a8\"], [0.3333333333333333, \"#9c179e\"], [0.4444444444444444, \"#bd3786\"], [0.5555555555555556, \"#d8576b\"], [0.6666666666666666, \"#ed7953\"], [0.7777777777777778, \"#fb9f3a\"], [0.8888888888888888, \"#fdca26\"], [1.0, \"#f0f921\"]], \"type\": \"contour\"}], \"contourcarpet\": [{\"colorbar\": {\"outlinewidth\": 0, \"ticks\": \"\"}, \"type\": \"contourcarpet\"}], \"heatmap\": [{\"colorbar\": {\"outlinewidth\": 0, \"ticks\": \"\"}, \"colorscale\": [[0.0, \"#0d0887\"], [0.1111111111111111, \"#46039f\"], [0.2222222222222222, \"#7201a8\"], [0.3333333333333333, \"#9c179e\"], [0.4444444444444444, \"#bd3786\"], [0.5555555555555556, \"#d8576b\"], [0.6666666666666666, \"#ed7953\"], [0.7777777777777778, \"#fb9f3a\"], [0.8888888888888888, \"#fdca26\"], [1.0, \"#f0f921\"]], \"type\": \"heatmap\"}], \"heatmapgl\": [{\"colorbar\": {\"outlinewidth\": 0, \"ticks\": \"\"}, \"colorscale\": [[0.0, \"#0d0887\"], [0.1111111111111111, \"#46039f\"], [0.2222222222222222, \"#7201a8\"], [0.3333333333333333, \"#9c179e\"], [0.4444444444444444, \"#bd3786\"], [0.5555555555555556, \"#d8576b\"], [0.6666666666666666, \"#ed7953\"], [0.7777777777777778, \"#fb9f3a\"], [0.8888888888888888, \"#fdca26\"], [1.0, \"#f0f921\"]], \"type\": \"heatmapgl\"}], \"histogram\": [{\"marker\": {\"colorbar\": {\"outlinewidth\": 0, \"ticks\": \"\"}}, \"type\": \"histogram\"}], \"histogram2d\": [{\"colorbar\": {\"outlinewidth\": 0, \"ticks\": \"\"}, \"colorscale\": [[0.0, \"#0d0887\"], [0.1111111111111111, \"#46039f\"], [0.2222222222222222, \"#7201a8\"], [0.3333333333333333, \"#9c179e\"], [0.4444444444444444, \"#bd3786\"], [0.5555555555555556, \"#d8576b\"], [0.6666666666666666, \"#ed7953\"], [0.7777777777777778, \"#fb9f3a\"], [0.8888888888888888, \"#fdca26\"], [1.0, \"#f0f921\"]], \"type\": \"histogram2d\"}], \"histogram2dcontour\": [{\"colorbar\": {\"outlinewidth\": 0, \"ticks\": \"\"}, \"colorscale\": [[0.0, \"#0d0887\"], [0.1111111111111111, \"#46039f\"], [0.2222222222222222, \"#7201a8\"], [0.3333333333333333, \"#9c179e\"], [0.4444444444444444, \"#bd3786\"], [0.5555555555555556, \"#d8576b\"], [0.6666666666666666, \"#ed7953\"], [0.7777777777777778, \"#fb9f3a\"], [0.8888888888888888, \"#fdca26\"], [1.0, \"#f0f921\"]], \"type\": \"histogram2dcontour\"}], \"mesh3d\": [{\"colorbar\": {\"outlinewidth\": 0, \"ticks\": \"\"}, \"type\": \"mesh3d\"}], \"parcoords\": [{\"line\": {\"colorbar\": {\"outlinewidth\": 0, \"ticks\": \"\"}}, \"type\": \"parcoords\"}], \"pie\": [{\"automargin\": true, \"type\": \"pie\"}], \"scatter\": [{\"marker\": {\"colorbar\": {\"outlinewidth\": 0, \"ticks\": \"\"}}, \"type\": \"scatter\"}], \"scatter3d\": [{\"line\": {\"colorbar\": {\"outlinewidth\": 0, \"ticks\": \"\"}}, \"marker\": {\"colorbar\": {\"outlinewidth\": 0, \"ticks\": \"\"}}, \"type\": \"scatter3d\"}], \"scattercarpet\": [{\"marker\": {\"colorbar\": {\"outlinewidth\": 0, \"ticks\": \"\"}}, \"type\": \"scattercarpet\"}], \"scattergeo\": [{\"marker\": {\"colorbar\": {\"outlinewidth\": 0, \"ticks\": \"\"}}, \"type\": \"scattergeo\"}], \"scattergl\": [{\"marker\": {\"colorbar\": {\"outlinewidth\": 0, \"ticks\": \"\"}}, \"type\": \"scattergl\"}], \"scattermapbox\": [{\"marker\": {\"colorbar\": {\"outlinewidth\": 0, \"ticks\": \"\"}}, \"type\": \"scattermapbox\"}], \"scatterpolar\": [{\"marker\": {\"colorbar\": {\"outlinewidth\": 0, \"ticks\": \"\"}}, \"type\": \"scatterpolar\"}], \"scatterpolargl\": [{\"marker\": {\"colorbar\": {\"outlinewidth\": 0, \"ticks\": \"\"}}, \"type\": \"scatterpolargl\"}], \"scatterternary\": [{\"marker\": {\"colorbar\": {\"outlinewidth\": 0, \"ticks\": \"\"}}, \"type\": \"scatterternary\"}], \"surface\": [{\"colorbar\": {\"outlinewidth\": 0, \"ticks\": \"\"}, \"colorscale\": [[0.0, \"#0d0887\"], [0.1111111111111111, \"#46039f\"], [0.2222222222222222, \"#7201a8\"], [0.3333333333333333, \"#9c179e\"], [0.4444444444444444, \"#bd3786\"], [0.5555555555555556, \"#d8576b\"], [0.6666666666666666, \"#ed7953\"], [0.7777777777777778, \"#fb9f3a\"], [0.8888888888888888, \"#fdca26\"], [1.0, \"#f0f921\"]], \"type\": \"surface\"}], \"table\": [{\"cells\": {\"fill\": {\"color\": \"#EBF0F8\"}, \"line\": {\"color\": \"white\"}}, \"header\": {\"fill\": {\"color\": \"#C8D4E3\"}, \"line\": {\"color\": \"white\"}}, \"type\": \"table\"}]}, \"layout\": {\"annotationdefaults\": {\"arrowcolor\": \"#2a3f5f\", \"arrowhead\": 0, \"arrowwidth\": 1}, \"coloraxis\": {\"colorbar\": {\"outlinewidth\": 0, \"ticks\": \"\"}}, \"colorscale\": {\"diverging\": [[0, \"#8e0152\"], [0.1, \"#c51b7d\"], [0.2, \"#de77ae\"], [0.3, \"#f1b6da\"], [0.4, \"#fde0ef\"], [0.5, \"#f7f7f7\"], [0.6, \"#e6f5d0\"], [0.7, \"#b8e186\"], [0.8, \"#7fbc41\"], [0.9, \"#4d9221\"], [1, \"#276419\"]], \"sequential\": [[0.0, \"#0d0887\"], [0.1111111111111111, \"#46039f\"], [0.2222222222222222, \"#7201a8\"], [0.3333333333333333, \"#9c179e\"], [0.4444444444444444, \"#bd3786\"], [0.5555555555555556, \"#d8576b\"], [0.6666666666666666, \"#ed7953\"], [0.7777777777777778, \"#fb9f3a\"], [0.8888888888888888, \"#fdca26\"], [1.0, \"#f0f921\"]], \"sequentialminus\": [[0.0, \"#0d0887\"], [0.1111111111111111, \"#46039f\"], [0.2222222222222222, \"#7201a8\"], [0.3333333333333333, \"#9c179e\"], [0.4444444444444444, \"#bd3786\"], [0.5555555555555556, \"#d8576b\"], [0.6666666666666666, \"#ed7953\"], [0.7777777777777778, \"#fb9f3a\"], [0.8888888888888888, \"#fdca26\"], [1.0, \"#f0f921\"]]}, \"colorway\": [\"#636efa\", \"#EF553B\", \"#00cc96\", \"#ab63fa\", \"#FFA15A\", \"#19d3f3\", \"#FF6692\", \"#B6E880\", \"#FF97FF\", \"#FECB52\"], \"font\": {\"color\": \"#2a3f5f\"}, \"geo\": {\"bgcolor\": \"white\", \"lakecolor\": \"white\", \"landcolor\": \"white\", \"showlakes\": true, \"showland\": true, \"subunitcolor\": \"#C8D4E3\"}, \"hoverlabel\": {\"align\": \"left\"}, \"hovermode\": \"closest\", \"mapbox\": {\"style\": \"light\"}, \"paper_bgcolor\": \"white\", \"plot_bgcolor\": \"white\", \"polar\": {\"angularaxis\": {\"gridcolor\": \"#EBF0F8\", \"linecolor\": \"#EBF0F8\", \"ticks\": \"\"}, \"bgcolor\": \"white\", \"radialaxis\": {\"gridcolor\": \"#EBF0F8\", \"linecolor\": \"#EBF0F8\", \"ticks\": \"\"}}, \"scene\": {\"xaxis\": {\"backgroundcolor\": \"white\", \"gridcolor\": \"#DFE8F3\", \"gridwidth\": 2, \"linecolor\": \"#EBF0F8\", \"showbackground\": true, \"ticks\": \"\", \"zerolinecolor\": \"#EBF0F8\"}, \"yaxis\": {\"backgroundcolor\": \"white\", \"gridcolor\": \"#DFE8F3\", \"gridwidth\": 2, \"linecolor\": \"#EBF0F8\", \"showbackground\": true, \"ticks\": \"\", \"zerolinecolor\": \"#EBF0F8\"}, \"zaxis\": {\"backgroundcolor\": \"white\", \"gridcolor\": \"#DFE8F3\", \"gridwidth\": 2, \"linecolor\": \"#EBF0F8\", \"showbackground\": true, \"ticks\": \"\", \"zerolinecolor\": \"#EBF0F8\"}}, \"shapedefaults\": {\"line\": {\"color\": \"#2a3f5f\"}}, \"ternary\": {\"aaxis\": {\"gridcolor\": \"#DFE8F3\", \"linecolor\": \"#A2B1C6\", \"ticks\": \"\"}, \"baxis\": {\"gridcolor\": \"#DFE8F3\", \"linecolor\": \"#A2B1C6\", \"ticks\": \"\"}, \"bgcolor\": \"white\", \"caxis\": {\"gridcolor\": \"#DFE8F3\", \"linecolor\": \"#A2B1C6\", \"ticks\": \"\"}}, \"title\": {\"x\": 0.05}, \"xaxis\": {\"automargin\": true, \"gridcolor\": \"#EBF0F8\", \"linecolor\": \"#EBF0F8\", \"ticks\": \"\", \"title\": {\"standoff\": 15}, \"zerolinecolor\": \"#EBF0F8\", \"zerolinewidth\": 2}, \"yaxis\": {\"automargin\": true, \"gridcolor\": \"#EBF0F8\", \"linecolor\": \"#EBF0F8\", \"ticks\": \"\", \"title\": {\"standoff\": 15}, \"zerolinecolor\": \"#EBF0F8\", \"zerolinewidth\": 2}}}, \"title\": {\"text\": \"NEOFAC_E\"}, \"width\": 480, \"xaxis\": {\"anchor\": \"y\", \"domain\": [0.0, 1.0], \"dtick\": 0.2, \"tickfont\": {\"size\": 20}, \"title\": {\"font\": {\"size\": 20}, \"text\": \"True\"}}, \"yaxis\": {\"anchor\": \"x\", \"domain\": [0.0, 1.0], \"dtick\": 0.2, \"tickfont\": {\"size\": 20}, \"title\": {\"font\": {\"size\": 20}, \"text\": \"Predicted\"}}},\n",
       "                        {\"responsive\": true}\n",
       "                    ).then(function(){\n",
       "                            \n",
       "var gd = document.getElementById('dcb4fc0a-504f-4ffa-8404-733d10cc21d3');\n",
       "var x = new MutationObserver(function (mutations, observer) {{\n",
       "        var display = window.getComputedStyle(gd).display;\n",
       "        if (!display || display === 'none') {{\n",
       "            console.log([gd, 'removed!']);\n",
       "            Plotly.purge(gd);\n",
       "            observer.disconnect();\n",
       "        }}\n",
       "}});\n",
       "\n",
       "// Listen for the removal of the full notebook cells\n",
       "var notebookContainer = gd.closest('#notebook-container');\n",
       "if (notebookContainer) {{\n",
       "    x.observe(notebookContainer, {childList: true});\n",
       "}}\n",
       "\n",
       "// Listen for the clearing of the current output cell\n",
       "var outputEl = gd.closest('.output');\n",
       "if (outputEl) {{\n",
       "    x.observe(outputEl, {childList: true});\n",
       "}}\n",
       "\n",
       "                        })\n",
       "                };\n",
       "                });\n",
       "            </script>\n",
       "        </div>"
      ]
     },
     "metadata": {},
     "output_type": "display_data"
    },
    {
     "data": {
      "application/vnd.plotly.v1+json": {
       "config": {
        "plotlyServerURL": "https://plot.ly"
       },
       "data": [
        {
         "hovertemplate": "tag=gru<br>true=%{x}<br>predicted=%{y}<extra></extra>",
         "legendgroup": "gru",
         "marker": {
          "color": "#636efa",
          "symbol": "circle"
         },
         "mode": "markers",
         "name": "gru",
         "showlegend": true,
         "type": "scatter",
         "x": [
          0.5161290168762207,
          0.32258063554763794,
          0.5806451439857483,
          0.8387096524238586,
          0.6774193644523621,
          0.5806451439857483,
          0.8387096524238586,
          0.4838709533214569,
          0.16129031777381897,
          0.6451612710952759,
          0.35483869910240173,
          0.5806451439857483,
          0.7419354915618896,
          0.8709677457809448,
          0.5161290168762207,
          0.5483871102333069,
          0.6451612710952759,
          0.4838709533214569,
          0.6451612710952759,
          0.29032257199287415,
          0.7419354915618896,
          0.6129032373428345,
          0.7096773982048035,
          0.8709677457809448,
          0.5806451439857483,
          0.6129032373428345,
          0.3870967626571655,
          0.3870967626571655,
          0.6129032373428345,
          0.12903225421905518,
          0.4516128897666931,
          1,
          0.19354838132858276,
          0.7096773982048035,
          0.5806451439857483,
          0.4516128897666931,
          0.774193525314331,
          0.7096773982048035,
          0.4193548262119293,
          0.5806451439857483,
          0.7419354915618896,
          0.6774193644523621,
          0.4838709533214569,
          0.4516128897666931,
          0.29032257199287415,
          0.8064516186714172,
          0.5806451439857483,
          0.4193548262119293,
          0.5806451439857483,
          0.4516128897666931,
          0.5806451439857483,
          0.5161290168762207,
          0.7096773982048035,
          0.35483869910240173,
          0.5161290168762207,
          0.5483871102333069,
          0.8064516186714172,
          0.4516128897666931,
          0.6774193644523621,
          0.5161290168762207,
          0.4838709533214569,
          0.4838709533214569,
          0.7419354915618896,
          0.6774193644523621,
          0.4516128897666931,
          0.32258063554763794,
          0.5483871102333069,
          0.4838709533214569,
          0.6774193644523621,
          0.774193525314331,
          0.5161290168762207,
          0.7419354915618896,
          0.16129031777381897,
          0.6129032373428345,
          0.6451612710952759,
          0.774193525314331
         ],
         "xaxis": "x",
         "y": [
          0.5659674406051636,
          0.4427139461040497,
          0.5438642501831055,
          0.6793529987335205,
          0.6591233611106873,
          0.4507715702056885,
          0.4815366864204407,
          0.6658774614334106,
          0.4755931496620178,
          0.5244432091712952,
          0.39755839109420776,
          0.3575226366519928,
          0.4970327913761139,
          0.5047780275344849,
          0.5265822410583496,
          0.3875179588794708,
          0.6319544315338135,
          0.44796085357666016,
          0.49810582399368286,
          0.34185707569122314,
          0.3986463248729706,
          0.5124279260635376,
          0.6889214515686035,
          0.6616261601448059,
          0.5085837841033936,
          0.5286682844161987,
          0.419603168964386,
          0.49678754806518555,
          0.7226357460021973,
          0.7018913626670837,
          0.3558339476585388,
          0.7417721152305603,
          0.47427064180374146,
          0.6061693429946899,
          0.5730196833610535,
          0.3157120645046234,
          0.7659069895744324,
          0.5057421922683716,
          0.5444440841674805,
          0.6510075330734253,
          0.3433201313018799,
          0.5015577077865601,
          0.3398965895175934,
          0.5429706573486328,
          0.43683645129203796,
          0.40714097023010254,
          0.36075466871261597,
          0.5097835063934326,
          0.3943203091621399,
          0.5688347816467285,
          0.482582688331604,
          0.63066565990448,
          0.4304088354110718,
          0.6430320143699646,
          0.5400983095169067,
          0.5400896072387695,
          0.4959644675254822,
          0.653607189655304,
          0.4550090432167053,
          0.37530022859573364,
          0.3109457790851593,
          0.5337930917739868,
          0.7381592392921448,
          0.5077683925628662,
          0.6349570155143738,
          0.4708864986896515,
          0.3525863289833069,
          0.19843462109565735,
          0.500396728515625,
          0.5447014570236206,
          0.7892581820487976,
          0.5411478877067566,
          0.31052520871162415,
          0.5615589618682861,
          0.38401347398757935,
          0.5919762253761292
         ],
         "yaxis": "y"
        },
        {
         "hovertemplate": "<b>OLS trendline</b><br>predicted = 0.181622 * true + 0.40855<br>R<sup>2</sup>=0.068659<br><br>tag=gru<br>true=%{x}<br>predicted=%{y} <b>(trend)</b><extra></extra>",
         "legendgroup": "gru",
         "marker": {
          "color": "#636efa",
          "symbol": "circle"
         },
         "mode": "lines",
         "name": "gru",
         "showlegend": false,
         "type": "scatter",
         "x": [
          0.12903225421905518,
          0.16129031777381897,
          0.16129031777381897,
          0.19354838132858276,
          0.29032257199287415,
          0.29032257199287415,
          0.32258063554763794,
          0.32258063554763794,
          0.35483869910240173,
          0.35483869910240173,
          0.3870967626571655,
          0.3870967626571655,
          0.4193548262119293,
          0.4193548262119293,
          0.4516128897666931,
          0.4516128897666931,
          0.4516128897666931,
          0.4516128897666931,
          0.4516128897666931,
          0.4516128897666931,
          0.4838709533214569,
          0.4838709533214569,
          0.4838709533214569,
          0.4838709533214569,
          0.4838709533214569,
          0.4838709533214569,
          0.5161290168762207,
          0.5161290168762207,
          0.5161290168762207,
          0.5161290168762207,
          0.5161290168762207,
          0.5161290168762207,
          0.5483871102333069,
          0.5483871102333069,
          0.5483871102333069,
          0.5806451439857483,
          0.5806451439857483,
          0.5806451439857483,
          0.5806451439857483,
          0.5806451439857483,
          0.5806451439857483,
          0.5806451439857483,
          0.5806451439857483,
          0.5806451439857483,
          0.6129032373428345,
          0.6129032373428345,
          0.6129032373428345,
          0.6129032373428345,
          0.6451612710952759,
          0.6451612710952759,
          0.6451612710952759,
          0.6451612710952759,
          0.6774193644523621,
          0.6774193644523621,
          0.6774193644523621,
          0.6774193644523621,
          0.6774193644523621,
          0.7096773982048035,
          0.7096773982048035,
          0.7096773982048035,
          0.7096773982048035,
          0.7419354915618896,
          0.7419354915618896,
          0.7419354915618896,
          0.7419354915618896,
          0.7419354915618896,
          0.774193525314331,
          0.774193525314331,
          0.774193525314331,
          0.8064516186714172,
          0.8064516186714172,
          0.8387096524238586,
          0.8387096524238586,
          0.8709677457809448,
          0.8709677457809448,
          1
         ],
         "xaxis": "x",
         "y": [
          0.43198457430453613,
          0.43784333380036256,
          0.43784333380036256,
          0.4437020932961889,
          0.46127837178366815,
          0.46127837178366815,
          0.4671371312794945,
          0.4671371312794945,
          0.4729958907753209,
          0.4729958907753209,
          0.4788546502711473,
          0.4788546502711473,
          0.48471340976697375,
          0.48471340976697375,
          0.4905721692628001,
          0.4905721692628001,
          0.4905721692628001,
          0.4905721692628001,
          0.4905721692628001,
          0.4905721692628001,
          0.4964309287586265,
          0.4964309287586265,
          0.4964309287586265,
          0.4964309287586265,
          0.4964309287586265,
          0.4964309287586265,
          0.502289688254453,
          0.502289688254453,
          0.502289688254453,
          0.502289688254453,
          0.502289688254453,
          0.502289688254453,
          0.5081484531630233,
          0.5081484531630233,
          0.5081484531630233,
          0.5140072072461057,
          0.5140072072461057,
          0.5140072072461057,
          0.5140072072461057,
          0.5140072072461057,
          0.5140072072461057,
          0.5140072072461057,
          0.5140072072461057,
          0.5140072072461057,
          0.5198659721546761,
          0.5198659721546761,
          0.5198659721546761,
          0.5198659721546761,
          0.5257247262377585,
          0.5257247262377585,
          0.5257247262377585,
          0.5257247262377585,
          0.5315834911463289,
          0.5315834911463289,
          0.5315834911463289,
          0.5315834911463289,
          0.5315834911463289,
          0.5374422452294113,
          0.5374422452294113,
          0.5374422452294113,
          0.5374422452294113,
          0.5433010101379817,
          0.5433010101379817,
          0.5433010101379817,
          0.5433010101379817,
          0.5433010101379817,
          0.5491597642210642,
          0.5491597642210642,
          0.5491597642210642,
          0.5550185291296345,
          0.5550185291296345,
          0.5608772832127169,
          0.5608772832127169,
          0.5667360481212873,
          0.5667360481212873,
          0.5901710861045929
         ],
         "yaxis": "y"
        },
        {
         "hovertemplate": "tag=ff<br>true=%{x}<br>predicted=%{y}<extra></extra>",
         "legendgroup": "ff",
         "marker": {
          "color": "#EF553B",
          "symbol": "circle"
         },
         "mode": "markers",
         "name": "ff",
         "showlegend": true,
         "type": "scatter",
         "x": [
          0.5161290168762207,
          0.32258063554763794,
          0.5806451439857483,
          0.8387096524238586,
          0.6774193644523621,
          0.5806451439857483,
          0.8387096524238586,
          0.4838709533214569,
          0.16129031777381897,
          0.6451612710952759,
          0.35483869910240173,
          0.5806451439857483,
          0.7419354915618896,
          0.8709677457809448,
          0.5161290168762207,
          0.5483871102333069,
          0.6451612710952759,
          0.4838709533214569,
          0.6451612710952759,
          0.29032257199287415,
          0.7419354915618896,
          0.6129032373428345,
          0.7096773982048035,
          0.8709677457809448,
          0.5806451439857483,
          0.6129032373428345,
          0.3870967626571655,
          0.3870967626571655,
          0.6129032373428345,
          0.12903225421905518,
          0.4516128897666931,
          1,
          0.19354838132858276,
          0.7096773982048035,
          0.5806451439857483,
          0.4516128897666931,
          0.774193525314331,
          0.7096773982048035,
          0.4193548262119293,
          0.5806451439857483,
          0.7419354915618896,
          0.6774193644523621,
          0.4838709533214569,
          0.4516128897666931,
          0.29032257199287415,
          0.8064516186714172,
          0.5806451439857483,
          0.4193548262119293,
          0.5806451439857483,
          0.4516128897666931,
          0.5806451439857483,
          0.5161290168762207,
          0.7096773982048035,
          0.35483869910240173,
          0.5161290168762207,
          0.5483871102333069,
          0.8064516186714172,
          0.4516128897666931,
          0.6774193644523621,
          0.5161290168762207,
          0.4838709533214569,
          0.4838709533214569,
          0.7419354915618896,
          0.6774193644523621,
          0.4516128897666931,
          0.32258063554763794,
          0.5483871102333069,
          0.4838709533214569,
          0.6774193644523621,
          0.774193525314331,
          0.5161290168762207,
          0.7419354915618896,
          0.16129031777381897,
          0.6129032373428345,
          0.6451612710952759,
          0.774193525314331
         ],
         "xaxis": "x",
         "y": [
          0.47349312901496887,
          0.25172460079193115,
          0.41752326488494873,
          0.49140873551368713,
          0.4191703796386719,
          0.5728291273117065,
          0.6122998595237732,
          0.7463681697845459,
          0.5026682019233704,
          0.42146891355514526,
          0.400177925825119,
          0.40433382987976074,
          0.6130590438842773,
          0.7455641031265259,
          0.4763370454311371,
          0.46456408500671387,
          0.5068334341049194,
          0.4589107632637024,
          0.7218340635299683,
          0.3593701720237732,
          0.5986776351928711,
          0.3436409533023834,
          0.5019761323928833,
          0.6038612127304077,
          0.45547598600387573,
          0.5211372375488281,
          0.5263513326644897,
          0.3568209111690521,
          0.6655013561248779,
          0.4172910451889038,
          0.5744970440864563,
          0.7185040712356567,
          0.6194475293159485,
          0.496515154838562,
          0.5499057769775391,
          0.29451823234558105,
          0.8436566591262817,
          0.3249402642250061,
          0.5722021460533142,
          0.3878634572029114,
          0.4714258313179016,
          0.4001602530479431,
          0.29438644647598267,
          0.5332218408584595,
          0.29779359698295593,
          0.7867920398712158,
          0.48910844326019287,
          0.5051409006118774,
          0.5289187431335449,
          0.3105194866657257,
          0.4220832586288452,
          0.5523697137832642,
          0.72120201587677,
          0.5516072511672974,
          0.6012477874755859,
          0.7025308609008789,
          0.7485452890396118,
          0.37879678606987,
          0.3590705990791321,
          0.5716145038604736,
          0.5897928476333618,
          0.6591177582740784,
          0.5773102641105652,
          0.4504895806312561,
          1.1747894287109375,
          0.4190014898777008,
          0.32884544134140015,
          0.514626681804657,
          0.7643640041351318,
          0.3845701217651367,
          0.44360116124153137,
          0.3918030261993408,
          0.5681924819946289,
          0.4078964293003082,
          0.1578066349029541,
          0.5547462701797485
         ],
         "yaxis": "y"
        },
        {
         "hovertemplate": "<b>OLS trendline</b><br>predicted = 0.21792 * true + 0.390191<br>R<sup>2</sup>=0.059543<br><br>tag=ff<br>true=%{x}<br>predicted=%{y} <b>(trend)</b><extra></extra>",
         "legendgroup": "ff",
         "marker": {
          "color": "#EF553B",
          "symbol": "circle"
         },
         "mode": "lines",
         "name": "ff",
         "showlegend": false,
         "type": "scatter",
         "x": [
          0.12903225421905518,
          0.16129031777381897,
          0.16129031777381897,
          0.19354838132858276,
          0.29032257199287415,
          0.29032257199287415,
          0.32258063554763794,
          0.32258063554763794,
          0.35483869910240173,
          0.35483869910240173,
          0.3870967626571655,
          0.3870967626571655,
          0.4193548262119293,
          0.4193548262119293,
          0.4516128897666931,
          0.4516128897666931,
          0.4516128897666931,
          0.4516128897666931,
          0.4516128897666931,
          0.4516128897666931,
          0.4838709533214569,
          0.4838709533214569,
          0.4838709533214569,
          0.4838709533214569,
          0.4838709533214569,
          0.4838709533214569,
          0.5161290168762207,
          0.5161290168762207,
          0.5161290168762207,
          0.5161290168762207,
          0.5161290168762207,
          0.5161290168762207,
          0.5483871102333069,
          0.5483871102333069,
          0.5483871102333069,
          0.5806451439857483,
          0.5806451439857483,
          0.5806451439857483,
          0.5806451439857483,
          0.5806451439857483,
          0.5806451439857483,
          0.5806451439857483,
          0.5806451439857483,
          0.5806451439857483,
          0.6129032373428345,
          0.6129032373428345,
          0.6129032373428345,
          0.6129032373428345,
          0.6451612710952759,
          0.6451612710952759,
          0.6451612710952759,
          0.6451612710952759,
          0.6774193644523621,
          0.6774193644523621,
          0.6774193644523621,
          0.6774193644523621,
          0.6774193644523621,
          0.7096773982048035,
          0.7096773982048035,
          0.7096773982048035,
          0.7096773982048035,
          0.7419354915618896,
          0.7419354915618896,
          0.7419354915618896,
          0.7419354915618896,
          0.7419354915618896,
          0.774193525314331,
          0.774193525314331,
          0.774193525314331,
          0.8064516186714172,
          0.8064516186714172,
          0.8387096524238586,
          0.8387096524238586,
          0.8709677457809448,
          0.8709677457809448,
          1
         ],
         "xaxis": "x",
         "y": [
          0.41831018885317817,
          0.4253398766053424,
          0.4253398766053424,
          0.4323695643575066,
          0.45345862761399935,
          0.45345862761399935,
          0.4604883153661635,
          0.4604883153661635,
          0.4675180031183278,
          0.4675180031183278,
          0.474547690870492,
          0.474547690870492,
          0.48157737862265626,
          0.48157737862265626,
          0.4886070663748205,
          0.4886070663748205,
          0.4886070663748205,
          0.4886070663748205,
          0.4886070663748205,
          0.4886070663748205,
          0.4956367541269847,
          0.4956367541269847,
          0.4956367541269847,
          0.4956367541269847,
          0.4956367541269847,
          0.4956367541269847,
          0.5026664418791489,
          0.5026664418791489,
          0.5026664418791489,
          0.5026664418791489,
          0.5026664418791489,
          0.5026664418791489,
          0.509696136125845,
          0.509696136125845,
          0.509696136125845,
          0.5167258173834774,
          0.5167258173834774,
          0.5167258173834774,
          0.5167258173834774,
          0.5167258173834774,
          0.5167258173834774,
          0.5167258173834774,
          0.5167258173834774,
          0.5167258173834774,
          0.5237555116301734,
          0.5237555116301734,
          0.5237555116301734,
          0.5237555116301734,
          0.5307851928878058,
          0.5307851928878058,
          0.5307851928878058,
          0.5307851928878058,
          0.5378148871345019,
          0.5378148871345019,
          0.5378148871345019,
          0.5378148871345019,
          0.5378148871345019,
          0.5448445683921344,
          0.5448445683921344,
          0.5448445683921344,
          0.5448445683921344,
          0.5518742626388303,
          0.5518742626388303,
          0.5518742626388303,
          0.5518742626388303,
          0.5518742626388303,
          0.5589039438964627,
          0.5589039438964627,
          0.5589039438964627,
          0.5659336381431588,
          0.5659336381431588,
          0.5729633194007913,
          0.5729633194007913,
          0.5799930136474873,
          0.5799930136474873,
          0.6081117646561442
         ],
         "yaxis": "y"
        },
        {
         "hovertemplate": "tag=tcn<br>true=%{x}<br>predicted=%{y}<extra></extra>",
         "legendgroup": "tcn",
         "marker": {
          "color": "#00cc96",
          "symbol": "circle"
         },
         "mode": "markers",
         "name": "tcn",
         "showlegend": true,
         "type": "scatter",
         "x": [
          0.5161290168762207,
          0.32258063554763794,
          0.5806451439857483,
          0.8387096524238586,
          0.6774193644523621,
          0.5806451439857483,
          0.8387096524238586,
          0.4838709533214569,
          0.16129031777381897,
          0.6451612710952759,
          0.35483869910240173,
          0.5806451439857483,
          0.7419354915618896,
          0.8709677457809448,
          0.5161290168762207,
          0.5483871102333069,
          0.6451612710952759,
          0.4838709533214569,
          0.6451612710952759,
          0.29032257199287415,
          0.7419354915618896,
          0.6129032373428345,
          0.7096773982048035,
          0.8709677457809448,
          0.5806451439857483,
          0.6129032373428345,
          0.3870967626571655,
          0.3870967626571655,
          0.6129032373428345,
          0.12903225421905518,
          0.4516128897666931,
          1,
          0.19354838132858276,
          0.7096773982048035,
          0.5806451439857483,
          0.4516128897666931,
          0.774193525314331,
          0.7096773982048035,
          0.4193548262119293,
          0.5806451439857483,
          0.7419354915618896,
          0.6774193644523621,
          0.4838709533214569,
          0.4516128897666931,
          0.29032257199287415,
          0.8064516186714172,
          0.5806451439857483,
          0.4193548262119293,
          0.5806451439857483,
          0.4516128897666931,
          0.5806451439857483,
          0.5161290168762207,
          0.7096773982048035,
          0.35483869910240173,
          0.5161290168762207,
          0.5483871102333069,
          0.8064516186714172,
          0.4516128897666931,
          0.6774193644523621,
          0.5161290168762207,
          0.4838709533214569,
          0.4838709533214569,
          0.7419354915618896,
          0.6774193644523621,
          0.4516128897666931,
          0.32258063554763794,
          0.5483871102333069,
          0.4838709533214569,
          0.6774193644523621,
          0.774193525314331,
          0.5161290168762207,
          0.7419354915618896,
          0.16129031777381897,
          0.6129032373428345,
          0.6451612710952759,
          0.774193525314331
         ],
         "xaxis": "x",
         "y": [
          0.6047797203063965,
          0.6516148447990417,
          0.5190064311027527,
          0.9308268427848816,
          0.44213011860847473,
          0.493201345205307,
          0.7252197861671448,
          0.46495041251182556,
          0.4375620484352112,
          0.5745323896408081,
          0.31180334091186523,
          1.1729720830917358,
          0.5202326774597168,
          0.6319475769996643,
          0.5104846358299255,
          0.8292588591575623,
          0.76019287109375,
          0.5660344958305359,
          0.8724600076675415,
          0.4214238226413727,
          0.5716195702552795,
          0.6512894630432129,
          0.5383993983268738,
          0.45866331458091736,
          0.43463072180747986,
          0.6318203806877136,
          0.6365928649902344,
          0.4456802308559418,
          0.46917256712913513,
          0.6208983063697815,
          0.5112199187278748,
          0.5136655569076538,
          0.5768317580223083,
          0.7741458415985107,
          0.6399483680725098,
          0.3617629110813141,
          0.5436411499977112,
          0.7892396450042725,
          0.4892730414867401,
          0.624213457107544,
          0.5954877734184265,
          0.5231755375862122,
          0.7554847002029419,
          0.46570879220962524,
          0.3727967441082001,
          0.866296112537384,
          0.6828415989875793,
          0.33914992213249207,
          0.5828530788421631,
          0.8755434155464172,
          0.6202560663223267,
          0.6377306580543518,
          0.5273317098617554,
          0.4116794764995575,
          0.335032194852829,
          0.4947532117366791,
          0.6751080751419067,
          0.560218095779419,
          0.48775848746299744,
          0.7498497366905212,
          0.9209861159324646,
          0.42657825350761414,
          0.465224951505661,
          0.6191539168357849,
          0.2317047417163849,
          0.40012475848197937,
          0.5966639518737793,
          0.598746120929718,
          0.4527375400066376,
          0.5663927793502808,
          0.41989219188690186,
          0.9231339693069458,
          0.8943876624107361,
          0.7810661792755127,
          0.5055058598518372,
          0.6961653232574463
         ],
         "yaxis": "y"
        },
        {
         "hovertemplate": "<b>OLS trendline</b><br>predicted = 0.215736 * true + 0.466886<br>R<sup>2</sup>=0.050291<br><br>tag=tcn<br>true=%{x}<br>predicted=%{y} <b>(trend)</b><extra></extra>",
         "legendgroup": "tcn",
         "marker": {
          "color": "#00cc96",
          "symbol": "circle"
         },
         "mode": "lines",
         "name": "tcn",
         "showlegend": false,
         "type": "scatter",
         "x": [
          0.12903225421905518,
          0.16129031777381897,
          0.16129031777381897,
          0.19354838132858276,
          0.29032257199287415,
          0.29032257199287415,
          0.32258063554763794,
          0.32258063554763794,
          0.35483869910240173,
          0.35483869910240173,
          0.3870967626571655,
          0.3870967626571655,
          0.4193548262119293,
          0.4193548262119293,
          0.4516128897666931,
          0.4516128897666931,
          0.4516128897666931,
          0.4516128897666931,
          0.4516128897666931,
          0.4516128897666931,
          0.4838709533214569,
          0.4838709533214569,
          0.4838709533214569,
          0.4838709533214569,
          0.4838709533214569,
          0.4838709533214569,
          0.5161290168762207,
          0.5161290168762207,
          0.5161290168762207,
          0.5161290168762207,
          0.5161290168762207,
          0.5161290168762207,
          0.5483871102333069,
          0.5483871102333069,
          0.5483871102333069,
          0.5806451439857483,
          0.5806451439857483,
          0.5806451439857483,
          0.5806451439857483,
          0.5806451439857483,
          0.5806451439857483,
          0.5806451439857483,
          0.5806451439857483,
          0.5806451439857483,
          0.6129032373428345,
          0.6129032373428345,
          0.6129032373428345,
          0.6129032373428345,
          0.6451612710952759,
          0.6451612710952759,
          0.6451612710952759,
          0.6451612710952759,
          0.6774193644523621,
          0.6774193644523621,
          0.6774193644523621,
          0.6774193644523621,
          0.6774193644523621,
          0.7096773982048035,
          0.7096773982048035,
          0.7096773982048035,
          0.7096773982048035,
          0.7419354915618896,
          0.7419354915618896,
          0.7419354915618896,
          0.7419354915618896,
          0.7419354915618896,
          0.774193525314331,
          0.774193525314331,
          0.774193525314331,
          0.8064516186714172,
          0.8064516186714172,
          0.8387096524238586,
          0.8387096524238586,
          0.8709677457809448,
          0.8709677457809448,
          1
         ],
         "xaxis": "x",
         "y": [
          0.4947230569360069,
          0.5016822720637376,
          0.5016822720637376,
          0.5086414871914684,
          0.5295191325746605,
          0.5295191325746605,
          0.5364783477023912,
          0.5364783477023912,
          0.543437562830122,
          0.543437562830122,
          0.5503967779578527,
          0.5503967779578527,
          0.5573559930855834,
          0.5573559930855834,
          0.5643152082133142,
          0.5643152082133142,
          0.5643152082133142,
          0.5643152082133142,
          0.5643152082133142,
          0.5643152082133142,
          0.5712744233410448,
          0.5712744233410448,
          0.5712744233410448,
          0.5712744233410448,
          0.5712744233410448,
          0.5712744233410448,
          0.5782336384687756,
          0.5782336384687756,
          0.5782336384687756,
          0.5782336384687756,
          0.5782336384687756,
          0.5782336384687756,
          0.5851928600259305,
          0.5851928600259305,
          0.5851928600259305,
          0.592152068724237,
          0.592152068724237,
          0.592152068724237,
          0.592152068724237,
          0.592152068724237,
          0.592152068724237,
          0.592152068724237,
          0.592152068724237,
          0.592152068724237,
          0.599111290281392,
          0.599111290281392,
          0.599111290281392,
          0.599111290281392,
          0.6060704989796986,
          0.6060704989796986,
          0.6060704989796986,
          0.6060704989796986,
          0.6130297205368533,
          0.6130297205368533,
          0.6130297205368533,
          0.6130297205368533,
          0.6130297205368533,
          0.6199889292351599,
          0.6199889292351599,
          0.6199889292351599,
          0.6199889292351599,
          0.6269481507923148,
          0.6269481507923148,
          0.6269481507923148,
          0.6269481507923148,
          0.6269481507923148,
          0.6339073594906214,
          0.6339073594906214,
          0.6339073594906214,
          0.6408665810477763,
          0.6408665810477763,
          0.6478257897460828,
          0.6478257897460828,
          0.6547850113032377,
          0.6547850113032377,
          0.6826218718141606
         ],
         "yaxis": "y"
        },
        {
         "hovertemplate": "tag=cpm<br>true=%{x}<br>predicted=%{y}<extra></extra>",
         "legendgroup": "cpm",
         "marker": {
          "color": "#ab63fa",
          "symbol": "circle"
         },
         "mode": "markers",
         "name": "cpm",
         "showlegend": true,
         "type": "scatter",
         "x": [
          0.5161290322580645,
          0.3225806451612903,
          0.5806451612903226,
          0.8387096774193549,
          0.6774193548387096,
          0.5806451612903226,
          0.8387096774193549,
          0.4838709677419355,
          0.16129032258064516,
          0.6451612903225806,
          0.3548387096774194,
          0.5806451612903226,
          0.7419354838709677,
          0.8709677419354839,
          0.5161290322580645,
          0.5483870967741935,
          0.6451612903225806,
          0.4838709677419355,
          0.6451612903225806,
          0.2903225806451613,
          0.7419354838709677,
          0.6129032258064516,
          0.7096774193548387,
          0.8709677419354839,
          0.5806451612903226,
          0.6129032258064516,
          0.3870967741935484,
          0.3870967741935484,
          0.6129032258064516,
          0.12903225806451613,
          0.45161290322580644,
          1,
          0.1935483870967742,
          0.7096774193548387,
          0.5806451612903226,
          0.45161290322580644,
          0.7741935483870968,
          0.7096774193548387,
          0.41935483870967744,
          0.5806451612903226,
          0.7419354838709677,
          0.6774193548387096,
          0.4838709677419355,
          0.45161290322580644,
          0.2903225806451613,
          0.8064516129032258,
          0.5806451612903226,
          0.41935483870967744,
          0.5806451612903226,
          0.45161290322580644,
          0.5806451612903226,
          0.5161290322580645,
          0.7096774193548387,
          0.3548387096774194,
          0.5161290322580645,
          0.5483870967741935,
          0.8064516129032258,
          0.45161290322580644,
          0.6774193548387096,
          0.5161290322580645,
          0.4838709677419355,
          0.4838709677419355,
          0.7419354838709677,
          0.6774193548387096,
          0.45161290322580644,
          0.3225806451612903,
          0.5483870967741935,
          0.4838709677419355,
          0.6774193548387096,
          0.7741935483870968,
          0.5161290322580645,
          0.7419354838709677,
          0.16129032258064516,
          0.6129032258064516,
          0.6451612903225806,
          0.7741935483870968
         ],
         "xaxis": "x",
         "y": [
          0.5185649458209449,
          0.5341018445524188,
          0.4999068652136719,
          0.6294801513092295,
          0.4705895382066135,
          0.5111402779968345,
          0.5738169187719504,
          0.5169132201194356,
          0.6341891596991612,
          0.4699320894687785,
          0.5222682228456834,
          0.6141094441911679,
          0.5128036758153942,
          0.4258906936786193,
          0.6810052270220588,
          0.5114069036639617,
          0.5178058153705976,
          0.4996405652501392,
          0.520365245197696,
          0.563108172203154,
          0.5232053808379349,
          0.5367620640981954,
          0.6078230427990111,
          0.5287112187860135,
          0.5728411115306304,
          0.46893635723213517,
          0.5844209258963342,
          0.6219029590741422,
          0.5717019520797495,
          0.5617078156617752,
          0.5558283994609917,
          0.5980497437581578,
          0.4915814843977456,
          0.49940422497587345,
          0.485643735074039,
          0.5416706124567275,
          0.6558500564565855,
          0.5782630067461537,
          0.5782203131240073,
          0.6597290096694666,
          0.5160945646462867,
          0.5621070024009641,
          0.5926679461120041,
          0.48569589101453964,
          0.6044492381167225,
          0.6368121549943135,
          0.5803116187661866,
          0.4786888313619079,
          0.548137623046485,
          0.5825176510018022,
          0.7381754315301617,
          0.6182725601582886,
          0.5862266614281577,
          0.5538123364349201,
          0.5725863189168349,
          0.6147270869211381,
          0.6924419648053249,
          0.500365739931793,
          0.6522314148013301,
          0.4885234527038641,
          0.5004625564575719,
          0.6332894687113388,
          0.5751438934567091,
          0.5612811084649487,
          0.6259610354586483,
          0.4794330317675813,
          0.47558493496808835,
          0.565735612840583,
          0.6292260511029995,
          0.5946684637556137,
          0.5322755513558954,
          0.642564978442008,
          0.6516728597334251,
          0.5461524047017446,
          0.4523314058794048,
          0.6396572894258892
         ],
         "yaxis": "y"
        },
        {
         "hovertemplate": "<b>OLS trendline</b><br>predicted = 0.0209981 * true + 0.549403<br>R<sup>2</sup>=0.003426<br><br>tag=cpm<br>true=%{x}<br>predicted=%{y} <b>(trend)</b><extra></extra>",
         "legendgroup": "cpm",
         "marker": {
          "color": "#ab63fa",
          "symbol": "circle"
         },
         "mode": "lines",
         "name": "cpm",
         "showlegend": false,
         "type": "scatter",
         "x": [
          0.12903225806451613,
          0.16129032258064516,
          0.16129032258064516,
          0.1935483870967742,
          0.2903225806451613,
          0.2903225806451613,
          0.3225806451612903,
          0.3225806451612903,
          0.3548387096774194,
          0.3548387096774194,
          0.3870967741935484,
          0.3870967741935484,
          0.41935483870967744,
          0.41935483870967744,
          0.45161290322580644,
          0.45161290322580644,
          0.45161290322580644,
          0.45161290322580644,
          0.45161290322580644,
          0.45161290322580644,
          0.4838709677419355,
          0.4838709677419355,
          0.4838709677419355,
          0.4838709677419355,
          0.4838709677419355,
          0.4838709677419355,
          0.5161290322580645,
          0.5161290322580645,
          0.5161290322580645,
          0.5161290322580645,
          0.5161290322580645,
          0.5161290322580645,
          0.5483870967741935,
          0.5483870967741935,
          0.5483870967741935,
          0.5806451612903226,
          0.5806451612903226,
          0.5806451612903226,
          0.5806451612903226,
          0.5806451612903226,
          0.5806451612903226,
          0.5806451612903226,
          0.5806451612903226,
          0.5806451612903226,
          0.6129032258064516,
          0.6129032258064516,
          0.6129032258064516,
          0.6129032258064516,
          0.6451612903225806,
          0.6451612903225806,
          0.6451612903225806,
          0.6451612903225806,
          0.6774193548387096,
          0.6774193548387096,
          0.6774193548387096,
          0.6774193548387096,
          0.6774193548387096,
          0.7096774193548387,
          0.7096774193548387,
          0.7096774193548387,
          0.7096774193548387,
          0.7419354838709677,
          0.7419354838709677,
          0.7419354838709677,
          0.7419354838709677,
          0.7419354838709677,
          0.7741935483870968,
          0.7741935483870968,
          0.7741935483870968,
          0.8064516129032258,
          0.8064516129032258,
          0.8387096774193549,
          0.8387096774193549,
          0.8709677419354839,
          0.8709677419354839,
          1
         ],
         "xaxis": "x",
         "y": [
          0.5521124493642711,
          0.5527898063162517,
          0.5527898063162517,
          0.5534671632682324,
          0.5554992341241743,
          0.5554992341241743,
          0.556176591076155,
          0.556176591076155,
          0.5568539480281356,
          0.5568539480281356,
          0.5575313049801163,
          0.5575313049801163,
          0.558208661932097,
          0.558208661932097,
          0.5588860188840776,
          0.5588860188840776,
          0.5588860188840776,
          0.5588860188840776,
          0.5588860188840776,
          0.5588860188840776,
          0.5595633758360583,
          0.5595633758360583,
          0.5595633758360583,
          0.5595633758360583,
          0.5595633758360583,
          0.5595633758360583,
          0.5602407327880389,
          0.5602407327880389,
          0.5602407327880389,
          0.5602407327880389,
          0.5602407327880389,
          0.5602407327880389,
          0.5609180897400196,
          0.5609180897400196,
          0.5609180897400196,
          0.5615954466920002,
          0.5615954466920002,
          0.5615954466920002,
          0.5615954466920002,
          0.5615954466920002,
          0.5615954466920002,
          0.5615954466920002,
          0.5615954466920002,
          0.5615954466920002,
          0.5622728036439809,
          0.5622728036439809,
          0.5622728036439809,
          0.5622728036439809,
          0.5629501605959615,
          0.5629501605959615,
          0.5629501605959615,
          0.5629501605959615,
          0.5636275175479422,
          0.5636275175479422,
          0.5636275175479422,
          0.5636275175479422,
          0.5636275175479422,
          0.5643048744999228,
          0.5643048744999228,
          0.5643048744999228,
          0.5643048744999228,
          0.5649822314519035,
          0.5649822314519035,
          0.5649822314519035,
          0.5649822314519035,
          0.5649822314519035,
          0.5656595884038841,
          0.5656595884038841,
          0.5656595884038841,
          0.5663369453558648,
          0.5663369453558648,
          0.5670143023078454,
          0.5670143023078454,
          0.5676916592598261,
          0.5676916592598261,
          0.5704010870677487
         ],
         "yaxis": "y"
        }
       ],
       "layout": {
        "font": {
         "color": "black"
        },
        "height": 400,
        "legend": {
         "font": {
          "size": 20
         },
         "title": {
          "text": "tag"
         },
         "tracegroupgap": 0
        },
        "margin": {
         "t": 60
        },
        "template": {
         "data": {
          "bar": [
           {
            "error_x": {
             "color": "#2a3f5f"
            },
            "error_y": {
             "color": "#2a3f5f"
            },
            "marker": {
             "line": {
              "color": "white",
              "width": 0.5
             }
            },
            "type": "bar"
           }
          ],
          "barpolar": [
           {
            "marker": {
             "line": {
              "color": "white",
              "width": 0.5
             }
            },
            "type": "barpolar"
           }
          ],
          "carpet": [
           {
            "aaxis": {
             "endlinecolor": "#2a3f5f",
             "gridcolor": "#C8D4E3",
             "linecolor": "#C8D4E3",
             "minorgridcolor": "#C8D4E3",
             "startlinecolor": "#2a3f5f"
            },
            "baxis": {
             "endlinecolor": "#2a3f5f",
             "gridcolor": "#C8D4E3",
             "linecolor": "#C8D4E3",
             "minorgridcolor": "#C8D4E3",
             "startlinecolor": "#2a3f5f"
            },
            "type": "carpet"
           }
          ],
          "choropleth": [
           {
            "colorbar": {
             "outlinewidth": 0,
             "ticks": ""
            },
            "type": "choropleth"
           }
          ],
          "contour": [
           {
            "colorbar": {
             "outlinewidth": 0,
             "ticks": ""
            },
            "colorscale": [
             [
              0,
              "#0d0887"
             ],
             [
              0.1111111111111111,
              "#46039f"
             ],
             [
              0.2222222222222222,
              "#7201a8"
             ],
             [
              0.3333333333333333,
              "#9c179e"
             ],
             [
              0.4444444444444444,
              "#bd3786"
             ],
             [
              0.5555555555555556,
              "#d8576b"
             ],
             [
              0.6666666666666666,
              "#ed7953"
             ],
             [
              0.7777777777777778,
              "#fb9f3a"
             ],
             [
              0.8888888888888888,
              "#fdca26"
             ],
             [
              1,
              "#f0f921"
             ]
            ],
            "type": "contour"
           }
          ],
          "contourcarpet": [
           {
            "colorbar": {
             "outlinewidth": 0,
             "ticks": ""
            },
            "type": "contourcarpet"
           }
          ],
          "heatmap": [
           {
            "colorbar": {
             "outlinewidth": 0,
             "ticks": ""
            },
            "colorscale": [
             [
              0,
              "#0d0887"
             ],
             [
              0.1111111111111111,
              "#46039f"
             ],
             [
              0.2222222222222222,
              "#7201a8"
             ],
             [
              0.3333333333333333,
              "#9c179e"
             ],
             [
              0.4444444444444444,
              "#bd3786"
             ],
             [
              0.5555555555555556,
              "#d8576b"
             ],
             [
              0.6666666666666666,
              "#ed7953"
             ],
             [
              0.7777777777777778,
              "#fb9f3a"
             ],
             [
              0.8888888888888888,
              "#fdca26"
             ],
             [
              1,
              "#f0f921"
             ]
            ],
            "type": "heatmap"
           }
          ],
          "heatmapgl": [
           {
            "colorbar": {
             "outlinewidth": 0,
             "ticks": ""
            },
            "colorscale": [
             [
              0,
              "#0d0887"
             ],
             [
              0.1111111111111111,
              "#46039f"
             ],
             [
              0.2222222222222222,
              "#7201a8"
             ],
             [
              0.3333333333333333,
              "#9c179e"
             ],
             [
              0.4444444444444444,
              "#bd3786"
             ],
             [
              0.5555555555555556,
              "#d8576b"
             ],
             [
              0.6666666666666666,
              "#ed7953"
             ],
             [
              0.7777777777777778,
              "#fb9f3a"
             ],
             [
              0.8888888888888888,
              "#fdca26"
             ],
             [
              1,
              "#f0f921"
             ]
            ],
            "type": "heatmapgl"
           }
          ],
          "histogram": [
           {
            "marker": {
             "colorbar": {
              "outlinewidth": 0,
              "ticks": ""
             }
            },
            "type": "histogram"
           }
          ],
          "histogram2d": [
           {
            "colorbar": {
             "outlinewidth": 0,
             "ticks": ""
            },
            "colorscale": [
             [
              0,
              "#0d0887"
             ],
             [
              0.1111111111111111,
              "#46039f"
             ],
             [
              0.2222222222222222,
              "#7201a8"
             ],
             [
              0.3333333333333333,
              "#9c179e"
             ],
             [
              0.4444444444444444,
              "#bd3786"
             ],
             [
              0.5555555555555556,
              "#d8576b"
             ],
             [
              0.6666666666666666,
              "#ed7953"
             ],
             [
              0.7777777777777778,
              "#fb9f3a"
             ],
             [
              0.8888888888888888,
              "#fdca26"
             ],
             [
              1,
              "#f0f921"
             ]
            ],
            "type": "histogram2d"
           }
          ],
          "histogram2dcontour": [
           {
            "colorbar": {
             "outlinewidth": 0,
             "ticks": ""
            },
            "colorscale": [
             [
              0,
              "#0d0887"
             ],
             [
              0.1111111111111111,
              "#46039f"
             ],
             [
              0.2222222222222222,
              "#7201a8"
             ],
             [
              0.3333333333333333,
              "#9c179e"
             ],
             [
              0.4444444444444444,
              "#bd3786"
             ],
             [
              0.5555555555555556,
              "#d8576b"
             ],
             [
              0.6666666666666666,
              "#ed7953"
             ],
             [
              0.7777777777777778,
              "#fb9f3a"
             ],
             [
              0.8888888888888888,
              "#fdca26"
             ],
             [
              1,
              "#f0f921"
             ]
            ],
            "type": "histogram2dcontour"
           }
          ],
          "mesh3d": [
           {
            "colorbar": {
             "outlinewidth": 0,
             "ticks": ""
            },
            "type": "mesh3d"
           }
          ],
          "parcoords": [
           {
            "line": {
             "colorbar": {
              "outlinewidth": 0,
              "ticks": ""
             }
            },
            "type": "parcoords"
           }
          ],
          "pie": [
           {
            "automargin": true,
            "type": "pie"
           }
          ],
          "scatter": [
           {
            "marker": {
             "colorbar": {
              "outlinewidth": 0,
              "ticks": ""
             }
            },
            "type": "scatter"
           }
          ],
          "scatter3d": [
           {
            "line": {
             "colorbar": {
              "outlinewidth": 0,
              "ticks": ""
             }
            },
            "marker": {
             "colorbar": {
              "outlinewidth": 0,
              "ticks": ""
             }
            },
            "type": "scatter3d"
           }
          ],
          "scattercarpet": [
           {
            "marker": {
             "colorbar": {
              "outlinewidth": 0,
              "ticks": ""
             }
            },
            "type": "scattercarpet"
           }
          ],
          "scattergeo": [
           {
            "marker": {
             "colorbar": {
              "outlinewidth": 0,
              "ticks": ""
             }
            },
            "type": "scattergeo"
           }
          ],
          "scattergl": [
           {
            "marker": {
             "colorbar": {
              "outlinewidth": 0,
              "ticks": ""
             }
            },
            "type": "scattergl"
           }
          ],
          "scattermapbox": [
           {
            "marker": {
             "colorbar": {
              "outlinewidth": 0,
              "ticks": ""
             }
            },
            "type": "scattermapbox"
           }
          ],
          "scatterpolar": [
           {
            "marker": {
             "colorbar": {
              "outlinewidth": 0,
              "ticks": ""
             }
            },
            "type": "scatterpolar"
           }
          ],
          "scatterpolargl": [
           {
            "marker": {
             "colorbar": {
              "outlinewidth": 0,
              "ticks": ""
             }
            },
            "type": "scatterpolargl"
           }
          ],
          "scatterternary": [
           {
            "marker": {
             "colorbar": {
              "outlinewidth": 0,
              "ticks": ""
             }
            },
            "type": "scatterternary"
           }
          ],
          "surface": [
           {
            "colorbar": {
             "outlinewidth": 0,
             "ticks": ""
            },
            "colorscale": [
             [
              0,
              "#0d0887"
             ],
             [
              0.1111111111111111,
              "#46039f"
             ],
             [
              0.2222222222222222,
              "#7201a8"
             ],
             [
              0.3333333333333333,
              "#9c179e"
             ],
             [
              0.4444444444444444,
              "#bd3786"
             ],
             [
              0.5555555555555556,
              "#d8576b"
             ],
             [
              0.6666666666666666,
              "#ed7953"
             ],
             [
              0.7777777777777778,
              "#fb9f3a"
             ],
             [
              0.8888888888888888,
              "#fdca26"
             ],
             [
              1,
              "#f0f921"
             ]
            ],
            "type": "surface"
           }
          ],
          "table": [
           {
            "cells": {
             "fill": {
              "color": "#EBF0F8"
             },
             "line": {
              "color": "white"
             }
            },
            "header": {
             "fill": {
              "color": "#C8D4E3"
             },
             "line": {
              "color": "white"
             }
            },
            "type": "table"
           }
          ]
         },
         "layout": {
          "annotationdefaults": {
           "arrowcolor": "#2a3f5f",
           "arrowhead": 0,
           "arrowwidth": 1
          },
          "coloraxis": {
           "colorbar": {
            "outlinewidth": 0,
            "ticks": ""
           }
          },
          "colorscale": {
           "diverging": [
            [
             0,
             "#8e0152"
            ],
            [
             0.1,
             "#c51b7d"
            ],
            [
             0.2,
             "#de77ae"
            ],
            [
             0.3,
             "#f1b6da"
            ],
            [
             0.4,
             "#fde0ef"
            ],
            [
             0.5,
             "#f7f7f7"
            ],
            [
             0.6,
             "#e6f5d0"
            ],
            [
             0.7,
             "#b8e186"
            ],
            [
             0.8,
             "#7fbc41"
            ],
            [
             0.9,
             "#4d9221"
            ],
            [
             1,
             "#276419"
            ]
           ],
           "sequential": [
            [
             0,
             "#0d0887"
            ],
            [
             0.1111111111111111,
             "#46039f"
            ],
            [
             0.2222222222222222,
             "#7201a8"
            ],
            [
             0.3333333333333333,
             "#9c179e"
            ],
            [
             0.4444444444444444,
             "#bd3786"
            ],
            [
             0.5555555555555556,
             "#d8576b"
            ],
            [
             0.6666666666666666,
             "#ed7953"
            ],
            [
             0.7777777777777778,
             "#fb9f3a"
            ],
            [
             0.8888888888888888,
             "#fdca26"
            ],
            [
             1,
             "#f0f921"
            ]
           ],
           "sequentialminus": [
            [
             0,
             "#0d0887"
            ],
            [
             0.1111111111111111,
             "#46039f"
            ],
            [
             0.2222222222222222,
             "#7201a8"
            ],
            [
             0.3333333333333333,
             "#9c179e"
            ],
            [
             0.4444444444444444,
             "#bd3786"
            ],
            [
             0.5555555555555556,
             "#d8576b"
            ],
            [
             0.6666666666666666,
             "#ed7953"
            ],
            [
             0.7777777777777778,
             "#fb9f3a"
            ],
            [
             0.8888888888888888,
             "#fdca26"
            ],
            [
             1,
             "#f0f921"
            ]
           ]
          },
          "colorway": [
           "#636efa",
           "#EF553B",
           "#00cc96",
           "#ab63fa",
           "#FFA15A",
           "#19d3f3",
           "#FF6692",
           "#B6E880",
           "#FF97FF",
           "#FECB52"
          ],
          "font": {
           "color": "#2a3f5f"
          },
          "geo": {
           "bgcolor": "white",
           "lakecolor": "white",
           "landcolor": "white",
           "showlakes": true,
           "showland": true,
           "subunitcolor": "#C8D4E3"
          },
          "hoverlabel": {
           "align": "left"
          },
          "hovermode": "closest",
          "mapbox": {
           "style": "light"
          },
          "paper_bgcolor": "white",
          "plot_bgcolor": "white",
          "polar": {
           "angularaxis": {
            "gridcolor": "#EBF0F8",
            "linecolor": "#EBF0F8",
            "ticks": ""
           },
           "bgcolor": "white",
           "radialaxis": {
            "gridcolor": "#EBF0F8",
            "linecolor": "#EBF0F8",
            "ticks": ""
           }
          },
          "scene": {
           "xaxis": {
            "backgroundcolor": "white",
            "gridcolor": "#DFE8F3",
            "gridwidth": 2,
            "linecolor": "#EBF0F8",
            "showbackground": true,
            "ticks": "",
            "zerolinecolor": "#EBF0F8"
           },
           "yaxis": {
            "backgroundcolor": "white",
            "gridcolor": "#DFE8F3",
            "gridwidth": 2,
            "linecolor": "#EBF0F8",
            "showbackground": true,
            "ticks": "",
            "zerolinecolor": "#EBF0F8"
           },
           "zaxis": {
            "backgroundcolor": "white",
            "gridcolor": "#DFE8F3",
            "gridwidth": 2,
            "linecolor": "#EBF0F8",
            "showbackground": true,
            "ticks": "",
            "zerolinecolor": "#EBF0F8"
           }
          },
          "shapedefaults": {
           "line": {
            "color": "#2a3f5f"
           }
          },
          "ternary": {
           "aaxis": {
            "gridcolor": "#DFE8F3",
            "linecolor": "#A2B1C6",
            "ticks": ""
           },
           "baxis": {
            "gridcolor": "#DFE8F3",
            "linecolor": "#A2B1C6",
            "ticks": ""
           },
           "bgcolor": "white",
           "caxis": {
            "gridcolor": "#DFE8F3",
            "linecolor": "#A2B1C6",
            "ticks": ""
           }
          },
          "title": {
           "x": 0.05
          },
          "xaxis": {
           "automargin": true,
           "gridcolor": "#EBF0F8",
           "linecolor": "#EBF0F8",
           "ticks": "",
           "title": {
            "standoff": 15
           },
           "zerolinecolor": "#EBF0F8",
           "zerolinewidth": 2
          },
          "yaxis": {
           "automargin": true,
           "gridcolor": "#EBF0F8",
           "linecolor": "#EBF0F8",
           "ticks": "",
           "title": {
            "standoff": 15
           },
           "zerolinecolor": "#EBF0F8",
           "zerolinewidth": 2
          }
         }
        },
        "title": {
         "text": "NEOFAC_C"
        },
        "width": 480,
        "xaxis": {
         "anchor": "y",
         "domain": [
          0,
          1
         ],
         "dtick": 0.2,
         "tickfont": {
          "size": 20
         },
         "title": {
          "font": {
           "size": 20
          },
          "text": "True"
         }
        },
        "yaxis": {
         "anchor": "x",
         "domain": [
          0,
          1
         ],
         "dtick": 0.2,
         "tickfont": {
          "size": 20
         },
         "title": {
          "font": {
           "size": 20
          },
          "text": "Predicted"
         }
        }
       }
      },
      "text/html": [
       "<div>\n",
       "        \n",
       "        \n",
       "            <div id=\"fe76074a-b24c-4356-9359-8fe13e255d46\" class=\"plotly-graph-div\" style=\"height:400px; width:480px;\"></div>\n",
       "            <script type=\"text/javascript\">\n",
       "                require([\"plotly\"], function(Plotly) {\n",
       "                    window.PLOTLYENV=window.PLOTLYENV || {};\n",
       "                    \n",
       "                if (document.getElementById(\"fe76074a-b24c-4356-9359-8fe13e255d46\")) {\n",
       "                    Plotly.newPlot(\n",
       "                        'fe76074a-b24c-4356-9359-8fe13e255d46',\n",
       "                        [{\"hovertemplate\": \"tag=gru<br>true=%{x}<br>predicted=%{y}<extra></extra>\", \"legendgroup\": \"gru\", \"marker\": {\"color\": \"#636efa\", \"symbol\": \"circle\"}, \"mode\": \"markers\", \"name\": \"gru\", \"showlegend\": true, \"type\": \"scatter\", \"x\": [0.5161290168762207, 0.32258063554763794, 0.5806451439857483, 0.8387096524238586, 0.6774193644523621, 0.5806451439857483, 0.8387096524238586, 0.4838709533214569, 0.16129031777381897, 0.6451612710952759, 0.35483869910240173, 0.5806451439857483, 0.7419354915618896, 0.8709677457809448, 0.5161290168762207, 0.5483871102333069, 0.6451612710952759, 0.4838709533214569, 0.6451612710952759, 0.29032257199287415, 0.7419354915618896, 0.6129032373428345, 0.7096773982048035, 0.8709677457809448, 0.5806451439857483, 0.6129032373428345, 0.3870967626571655, 0.3870967626571655, 0.6129032373428345, 0.12903225421905518, 0.4516128897666931, 1.0, 0.19354838132858276, 0.7096773982048035, 0.5806451439857483, 0.4516128897666931, 0.774193525314331, 0.7096773982048035, 0.4193548262119293, 0.5806451439857483, 0.7419354915618896, 0.6774193644523621, 0.4838709533214569, 0.4516128897666931, 0.29032257199287415, 0.8064516186714172, 0.5806451439857483, 0.4193548262119293, 0.5806451439857483, 0.4516128897666931, 0.5806451439857483, 0.5161290168762207, 0.7096773982048035, 0.35483869910240173, 0.5161290168762207, 0.5483871102333069, 0.8064516186714172, 0.4516128897666931, 0.6774193644523621, 0.5161290168762207, 0.4838709533214569, 0.4838709533214569, 0.7419354915618896, 0.6774193644523621, 0.4516128897666931, 0.32258063554763794, 0.5483871102333069, 0.4838709533214569, 0.6774193644523621, 0.774193525314331, 0.5161290168762207, 0.7419354915618896, 0.16129031777381897, 0.6129032373428345, 0.6451612710952759, 0.774193525314331], \"xaxis\": \"x\", \"y\": [0.5659674406051636, 0.4427139461040497, 0.5438642501831055, 0.6793529987335205, 0.6591233611106873, 0.4507715702056885, 0.4815366864204407, 0.6658774614334106, 0.4755931496620178, 0.5244432091712952, 0.39755839109420776, 0.3575226366519928, 0.4970327913761139, 0.5047780275344849, 0.5265822410583496, 0.3875179588794708, 0.6319544315338135, 0.44796085357666016, 0.49810582399368286, 0.34185707569122314, 0.3986463248729706, 0.5124279260635376, 0.6889214515686035, 0.6616261601448059, 0.5085837841033936, 0.5286682844161987, 0.419603168964386, 0.49678754806518555, 0.7226357460021973, 0.7018913626670837, 0.3558339476585388, 0.7417721152305603, 0.47427064180374146, 0.6061693429946899, 0.5730196833610535, 0.3157120645046234, 0.7659069895744324, 0.5057421922683716, 0.5444440841674805, 0.6510075330734253, 0.3433201313018799, 0.5015577077865601, 0.3398965895175934, 0.5429706573486328, 0.43683645129203796, 0.40714097023010254, 0.36075466871261597, 0.5097835063934326, 0.3943203091621399, 0.5688347816467285, 0.482582688331604, 0.63066565990448, 0.4304088354110718, 0.6430320143699646, 0.5400983095169067, 0.5400896072387695, 0.4959644675254822, 0.653607189655304, 0.4550090432167053, 0.37530022859573364, 0.3109457790851593, 0.5337930917739868, 0.7381592392921448, 0.5077683925628662, 0.6349570155143738, 0.4708864986896515, 0.3525863289833069, 0.19843462109565735, 0.500396728515625, 0.5447014570236206, 0.7892581820487976, 0.5411478877067566, 0.31052520871162415, 0.5615589618682861, 0.38401347398757935, 0.5919762253761292], \"yaxis\": \"y\"}, {\"hovertemplate\": \"<b>OLS trendline</b><br>predicted = 0.181622 * true + 0.40855<br>R<sup>2</sup>=0.068659<br><br>tag=gru<br>true=%{x}<br>predicted=%{y} <b>(trend)</b><extra></extra>\", \"legendgroup\": \"gru\", \"marker\": {\"color\": \"#636efa\", \"symbol\": \"circle\"}, \"mode\": \"lines\", \"name\": \"gru\", \"showlegend\": false, \"type\": \"scatter\", \"x\": [0.12903225421905518, 0.16129031777381897, 0.16129031777381897, 0.19354838132858276, 0.29032257199287415, 0.29032257199287415, 0.32258063554763794, 0.32258063554763794, 0.35483869910240173, 0.35483869910240173, 0.3870967626571655, 0.3870967626571655, 0.4193548262119293, 0.4193548262119293, 0.4516128897666931, 0.4516128897666931, 0.4516128897666931, 0.4516128897666931, 0.4516128897666931, 0.4516128897666931, 0.4838709533214569, 0.4838709533214569, 0.4838709533214569, 0.4838709533214569, 0.4838709533214569, 0.4838709533214569, 0.5161290168762207, 0.5161290168762207, 0.5161290168762207, 0.5161290168762207, 0.5161290168762207, 0.5161290168762207, 0.5483871102333069, 0.5483871102333069, 0.5483871102333069, 0.5806451439857483, 0.5806451439857483, 0.5806451439857483, 0.5806451439857483, 0.5806451439857483, 0.5806451439857483, 0.5806451439857483, 0.5806451439857483, 0.5806451439857483, 0.6129032373428345, 0.6129032373428345, 0.6129032373428345, 0.6129032373428345, 0.6451612710952759, 0.6451612710952759, 0.6451612710952759, 0.6451612710952759, 0.6774193644523621, 0.6774193644523621, 0.6774193644523621, 0.6774193644523621, 0.6774193644523621, 0.7096773982048035, 0.7096773982048035, 0.7096773982048035, 0.7096773982048035, 0.7419354915618896, 0.7419354915618896, 0.7419354915618896, 0.7419354915618896, 0.7419354915618896, 0.774193525314331, 0.774193525314331, 0.774193525314331, 0.8064516186714172, 0.8064516186714172, 0.8387096524238586, 0.8387096524238586, 0.8709677457809448, 0.8709677457809448, 1.0], \"xaxis\": \"x\", \"y\": [0.43198457430453613, 0.43784333380036256, 0.43784333380036256, 0.4437020932961889, 0.46127837178366815, 0.46127837178366815, 0.4671371312794945, 0.4671371312794945, 0.4729958907753209, 0.4729958907753209, 0.4788546502711473, 0.4788546502711473, 0.48471340976697375, 0.48471340976697375, 0.4905721692628001, 0.4905721692628001, 0.4905721692628001, 0.4905721692628001, 0.4905721692628001, 0.4905721692628001, 0.4964309287586265, 0.4964309287586265, 0.4964309287586265, 0.4964309287586265, 0.4964309287586265, 0.4964309287586265, 0.502289688254453, 0.502289688254453, 0.502289688254453, 0.502289688254453, 0.502289688254453, 0.502289688254453, 0.5081484531630233, 0.5081484531630233, 0.5081484531630233, 0.5140072072461057, 0.5140072072461057, 0.5140072072461057, 0.5140072072461057, 0.5140072072461057, 0.5140072072461057, 0.5140072072461057, 0.5140072072461057, 0.5140072072461057, 0.5198659721546761, 0.5198659721546761, 0.5198659721546761, 0.5198659721546761, 0.5257247262377585, 0.5257247262377585, 0.5257247262377585, 0.5257247262377585, 0.5315834911463289, 0.5315834911463289, 0.5315834911463289, 0.5315834911463289, 0.5315834911463289, 0.5374422452294113, 0.5374422452294113, 0.5374422452294113, 0.5374422452294113, 0.5433010101379817, 0.5433010101379817, 0.5433010101379817, 0.5433010101379817, 0.5433010101379817, 0.5491597642210642, 0.5491597642210642, 0.5491597642210642, 0.5550185291296345, 0.5550185291296345, 0.5608772832127169, 0.5608772832127169, 0.5667360481212873, 0.5667360481212873, 0.5901710861045929], \"yaxis\": \"y\"}, {\"hovertemplate\": \"tag=ff<br>true=%{x}<br>predicted=%{y}<extra></extra>\", \"legendgroup\": \"ff\", \"marker\": {\"color\": \"#EF553B\", \"symbol\": \"circle\"}, \"mode\": \"markers\", \"name\": \"ff\", \"showlegend\": true, \"type\": \"scatter\", \"x\": [0.5161290168762207, 0.32258063554763794, 0.5806451439857483, 0.8387096524238586, 0.6774193644523621, 0.5806451439857483, 0.8387096524238586, 0.4838709533214569, 0.16129031777381897, 0.6451612710952759, 0.35483869910240173, 0.5806451439857483, 0.7419354915618896, 0.8709677457809448, 0.5161290168762207, 0.5483871102333069, 0.6451612710952759, 0.4838709533214569, 0.6451612710952759, 0.29032257199287415, 0.7419354915618896, 0.6129032373428345, 0.7096773982048035, 0.8709677457809448, 0.5806451439857483, 0.6129032373428345, 0.3870967626571655, 0.3870967626571655, 0.6129032373428345, 0.12903225421905518, 0.4516128897666931, 1.0, 0.19354838132858276, 0.7096773982048035, 0.5806451439857483, 0.4516128897666931, 0.774193525314331, 0.7096773982048035, 0.4193548262119293, 0.5806451439857483, 0.7419354915618896, 0.6774193644523621, 0.4838709533214569, 0.4516128897666931, 0.29032257199287415, 0.8064516186714172, 0.5806451439857483, 0.4193548262119293, 0.5806451439857483, 0.4516128897666931, 0.5806451439857483, 0.5161290168762207, 0.7096773982048035, 0.35483869910240173, 0.5161290168762207, 0.5483871102333069, 0.8064516186714172, 0.4516128897666931, 0.6774193644523621, 0.5161290168762207, 0.4838709533214569, 0.4838709533214569, 0.7419354915618896, 0.6774193644523621, 0.4516128897666931, 0.32258063554763794, 0.5483871102333069, 0.4838709533214569, 0.6774193644523621, 0.774193525314331, 0.5161290168762207, 0.7419354915618896, 0.16129031777381897, 0.6129032373428345, 0.6451612710952759, 0.774193525314331], \"xaxis\": \"x\", \"y\": [0.47349312901496887, 0.25172460079193115, 0.41752326488494873, 0.49140873551368713, 0.4191703796386719, 0.5728291273117065, 0.6122998595237732, 0.7463681697845459, 0.5026682019233704, 0.42146891355514526, 0.400177925825119, 0.40433382987976074, 0.6130590438842773, 0.7455641031265259, 0.4763370454311371, 0.46456408500671387, 0.5068334341049194, 0.4589107632637024, 0.7218340635299683, 0.3593701720237732, 0.5986776351928711, 0.3436409533023834, 0.5019761323928833, 0.6038612127304077, 0.45547598600387573, 0.5211372375488281, 0.5263513326644897, 0.3568209111690521, 0.6655013561248779, 0.4172910451889038, 0.5744970440864563, 0.7185040712356567, 0.6194475293159485, 0.496515154838562, 0.5499057769775391, 0.29451823234558105, 0.8436566591262817, 0.3249402642250061, 0.5722021460533142, 0.3878634572029114, 0.4714258313179016, 0.4001602530479431, 0.29438644647598267, 0.5332218408584595, 0.29779359698295593, 0.7867920398712158, 0.48910844326019287, 0.5051409006118774, 0.5289187431335449, 0.3105194866657257, 0.4220832586288452, 0.5523697137832642, 0.72120201587677, 0.5516072511672974, 0.6012477874755859, 0.7025308609008789, 0.7485452890396118, 0.37879678606987, 0.3590705990791321, 0.5716145038604736, 0.5897928476333618, 0.6591177582740784, 0.5773102641105652, 0.4504895806312561, 1.1747894287109375, 0.4190014898777008, 0.32884544134140015, 0.514626681804657, 0.7643640041351318, 0.3845701217651367, 0.44360116124153137, 0.3918030261993408, 0.5681924819946289, 0.4078964293003082, 0.1578066349029541, 0.5547462701797485], \"yaxis\": \"y\"}, {\"hovertemplate\": \"<b>OLS trendline</b><br>predicted = 0.21792 * true + 0.390191<br>R<sup>2</sup>=0.059543<br><br>tag=ff<br>true=%{x}<br>predicted=%{y} <b>(trend)</b><extra></extra>\", \"legendgroup\": \"ff\", \"marker\": {\"color\": \"#EF553B\", \"symbol\": \"circle\"}, \"mode\": \"lines\", \"name\": \"ff\", \"showlegend\": false, \"type\": \"scatter\", \"x\": [0.12903225421905518, 0.16129031777381897, 0.16129031777381897, 0.19354838132858276, 0.29032257199287415, 0.29032257199287415, 0.32258063554763794, 0.32258063554763794, 0.35483869910240173, 0.35483869910240173, 0.3870967626571655, 0.3870967626571655, 0.4193548262119293, 0.4193548262119293, 0.4516128897666931, 0.4516128897666931, 0.4516128897666931, 0.4516128897666931, 0.4516128897666931, 0.4516128897666931, 0.4838709533214569, 0.4838709533214569, 0.4838709533214569, 0.4838709533214569, 0.4838709533214569, 0.4838709533214569, 0.5161290168762207, 0.5161290168762207, 0.5161290168762207, 0.5161290168762207, 0.5161290168762207, 0.5161290168762207, 0.5483871102333069, 0.5483871102333069, 0.5483871102333069, 0.5806451439857483, 0.5806451439857483, 0.5806451439857483, 0.5806451439857483, 0.5806451439857483, 0.5806451439857483, 0.5806451439857483, 0.5806451439857483, 0.5806451439857483, 0.6129032373428345, 0.6129032373428345, 0.6129032373428345, 0.6129032373428345, 0.6451612710952759, 0.6451612710952759, 0.6451612710952759, 0.6451612710952759, 0.6774193644523621, 0.6774193644523621, 0.6774193644523621, 0.6774193644523621, 0.6774193644523621, 0.7096773982048035, 0.7096773982048035, 0.7096773982048035, 0.7096773982048035, 0.7419354915618896, 0.7419354915618896, 0.7419354915618896, 0.7419354915618896, 0.7419354915618896, 0.774193525314331, 0.774193525314331, 0.774193525314331, 0.8064516186714172, 0.8064516186714172, 0.8387096524238586, 0.8387096524238586, 0.8709677457809448, 0.8709677457809448, 1.0], \"xaxis\": \"x\", \"y\": [0.41831018885317817, 0.4253398766053424, 0.4253398766053424, 0.4323695643575066, 0.45345862761399935, 0.45345862761399935, 0.4604883153661635, 0.4604883153661635, 0.4675180031183278, 0.4675180031183278, 0.474547690870492, 0.474547690870492, 0.48157737862265626, 0.48157737862265626, 0.4886070663748205, 0.4886070663748205, 0.4886070663748205, 0.4886070663748205, 0.4886070663748205, 0.4886070663748205, 0.4956367541269847, 0.4956367541269847, 0.4956367541269847, 0.4956367541269847, 0.4956367541269847, 0.4956367541269847, 0.5026664418791489, 0.5026664418791489, 0.5026664418791489, 0.5026664418791489, 0.5026664418791489, 0.5026664418791489, 0.509696136125845, 0.509696136125845, 0.509696136125845, 0.5167258173834774, 0.5167258173834774, 0.5167258173834774, 0.5167258173834774, 0.5167258173834774, 0.5167258173834774, 0.5167258173834774, 0.5167258173834774, 0.5167258173834774, 0.5237555116301734, 0.5237555116301734, 0.5237555116301734, 0.5237555116301734, 0.5307851928878058, 0.5307851928878058, 0.5307851928878058, 0.5307851928878058, 0.5378148871345019, 0.5378148871345019, 0.5378148871345019, 0.5378148871345019, 0.5378148871345019, 0.5448445683921344, 0.5448445683921344, 0.5448445683921344, 0.5448445683921344, 0.5518742626388303, 0.5518742626388303, 0.5518742626388303, 0.5518742626388303, 0.5518742626388303, 0.5589039438964627, 0.5589039438964627, 0.5589039438964627, 0.5659336381431588, 0.5659336381431588, 0.5729633194007913, 0.5729633194007913, 0.5799930136474873, 0.5799930136474873, 0.6081117646561442], \"yaxis\": \"y\"}, {\"hovertemplate\": \"tag=tcn<br>true=%{x}<br>predicted=%{y}<extra></extra>\", \"legendgroup\": \"tcn\", \"marker\": {\"color\": \"#00cc96\", \"symbol\": \"circle\"}, \"mode\": \"markers\", \"name\": \"tcn\", \"showlegend\": true, \"type\": \"scatter\", \"x\": [0.5161290168762207, 0.32258063554763794, 0.5806451439857483, 0.8387096524238586, 0.6774193644523621, 0.5806451439857483, 0.8387096524238586, 0.4838709533214569, 0.16129031777381897, 0.6451612710952759, 0.35483869910240173, 0.5806451439857483, 0.7419354915618896, 0.8709677457809448, 0.5161290168762207, 0.5483871102333069, 0.6451612710952759, 0.4838709533214569, 0.6451612710952759, 0.29032257199287415, 0.7419354915618896, 0.6129032373428345, 0.7096773982048035, 0.8709677457809448, 0.5806451439857483, 0.6129032373428345, 0.3870967626571655, 0.3870967626571655, 0.6129032373428345, 0.12903225421905518, 0.4516128897666931, 1.0, 0.19354838132858276, 0.7096773982048035, 0.5806451439857483, 0.4516128897666931, 0.774193525314331, 0.7096773982048035, 0.4193548262119293, 0.5806451439857483, 0.7419354915618896, 0.6774193644523621, 0.4838709533214569, 0.4516128897666931, 0.29032257199287415, 0.8064516186714172, 0.5806451439857483, 0.4193548262119293, 0.5806451439857483, 0.4516128897666931, 0.5806451439857483, 0.5161290168762207, 0.7096773982048035, 0.35483869910240173, 0.5161290168762207, 0.5483871102333069, 0.8064516186714172, 0.4516128897666931, 0.6774193644523621, 0.5161290168762207, 0.4838709533214569, 0.4838709533214569, 0.7419354915618896, 0.6774193644523621, 0.4516128897666931, 0.32258063554763794, 0.5483871102333069, 0.4838709533214569, 0.6774193644523621, 0.774193525314331, 0.5161290168762207, 0.7419354915618896, 0.16129031777381897, 0.6129032373428345, 0.6451612710952759, 0.774193525314331], \"xaxis\": \"x\", \"y\": [0.6047797203063965, 0.6516148447990417, 0.5190064311027527, 0.9308268427848816, 0.44213011860847473, 0.493201345205307, 0.7252197861671448, 0.46495041251182556, 0.4375620484352112, 0.5745323896408081, 0.31180334091186523, 1.1729720830917358, 0.5202326774597168, 0.6319475769996643, 0.5104846358299255, 0.8292588591575623, 0.76019287109375, 0.5660344958305359, 0.8724600076675415, 0.4214238226413727, 0.5716195702552795, 0.6512894630432129, 0.5383993983268738, 0.45866331458091736, 0.43463072180747986, 0.6318203806877136, 0.6365928649902344, 0.4456802308559418, 0.46917256712913513, 0.6208983063697815, 0.5112199187278748, 0.5136655569076538, 0.5768317580223083, 0.7741458415985107, 0.6399483680725098, 0.3617629110813141, 0.5436411499977112, 0.7892396450042725, 0.4892730414867401, 0.624213457107544, 0.5954877734184265, 0.5231755375862122, 0.7554847002029419, 0.46570879220962524, 0.3727967441082001, 0.866296112537384, 0.6828415989875793, 0.33914992213249207, 0.5828530788421631, 0.8755434155464172, 0.6202560663223267, 0.6377306580543518, 0.5273317098617554, 0.4116794764995575, 0.335032194852829, 0.4947532117366791, 0.6751080751419067, 0.560218095779419, 0.48775848746299744, 0.7498497366905212, 0.9209861159324646, 0.42657825350761414, 0.465224951505661, 0.6191539168357849, 0.2317047417163849, 0.40012475848197937, 0.5966639518737793, 0.598746120929718, 0.4527375400066376, 0.5663927793502808, 0.41989219188690186, 0.9231339693069458, 0.8943876624107361, 0.7810661792755127, 0.5055058598518372, 0.6961653232574463], \"yaxis\": \"y\"}, {\"hovertemplate\": \"<b>OLS trendline</b><br>predicted = 0.215736 * true + 0.466886<br>R<sup>2</sup>=0.050291<br><br>tag=tcn<br>true=%{x}<br>predicted=%{y} <b>(trend)</b><extra></extra>\", \"legendgroup\": \"tcn\", \"marker\": {\"color\": \"#00cc96\", \"symbol\": \"circle\"}, \"mode\": \"lines\", \"name\": \"tcn\", \"showlegend\": false, \"type\": \"scatter\", \"x\": [0.12903225421905518, 0.16129031777381897, 0.16129031777381897, 0.19354838132858276, 0.29032257199287415, 0.29032257199287415, 0.32258063554763794, 0.32258063554763794, 0.35483869910240173, 0.35483869910240173, 0.3870967626571655, 0.3870967626571655, 0.4193548262119293, 0.4193548262119293, 0.4516128897666931, 0.4516128897666931, 0.4516128897666931, 0.4516128897666931, 0.4516128897666931, 0.4516128897666931, 0.4838709533214569, 0.4838709533214569, 0.4838709533214569, 0.4838709533214569, 0.4838709533214569, 0.4838709533214569, 0.5161290168762207, 0.5161290168762207, 0.5161290168762207, 0.5161290168762207, 0.5161290168762207, 0.5161290168762207, 0.5483871102333069, 0.5483871102333069, 0.5483871102333069, 0.5806451439857483, 0.5806451439857483, 0.5806451439857483, 0.5806451439857483, 0.5806451439857483, 0.5806451439857483, 0.5806451439857483, 0.5806451439857483, 0.5806451439857483, 0.6129032373428345, 0.6129032373428345, 0.6129032373428345, 0.6129032373428345, 0.6451612710952759, 0.6451612710952759, 0.6451612710952759, 0.6451612710952759, 0.6774193644523621, 0.6774193644523621, 0.6774193644523621, 0.6774193644523621, 0.6774193644523621, 0.7096773982048035, 0.7096773982048035, 0.7096773982048035, 0.7096773982048035, 0.7419354915618896, 0.7419354915618896, 0.7419354915618896, 0.7419354915618896, 0.7419354915618896, 0.774193525314331, 0.774193525314331, 0.774193525314331, 0.8064516186714172, 0.8064516186714172, 0.8387096524238586, 0.8387096524238586, 0.8709677457809448, 0.8709677457809448, 1.0], \"xaxis\": \"x\", \"y\": [0.4947230569360069, 0.5016822720637376, 0.5016822720637376, 0.5086414871914684, 0.5295191325746605, 0.5295191325746605, 0.5364783477023912, 0.5364783477023912, 0.543437562830122, 0.543437562830122, 0.5503967779578527, 0.5503967779578527, 0.5573559930855834, 0.5573559930855834, 0.5643152082133142, 0.5643152082133142, 0.5643152082133142, 0.5643152082133142, 0.5643152082133142, 0.5643152082133142, 0.5712744233410448, 0.5712744233410448, 0.5712744233410448, 0.5712744233410448, 0.5712744233410448, 0.5712744233410448, 0.5782336384687756, 0.5782336384687756, 0.5782336384687756, 0.5782336384687756, 0.5782336384687756, 0.5782336384687756, 0.5851928600259305, 0.5851928600259305, 0.5851928600259305, 0.592152068724237, 0.592152068724237, 0.592152068724237, 0.592152068724237, 0.592152068724237, 0.592152068724237, 0.592152068724237, 0.592152068724237, 0.592152068724237, 0.599111290281392, 0.599111290281392, 0.599111290281392, 0.599111290281392, 0.6060704989796986, 0.6060704989796986, 0.6060704989796986, 0.6060704989796986, 0.6130297205368533, 0.6130297205368533, 0.6130297205368533, 0.6130297205368533, 0.6130297205368533, 0.6199889292351599, 0.6199889292351599, 0.6199889292351599, 0.6199889292351599, 0.6269481507923148, 0.6269481507923148, 0.6269481507923148, 0.6269481507923148, 0.6269481507923148, 0.6339073594906214, 0.6339073594906214, 0.6339073594906214, 0.6408665810477763, 0.6408665810477763, 0.6478257897460828, 0.6478257897460828, 0.6547850113032377, 0.6547850113032377, 0.6826218718141606], \"yaxis\": \"y\"}, {\"hovertemplate\": \"tag=cpm<br>true=%{x}<br>predicted=%{y}<extra></extra>\", \"legendgroup\": \"cpm\", \"marker\": {\"color\": \"#ab63fa\", \"symbol\": \"circle\"}, \"mode\": \"markers\", \"name\": \"cpm\", \"showlegend\": true, \"type\": \"scatter\", \"x\": [0.5161290322580645, 0.3225806451612903, 0.5806451612903226, 0.8387096774193549, 0.6774193548387096, 0.5806451612903226, 0.8387096774193549, 0.4838709677419355, 0.16129032258064516, 0.6451612903225806, 0.3548387096774194, 0.5806451612903226, 0.7419354838709677, 0.8709677419354839, 0.5161290322580645, 0.5483870967741935, 0.6451612903225806, 0.4838709677419355, 0.6451612903225806, 0.2903225806451613, 0.7419354838709677, 0.6129032258064516, 0.7096774193548387, 0.8709677419354839, 0.5806451612903226, 0.6129032258064516, 0.3870967741935484, 0.3870967741935484, 0.6129032258064516, 0.12903225806451613, 0.45161290322580644, 1.0, 0.1935483870967742, 0.7096774193548387, 0.5806451612903226, 0.45161290322580644, 0.7741935483870968, 0.7096774193548387, 0.41935483870967744, 0.5806451612903226, 0.7419354838709677, 0.6774193548387096, 0.4838709677419355, 0.45161290322580644, 0.2903225806451613, 0.8064516129032258, 0.5806451612903226, 0.41935483870967744, 0.5806451612903226, 0.45161290322580644, 0.5806451612903226, 0.5161290322580645, 0.7096774193548387, 0.3548387096774194, 0.5161290322580645, 0.5483870967741935, 0.8064516129032258, 0.45161290322580644, 0.6774193548387096, 0.5161290322580645, 0.4838709677419355, 0.4838709677419355, 0.7419354838709677, 0.6774193548387096, 0.45161290322580644, 0.3225806451612903, 0.5483870967741935, 0.4838709677419355, 0.6774193548387096, 0.7741935483870968, 0.5161290322580645, 0.7419354838709677, 0.16129032258064516, 0.6129032258064516, 0.6451612903225806, 0.7741935483870968], \"xaxis\": \"x\", \"y\": [0.5185649458209449, 0.5341018445524188, 0.4999068652136719, 0.6294801513092295, 0.4705895382066135, 0.5111402779968345, 0.5738169187719504, 0.5169132201194356, 0.6341891596991612, 0.4699320894687785, 0.5222682228456834, 0.6141094441911679, 0.5128036758153942, 0.4258906936786193, 0.6810052270220588, 0.5114069036639617, 0.5178058153705976, 0.4996405652501392, 0.520365245197696, 0.563108172203154, 0.5232053808379349, 0.5367620640981954, 0.6078230427990111, 0.5287112187860135, 0.5728411115306304, 0.46893635723213517, 0.5844209258963342, 0.6219029590741422, 0.5717019520797495, 0.5617078156617752, 0.5558283994609917, 0.5980497437581578, 0.4915814843977456, 0.49940422497587345, 0.485643735074039, 0.5416706124567275, 0.6558500564565855, 0.5782630067461537, 0.5782203131240073, 0.6597290096694666, 0.5160945646462867, 0.5621070024009641, 0.5926679461120041, 0.48569589101453964, 0.6044492381167225, 0.6368121549943135, 0.5803116187661866, 0.4786888313619079, 0.548137623046485, 0.5825176510018022, 0.7381754315301617, 0.6182725601582886, 0.5862266614281577, 0.5538123364349201, 0.5725863189168349, 0.6147270869211381, 0.6924419648053249, 0.500365739931793, 0.6522314148013301, 0.4885234527038641, 0.5004625564575719, 0.6332894687113388, 0.5751438934567091, 0.5612811084649487, 0.6259610354586483, 0.4794330317675813, 0.47558493496808835, 0.565735612840583, 0.6292260511029995, 0.5946684637556137, 0.5322755513558954, 0.642564978442008, 0.6516728597334251, 0.5461524047017446, 0.4523314058794048, 0.6396572894258892], \"yaxis\": \"y\"}, {\"hovertemplate\": \"<b>OLS trendline</b><br>predicted = 0.0209981 * true + 0.549403<br>R<sup>2</sup>=0.003426<br><br>tag=cpm<br>true=%{x}<br>predicted=%{y} <b>(trend)</b><extra></extra>\", \"legendgroup\": \"cpm\", \"marker\": {\"color\": \"#ab63fa\", \"symbol\": \"circle\"}, \"mode\": \"lines\", \"name\": \"cpm\", \"showlegend\": false, \"type\": \"scatter\", \"x\": [0.12903225806451613, 0.16129032258064516, 0.16129032258064516, 0.1935483870967742, 0.2903225806451613, 0.2903225806451613, 0.3225806451612903, 0.3225806451612903, 0.3548387096774194, 0.3548387096774194, 0.3870967741935484, 0.3870967741935484, 0.41935483870967744, 0.41935483870967744, 0.45161290322580644, 0.45161290322580644, 0.45161290322580644, 0.45161290322580644, 0.45161290322580644, 0.45161290322580644, 0.4838709677419355, 0.4838709677419355, 0.4838709677419355, 0.4838709677419355, 0.4838709677419355, 0.4838709677419355, 0.5161290322580645, 0.5161290322580645, 0.5161290322580645, 0.5161290322580645, 0.5161290322580645, 0.5161290322580645, 0.5483870967741935, 0.5483870967741935, 0.5483870967741935, 0.5806451612903226, 0.5806451612903226, 0.5806451612903226, 0.5806451612903226, 0.5806451612903226, 0.5806451612903226, 0.5806451612903226, 0.5806451612903226, 0.5806451612903226, 0.6129032258064516, 0.6129032258064516, 0.6129032258064516, 0.6129032258064516, 0.6451612903225806, 0.6451612903225806, 0.6451612903225806, 0.6451612903225806, 0.6774193548387096, 0.6774193548387096, 0.6774193548387096, 0.6774193548387096, 0.6774193548387096, 0.7096774193548387, 0.7096774193548387, 0.7096774193548387, 0.7096774193548387, 0.7419354838709677, 0.7419354838709677, 0.7419354838709677, 0.7419354838709677, 0.7419354838709677, 0.7741935483870968, 0.7741935483870968, 0.7741935483870968, 0.8064516129032258, 0.8064516129032258, 0.8387096774193549, 0.8387096774193549, 0.8709677419354839, 0.8709677419354839, 1.0], \"xaxis\": \"x\", \"y\": [0.5521124493642711, 0.5527898063162517, 0.5527898063162517, 0.5534671632682324, 0.5554992341241743, 0.5554992341241743, 0.556176591076155, 0.556176591076155, 0.5568539480281356, 0.5568539480281356, 0.5575313049801163, 0.5575313049801163, 0.558208661932097, 0.558208661932097, 0.5588860188840776, 0.5588860188840776, 0.5588860188840776, 0.5588860188840776, 0.5588860188840776, 0.5588860188840776, 0.5595633758360583, 0.5595633758360583, 0.5595633758360583, 0.5595633758360583, 0.5595633758360583, 0.5595633758360583, 0.5602407327880389, 0.5602407327880389, 0.5602407327880389, 0.5602407327880389, 0.5602407327880389, 0.5602407327880389, 0.5609180897400196, 0.5609180897400196, 0.5609180897400196, 0.5615954466920002, 0.5615954466920002, 0.5615954466920002, 0.5615954466920002, 0.5615954466920002, 0.5615954466920002, 0.5615954466920002, 0.5615954466920002, 0.5615954466920002, 0.5622728036439809, 0.5622728036439809, 0.5622728036439809, 0.5622728036439809, 0.5629501605959615, 0.5629501605959615, 0.5629501605959615, 0.5629501605959615, 0.5636275175479422, 0.5636275175479422, 0.5636275175479422, 0.5636275175479422, 0.5636275175479422, 0.5643048744999228, 0.5643048744999228, 0.5643048744999228, 0.5643048744999228, 0.5649822314519035, 0.5649822314519035, 0.5649822314519035, 0.5649822314519035, 0.5649822314519035, 0.5656595884038841, 0.5656595884038841, 0.5656595884038841, 0.5663369453558648, 0.5663369453558648, 0.5670143023078454, 0.5670143023078454, 0.5676916592598261, 0.5676916592598261, 0.5704010870677487], \"yaxis\": \"y\"}],\n",
       "                        {\"font\": {\"color\": \"black\"}, \"height\": 400, \"legend\": {\"font\": {\"size\": 20}, \"title\": {\"text\": \"tag\"}, \"tracegroupgap\": 0}, \"margin\": {\"t\": 60}, \"template\": {\"data\": {\"bar\": [{\"error_x\": {\"color\": \"#2a3f5f\"}, \"error_y\": {\"color\": \"#2a3f5f\"}, \"marker\": {\"line\": {\"color\": \"white\", \"width\": 0.5}}, \"type\": \"bar\"}], \"barpolar\": [{\"marker\": {\"line\": {\"color\": \"white\", \"width\": 0.5}}, \"type\": \"barpolar\"}], \"carpet\": [{\"aaxis\": {\"endlinecolor\": \"#2a3f5f\", \"gridcolor\": \"#C8D4E3\", \"linecolor\": \"#C8D4E3\", \"minorgridcolor\": \"#C8D4E3\", \"startlinecolor\": \"#2a3f5f\"}, \"baxis\": {\"endlinecolor\": \"#2a3f5f\", \"gridcolor\": \"#C8D4E3\", \"linecolor\": \"#C8D4E3\", \"minorgridcolor\": \"#C8D4E3\", \"startlinecolor\": \"#2a3f5f\"}, \"type\": \"carpet\"}], \"choropleth\": [{\"colorbar\": {\"outlinewidth\": 0, \"ticks\": \"\"}, \"type\": \"choropleth\"}], \"contour\": [{\"colorbar\": {\"outlinewidth\": 0, \"ticks\": \"\"}, \"colorscale\": [[0.0, \"#0d0887\"], [0.1111111111111111, \"#46039f\"], [0.2222222222222222, \"#7201a8\"], [0.3333333333333333, \"#9c179e\"], [0.4444444444444444, \"#bd3786\"], [0.5555555555555556, \"#d8576b\"], [0.6666666666666666, \"#ed7953\"], [0.7777777777777778, \"#fb9f3a\"], [0.8888888888888888, \"#fdca26\"], [1.0, \"#f0f921\"]], \"type\": \"contour\"}], \"contourcarpet\": [{\"colorbar\": {\"outlinewidth\": 0, \"ticks\": \"\"}, \"type\": \"contourcarpet\"}], \"heatmap\": [{\"colorbar\": {\"outlinewidth\": 0, \"ticks\": \"\"}, \"colorscale\": [[0.0, \"#0d0887\"], [0.1111111111111111, \"#46039f\"], [0.2222222222222222, \"#7201a8\"], [0.3333333333333333, \"#9c179e\"], [0.4444444444444444, \"#bd3786\"], [0.5555555555555556, \"#d8576b\"], [0.6666666666666666, \"#ed7953\"], [0.7777777777777778, \"#fb9f3a\"], [0.8888888888888888, \"#fdca26\"], [1.0, \"#f0f921\"]], \"type\": \"heatmap\"}], \"heatmapgl\": [{\"colorbar\": {\"outlinewidth\": 0, \"ticks\": \"\"}, \"colorscale\": [[0.0, \"#0d0887\"], [0.1111111111111111, \"#46039f\"], [0.2222222222222222, \"#7201a8\"], [0.3333333333333333, \"#9c179e\"], [0.4444444444444444, \"#bd3786\"], [0.5555555555555556, \"#d8576b\"], [0.6666666666666666, \"#ed7953\"], [0.7777777777777778, \"#fb9f3a\"], [0.8888888888888888, \"#fdca26\"], [1.0, \"#f0f921\"]], \"type\": \"heatmapgl\"}], \"histogram\": [{\"marker\": {\"colorbar\": {\"outlinewidth\": 0, \"ticks\": \"\"}}, \"type\": \"histogram\"}], \"histogram2d\": [{\"colorbar\": {\"outlinewidth\": 0, \"ticks\": \"\"}, \"colorscale\": [[0.0, \"#0d0887\"], [0.1111111111111111, \"#46039f\"], [0.2222222222222222, \"#7201a8\"], [0.3333333333333333, \"#9c179e\"], [0.4444444444444444, \"#bd3786\"], [0.5555555555555556, \"#d8576b\"], [0.6666666666666666, \"#ed7953\"], [0.7777777777777778, \"#fb9f3a\"], [0.8888888888888888, \"#fdca26\"], [1.0, \"#f0f921\"]], \"type\": \"histogram2d\"}], \"histogram2dcontour\": [{\"colorbar\": {\"outlinewidth\": 0, \"ticks\": \"\"}, \"colorscale\": [[0.0, \"#0d0887\"], [0.1111111111111111, \"#46039f\"], [0.2222222222222222, \"#7201a8\"], [0.3333333333333333, \"#9c179e\"], [0.4444444444444444, \"#bd3786\"], [0.5555555555555556, \"#d8576b\"], [0.6666666666666666, \"#ed7953\"], [0.7777777777777778, \"#fb9f3a\"], [0.8888888888888888, \"#fdca26\"], [1.0, \"#f0f921\"]], \"type\": \"histogram2dcontour\"}], \"mesh3d\": [{\"colorbar\": {\"outlinewidth\": 0, \"ticks\": \"\"}, \"type\": \"mesh3d\"}], \"parcoords\": [{\"line\": {\"colorbar\": {\"outlinewidth\": 0, \"ticks\": \"\"}}, \"type\": \"parcoords\"}], \"pie\": [{\"automargin\": true, \"type\": \"pie\"}], \"scatter\": [{\"marker\": {\"colorbar\": {\"outlinewidth\": 0, \"ticks\": \"\"}}, \"type\": \"scatter\"}], \"scatter3d\": [{\"line\": {\"colorbar\": {\"outlinewidth\": 0, \"ticks\": \"\"}}, \"marker\": {\"colorbar\": {\"outlinewidth\": 0, \"ticks\": \"\"}}, \"type\": \"scatter3d\"}], \"scattercarpet\": [{\"marker\": {\"colorbar\": {\"outlinewidth\": 0, \"ticks\": \"\"}}, \"type\": \"scattercarpet\"}], \"scattergeo\": [{\"marker\": {\"colorbar\": {\"outlinewidth\": 0, \"ticks\": \"\"}}, \"type\": \"scattergeo\"}], \"scattergl\": [{\"marker\": {\"colorbar\": {\"outlinewidth\": 0, \"ticks\": \"\"}}, \"type\": \"scattergl\"}], \"scattermapbox\": [{\"marker\": {\"colorbar\": {\"outlinewidth\": 0, \"ticks\": \"\"}}, \"type\": \"scattermapbox\"}], \"scatterpolar\": [{\"marker\": {\"colorbar\": {\"outlinewidth\": 0, \"ticks\": \"\"}}, \"type\": \"scatterpolar\"}], \"scatterpolargl\": [{\"marker\": {\"colorbar\": {\"outlinewidth\": 0, \"ticks\": \"\"}}, \"type\": \"scatterpolargl\"}], \"scatterternary\": [{\"marker\": {\"colorbar\": {\"outlinewidth\": 0, \"ticks\": \"\"}}, \"type\": \"scatterternary\"}], \"surface\": [{\"colorbar\": {\"outlinewidth\": 0, \"ticks\": \"\"}, \"colorscale\": [[0.0, \"#0d0887\"], [0.1111111111111111, \"#46039f\"], [0.2222222222222222, \"#7201a8\"], [0.3333333333333333, \"#9c179e\"], [0.4444444444444444, \"#bd3786\"], [0.5555555555555556, \"#d8576b\"], [0.6666666666666666, \"#ed7953\"], [0.7777777777777778, \"#fb9f3a\"], [0.8888888888888888, \"#fdca26\"], [1.0, \"#f0f921\"]], \"type\": \"surface\"}], \"table\": [{\"cells\": {\"fill\": {\"color\": \"#EBF0F8\"}, \"line\": {\"color\": \"white\"}}, \"header\": {\"fill\": {\"color\": \"#C8D4E3\"}, \"line\": {\"color\": \"white\"}}, \"type\": \"table\"}]}, \"layout\": {\"annotationdefaults\": {\"arrowcolor\": \"#2a3f5f\", \"arrowhead\": 0, \"arrowwidth\": 1}, \"coloraxis\": {\"colorbar\": {\"outlinewidth\": 0, \"ticks\": \"\"}}, \"colorscale\": {\"diverging\": [[0, \"#8e0152\"], [0.1, \"#c51b7d\"], [0.2, \"#de77ae\"], [0.3, \"#f1b6da\"], [0.4, \"#fde0ef\"], [0.5, \"#f7f7f7\"], [0.6, \"#e6f5d0\"], [0.7, \"#b8e186\"], [0.8, \"#7fbc41\"], [0.9, \"#4d9221\"], [1, \"#276419\"]], \"sequential\": [[0.0, \"#0d0887\"], [0.1111111111111111, \"#46039f\"], [0.2222222222222222, \"#7201a8\"], [0.3333333333333333, \"#9c179e\"], [0.4444444444444444, \"#bd3786\"], [0.5555555555555556, \"#d8576b\"], [0.6666666666666666, \"#ed7953\"], [0.7777777777777778, \"#fb9f3a\"], [0.8888888888888888, \"#fdca26\"], [1.0, \"#f0f921\"]], \"sequentialminus\": [[0.0, \"#0d0887\"], [0.1111111111111111, \"#46039f\"], [0.2222222222222222, \"#7201a8\"], [0.3333333333333333, \"#9c179e\"], [0.4444444444444444, \"#bd3786\"], [0.5555555555555556, \"#d8576b\"], [0.6666666666666666, \"#ed7953\"], [0.7777777777777778, \"#fb9f3a\"], [0.8888888888888888, \"#fdca26\"], [1.0, \"#f0f921\"]]}, \"colorway\": [\"#636efa\", \"#EF553B\", \"#00cc96\", \"#ab63fa\", \"#FFA15A\", \"#19d3f3\", \"#FF6692\", \"#B6E880\", \"#FF97FF\", \"#FECB52\"], \"font\": {\"color\": \"#2a3f5f\"}, \"geo\": {\"bgcolor\": \"white\", \"lakecolor\": \"white\", \"landcolor\": \"white\", \"showlakes\": true, \"showland\": true, \"subunitcolor\": \"#C8D4E3\"}, \"hoverlabel\": {\"align\": \"left\"}, \"hovermode\": \"closest\", \"mapbox\": {\"style\": \"light\"}, \"paper_bgcolor\": \"white\", \"plot_bgcolor\": \"white\", \"polar\": {\"angularaxis\": {\"gridcolor\": \"#EBF0F8\", \"linecolor\": \"#EBF0F8\", \"ticks\": \"\"}, \"bgcolor\": \"white\", \"radialaxis\": {\"gridcolor\": \"#EBF0F8\", \"linecolor\": \"#EBF0F8\", \"ticks\": \"\"}}, \"scene\": {\"xaxis\": {\"backgroundcolor\": \"white\", \"gridcolor\": \"#DFE8F3\", \"gridwidth\": 2, \"linecolor\": \"#EBF0F8\", \"showbackground\": true, \"ticks\": \"\", \"zerolinecolor\": \"#EBF0F8\"}, \"yaxis\": {\"backgroundcolor\": \"white\", \"gridcolor\": \"#DFE8F3\", \"gridwidth\": 2, \"linecolor\": \"#EBF0F8\", \"showbackground\": true, \"ticks\": \"\", \"zerolinecolor\": \"#EBF0F8\"}, \"zaxis\": {\"backgroundcolor\": \"white\", \"gridcolor\": \"#DFE8F3\", \"gridwidth\": 2, \"linecolor\": \"#EBF0F8\", \"showbackground\": true, \"ticks\": \"\", \"zerolinecolor\": \"#EBF0F8\"}}, \"shapedefaults\": {\"line\": {\"color\": \"#2a3f5f\"}}, \"ternary\": {\"aaxis\": {\"gridcolor\": \"#DFE8F3\", \"linecolor\": \"#A2B1C6\", \"ticks\": \"\"}, \"baxis\": {\"gridcolor\": \"#DFE8F3\", \"linecolor\": \"#A2B1C6\", \"ticks\": \"\"}, \"bgcolor\": \"white\", \"caxis\": {\"gridcolor\": \"#DFE8F3\", \"linecolor\": \"#A2B1C6\", \"ticks\": \"\"}}, \"title\": {\"x\": 0.05}, \"xaxis\": {\"automargin\": true, \"gridcolor\": \"#EBF0F8\", \"linecolor\": \"#EBF0F8\", \"ticks\": \"\", \"title\": {\"standoff\": 15}, \"zerolinecolor\": \"#EBF0F8\", \"zerolinewidth\": 2}, \"yaxis\": {\"automargin\": true, \"gridcolor\": \"#EBF0F8\", \"linecolor\": \"#EBF0F8\", \"ticks\": \"\", \"title\": {\"standoff\": 15}, \"zerolinecolor\": \"#EBF0F8\", \"zerolinewidth\": 2}}}, \"title\": {\"text\": \"NEOFAC_C\"}, \"width\": 480, \"xaxis\": {\"anchor\": \"y\", \"domain\": [0.0, 1.0], \"dtick\": 0.2, \"tickfont\": {\"size\": 20}, \"title\": {\"font\": {\"size\": 20}, \"text\": \"True\"}}, \"yaxis\": {\"anchor\": \"x\", \"domain\": [0.0, 1.0], \"dtick\": 0.2, \"tickfont\": {\"size\": 20}, \"title\": {\"font\": {\"size\": 20}, \"text\": \"Predicted\"}}},\n",
       "                        {\"responsive\": true}\n",
       "                    ).then(function(){\n",
       "                            \n",
       "var gd = document.getElementById('fe76074a-b24c-4356-9359-8fe13e255d46');\n",
       "var x = new MutationObserver(function (mutations, observer) {{\n",
       "        var display = window.getComputedStyle(gd).display;\n",
       "        if (!display || display === 'none') {{\n",
       "            console.log([gd, 'removed!']);\n",
       "            Plotly.purge(gd);\n",
       "            observer.disconnect();\n",
       "        }}\n",
       "}});\n",
       "\n",
       "// Listen for the removal of the full notebook cells\n",
       "var notebookContainer = gd.closest('#notebook-container');\n",
       "if (notebookContainer) {{\n",
       "    x.observe(notebookContainer, {childList: true});\n",
       "}}\n",
       "\n",
       "// Listen for the clearing of the current output cell\n",
       "var outputEl = gd.closest('.output');\n",
       "if (outputEl) {{\n",
       "    x.observe(outputEl, {childList: true});\n",
       "}}\n",
       "\n",
       "                        })\n",
       "                };\n",
       "                });\n",
       "            </script>\n",
       "        </div>"
      ]
     },
     "metadata": {},
     "output_type": "display_data"
    },
    {
     "data": {
      "application/vnd.plotly.v1+json": {
       "config": {
        "plotlyServerURL": "https://plot.ly"
       },
       "data": [
        {
         "hovertemplate": "tag=gru<br>true=%{x}<br>predicted=%{y}<extra></extra>",
         "legendgroup": "gru",
         "marker": {
          "color": "#636efa",
          "symbol": "circle"
         },
         "mode": "markers",
         "name": "gru",
         "showlegend": true,
         "type": "scatter",
         "x": [
          0.21621622145175934,
          0.3513513505458832,
          0.054054055362939835,
          0.3243243098258972,
          0.29729729890823364,
          0.4864864945411682,
          0.3243243098258972,
          0.21621622145175934,
          0.7837837934494019,
          0.3243243098258972,
          0.2702702581882477,
          0.29729729890823364,
          0.29729729890823364,
          0.3243243098258972,
          0.2702702581882477,
          0.4864864945411682,
          0.2702702581882477,
          0.5135135054588318,
          0.4324324429035187,
          0.4054054021835327,
          0.3513513505458832,
          0.45945945382118225,
          0.4054054021835327,
          0.5135135054588318,
          0.5405405163764954,
          0.45945945382118225,
          0.4054054021835327,
          0.1621621549129486,
          0.2702702581882477,
          0.6216216087341309,
          0.6756756901741028,
          0.3243243098258972,
          0.2702702581882477,
          0.3513513505458832,
          0.4324324429035187,
          0.29729729890823364,
          0.18918919563293457,
          0.37837839126586914,
          0.5405405163764954,
          0.3513513505458832,
          0.18918919563293457,
          0.4054054021835327,
          0.2432432472705841,
          0.3513513505458832,
          0.6756756901741028,
          0.2432432472705841,
          0.45945945382118225,
          0.4324324429035187,
          0.13513512909412384,
          0.2702702581882477,
          0.0810810774564743,
          0.4864864945411682,
          0.3513513505458832,
          0.4324324429035187,
          0.3243243098258972,
          0.3243243098258972,
          0.2432432472705841,
          0.2702702581882477,
          0.21621622145175934,
          0.4054054021835327,
          0.29729729890823364,
          0.5945945978164673,
          0.4054054021835327,
          0.3513513505458832,
          0.3243243098258972,
          0.3243243098258972,
          0.37837839126586914,
          0.3513513505458832,
          0.027027027681469917,
          0.18918919563293457,
          0.21621622145175934,
          0.4054054021835327,
          0.5405405163764954,
          0.5405405163764954,
          0.7567567825317383,
          0.4324324429035187
         ],
         "xaxis": "x",
         "y": [
          0.3075951337814331,
          0.5712229609489441,
          0.4246011972427368,
          0.32421666383743286,
          0.5420325398445129,
          0.48877888917922974,
          0.5224671959877014,
          0.3961787223815918,
          0.3271799683570862,
          0.5601072311401367,
          0.40063828229904175,
          0.365886390209198,
          0.48397767543792725,
          0.273151695728302,
          0.4317782521247864,
          0.40079736709594727,
          0.4437946677207947,
          0.37721723318099976,
          0.42947477102279663,
          0.44237035512924194,
          0.3751184344291687,
          0.44777828454971313,
          0.2871113717556,
          0.5129548907279968,
          0.38080400228500366,
          0.3749399185180664,
          0.2743951082229614,
          0.35540705919265747,
          0.424271821975708,
          0.22939026355743408,
          0.5041800737380981,
          0.491188645362854,
          0.25620782375335693,
          0.3634326457977295,
          0.4650043249130249,
          0.44422662258148193,
          0.1901616007089615,
          0.4456389546394348,
          0.482538104057312,
          0.3765096068382263,
          0.6201237440109253,
          0.5231190919876099,
          0.3199288845062256,
          0.4565024971961975,
          0.5672594308853149,
          0.41763895750045776,
          0.5528516173362732,
          0.29207170009613037,
          0.45910996198654175,
          0.4245365858078003,
          0.38457584381103516,
          0.47829627990722656,
          0.3453177213668823,
          0.4918369650840759,
          0.4376252293586731,
          0.36782366037368774,
          0.4133514165878296,
          0.56478351354599,
          0.36599522829055786,
          0.4916544556617737,
          0.39601707458496094,
          0.6021194458007812,
          0.36242687702178955,
          0.5309833884239197,
          0.3545699715614319,
          0.4214380979537964,
          0.6224854588508606,
          0.26048558950424194,
          0.3755781650543213,
          0.3295096158981323,
          0.1999320536851883,
          0.3118731379508972,
          0.3180599808692932,
          0.2769169211387634,
          0.42670661211013794,
          0.4505646228790283
         ],
         "yaxis": "y"
        },
        {
         "hovertemplate": "<b>OLS trendline</b><br>predicted = 0.080692 * true + 0.383947<br>R<sup>2</sup>=0.014708<br><br>tag=gru<br>true=%{x}<br>predicted=%{y} <b>(trend)</b><extra></extra>",
         "legendgroup": "gru",
         "marker": {
          "color": "#636efa",
          "symbol": "circle"
         },
         "mode": "lines",
         "name": "gru",
         "showlegend": false,
         "type": "scatter",
         "x": [
          0.027027027681469917,
          0.054054055362939835,
          0.0810810774564743,
          0.13513512909412384,
          0.1621621549129486,
          0.18918919563293457,
          0.18918919563293457,
          0.18918919563293457,
          0.21621622145175934,
          0.21621622145175934,
          0.21621622145175934,
          0.21621622145175934,
          0.2432432472705841,
          0.2432432472705841,
          0.2432432472705841,
          0.2702702581882477,
          0.2702702581882477,
          0.2702702581882477,
          0.2702702581882477,
          0.2702702581882477,
          0.2702702581882477,
          0.2702702581882477,
          0.29729729890823364,
          0.29729729890823364,
          0.29729729890823364,
          0.29729729890823364,
          0.29729729890823364,
          0.3243243098258972,
          0.3243243098258972,
          0.3243243098258972,
          0.3243243098258972,
          0.3243243098258972,
          0.3243243098258972,
          0.3243243098258972,
          0.3243243098258972,
          0.3243243098258972,
          0.3513513505458832,
          0.3513513505458832,
          0.3513513505458832,
          0.3513513505458832,
          0.3513513505458832,
          0.3513513505458832,
          0.3513513505458832,
          0.3513513505458832,
          0.37837839126586914,
          0.37837839126586914,
          0.4054054021835327,
          0.4054054021835327,
          0.4054054021835327,
          0.4054054021835327,
          0.4054054021835327,
          0.4054054021835327,
          0.4054054021835327,
          0.4324324429035187,
          0.4324324429035187,
          0.4324324429035187,
          0.4324324429035187,
          0.4324324429035187,
          0.45945945382118225,
          0.45945945382118225,
          0.45945945382118225,
          0.4864864945411682,
          0.4864864945411682,
          0.4864864945411682,
          0.5135135054588318,
          0.5135135054588318,
          0.5405405163764954,
          0.5405405163764954,
          0.5405405163764954,
          0.5405405163764954,
          0.5945945978164673,
          0.6216216087341309,
          0.6756756901741028,
          0.6756756901741028,
          0.7567567825317383,
          0.7837837934494019
         ],
         "xaxis": "x",
         "y": [
          0.3861276263888753,
          0.3883084900369455,
          0.3904893532341142,
          0.3948510802296536,
          0.3970319437274233,
          0.39921280842759677,
          0.39921280842759677,
          0.39921280842759677,
          0.40139367192536646,
          0.40139367192536646,
          0.40139367192536646,
          0.40139367192536646,
          0.40357453542313615,
          0.40357453542313615,
          0.40357453542313615,
          0.405755397718502,
          0.405755397718502,
          0.405755397718502,
          0.405755397718502,
          0.405755397718502,
          0.405755397718502,
          0.405755397718502,
          0.4079362624186755,
          0.4079362624186755,
          0.4079362624186755,
          0.4079362624186755,
          0.4079362624186755,
          0.4101171247140414,
          0.4101171247140414,
          0.4101171247140414,
          0.4101171247140414,
          0.4101171247140414,
          0.4101171247140414,
          0.4101171247140414,
          0.4101171247140414,
          0.4101171247140414,
          0.41229798941421486,
          0.41229798941421486,
          0.41229798941421486,
          0.41229798941421486,
          0.41229798941421486,
          0.41229798941421486,
          0.41229798941421486,
          0.41229798941421486,
          0.41447885411438834,
          0.41447885411438834,
          0.41665971640975424,
          0.41665971640975424,
          0.41665971640975424,
          0.41665971640975424,
          0.41665971640975424,
          0.41665971640975424,
          0.41665971640975424,
          0.4188405811099277,
          0.4188405811099277,
          0.4188405811099277,
          0.4188405811099277,
          0.4188405811099277,
          0.42102144340529357,
          0.42102144340529357,
          0.42102144340529357,
          0.42320230810546705,
          0.42320230810546705,
          0.42320230810546705,
          0.42538317040083296,
          0.42538317040083296,
          0.4275640326961988,
          0.4275640326961988,
          0.4275640326961988,
          0.4275640326961988,
          0.4319257620965458,
          0.43410662439191167,
          0.4384683537922586,
          0.4384683537922586,
          0.4450109454879715,
          0.4471918077833374
         ],
         "yaxis": "y"
        },
        {
         "hovertemplate": "tag=ff<br>true=%{x}<br>predicted=%{y}<extra></extra>",
         "legendgroup": "ff",
         "marker": {
          "color": "#EF553B",
          "symbol": "circle"
         },
         "mode": "markers",
         "name": "ff",
         "showlegend": true,
         "type": "scatter",
         "x": [
          0.21621622145175934,
          0.3513513505458832,
          0.054054055362939835,
          0.3243243098258972,
          0.29729729890823364,
          0.4864864945411682,
          0.3243243098258972,
          0.21621622145175934,
          0.7837837934494019,
          0.3243243098258972,
          0.2702702581882477,
          0.29729729890823364,
          0.29729729890823364,
          0.3243243098258972,
          0.2702702581882477,
          0.4864864945411682,
          0.2702702581882477,
          0.5135135054588318,
          0.4324324429035187,
          0.4054054021835327,
          0.3513513505458832,
          0.45945945382118225,
          0.4054054021835327,
          0.5135135054588318,
          0.5405405163764954,
          0.45945945382118225,
          0.4054054021835327,
          0.1621621549129486,
          0.2702702581882477,
          0.6216216087341309,
          0.6756756901741028,
          0.3243243098258972,
          0.2702702581882477,
          0.3513513505458832,
          0.4324324429035187,
          0.29729729890823364,
          0.18918919563293457,
          0.37837839126586914,
          0.5405405163764954,
          0.3513513505458832,
          0.18918919563293457,
          0.4054054021835327,
          0.2432432472705841,
          0.3513513505458832,
          0.6756756901741028,
          0.2432432472705841,
          0.45945945382118225,
          0.4324324429035187,
          0.13513512909412384,
          0.2702702581882477,
          0.0810810774564743,
          0.4864864945411682,
          0.3513513505458832,
          0.4324324429035187,
          0.3243243098258972,
          0.3243243098258972,
          0.2432432472705841,
          0.2702702581882477,
          0.21621622145175934,
          0.4054054021835327,
          0.29729729890823364,
          0.5945945978164673,
          0.4054054021835327,
          0.3513513505458832,
          0.3243243098258972,
          0.3243243098258972,
          0.37837839126586914,
          0.3513513505458832,
          0.027027027681469917,
          0.18918919563293457,
          0.21621622145175934,
          0.4054054021835327,
          0.5405405163764954,
          0.5405405163764954,
          0.7567567825317383,
          0.4324324429035187
         ],
         "xaxis": "x",
         "y": [
          0.3925594091415405,
          0.581169843673706,
          0.48756903409957886,
          0.48042362928390503,
          0.44033917784690857,
          0.22435113787651062,
          0.4837431013584137,
          0.464865505695343,
          0.3664783537387848,
          0.5317504405975342,
          0.3912261724472046,
          0.5097726583480835,
          0.3528655469417572,
          0.3651220500469208,
          0.2197609543800354,
          0.5617532730102539,
          0.2531254291534424,
          0.3133013844490051,
          0.43241167068481445,
          0.4245951175689697,
          0.4087611734867096,
          0.5841683149337769,
          0.4266745448112488,
          0.5048039555549622,
          0.3994460105895996,
          0.3997794985771179,
          0.5819253921508789,
          0.3165014386177063,
          0.39114055037498474,
          0.7216874361038208,
          0.6481196880340576,
          0.5328871011734009,
          0.3173738718032837,
          0.4608500301837921,
          0.5854936838150024,
          0.4259812831878662,
          0.2635810375213623,
          0.6216209530830383,
          0.4056055545806885,
          0.36902832984924316,
          0.3946652114391327,
          0.4756070375442505,
          0.4616873860359192,
          0.2248694896697998,
          0.6041759252548218,
          0.6664213538169861,
          0.24387075006961823,
          0.24932439625263214,
          0.41492414474487305,
          0.2966531813144684,
          0.5073667168617249,
          0.27853187918663025,
          0.5410126447677612,
          0.4643566906452179,
          0.6264704465866089,
          0.3371140658855438,
          0.3812292516231537,
          0.29272350668907166,
          0.46656671166419983,
          0.32888761162757874,
          0.19341513514518738,
          0.3036632537841797,
          0.2955830991268158,
          0.47502702474594116,
          0.4425939619541168,
          0.4221864938735962,
          0.4095574915409088,
          0.46448349952697754,
          0.3815339505672455,
          0.4594055116176605,
          0.35041362047195435,
          0.29970458149909973,
          0.6046268343925476,
          0.4533838629722595,
          0.3631709814071655,
          0.43663954734802246
         ],
         "yaxis": "y"
        },
        {
         "hovertemplate": "<b>OLS trendline</b><br>predicted = 0.116755 * true + 0.381967<br>R<sup>2</sup>=0.021561<br><br>tag=ff<br>true=%{x}<br>predicted=%{y} <b>(trend)</b><extra></extra>",
         "legendgroup": "ff",
         "marker": {
          "color": "#EF553B",
          "symbol": "circle"
         },
         "mode": "lines",
         "name": "ff",
         "showlegend": false,
         "type": "scatter",
         "x": [
          0.027027027681469917,
          0.054054055362939835,
          0.0810810774564743,
          0.13513512909412384,
          0.1621621549129486,
          0.18918919563293457,
          0.18918919563293457,
          0.18918919563293457,
          0.21621622145175934,
          0.21621622145175934,
          0.21621622145175934,
          0.21621622145175934,
          0.2432432472705841,
          0.2432432472705841,
          0.2432432472705841,
          0.2702702581882477,
          0.2702702581882477,
          0.2702702581882477,
          0.2702702581882477,
          0.2702702581882477,
          0.2702702581882477,
          0.2702702581882477,
          0.29729729890823364,
          0.29729729890823364,
          0.29729729890823364,
          0.29729729890823364,
          0.29729729890823364,
          0.3243243098258972,
          0.3243243098258972,
          0.3243243098258972,
          0.3243243098258972,
          0.3243243098258972,
          0.3243243098258972,
          0.3243243098258972,
          0.3243243098258972,
          0.3243243098258972,
          0.3513513505458832,
          0.3513513505458832,
          0.3513513505458832,
          0.3513513505458832,
          0.3513513505458832,
          0.3513513505458832,
          0.3513513505458832,
          0.3513513505458832,
          0.37837839126586914,
          0.37837839126586914,
          0.4054054021835327,
          0.4054054021835327,
          0.4054054021835327,
          0.4054054021835327,
          0.4054054021835327,
          0.4054054021835327,
          0.4054054021835327,
          0.4324324429035187,
          0.4324324429035187,
          0.4324324429035187,
          0.4324324429035187,
          0.4324324429035187,
          0.45945945382118225,
          0.45945945382118225,
          0.45945945382118225,
          0.4864864945411682,
          0.4864864945411682,
          0.4864864945411682,
          0.5135135054588318,
          0.5135135054588318,
          0.5405405163764954,
          0.5405405163764954,
          0.5405405163764954,
          0.5405405163764954,
          0.5945945978164673,
          0.6216216087341309,
          0.6756756901741028,
          0.6756756901741028,
          0.7567567825317383,
          0.7837837934494019
         ],
         "xaxis": "x",
         "y": [
          0.3851225348915138,
          0.3882780829219097,
          0.39143363029988465,
          0.39774472592572907,
          0.4009002737386513,
          0.4040558232913627,
          0.4040558232913627,
          0.4040558232913627,
          0.4072113711042849,
          0.4072113711042849,
          0.4072113711042849,
          0.4072113711042849,
          0.4103669189172071,
          0.4103669189172071,
          0.4103669189172071,
          0.4135224649903402,
          0.4135224649903402,
          0.4135224649903402,
          0.4135224649903402,
          0.4135224649903402,
          0.4135224649903402,
          0.4135224649903402,
          0.4166780145430516,
          0.4166780145430516,
          0.4166780145430516,
          0.4166780145430516,
          0.4166780145430516,
          0.41983356061618465,
          0.41983356061618465,
          0.41983356061618465,
          0.41983356061618465,
          0.41983356061618465,
          0.41983356061618465,
          0.41983356061618465,
          0.41983356061618465,
          0.41983356061618465,
          0.422989110168896,
          0.422989110168896,
          0.422989110168896,
          0.422989110168896,
          0.422989110168896,
          0.422989110168896,
          0.422989110168896,
          0.422989110168896,
          0.4261446597216074,
          0.4261446597216074,
          0.4293002057947405,
          0.4293002057947405,
          0.4293002057947405,
          0.4293002057947405,
          0.4293002057947405,
          0.4293002057947405,
          0.4293002057947405,
          0.43245575534745184,
          0.43245575534745184,
          0.43245575534745184,
          0.43245575534745184,
          0.43245575534745184,
          0.4356113014205849,
          0.4356113014205849,
          0.4356113014205849,
          0.4387668509732963,
          0.4387668509732963,
          0.4387668509732963,
          0.4419223970464294,
          0.4419223970464294,
          0.4450779431195624,
          0.4450779431195624,
          0.4450779431195624,
          0.4450779431195624,
          0.4513890422249852,
          0.4545445882981183,
          0.460855687403541,
          0.460855687403541,
          0.4703223325820969,
          0.47347787865522994
         ],
         "yaxis": "y"
        },
        {
         "hovertemplate": "tag=tcn<br>true=%{x}<br>predicted=%{y}<extra></extra>",
         "legendgroup": "tcn",
         "marker": {
          "color": "#00cc96",
          "symbol": "circle"
         },
         "mode": "markers",
         "name": "tcn",
         "showlegend": true,
         "type": "scatter",
         "x": [
          0.21621622145175934,
          0.3513513505458832,
          0.054054055362939835,
          0.3243243098258972,
          0.29729729890823364,
          0.4864864945411682,
          0.3243243098258972,
          0.21621622145175934,
          0.7837837934494019,
          0.3243243098258972,
          0.2702702581882477,
          0.29729729890823364,
          0.29729729890823364,
          0.3243243098258972,
          0.2702702581882477,
          0.4864864945411682,
          0.2702702581882477,
          0.5135135054588318,
          0.4324324429035187,
          0.4054054021835327,
          0.3513513505458832,
          0.45945945382118225,
          0.4054054021835327,
          0.5135135054588318,
          0.5405405163764954,
          0.45945945382118225,
          0.4054054021835327,
          0.1621621549129486,
          0.2702702581882477,
          0.6216216087341309,
          0.6756756901741028,
          0.3243243098258972,
          0.2702702581882477,
          0.3513513505458832,
          0.4324324429035187,
          0.29729729890823364,
          0.18918919563293457,
          0.37837839126586914,
          0.5405405163764954,
          0.3513513505458832,
          0.18918919563293457,
          0.4054054021835327,
          0.2432432472705841,
          0.3513513505458832,
          0.6756756901741028,
          0.2432432472705841,
          0.45945945382118225,
          0.4324324429035187,
          0.13513512909412384,
          0.2702702581882477,
          0.0810810774564743,
          0.4864864945411682,
          0.3513513505458832,
          0.4324324429035187,
          0.3243243098258972,
          0.3243243098258972,
          0.2432432472705841,
          0.2702702581882477,
          0.21621622145175934,
          0.4054054021835327,
          0.29729729890823364,
          0.5945945978164673,
          0.4054054021835327,
          0.3513513505458832,
          0.3243243098258972,
          0.3243243098258972,
          0.37837839126586914,
          0.3513513505458832,
          0.027027027681469917,
          0.18918919563293457,
          0.21621622145175934,
          0.4054054021835327,
          0.5405405163764954,
          0.5405405163764954,
          0.7567567825317383,
          0.4324324429035187
         ],
         "xaxis": "x",
         "y": [
          0.33000925183296204,
          0.31093576550483704,
          0.41708892583847046,
          0.4184495806694031,
          0.333754301071167,
          0.27156931161880493,
          0.4166892468929291,
          0.2565092444419861,
          0.33510467410087585,
          0.7585564255714417,
          0.42613810300827026,
          0.4531150460243225,
          0.41693565249443054,
          0.06614498794078827,
          0.2685410976409912,
          0.6166586875915527,
          0.526035487651825,
          0.4428868293762207,
          0.9658292531967163,
          0.3853897154331207,
          0.5249322652816772,
          0.34178370237350464,
          0.34513285756111145,
          0.5173491835594177,
          0.6409608125686646,
          0.5010092258453369,
          0.4202995300292969,
          0.2907075583934784,
          0.441080242395401,
          0.49979308247566223,
          0.4039681553840637,
          0.29597213864326477,
          0.39645156264305115,
          0.42960861325263977,
          0.3894807696342468,
          0.2574644982814789,
          0.2171964943408966,
          0.23991531133651733,
          0.34960612654685974,
          0.30321210622787476,
          0.4263862073421478,
          0.2363845854997635,
          0.674494743347168,
          0.2633284032344818,
          0.6256726980209351,
          0.09407193958759308,
          0.5234882831573486,
          0.24206160008907318,
          0.015905078500509262,
          0.3604946732521057,
          0.5605001449584961,
          0.20445257425308228,
          0.5045359134674072,
          0.3673728406429291,
          0.43293243646621704,
          0.2904297709465027,
          0.13203786313533783,
          0.6120547652244568,
          0.47868460416793823,
          0.3964557647705078,
          0.21348077058792114,
          0.3142695724964142,
          0.2686004638671875,
          0.34266170859336853,
          0.6427571773529053,
          0.4850732982158661,
          0.38979417085647583,
          0.37928056716918945,
          0.3802073001861572,
          0.26610875129699707,
          0.3631422817707062,
          0.24442777037620544,
          0.5394352674484253,
          0.3997719883918762,
          0.6494698524475098,
          0.42989382147789
         ],
         "yaxis": "y"
        },
        {
         "hovertemplate": "<b>OLS trendline</b><br>predicted = 0.251125 * true + 0.303104<br>R<sup>2</sup>=0.055224<br><br>tag=tcn<br>true=%{x}<br>predicted=%{y} <b>(trend)</b><extra></extra>",
         "legendgroup": "tcn",
         "marker": {
          "color": "#00cc96",
          "symbol": "circle"
         },
         "mode": "lines",
         "name": "tcn",
         "showlegend": false,
         "type": "scatter",
         "x": [
          0.027027027681469917,
          0.054054055362939835,
          0.0810810774564743,
          0.13513512909412384,
          0.1621621549129486,
          0.18918919563293457,
          0.18918919563293457,
          0.18918919563293457,
          0.21621622145175934,
          0.21621622145175934,
          0.21621622145175934,
          0.21621622145175934,
          0.2432432472705841,
          0.2432432472705841,
          0.2432432472705841,
          0.2702702581882477,
          0.2702702581882477,
          0.2702702581882477,
          0.2702702581882477,
          0.2702702581882477,
          0.2702702581882477,
          0.2702702581882477,
          0.29729729890823364,
          0.29729729890823364,
          0.29729729890823364,
          0.29729729890823364,
          0.29729729890823364,
          0.3243243098258972,
          0.3243243098258972,
          0.3243243098258972,
          0.3243243098258972,
          0.3243243098258972,
          0.3243243098258972,
          0.3243243098258972,
          0.3243243098258972,
          0.3243243098258972,
          0.3513513505458832,
          0.3513513505458832,
          0.3513513505458832,
          0.3513513505458832,
          0.3513513505458832,
          0.3513513505458832,
          0.3513513505458832,
          0.3513513505458832,
          0.37837839126586914,
          0.37837839126586914,
          0.4054054021835327,
          0.4054054021835327,
          0.4054054021835327,
          0.4054054021835327,
          0.4054054021835327,
          0.4054054021835327,
          0.4054054021835327,
          0.4324324429035187,
          0.4324324429035187,
          0.4324324429035187,
          0.4324324429035187,
          0.4324324429035187,
          0.45945945382118225,
          0.45945945382118225,
          0.45945945382118225,
          0.4864864945411682,
          0.4864864945411682,
          0.4864864945411682,
          0.5135135054588318,
          0.5135135054588318,
          0.5405405163764954,
          0.5405405163764954,
          0.5405405163764954,
          0.5405405163764954,
          0.5945945978164673,
          0.6216216087341309,
          0.6756756901741028,
          0.6756756901741028,
          0.7567567825317383,
          0.7837837934494019
         ],
         "xaxis": "x",
         "y": [
          0.30989112950056147,
          0.31667829635699957,
          0.3234654618101664,
          0.33703979458752836,
          0.34382696097620935,
          0.35061413110694695,
          0.35061413110694695,
          0.35061413110694695,
          0.35740129749562793,
          0.35740129749562793,
          0.35740129749562793,
          0.35740129749562793,
          0.3641884638843089,
          0.3641884638843089,
          0.3641884638843089,
          0.3709756265309333,
          0.3709756265309333,
          0.3709756265309333,
          0.3709756265309333,
          0.3709756265309333,
          0.3709756265309333,
          0.3709756265309333,
          0.3777627966616709,
          0.3777627966616709,
          0.3777627966616709,
          0.3777627966616709,
          0.3777627966616709,
          0.3845499593082953,
          0.3845499593082953,
          0.3845499593082953,
          0.3845499593082953,
          0.3845499593082953,
          0.3845499593082953,
          0.3845499593082953,
          0.3845499593082953,
          0.3845499593082953,
          0.39133712943903287,
          0.39133712943903287,
          0.39133712943903287,
          0.39133712943903287,
          0.39133712943903287,
          0.39133712943903287,
          0.39133712943903287,
          0.39133712943903287,
          0.39812429956977047,
          0.39812429956977047,
          0.40491146221639485,
          0.40491146221639485,
          0.40491146221639485,
          0.40491146221639485,
          0.40491146221639485,
          0.40491146221639485,
          0.40491146221639485,
          0.41169863234713244,
          0.41169863234713244,
          0.41169863234713244,
          0.41169863234713244,
          0.41169863234713244,
          0.4184857949937568,
          0.4184857949937568,
          0.4184857949937568,
          0.4252729651244944,
          0.4252729651244944,
          0.4252729651244944,
          0.4320601277711188,
          0.4320601277711188,
          0.4388472904177432,
          0.4388472904177432,
          0.4388472904177432,
          0.4388472904177432,
          0.45242163067921837,
          0.45920879332584275,
          0.4727831335873179,
          0.4727831335873179,
          0.49314463649541745,
          0.49993179914204183
         ],
         "yaxis": "y"
        },
        {
         "hovertemplate": "tag=cpm<br>true=%{x}<br>predicted=%{y}<extra></extra>",
         "legendgroup": "cpm",
         "marker": {
          "color": "#ab63fa",
          "symbol": "circle"
         },
         "mode": "markers",
         "name": "cpm",
         "showlegend": true,
         "type": "scatter",
         "x": [
          0.21621621621621623,
          0.35135135135135137,
          0.05405405405405406,
          0.32432432432432434,
          0.2972972972972973,
          0.4864864864864865,
          0.32432432432432434,
          0.21621621621621623,
          0.7837837837837838,
          0.32432432432432434,
          0.2702702702702703,
          0.2972972972972973,
          0.2972972972972973,
          0.32432432432432434,
          0.2702702702702703,
          0.4864864864864865,
          0.2702702702702703,
          0.5135135135135135,
          0.43243243243243246,
          0.40540540540540543,
          0.35135135135135137,
          0.4594594594594595,
          0.40540540540540543,
          0.5135135135135135,
          0.5405405405405406,
          0.4594594594594595,
          0.40540540540540543,
          0.16216216216216217,
          0.2702702702702703,
          0.6216216216216216,
          0.6756756756756757,
          0.32432432432432434,
          0.2702702702702703,
          0.35135135135135137,
          0.43243243243243246,
          0.2972972972972973,
          0.1891891891891892,
          0.3783783783783784,
          0.5405405405405406,
          0.35135135135135137,
          0.1891891891891892,
          0.40540540540540543,
          0.24324324324324326,
          0.35135135135135137,
          0.6756756756756757,
          0.24324324324324326,
          0.4594594594594595,
          0.43243243243243246,
          0.13513513513513514,
          0.2702702702702703,
          0.08108108108108109,
          0.4864864864864865,
          0.35135135135135137,
          0.43243243243243246,
          0.32432432432432434,
          0.32432432432432434,
          0.24324324324324326,
          0.2702702702702703,
          0.21621621621621623,
          0.40540540540540543,
          0.2972972972972973,
          0.5945945945945946,
          0.40540540540540543,
          0.35135135135135137,
          0.32432432432432434,
          0.32432432432432434,
          0.3783783783783784,
          0.35135135135135137,
          0.02702702702702703,
          0.1891891891891892,
          0.21621621621621623,
          0.40540540540540543,
          0.5405405405405406,
          0.5405405405405406,
          0.7567567567567568,
          0.43243243243243246
         ],
         "xaxis": "x",
         "y": [
          0.40185391465229275,
          0.4001165272175551,
          0.4023886366854831,
          0.40275436903538026,
          0.407225291937115,
          0.403232534916649,
          0.4100049844135963,
          0.40135616952445285,
          0.4017404764142774,
          0.4019821486143561,
          0.4055031199597216,
          0.4034496398110731,
          0.4018969164395523,
          0.40246640383865834,
          0.4067729803473,
          0.39974129443682527,
          0.400380901437626,
          0.4065438821639696,
          0.40174021828673134,
          0.4053346932191938,
          0.39954282156931553,
          0.40378566531673865,
          0.4023229374819903,
          0.4078921169268465,
          0.4026460425521721,
          0.40670855261514394,
          0.4013161843139931,
          0.399427188619595,
          0.4060265670536011,
          0.4071948619383503,
          0.40325146681114343,
          0.4039188757310599,
          0.4060440493581089,
          0.4044172178822033,
          0.4017336869419697,
          0.40312227912407295,
          0.4010012599338249,
          0.4031307870691238,
          0.39741167655789744,
          0.4013241155308809,
          0.4041880758101323,
          0.40438661000666243,
          0.4083546634523782,
          0.403824416201852,
          0.40098349159398855,
          0.401265980203746,
          0.3968846982792392,
          0.4047898394480647,
          0.40037583497561036,
          0.4048444230695293,
          0.40392984337891935,
          0.4049310904015561,
          0.4018651596312521,
          0.403221714511803,
          0.40232025281723466,
          0.3980870521538247,
          0.40148189055330685,
          0.40574374372306865,
          0.40521269860201287,
          0.4094046251911122,
          0.40504642352998793,
          0.4064794400418734,
          0.4028431327319161,
          0.4013805758627883,
          0.4027253878365119,
          0.4062315296435526,
          0.40206392927587653,
          0.40677067330268696,
          0.40322633749884157,
          0.4014639775743754,
          0.4014425930574741,
          0.405663229532454,
          0.4053475766056014,
          0.4020936477225225,
          0.4037069091851889,
          0.39784351621471203
         ],
         "yaxis": "y"
        },
        {
         "hovertemplate": "<b>OLS trendline</b><br>predicted = 0.000699405 * true + 0.403024<br>R<sup>2</sup>=0.001453<br><br>tag=cpm<br>true=%{x}<br>predicted=%{y} <b>(trend)</b><extra></extra>",
         "legendgroup": "cpm",
         "marker": {
          "color": "#ab63fa",
          "symbol": "circle"
         },
         "mode": "lines",
         "name": "cpm",
         "showlegend": false,
         "type": "scatter",
         "x": [
          0.02702702702702703,
          0.05405405405405406,
          0.08108108108108109,
          0.13513513513513514,
          0.16216216216216217,
          0.1891891891891892,
          0.1891891891891892,
          0.1891891891891892,
          0.21621621621621623,
          0.21621621621621623,
          0.21621621621621623,
          0.21621621621621623,
          0.24324324324324326,
          0.24324324324324326,
          0.24324324324324326,
          0.2702702702702703,
          0.2702702702702703,
          0.2702702702702703,
          0.2702702702702703,
          0.2702702702702703,
          0.2702702702702703,
          0.2702702702702703,
          0.2972972972972973,
          0.2972972972972973,
          0.2972972972972973,
          0.2972972972972973,
          0.2972972972972973,
          0.32432432432432434,
          0.32432432432432434,
          0.32432432432432434,
          0.32432432432432434,
          0.32432432432432434,
          0.32432432432432434,
          0.32432432432432434,
          0.32432432432432434,
          0.32432432432432434,
          0.35135135135135137,
          0.35135135135135137,
          0.35135135135135137,
          0.35135135135135137,
          0.35135135135135137,
          0.35135135135135137,
          0.35135135135135137,
          0.35135135135135137,
          0.3783783783783784,
          0.3783783783783784,
          0.40540540540540543,
          0.40540540540540543,
          0.40540540540540543,
          0.40540540540540543,
          0.40540540540540543,
          0.40540540540540543,
          0.40540540540540543,
          0.43243243243243246,
          0.43243243243243246,
          0.43243243243243246,
          0.43243243243243246,
          0.43243243243243246,
          0.4594594594594595,
          0.4594594594594595,
          0.4594594594594595,
          0.4864864864864865,
          0.4864864864864865,
          0.4864864864864865,
          0.5135135135135135,
          0.5135135135135135,
          0.5405405405405406,
          0.5405405405405406,
          0.5405405405405406,
          0.5405405405405406,
          0.5945945945945946,
          0.6216216216216216,
          0.6756756756756757,
          0.6756756756756757,
          0.7567567567567568,
          0.7837837837837838
         ],
         "xaxis": "x",
         "y": [
          0.4030427152655226,
          0.4030616180986323,
          0.40308052093174196,
          0.4031183265979613,
          0.403137229431071,
          0.4031561322641807,
          0.4031561322641807,
          0.4031561322641807,
          0.40317503509729036,
          0.40317503509729036,
          0.40317503509729036,
          0.40317503509729036,
          0.40319393793040004,
          0.40319393793040004,
          0.40319393793040004,
          0.4032128407635097,
          0.4032128407635097,
          0.4032128407635097,
          0.4032128407635097,
          0.4032128407635097,
          0.4032128407635097,
          0.4032128407635097,
          0.40323174359661934,
          0.40323174359661934,
          0.40323174359661934,
          0.40323174359661934,
          0.40323174359661934,
          0.403250646429729,
          0.403250646429729,
          0.403250646429729,
          0.403250646429729,
          0.403250646429729,
          0.403250646429729,
          0.403250646429729,
          0.403250646429729,
          0.403250646429729,
          0.4032695492628387,
          0.4032695492628387,
          0.4032695492628387,
          0.4032695492628387,
          0.4032695492628387,
          0.4032695492628387,
          0.4032695492628387,
          0.4032695492628387,
          0.4032884520959484,
          0.4032884520959484,
          0.40330735492905806,
          0.40330735492905806,
          0.40330735492905806,
          0.40330735492905806,
          0.40330735492905806,
          0.40330735492905806,
          0.40330735492905806,
          0.40332625776216774,
          0.40332625776216774,
          0.40332625776216774,
          0.40332625776216774,
          0.40332625776216774,
          0.4033451605952774,
          0.4033451605952774,
          0.4033451605952774,
          0.4033640634283871,
          0.4033640634283871,
          0.4033640634283871,
          0.4033829662614968,
          0.4033829662614968,
          0.40340186909460646,
          0.40340186909460646,
          0.40340186909460646,
          0.40340186909460646,
          0.4034396747608258,
          0.4034585775939355,
          0.40349638326015486,
          0.40349638326015486,
          0.4035530917594839,
          0.4035719945925936
         ],
         "yaxis": "y"
        }
       ],
       "layout": {
        "font": {
         "color": "black"
        },
        "height": 400,
        "legend": {
         "font": {
          "size": 20
         },
         "title": {
          "text": "tag"
         },
         "tracegroupgap": 0
        },
        "margin": {
         "t": 60
        },
        "template": {
         "data": {
          "bar": [
           {
            "error_x": {
             "color": "#2a3f5f"
            },
            "error_y": {
             "color": "#2a3f5f"
            },
            "marker": {
             "line": {
              "color": "white",
              "width": 0.5
             }
            },
            "type": "bar"
           }
          ],
          "barpolar": [
           {
            "marker": {
             "line": {
              "color": "white",
              "width": 0.5
             }
            },
            "type": "barpolar"
           }
          ],
          "carpet": [
           {
            "aaxis": {
             "endlinecolor": "#2a3f5f",
             "gridcolor": "#C8D4E3",
             "linecolor": "#C8D4E3",
             "minorgridcolor": "#C8D4E3",
             "startlinecolor": "#2a3f5f"
            },
            "baxis": {
             "endlinecolor": "#2a3f5f",
             "gridcolor": "#C8D4E3",
             "linecolor": "#C8D4E3",
             "minorgridcolor": "#C8D4E3",
             "startlinecolor": "#2a3f5f"
            },
            "type": "carpet"
           }
          ],
          "choropleth": [
           {
            "colorbar": {
             "outlinewidth": 0,
             "ticks": ""
            },
            "type": "choropleth"
           }
          ],
          "contour": [
           {
            "colorbar": {
             "outlinewidth": 0,
             "ticks": ""
            },
            "colorscale": [
             [
              0,
              "#0d0887"
             ],
             [
              0.1111111111111111,
              "#46039f"
             ],
             [
              0.2222222222222222,
              "#7201a8"
             ],
             [
              0.3333333333333333,
              "#9c179e"
             ],
             [
              0.4444444444444444,
              "#bd3786"
             ],
             [
              0.5555555555555556,
              "#d8576b"
             ],
             [
              0.6666666666666666,
              "#ed7953"
             ],
             [
              0.7777777777777778,
              "#fb9f3a"
             ],
             [
              0.8888888888888888,
              "#fdca26"
             ],
             [
              1,
              "#f0f921"
             ]
            ],
            "type": "contour"
           }
          ],
          "contourcarpet": [
           {
            "colorbar": {
             "outlinewidth": 0,
             "ticks": ""
            },
            "type": "contourcarpet"
           }
          ],
          "heatmap": [
           {
            "colorbar": {
             "outlinewidth": 0,
             "ticks": ""
            },
            "colorscale": [
             [
              0,
              "#0d0887"
             ],
             [
              0.1111111111111111,
              "#46039f"
             ],
             [
              0.2222222222222222,
              "#7201a8"
             ],
             [
              0.3333333333333333,
              "#9c179e"
             ],
             [
              0.4444444444444444,
              "#bd3786"
             ],
             [
              0.5555555555555556,
              "#d8576b"
             ],
             [
              0.6666666666666666,
              "#ed7953"
             ],
             [
              0.7777777777777778,
              "#fb9f3a"
             ],
             [
              0.8888888888888888,
              "#fdca26"
             ],
             [
              1,
              "#f0f921"
             ]
            ],
            "type": "heatmap"
           }
          ],
          "heatmapgl": [
           {
            "colorbar": {
             "outlinewidth": 0,
             "ticks": ""
            },
            "colorscale": [
             [
              0,
              "#0d0887"
             ],
             [
              0.1111111111111111,
              "#46039f"
             ],
             [
              0.2222222222222222,
              "#7201a8"
             ],
             [
              0.3333333333333333,
              "#9c179e"
             ],
             [
              0.4444444444444444,
              "#bd3786"
             ],
             [
              0.5555555555555556,
              "#d8576b"
             ],
             [
              0.6666666666666666,
              "#ed7953"
             ],
             [
              0.7777777777777778,
              "#fb9f3a"
             ],
             [
              0.8888888888888888,
              "#fdca26"
             ],
             [
              1,
              "#f0f921"
             ]
            ],
            "type": "heatmapgl"
           }
          ],
          "histogram": [
           {
            "marker": {
             "colorbar": {
              "outlinewidth": 0,
              "ticks": ""
             }
            },
            "type": "histogram"
           }
          ],
          "histogram2d": [
           {
            "colorbar": {
             "outlinewidth": 0,
             "ticks": ""
            },
            "colorscale": [
             [
              0,
              "#0d0887"
             ],
             [
              0.1111111111111111,
              "#46039f"
             ],
             [
              0.2222222222222222,
              "#7201a8"
             ],
             [
              0.3333333333333333,
              "#9c179e"
             ],
             [
              0.4444444444444444,
              "#bd3786"
             ],
             [
              0.5555555555555556,
              "#d8576b"
             ],
             [
              0.6666666666666666,
              "#ed7953"
             ],
             [
              0.7777777777777778,
              "#fb9f3a"
             ],
             [
              0.8888888888888888,
              "#fdca26"
             ],
             [
              1,
              "#f0f921"
             ]
            ],
            "type": "histogram2d"
           }
          ],
          "histogram2dcontour": [
           {
            "colorbar": {
             "outlinewidth": 0,
             "ticks": ""
            },
            "colorscale": [
             [
              0,
              "#0d0887"
             ],
             [
              0.1111111111111111,
              "#46039f"
             ],
             [
              0.2222222222222222,
              "#7201a8"
             ],
             [
              0.3333333333333333,
              "#9c179e"
             ],
             [
              0.4444444444444444,
              "#bd3786"
             ],
             [
              0.5555555555555556,
              "#d8576b"
             ],
             [
              0.6666666666666666,
              "#ed7953"
             ],
             [
              0.7777777777777778,
              "#fb9f3a"
             ],
             [
              0.8888888888888888,
              "#fdca26"
             ],
             [
              1,
              "#f0f921"
             ]
            ],
            "type": "histogram2dcontour"
           }
          ],
          "mesh3d": [
           {
            "colorbar": {
             "outlinewidth": 0,
             "ticks": ""
            },
            "type": "mesh3d"
           }
          ],
          "parcoords": [
           {
            "line": {
             "colorbar": {
              "outlinewidth": 0,
              "ticks": ""
             }
            },
            "type": "parcoords"
           }
          ],
          "pie": [
           {
            "automargin": true,
            "type": "pie"
           }
          ],
          "scatter": [
           {
            "marker": {
             "colorbar": {
              "outlinewidth": 0,
              "ticks": ""
             }
            },
            "type": "scatter"
           }
          ],
          "scatter3d": [
           {
            "line": {
             "colorbar": {
              "outlinewidth": 0,
              "ticks": ""
             }
            },
            "marker": {
             "colorbar": {
              "outlinewidth": 0,
              "ticks": ""
             }
            },
            "type": "scatter3d"
           }
          ],
          "scattercarpet": [
           {
            "marker": {
             "colorbar": {
              "outlinewidth": 0,
              "ticks": ""
             }
            },
            "type": "scattercarpet"
           }
          ],
          "scattergeo": [
           {
            "marker": {
             "colorbar": {
              "outlinewidth": 0,
              "ticks": ""
             }
            },
            "type": "scattergeo"
           }
          ],
          "scattergl": [
           {
            "marker": {
             "colorbar": {
              "outlinewidth": 0,
              "ticks": ""
             }
            },
            "type": "scattergl"
           }
          ],
          "scattermapbox": [
           {
            "marker": {
             "colorbar": {
              "outlinewidth": 0,
              "ticks": ""
             }
            },
            "type": "scattermapbox"
           }
          ],
          "scatterpolar": [
           {
            "marker": {
             "colorbar": {
              "outlinewidth": 0,
              "ticks": ""
             }
            },
            "type": "scatterpolar"
           }
          ],
          "scatterpolargl": [
           {
            "marker": {
             "colorbar": {
              "outlinewidth": 0,
              "ticks": ""
             }
            },
            "type": "scatterpolargl"
           }
          ],
          "scatterternary": [
           {
            "marker": {
             "colorbar": {
              "outlinewidth": 0,
              "ticks": ""
             }
            },
            "type": "scatterternary"
           }
          ],
          "surface": [
           {
            "colorbar": {
             "outlinewidth": 0,
             "ticks": ""
            },
            "colorscale": [
             [
              0,
              "#0d0887"
             ],
             [
              0.1111111111111111,
              "#46039f"
             ],
             [
              0.2222222222222222,
              "#7201a8"
             ],
             [
              0.3333333333333333,
              "#9c179e"
             ],
             [
              0.4444444444444444,
              "#bd3786"
             ],
             [
              0.5555555555555556,
              "#d8576b"
             ],
             [
              0.6666666666666666,
              "#ed7953"
             ],
             [
              0.7777777777777778,
              "#fb9f3a"
             ],
             [
              0.8888888888888888,
              "#fdca26"
             ],
             [
              1,
              "#f0f921"
             ]
            ],
            "type": "surface"
           }
          ],
          "table": [
           {
            "cells": {
             "fill": {
              "color": "#EBF0F8"
             },
             "line": {
              "color": "white"
             }
            },
            "header": {
             "fill": {
              "color": "#C8D4E3"
             },
             "line": {
              "color": "white"
             }
            },
            "type": "table"
           }
          ]
         },
         "layout": {
          "annotationdefaults": {
           "arrowcolor": "#2a3f5f",
           "arrowhead": 0,
           "arrowwidth": 1
          },
          "coloraxis": {
           "colorbar": {
            "outlinewidth": 0,
            "ticks": ""
           }
          },
          "colorscale": {
           "diverging": [
            [
             0,
             "#8e0152"
            ],
            [
             0.1,
             "#c51b7d"
            ],
            [
             0.2,
             "#de77ae"
            ],
            [
             0.3,
             "#f1b6da"
            ],
            [
             0.4,
             "#fde0ef"
            ],
            [
             0.5,
             "#f7f7f7"
            ],
            [
             0.6,
             "#e6f5d0"
            ],
            [
             0.7,
             "#b8e186"
            ],
            [
             0.8,
             "#7fbc41"
            ],
            [
             0.9,
             "#4d9221"
            ],
            [
             1,
             "#276419"
            ]
           ],
           "sequential": [
            [
             0,
             "#0d0887"
            ],
            [
             0.1111111111111111,
             "#46039f"
            ],
            [
             0.2222222222222222,
             "#7201a8"
            ],
            [
             0.3333333333333333,
             "#9c179e"
            ],
            [
             0.4444444444444444,
             "#bd3786"
            ],
            [
             0.5555555555555556,
             "#d8576b"
            ],
            [
             0.6666666666666666,
             "#ed7953"
            ],
            [
             0.7777777777777778,
             "#fb9f3a"
            ],
            [
             0.8888888888888888,
             "#fdca26"
            ],
            [
             1,
             "#f0f921"
            ]
           ],
           "sequentialminus": [
            [
             0,
             "#0d0887"
            ],
            [
             0.1111111111111111,
             "#46039f"
            ],
            [
             0.2222222222222222,
             "#7201a8"
            ],
            [
             0.3333333333333333,
             "#9c179e"
            ],
            [
             0.4444444444444444,
             "#bd3786"
            ],
            [
             0.5555555555555556,
             "#d8576b"
            ],
            [
             0.6666666666666666,
             "#ed7953"
            ],
            [
             0.7777777777777778,
             "#fb9f3a"
            ],
            [
             0.8888888888888888,
             "#fdca26"
            ],
            [
             1,
             "#f0f921"
            ]
           ]
          },
          "colorway": [
           "#636efa",
           "#EF553B",
           "#00cc96",
           "#ab63fa",
           "#FFA15A",
           "#19d3f3",
           "#FF6692",
           "#B6E880",
           "#FF97FF",
           "#FECB52"
          ],
          "font": {
           "color": "#2a3f5f"
          },
          "geo": {
           "bgcolor": "white",
           "lakecolor": "white",
           "landcolor": "white",
           "showlakes": true,
           "showland": true,
           "subunitcolor": "#C8D4E3"
          },
          "hoverlabel": {
           "align": "left"
          },
          "hovermode": "closest",
          "mapbox": {
           "style": "light"
          },
          "paper_bgcolor": "white",
          "plot_bgcolor": "white",
          "polar": {
           "angularaxis": {
            "gridcolor": "#EBF0F8",
            "linecolor": "#EBF0F8",
            "ticks": ""
           },
           "bgcolor": "white",
           "radialaxis": {
            "gridcolor": "#EBF0F8",
            "linecolor": "#EBF0F8",
            "ticks": ""
           }
          },
          "scene": {
           "xaxis": {
            "backgroundcolor": "white",
            "gridcolor": "#DFE8F3",
            "gridwidth": 2,
            "linecolor": "#EBF0F8",
            "showbackground": true,
            "ticks": "",
            "zerolinecolor": "#EBF0F8"
           },
           "yaxis": {
            "backgroundcolor": "white",
            "gridcolor": "#DFE8F3",
            "gridwidth": 2,
            "linecolor": "#EBF0F8",
            "showbackground": true,
            "ticks": "",
            "zerolinecolor": "#EBF0F8"
           },
           "zaxis": {
            "backgroundcolor": "white",
            "gridcolor": "#DFE8F3",
            "gridwidth": 2,
            "linecolor": "#EBF0F8",
            "showbackground": true,
            "ticks": "",
            "zerolinecolor": "#EBF0F8"
           }
          },
          "shapedefaults": {
           "line": {
            "color": "#2a3f5f"
           }
          },
          "ternary": {
           "aaxis": {
            "gridcolor": "#DFE8F3",
            "linecolor": "#A2B1C6",
            "ticks": ""
           },
           "baxis": {
            "gridcolor": "#DFE8F3",
            "linecolor": "#A2B1C6",
            "ticks": ""
           },
           "bgcolor": "white",
           "caxis": {
            "gridcolor": "#DFE8F3",
            "linecolor": "#A2B1C6",
            "ticks": ""
           }
          },
          "title": {
           "x": 0.05
          },
          "xaxis": {
           "automargin": true,
           "gridcolor": "#EBF0F8",
           "linecolor": "#EBF0F8",
           "ticks": "",
           "title": {
            "standoff": 15
           },
           "zerolinecolor": "#EBF0F8",
           "zerolinewidth": 2
          },
          "yaxis": {
           "automargin": true,
           "gridcolor": "#EBF0F8",
           "linecolor": "#EBF0F8",
           "ticks": "",
           "title": {
            "standoff": 15
           },
           "zerolinecolor": "#EBF0F8",
           "zerolinewidth": 2
          }
         }
        },
        "title": {
         "text": "NEOFAC_N"
        },
        "width": 480,
        "xaxis": {
         "anchor": "y",
         "domain": [
          0,
          1
         ],
         "dtick": 0.2,
         "tickfont": {
          "size": 20
         },
         "title": {
          "font": {
           "size": 20
          },
          "text": "True"
         }
        },
        "yaxis": {
         "anchor": "x",
         "domain": [
          0,
          1
         ],
         "dtick": 0.2,
         "tickfont": {
          "size": 20
         },
         "title": {
          "font": {
           "size": 20
          },
          "text": "Predicted"
         }
        }
       }
      },
      "text/html": [
       "<div>\n",
       "        \n",
       "        \n",
       "            <div id=\"b2bd968d-14c7-41e4-834e-6034a0dd3de1\" class=\"plotly-graph-div\" style=\"height:400px; width:480px;\"></div>\n",
       "            <script type=\"text/javascript\">\n",
       "                require([\"plotly\"], function(Plotly) {\n",
       "                    window.PLOTLYENV=window.PLOTLYENV || {};\n",
       "                    \n",
       "                if (document.getElementById(\"b2bd968d-14c7-41e4-834e-6034a0dd3de1\")) {\n",
       "                    Plotly.newPlot(\n",
       "                        'b2bd968d-14c7-41e4-834e-6034a0dd3de1',\n",
       "                        [{\"hovertemplate\": \"tag=gru<br>true=%{x}<br>predicted=%{y}<extra></extra>\", \"legendgroup\": \"gru\", \"marker\": {\"color\": \"#636efa\", \"symbol\": \"circle\"}, \"mode\": \"markers\", \"name\": \"gru\", \"showlegend\": true, \"type\": \"scatter\", \"x\": [0.21621622145175934, 0.3513513505458832, 0.054054055362939835, 0.3243243098258972, 0.29729729890823364, 0.4864864945411682, 0.3243243098258972, 0.21621622145175934, 0.7837837934494019, 0.3243243098258972, 0.2702702581882477, 0.29729729890823364, 0.29729729890823364, 0.3243243098258972, 0.2702702581882477, 0.4864864945411682, 0.2702702581882477, 0.5135135054588318, 0.4324324429035187, 0.4054054021835327, 0.3513513505458832, 0.45945945382118225, 0.4054054021835327, 0.5135135054588318, 0.5405405163764954, 0.45945945382118225, 0.4054054021835327, 0.1621621549129486, 0.2702702581882477, 0.6216216087341309, 0.6756756901741028, 0.3243243098258972, 0.2702702581882477, 0.3513513505458832, 0.4324324429035187, 0.29729729890823364, 0.18918919563293457, 0.37837839126586914, 0.5405405163764954, 0.3513513505458832, 0.18918919563293457, 0.4054054021835327, 0.2432432472705841, 0.3513513505458832, 0.6756756901741028, 0.2432432472705841, 0.45945945382118225, 0.4324324429035187, 0.13513512909412384, 0.2702702581882477, 0.0810810774564743, 0.4864864945411682, 0.3513513505458832, 0.4324324429035187, 0.3243243098258972, 0.3243243098258972, 0.2432432472705841, 0.2702702581882477, 0.21621622145175934, 0.4054054021835327, 0.29729729890823364, 0.5945945978164673, 0.4054054021835327, 0.3513513505458832, 0.3243243098258972, 0.3243243098258972, 0.37837839126586914, 0.3513513505458832, 0.027027027681469917, 0.18918919563293457, 0.21621622145175934, 0.4054054021835327, 0.5405405163764954, 0.5405405163764954, 0.7567567825317383, 0.4324324429035187], \"xaxis\": \"x\", \"y\": [0.3075951337814331, 0.5712229609489441, 0.4246011972427368, 0.32421666383743286, 0.5420325398445129, 0.48877888917922974, 0.5224671959877014, 0.3961787223815918, 0.3271799683570862, 0.5601072311401367, 0.40063828229904175, 0.365886390209198, 0.48397767543792725, 0.273151695728302, 0.4317782521247864, 0.40079736709594727, 0.4437946677207947, 0.37721723318099976, 0.42947477102279663, 0.44237035512924194, 0.3751184344291687, 0.44777828454971313, 0.2871113717556, 0.5129548907279968, 0.38080400228500366, 0.3749399185180664, 0.2743951082229614, 0.35540705919265747, 0.424271821975708, 0.22939026355743408, 0.5041800737380981, 0.491188645362854, 0.25620782375335693, 0.3634326457977295, 0.4650043249130249, 0.44422662258148193, 0.1901616007089615, 0.4456389546394348, 0.482538104057312, 0.3765096068382263, 0.6201237440109253, 0.5231190919876099, 0.3199288845062256, 0.4565024971961975, 0.5672594308853149, 0.41763895750045776, 0.5528516173362732, 0.29207170009613037, 0.45910996198654175, 0.4245365858078003, 0.38457584381103516, 0.47829627990722656, 0.3453177213668823, 0.4918369650840759, 0.4376252293586731, 0.36782366037368774, 0.4133514165878296, 0.56478351354599, 0.36599522829055786, 0.4916544556617737, 0.39601707458496094, 0.6021194458007812, 0.36242687702178955, 0.5309833884239197, 0.3545699715614319, 0.4214380979537964, 0.6224854588508606, 0.26048558950424194, 0.3755781650543213, 0.3295096158981323, 0.1999320536851883, 0.3118731379508972, 0.3180599808692932, 0.2769169211387634, 0.42670661211013794, 0.4505646228790283], \"yaxis\": \"y\"}, {\"hovertemplate\": \"<b>OLS trendline</b><br>predicted = 0.080692 * true + 0.383947<br>R<sup>2</sup>=0.014708<br><br>tag=gru<br>true=%{x}<br>predicted=%{y} <b>(trend)</b><extra></extra>\", \"legendgroup\": \"gru\", \"marker\": {\"color\": \"#636efa\", \"symbol\": \"circle\"}, \"mode\": \"lines\", \"name\": \"gru\", \"showlegend\": false, \"type\": \"scatter\", \"x\": [0.027027027681469917, 0.054054055362939835, 0.0810810774564743, 0.13513512909412384, 0.1621621549129486, 0.18918919563293457, 0.18918919563293457, 0.18918919563293457, 0.21621622145175934, 0.21621622145175934, 0.21621622145175934, 0.21621622145175934, 0.2432432472705841, 0.2432432472705841, 0.2432432472705841, 0.2702702581882477, 0.2702702581882477, 0.2702702581882477, 0.2702702581882477, 0.2702702581882477, 0.2702702581882477, 0.2702702581882477, 0.29729729890823364, 0.29729729890823364, 0.29729729890823364, 0.29729729890823364, 0.29729729890823364, 0.3243243098258972, 0.3243243098258972, 0.3243243098258972, 0.3243243098258972, 0.3243243098258972, 0.3243243098258972, 0.3243243098258972, 0.3243243098258972, 0.3243243098258972, 0.3513513505458832, 0.3513513505458832, 0.3513513505458832, 0.3513513505458832, 0.3513513505458832, 0.3513513505458832, 0.3513513505458832, 0.3513513505458832, 0.37837839126586914, 0.37837839126586914, 0.4054054021835327, 0.4054054021835327, 0.4054054021835327, 0.4054054021835327, 0.4054054021835327, 0.4054054021835327, 0.4054054021835327, 0.4324324429035187, 0.4324324429035187, 0.4324324429035187, 0.4324324429035187, 0.4324324429035187, 0.45945945382118225, 0.45945945382118225, 0.45945945382118225, 0.4864864945411682, 0.4864864945411682, 0.4864864945411682, 0.5135135054588318, 0.5135135054588318, 0.5405405163764954, 0.5405405163764954, 0.5405405163764954, 0.5405405163764954, 0.5945945978164673, 0.6216216087341309, 0.6756756901741028, 0.6756756901741028, 0.7567567825317383, 0.7837837934494019], \"xaxis\": \"x\", \"y\": [0.3861276263888753, 0.3883084900369455, 0.3904893532341142, 0.3948510802296536, 0.3970319437274233, 0.39921280842759677, 0.39921280842759677, 0.39921280842759677, 0.40139367192536646, 0.40139367192536646, 0.40139367192536646, 0.40139367192536646, 0.40357453542313615, 0.40357453542313615, 0.40357453542313615, 0.405755397718502, 0.405755397718502, 0.405755397718502, 0.405755397718502, 0.405755397718502, 0.405755397718502, 0.405755397718502, 0.4079362624186755, 0.4079362624186755, 0.4079362624186755, 0.4079362624186755, 0.4079362624186755, 0.4101171247140414, 0.4101171247140414, 0.4101171247140414, 0.4101171247140414, 0.4101171247140414, 0.4101171247140414, 0.4101171247140414, 0.4101171247140414, 0.4101171247140414, 0.41229798941421486, 0.41229798941421486, 0.41229798941421486, 0.41229798941421486, 0.41229798941421486, 0.41229798941421486, 0.41229798941421486, 0.41229798941421486, 0.41447885411438834, 0.41447885411438834, 0.41665971640975424, 0.41665971640975424, 0.41665971640975424, 0.41665971640975424, 0.41665971640975424, 0.41665971640975424, 0.41665971640975424, 0.4188405811099277, 0.4188405811099277, 0.4188405811099277, 0.4188405811099277, 0.4188405811099277, 0.42102144340529357, 0.42102144340529357, 0.42102144340529357, 0.42320230810546705, 0.42320230810546705, 0.42320230810546705, 0.42538317040083296, 0.42538317040083296, 0.4275640326961988, 0.4275640326961988, 0.4275640326961988, 0.4275640326961988, 0.4319257620965458, 0.43410662439191167, 0.4384683537922586, 0.4384683537922586, 0.4450109454879715, 0.4471918077833374], \"yaxis\": \"y\"}, {\"hovertemplate\": \"tag=ff<br>true=%{x}<br>predicted=%{y}<extra></extra>\", \"legendgroup\": \"ff\", \"marker\": {\"color\": \"#EF553B\", \"symbol\": \"circle\"}, \"mode\": \"markers\", \"name\": \"ff\", \"showlegend\": true, \"type\": \"scatter\", \"x\": [0.21621622145175934, 0.3513513505458832, 0.054054055362939835, 0.3243243098258972, 0.29729729890823364, 0.4864864945411682, 0.3243243098258972, 0.21621622145175934, 0.7837837934494019, 0.3243243098258972, 0.2702702581882477, 0.29729729890823364, 0.29729729890823364, 0.3243243098258972, 0.2702702581882477, 0.4864864945411682, 0.2702702581882477, 0.5135135054588318, 0.4324324429035187, 0.4054054021835327, 0.3513513505458832, 0.45945945382118225, 0.4054054021835327, 0.5135135054588318, 0.5405405163764954, 0.45945945382118225, 0.4054054021835327, 0.1621621549129486, 0.2702702581882477, 0.6216216087341309, 0.6756756901741028, 0.3243243098258972, 0.2702702581882477, 0.3513513505458832, 0.4324324429035187, 0.29729729890823364, 0.18918919563293457, 0.37837839126586914, 0.5405405163764954, 0.3513513505458832, 0.18918919563293457, 0.4054054021835327, 0.2432432472705841, 0.3513513505458832, 0.6756756901741028, 0.2432432472705841, 0.45945945382118225, 0.4324324429035187, 0.13513512909412384, 0.2702702581882477, 0.0810810774564743, 0.4864864945411682, 0.3513513505458832, 0.4324324429035187, 0.3243243098258972, 0.3243243098258972, 0.2432432472705841, 0.2702702581882477, 0.21621622145175934, 0.4054054021835327, 0.29729729890823364, 0.5945945978164673, 0.4054054021835327, 0.3513513505458832, 0.3243243098258972, 0.3243243098258972, 0.37837839126586914, 0.3513513505458832, 0.027027027681469917, 0.18918919563293457, 0.21621622145175934, 0.4054054021835327, 0.5405405163764954, 0.5405405163764954, 0.7567567825317383, 0.4324324429035187], \"xaxis\": \"x\", \"y\": [0.3925594091415405, 0.581169843673706, 0.48756903409957886, 0.48042362928390503, 0.44033917784690857, 0.22435113787651062, 0.4837431013584137, 0.464865505695343, 0.3664783537387848, 0.5317504405975342, 0.3912261724472046, 0.5097726583480835, 0.3528655469417572, 0.3651220500469208, 0.2197609543800354, 0.5617532730102539, 0.2531254291534424, 0.3133013844490051, 0.43241167068481445, 0.4245951175689697, 0.4087611734867096, 0.5841683149337769, 0.4266745448112488, 0.5048039555549622, 0.3994460105895996, 0.3997794985771179, 0.5819253921508789, 0.3165014386177063, 0.39114055037498474, 0.7216874361038208, 0.6481196880340576, 0.5328871011734009, 0.3173738718032837, 0.4608500301837921, 0.5854936838150024, 0.4259812831878662, 0.2635810375213623, 0.6216209530830383, 0.4056055545806885, 0.36902832984924316, 0.3946652114391327, 0.4756070375442505, 0.4616873860359192, 0.2248694896697998, 0.6041759252548218, 0.6664213538169861, 0.24387075006961823, 0.24932439625263214, 0.41492414474487305, 0.2966531813144684, 0.5073667168617249, 0.27853187918663025, 0.5410126447677612, 0.4643566906452179, 0.6264704465866089, 0.3371140658855438, 0.3812292516231537, 0.29272350668907166, 0.46656671166419983, 0.32888761162757874, 0.19341513514518738, 0.3036632537841797, 0.2955830991268158, 0.47502702474594116, 0.4425939619541168, 0.4221864938735962, 0.4095574915409088, 0.46448349952697754, 0.3815339505672455, 0.4594055116176605, 0.35041362047195435, 0.29970458149909973, 0.6046268343925476, 0.4533838629722595, 0.3631709814071655, 0.43663954734802246], \"yaxis\": \"y\"}, {\"hovertemplate\": \"<b>OLS trendline</b><br>predicted = 0.116755 * true + 0.381967<br>R<sup>2</sup>=0.021561<br><br>tag=ff<br>true=%{x}<br>predicted=%{y} <b>(trend)</b><extra></extra>\", \"legendgroup\": \"ff\", \"marker\": {\"color\": \"#EF553B\", \"symbol\": \"circle\"}, \"mode\": \"lines\", \"name\": \"ff\", \"showlegend\": false, \"type\": \"scatter\", \"x\": [0.027027027681469917, 0.054054055362939835, 0.0810810774564743, 0.13513512909412384, 0.1621621549129486, 0.18918919563293457, 0.18918919563293457, 0.18918919563293457, 0.21621622145175934, 0.21621622145175934, 0.21621622145175934, 0.21621622145175934, 0.2432432472705841, 0.2432432472705841, 0.2432432472705841, 0.2702702581882477, 0.2702702581882477, 0.2702702581882477, 0.2702702581882477, 0.2702702581882477, 0.2702702581882477, 0.2702702581882477, 0.29729729890823364, 0.29729729890823364, 0.29729729890823364, 0.29729729890823364, 0.29729729890823364, 0.3243243098258972, 0.3243243098258972, 0.3243243098258972, 0.3243243098258972, 0.3243243098258972, 0.3243243098258972, 0.3243243098258972, 0.3243243098258972, 0.3243243098258972, 0.3513513505458832, 0.3513513505458832, 0.3513513505458832, 0.3513513505458832, 0.3513513505458832, 0.3513513505458832, 0.3513513505458832, 0.3513513505458832, 0.37837839126586914, 0.37837839126586914, 0.4054054021835327, 0.4054054021835327, 0.4054054021835327, 0.4054054021835327, 0.4054054021835327, 0.4054054021835327, 0.4054054021835327, 0.4324324429035187, 0.4324324429035187, 0.4324324429035187, 0.4324324429035187, 0.4324324429035187, 0.45945945382118225, 0.45945945382118225, 0.45945945382118225, 0.4864864945411682, 0.4864864945411682, 0.4864864945411682, 0.5135135054588318, 0.5135135054588318, 0.5405405163764954, 0.5405405163764954, 0.5405405163764954, 0.5405405163764954, 0.5945945978164673, 0.6216216087341309, 0.6756756901741028, 0.6756756901741028, 0.7567567825317383, 0.7837837934494019], \"xaxis\": \"x\", \"y\": [0.3851225348915138, 0.3882780829219097, 0.39143363029988465, 0.39774472592572907, 0.4009002737386513, 0.4040558232913627, 0.4040558232913627, 0.4040558232913627, 0.4072113711042849, 0.4072113711042849, 0.4072113711042849, 0.4072113711042849, 0.4103669189172071, 0.4103669189172071, 0.4103669189172071, 0.4135224649903402, 0.4135224649903402, 0.4135224649903402, 0.4135224649903402, 0.4135224649903402, 0.4135224649903402, 0.4135224649903402, 0.4166780145430516, 0.4166780145430516, 0.4166780145430516, 0.4166780145430516, 0.4166780145430516, 0.41983356061618465, 0.41983356061618465, 0.41983356061618465, 0.41983356061618465, 0.41983356061618465, 0.41983356061618465, 0.41983356061618465, 0.41983356061618465, 0.41983356061618465, 0.422989110168896, 0.422989110168896, 0.422989110168896, 0.422989110168896, 0.422989110168896, 0.422989110168896, 0.422989110168896, 0.422989110168896, 0.4261446597216074, 0.4261446597216074, 0.4293002057947405, 0.4293002057947405, 0.4293002057947405, 0.4293002057947405, 0.4293002057947405, 0.4293002057947405, 0.4293002057947405, 0.43245575534745184, 0.43245575534745184, 0.43245575534745184, 0.43245575534745184, 0.43245575534745184, 0.4356113014205849, 0.4356113014205849, 0.4356113014205849, 0.4387668509732963, 0.4387668509732963, 0.4387668509732963, 0.4419223970464294, 0.4419223970464294, 0.4450779431195624, 0.4450779431195624, 0.4450779431195624, 0.4450779431195624, 0.4513890422249852, 0.4545445882981183, 0.460855687403541, 0.460855687403541, 0.4703223325820969, 0.47347787865522994], \"yaxis\": \"y\"}, {\"hovertemplate\": \"tag=tcn<br>true=%{x}<br>predicted=%{y}<extra></extra>\", \"legendgroup\": \"tcn\", \"marker\": {\"color\": \"#00cc96\", \"symbol\": \"circle\"}, \"mode\": \"markers\", \"name\": \"tcn\", \"showlegend\": true, \"type\": \"scatter\", \"x\": [0.21621622145175934, 0.3513513505458832, 0.054054055362939835, 0.3243243098258972, 0.29729729890823364, 0.4864864945411682, 0.3243243098258972, 0.21621622145175934, 0.7837837934494019, 0.3243243098258972, 0.2702702581882477, 0.29729729890823364, 0.29729729890823364, 0.3243243098258972, 0.2702702581882477, 0.4864864945411682, 0.2702702581882477, 0.5135135054588318, 0.4324324429035187, 0.4054054021835327, 0.3513513505458832, 0.45945945382118225, 0.4054054021835327, 0.5135135054588318, 0.5405405163764954, 0.45945945382118225, 0.4054054021835327, 0.1621621549129486, 0.2702702581882477, 0.6216216087341309, 0.6756756901741028, 0.3243243098258972, 0.2702702581882477, 0.3513513505458832, 0.4324324429035187, 0.29729729890823364, 0.18918919563293457, 0.37837839126586914, 0.5405405163764954, 0.3513513505458832, 0.18918919563293457, 0.4054054021835327, 0.2432432472705841, 0.3513513505458832, 0.6756756901741028, 0.2432432472705841, 0.45945945382118225, 0.4324324429035187, 0.13513512909412384, 0.2702702581882477, 0.0810810774564743, 0.4864864945411682, 0.3513513505458832, 0.4324324429035187, 0.3243243098258972, 0.3243243098258972, 0.2432432472705841, 0.2702702581882477, 0.21621622145175934, 0.4054054021835327, 0.29729729890823364, 0.5945945978164673, 0.4054054021835327, 0.3513513505458832, 0.3243243098258972, 0.3243243098258972, 0.37837839126586914, 0.3513513505458832, 0.027027027681469917, 0.18918919563293457, 0.21621622145175934, 0.4054054021835327, 0.5405405163764954, 0.5405405163764954, 0.7567567825317383, 0.4324324429035187], \"xaxis\": \"x\", \"y\": [0.33000925183296204, 0.31093576550483704, 0.41708892583847046, 0.4184495806694031, 0.333754301071167, 0.27156931161880493, 0.4166892468929291, 0.2565092444419861, 0.33510467410087585, 0.7585564255714417, 0.42613810300827026, 0.4531150460243225, 0.41693565249443054, 0.06614498794078827, 0.2685410976409912, 0.6166586875915527, 0.526035487651825, 0.4428868293762207, 0.9658292531967163, 0.3853897154331207, 0.5249322652816772, 0.34178370237350464, 0.34513285756111145, 0.5173491835594177, 0.6409608125686646, 0.5010092258453369, 0.4202995300292969, 0.2907075583934784, 0.441080242395401, 0.49979308247566223, 0.4039681553840637, 0.29597213864326477, 0.39645156264305115, 0.42960861325263977, 0.3894807696342468, 0.2574644982814789, 0.2171964943408966, 0.23991531133651733, 0.34960612654685974, 0.30321210622787476, 0.4263862073421478, 0.2363845854997635, 0.674494743347168, 0.2633284032344818, 0.6256726980209351, 0.09407193958759308, 0.5234882831573486, 0.24206160008907318, 0.015905078500509262, 0.3604946732521057, 0.5605001449584961, 0.20445257425308228, 0.5045359134674072, 0.3673728406429291, 0.43293243646621704, 0.2904297709465027, 0.13203786313533783, 0.6120547652244568, 0.47868460416793823, 0.3964557647705078, 0.21348077058792114, 0.3142695724964142, 0.2686004638671875, 0.34266170859336853, 0.6427571773529053, 0.4850732982158661, 0.38979417085647583, 0.37928056716918945, 0.3802073001861572, 0.26610875129699707, 0.3631422817707062, 0.24442777037620544, 0.5394352674484253, 0.3997719883918762, 0.6494698524475098, 0.42989382147789], \"yaxis\": \"y\"}, {\"hovertemplate\": \"<b>OLS trendline</b><br>predicted = 0.251125 * true + 0.303104<br>R<sup>2</sup>=0.055224<br><br>tag=tcn<br>true=%{x}<br>predicted=%{y} <b>(trend)</b><extra></extra>\", \"legendgroup\": \"tcn\", \"marker\": {\"color\": \"#00cc96\", \"symbol\": \"circle\"}, \"mode\": \"lines\", \"name\": \"tcn\", \"showlegend\": false, \"type\": \"scatter\", \"x\": [0.027027027681469917, 0.054054055362939835, 0.0810810774564743, 0.13513512909412384, 0.1621621549129486, 0.18918919563293457, 0.18918919563293457, 0.18918919563293457, 0.21621622145175934, 0.21621622145175934, 0.21621622145175934, 0.21621622145175934, 0.2432432472705841, 0.2432432472705841, 0.2432432472705841, 0.2702702581882477, 0.2702702581882477, 0.2702702581882477, 0.2702702581882477, 0.2702702581882477, 0.2702702581882477, 0.2702702581882477, 0.29729729890823364, 0.29729729890823364, 0.29729729890823364, 0.29729729890823364, 0.29729729890823364, 0.3243243098258972, 0.3243243098258972, 0.3243243098258972, 0.3243243098258972, 0.3243243098258972, 0.3243243098258972, 0.3243243098258972, 0.3243243098258972, 0.3243243098258972, 0.3513513505458832, 0.3513513505458832, 0.3513513505458832, 0.3513513505458832, 0.3513513505458832, 0.3513513505458832, 0.3513513505458832, 0.3513513505458832, 0.37837839126586914, 0.37837839126586914, 0.4054054021835327, 0.4054054021835327, 0.4054054021835327, 0.4054054021835327, 0.4054054021835327, 0.4054054021835327, 0.4054054021835327, 0.4324324429035187, 0.4324324429035187, 0.4324324429035187, 0.4324324429035187, 0.4324324429035187, 0.45945945382118225, 0.45945945382118225, 0.45945945382118225, 0.4864864945411682, 0.4864864945411682, 0.4864864945411682, 0.5135135054588318, 0.5135135054588318, 0.5405405163764954, 0.5405405163764954, 0.5405405163764954, 0.5405405163764954, 0.5945945978164673, 0.6216216087341309, 0.6756756901741028, 0.6756756901741028, 0.7567567825317383, 0.7837837934494019], \"xaxis\": \"x\", \"y\": [0.30989112950056147, 0.31667829635699957, 0.3234654618101664, 0.33703979458752836, 0.34382696097620935, 0.35061413110694695, 0.35061413110694695, 0.35061413110694695, 0.35740129749562793, 0.35740129749562793, 0.35740129749562793, 0.35740129749562793, 0.3641884638843089, 0.3641884638843089, 0.3641884638843089, 0.3709756265309333, 0.3709756265309333, 0.3709756265309333, 0.3709756265309333, 0.3709756265309333, 0.3709756265309333, 0.3709756265309333, 0.3777627966616709, 0.3777627966616709, 0.3777627966616709, 0.3777627966616709, 0.3777627966616709, 0.3845499593082953, 0.3845499593082953, 0.3845499593082953, 0.3845499593082953, 0.3845499593082953, 0.3845499593082953, 0.3845499593082953, 0.3845499593082953, 0.3845499593082953, 0.39133712943903287, 0.39133712943903287, 0.39133712943903287, 0.39133712943903287, 0.39133712943903287, 0.39133712943903287, 0.39133712943903287, 0.39133712943903287, 0.39812429956977047, 0.39812429956977047, 0.40491146221639485, 0.40491146221639485, 0.40491146221639485, 0.40491146221639485, 0.40491146221639485, 0.40491146221639485, 0.40491146221639485, 0.41169863234713244, 0.41169863234713244, 0.41169863234713244, 0.41169863234713244, 0.41169863234713244, 0.4184857949937568, 0.4184857949937568, 0.4184857949937568, 0.4252729651244944, 0.4252729651244944, 0.4252729651244944, 0.4320601277711188, 0.4320601277711188, 0.4388472904177432, 0.4388472904177432, 0.4388472904177432, 0.4388472904177432, 0.45242163067921837, 0.45920879332584275, 0.4727831335873179, 0.4727831335873179, 0.49314463649541745, 0.49993179914204183], \"yaxis\": \"y\"}, {\"hovertemplate\": \"tag=cpm<br>true=%{x}<br>predicted=%{y}<extra></extra>\", \"legendgroup\": \"cpm\", \"marker\": {\"color\": \"#ab63fa\", \"symbol\": \"circle\"}, \"mode\": \"markers\", \"name\": \"cpm\", \"showlegend\": true, \"type\": \"scatter\", \"x\": [0.21621621621621623, 0.35135135135135137, 0.05405405405405406, 0.32432432432432434, 0.2972972972972973, 0.4864864864864865, 0.32432432432432434, 0.21621621621621623, 0.7837837837837838, 0.32432432432432434, 0.2702702702702703, 0.2972972972972973, 0.2972972972972973, 0.32432432432432434, 0.2702702702702703, 0.4864864864864865, 0.2702702702702703, 0.5135135135135135, 0.43243243243243246, 0.40540540540540543, 0.35135135135135137, 0.4594594594594595, 0.40540540540540543, 0.5135135135135135, 0.5405405405405406, 0.4594594594594595, 0.40540540540540543, 0.16216216216216217, 0.2702702702702703, 0.6216216216216216, 0.6756756756756757, 0.32432432432432434, 0.2702702702702703, 0.35135135135135137, 0.43243243243243246, 0.2972972972972973, 0.1891891891891892, 0.3783783783783784, 0.5405405405405406, 0.35135135135135137, 0.1891891891891892, 0.40540540540540543, 0.24324324324324326, 0.35135135135135137, 0.6756756756756757, 0.24324324324324326, 0.4594594594594595, 0.43243243243243246, 0.13513513513513514, 0.2702702702702703, 0.08108108108108109, 0.4864864864864865, 0.35135135135135137, 0.43243243243243246, 0.32432432432432434, 0.32432432432432434, 0.24324324324324326, 0.2702702702702703, 0.21621621621621623, 0.40540540540540543, 0.2972972972972973, 0.5945945945945946, 0.40540540540540543, 0.35135135135135137, 0.32432432432432434, 0.32432432432432434, 0.3783783783783784, 0.35135135135135137, 0.02702702702702703, 0.1891891891891892, 0.21621621621621623, 0.40540540540540543, 0.5405405405405406, 0.5405405405405406, 0.7567567567567568, 0.43243243243243246], \"xaxis\": \"x\", \"y\": [0.40185391465229275, 0.4001165272175551, 0.4023886366854831, 0.40275436903538026, 0.407225291937115, 0.403232534916649, 0.4100049844135963, 0.40135616952445285, 0.4017404764142774, 0.4019821486143561, 0.4055031199597216, 0.4034496398110731, 0.4018969164395523, 0.40246640383865834, 0.4067729803473, 0.39974129443682527, 0.400380901437626, 0.4065438821639696, 0.40174021828673134, 0.4053346932191938, 0.39954282156931553, 0.40378566531673865, 0.4023229374819903, 0.4078921169268465, 0.4026460425521721, 0.40670855261514394, 0.4013161843139931, 0.399427188619595, 0.4060265670536011, 0.4071948619383503, 0.40325146681114343, 0.4039188757310599, 0.4060440493581089, 0.4044172178822033, 0.4017336869419697, 0.40312227912407295, 0.4010012599338249, 0.4031307870691238, 0.39741167655789744, 0.4013241155308809, 0.4041880758101323, 0.40438661000666243, 0.4083546634523782, 0.403824416201852, 0.40098349159398855, 0.401265980203746, 0.3968846982792392, 0.4047898394480647, 0.40037583497561036, 0.4048444230695293, 0.40392984337891935, 0.4049310904015561, 0.4018651596312521, 0.403221714511803, 0.40232025281723466, 0.3980870521538247, 0.40148189055330685, 0.40574374372306865, 0.40521269860201287, 0.4094046251911122, 0.40504642352998793, 0.4064794400418734, 0.4028431327319161, 0.4013805758627883, 0.4027253878365119, 0.4062315296435526, 0.40206392927587653, 0.40677067330268696, 0.40322633749884157, 0.4014639775743754, 0.4014425930574741, 0.405663229532454, 0.4053475766056014, 0.4020936477225225, 0.4037069091851889, 0.39784351621471203], \"yaxis\": \"y\"}, {\"hovertemplate\": \"<b>OLS trendline</b><br>predicted = 0.000699405 * true + 0.403024<br>R<sup>2</sup>=0.001453<br><br>tag=cpm<br>true=%{x}<br>predicted=%{y} <b>(trend)</b><extra></extra>\", \"legendgroup\": \"cpm\", \"marker\": {\"color\": \"#ab63fa\", \"symbol\": \"circle\"}, \"mode\": \"lines\", \"name\": \"cpm\", \"showlegend\": false, \"type\": \"scatter\", \"x\": [0.02702702702702703, 0.05405405405405406, 0.08108108108108109, 0.13513513513513514, 0.16216216216216217, 0.1891891891891892, 0.1891891891891892, 0.1891891891891892, 0.21621621621621623, 0.21621621621621623, 0.21621621621621623, 0.21621621621621623, 0.24324324324324326, 0.24324324324324326, 0.24324324324324326, 0.2702702702702703, 0.2702702702702703, 0.2702702702702703, 0.2702702702702703, 0.2702702702702703, 0.2702702702702703, 0.2702702702702703, 0.2972972972972973, 0.2972972972972973, 0.2972972972972973, 0.2972972972972973, 0.2972972972972973, 0.32432432432432434, 0.32432432432432434, 0.32432432432432434, 0.32432432432432434, 0.32432432432432434, 0.32432432432432434, 0.32432432432432434, 0.32432432432432434, 0.32432432432432434, 0.35135135135135137, 0.35135135135135137, 0.35135135135135137, 0.35135135135135137, 0.35135135135135137, 0.35135135135135137, 0.35135135135135137, 0.35135135135135137, 0.3783783783783784, 0.3783783783783784, 0.40540540540540543, 0.40540540540540543, 0.40540540540540543, 0.40540540540540543, 0.40540540540540543, 0.40540540540540543, 0.40540540540540543, 0.43243243243243246, 0.43243243243243246, 0.43243243243243246, 0.43243243243243246, 0.43243243243243246, 0.4594594594594595, 0.4594594594594595, 0.4594594594594595, 0.4864864864864865, 0.4864864864864865, 0.4864864864864865, 0.5135135135135135, 0.5135135135135135, 0.5405405405405406, 0.5405405405405406, 0.5405405405405406, 0.5405405405405406, 0.5945945945945946, 0.6216216216216216, 0.6756756756756757, 0.6756756756756757, 0.7567567567567568, 0.7837837837837838], \"xaxis\": \"x\", \"y\": [0.4030427152655226, 0.4030616180986323, 0.40308052093174196, 0.4031183265979613, 0.403137229431071, 0.4031561322641807, 0.4031561322641807, 0.4031561322641807, 0.40317503509729036, 0.40317503509729036, 0.40317503509729036, 0.40317503509729036, 0.40319393793040004, 0.40319393793040004, 0.40319393793040004, 0.4032128407635097, 0.4032128407635097, 0.4032128407635097, 0.4032128407635097, 0.4032128407635097, 0.4032128407635097, 0.4032128407635097, 0.40323174359661934, 0.40323174359661934, 0.40323174359661934, 0.40323174359661934, 0.40323174359661934, 0.403250646429729, 0.403250646429729, 0.403250646429729, 0.403250646429729, 0.403250646429729, 0.403250646429729, 0.403250646429729, 0.403250646429729, 0.403250646429729, 0.4032695492628387, 0.4032695492628387, 0.4032695492628387, 0.4032695492628387, 0.4032695492628387, 0.4032695492628387, 0.4032695492628387, 0.4032695492628387, 0.4032884520959484, 0.4032884520959484, 0.40330735492905806, 0.40330735492905806, 0.40330735492905806, 0.40330735492905806, 0.40330735492905806, 0.40330735492905806, 0.40330735492905806, 0.40332625776216774, 0.40332625776216774, 0.40332625776216774, 0.40332625776216774, 0.40332625776216774, 0.4033451605952774, 0.4033451605952774, 0.4033451605952774, 0.4033640634283871, 0.4033640634283871, 0.4033640634283871, 0.4033829662614968, 0.4033829662614968, 0.40340186909460646, 0.40340186909460646, 0.40340186909460646, 0.40340186909460646, 0.4034396747608258, 0.4034585775939355, 0.40349638326015486, 0.40349638326015486, 0.4035530917594839, 0.4035719945925936], \"yaxis\": \"y\"}],\n",
       "                        {\"font\": {\"color\": \"black\"}, \"height\": 400, \"legend\": {\"font\": {\"size\": 20}, \"title\": {\"text\": \"tag\"}, \"tracegroupgap\": 0}, \"margin\": {\"t\": 60}, \"template\": {\"data\": {\"bar\": [{\"error_x\": {\"color\": \"#2a3f5f\"}, \"error_y\": {\"color\": \"#2a3f5f\"}, \"marker\": {\"line\": {\"color\": \"white\", \"width\": 0.5}}, \"type\": \"bar\"}], \"barpolar\": [{\"marker\": {\"line\": {\"color\": \"white\", \"width\": 0.5}}, \"type\": \"barpolar\"}], \"carpet\": [{\"aaxis\": {\"endlinecolor\": \"#2a3f5f\", \"gridcolor\": \"#C8D4E3\", \"linecolor\": \"#C8D4E3\", \"minorgridcolor\": \"#C8D4E3\", \"startlinecolor\": \"#2a3f5f\"}, \"baxis\": {\"endlinecolor\": \"#2a3f5f\", \"gridcolor\": \"#C8D4E3\", \"linecolor\": \"#C8D4E3\", \"minorgridcolor\": \"#C8D4E3\", \"startlinecolor\": \"#2a3f5f\"}, \"type\": \"carpet\"}], \"choropleth\": [{\"colorbar\": {\"outlinewidth\": 0, \"ticks\": \"\"}, \"type\": \"choropleth\"}], \"contour\": [{\"colorbar\": {\"outlinewidth\": 0, \"ticks\": \"\"}, \"colorscale\": [[0.0, \"#0d0887\"], [0.1111111111111111, \"#46039f\"], [0.2222222222222222, \"#7201a8\"], [0.3333333333333333, \"#9c179e\"], [0.4444444444444444, \"#bd3786\"], [0.5555555555555556, \"#d8576b\"], [0.6666666666666666, \"#ed7953\"], [0.7777777777777778, \"#fb9f3a\"], [0.8888888888888888, \"#fdca26\"], [1.0, \"#f0f921\"]], \"type\": \"contour\"}], \"contourcarpet\": [{\"colorbar\": {\"outlinewidth\": 0, \"ticks\": \"\"}, \"type\": \"contourcarpet\"}], \"heatmap\": [{\"colorbar\": {\"outlinewidth\": 0, \"ticks\": \"\"}, \"colorscale\": [[0.0, \"#0d0887\"], [0.1111111111111111, \"#46039f\"], [0.2222222222222222, \"#7201a8\"], [0.3333333333333333, \"#9c179e\"], [0.4444444444444444, \"#bd3786\"], [0.5555555555555556, \"#d8576b\"], [0.6666666666666666, \"#ed7953\"], [0.7777777777777778, \"#fb9f3a\"], [0.8888888888888888, \"#fdca26\"], [1.0, \"#f0f921\"]], \"type\": \"heatmap\"}], \"heatmapgl\": [{\"colorbar\": {\"outlinewidth\": 0, \"ticks\": \"\"}, \"colorscale\": [[0.0, \"#0d0887\"], [0.1111111111111111, \"#46039f\"], [0.2222222222222222, \"#7201a8\"], [0.3333333333333333, \"#9c179e\"], [0.4444444444444444, \"#bd3786\"], [0.5555555555555556, \"#d8576b\"], [0.6666666666666666, \"#ed7953\"], [0.7777777777777778, \"#fb9f3a\"], [0.8888888888888888, \"#fdca26\"], [1.0, \"#f0f921\"]], \"type\": \"heatmapgl\"}], \"histogram\": [{\"marker\": {\"colorbar\": {\"outlinewidth\": 0, \"ticks\": \"\"}}, \"type\": \"histogram\"}], \"histogram2d\": [{\"colorbar\": {\"outlinewidth\": 0, \"ticks\": \"\"}, \"colorscale\": [[0.0, \"#0d0887\"], [0.1111111111111111, \"#46039f\"], [0.2222222222222222, \"#7201a8\"], [0.3333333333333333, \"#9c179e\"], [0.4444444444444444, \"#bd3786\"], [0.5555555555555556, \"#d8576b\"], [0.6666666666666666, \"#ed7953\"], [0.7777777777777778, \"#fb9f3a\"], [0.8888888888888888, \"#fdca26\"], [1.0, \"#f0f921\"]], \"type\": \"histogram2d\"}], \"histogram2dcontour\": [{\"colorbar\": {\"outlinewidth\": 0, \"ticks\": \"\"}, \"colorscale\": [[0.0, \"#0d0887\"], [0.1111111111111111, \"#46039f\"], [0.2222222222222222, \"#7201a8\"], [0.3333333333333333, \"#9c179e\"], [0.4444444444444444, \"#bd3786\"], [0.5555555555555556, \"#d8576b\"], [0.6666666666666666, \"#ed7953\"], [0.7777777777777778, \"#fb9f3a\"], [0.8888888888888888, \"#fdca26\"], [1.0, \"#f0f921\"]], \"type\": \"histogram2dcontour\"}], \"mesh3d\": [{\"colorbar\": {\"outlinewidth\": 0, \"ticks\": \"\"}, \"type\": \"mesh3d\"}], \"parcoords\": [{\"line\": {\"colorbar\": {\"outlinewidth\": 0, \"ticks\": \"\"}}, \"type\": \"parcoords\"}], \"pie\": [{\"automargin\": true, \"type\": \"pie\"}], \"scatter\": [{\"marker\": {\"colorbar\": {\"outlinewidth\": 0, \"ticks\": \"\"}}, \"type\": \"scatter\"}], \"scatter3d\": [{\"line\": {\"colorbar\": {\"outlinewidth\": 0, \"ticks\": \"\"}}, \"marker\": {\"colorbar\": {\"outlinewidth\": 0, \"ticks\": \"\"}}, \"type\": \"scatter3d\"}], \"scattercarpet\": [{\"marker\": {\"colorbar\": {\"outlinewidth\": 0, \"ticks\": \"\"}}, \"type\": \"scattercarpet\"}], \"scattergeo\": [{\"marker\": {\"colorbar\": {\"outlinewidth\": 0, \"ticks\": \"\"}}, \"type\": \"scattergeo\"}], \"scattergl\": [{\"marker\": {\"colorbar\": {\"outlinewidth\": 0, \"ticks\": \"\"}}, \"type\": \"scattergl\"}], \"scattermapbox\": [{\"marker\": {\"colorbar\": {\"outlinewidth\": 0, \"ticks\": \"\"}}, \"type\": \"scattermapbox\"}], \"scatterpolar\": [{\"marker\": {\"colorbar\": {\"outlinewidth\": 0, \"ticks\": \"\"}}, \"type\": \"scatterpolar\"}], \"scatterpolargl\": [{\"marker\": {\"colorbar\": {\"outlinewidth\": 0, \"ticks\": \"\"}}, \"type\": \"scatterpolargl\"}], \"scatterternary\": [{\"marker\": {\"colorbar\": {\"outlinewidth\": 0, \"ticks\": \"\"}}, \"type\": \"scatterternary\"}], \"surface\": [{\"colorbar\": {\"outlinewidth\": 0, \"ticks\": \"\"}, \"colorscale\": [[0.0, \"#0d0887\"], [0.1111111111111111, \"#46039f\"], [0.2222222222222222, \"#7201a8\"], [0.3333333333333333, \"#9c179e\"], [0.4444444444444444, \"#bd3786\"], [0.5555555555555556, \"#d8576b\"], [0.6666666666666666, \"#ed7953\"], [0.7777777777777778, \"#fb9f3a\"], [0.8888888888888888, \"#fdca26\"], [1.0, \"#f0f921\"]], \"type\": \"surface\"}], \"table\": [{\"cells\": {\"fill\": {\"color\": \"#EBF0F8\"}, \"line\": {\"color\": \"white\"}}, \"header\": {\"fill\": {\"color\": \"#C8D4E3\"}, \"line\": {\"color\": \"white\"}}, \"type\": \"table\"}]}, \"layout\": {\"annotationdefaults\": {\"arrowcolor\": \"#2a3f5f\", \"arrowhead\": 0, \"arrowwidth\": 1}, \"coloraxis\": {\"colorbar\": {\"outlinewidth\": 0, \"ticks\": \"\"}}, \"colorscale\": {\"diverging\": [[0, \"#8e0152\"], [0.1, \"#c51b7d\"], [0.2, \"#de77ae\"], [0.3, \"#f1b6da\"], [0.4, \"#fde0ef\"], [0.5, \"#f7f7f7\"], [0.6, \"#e6f5d0\"], [0.7, \"#b8e186\"], [0.8, \"#7fbc41\"], [0.9, \"#4d9221\"], [1, \"#276419\"]], \"sequential\": [[0.0, \"#0d0887\"], [0.1111111111111111, \"#46039f\"], [0.2222222222222222, \"#7201a8\"], [0.3333333333333333, \"#9c179e\"], [0.4444444444444444, \"#bd3786\"], [0.5555555555555556, \"#d8576b\"], [0.6666666666666666, \"#ed7953\"], [0.7777777777777778, \"#fb9f3a\"], [0.8888888888888888, \"#fdca26\"], [1.0, \"#f0f921\"]], \"sequentialminus\": [[0.0, \"#0d0887\"], [0.1111111111111111, \"#46039f\"], [0.2222222222222222, \"#7201a8\"], [0.3333333333333333, \"#9c179e\"], [0.4444444444444444, \"#bd3786\"], [0.5555555555555556, \"#d8576b\"], [0.6666666666666666, \"#ed7953\"], [0.7777777777777778, \"#fb9f3a\"], [0.8888888888888888, \"#fdca26\"], [1.0, \"#f0f921\"]]}, \"colorway\": [\"#636efa\", \"#EF553B\", \"#00cc96\", \"#ab63fa\", \"#FFA15A\", \"#19d3f3\", \"#FF6692\", \"#B6E880\", \"#FF97FF\", \"#FECB52\"], \"font\": {\"color\": \"#2a3f5f\"}, \"geo\": {\"bgcolor\": \"white\", \"lakecolor\": \"white\", \"landcolor\": \"white\", \"showlakes\": true, \"showland\": true, \"subunitcolor\": \"#C8D4E3\"}, \"hoverlabel\": {\"align\": \"left\"}, \"hovermode\": \"closest\", \"mapbox\": {\"style\": \"light\"}, \"paper_bgcolor\": \"white\", \"plot_bgcolor\": \"white\", \"polar\": {\"angularaxis\": {\"gridcolor\": \"#EBF0F8\", \"linecolor\": \"#EBF0F8\", \"ticks\": \"\"}, \"bgcolor\": \"white\", \"radialaxis\": {\"gridcolor\": \"#EBF0F8\", \"linecolor\": \"#EBF0F8\", \"ticks\": \"\"}}, \"scene\": {\"xaxis\": {\"backgroundcolor\": \"white\", \"gridcolor\": \"#DFE8F3\", \"gridwidth\": 2, \"linecolor\": \"#EBF0F8\", \"showbackground\": true, \"ticks\": \"\", \"zerolinecolor\": \"#EBF0F8\"}, \"yaxis\": {\"backgroundcolor\": \"white\", \"gridcolor\": \"#DFE8F3\", \"gridwidth\": 2, \"linecolor\": \"#EBF0F8\", \"showbackground\": true, \"ticks\": \"\", \"zerolinecolor\": \"#EBF0F8\"}, \"zaxis\": {\"backgroundcolor\": \"white\", \"gridcolor\": \"#DFE8F3\", \"gridwidth\": 2, \"linecolor\": \"#EBF0F8\", \"showbackground\": true, \"ticks\": \"\", \"zerolinecolor\": \"#EBF0F8\"}}, \"shapedefaults\": {\"line\": {\"color\": \"#2a3f5f\"}}, \"ternary\": {\"aaxis\": {\"gridcolor\": \"#DFE8F3\", \"linecolor\": \"#A2B1C6\", \"ticks\": \"\"}, \"baxis\": {\"gridcolor\": \"#DFE8F3\", \"linecolor\": \"#A2B1C6\", \"ticks\": \"\"}, \"bgcolor\": \"white\", \"caxis\": {\"gridcolor\": \"#DFE8F3\", \"linecolor\": \"#A2B1C6\", \"ticks\": \"\"}}, \"title\": {\"x\": 0.05}, \"xaxis\": {\"automargin\": true, \"gridcolor\": \"#EBF0F8\", \"linecolor\": \"#EBF0F8\", \"ticks\": \"\", \"title\": {\"standoff\": 15}, \"zerolinecolor\": \"#EBF0F8\", \"zerolinewidth\": 2}, \"yaxis\": {\"automargin\": true, \"gridcolor\": \"#EBF0F8\", \"linecolor\": \"#EBF0F8\", \"ticks\": \"\", \"title\": {\"standoff\": 15}, \"zerolinecolor\": \"#EBF0F8\", \"zerolinewidth\": 2}}}, \"title\": {\"text\": \"NEOFAC_N\"}, \"width\": 480, \"xaxis\": {\"anchor\": \"y\", \"domain\": [0.0, 1.0], \"dtick\": 0.2, \"tickfont\": {\"size\": 20}, \"title\": {\"font\": {\"size\": 20}, \"text\": \"True\"}}, \"yaxis\": {\"anchor\": \"x\", \"domain\": [0.0, 1.0], \"dtick\": 0.2, \"tickfont\": {\"size\": 20}, \"title\": {\"font\": {\"size\": 20}, \"text\": \"Predicted\"}}},\n",
       "                        {\"responsive\": true}\n",
       "                    ).then(function(){\n",
       "                            \n",
       "var gd = document.getElementById('b2bd968d-14c7-41e4-834e-6034a0dd3de1');\n",
       "var x = new MutationObserver(function (mutations, observer) {{\n",
       "        var display = window.getComputedStyle(gd).display;\n",
       "        if (!display || display === 'none') {{\n",
       "            console.log([gd, 'removed!']);\n",
       "            Plotly.purge(gd);\n",
       "            observer.disconnect();\n",
       "        }}\n",
       "}});\n",
       "\n",
       "// Listen for the removal of the full notebook cells\n",
       "var notebookContainer = gd.closest('#notebook-container');\n",
       "if (notebookContainer) {{\n",
       "    x.observe(notebookContainer, {childList: true});\n",
       "}}\n",
       "\n",
       "// Listen for the clearing of the current output cell\n",
       "var outputEl = gd.closest('.output');\n",
       "if (outputEl) {{\n",
       "    x.observe(outputEl, {childList: true});\n",
       "}}\n",
       "\n",
       "                        })\n",
       "                };\n",
       "                });\n",
       "            </script>\n",
       "        </div>"
      ]
     },
     "metadata": {},
     "output_type": "display_data"
    },
    {
     "data": {
      "application/vnd.plotly.v1+json": {
       "config": {
        "plotlyServerURL": "https://plot.ly"
       },
       "data": [
        {
         "hovertemplate": "tag=gru<br>true=%{x}<br>predicted=%{y}<extra></extra>",
         "legendgroup": "gru",
         "marker": {
          "color": "#636efa",
          "symbol": "circle"
         },
         "mode": "markers",
         "name": "gru",
         "showlegend": true,
         "type": "scatter",
         "x": [
          0.3448275923728943,
          0.3103448152542114,
          0.5517241358757019,
          0.5862069129943848,
          0.5517241358757019,
          0.24137930572032928,
          0.27586206793785095,
          0.24137930572032928,
          0.3448275923728943,
          0.517241358757019,
          0.7931034564971924,
          0.48275861144065857,
          0.48275861144065857,
          0.27586206793785095,
          0.48275861144065857,
          0.24137930572032928,
          0.27586206793785095,
          0.1034482792019844,
          0.6206896305084229,
          0.4482758641242981,
          0.517241358757019,
          0.48275861144065857,
          0.27586206793785095,
          0.4482758641242981,
          0.3103448152542114,
          0.3448275923728943,
          0.7931034564971924,
          0.48275861144065857,
          0.27586206793785095,
          0.6206896305084229,
          0.6206896305084229,
          0.7586206793785095,
          0.13793103396892548,
          0.3448275923728943,
          0.37931033968925476,
          0.5862069129943848,
          0.5862069129943848,
          0.8620689511299133,
          0.17241379618644714,
          0.4482758641242981,
          0.517241358757019,
          0.24137930572032928,
          0.3103448152542114,
          0.5862069129943848,
          0.6896551847457886,
          0.13793103396892548,
          0.2068965584039688,
          0.517241358757019,
          0.4482758641242981,
          0.48275861144065857,
          0.48275861144065857,
          0.4482758641242981,
          0.48275861144065857,
          0.6551724076271057,
          0.4137931168079376,
          0.517241358757019,
          0.2068965584039688,
          0.6896551847457886,
          0.6551724076271057,
          0.37931033968925476,
          0.4482758641242981,
          0.3103448152542114,
          0.17241379618644714,
          0.4482758641242981,
          0.2068965584039688,
          0.517241358757019,
          0.8620689511299133,
          0.48275861144065857,
          0.3103448152542114,
          0.517241358757019,
          0.48275861144065857,
          0.5862069129943848,
          0.48275861144065857,
          0.3448275923728943,
          0.7241379022598267,
          0.517241358757019
         ],
         "xaxis": "x",
         "y": [
          0.30937865376472473,
          0.27792662382125854,
          0.2735553979873657,
          0.37684106826782227,
          0.6612198352813721,
          0.36414867639541626,
          0.29410314559936523,
          0.5157572031021118,
          0.5704417824745178,
          0.4571753144264221,
          0.2560769319534302,
          0.4241810142993927,
          0.36877918243408203,
          0.44044238328933716,
          0.4484485685825348,
          0.36207035183906555,
          0.4887523353099823,
          0.43793559074401855,
          0.5630705952644348,
          0.6454955339431763,
          0.729515790939331,
          0.420259028673172,
          0.5940231680870056,
          0.5036023259162903,
          0.400958776473999,
          0.3856390118598938,
          0.5285278558731079,
          0.431310772895813,
          0.6581669449806213,
          0.6280731558799744,
          0.518882155418396,
          0.3846944272518158,
          0.29552996158599854,
          0.35222941637039185,
          0.6338722705841064,
          0.5708125829696655,
          0.4839714467525482,
          0.5181756615638733,
          0.4615890383720398,
          0.5492037534713745,
          0.537575364112854,
          0.3481295704841614,
          0.6971933841705322,
          0.42040354013442993,
          0.5512281060218811,
          0.45967137813568115,
          0.5237646698951721,
          0.3942025303840637,
          0.3353992700576782,
          0.6422964334487915,
          0.39011186361312866,
          0.5453675985336304,
          0.34090763330459595,
          0.3897808790206909,
          0.35563790798187256,
          0.605743944644928,
          0.49595972895622253,
          0.6269680261611938,
          0.19275854527950287,
          0.4398743808269501,
          0.7020026445388794,
          0.5172257423400879,
          0.24631300568580627,
          0.33098065853118896,
          0.28798240423202515,
          0.47318407893180847,
          0.5617613792419434,
          0.5444267988204956,
          0.43897539377212524,
          0.6784215569496155,
          0.4736669659614563,
          0.5346501469612122,
          0.5447978377342224,
          0.5313791632652283,
          0.38840362429618835,
          0.489006906747818
         ],
         "yaxis": "y"
        },
        {
         "hovertemplate": "<b>OLS trendline</b><br>predicted = 0.105369 * true + 0.421415<br>R<sup>2</sup>=0.023089<br><br>tag=gru<br>true=%{x}<br>predicted=%{y} <b>(trend)</b><extra></extra>",
         "legendgroup": "gru",
         "marker": {
          "color": "#636efa",
          "symbol": "circle"
         },
         "mode": "lines",
         "name": "gru",
         "showlegend": false,
         "type": "scatter",
         "x": [
          0.1034482792019844,
          0.13793103396892548,
          0.13793103396892548,
          0.17241379618644714,
          0.17241379618644714,
          0.2068965584039688,
          0.2068965584039688,
          0.2068965584039688,
          0.24137930572032928,
          0.24137930572032928,
          0.24137930572032928,
          0.24137930572032928,
          0.27586206793785095,
          0.27586206793785095,
          0.27586206793785095,
          0.27586206793785095,
          0.27586206793785095,
          0.3103448152542114,
          0.3103448152542114,
          0.3103448152542114,
          0.3103448152542114,
          0.3103448152542114,
          0.3448275923728943,
          0.3448275923728943,
          0.3448275923728943,
          0.3448275923728943,
          0.3448275923728943,
          0.37931033968925476,
          0.37931033968925476,
          0.4137931168079376,
          0.4482758641242981,
          0.4482758641242981,
          0.4482758641242981,
          0.4482758641242981,
          0.4482758641242981,
          0.4482758641242981,
          0.4482758641242981,
          0.48275861144065857,
          0.48275861144065857,
          0.48275861144065857,
          0.48275861144065857,
          0.48275861144065857,
          0.48275861144065857,
          0.48275861144065857,
          0.48275861144065857,
          0.48275861144065857,
          0.48275861144065857,
          0.48275861144065857,
          0.517241358757019,
          0.517241358757019,
          0.517241358757019,
          0.517241358757019,
          0.517241358757019,
          0.517241358757019,
          0.517241358757019,
          0.517241358757019,
          0.5517241358757019,
          0.5517241358757019,
          0.5862069129943848,
          0.5862069129943848,
          0.5862069129943848,
          0.5862069129943848,
          0.5862069129943848,
          0.6206896305084229,
          0.6206896305084229,
          0.6206896305084229,
          0.6551724076271057,
          0.6551724076271057,
          0.6896551847457886,
          0.6896551847457886,
          0.7241379022598267,
          0.7586206793785095,
          0.7931034564971924,
          0.7931034564971924,
          0.8620689511299133,
          0.8620689511299133
         ],
         "xaxis": "x",
         "y": [
          0.43231520419329933,
          0.43594862735957624,
          0.43594862735957624,
          0.4395820513109155,
          0.4395820513109155,
          0.44321547526225474,
          0.44321547526225474,
          0.44321547526225474,
          0.4468488976434693,
          0.4468488976434693,
          0.4468488976434693,
          0.4468488976434693,
          0.4504823215948085,
          0.4504823215948085,
          0.4504823215948085,
          0.4504823215948085,
          0.4504823215948085,
          0.45411574397602306,
          0.45411574397602306,
          0.45411574397602306,
          0.45411574397602306,
          0.45411574397602306,
          0.457749169497487,
          0.457749169497487,
          0.457749169497487,
          0.457749169497487,
          0.457749169497487,
          0.46138259187870156,
          0.46138259187870156,
          0.46501601740016546,
          0.46864943978138,
          0.46864943978138,
          0.46864943978138,
          0.46864943978138,
          0.46864943978138,
          0.46864943978138,
          0.46864943978138,
          0.4722828621625946,
          0.4722828621625946,
          0.4722828621625946,
          0.4722828621625946,
          0.4722828621625946,
          0.4722828621625946,
          0.4722828621625946,
          0.4722828621625946,
          0.4722828621625946,
          0.4722828621625946,
          0.4722828621625946,
          0.47591628454380913,
          0.47591628454380913,
          0.47591628454380913,
          0.47591628454380913,
          0.47591628454380913,
          0.47591628454380913,
          0.47591628454380913,
          0.47591628454380913,
          0.4795497100652731,
          0.4795497100652731,
          0.483183135586737,
          0.483183135586737,
          0.483183135586737,
          0.483183135586737,
          0.483183135586737,
          0.4868165548277022,
          0.4868165548277022,
          0.4868165548277022,
          0.4904499803491661,
          0.4904499803491661,
          0.49408340587063004,
          0.49408340587063004,
          0.4977168251115952,
          0.5013502506330592,
          0.504983676154523,
          0.504983676154523,
          0.5122505209169522,
          0.5122505209169522
         ],
         "yaxis": "y"
        },
        {
         "hovertemplate": "tag=ff<br>true=%{x}<br>predicted=%{y}<extra></extra>",
         "legendgroup": "ff",
         "marker": {
          "color": "#EF553B",
          "symbol": "circle"
         },
         "mode": "markers",
         "name": "ff",
         "showlegend": true,
         "type": "scatter",
         "x": [
          0.3448275923728943,
          0.3103448152542114,
          0.5517241358757019,
          0.5862069129943848,
          0.5517241358757019,
          0.24137930572032928,
          0.27586206793785095,
          0.24137930572032928,
          0.3448275923728943,
          0.517241358757019,
          0.7931034564971924,
          0.48275861144065857,
          0.48275861144065857,
          0.27586206793785095,
          0.48275861144065857,
          0.24137930572032928,
          0.27586206793785095,
          0.1034482792019844,
          0.6206896305084229,
          0.4482758641242981,
          0.517241358757019,
          0.48275861144065857,
          0.27586206793785095,
          0.4482758641242981,
          0.3103448152542114,
          0.3448275923728943,
          0.7931034564971924,
          0.48275861144065857,
          0.27586206793785095,
          0.6206896305084229,
          0.6206896305084229,
          0.7586206793785095,
          0.13793103396892548,
          0.3448275923728943,
          0.37931033968925476,
          0.5862069129943848,
          0.5862069129943848,
          0.8620689511299133,
          0.17241379618644714,
          0.4482758641242981,
          0.517241358757019,
          0.24137930572032928,
          0.3103448152542114,
          0.5862069129943848,
          0.6896551847457886,
          0.13793103396892548,
          0.2068965584039688,
          0.517241358757019,
          0.4482758641242981,
          0.48275861144065857,
          0.48275861144065857,
          0.4482758641242981,
          0.48275861144065857,
          0.6551724076271057,
          0.4137931168079376,
          0.517241358757019,
          0.2068965584039688,
          0.6896551847457886,
          0.6551724076271057,
          0.37931033968925476,
          0.4482758641242981,
          0.3103448152542114,
          0.17241379618644714,
          0.4482758641242981,
          0.2068965584039688,
          0.517241358757019,
          0.8620689511299133,
          0.48275861144065857,
          0.3103448152542114,
          0.517241358757019,
          0.48275861144065857,
          0.5862069129943848,
          0.48275861144065857,
          0.3448275923728943,
          0.7241379022598267,
          0.517241358757019
         ],
         "xaxis": "x",
         "y": [
          0.2545701265335083,
          0.7964508533477783,
          0.6521716713905334,
          0.36065226793289185,
          0.5449052453041077,
          0.3169889748096466,
          0.5113120079040527,
          0.5274213552474976,
          0.13397516310214996,
          0.5275754332542419,
          0.46687647700309753,
          0.3019232153892517,
          0.5629122257232666,
          0.41530469059944153,
          0.4744980037212372,
          0.40558183193206787,
          0.3603123128414154,
          0.2570938766002655,
          0.5186251401901245,
          0.2721751630306244,
          0.44306546449661255,
          0.504698634147644,
          0.41055580973625183,
          0.43975552916526794,
          0.6990945339202881,
          0.6023333072662354,
          0.500410795211792,
          0.415103942155838,
          0.3007623851299286,
          0.7630688548088074,
          0.45337507128715515,
          0.46842390298843384,
          0.3916110694408417,
          0.35951876640319824,
          0.42766284942626953,
          0.3110898435115814,
          0.3682135045528412,
          0.5553558468818665,
          0.430943101644516,
          0.52112877368927,
          0.39379069209098816,
          0.4768625497817993,
          0.3725071847438812,
          0.4655672311782837,
          0.5640935897827148,
          0.36622291803359985,
          0.6172860264778137,
          0.46084657311439514,
          0.3058346211910248,
          0.36560550332069397,
          0.4816896617412567,
          0.3432391881942749,
          0.525238037109375,
          0.33844244480133057,
          0.1904217153787613,
          0.42344674468040466,
          0.3326283395290375,
          0.3973369896411896,
          0.3319161534309387,
          0.3710215091705322,
          0.48107290267944336,
          0.6085724234580994,
          0.45410335063934326,
          0.43295830488204956,
          0.3295820355415344,
          0.4766756296157837,
          0.41457903385162354,
          0.326700896024704,
          0.3418084979057312,
          0.3762982189655304,
          0.45372098684310913,
          0.4231550097465515,
          0.2626831531524658,
          0.5353716015815735,
          0.7010797262191772,
          0.3119492828845978
         ],
         "yaxis": "y"
        },
        {
         "hovertemplate": "<b>OLS trendline</b><br>predicted = 0.124902 * true + 0.37924<br>R<sup>2</sup>=0.031760<br><br>tag=ff<br>true=%{x}<br>predicted=%{y} <b>(trend)</b><extra></extra>",
         "legendgroup": "ff",
         "marker": {
          "color": "#EF553B",
          "symbol": "circle"
         },
         "mode": "lines",
         "name": "ff",
         "showlegend": false,
         "type": "scatter",
         "x": [
          0.1034482792019844,
          0.13793103396892548,
          0.13793103396892548,
          0.17241379618644714,
          0.17241379618644714,
          0.2068965584039688,
          0.2068965584039688,
          0.2068965584039688,
          0.24137930572032928,
          0.24137930572032928,
          0.24137930572032928,
          0.24137930572032928,
          0.27586206793785095,
          0.27586206793785095,
          0.27586206793785095,
          0.27586206793785095,
          0.27586206793785095,
          0.3103448152542114,
          0.3103448152542114,
          0.3103448152542114,
          0.3103448152542114,
          0.3103448152542114,
          0.3448275923728943,
          0.3448275923728943,
          0.3448275923728943,
          0.3448275923728943,
          0.3448275923728943,
          0.37931033968925476,
          0.37931033968925476,
          0.4137931168079376,
          0.4482758641242981,
          0.4482758641242981,
          0.4482758641242981,
          0.4482758641242981,
          0.4482758641242981,
          0.4482758641242981,
          0.4482758641242981,
          0.48275861144065857,
          0.48275861144065857,
          0.48275861144065857,
          0.48275861144065857,
          0.48275861144065857,
          0.48275861144065857,
          0.48275861144065857,
          0.48275861144065857,
          0.48275861144065857,
          0.48275861144065857,
          0.48275861144065857,
          0.517241358757019,
          0.517241358757019,
          0.517241358757019,
          0.517241358757019,
          0.517241358757019,
          0.517241358757019,
          0.517241358757019,
          0.517241358757019,
          0.5517241358757019,
          0.5517241358757019,
          0.5862069129943848,
          0.5862069129943848,
          0.5862069129943848,
          0.5862069129943848,
          0.5862069129943848,
          0.6206896305084229,
          0.6206896305084229,
          0.6206896305084229,
          0.6551724076271057,
          0.6551724076271057,
          0.6896551847457886,
          0.6896551847457886,
          0.7241379022598267,
          0.7586206793785095,
          0.7931034564971924,
          0.7931034564971924,
          0.8620689511299133,
          0.8620689511299133
         ],
         "xaxis": "x",
         "y": [
          0.39216058266179726,
          0.3964675500348332,
          0.3964675500348332,
          0.400774518338462,
          0.400774518338462,
          0.4050814866420908,
          0.4050814866420908,
          0.4050814866420908,
          0.40938845308453375,
          0.40938845308453375,
          0.40938845308453375,
          0.40938845308453375,
          0.4136954213881626,
          0.4136954213881626,
          0.4136954213881626,
          0.4136954213881626,
          0.4136954213881626,
          0.41800238783060556,
          0.41800238783060556,
          0.41800238783060556,
          0.41800238783060556,
          0.41800238783060556,
          0.42230935799542024,
          0.42230935799542024,
          0.42230935799542024,
          0.42230935799542024,
          0.42230935799542024,
          0.4266163244378632,
          0.4266163244378632,
          0.43092329460267786,
          0.4352302610451208,
          0.4352302610451208,
          0.4352302610451208,
          0.4352302610451208,
          0.4352302610451208,
          0.4352302610451208,
          0.4352302610451208,
          0.4395372274875638,
          0.4395372274875638,
          0.4395372274875638,
          0.4395372274875638,
          0.4395372274875638,
          0.4395372274875638,
          0.4395372274875638,
          0.4395372274875638,
          0.4395372274875638,
          0.4395372274875638,
          0.4395372274875638,
          0.44384419393000674,
          0.44384419393000674,
          0.44384419393000674,
          0.44384419393000674,
          0.44384419393000674,
          0.44384419393000674,
          0.44384419393000674,
          0.44384419393000674,
          0.4481511640948214,
          0.4481511640948214,
          0.4524581342596361,
          0.4524581342596361,
          0.4524581342596361,
          0.4524581342596361,
          0.4524581342596361,
          0.45676509697970735,
          0.45676509697970735,
          0.45676509697970735,
          0.46107206714452204,
          0.46107206714452204,
          0.4653790373093367,
          0.4653790373093367,
          0.46968600002940797,
          0.4739929701942226,
          0.4782999403590373,
          0.4782999403590373,
          0.4869138732439232,
          0.4869138732439232
         ],
         "yaxis": "y"
        },
        {
         "hovertemplate": "tag=tcn<br>true=%{x}<br>predicted=%{y}<extra></extra>",
         "legendgroup": "tcn",
         "marker": {
          "color": "#00cc96",
          "symbol": "circle"
         },
         "mode": "markers",
         "name": "tcn",
         "showlegend": true,
         "type": "scatter",
         "x": [
          0.3448275923728943,
          0.3103448152542114,
          0.5517241358757019,
          0.5862069129943848,
          0.5517241358757019,
          0.24137930572032928,
          0.27586206793785095,
          0.24137930572032928,
          0.3448275923728943,
          0.517241358757019,
          0.7931034564971924,
          0.48275861144065857,
          0.48275861144065857,
          0.27586206793785095,
          0.48275861144065857,
          0.24137930572032928,
          0.27586206793785095,
          0.1034482792019844,
          0.6206896305084229,
          0.4482758641242981,
          0.517241358757019,
          0.48275861144065857,
          0.27586206793785095,
          0.4482758641242981,
          0.3103448152542114,
          0.3448275923728943,
          0.7931034564971924,
          0.48275861144065857,
          0.27586206793785095,
          0.6206896305084229,
          0.6206896305084229,
          0.7586206793785095,
          0.13793103396892548,
          0.3448275923728943,
          0.37931033968925476,
          0.5862069129943848,
          0.5862069129943848,
          0.8620689511299133,
          0.17241379618644714,
          0.4482758641242981,
          0.517241358757019,
          0.24137930572032928,
          0.3103448152542114,
          0.5862069129943848,
          0.6896551847457886,
          0.13793103396892548,
          0.2068965584039688,
          0.517241358757019,
          0.4482758641242981,
          0.48275861144065857,
          0.48275861144065857,
          0.4482758641242981,
          0.48275861144065857,
          0.6551724076271057,
          0.4137931168079376,
          0.517241358757019,
          0.2068965584039688,
          0.6896551847457886,
          0.6551724076271057,
          0.37931033968925476,
          0.4482758641242981,
          0.3103448152542114,
          0.17241379618644714,
          0.4482758641242981,
          0.2068965584039688,
          0.517241358757019,
          0.8620689511299133,
          0.48275861144065857,
          0.3103448152542114,
          0.517241358757019,
          0.48275861144065857,
          0.5862069129943848,
          0.48275861144065857,
          0.3448275923728943,
          0.7241379022598267,
          0.517241358757019
         ],
         "xaxis": "x",
         "y": [
          0.5033692121505737,
          0.5809940099716187,
          0.42101413011550903,
          0.396106094121933,
          0.42159298062324524,
          0.30419808626174927,
          0.11507996916770935,
          0.2131928950548172,
          0.40691977739334106,
          0.44511285424232483,
          0.43231943249702454,
          0.49078425765037537,
          0.4061717092990875,
          0.42295923829078674,
          -0.03630436211824417,
          0.31060758233070374,
          0.3456608057022095,
          0.03557378798723221,
          0.748949408531189,
          0.367722749710083,
          0.45618441700935364,
          0.37739428877830505,
          0.5718188285827637,
          0.6005151271820068,
          0.2838919460773468,
          0.3392135500907898,
          0.5563026666641235,
          0.28558409214019775,
          0.2081686407327652,
          0.5932525396347046,
          0.41706040501594543,
          0.3246498107910156,
          0.24377785623073578,
          0.29478132724761963,
          0.39059168100357056,
          0.5919413566589355,
          0.4540860056877136,
          0.6982743740081787,
          0.2548251152038574,
          0.32510480284690857,
          0.5271457433700562,
          0.6112680435180664,
          0.365348756313324,
          0.4749649167060852,
          0.363086074590683,
          0.4800620973110199,
          0.5253515243530273,
          0.30922725796699524,
          0.5407087802886963,
          0.3970002233982086,
          0.37778469920158386,
          0.44884055852890015,
          0.4752391576766968,
          0.2983991503715515,
          0.09432213753461838,
          0.6387375593185425,
          0.5852152109146118,
          0.45011812448501587,
          0.4047500193119049,
          0.2833264172077179,
          0.47018417716026306,
          0.34056058526039124,
          0.3388553559780121,
          0.45194217562675476,
          0.2926841080188751,
          0.421344518661499,
          0.5222351551055908,
          0.39289912581443787,
          0.5093111991882324,
          0.22952967882156372,
          0.16391733288764954,
          0.5480989217758179,
          0.4593389332294464,
          0.2408970594406128,
          0.5531278848648071,
          0.26873207092285156
         ],
         "yaxis": "y"
        },
        {
         "hovertemplate": "<b>OLS trendline</b><br>predicted = 0.28781 * true + 0.271562<br>R<sup>2</sup>=0.120100<br><br>tag=tcn<br>true=%{x}<br>predicted=%{y} <b>(trend)</b><extra></extra>",
         "legendgroup": "tcn",
         "marker": {
          "color": "#00cc96",
          "symbol": "circle"
         },
         "mode": "lines",
         "name": "tcn",
         "showlegend": false,
         "type": "scatter",
         "x": [
          0.1034482792019844,
          0.13793103396892548,
          0.13793103396892548,
          0.17241379618644714,
          0.17241379618644714,
          0.2068965584039688,
          0.2068965584039688,
          0.2068965584039688,
          0.24137930572032928,
          0.24137930572032928,
          0.24137930572032928,
          0.24137930572032928,
          0.27586206793785095,
          0.27586206793785095,
          0.27586206793785095,
          0.27586206793785095,
          0.27586206793785095,
          0.3103448152542114,
          0.3103448152542114,
          0.3103448152542114,
          0.3103448152542114,
          0.3103448152542114,
          0.3448275923728943,
          0.3448275923728943,
          0.3448275923728943,
          0.3448275923728943,
          0.3448275923728943,
          0.37931033968925476,
          0.37931033968925476,
          0.4137931168079376,
          0.4482758641242981,
          0.4482758641242981,
          0.4482758641242981,
          0.4482758641242981,
          0.4482758641242981,
          0.4482758641242981,
          0.4482758641242981,
          0.48275861144065857,
          0.48275861144065857,
          0.48275861144065857,
          0.48275861144065857,
          0.48275861144065857,
          0.48275861144065857,
          0.48275861144065857,
          0.48275861144065857,
          0.48275861144065857,
          0.48275861144065857,
          0.48275861144065857,
          0.517241358757019,
          0.517241358757019,
          0.517241358757019,
          0.517241358757019,
          0.517241358757019,
          0.517241358757019,
          0.517241358757019,
          0.517241358757019,
          0.5517241358757019,
          0.5517241358757019,
          0.5862069129943848,
          0.5862069129943848,
          0.5862069129943848,
          0.5862069129943848,
          0.5862069129943848,
          0.6206896305084229,
          0.6206896305084229,
          0.6206896305084229,
          0.6551724076271057,
          0.6551724076271057,
          0.6896551847457886,
          0.6896551847457886,
          0.7241379022598267,
          0.7586206793785095,
          0.7931034564971924,
          0.7931034564971924,
          0.8620689511299133,
          0.8620689511299133
         ],
         "xaxis": "x",
         "y": [
          0.3013351520617191,
          0.31125962768208726,
          0.31125962768208726,
          0.3211841054468057,
          0.3211841054468057,
          0.33110858321152414,
          0.33110858321152414,
          0.33110858321152414,
          0.34103305668754197,
          0.34103305668754197,
          0.34103305668754197,
          0.34103305668754197,
          0.3509575344522604,
          0.3509575344522604,
          0.3509575344522604,
          0.3509575344522604,
          0.3509575344522604,
          0.3608820079282783,
          0.3608820079282783,
          0.3608820079282783,
          0.3608820079282783,
          0.3608820079282783,
          0.3708064899816973,
          0.3708064899816973,
          0.3708064899816973,
          0.3708064899816973,
          0.3708064899816973,
          0.3807309634577152,
          0.3807309634577152,
          0.3906554455111342,
          0.40057991898715206,
          0.40057991898715206,
          0.40057991898715206,
          0.40057991898715206,
          0.40057991898715206,
          0.40057991898715206,
          0.40057991898715206,
          0.41050439246316983,
          0.41050439246316983,
          0.41050439246316983,
          0.41050439246316983,
          0.41050439246316983,
          0.41050439246316983,
          0.41050439246316983,
          0.41050439246316983,
          0.41050439246316983,
          0.41050439246316983,
          0.41050439246316983,
          0.4204288659391877,
          0.4204288659391877,
          0.4204288659391877,
          0.4204288659391877,
          0.4204288659391877,
          0.4204288659391877,
          0.4204288659391877,
          0.4204288659391877,
          0.4303533479926067,
          0.4303533479926067,
          0.4402778300460258,
          0.4402778300460258,
          0.4402778300460258,
          0.4402778300460258,
          0.4402778300460258,
          0.4502022949446424,
          0.4502022949446424,
          0.4502022949446424,
          0.4601267769980615,
          0.4601267769980615,
          0.4700512590514805,
          0.4700512590514805,
          0.47997572395009713,
          0.4899002060035162,
          0.49982468805693525,
          0.49982468805693525,
          0.5196736350089709,
          0.5196736350089709
         ],
         "yaxis": "y"
        },
        {
         "hovertemplate": "tag=cpm<br>true=%{x}<br>predicted=%{y}<extra></extra>",
         "legendgroup": "cpm",
         "marker": {
          "color": "#ab63fa",
          "symbol": "circle"
         },
         "mode": "markers",
         "name": "cpm",
         "showlegend": true,
         "type": "scatter",
         "x": [
          0.3448275862068966,
          0.3103448275862069,
          0.5517241379310345,
          0.5862068965517241,
          0.5517241379310345,
          0.2413793103448276,
          0.27586206896551724,
          0.2413793103448276,
          0.3448275862068966,
          0.5172413793103449,
          0.7931034482758621,
          0.4827586206896552,
          0.4827586206896552,
          0.27586206896551724,
          0.4827586206896552,
          0.2413793103448276,
          0.27586206896551724,
          0.10344827586206896,
          0.6206896551724138,
          0.4482758620689655,
          0.5172413793103449,
          0.4827586206896552,
          0.27586206896551724,
          0.4482758620689655,
          0.3103448275862069,
          0.3448275862068966,
          0.7931034482758621,
          0.4827586206896552,
          0.27586206896551724,
          0.6206896551724138,
          0.6206896551724138,
          0.7586206896551724,
          0.13793103448275862,
          0.3448275862068966,
          0.3793103448275862,
          0.5862068965517241,
          0.5862068965517241,
          0.8620689655172413,
          0.1724137931034483,
          0.4482758620689655,
          0.5172413793103449,
          0.2413793103448276,
          0.3103448275862069,
          0.5862068965517241,
          0.6896551724137931,
          0.13793103448275862,
          0.20689655172413793,
          0.5172413793103449,
          0.4482758620689655,
          0.4827586206896552,
          0.4827586206896552,
          0.4482758620689655,
          0.4827586206896552,
          0.6551724137931034,
          0.41379310344827586,
          0.5172413793103449,
          0.20689655172413793,
          0.6896551724137931,
          0.6551724137931034,
          0.3793103448275862,
          0.4482758620689655,
          0.3103448275862069,
          0.1724137931034483,
          0.4482758620689655,
          0.20689655172413793,
          0.5172413793103449,
          0.8620689655172413,
          0.4827586206896552,
          0.3103448275862069,
          0.5172413793103449,
          0.4827586206896552,
          0.5862068965517241,
          0.4827586206896552,
          0.3448275862068966,
          0.7241379310344828,
          0.5172413793103449
         ],
         "xaxis": "x",
         "y": [
          0.5334314808664724,
          0.20730038001796527,
          0.6507922323442816,
          0.48913731504777186,
          0.6489186988670661,
          0.28689305501783957,
          0.4591918666781546,
          0.5103360355209197,
          0.5533288593012431,
          0.5507090965941427,
          0.632671862124387,
          0.4174786328413061,
          0.5971046596803391,
          0.5458561847998129,
          0.46616994662696815,
          0.5732931443675806,
          0.540901168370546,
          0.5354010267215203,
          0.3443344820547908,
          0.5569724531699343,
          0.5580074813604747,
          0.6018183014265841,
          0.47154148028341986,
          0.5660339347603242,
          0.4605515819912782,
          0.5035102461597447,
          0.55559340895265,
          0.5509228665257506,
          0.5325364794577652,
          0.5897911853789165,
          0.6442308916596287,
          0.5781294713194158,
          0.6545174893945138,
          0.6253387925274407,
          0.5415448017090689,
          0.41576620851920704,
          0.4193838248077154,
          0.4769419011098853,
          0.4629350509482481,
          0.6609303350929738,
          0.4222666430958251,
          0.533824549478322,
          0.5447576352694445,
          0.46893736724073193,
          0.5480537589835119,
          0.43543227445453675,
          0.7300409895098108,
          0.6286543116254351,
          0.6446193257681962,
          0.6380109826973637,
          0.43376741239024535,
          0.6158402762284063,
          0.4369647111707952,
          0.44894549360533476,
          0.4345663420716716,
          0.46429695384969344,
          0.3730833919132651,
          0.47953768621249865,
          0.5517117169535248,
          0.5428298186352336,
          0.5575737192191303,
          0.4817351999945662,
          0.3993605014159232,
          0.6111437491681486,
          0.22742665229092293,
          0.5450396714874268,
          0.6625916217246715,
          0.5438277628290422,
          0.6589518264326681,
          0.47646421854667137,
          0.5679365569321265,
          0.4682312670188993,
          0.5082440244233519,
          0.4655103722262726,
          0.6019522529456052,
          0.3550132454260291
         ],
         "yaxis": "y"
        },
        {
         "hovertemplate": "<b>OLS trendline</b><br>predicted = 0.1072 * true + 0.471335<br>R<sup>2</sup>=0.035910<br><br>tag=cpm<br>true=%{x}<br>predicted=%{y} <b>(trend)</b><extra></extra>",
         "legendgroup": "cpm",
         "marker": {
          "color": "#ab63fa",
          "symbol": "circle"
         },
         "mode": "lines",
         "name": "cpm",
         "showlegend": false,
         "type": "scatter",
         "x": [
          0.10344827586206896,
          0.13793103448275862,
          0.13793103448275862,
          0.1724137931034483,
          0.1724137931034483,
          0.20689655172413793,
          0.20689655172413793,
          0.20689655172413793,
          0.2413793103448276,
          0.2413793103448276,
          0.2413793103448276,
          0.2413793103448276,
          0.27586206896551724,
          0.27586206896551724,
          0.27586206896551724,
          0.27586206896551724,
          0.27586206896551724,
          0.3103448275862069,
          0.3103448275862069,
          0.3103448275862069,
          0.3103448275862069,
          0.3103448275862069,
          0.3448275862068966,
          0.3448275862068966,
          0.3448275862068966,
          0.3448275862068966,
          0.3448275862068966,
          0.3793103448275862,
          0.3793103448275862,
          0.41379310344827586,
          0.4482758620689655,
          0.4482758620689655,
          0.4482758620689655,
          0.4482758620689655,
          0.4482758620689655,
          0.4482758620689655,
          0.4482758620689655,
          0.4827586206896552,
          0.4827586206896552,
          0.4827586206896552,
          0.4827586206896552,
          0.4827586206896552,
          0.4827586206896552,
          0.4827586206896552,
          0.4827586206896552,
          0.4827586206896552,
          0.4827586206896552,
          0.4827586206896552,
          0.5172413793103449,
          0.5172413793103449,
          0.5172413793103449,
          0.5172413793103449,
          0.5172413793103449,
          0.5172413793103449,
          0.5172413793103449,
          0.5172413793103449,
          0.5517241379310345,
          0.5517241379310345,
          0.5862068965517241,
          0.5862068965517241,
          0.5862068965517241,
          0.5862068965517241,
          0.5862068965517241,
          0.6206896551724138,
          0.6206896551724138,
          0.6206896551724138,
          0.6551724137931034,
          0.6551724137931034,
          0.6896551724137931,
          0.6896551724137931,
          0.7241379310344828,
          0.7586206896551724,
          0.7931034482758621,
          0.7931034482758621,
          0.8620689655172413,
          0.8620689655172413
         ],
         "xaxis": "x",
         "y": [
          0.48242513354506483,
          0.4861216939237881,
          0.4861216939237881,
          0.4898182543025114,
          0.4898182543025114,
          0.49351481468123465,
          0.49351481468123465,
          0.49351481468123465,
          0.49721137505995794,
          0.49721137505995794,
          0.49721137505995794,
          0.49721137505995794,
          0.5009079354386812,
          0.5009079354386812,
          0.5009079354386812,
          0.5009079354386812,
          0.5009079354386812,
          0.5046044958174045,
          0.5046044958174045,
          0.5046044958174045,
          0.5046044958174045,
          0.5046044958174045,
          0.5083010561961278,
          0.5083010561961278,
          0.5083010561961278,
          0.5083010561961278,
          0.5083010561961278,
          0.511997616574851,
          0.511997616574851,
          0.5156941769535743,
          0.5193907373322976,
          0.5193907373322976,
          0.5193907373322976,
          0.5193907373322976,
          0.5193907373322976,
          0.5193907373322976,
          0.5193907373322976,
          0.5230872977110208,
          0.5230872977110208,
          0.5230872977110208,
          0.5230872977110208,
          0.5230872977110208,
          0.5230872977110208,
          0.5230872977110208,
          0.5230872977110208,
          0.5230872977110208,
          0.5230872977110208,
          0.5230872977110208,
          0.5267838580897442,
          0.5267838580897442,
          0.5267838580897442,
          0.5267838580897442,
          0.5267838580897442,
          0.5267838580897442,
          0.5267838580897442,
          0.5267838580897442,
          0.5304804184684674,
          0.5304804184684674,
          0.5341769788471906,
          0.5341769788471906,
          0.5341769788471906,
          0.5341769788471906,
          0.5341769788471906,
          0.537873539225914,
          0.537873539225914,
          0.537873539225914,
          0.5415700996046372,
          0.5415700996046372,
          0.5452666599833605,
          0.5452666599833605,
          0.5489632203620838,
          0.552659780740807,
          0.5563563411195304,
          0.5563563411195304,
          0.5637494618769768,
          0.5637494618769768
         ],
         "yaxis": "y"
        }
       ],
       "layout": {
        "font": {
         "color": "black"
        },
        "height": 400,
        "legend": {
         "font": {
          "size": 20
         },
         "title": {
          "text": "tag"
         },
         "tracegroupgap": 0
        },
        "margin": {
         "t": 60
        },
        "template": {
         "data": {
          "bar": [
           {
            "error_x": {
             "color": "#2a3f5f"
            },
            "error_y": {
             "color": "#2a3f5f"
            },
            "marker": {
             "line": {
              "color": "white",
              "width": 0.5
             }
            },
            "type": "bar"
           }
          ],
          "barpolar": [
           {
            "marker": {
             "line": {
              "color": "white",
              "width": 0.5
             }
            },
            "type": "barpolar"
           }
          ],
          "carpet": [
           {
            "aaxis": {
             "endlinecolor": "#2a3f5f",
             "gridcolor": "#C8D4E3",
             "linecolor": "#C8D4E3",
             "minorgridcolor": "#C8D4E3",
             "startlinecolor": "#2a3f5f"
            },
            "baxis": {
             "endlinecolor": "#2a3f5f",
             "gridcolor": "#C8D4E3",
             "linecolor": "#C8D4E3",
             "minorgridcolor": "#C8D4E3",
             "startlinecolor": "#2a3f5f"
            },
            "type": "carpet"
           }
          ],
          "choropleth": [
           {
            "colorbar": {
             "outlinewidth": 0,
             "ticks": ""
            },
            "type": "choropleth"
           }
          ],
          "contour": [
           {
            "colorbar": {
             "outlinewidth": 0,
             "ticks": ""
            },
            "colorscale": [
             [
              0,
              "#0d0887"
             ],
             [
              0.1111111111111111,
              "#46039f"
             ],
             [
              0.2222222222222222,
              "#7201a8"
             ],
             [
              0.3333333333333333,
              "#9c179e"
             ],
             [
              0.4444444444444444,
              "#bd3786"
             ],
             [
              0.5555555555555556,
              "#d8576b"
             ],
             [
              0.6666666666666666,
              "#ed7953"
             ],
             [
              0.7777777777777778,
              "#fb9f3a"
             ],
             [
              0.8888888888888888,
              "#fdca26"
             ],
             [
              1,
              "#f0f921"
             ]
            ],
            "type": "contour"
           }
          ],
          "contourcarpet": [
           {
            "colorbar": {
             "outlinewidth": 0,
             "ticks": ""
            },
            "type": "contourcarpet"
           }
          ],
          "heatmap": [
           {
            "colorbar": {
             "outlinewidth": 0,
             "ticks": ""
            },
            "colorscale": [
             [
              0,
              "#0d0887"
             ],
             [
              0.1111111111111111,
              "#46039f"
             ],
             [
              0.2222222222222222,
              "#7201a8"
             ],
             [
              0.3333333333333333,
              "#9c179e"
             ],
             [
              0.4444444444444444,
              "#bd3786"
             ],
             [
              0.5555555555555556,
              "#d8576b"
             ],
             [
              0.6666666666666666,
              "#ed7953"
             ],
             [
              0.7777777777777778,
              "#fb9f3a"
             ],
             [
              0.8888888888888888,
              "#fdca26"
             ],
             [
              1,
              "#f0f921"
             ]
            ],
            "type": "heatmap"
           }
          ],
          "heatmapgl": [
           {
            "colorbar": {
             "outlinewidth": 0,
             "ticks": ""
            },
            "colorscale": [
             [
              0,
              "#0d0887"
             ],
             [
              0.1111111111111111,
              "#46039f"
             ],
             [
              0.2222222222222222,
              "#7201a8"
             ],
             [
              0.3333333333333333,
              "#9c179e"
             ],
             [
              0.4444444444444444,
              "#bd3786"
             ],
             [
              0.5555555555555556,
              "#d8576b"
             ],
             [
              0.6666666666666666,
              "#ed7953"
             ],
             [
              0.7777777777777778,
              "#fb9f3a"
             ],
             [
              0.8888888888888888,
              "#fdca26"
             ],
             [
              1,
              "#f0f921"
             ]
            ],
            "type": "heatmapgl"
           }
          ],
          "histogram": [
           {
            "marker": {
             "colorbar": {
              "outlinewidth": 0,
              "ticks": ""
             }
            },
            "type": "histogram"
           }
          ],
          "histogram2d": [
           {
            "colorbar": {
             "outlinewidth": 0,
             "ticks": ""
            },
            "colorscale": [
             [
              0,
              "#0d0887"
             ],
             [
              0.1111111111111111,
              "#46039f"
             ],
             [
              0.2222222222222222,
              "#7201a8"
             ],
             [
              0.3333333333333333,
              "#9c179e"
             ],
             [
              0.4444444444444444,
              "#bd3786"
             ],
             [
              0.5555555555555556,
              "#d8576b"
             ],
             [
              0.6666666666666666,
              "#ed7953"
             ],
             [
              0.7777777777777778,
              "#fb9f3a"
             ],
             [
              0.8888888888888888,
              "#fdca26"
             ],
             [
              1,
              "#f0f921"
             ]
            ],
            "type": "histogram2d"
           }
          ],
          "histogram2dcontour": [
           {
            "colorbar": {
             "outlinewidth": 0,
             "ticks": ""
            },
            "colorscale": [
             [
              0,
              "#0d0887"
             ],
             [
              0.1111111111111111,
              "#46039f"
             ],
             [
              0.2222222222222222,
              "#7201a8"
             ],
             [
              0.3333333333333333,
              "#9c179e"
             ],
             [
              0.4444444444444444,
              "#bd3786"
             ],
             [
              0.5555555555555556,
              "#d8576b"
             ],
             [
              0.6666666666666666,
              "#ed7953"
             ],
             [
              0.7777777777777778,
              "#fb9f3a"
             ],
             [
              0.8888888888888888,
              "#fdca26"
             ],
             [
              1,
              "#f0f921"
             ]
            ],
            "type": "histogram2dcontour"
           }
          ],
          "mesh3d": [
           {
            "colorbar": {
             "outlinewidth": 0,
             "ticks": ""
            },
            "type": "mesh3d"
           }
          ],
          "parcoords": [
           {
            "line": {
             "colorbar": {
              "outlinewidth": 0,
              "ticks": ""
             }
            },
            "type": "parcoords"
           }
          ],
          "pie": [
           {
            "automargin": true,
            "type": "pie"
           }
          ],
          "scatter": [
           {
            "marker": {
             "colorbar": {
              "outlinewidth": 0,
              "ticks": ""
             }
            },
            "type": "scatter"
           }
          ],
          "scatter3d": [
           {
            "line": {
             "colorbar": {
              "outlinewidth": 0,
              "ticks": ""
             }
            },
            "marker": {
             "colorbar": {
              "outlinewidth": 0,
              "ticks": ""
             }
            },
            "type": "scatter3d"
           }
          ],
          "scattercarpet": [
           {
            "marker": {
             "colorbar": {
              "outlinewidth": 0,
              "ticks": ""
             }
            },
            "type": "scattercarpet"
           }
          ],
          "scattergeo": [
           {
            "marker": {
             "colorbar": {
              "outlinewidth": 0,
              "ticks": ""
             }
            },
            "type": "scattergeo"
           }
          ],
          "scattergl": [
           {
            "marker": {
             "colorbar": {
              "outlinewidth": 0,
              "ticks": ""
             }
            },
            "type": "scattergl"
           }
          ],
          "scattermapbox": [
           {
            "marker": {
             "colorbar": {
              "outlinewidth": 0,
              "ticks": ""
             }
            },
            "type": "scattermapbox"
           }
          ],
          "scatterpolar": [
           {
            "marker": {
             "colorbar": {
              "outlinewidth": 0,
              "ticks": ""
             }
            },
            "type": "scatterpolar"
           }
          ],
          "scatterpolargl": [
           {
            "marker": {
             "colorbar": {
              "outlinewidth": 0,
              "ticks": ""
             }
            },
            "type": "scatterpolargl"
           }
          ],
          "scatterternary": [
           {
            "marker": {
             "colorbar": {
              "outlinewidth": 0,
              "ticks": ""
             }
            },
            "type": "scatterternary"
           }
          ],
          "surface": [
           {
            "colorbar": {
             "outlinewidth": 0,
             "ticks": ""
            },
            "colorscale": [
             [
              0,
              "#0d0887"
             ],
             [
              0.1111111111111111,
              "#46039f"
             ],
             [
              0.2222222222222222,
              "#7201a8"
             ],
             [
              0.3333333333333333,
              "#9c179e"
             ],
             [
              0.4444444444444444,
              "#bd3786"
             ],
             [
              0.5555555555555556,
              "#d8576b"
             ],
             [
              0.6666666666666666,
              "#ed7953"
             ],
             [
              0.7777777777777778,
              "#fb9f3a"
             ],
             [
              0.8888888888888888,
              "#fdca26"
             ],
             [
              1,
              "#f0f921"
             ]
            ],
            "type": "surface"
           }
          ],
          "table": [
           {
            "cells": {
             "fill": {
              "color": "#EBF0F8"
             },
             "line": {
              "color": "white"
             }
            },
            "header": {
             "fill": {
              "color": "#C8D4E3"
             },
             "line": {
              "color": "white"
             }
            },
            "type": "table"
           }
          ]
         },
         "layout": {
          "annotationdefaults": {
           "arrowcolor": "#2a3f5f",
           "arrowhead": 0,
           "arrowwidth": 1
          },
          "coloraxis": {
           "colorbar": {
            "outlinewidth": 0,
            "ticks": ""
           }
          },
          "colorscale": {
           "diverging": [
            [
             0,
             "#8e0152"
            ],
            [
             0.1,
             "#c51b7d"
            ],
            [
             0.2,
             "#de77ae"
            ],
            [
             0.3,
             "#f1b6da"
            ],
            [
             0.4,
             "#fde0ef"
            ],
            [
             0.5,
             "#f7f7f7"
            ],
            [
             0.6,
             "#e6f5d0"
            ],
            [
             0.7,
             "#b8e186"
            ],
            [
             0.8,
             "#7fbc41"
            ],
            [
             0.9,
             "#4d9221"
            ],
            [
             1,
             "#276419"
            ]
           ],
           "sequential": [
            [
             0,
             "#0d0887"
            ],
            [
             0.1111111111111111,
             "#46039f"
            ],
            [
             0.2222222222222222,
             "#7201a8"
            ],
            [
             0.3333333333333333,
             "#9c179e"
            ],
            [
             0.4444444444444444,
             "#bd3786"
            ],
            [
             0.5555555555555556,
             "#d8576b"
            ],
            [
             0.6666666666666666,
             "#ed7953"
            ],
            [
             0.7777777777777778,
             "#fb9f3a"
            ],
            [
             0.8888888888888888,
             "#fdca26"
            ],
            [
             1,
             "#f0f921"
            ]
           ],
           "sequentialminus": [
            [
             0,
             "#0d0887"
            ],
            [
             0.1111111111111111,
             "#46039f"
            ],
            [
             0.2222222222222222,
             "#7201a8"
            ],
            [
             0.3333333333333333,
             "#9c179e"
            ],
            [
             0.4444444444444444,
             "#bd3786"
            ],
            [
             0.5555555555555556,
             "#d8576b"
            ],
            [
             0.6666666666666666,
             "#ed7953"
            ],
            [
             0.7777777777777778,
             "#fb9f3a"
            ],
            [
             0.8888888888888888,
             "#fdca26"
            ],
            [
             1,
             "#f0f921"
            ]
           ]
          },
          "colorway": [
           "#636efa",
           "#EF553B",
           "#00cc96",
           "#ab63fa",
           "#FFA15A",
           "#19d3f3",
           "#FF6692",
           "#B6E880",
           "#FF97FF",
           "#FECB52"
          ],
          "font": {
           "color": "#2a3f5f"
          },
          "geo": {
           "bgcolor": "white",
           "lakecolor": "white",
           "landcolor": "white",
           "showlakes": true,
           "showland": true,
           "subunitcolor": "#C8D4E3"
          },
          "hoverlabel": {
           "align": "left"
          },
          "hovermode": "closest",
          "mapbox": {
           "style": "light"
          },
          "paper_bgcolor": "white",
          "plot_bgcolor": "white",
          "polar": {
           "angularaxis": {
            "gridcolor": "#EBF0F8",
            "linecolor": "#EBF0F8",
            "ticks": ""
           },
           "bgcolor": "white",
           "radialaxis": {
            "gridcolor": "#EBF0F8",
            "linecolor": "#EBF0F8",
            "ticks": ""
           }
          },
          "scene": {
           "xaxis": {
            "backgroundcolor": "white",
            "gridcolor": "#DFE8F3",
            "gridwidth": 2,
            "linecolor": "#EBF0F8",
            "showbackground": true,
            "ticks": "",
            "zerolinecolor": "#EBF0F8"
           },
           "yaxis": {
            "backgroundcolor": "white",
            "gridcolor": "#DFE8F3",
            "gridwidth": 2,
            "linecolor": "#EBF0F8",
            "showbackground": true,
            "ticks": "",
            "zerolinecolor": "#EBF0F8"
           },
           "zaxis": {
            "backgroundcolor": "white",
            "gridcolor": "#DFE8F3",
            "gridwidth": 2,
            "linecolor": "#EBF0F8",
            "showbackground": true,
            "ticks": "",
            "zerolinecolor": "#EBF0F8"
           }
          },
          "shapedefaults": {
           "line": {
            "color": "#2a3f5f"
           }
          },
          "ternary": {
           "aaxis": {
            "gridcolor": "#DFE8F3",
            "linecolor": "#A2B1C6",
            "ticks": ""
           },
           "baxis": {
            "gridcolor": "#DFE8F3",
            "linecolor": "#A2B1C6",
            "ticks": ""
           },
           "bgcolor": "white",
           "caxis": {
            "gridcolor": "#DFE8F3",
            "linecolor": "#A2B1C6",
            "ticks": ""
           }
          },
          "title": {
           "x": 0.05
          },
          "xaxis": {
           "automargin": true,
           "gridcolor": "#EBF0F8",
           "linecolor": "#EBF0F8",
           "ticks": "",
           "title": {
            "standoff": 15
           },
           "zerolinecolor": "#EBF0F8",
           "zerolinewidth": 2
          },
          "yaxis": {
           "automargin": true,
           "gridcolor": "#EBF0F8",
           "linecolor": "#EBF0F8",
           "ticks": "",
           "title": {
            "standoff": 15
           },
           "zerolinecolor": "#EBF0F8",
           "zerolinewidth": 2
          }
         }
        },
        "title": {
         "text": "NEOFAC_O"
        },
        "width": 480,
        "xaxis": {
         "anchor": "y",
         "domain": [
          0,
          1
         ],
         "dtick": 0.2,
         "tickfont": {
          "size": 20
         },
         "title": {
          "font": {
           "size": 20
          },
          "text": "True"
         }
        },
        "yaxis": {
         "anchor": "x",
         "domain": [
          0,
          1
         ],
         "dtick": 0.2,
         "tickfont": {
          "size": 20
         },
         "title": {
          "font": {
           "size": 20
          },
          "text": "Predicted"
         }
        }
       }
      },
      "text/html": [
       "<div>\n",
       "        \n",
       "        \n",
       "            <div id=\"5f19c47d-8e15-4d8e-a11d-485e25ef3650\" class=\"plotly-graph-div\" style=\"height:400px; width:480px;\"></div>\n",
       "            <script type=\"text/javascript\">\n",
       "                require([\"plotly\"], function(Plotly) {\n",
       "                    window.PLOTLYENV=window.PLOTLYENV || {};\n",
       "                    \n",
       "                if (document.getElementById(\"5f19c47d-8e15-4d8e-a11d-485e25ef3650\")) {\n",
       "                    Plotly.newPlot(\n",
       "                        '5f19c47d-8e15-4d8e-a11d-485e25ef3650',\n",
       "                        [{\"hovertemplate\": \"tag=gru<br>true=%{x}<br>predicted=%{y}<extra></extra>\", \"legendgroup\": \"gru\", \"marker\": {\"color\": \"#636efa\", \"symbol\": \"circle\"}, \"mode\": \"markers\", \"name\": \"gru\", \"showlegend\": true, \"type\": \"scatter\", \"x\": [0.3448275923728943, 0.3103448152542114, 0.5517241358757019, 0.5862069129943848, 0.5517241358757019, 0.24137930572032928, 0.27586206793785095, 0.24137930572032928, 0.3448275923728943, 0.517241358757019, 0.7931034564971924, 0.48275861144065857, 0.48275861144065857, 0.27586206793785095, 0.48275861144065857, 0.24137930572032928, 0.27586206793785095, 0.1034482792019844, 0.6206896305084229, 0.4482758641242981, 0.517241358757019, 0.48275861144065857, 0.27586206793785095, 0.4482758641242981, 0.3103448152542114, 0.3448275923728943, 0.7931034564971924, 0.48275861144065857, 0.27586206793785095, 0.6206896305084229, 0.6206896305084229, 0.7586206793785095, 0.13793103396892548, 0.3448275923728943, 0.37931033968925476, 0.5862069129943848, 0.5862069129943848, 0.8620689511299133, 0.17241379618644714, 0.4482758641242981, 0.517241358757019, 0.24137930572032928, 0.3103448152542114, 0.5862069129943848, 0.6896551847457886, 0.13793103396892548, 0.2068965584039688, 0.517241358757019, 0.4482758641242981, 0.48275861144065857, 0.48275861144065857, 0.4482758641242981, 0.48275861144065857, 0.6551724076271057, 0.4137931168079376, 0.517241358757019, 0.2068965584039688, 0.6896551847457886, 0.6551724076271057, 0.37931033968925476, 0.4482758641242981, 0.3103448152542114, 0.17241379618644714, 0.4482758641242981, 0.2068965584039688, 0.517241358757019, 0.8620689511299133, 0.48275861144065857, 0.3103448152542114, 0.517241358757019, 0.48275861144065857, 0.5862069129943848, 0.48275861144065857, 0.3448275923728943, 0.7241379022598267, 0.517241358757019], \"xaxis\": \"x\", \"y\": [0.30937865376472473, 0.27792662382125854, 0.2735553979873657, 0.37684106826782227, 0.6612198352813721, 0.36414867639541626, 0.29410314559936523, 0.5157572031021118, 0.5704417824745178, 0.4571753144264221, 0.2560769319534302, 0.4241810142993927, 0.36877918243408203, 0.44044238328933716, 0.4484485685825348, 0.36207035183906555, 0.4887523353099823, 0.43793559074401855, 0.5630705952644348, 0.6454955339431763, 0.729515790939331, 0.420259028673172, 0.5940231680870056, 0.5036023259162903, 0.400958776473999, 0.3856390118598938, 0.5285278558731079, 0.431310772895813, 0.6581669449806213, 0.6280731558799744, 0.518882155418396, 0.3846944272518158, 0.29552996158599854, 0.35222941637039185, 0.6338722705841064, 0.5708125829696655, 0.4839714467525482, 0.5181756615638733, 0.4615890383720398, 0.5492037534713745, 0.537575364112854, 0.3481295704841614, 0.6971933841705322, 0.42040354013442993, 0.5512281060218811, 0.45967137813568115, 0.5237646698951721, 0.3942025303840637, 0.3353992700576782, 0.6422964334487915, 0.39011186361312866, 0.5453675985336304, 0.34090763330459595, 0.3897808790206909, 0.35563790798187256, 0.605743944644928, 0.49595972895622253, 0.6269680261611938, 0.19275854527950287, 0.4398743808269501, 0.7020026445388794, 0.5172257423400879, 0.24631300568580627, 0.33098065853118896, 0.28798240423202515, 0.47318407893180847, 0.5617613792419434, 0.5444267988204956, 0.43897539377212524, 0.6784215569496155, 0.4736669659614563, 0.5346501469612122, 0.5447978377342224, 0.5313791632652283, 0.38840362429618835, 0.489006906747818], \"yaxis\": \"y\"}, {\"hovertemplate\": \"<b>OLS trendline</b><br>predicted = 0.105369 * true + 0.421415<br>R<sup>2</sup>=0.023089<br><br>tag=gru<br>true=%{x}<br>predicted=%{y} <b>(trend)</b><extra></extra>\", \"legendgroup\": \"gru\", \"marker\": {\"color\": \"#636efa\", \"symbol\": \"circle\"}, \"mode\": \"lines\", \"name\": \"gru\", \"showlegend\": false, \"type\": \"scatter\", \"x\": [0.1034482792019844, 0.13793103396892548, 0.13793103396892548, 0.17241379618644714, 0.17241379618644714, 0.2068965584039688, 0.2068965584039688, 0.2068965584039688, 0.24137930572032928, 0.24137930572032928, 0.24137930572032928, 0.24137930572032928, 0.27586206793785095, 0.27586206793785095, 0.27586206793785095, 0.27586206793785095, 0.27586206793785095, 0.3103448152542114, 0.3103448152542114, 0.3103448152542114, 0.3103448152542114, 0.3103448152542114, 0.3448275923728943, 0.3448275923728943, 0.3448275923728943, 0.3448275923728943, 0.3448275923728943, 0.37931033968925476, 0.37931033968925476, 0.4137931168079376, 0.4482758641242981, 0.4482758641242981, 0.4482758641242981, 0.4482758641242981, 0.4482758641242981, 0.4482758641242981, 0.4482758641242981, 0.48275861144065857, 0.48275861144065857, 0.48275861144065857, 0.48275861144065857, 0.48275861144065857, 0.48275861144065857, 0.48275861144065857, 0.48275861144065857, 0.48275861144065857, 0.48275861144065857, 0.48275861144065857, 0.517241358757019, 0.517241358757019, 0.517241358757019, 0.517241358757019, 0.517241358757019, 0.517241358757019, 0.517241358757019, 0.517241358757019, 0.5517241358757019, 0.5517241358757019, 0.5862069129943848, 0.5862069129943848, 0.5862069129943848, 0.5862069129943848, 0.5862069129943848, 0.6206896305084229, 0.6206896305084229, 0.6206896305084229, 0.6551724076271057, 0.6551724076271057, 0.6896551847457886, 0.6896551847457886, 0.7241379022598267, 0.7586206793785095, 0.7931034564971924, 0.7931034564971924, 0.8620689511299133, 0.8620689511299133], \"xaxis\": \"x\", \"y\": [0.43231520419329933, 0.43594862735957624, 0.43594862735957624, 0.4395820513109155, 0.4395820513109155, 0.44321547526225474, 0.44321547526225474, 0.44321547526225474, 0.4468488976434693, 0.4468488976434693, 0.4468488976434693, 0.4468488976434693, 0.4504823215948085, 0.4504823215948085, 0.4504823215948085, 0.4504823215948085, 0.4504823215948085, 0.45411574397602306, 0.45411574397602306, 0.45411574397602306, 0.45411574397602306, 0.45411574397602306, 0.457749169497487, 0.457749169497487, 0.457749169497487, 0.457749169497487, 0.457749169497487, 0.46138259187870156, 0.46138259187870156, 0.46501601740016546, 0.46864943978138, 0.46864943978138, 0.46864943978138, 0.46864943978138, 0.46864943978138, 0.46864943978138, 0.46864943978138, 0.4722828621625946, 0.4722828621625946, 0.4722828621625946, 0.4722828621625946, 0.4722828621625946, 0.4722828621625946, 0.4722828621625946, 0.4722828621625946, 0.4722828621625946, 0.4722828621625946, 0.4722828621625946, 0.47591628454380913, 0.47591628454380913, 0.47591628454380913, 0.47591628454380913, 0.47591628454380913, 0.47591628454380913, 0.47591628454380913, 0.47591628454380913, 0.4795497100652731, 0.4795497100652731, 0.483183135586737, 0.483183135586737, 0.483183135586737, 0.483183135586737, 0.483183135586737, 0.4868165548277022, 0.4868165548277022, 0.4868165548277022, 0.4904499803491661, 0.4904499803491661, 0.49408340587063004, 0.49408340587063004, 0.4977168251115952, 0.5013502506330592, 0.504983676154523, 0.504983676154523, 0.5122505209169522, 0.5122505209169522], \"yaxis\": \"y\"}, {\"hovertemplate\": \"tag=ff<br>true=%{x}<br>predicted=%{y}<extra></extra>\", \"legendgroup\": \"ff\", \"marker\": {\"color\": \"#EF553B\", \"symbol\": \"circle\"}, \"mode\": \"markers\", \"name\": \"ff\", \"showlegend\": true, \"type\": \"scatter\", \"x\": [0.3448275923728943, 0.3103448152542114, 0.5517241358757019, 0.5862069129943848, 0.5517241358757019, 0.24137930572032928, 0.27586206793785095, 0.24137930572032928, 0.3448275923728943, 0.517241358757019, 0.7931034564971924, 0.48275861144065857, 0.48275861144065857, 0.27586206793785095, 0.48275861144065857, 0.24137930572032928, 0.27586206793785095, 0.1034482792019844, 0.6206896305084229, 0.4482758641242981, 0.517241358757019, 0.48275861144065857, 0.27586206793785095, 0.4482758641242981, 0.3103448152542114, 0.3448275923728943, 0.7931034564971924, 0.48275861144065857, 0.27586206793785095, 0.6206896305084229, 0.6206896305084229, 0.7586206793785095, 0.13793103396892548, 0.3448275923728943, 0.37931033968925476, 0.5862069129943848, 0.5862069129943848, 0.8620689511299133, 0.17241379618644714, 0.4482758641242981, 0.517241358757019, 0.24137930572032928, 0.3103448152542114, 0.5862069129943848, 0.6896551847457886, 0.13793103396892548, 0.2068965584039688, 0.517241358757019, 0.4482758641242981, 0.48275861144065857, 0.48275861144065857, 0.4482758641242981, 0.48275861144065857, 0.6551724076271057, 0.4137931168079376, 0.517241358757019, 0.2068965584039688, 0.6896551847457886, 0.6551724076271057, 0.37931033968925476, 0.4482758641242981, 0.3103448152542114, 0.17241379618644714, 0.4482758641242981, 0.2068965584039688, 0.517241358757019, 0.8620689511299133, 0.48275861144065857, 0.3103448152542114, 0.517241358757019, 0.48275861144065857, 0.5862069129943848, 0.48275861144065857, 0.3448275923728943, 0.7241379022598267, 0.517241358757019], \"xaxis\": \"x\", \"y\": [0.2545701265335083, 0.7964508533477783, 0.6521716713905334, 0.36065226793289185, 0.5449052453041077, 0.3169889748096466, 0.5113120079040527, 0.5274213552474976, 0.13397516310214996, 0.5275754332542419, 0.46687647700309753, 0.3019232153892517, 0.5629122257232666, 0.41530469059944153, 0.4744980037212372, 0.40558183193206787, 0.3603123128414154, 0.2570938766002655, 0.5186251401901245, 0.2721751630306244, 0.44306546449661255, 0.504698634147644, 0.41055580973625183, 0.43975552916526794, 0.6990945339202881, 0.6023333072662354, 0.500410795211792, 0.415103942155838, 0.3007623851299286, 0.7630688548088074, 0.45337507128715515, 0.46842390298843384, 0.3916110694408417, 0.35951876640319824, 0.42766284942626953, 0.3110898435115814, 0.3682135045528412, 0.5553558468818665, 0.430943101644516, 0.52112877368927, 0.39379069209098816, 0.4768625497817993, 0.3725071847438812, 0.4655672311782837, 0.5640935897827148, 0.36622291803359985, 0.6172860264778137, 0.46084657311439514, 0.3058346211910248, 0.36560550332069397, 0.4816896617412567, 0.3432391881942749, 0.525238037109375, 0.33844244480133057, 0.1904217153787613, 0.42344674468040466, 0.3326283395290375, 0.3973369896411896, 0.3319161534309387, 0.3710215091705322, 0.48107290267944336, 0.6085724234580994, 0.45410335063934326, 0.43295830488204956, 0.3295820355415344, 0.4766756296157837, 0.41457903385162354, 0.326700896024704, 0.3418084979057312, 0.3762982189655304, 0.45372098684310913, 0.4231550097465515, 0.2626831531524658, 0.5353716015815735, 0.7010797262191772, 0.3119492828845978], \"yaxis\": \"y\"}, {\"hovertemplate\": \"<b>OLS trendline</b><br>predicted = 0.124902 * true + 0.37924<br>R<sup>2</sup>=0.031760<br><br>tag=ff<br>true=%{x}<br>predicted=%{y} <b>(trend)</b><extra></extra>\", \"legendgroup\": \"ff\", \"marker\": {\"color\": \"#EF553B\", \"symbol\": \"circle\"}, \"mode\": \"lines\", \"name\": \"ff\", \"showlegend\": false, \"type\": \"scatter\", \"x\": [0.1034482792019844, 0.13793103396892548, 0.13793103396892548, 0.17241379618644714, 0.17241379618644714, 0.2068965584039688, 0.2068965584039688, 0.2068965584039688, 0.24137930572032928, 0.24137930572032928, 0.24137930572032928, 0.24137930572032928, 0.27586206793785095, 0.27586206793785095, 0.27586206793785095, 0.27586206793785095, 0.27586206793785095, 0.3103448152542114, 0.3103448152542114, 0.3103448152542114, 0.3103448152542114, 0.3103448152542114, 0.3448275923728943, 0.3448275923728943, 0.3448275923728943, 0.3448275923728943, 0.3448275923728943, 0.37931033968925476, 0.37931033968925476, 0.4137931168079376, 0.4482758641242981, 0.4482758641242981, 0.4482758641242981, 0.4482758641242981, 0.4482758641242981, 0.4482758641242981, 0.4482758641242981, 0.48275861144065857, 0.48275861144065857, 0.48275861144065857, 0.48275861144065857, 0.48275861144065857, 0.48275861144065857, 0.48275861144065857, 0.48275861144065857, 0.48275861144065857, 0.48275861144065857, 0.48275861144065857, 0.517241358757019, 0.517241358757019, 0.517241358757019, 0.517241358757019, 0.517241358757019, 0.517241358757019, 0.517241358757019, 0.517241358757019, 0.5517241358757019, 0.5517241358757019, 0.5862069129943848, 0.5862069129943848, 0.5862069129943848, 0.5862069129943848, 0.5862069129943848, 0.6206896305084229, 0.6206896305084229, 0.6206896305084229, 0.6551724076271057, 0.6551724076271057, 0.6896551847457886, 0.6896551847457886, 0.7241379022598267, 0.7586206793785095, 0.7931034564971924, 0.7931034564971924, 0.8620689511299133, 0.8620689511299133], \"xaxis\": \"x\", \"y\": [0.39216058266179726, 0.3964675500348332, 0.3964675500348332, 0.400774518338462, 0.400774518338462, 0.4050814866420908, 0.4050814866420908, 0.4050814866420908, 0.40938845308453375, 0.40938845308453375, 0.40938845308453375, 0.40938845308453375, 0.4136954213881626, 0.4136954213881626, 0.4136954213881626, 0.4136954213881626, 0.4136954213881626, 0.41800238783060556, 0.41800238783060556, 0.41800238783060556, 0.41800238783060556, 0.41800238783060556, 0.42230935799542024, 0.42230935799542024, 0.42230935799542024, 0.42230935799542024, 0.42230935799542024, 0.4266163244378632, 0.4266163244378632, 0.43092329460267786, 0.4352302610451208, 0.4352302610451208, 0.4352302610451208, 0.4352302610451208, 0.4352302610451208, 0.4352302610451208, 0.4352302610451208, 0.4395372274875638, 0.4395372274875638, 0.4395372274875638, 0.4395372274875638, 0.4395372274875638, 0.4395372274875638, 0.4395372274875638, 0.4395372274875638, 0.4395372274875638, 0.4395372274875638, 0.4395372274875638, 0.44384419393000674, 0.44384419393000674, 0.44384419393000674, 0.44384419393000674, 0.44384419393000674, 0.44384419393000674, 0.44384419393000674, 0.44384419393000674, 0.4481511640948214, 0.4481511640948214, 0.4524581342596361, 0.4524581342596361, 0.4524581342596361, 0.4524581342596361, 0.4524581342596361, 0.45676509697970735, 0.45676509697970735, 0.45676509697970735, 0.46107206714452204, 0.46107206714452204, 0.4653790373093367, 0.4653790373093367, 0.46968600002940797, 0.4739929701942226, 0.4782999403590373, 0.4782999403590373, 0.4869138732439232, 0.4869138732439232], \"yaxis\": \"y\"}, {\"hovertemplate\": \"tag=tcn<br>true=%{x}<br>predicted=%{y}<extra></extra>\", \"legendgroup\": \"tcn\", \"marker\": {\"color\": \"#00cc96\", \"symbol\": \"circle\"}, \"mode\": \"markers\", \"name\": \"tcn\", \"showlegend\": true, \"type\": \"scatter\", \"x\": [0.3448275923728943, 0.3103448152542114, 0.5517241358757019, 0.5862069129943848, 0.5517241358757019, 0.24137930572032928, 0.27586206793785095, 0.24137930572032928, 0.3448275923728943, 0.517241358757019, 0.7931034564971924, 0.48275861144065857, 0.48275861144065857, 0.27586206793785095, 0.48275861144065857, 0.24137930572032928, 0.27586206793785095, 0.1034482792019844, 0.6206896305084229, 0.4482758641242981, 0.517241358757019, 0.48275861144065857, 0.27586206793785095, 0.4482758641242981, 0.3103448152542114, 0.3448275923728943, 0.7931034564971924, 0.48275861144065857, 0.27586206793785095, 0.6206896305084229, 0.6206896305084229, 0.7586206793785095, 0.13793103396892548, 0.3448275923728943, 0.37931033968925476, 0.5862069129943848, 0.5862069129943848, 0.8620689511299133, 0.17241379618644714, 0.4482758641242981, 0.517241358757019, 0.24137930572032928, 0.3103448152542114, 0.5862069129943848, 0.6896551847457886, 0.13793103396892548, 0.2068965584039688, 0.517241358757019, 0.4482758641242981, 0.48275861144065857, 0.48275861144065857, 0.4482758641242981, 0.48275861144065857, 0.6551724076271057, 0.4137931168079376, 0.517241358757019, 0.2068965584039688, 0.6896551847457886, 0.6551724076271057, 0.37931033968925476, 0.4482758641242981, 0.3103448152542114, 0.17241379618644714, 0.4482758641242981, 0.2068965584039688, 0.517241358757019, 0.8620689511299133, 0.48275861144065857, 0.3103448152542114, 0.517241358757019, 0.48275861144065857, 0.5862069129943848, 0.48275861144065857, 0.3448275923728943, 0.7241379022598267, 0.517241358757019], \"xaxis\": \"x\", \"y\": [0.5033692121505737, 0.5809940099716187, 0.42101413011550903, 0.396106094121933, 0.42159298062324524, 0.30419808626174927, 0.11507996916770935, 0.2131928950548172, 0.40691977739334106, 0.44511285424232483, 0.43231943249702454, 0.49078425765037537, 0.4061717092990875, 0.42295923829078674, -0.03630436211824417, 0.31060758233070374, 0.3456608057022095, 0.03557378798723221, 0.748949408531189, 0.367722749710083, 0.45618441700935364, 0.37739428877830505, 0.5718188285827637, 0.6005151271820068, 0.2838919460773468, 0.3392135500907898, 0.5563026666641235, 0.28558409214019775, 0.2081686407327652, 0.5932525396347046, 0.41706040501594543, 0.3246498107910156, 0.24377785623073578, 0.29478132724761963, 0.39059168100357056, 0.5919413566589355, 0.4540860056877136, 0.6982743740081787, 0.2548251152038574, 0.32510480284690857, 0.5271457433700562, 0.6112680435180664, 0.365348756313324, 0.4749649167060852, 0.363086074590683, 0.4800620973110199, 0.5253515243530273, 0.30922725796699524, 0.5407087802886963, 0.3970002233982086, 0.37778469920158386, 0.44884055852890015, 0.4752391576766968, 0.2983991503715515, 0.09432213753461838, 0.6387375593185425, 0.5852152109146118, 0.45011812448501587, 0.4047500193119049, 0.2833264172077179, 0.47018417716026306, 0.34056058526039124, 0.3388553559780121, 0.45194217562675476, 0.2926841080188751, 0.421344518661499, 0.5222351551055908, 0.39289912581443787, 0.5093111991882324, 0.22952967882156372, 0.16391733288764954, 0.5480989217758179, 0.4593389332294464, 0.2408970594406128, 0.5531278848648071, 0.26873207092285156], \"yaxis\": \"y\"}, {\"hovertemplate\": \"<b>OLS trendline</b><br>predicted = 0.28781 * true + 0.271562<br>R<sup>2</sup>=0.120100<br><br>tag=tcn<br>true=%{x}<br>predicted=%{y} <b>(trend)</b><extra></extra>\", \"legendgroup\": \"tcn\", \"marker\": {\"color\": \"#00cc96\", \"symbol\": \"circle\"}, \"mode\": \"lines\", \"name\": \"tcn\", \"showlegend\": false, \"type\": \"scatter\", \"x\": [0.1034482792019844, 0.13793103396892548, 0.13793103396892548, 0.17241379618644714, 0.17241379618644714, 0.2068965584039688, 0.2068965584039688, 0.2068965584039688, 0.24137930572032928, 0.24137930572032928, 0.24137930572032928, 0.24137930572032928, 0.27586206793785095, 0.27586206793785095, 0.27586206793785095, 0.27586206793785095, 0.27586206793785095, 0.3103448152542114, 0.3103448152542114, 0.3103448152542114, 0.3103448152542114, 0.3103448152542114, 0.3448275923728943, 0.3448275923728943, 0.3448275923728943, 0.3448275923728943, 0.3448275923728943, 0.37931033968925476, 0.37931033968925476, 0.4137931168079376, 0.4482758641242981, 0.4482758641242981, 0.4482758641242981, 0.4482758641242981, 0.4482758641242981, 0.4482758641242981, 0.4482758641242981, 0.48275861144065857, 0.48275861144065857, 0.48275861144065857, 0.48275861144065857, 0.48275861144065857, 0.48275861144065857, 0.48275861144065857, 0.48275861144065857, 0.48275861144065857, 0.48275861144065857, 0.48275861144065857, 0.517241358757019, 0.517241358757019, 0.517241358757019, 0.517241358757019, 0.517241358757019, 0.517241358757019, 0.517241358757019, 0.517241358757019, 0.5517241358757019, 0.5517241358757019, 0.5862069129943848, 0.5862069129943848, 0.5862069129943848, 0.5862069129943848, 0.5862069129943848, 0.6206896305084229, 0.6206896305084229, 0.6206896305084229, 0.6551724076271057, 0.6551724076271057, 0.6896551847457886, 0.6896551847457886, 0.7241379022598267, 0.7586206793785095, 0.7931034564971924, 0.7931034564971924, 0.8620689511299133, 0.8620689511299133], \"xaxis\": \"x\", \"y\": [0.3013351520617191, 0.31125962768208726, 0.31125962768208726, 0.3211841054468057, 0.3211841054468057, 0.33110858321152414, 0.33110858321152414, 0.33110858321152414, 0.34103305668754197, 0.34103305668754197, 0.34103305668754197, 0.34103305668754197, 0.3509575344522604, 0.3509575344522604, 0.3509575344522604, 0.3509575344522604, 0.3509575344522604, 0.3608820079282783, 0.3608820079282783, 0.3608820079282783, 0.3608820079282783, 0.3608820079282783, 0.3708064899816973, 0.3708064899816973, 0.3708064899816973, 0.3708064899816973, 0.3708064899816973, 0.3807309634577152, 0.3807309634577152, 0.3906554455111342, 0.40057991898715206, 0.40057991898715206, 0.40057991898715206, 0.40057991898715206, 0.40057991898715206, 0.40057991898715206, 0.40057991898715206, 0.41050439246316983, 0.41050439246316983, 0.41050439246316983, 0.41050439246316983, 0.41050439246316983, 0.41050439246316983, 0.41050439246316983, 0.41050439246316983, 0.41050439246316983, 0.41050439246316983, 0.41050439246316983, 0.4204288659391877, 0.4204288659391877, 0.4204288659391877, 0.4204288659391877, 0.4204288659391877, 0.4204288659391877, 0.4204288659391877, 0.4204288659391877, 0.4303533479926067, 0.4303533479926067, 0.4402778300460258, 0.4402778300460258, 0.4402778300460258, 0.4402778300460258, 0.4402778300460258, 0.4502022949446424, 0.4502022949446424, 0.4502022949446424, 0.4601267769980615, 0.4601267769980615, 0.4700512590514805, 0.4700512590514805, 0.47997572395009713, 0.4899002060035162, 0.49982468805693525, 0.49982468805693525, 0.5196736350089709, 0.5196736350089709], \"yaxis\": \"y\"}, {\"hovertemplate\": \"tag=cpm<br>true=%{x}<br>predicted=%{y}<extra></extra>\", \"legendgroup\": \"cpm\", \"marker\": {\"color\": \"#ab63fa\", \"symbol\": \"circle\"}, \"mode\": \"markers\", \"name\": \"cpm\", \"showlegend\": true, \"type\": \"scatter\", \"x\": [0.3448275862068966, 0.3103448275862069, 0.5517241379310345, 0.5862068965517241, 0.5517241379310345, 0.2413793103448276, 0.27586206896551724, 0.2413793103448276, 0.3448275862068966, 0.5172413793103449, 0.7931034482758621, 0.4827586206896552, 0.4827586206896552, 0.27586206896551724, 0.4827586206896552, 0.2413793103448276, 0.27586206896551724, 0.10344827586206896, 0.6206896551724138, 0.4482758620689655, 0.5172413793103449, 0.4827586206896552, 0.27586206896551724, 0.4482758620689655, 0.3103448275862069, 0.3448275862068966, 0.7931034482758621, 0.4827586206896552, 0.27586206896551724, 0.6206896551724138, 0.6206896551724138, 0.7586206896551724, 0.13793103448275862, 0.3448275862068966, 0.3793103448275862, 0.5862068965517241, 0.5862068965517241, 0.8620689655172413, 0.1724137931034483, 0.4482758620689655, 0.5172413793103449, 0.2413793103448276, 0.3103448275862069, 0.5862068965517241, 0.6896551724137931, 0.13793103448275862, 0.20689655172413793, 0.5172413793103449, 0.4482758620689655, 0.4827586206896552, 0.4827586206896552, 0.4482758620689655, 0.4827586206896552, 0.6551724137931034, 0.41379310344827586, 0.5172413793103449, 0.20689655172413793, 0.6896551724137931, 0.6551724137931034, 0.3793103448275862, 0.4482758620689655, 0.3103448275862069, 0.1724137931034483, 0.4482758620689655, 0.20689655172413793, 0.5172413793103449, 0.8620689655172413, 0.4827586206896552, 0.3103448275862069, 0.5172413793103449, 0.4827586206896552, 0.5862068965517241, 0.4827586206896552, 0.3448275862068966, 0.7241379310344828, 0.5172413793103449], \"xaxis\": \"x\", \"y\": [0.5334314808664724, 0.20730038001796527, 0.6507922323442816, 0.48913731504777186, 0.6489186988670661, 0.28689305501783957, 0.4591918666781546, 0.5103360355209197, 0.5533288593012431, 0.5507090965941427, 0.632671862124387, 0.4174786328413061, 0.5971046596803391, 0.5458561847998129, 0.46616994662696815, 0.5732931443675806, 0.540901168370546, 0.5354010267215203, 0.3443344820547908, 0.5569724531699343, 0.5580074813604747, 0.6018183014265841, 0.47154148028341986, 0.5660339347603242, 0.4605515819912782, 0.5035102461597447, 0.55559340895265, 0.5509228665257506, 0.5325364794577652, 0.5897911853789165, 0.6442308916596287, 0.5781294713194158, 0.6545174893945138, 0.6253387925274407, 0.5415448017090689, 0.41576620851920704, 0.4193838248077154, 0.4769419011098853, 0.4629350509482481, 0.6609303350929738, 0.4222666430958251, 0.533824549478322, 0.5447576352694445, 0.46893736724073193, 0.5480537589835119, 0.43543227445453675, 0.7300409895098108, 0.6286543116254351, 0.6446193257681962, 0.6380109826973637, 0.43376741239024535, 0.6158402762284063, 0.4369647111707952, 0.44894549360533476, 0.4345663420716716, 0.46429695384969344, 0.3730833919132651, 0.47953768621249865, 0.5517117169535248, 0.5428298186352336, 0.5575737192191303, 0.4817351999945662, 0.3993605014159232, 0.6111437491681486, 0.22742665229092293, 0.5450396714874268, 0.6625916217246715, 0.5438277628290422, 0.6589518264326681, 0.47646421854667137, 0.5679365569321265, 0.4682312670188993, 0.5082440244233519, 0.4655103722262726, 0.6019522529456052, 0.3550132454260291], \"yaxis\": \"y\"}, {\"hovertemplate\": \"<b>OLS trendline</b><br>predicted = 0.1072 * true + 0.471335<br>R<sup>2</sup>=0.035910<br><br>tag=cpm<br>true=%{x}<br>predicted=%{y} <b>(trend)</b><extra></extra>\", \"legendgroup\": \"cpm\", \"marker\": {\"color\": \"#ab63fa\", \"symbol\": \"circle\"}, \"mode\": \"lines\", \"name\": \"cpm\", \"showlegend\": false, \"type\": \"scatter\", \"x\": [0.10344827586206896, 0.13793103448275862, 0.13793103448275862, 0.1724137931034483, 0.1724137931034483, 0.20689655172413793, 0.20689655172413793, 0.20689655172413793, 0.2413793103448276, 0.2413793103448276, 0.2413793103448276, 0.2413793103448276, 0.27586206896551724, 0.27586206896551724, 0.27586206896551724, 0.27586206896551724, 0.27586206896551724, 0.3103448275862069, 0.3103448275862069, 0.3103448275862069, 0.3103448275862069, 0.3103448275862069, 0.3448275862068966, 0.3448275862068966, 0.3448275862068966, 0.3448275862068966, 0.3448275862068966, 0.3793103448275862, 0.3793103448275862, 0.41379310344827586, 0.4482758620689655, 0.4482758620689655, 0.4482758620689655, 0.4482758620689655, 0.4482758620689655, 0.4482758620689655, 0.4482758620689655, 0.4827586206896552, 0.4827586206896552, 0.4827586206896552, 0.4827586206896552, 0.4827586206896552, 0.4827586206896552, 0.4827586206896552, 0.4827586206896552, 0.4827586206896552, 0.4827586206896552, 0.4827586206896552, 0.5172413793103449, 0.5172413793103449, 0.5172413793103449, 0.5172413793103449, 0.5172413793103449, 0.5172413793103449, 0.5172413793103449, 0.5172413793103449, 0.5517241379310345, 0.5517241379310345, 0.5862068965517241, 0.5862068965517241, 0.5862068965517241, 0.5862068965517241, 0.5862068965517241, 0.6206896551724138, 0.6206896551724138, 0.6206896551724138, 0.6551724137931034, 0.6551724137931034, 0.6896551724137931, 0.6896551724137931, 0.7241379310344828, 0.7586206896551724, 0.7931034482758621, 0.7931034482758621, 0.8620689655172413, 0.8620689655172413], \"xaxis\": \"x\", \"y\": [0.48242513354506483, 0.4861216939237881, 0.4861216939237881, 0.4898182543025114, 0.4898182543025114, 0.49351481468123465, 0.49351481468123465, 0.49351481468123465, 0.49721137505995794, 0.49721137505995794, 0.49721137505995794, 0.49721137505995794, 0.5009079354386812, 0.5009079354386812, 0.5009079354386812, 0.5009079354386812, 0.5009079354386812, 0.5046044958174045, 0.5046044958174045, 0.5046044958174045, 0.5046044958174045, 0.5046044958174045, 0.5083010561961278, 0.5083010561961278, 0.5083010561961278, 0.5083010561961278, 0.5083010561961278, 0.511997616574851, 0.511997616574851, 0.5156941769535743, 0.5193907373322976, 0.5193907373322976, 0.5193907373322976, 0.5193907373322976, 0.5193907373322976, 0.5193907373322976, 0.5193907373322976, 0.5230872977110208, 0.5230872977110208, 0.5230872977110208, 0.5230872977110208, 0.5230872977110208, 0.5230872977110208, 0.5230872977110208, 0.5230872977110208, 0.5230872977110208, 0.5230872977110208, 0.5230872977110208, 0.5267838580897442, 0.5267838580897442, 0.5267838580897442, 0.5267838580897442, 0.5267838580897442, 0.5267838580897442, 0.5267838580897442, 0.5267838580897442, 0.5304804184684674, 0.5304804184684674, 0.5341769788471906, 0.5341769788471906, 0.5341769788471906, 0.5341769788471906, 0.5341769788471906, 0.537873539225914, 0.537873539225914, 0.537873539225914, 0.5415700996046372, 0.5415700996046372, 0.5452666599833605, 0.5452666599833605, 0.5489632203620838, 0.552659780740807, 0.5563563411195304, 0.5563563411195304, 0.5637494618769768, 0.5637494618769768], \"yaxis\": \"y\"}],\n",
       "                        {\"font\": {\"color\": \"black\"}, \"height\": 400, \"legend\": {\"font\": {\"size\": 20}, \"title\": {\"text\": \"tag\"}, \"tracegroupgap\": 0}, \"margin\": {\"t\": 60}, \"template\": {\"data\": {\"bar\": [{\"error_x\": {\"color\": \"#2a3f5f\"}, \"error_y\": {\"color\": \"#2a3f5f\"}, \"marker\": {\"line\": {\"color\": \"white\", \"width\": 0.5}}, \"type\": \"bar\"}], \"barpolar\": [{\"marker\": {\"line\": {\"color\": \"white\", \"width\": 0.5}}, \"type\": \"barpolar\"}], \"carpet\": [{\"aaxis\": {\"endlinecolor\": \"#2a3f5f\", \"gridcolor\": \"#C8D4E3\", \"linecolor\": \"#C8D4E3\", \"minorgridcolor\": \"#C8D4E3\", \"startlinecolor\": \"#2a3f5f\"}, \"baxis\": {\"endlinecolor\": \"#2a3f5f\", \"gridcolor\": \"#C8D4E3\", \"linecolor\": \"#C8D4E3\", \"minorgridcolor\": \"#C8D4E3\", \"startlinecolor\": \"#2a3f5f\"}, \"type\": \"carpet\"}], \"choropleth\": [{\"colorbar\": {\"outlinewidth\": 0, \"ticks\": \"\"}, \"type\": \"choropleth\"}], \"contour\": [{\"colorbar\": {\"outlinewidth\": 0, \"ticks\": \"\"}, \"colorscale\": [[0.0, \"#0d0887\"], [0.1111111111111111, \"#46039f\"], [0.2222222222222222, \"#7201a8\"], [0.3333333333333333, \"#9c179e\"], [0.4444444444444444, \"#bd3786\"], [0.5555555555555556, \"#d8576b\"], [0.6666666666666666, \"#ed7953\"], [0.7777777777777778, \"#fb9f3a\"], [0.8888888888888888, \"#fdca26\"], [1.0, \"#f0f921\"]], \"type\": \"contour\"}], \"contourcarpet\": [{\"colorbar\": {\"outlinewidth\": 0, \"ticks\": \"\"}, \"type\": \"contourcarpet\"}], \"heatmap\": [{\"colorbar\": {\"outlinewidth\": 0, \"ticks\": \"\"}, \"colorscale\": [[0.0, \"#0d0887\"], [0.1111111111111111, \"#46039f\"], [0.2222222222222222, \"#7201a8\"], [0.3333333333333333, \"#9c179e\"], [0.4444444444444444, \"#bd3786\"], [0.5555555555555556, \"#d8576b\"], [0.6666666666666666, \"#ed7953\"], [0.7777777777777778, \"#fb9f3a\"], [0.8888888888888888, \"#fdca26\"], [1.0, \"#f0f921\"]], \"type\": \"heatmap\"}], \"heatmapgl\": [{\"colorbar\": {\"outlinewidth\": 0, \"ticks\": \"\"}, \"colorscale\": [[0.0, \"#0d0887\"], [0.1111111111111111, \"#46039f\"], [0.2222222222222222, \"#7201a8\"], [0.3333333333333333, \"#9c179e\"], [0.4444444444444444, \"#bd3786\"], [0.5555555555555556, \"#d8576b\"], [0.6666666666666666, \"#ed7953\"], [0.7777777777777778, \"#fb9f3a\"], [0.8888888888888888, \"#fdca26\"], [1.0, \"#f0f921\"]], \"type\": \"heatmapgl\"}], \"histogram\": [{\"marker\": {\"colorbar\": {\"outlinewidth\": 0, \"ticks\": \"\"}}, \"type\": \"histogram\"}], \"histogram2d\": [{\"colorbar\": {\"outlinewidth\": 0, \"ticks\": \"\"}, \"colorscale\": [[0.0, \"#0d0887\"], [0.1111111111111111, \"#46039f\"], [0.2222222222222222, \"#7201a8\"], [0.3333333333333333, \"#9c179e\"], [0.4444444444444444, \"#bd3786\"], [0.5555555555555556, \"#d8576b\"], [0.6666666666666666, \"#ed7953\"], [0.7777777777777778, \"#fb9f3a\"], [0.8888888888888888, \"#fdca26\"], [1.0, \"#f0f921\"]], \"type\": \"histogram2d\"}], \"histogram2dcontour\": [{\"colorbar\": {\"outlinewidth\": 0, \"ticks\": \"\"}, \"colorscale\": [[0.0, \"#0d0887\"], [0.1111111111111111, \"#46039f\"], [0.2222222222222222, \"#7201a8\"], [0.3333333333333333, \"#9c179e\"], [0.4444444444444444, \"#bd3786\"], [0.5555555555555556, \"#d8576b\"], [0.6666666666666666, \"#ed7953\"], [0.7777777777777778, \"#fb9f3a\"], [0.8888888888888888, \"#fdca26\"], [1.0, \"#f0f921\"]], \"type\": \"histogram2dcontour\"}], \"mesh3d\": [{\"colorbar\": {\"outlinewidth\": 0, \"ticks\": \"\"}, \"type\": \"mesh3d\"}], \"parcoords\": [{\"line\": {\"colorbar\": {\"outlinewidth\": 0, \"ticks\": \"\"}}, \"type\": \"parcoords\"}], \"pie\": [{\"automargin\": true, \"type\": \"pie\"}], \"scatter\": [{\"marker\": {\"colorbar\": {\"outlinewidth\": 0, \"ticks\": \"\"}}, \"type\": \"scatter\"}], \"scatter3d\": [{\"line\": {\"colorbar\": {\"outlinewidth\": 0, \"ticks\": \"\"}}, \"marker\": {\"colorbar\": {\"outlinewidth\": 0, \"ticks\": \"\"}}, \"type\": \"scatter3d\"}], \"scattercarpet\": [{\"marker\": {\"colorbar\": {\"outlinewidth\": 0, \"ticks\": \"\"}}, \"type\": \"scattercarpet\"}], \"scattergeo\": [{\"marker\": {\"colorbar\": {\"outlinewidth\": 0, \"ticks\": \"\"}}, \"type\": \"scattergeo\"}], \"scattergl\": [{\"marker\": {\"colorbar\": {\"outlinewidth\": 0, \"ticks\": \"\"}}, \"type\": \"scattergl\"}], \"scattermapbox\": [{\"marker\": {\"colorbar\": {\"outlinewidth\": 0, \"ticks\": \"\"}}, \"type\": \"scattermapbox\"}], \"scatterpolar\": [{\"marker\": {\"colorbar\": {\"outlinewidth\": 0, \"ticks\": \"\"}}, \"type\": \"scatterpolar\"}], \"scatterpolargl\": [{\"marker\": {\"colorbar\": {\"outlinewidth\": 0, \"ticks\": \"\"}}, \"type\": \"scatterpolargl\"}], \"scatterternary\": [{\"marker\": {\"colorbar\": {\"outlinewidth\": 0, \"ticks\": \"\"}}, \"type\": \"scatterternary\"}], \"surface\": [{\"colorbar\": {\"outlinewidth\": 0, \"ticks\": \"\"}, \"colorscale\": [[0.0, \"#0d0887\"], [0.1111111111111111, \"#46039f\"], [0.2222222222222222, \"#7201a8\"], [0.3333333333333333, \"#9c179e\"], [0.4444444444444444, \"#bd3786\"], [0.5555555555555556, \"#d8576b\"], [0.6666666666666666, \"#ed7953\"], [0.7777777777777778, \"#fb9f3a\"], [0.8888888888888888, \"#fdca26\"], [1.0, \"#f0f921\"]], \"type\": \"surface\"}], \"table\": [{\"cells\": {\"fill\": {\"color\": \"#EBF0F8\"}, \"line\": {\"color\": \"white\"}}, \"header\": {\"fill\": {\"color\": \"#C8D4E3\"}, \"line\": {\"color\": \"white\"}}, \"type\": \"table\"}]}, \"layout\": {\"annotationdefaults\": {\"arrowcolor\": \"#2a3f5f\", \"arrowhead\": 0, \"arrowwidth\": 1}, \"coloraxis\": {\"colorbar\": {\"outlinewidth\": 0, \"ticks\": \"\"}}, \"colorscale\": {\"diverging\": [[0, \"#8e0152\"], [0.1, \"#c51b7d\"], [0.2, \"#de77ae\"], [0.3, \"#f1b6da\"], [0.4, \"#fde0ef\"], [0.5, \"#f7f7f7\"], [0.6, \"#e6f5d0\"], [0.7, \"#b8e186\"], [0.8, \"#7fbc41\"], [0.9, \"#4d9221\"], [1, \"#276419\"]], \"sequential\": [[0.0, \"#0d0887\"], [0.1111111111111111, \"#46039f\"], [0.2222222222222222, \"#7201a8\"], [0.3333333333333333, \"#9c179e\"], [0.4444444444444444, \"#bd3786\"], [0.5555555555555556, \"#d8576b\"], [0.6666666666666666, \"#ed7953\"], [0.7777777777777778, \"#fb9f3a\"], [0.8888888888888888, \"#fdca26\"], [1.0, \"#f0f921\"]], \"sequentialminus\": [[0.0, \"#0d0887\"], [0.1111111111111111, \"#46039f\"], [0.2222222222222222, \"#7201a8\"], [0.3333333333333333, \"#9c179e\"], [0.4444444444444444, \"#bd3786\"], [0.5555555555555556, \"#d8576b\"], [0.6666666666666666, \"#ed7953\"], [0.7777777777777778, \"#fb9f3a\"], [0.8888888888888888, \"#fdca26\"], [1.0, \"#f0f921\"]]}, \"colorway\": [\"#636efa\", \"#EF553B\", \"#00cc96\", \"#ab63fa\", \"#FFA15A\", \"#19d3f3\", \"#FF6692\", \"#B6E880\", \"#FF97FF\", \"#FECB52\"], \"font\": {\"color\": \"#2a3f5f\"}, \"geo\": {\"bgcolor\": \"white\", \"lakecolor\": \"white\", \"landcolor\": \"white\", \"showlakes\": true, \"showland\": true, \"subunitcolor\": \"#C8D4E3\"}, \"hoverlabel\": {\"align\": \"left\"}, \"hovermode\": \"closest\", \"mapbox\": {\"style\": \"light\"}, \"paper_bgcolor\": \"white\", \"plot_bgcolor\": \"white\", \"polar\": {\"angularaxis\": {\"gridcolor\": \"#EBF0F8\", \"linecolor\": \"#EBF0F8\", \"ticks\": \"\"}, \"bgcolor\": \"white\", \"radialaxis\": {\"gridcolor\": \"#EBF0F8\", \"linecolor\": \"#EBF0F8\", \"ticks\": \"\"}}, \"scene\": {\"xaxis\": {\"backgroundcolor\": \"white\", \"gridcolor\": \"#DFE8F3\", \"gridwidth\": 2, \"linecolor\": \"#EBF0F8\", \"showbackground\": true, \"ticks\": \"\", \"zerolinecolor\": \"#EBF0F8\"}, \"yaxis\": {\"backgroundcolor\": \"white\", \"gridcolor\": \"#DFE8F3\", \"gridwidth\": 2, \"linecolor\": \"#EBF0F8\", \"showbackground\": true, \"ticks\": \"\", \"zerolinecolor\": \"#EBF0F8\"}, \"zaxis\": {\"backgroundcolor\": \"white\", \"gridcolor\": \"#DFE8F3\", \"gridwidth\": 2, \"linecolor\": \"#EBF0F8\", \"showbackground\": true, \"ticks\": \"\", \"zerolinecolor\": \"#EBF0F8\"}}, \"shapedefaults\": {\"line\": {\"color\": \"#2a3f5f\"}}, \"ternary\": {\"aaxis\": {\"gridcolor\": \"#DFE8F3\", \"linecolor\": \"#A2B1C6\", \"ticks\": \"\"}, \"baxis\": {\"gridcolor\": \"#DFE8F3\", \"linecolor\": \"#A2B1C6\", \"ticks\": \"\"}, \"bgcolor\": \"white\", \"caxis\": {\"gridcolor\": \"#DFE8F3\", \"linecolor\": \"#A2B1C6\", \"ticks\": \"\"}}, \"title\": {\"x\": 0.05}, \"xaxis\": {\"automargin\": true, \"gridcolor\": \"#EBF0F8\", \"linecolor\": \"#EBF0F8\", \"ticks\": \"\", \"title\": {\"standoff\": 15}, \"zerolinecolor\": \"#EBF0F8\", \"zerolinewidth\": 2}, \"yaxis\": {\"automargin\": true, \"gridcolor\": \"#EBF0F8\", \"linecolor\": \"#EBF0F8\", \"ticks\": \"\", \"title\": {\"standoff\": 15}, \"zerolinecolor\": \"#EBF0F8\", \"zerolinewidth\": 2}}}, \"title\": {\"text\": \"NEOFAC_O\"}, \"width\": 480, \"xaxis\": {\"anchor\": \"y\", \"domain\": [0.0, 1.0], \"dtick\": 0.2, \"tickfont\": {\"size\": 20}, \"title\": {\"font\": {\"size\": 20}, \"text\": \"True\"}}, \"yaxis\": {\"anchor\": \"x\", \"domain\": [0.0, 1.0], \"dtick\": 0.2, \"tickfont\": {\"size\": 20}, \"title\": {\"font\": {\"size\": 20}, \"text\": \"Predicted\"}}},\n",
       "                        {\"responsive\": true}\n",
       "                    ).then(function(){\n",
       "                            \n",
       "var gd = document.getElementById('5f19c47d-8e15-4d8e-a11d-485e25ef3650');\n",
       "var x = new MutationObserver(function (mutations, observer) {{\n",
       "        var display = window.getComputedStyle(gd).display;\n",
       "        if (!display || display === 'none') {{\n",
       "            console.log([gd, 'removed!']);\n",
       "            Plotly.purge(gd);\n",
       "            observer.disconnect();\n",
       "        }}\n",
       "}});\n",
       "\n",
       "// Listen for the removal of the full notebook cells\n",
       "var notebookContainer = gd.closest('#notebook-container');\n",
       "if (notebookContainer) {{\n",
       "    x.observe(notebookContainer, {childList: true});\n",
       "}}\n",
       "\n",
       "// Listen for the clearing of the current output cell\n",
       "var outputEl = gd.closest('.output');\n",
       "if (outputEl) {{\n",
       "    x.observe(outputEl, {childList: true});\n",
       "}}\n",
       "\n",
       "                        })\n",
       "                };\n",
       "                });\n",
       "            </script>\n",
       "        </div>"
      ]
     },
     "metadata": {},
     "output_type": "display_data"
    }
   ],
   "source": [
    "for bhv in select_bhv:\n",
    "    plot_y, plot_y_hat = [], []\n",
    "    plot_tag = []\n",
    "    for model in models:\n",
    "        plot_y += list(save_y[model][bhv])\n",
    "        plot_y_hat += list(save_y_hat[model][bhv])\n",
    "        k_sub = len(save_y[model][bhv])\n",
    "        plot_tag += [model]*k_sub\n",
    "\n",
    "    # df for px\n",
    "    df = pd.DataFrame(\n",
    "        {'true': plot_y, 'predicted': plot_y_hat,\n",
    "         'tag': plot_tag})\n",
    "    fig = px.scatter(df, x='true', y='predicted', \n",
    "                     color='tag', trendline='ols')\n",
    "    fig.update_layout(height=400, width=480,\n",
    "                      title_text=pretty_bhv[bhv],\n",
    "                      font_color='black',\n",
    "                      legend_font_size=20)\n",
    "    fig.update_xaxes(dtick=0.2, tickfont=dict(size=20),\n",
    "                     title=dict(text='True',\n",
    "                                font_size=20))\n",
    "    fig.update_yaxes(dtick=0.2, tickfont=dict(size=20),\n",
    "                     title=dict(text='Predicted',\n",
    "                                font_size=20))\n",
    "    fig.show()"
   ]
  },
  {
   "cell_type": "code",
   "execution_count": null,
   "metadata": {},
   "outputs": [],
   "source": []
  },
  {
   "cell_type": "code",
   "execution_count": null,
   "metadata": {},
   "outputs": [],
   "source": []
  }
 ],
 "metadata": {
  "kernelspec": {
   "display_name": "Python 3.6.9 (tensorflow)",
   "language": "python",
   "name": "tensorflow"
  },
  "language_info": {
   "codemirror_mode": {
    "name": "ipython",
    "version": 3
   },
   "file_extension": ".py",
   "mimetype": "text/x-python",
   "name": "python",
   "nbconvert_exporter": "python",
   "pygments_lexer": "ipython3",
   "version": "3.6.9"
  }
 },
 "nbformat": 4,
 "nbformat_minor": 4
}
